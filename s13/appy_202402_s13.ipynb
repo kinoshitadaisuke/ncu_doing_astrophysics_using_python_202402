{
  "nbformat": 4,
  "nbformat_minor": 0,
  "metadata": {
    "colab": {
      "provenance": []
    },
    "kernelspec": {
      "name": "python3",
      "display_name": "Python 3"
    },
    "language_info": {
      "name": "python"
    }
  },
  "cells": [
    {
      "cell_type": "markdown",
      "source": [
        "# Doing Astrophysics using Python\n",
        "\n",
        "- \"Doing Astrophysics using Python\"\n",
        "  - Instructor: Kinoshita Daisuke\n",
        "  - Classroom: S4-202\n",
        "  - Time: from 18:00 to 20:50 on Tuesday\n",
        "  - Semester: 2nd semester of academic year 2023\n",
        "    - from February 2024 to June 2024\n",
        "  - Course web page: https://s3b.astro.ncu.edu.tw/appy_202402/\n",
        "  - GitHub repository: https://github.com/kinoshitadaisuke/ncu_doing_astrophysics_using_python_202402\n"
      ],
      "metadata": {
        "id": "gGzI83b9PmnI"
      }
    },
    {
      "cell_type": "markdown",
      "source": [
        "# Session 12: \"Source extraction and image alignment of astronomical images\"\n",
        "\n",
        "## 14 May 2024\n",
        "\n",
        "## Instructor: Kinoshita Daisuke"
      ],
      "metadata": {
        "id": "Q7MvlbrC_tne"
      }
    },
    {
      "cell_type": "markdown",
      "source": [
        "# 0. Installation of Python interpreter"
      ],
      "metadata": {
        "id": "T_y7rto6Q5P8"
      }
    },
    {
      "cell_type": "code",
      "source": [
        "# Run this cell to install Python 3.12\n",
        "\n",
        "!apt update\n",
        "!apt upgrade\n",
        "!apt install python3.12 python3.12-dev python3.12-distutils libpython3.12-dev\n",
        "!update-alternatives --install /usr/bin/python3 python3 /usr/bin/python3.12 1\n",
        "!wget https://bootstrap.pypa.io/get-pip.py\n",
        "!python3.12 get-pip.py"
      ],
      "metadata": {
        "id": "MzmVLkC8QyGZ"
      },
      "execution_count": null,
      "outputs": []
    },
    {
      "cell_type": "code",
      "source": [
        "# Run this cell to check the version of Python interpreter and pip command\n",
        "\n",
        "!python --version\n",
        "!pip --version"
      ],
      "metadata": {
        "id": "Vx-JYTyp3NMU"
      },
      "execution_count": null,
      "outputs": []
    },
    {
      "cell_type": "code",
      "source": [
        "# Run this cell to install external Python packages.\n",
        "\n",
        "!pip install matplotlib numpy scipy astropy astroquery importlib_metadata photutils astroalign scikit-image"
      ],
      "metadata": {
        "id": "7V5dCLx5F9QU"
      },
      "execution_count": null,
      "outputs": []
    },
    {
      "cell_type": "markdown",
      "source": [
        "# 1. Downloading a set of sample Python scripts for this course"
      ],
      "metadata": {
        "id": "zvKZRFoF8A8k"
      }
    },
    {
      "cell_type": "code",
      "source": [
        "# Run this cell to download a set of sample Python scripts for this course.\n",
        "\n",
        "!git clone https://github.com/kinoshitadaisuke/ncu_doing_astrophysics_using_python_202402.git"
      ],
      "metadata": {
        "id": "itsUqwak4-z4"
      },
      "execution_count": null,
      "outputs": []
    },
    {
      "cell_type": "code",
      "source": [
        "# Run this cell to move to the directory for this session.\n",
        "\n",
        "%cd ncu_doing_astrophysics_using_python_202402/s13"
      ],
      "metadata": {
        "id": "bREyxIP08RZG"
      },
      "execution_count": null,
      "outputs": []
    },
    {
      "cell_type": "code",
      "source": [
        "# Run this cell to show a list of files for this session.\n",
        "\n",
        "!ls"
      ],
      "metadata": {
        "id": "fKxQ_X-D8dRN"
      },
      "execution_count": null,
      "outputs": []
    },
    {
      "cell_type": "markdown",
      "source": [
        "# 2. Making a synthetic image"
      ],
      "metadata": {
        "id": "yIZYkaG8BFje"
      }
    },
    {
      "cell_type": "markdown",
      "source": [
        "## 2.1 Installation of \"photutils\" package\n",
        "\n",
        "Visit following web page and learn about \"photutils\".\n",
        "\n",
        "https://photutils.readthedocs.io/"
      ],
      "metadata": {
        "id": "nf7ONCZ-BHsO"
      }
    },
    {
      "cell_type": "markdown",
      "source": [
        "## 2.2 Making a sky background image"
      ],
      "metadata": {
        "id": "rae7hljtBaRD"
      }
    },
    {
      "cell_type": "code",
      "source": [
        "# Run this cell to show the source code of the script.\n",
        "\n",
        "!cat appy_s13_00_00.py"
      ],
      "metadata": {
        "id": "RmH17cccBHLU"
      },
      "execution_count": null,
      "outputs": []
    },
    {
      "cell_type": "code",
      "source": [
        "# Run this cell to execute the script.\n",
        "\n",
        "!python3.12 appy_s13_00_00.py -h"
      ],
      "metadata": {
        "id": "aaU_5CE9Bhls"
      },
      "execution_count": null,
      "outputs": []
    },
    {
      "cell_type": "code",
      "source": [
        "# Run this cell to execute the script.\n",
        "\n",
        "!python3.12 appy_s13_00_00.py -b 3000 -s 50 -x 1024 -y 1024 -o synthetic_skybg.fits"
      ],
      "metadata": {
        "id": "dRh7Zvu_BpEZ"
      },
      "execution_count": null,
      "outputs": []
    },
    {
      "cell_type": "markdown",
      "source": [
        "## 2.3 Printing the header part of a FITS file"
      ],
      "metadata": {
        "id": "_Hgw6FwhB5zv"
      }
    },
    {
      "cell_type": "code",
      "source": [
        "# Run this cell to show the source code of the script.\n",
        "\n",
        "!cat appy_s13_00_01.py"
      ],
      "metadata": {
        "id": "JXO6DQ43CGg3"
      },
      "execution_count": null,
      "outputs": []
    },
    {
      "cell_type": "code",
      "source": [
        "# Run this cell to execute the script.\n",
        "\n",
        "!python3.12 appy_s13_00_01.py -h"
      ],
      "metadata": {
        "id": "NTph3vczCGhH"
      },
      "execution_count": null,
      "outputs": []
    },
    {
      "cell_type": "code",
      "source": [
        "# Run this cell to execute the script.\n",
        "\n",
        "!python3.12 appy_s13_00_01.py synthetic_skybg.fits"
      ],
      "metadata": {
        "id": "eDiziTGrCGhJ"
      },
      "execution_count": null,
      "outputs": []
    },
    {
      "cell_type": "markdown",
      "source": [
        "## 2.4 Examining pixel values of a FITS file"
      ],
      "metadata": {
        "id": "okLoweHACNkM"
      }
    },
    {
      "cell_type": "code",
      "source": [
        "# Run this cell to show the source code of the script.\n",
        "\n",
        "!cat appy_s13_00_02.py"
      ],
      "metadata": {
        "id": "gQ8DYhoXCR8Y"
      },
      "execution_count": null,
      "outputs": []
    },
    {
      "cell_type": "code",
      "source": [
        "# Run this cell to execute the script.\n",
        "\n",
        "!python3.12 appy_s13_00_02.py -h"
      ],
      "metadata": {
        "id": "bpoDCNA-CR8p"
      },
      "execution_count": null,
      "outputs": []
    },
    {
      "cell_type": "code",
      "source": [
        "# Run this cell to execute the script.\n",
        "\n",
        "!python3.12 appy_s13_00_02.py synthetic_skybg.fits"
      ],
      "metadata": {
        "id": "peOTaTKaCR8r"
      },
      "execution_count": null,
      "outputs": []
    },
    {
      "cell_type": "markdown",
      "source": [
        "## 2.5 Visualising a FITS file"
      ],
      "metadata": {
        "id": "ZaGgw47BCWSL"
      }
    },
    {
      "cell_type": "code",
      "source": [
        "# Run this cell to show the source code of the script.\n",
        "\n",
        "!cat appy_s13_00_03.py"
      ],
      "metadata": {
        "id": "Yrx9KKrICZzX"
      },
      "execution_count": null,
      "outputs": []
    },
    {
      "cell_type": "code",
      "source": [
        "# Run this cell to execute the script.\n",
        "\n",
        "!python3.12 appy_s13_00_03.py -h"
      ],
      "metadata": {
        "id": "d418UBV-CZzZ"
      },
      "execution_count": null,
      "outputs": []
    },
    {
      "cell_type": "code",
      "source": [
        "# Run this cell to execute the script.\n",
        "\n",
        "!python3.12 appy_s13_00_03.py -i synthetic_skybg.fits -o synthetic_skybg.png -c hot -t \"synthetic sky background image\""
      ],
      "metadata": {
        "id": "GtWFXTJZCZzb"
      },
      "execution_count": null,
      "outputs": []
    },
    {
      "cell_type": "code",
      "source": [
        "# Run this cell to display PNG file.\n",
        "\n",
        "# importing IPython module\n",
        "import IPython.display\n",
        "\n",
        "# displaying PNG file\n",
        "IPython.display.Image ('synthetic_skybg.png')"
      ],
      "metadata": {
        "id": "-M9-UUXKBlz3"
      },
      "execution_count": null,
      "outputs": []
    },
    {
      "cell_type": "markdown",
      "source": [
        "## 2.6 Making a synthetic image with artificial stars"
      ],
      "metadata": {
        "id": "fX5ULgX4CvBU"
      }
    },
    {
      "cell_type": "code",
      "source": [
        "# Run this cell to show the source code of the script.\n",
        "\n",
        "!cat appy_s13_00_04.py"
      ],
      "metadata": {
        "id": "Z8I_mOUZC1pn"
      },
      "execution_count": null,
      "outputs": []
    },
    {
      "cell_type": "code",
      "source": [
        "# Run this cell to execute the script.\n",
        "\n",
        "!python3.12 appy_s13_00_04.py -h"
      ],
      "metadata": {
        "id": "zGTOuTgKC1pr"
      },
      "execution_count": null,
      "outputs": []
    },
    {
      "cell_type": "code",
      "source": [
        "# Run this cell to execute the script.\n",
        "\n",
        "!python3.12 appy_s13_00_04.py -b 3000 -s 50 -n 300 -f 50000 -p 4 -x 1024 -y 1024 -o synthetic_star.fits"
      ],
      "metadata": {
        "id": "hoqjthfAC1pv"
      },
      "execution_count": null,
      "outputs": []
    },
    {
      "cell_type": "code",
      "source": [
        "# Run this cell to execute the script.\n",
        "\n",
        "!python3.12 appy_s13_00_03.py -i synthetic_star.fits -o synthetic_star.png -c bone -t \"synthetic image with stars\""
      ],
      "metadata": {
        "id": "_2kD-PAcDHF3"
      },
      "execution_count": null,
      "outputs": []
    },
    {
      "cell_type": "code",
      "source": [
        "# Run this cell to display PNG file.\n",
        "\n",
        "# importing IPython module\n",
        "import IPython.display\n",
        "\n",
        "# displaying PNG file\n",
        "IPython.display.Image ('synthetic_star.png')"
      ],
      "metadata": {
        "id": "ElV3IIorDHGB"
      },
      "execution_count": null,
      "outputs": []
    },
    {
      "cell_type": "markdown",
      "source": [
        "## 2.7 Making a synthetic image with artificial stars and galaxies"
      ],
      "metadata": {
        "id": "9HgjXv6qDUPH"
      }
    },
    {
      "cell_type": "code",
      "source": [
        "# Run this cell to show the source code of the script.\n",
        "\n",
        "!cat appy_s13_00_05.py"
      ],
      "metadata": {
        "id": "vXuD6vYpDcCZ"
      },
      "execution_count": null,
      "outputs": []
    },
    {
      "cell_type": "code",
      "source": [
        "# Run this cell to execute the script.\n",
        "\n",
        "!python3.12 appy_s13_00_05.py -h"
      ],
      "metadata": {
        "id": "Ze106CBPDcCf"
      },
      "execution_count": null,
      "outputs": []
    },
    {
      "cell_type": "code",
      "source": [
        "# Run this cell to execute the script.\n",
        "\n",
        "!python3.12 appy_s13_00_05.py -s 3000 -e 50 -n 200 -g 30 -l synthetic_star_gal.log -o synthetic_star_gal.fits"
      ],
      "metadata": {
        "id": "krmrTEdGDcCi"
      },
      "execution_count": null,
      "outputs": []
    },
    {
      "cell_type": "code",
      "source": [
        "# Run this cell to execute the script.\n",
        "\n",
        "!python3.12 appy_s13_00_03.py -i synthetic_star_gal.fits -o synthetic_star_gal.png -c viridis -t \"synthetic image with stars and galaxies\""
      ],
      "metadata": {
        "id": "7DYuLpW0Don2"
      },
      "execution_count": null,
      "outputs": []
    },
    {
      "cell_type": "code",
      "source": [
        "# Run this cell to display PNG file.\n",
        "\n",
        "# importing IPython module\n",
        "import IPython.display\n",
        "\n",
        "# displaying PNG file\n",
        "IPython.display.Image ('synthetic_star_gal.png')"
      ],
      "metadata": {
        "id": "SaiuMsNdDon3"
      },
      "execution_count": null,
      "outputs": []
    },
    {
      "cell_type": "markdown",
      "source": [
        "# 3. Estimating sky background level"
      ],
      "metadata": {
        "id": "oR9_I5tuD00d"
      }
    },
    {
      "cell_type": "markdown",
      "source": [
        "## 3.1 Estimating 1-D sky background value"
      ],
      "metadata": {
        "id": "awCd4zDPD3qL"
      }
    },
    {
      "cell_type": "code",
      "source": [
        "# Run this cell to show the source code of the script.\n",
        "\n",
        "!cat appy_s13_01_00.py"
      ],
      "metadata": {
        "id": "BToFXMerEFuY"
      },
      "execution_count": null,
      "outputs": []
    },
    {
      "cell_type": "code",
      "source": [
        "# Run this cell to execute the script.\n",
        "\n",
        "!python3.12 appy_s13_01_00.py -h"
      ],
      "metadata": {
        "id": "JMKrDpo1EFuo"
      },
      "execution_count": null,
      "outputs": []
    },
    {
      "cell_type": "code",
      "source": [
        "# Run this cell to execute the script.\n",
        "\n",
        "!python3.12 appy_s13_01_00.py -i synthetic_star_gal.fits -o synthetic_star_gal_masked.fits"
      ],
      "metadata": {
        "id": "TI_6OAJIEFuq"
      },
      "execution_count": null,
      "outputs": []
    },
    {
      "cell_type": "code",
      "source": [
        "# Run this cell to execute the script.\n",
        "\n",
        "!python3.12 appy_s13_00_01.py synthetic_star_gal_masked.fits"
      ],
      "metadata": {
        "id": "Sf84_qrVET6z"
      },
      "execution_count": null,
      "outputs": []
    },
    {
      "cell_type": "code",
      "source": [
        "# Run this cell to execute the script.\n",
        "\n",
        "!python3.12 appy_s13_00_03.py -i synthetic_star_gal_masked.fits -o synthetic_star_gal_masked.png -t 'masking stars and galaxies'"
      ],
      "metadata": {
        "id": "-tNpv7rsEiv0"
      },
      "execution_count": null,
      "outputs": []
    },
    {
      "cell_type": "code",
      "source": [
        "# Run this cell to display PNG file.\n",
        "\n",
        "# importing IPython module\n",
        "import IPython.display\n",
        "\n",
        "# displaying PNG file\n",
        "IPython.display.Image ('synthetic_star_gal_masked.png')"
      ],
      "metadata": {
        "id": "gCNvhmhUEiv5"
      },
      "execution_count": null,
      "outputs": []
    },
    {
      "cell_type": "code",
      "source": [
        "# Run this cell to show the source code of the script.\n",
        "\n",
        "!cat appy_s13_01_01.py"
      ],
      "metadata": {
        "id": "Y0khOKZ9E7xD"
      },
      "execution_count": null,
      "outputs": []
    },
    {
      "cell_type": "code",
      "source": [
        "# Run this cell to execute the script.\n",
        "\n",
        "!python3.12 appy_s13_01_01.py -h"
      ],
      "metadata": {
        "id": "wDmVCzyVE7xP"
      },
      "execution_count": null,
      "outputs": []
    },
    {
      "cell_type": "code",
      "source": [
        "# Run this cell to execute the script.\n",
        "\n",
        "!python3.12 appy_s13_01_01.py -i synthetic_star_gal.fits"
      ],
      "metadata": {
        "id": "hJSxYr83E7xR"
      },
      "execution_count": null,
      "outputs": []
    },
    {
      "cell_type": "markdown",
      "source": [
        "## 3.2 Making 2-D sky background map"
      ],
      "metadata": {
        "id": "0p4-o4JgFLYE"
      }
    },
    {
      "cell_type": "code",
      "source": [
        "# Run this cell to show the source code of the script.\n",
        "\n",
        "!cat appy_s13_01_02.py"
      ],
      "metadata": {
        "id": "yl0nslXrFQVh"
      },
      "execution_count": null,
      "outputs": []
    },
    {
      "cell_type": "code",
      "source": [
        "# Run this cell to execute the script.\n",
        "\n",
        "!python3.12 appy_s13_01_02.py -h"
      ],
      "metadata": {
        "id": "37P7GolDFQVl"
      },
      "execution_count": null,
      "outputs": []
    },
    {
      "cell_type": "code",
      "source": [
        "# Run this cell to execute the script.\n",
        "\n",
        "!python3.12 appy_s13_01_02.py -i synthetic_star_gal.fits -o synthetic_star_gal_skybg.fits -b 100"
      ],
      "metadata": {
        "id": "GBIeDcslFQVn"
      },
      "execution_count": null,
      "outputs": []
    },
    {
      "cell_type": "code",
      "source": [
        "# Run this cell to execute the script.\n",
        "\n",
        "!python3.12 appy_s13_00_03.py -i synthetic_star_gal_skybg.fits -o synthetic_star_gal_skybg.png"
      ],
      "metadata": {
        "id": "Ii2KCpPOFdj0"
      },
      "execution_count": null,
      "outputs": []
    },
    {
      "cell_type": "code",
      "source": [
        "# Run this cell to display PNG file.\n",
        "\n",
        "# importing IPython module\n",
        "import IPython.display\n",
        "\n",
        "# displaying PNG file\n",
        "IPython.display.Image ('synthetic_star_gal_skybg.png')"
      ],
      "metadata": {
        "id": "YCk7eU0vFmhT"
      },
      "execution_count": null,
      "outputs": []
    },
    {
      "cell_type": "code",
      "source": [
        "# Run this cell to show the source code of the script.\n",
        "\n",
        "!cat appy_s13_01_03.py"
      ],
      "metadata": {
        "id": "avzH9J7LFvb0"
      },
      "execution_count": null,
      "outputs": []
    },
    {
      "cell_type": "code",
      "source": [
        "# Run this cell to execute the script.\n",
        "\n",
        "!python3.12 appy_s13_01_03.py -h"
      ],
      "metadata": {
        "id": "OSwb7rstFvcD"
      },
      "execution_count": null,
      "outputs": []
    },
    {
      "cell_type": "code",
      "source": [
        "# Run this cell to execute the script.\n",
        "\n",
        "!python3.12 appy_s13_01_03.py -i synthetic_star_gal.fits -o synthetic_star_gal_skysub.fits -b 100"
      ],
      "metadata": {
        "id": "cQg5Gpc8FvcG"
      },
      "execution_count": null,
      "outputs": []
    },
    {
      "cell_type": "code",
      "source": [
        "# Run this cell to execute the script.\n",
        "\n",
        "!python3.12 appy_s13_00_01.py synthetic_star_gal_skysub.fits"
      ],
      "metadata": {
        "id": "3bvWg_AVGGk7"
      },
      "execution_count": null,
      "outputs": []
    },
    {
      "cell_type": "code",
      "source": [
        "# Run this cell to execute the script.\n",
        "\n",
        "!python3.12 appy_s13_00_03.py -i synthetic_star_gal_skysub.fits -o synthetic_star_gal_skysub.png"
      ],
      "metadata": {
        "id": "sM2ZeZilF9E2"
      },
      "execution_count": null,
      "outputs": []
    },
    {
      "cell_type": "code",
      "source": [
        "# Run this cell to display PNG file.\n",
        "\n",
        "# importing IPython module\n",
        "import IPython.display\n",
        "\n",
        "# displaying PNG file\n",
        "IPython.display.Image ('synthetic_star_gal_skysub.png')"
      ],
      "metadata": {
        "id": "Z16EthWZF9E7"
      },
      "execution_count": null,
      "outputs": []
    },
    {
      "cell_type": "markdown",
      "source": [
        "# 4. Source extraction"
      ],
      "metadata": {
        "id": "-MhLifAGGUvQ"
      }
    },
    {
      "cell_type": "markdown",
      "source": [
        "## 4.1 Detecting sources using image segmentation"
      ],
      "metadata": {
        "id": "3_eIH97GGWx_"
      }
    },
    {
      "cell_type": "code",
      "source": [
        "# Run this cell to show the source code of the script.\n",
        "\n",
        "!cat appy_s13_02_00.py"
      ],
      "metadata": {
        "id": "7GCA7RtaGcyr"
      },
      "execution_count": null,
      "outputs": []
    },
    {
      "cell_type": "code",
      "source": [
        "# Run this cell to execute the script.\n",
        "\n",
        "!python3.12 appy_s13_02_00.py -h"
      ],
      "metadata": {
        "id": "4M_GBfaDGcyu"
      },
      "execution_count": null,
      "outputs": []
    },
    {
      "cell_type": "code",
      "source": [
        "# Run this cell to execute the script.\n",
        "\n",
        "!python3.12 appy_s13_02_00.py -i synthetic_star_gal.fits -o synthetic_star_gal_segm.png"
      ],
      "metadata": {
        "id": "a3nlwHpaGcyz"
      },
      "execution_count": null,
      "outputs": []
    },
    {
      "cell_type": "code",
      "source": [
        "# Run this cell to display PNG file.\n",
        "\n",
        "# importing IPython module\n",
        "import IPython.display\n",
        "\n",
        "# displaying PNG file\n",
        "IPython.display.Image ('synthetic_star_gal_segm.png')"
      ],
      "metadata": {
        "id": "jJrc6NEMG4KM"
      },
      "execution_count": null,
      "outputs": []
    },
    {
      "cell_type": "markdown",
      "source": [
        "## 4.2 De-blending"
      ],
      "metadata": {
        "id": "JGcv1OnTHBIg"
      }
    },
    {
      "cell_type": "code",
      "source": [
        "# Run this cell to show the source code of the script.\n",
        "\n",
        "!cat appy_s13_02_01.py"
      ],
      "metadata": {
        "id": "RfUyBxRTHG5I"
      },
      "execution_count": null,
      "outputs": []
    },
    {
      "cell_type": "code",
      "source": [
        "# Run this cell to execute the script.\n",
        "\n",
        "!python3.12 appy_s13_02_01.py -h"
      ],
      "metadata": {
        "id": "sgihtzvnHG5S"
      },
      "execution_count": null,
      "outputs": []
    },
    {
      "cell_type": "code",
      "source": [
        "# Run this cell to execute the script.\n",
        "\n",
        "!python3.12 appy_s13_02_01.py -i synthetic_star_gal.fits -o synthetic_star_gal_deblend.png"
      ],
      "metadata": {
        "id": "Fj1VbKI_HG5U"
      },
      "execution_count": null,
      "outputs": []
    },
    {
      "cell_type": "code",
      "source": [
        "# Run this cell to display PNG file.\n",
        "\n",
        "# importing IPython module\n",
        "import IPython.display\n",
        "\n",
        "# displaying PNG file\n",
        "IPython.display.Image ('synthetic_star_gal_deblend.png')"
      ],
      "metadata": {
        "id": "SEmsHlYcHG5W"
      },
      "execution_count": null,
      "outputs": []
    },
    {
      "cell_type": "markdown",
      "source": [
        "## 4.3 Making a source catalogue"
      ],
      "metadata": {
        "id": "st_p5kPTHU0P"
      }
    },
    {
      "cell_type": "code",
      "source": [
        "# Run this cell to show the source code of the script.\n",
        "\n",
        "!cat appy_s13_02_02.py"
      ],
      "metadata": {
        "id": "PLjM-nQaHbdr"
      },
      "execution_count": null,
      "outputs": []
    },
    {
      "cell_type": "code",
      "source": [
        "# Run this cell to execute the script.\n",
        "\n",
        "!python3.12 appy_s13_02_02.py -h"
      ],
      "metadata": {
        "id": "uIn3hDjTHbd9"
      },
      "execution_count": null,
      "outputs": []
    },
    {
      "cell_type": "code",
      "source": [
        "# Run this cell to execute the script.\n",
        "\n",
        "!python3.12 appy_s13_02_02.py -i synthetic_star_gal.fits -o synthetic_star_gal.cat"
      ],
      "metadata": {
        "id": "vUaOXcaFHbd9"
      },
      "execution_count": null,
      "outputs": []
    },
    {
      "cell_type": "code",
      "source": [
        "# Run this cell to find newly created file.\n",
        "\n",
        "!ls -lF *.cat"
      ],
      "metadata": {
        "id": "2nmFciYxCrIv"
      },
      "execution_count": null,
      "outputs": []
    },
    {
      "cell_type": "code",
      "source": [
        "# Run this cell to show first 20 lines of newly created file.\n",
        "\n",
        "!head -20 synthetic_star_gal.cat"
      ],
      "metadata": {
        "id": "qyopYE_lHoH7"
      },
      "execution_count": null,
      "outputs": []
    },
    {
      "cell_type": "markdown",
      "source": [
        "## 4.4 Reading a source catalogue file"
      ],
      "metadata": {
        "id": "xhomUOoOH0K4"
      }
    },
    {
      "cell_type": "code",
      "source": [
        "# Run this cell to show the source code of the script.\n",
        "\n",
        "!cat appy_s13_02_03.py"
      ],
      "metadata": {
        "id": "VAVxjCI3H5l1"
      },
      "execution_count": null,
      "outputs": []
    },
    {
      "cell_type": "code",
      "source": [
        "# Run this cell to execute the script.\n",
        "\n",
        "!python3.12 appy_s13_02_03.py -h"
      ],
      "metadata": {
        "id": "WgCcb-rPH5l5"
      },
      "execution_count": null,
      "outputs": []
    },
    {
      "cell_type": "code",
      "source": [
        "# Run this cell to execute the script.\n",
        "\n",
        "!python3.12 appy_s13_02_03.py -i synthetic_star_gal.cat"
      ],
      "metadata": {
        "id": "42kZto-WH5l7"
      },
      "execution_count": null,
      "outputs": []
    },
    {
      "cell_type": "markdown",
      "source": [
        "## 4.5 Finding locations of detected sources"
      ],
      "metadata": {
        "id": "prnMPXZXIAH4"
      }
    },
    {
      "cell_type": "code",
      "source": [
        "# Run this cell to show the source code of the script.\n",
        "\n",
        "!cat appy_s13_02_04.py"
      ],
      "metadata": {
        "id": "MUux6gVPIFPs"
      },
      "execution_count": null,
      "outputs": []
    },
    {
      "cell_type": "code",
      "source": [
        "# Run this cell to execute the script.\n",
        "\n",
        "!python3.12 appy_s13_02_04.py -h"
      ],
      "metadata": {
        "id": "K4_akPupIFPw"
      },
      "execution_count": null,
      "outputs": []
    },
    {
      "cell_type": "code",
      "source": [
        "# Run this cell to execute the script.\n",
        "\n",
        "!python3.12 appy_s13_02_04.py -i synthetic_star_gal.fits -c synthetic_star_gal.cat -o synthetic_star_gal_sources.png -r 30"
      ],
      "metadata": {
        "id": "h5z1UvYRIFPy"
      },
      "execution_count": null,
      "outputs": []
    },
    {
      "cell_type": "code",
      "source": [
        "# Run this cell to display PNG file.\n",
        "\n",
        "# importing IPython module\n",
        "import IPython.display\n",
        "\n",
        "# displaying PNG file\n",
        "IPython.display.Image ('synthetic_star_gal_sources.png')"
      ],
      "metadata": {
        "id": "ggQzq0uXIP-J"
      },
      "execution_count": null,
      "outputs": []
    },
    {
      "cell_type": "markdown",
      "source": [
        "# 5. Source extraction for real data"
      ],
      "metadata": {
        "id": "89D0tfF6IVRd"
      }
    },
    {
      "cell_type": "markdown",
      "source": [
        "## 5.1 Downloading SDSS image of PG1047+003 field"
      ],
      "metadata": {
        "id": "H0M7M18IIYKJ"
      }
    },
    {
      "cell_type": "code",
      "source": [
        "# Run this cell to show the source code of the script.\n",
        "\n",
        "!cat appy_s13_03_00.py"
      ],
      "metadata": {
        "id": "CRoJdyJQIeA-"
      },
      "execution_count": null,
      "outputs": []
    },
    {
      "cell_type": "code",
      "source": [
        "# Run this cell to execute the script.\n",
        "\n",
        "!python3.12 appy_s13_03_00.py -h"
      ],
      "metadata": {
        "id": "nScSJTsXIeBA"
      },
      "execution_count": null,
      "outputs": []
    },
    {
      "cell_type": "code",
      "source": [
        "# Run this cell to execute the script.\n",
        "\n",
        "!python3.12 appy_s13_03_00.py -s SDSSi -t PG1047+003 -f 2048 -o pg1047_sdss_i.fits"
      ],
      "metadata": {
        "id": "suDIq4u-IeBB"
      },
      "execution_count": null,
      "outputs": []
    },
    {
      "cell_type": "code",
      "source": [
        "# Run this cell to execute the script.\n",
        "\n",
        "!python3.12 appy_s13_00_03.py -i pg1047_sdss_i.fits -o pg1047_sdss_i.png -t \"PG1047+003 (SDSS i)\""
      ],
      "metadata": {
        "id": "134wbnlUJdpA"
      },
      "execution_count": null,
      "outputs": []
    },
    {
      "cell_type": "code",
      "source": [
        "# Run this cell to display PNG file.\n",
        "\n",
        "# importing IPython module\n",
        "import IPython.display\n",
        "\n",
        "# displaying PNG file\n",
        "IPython.display.Image ('pg1047_sdss_i.png')"
      ],
      "metadata": {
        "id": "yuC7-PYnJj6c"
      },
      "execution_count": null,
      "outputs": []
    },
    {
      "cell_type": "markdown",
      "source": [
        "## 5.2 Source extraction for SDSS image of PG1047+003 field"
      ],
      "metadata": {
        "id": "vN7wvzFoJqBd"
      }
    },
    {
      "cell_type": "code",
      "source": [
        "# Run this cell to execute the script.\n",
        "\n",
        "!python3.12 appy_s13_02_02.py -i pg1047_sdss_i.fits -o pg1047_sdss_i.cat"
      ],
      "metadata": {
        "id": "1xKdHDsoKFy_"
      },
      "execution_count": null,
      "outputs": []
    },
    {
      "cell_type": "code",
      "source": [
        "# Run this cell to find newly created file.\n",
        "\n",
        "!ls -lF *.cat"
      ],
      "metadata": {
        "id": "2feuGycQKPJi"
      },
      "execution_count": null,
      "outputs": []
    },
    {
      "cell_type": "code",
      "source": [
        "# Run this cell to show first 20 lines of newly created file.\n",
        "\n",
        "!head -20 pg1047_sdss_i.cat"
      ],
      "metadata": {
        "id": "QWq8TlSxKPJw"
      },
      "execution_count": null,
      "outputs": []
    },
    {
      "cell_type": "code",
      "source": [
        "# Run this cell to execute the script.\n",
        "\n",
        "!python3.12 appy_s13_02_04.py -i pg1047_sdss_i.fits -c pg1047_sdss_i.cat -o pg1047_sdss_i_sources.png -r 30"
      ],
      "metadata": {
        "id": "ZH3K7W5jKXbn"
      },
      "execution_count": null,
      "outputs": []
    },
    {
      "cell_type": "code",
      "source": [
        "# Run this cell to display PNG file.\n",
        "\n",
        "# importing IPython module\n",
        "import IPython.display\n",
        "\n",
        "# displaying PNG file\n",
        "IPython.display.Image ('pg1047_sdss_i_sources.png')"
      ],
      "metadata": {
        "id": "8JChAt7PKgHb"
      },
      "execution_count": null,
      "outputs": []
    },
    {
      "cell_type": "markdown",
      "source": [
        "## 5.3 Downloading SDSS image of PG1528+062 field"
      ],
      "metadata": {
        "id": "1PjlrvEbKlqz"
      }
    },
    {
      "cell_type": "code",
      "source": [
        "# Run this cell to execute the script.\n",
        "\n",
        "!python3.12 appy_s13_03_00.py -s SDSSi -t PG1528+062 -f 2048 -o pg1528_sdss_i.fits"
      ],
      "metadata": {
        "id": "sMhLEAQiKtUc"
      },
      "execution_count": null,
      "outputs": []
    },
    {
      "cell_type": "code",
      "source": [
        "# Run this cell to find newly downloaded file.\n",
        "\n",
        "!ls -lF *.fits"
      ],
      "metadata": {
        "id": "OsCb9oZSHubt"
      },
      "execution_count": null,
      "outputs": []
    },
    {
      "cell_type": "code",
      "source": [
        "# Run this cell to execute the script.\n",
        "\n",
        "!python3.12 appy_s13_00_03.py -i pg1528_sdss_i.fits -o pg1528_sdss_i.png -t \"PG1528+062 (SDSS i)\""
      ],
      "metadata": {
        "id": "KB81TTqcMEqL"
      },
      "execution_count": null,
      "outputs": []
    },
    {
      "cell_type": "code",
      "source": [
        "# Run this cell to display PNG file.\n",
        "\n",
        "# importing IPython module\n",
        "import IPython.display\n",
        "\n",
        "# displaying PNG file\n",
        "IPython.display.Image ('pg1528_sdss_i.png')"
      ],
      "metadata": {
        "id": "4UlpXd_HMLH8"
      },
      "execution_count": null,
      "outputs": []
    },
    {
      "cell_type": "markdown",
      "source": [
        "## 5.4 Source extraction for SDSS image of PG1528+062 field"
      ],
      "metadata": {
        "id": "7MLIp1hRMa7f"
      }
    },
    {
      "cell_type": "code",
      "source": [
        "# Run this cell to execute the script.\n",
        "\n",
        "!python3.12 appy_s13_02_02.py -i pg1528_sdss_i.fits -o pg1528_sdss_i.cat"
      ],
      "metadata": {
        "id": "fHKlnQGmMSba"
      },
      "execution_count": null,
      "outputs": []
    },
    {
      "cell_type": "code",
      "source": [
        "# Run this cell to find newly created file.\n",
        "\n",
        "!ls -lF *.cat"
      ],
      "metadata": {
        "id": "aavtt_kdMjtr"
      },
      "execution_count": null,
      "outputs": []
    },
    {
      "cell_type": "code",
      "source": [
        "# Run this cell to show first 20 lines of newly created file.\n",
        "\n",
        "!head -20 pg1528_sdss_i.cat"
      ],
      "metadata": {
        "id": "rx1VrqmJMjtv"
      },
      "execution_count": null,
      "outputs": []
    },
    {
      "cell_type": "code",
      "source": [
        "# Run this cell to execute the script.\n",
        "\n",
        "!python3.12 appy_s13_02_04.py -i pg1528_sdss_i.fits -c pg1528_sdss_i.cat -o pg1528_sdss_i_sources.png -r 30"
      ],
      "metadata": {
        "id": "lgVaxdUwMq69"
      },
      "execution_count": null,
      "outputs": []
    },
    {
      "cell_type": "code",
      "source": [
        "# Run this cell to display PNG file.\n",
        "\n",
        "# importing IPython module\n",
        "import IPython.display\n",
        "\n",
        "# displaying PNG file\n",
        "IPython.display.Image ('pg1528_sdss_i_sources.png')"
      ],
      "metadata": {
        "id": "i1_rRhEMMq6-"
      },
      "execution_count": null,
      "outputs": []
    },
    {
      "cell_type": "markdown",
      "source": [
        "# 6. Generating a set of synthetic images for image alignment"
      ],
      "metadata": {
        "id": "8o_yXOCQM2sX"
      }
    },
    {
      "cell_type": "markdown",
      "source": [
        "## 6.1 Generating (x, y) positions of artificial stars"
      ],
      "metadata": {
        "id": "nRfPMQkaM6tz"
      }
    },
    {
      "cell_type": "code",
      "source": [
        "# Run this cell to show the source code of the script.\n",
        "\n",
        "!cat appy_s13_04_00.py"
      ],
      "metadata": {
        "id": "QlIpvbYMNCha"
      },
      "execution_count": null,
      "outputs": []
    },
    {
      "cell_type": "code",
      "source": [
        "# Run this cell to execute the script.\n",
        "\n",
        "!python3.12 appy_s13_04_00.py -h"
      ],
      "metadata": {
        "id": "tBM9tvhqNChm"
      },
      "execution_count": null,
      "outputs": []
    },
    {
      "cell_type": "code",
      "source": [
        "# Run this cell to execute the script.\n",
        "\n",
        "!python3.12 appy_s13_04_00.py -n 50 -x 2048 -y 2048 -o stars_0.list"
      ],
      "metadata": {
        "id": "ZB_rvrXrNChn"
      },
      "execution_count": null,
      "outputs": []
    },
    {
      "cell_type": "code",
      "source": [
        "# Run this cell to find newly created file.\n",
        "\n",
        "!ls -lF *.list"
      ],
      "metadata": {
        "id": "399MaHMkL-TV"
      },
      "execution_count": null,
      "outputs": []
    },
    {
      "cell_type": "code",
      "source": [
        "# Run this cell to show first 20 lines of newly created file.\n",
        "\n",
        "!head -20 stars_0.list"
      ],
      "metadata": {
        "id": "sGLZbzYiNML4"
      },
      "execution_count": null,
      "outputs": []
    },
    {
      "cell_type": "markdown",
      "source": [
        "## 6.2 Rotation and translation of locations of articial stars"
      ],
      "metadata": {
        "id": "CvEZLxHHNRn_"
      }
    },
    {
      "cell_type": "code",
      "source": [
        "# Run this cell to show the source code of the script.\n",
        "\n",
        "!cat appy_s13_04_01.py"
      ],
      "metadata": {
        "id": "Tekp8wBtNYXj"
      },
      "execution_count": null,
      "outputs": []
    },
    {
      "cell_type": "code",
      "source": [
        "# Run this cell to execute the script.\n",
        "\n",
        "!python3.12 appy_s13_04_01.py -h"
      ],
      "metadata": {
        "id": "gZ9rnBTTNYXl"
      },
      "execution_count": null,
      "outputs": []
    },
    {
      "cell_type": "code",
      "source": [
        "# Run this cell to execute the script.\n",
        "\n",
        "!python3.12 appy_s13_04_01.py -i stars_0.list -o stars_1.list -c 800 -d 1200 -r 20 -s 100 -t 200"
      ],
      "metadata": {
        "id": "x0wH_voXNYXo"
      },
      "execution_count": null,
      "outputs": []
    },
    {
      "cell_type": "code",
      "source": [
        "# Run this cell to find newly created file.\n",
        "\n",
        "!ls -lF *.list"
      ],
      "metadata": {
        "id": "BliwfEIJNYXq"
      },
      "execution_count": null,
      "outputs": []
    },
    {
      "cell_type": "code",
      "source": [
        "# Run this cell to show first 20 lines of newly created file.\n",
        "\n",
        "!head -20 stars_1.list"
      ],
      "metadata": {
        "id": "0v1Bb-YlNYXu"
      },
      "execution_count": null,
      "outputs": []
    },
    {
      "cell_type": "markdown",
      "source": [
        "## 6.3 Making synthetic images"
      ],
      "metadata": {
        "id": "U9tnWTwqNkSP"
      }
    },
    {
      "cell_type": "code",
      "source": [
        "# Run this cell to show the source code of the script.\n",
        "\n",
        "!cat appy_s13_04_02.py"
      ],
      "metadata": {
        "id": "6NFOrmeVNrnG"
      },
      "execution_count": null,
      "outputs": []
    },
    {
      "cell_type": "code",
      "source": [
        "# Run this cell to execute the script.\n",
        "\n",
        "!python3.12 appy_s13_04_02.py -h"
      ],
      "metadata": {
        "id": "ATauvapINrnJ"
      },
      "execution_count": null,
      "outputs": []
    },
    {
      "cell_type": "code",
      "source": [
        "# Run this cell to execute the script.\n",
        "\n",
        "!python3.12 appy_s13_04_02.py -i stars_0.list -o stars_0.fits -f 3.5 -s 4000 -e 70\n",
        "!python3.12 appy_s13_04_02.py -i stars_1.list -o stars_1.fits -f 4.5 -s 3000 -e 60"
      ],
      "metadata": {
        "id": "sksedMC4NrnM"
      },
      "execution_count": null,
      "outputs": []
    },
    {
      "cell_type": "code",
      "source": [
        "# Run this cell to execute the script.\n",
        "\n",
        "!python3.12 appy_s13_00_01.py stars_0.fits"
      ],
      "metadata": {
        "id": "7l-2otV8N6V3"
      },
      "execution_count": null,
      "outputs": []
    },
    {
      "cell_type": "code",
      "source": [
        "# Run this cell to execute the script.\n",
        "\n",
        "!python3.12 appy_s13_00_01.py stars_1.fits"
      ],
      "metadata": {
        "id": "gYfhxGV9N-1a"
      },
      "execution_count": null,
      "outputs": []
    },
    {
      "cell_type": "markdown",
      "source": [
        "## 6.4 Visualising two FITS files"
      ],
      "metadata": {
        "id": "7VEZl7ZhOCx_"
      }
    },
    {
      "cell_type": "code",
      "source": [
        "# Run this cell to show the source code of the script.\n",
        "\n",
        "!cat appy_s13_04_03.py"
      ],
      "metadata": {
        "id": "K9h007XNOHJA"
      },
      "execution_count": null,
      "outputs": []
    },
    {
      "cell_type": "code",
      "source": [
        "# Run this cell to execute the script.\n",
        "\n",
        "!python3.12 appy_s13_04_03.py -h"
      ],
      "metadata": {
        "id": "SH9mcgO-OHJK"
      },
      "execution_count": null,
      "outputs": []
    },
    {
      "cell_type": "code",
      "source": [
        "# Run this cell to execute the script.\n",
        "\n",
        "!python3.12 appy_s13_04_03.py -t \"First image\" -u \"Second image\" -o stars_0_1.png stars_0.fits stars_1.fits"
      ],
      "metadata": {
        "id": "uA4ne2mAOHJM"
      },
      "execution_count": null,
      "outputs": []
    },
    {
      "cell_type": "code",
      "source": [
        "# Run this cell to display PNG file.\n",
        "\n",
        "# importing IPython module\n",
        "import IPython.display\n",
        "\n",
        "# displaying PNG file\n",
        "IPython.display.Image ('stars_0_1.png')"
      ],
      "metadata": {
        "id": "_Sfy_1-sOaL5"
      },
      "execution_count": null,
      "outputs": []
    },
    {
      "cell_type": "markdown",
      "source": [
        "# 7. Alignment of two astronomical images"
      ],
      "metadata": {
        "id": "xjA5KynHOi-f"
      }
    },
    {
      "cell_type": "markdown",
      "source": [
        "## 7.1 Source extraction"
      ],
      "metadata": {
        "id": "varQ8a-COly_"
      }
    },
    {
      "cell_type": "code",
      "source": [
        "# Run this cell to execute the script.\n",
        "\n",
        "!python3.12 appy_s13_02_02.py -i stars_0.fits -o stars_0.cat\n",
        "!python3.12 appy_s13_02_02.py -i stars_1.fits -o stars_1.cat"
      ],
      "metadata": {
        "id": "-lfTOKA0Op2d"
      },
      "execution_count": null,
      "outputs": []
    },
    {
      "cell_type": "code",
      "source": [
        "# Run this cell to execute the script.\n",
        "\n",
        "!python3.12 appy_s13_02_04.py -i stars_0.fits -c stars_0.cat -o stars_0_sources.png -r 30\n",
        "!python3.12 appy_s13_02_04.py -i stars_1.fits -c stars_1.cat -o stars_1_sources.png -r 30"
      ],
      "metadata": {
        "id": "ZG52Rz5cOy0X"
      },
      "execution_count": null,
      "outputs": []
    },
    {
      "cell_type": "code",
      "source": [
        "# Run this cell to display PNG file.\n",
        "\n",
        "# importing IPython module\n",
        "import IPython.display\n",
        "\n",
        "# displaying PNG file\n",
        "IPython.display.Image ('stars_0_sources.png')"
      ],
      "metadata": {
        "id": "BmiC_c6CO9cS"
      },
      "execution_count": null,
      "outputs": []
    },
    {
      "cell_type": "code",
      "source": [
        "# Run this cell to display PNG file.\n",
        "\n",
        "# importing IPython module\n",
        "import IPython.display\n",
        "\n",
        "# displaying PNG file\n",
        "IPython.display.Image ('stars_1_sources.png')"
      ],
      "metadata": {
        "id": "stq7ovPUPAeq"
      },
      "execution_count": null,
      "outputs": []
    },
    {
      "cell_type": "markdown",
      "source": [
        "## 7.2 Finding star-to-star correspondence"
      ],
      "metadata": {
        "id": "i3jbhW55PETg"
      }
    },
    {
      "cell_type": "code",
      "source": [
        "# Run this cell to show the source code of the script.\n",
        "\n",
        "!cat appy_s13_04_04.py"
      ],
      "metadata": {
        "id": "kHwp2mNIPMEW"
      },
      "execution_count": null,
      "outputs": []
    },
    {
      "cell_type": "code",
      "source": [
        "# Run this cell to execute the script.\n",
        "\n",
        "!python3.12 appy_s13_04_04.py -h"
      ],
      "metadata": {
        "id": "gCe1VQzaPMEj"
      },
      "execution_count": null,
      "outputs": []
    },
    {
      "cell_type": "code",
      "source": [
        "# Run this cell to execute the script.\n",
        "\n",
        "!python3.12 appy_s13_04_04.py stars_0.cat stars_1.cat"
      ],
      "metadata": {
        "id": "iR2blvqhPMEk"
      },
      "execution_count": null,
      "outputs": []
    },
    {
      "cell_type": "markdown",
      "source": [
        "## 7.3 Checking results of star-to-star correspondence"
      ],
      "metadata": {
        "id": "8XeWOFYWP3bG"
      }
    },
    {
      "cell_type": "code",
      "source": [
        "# Run this cell to show the source code of the script.\n",
        "\n",
        "!cat appy_s13_04_05.py"
      ],
      "metadata": {
        "id": "79xNJH17P-GP"
      },
      "execution_count": null,
      "outputs": []
    },
    {
      "cell_type": "code",
      "source": [
        "# Run this cell to execute the script.\n",
        "\n",
        "!python3.12 appy_s13_04_05.py -h"
      ],
      "metadata": {
        "id": "nXl8bTtOP-Gd"
      },
      "execution_count": null,
      "outputs": []
    },
    {
      "cell_type": "code",
      "source": [
        "# Run this cell to execute the script.\n",
        "\n",
        "!python3.12 appy_s13_04_05.py -o stars_0_1_match.png stars_0.cat stars_1.cat stars_0.fits stars_1.fits"
      ],
      "metadata": {
        "id": "QGLyNwCXP-Gg"
      },
      "execution_count": null,
      "outputs": []
    },
    {
      "cell_type": "code",
      "source": [
        "# Run this cell to display PNG file.\n",
        "\n",
        "# importing IPython module\n",
        "import IPython.display\n",
        "\n",
        "# displaying PNG file\n",
        "IPython.display.Image ('stars_0_1_match.png')"
      ],
      "metadata": {
        "id": "rEyLrJ9JQMSc"
      },
      "execution_count": null,
      "outputs": []
    },
    {
      "cell_type": "markdown",
      "source": [
        "## 7.4 Aligning images"
      ],
      "metadata": {
        "id": "0T-5_-f5QS_z"
      }
    },
    {
      "cell_type": "code",
      "source": [
        "# Run this cell to show the source code of the script.\n",
        "\n",
        "!cat appy_s13_04_06.py"
      ],
      "metadata": {
        "id": "qIEFMIDfQZln"
      },
      "execution_count": null,
      "outputs": []
    },
    {
      "cell_type": "code",
      "source": [
        "# Run this cell to execute the script.\n",
        "\n",
        "!python3.12 appy_s13_04_06.py -h"
      ],
      "metadata": {
        "id": "9pa7kP10QZlr"
      },
      "execution_count": null,
      "outputs": []
    },
    {
      "cell_type": "code",
      "source": [
        "# Run this cell to execute the script.\n",
        "\n",
        "!python3.12 appy_s13_04_06.py -o stars_0_1_align.png stars_0.cat stars_1.cat stars_0.fits stars_1.fits"
      ],
      "metadata": {
        "id": "EGjGd-ESQZlu"
      },
      "execution_count": null,
      "outputs": []
    },
    {
      "cell_type": "code",
      "source": [
        "# Run this cell to display PNG file.\n",
        "\n",
        "# importing IPython module\n",
        "import IPython.display\n",
        "\n",
        "# displaying PNG file\n",
        "IPython.display.Image ('stars_0_1_align.png')"
      ],
      "metadata": {
        "id": "3NB0MXaqQlho"
      },
      "execution_count": null,
      "outputs": []
    },
    {
      "cell_type": "markdown",
      "source": [
        "## 7.5 Aligning images and creating a new FITS file"
      ],
      "metadata": {
        "id": "SHCdq97WQrtZ"
      }
    },
    {
      "cell_type": "code",
      "source": [
        "# Run this cell to show the source code of the script.\n",
        "\n",
        "!cat appy_s13_04_07.py"
      ],
      "metadata": {
        "id": "wSFCpDq7Q07C"
      },
      "execution_count": null,
      "outputs": []
    },
    {
      "cell_type": "code",
      "source": [
        "# Run this cell to execute the script.\n",
        "\n",
        "!python3.12 appy_s13_04_07.py -h"
      ],
      "metadata": {
        "id": "RQTHNiTPQ07E"
      },
      "execution_count": null,
      "outputs": []
    },
    {
      "cell_type": "code",
      "source": [
        "# Run this cell to execute the script.\n",
        "\n",
        "!python3.12 appy_s13_04_07.py -o stars_1_aligned.fits stars_0.cat stars_1.cat stars_0.fits stars_1.fits"
      ],
      "metadata": {
        "id": "sWj1EDVEQ07F"
      },
      "execution_count": null,
      "outputs": []
    },
    {
      "cell_type": "code",
      "source": [
        "# Run this cell to find newly created file.\n",
        "\n",
        "!ls -lF *.fits"
      ],
      "metadata": {
        "id": "TGVbHIghNPvb"
      },
      "execution_count": null,
      "outputs": []
    },
    {
      "cell_type": "code",
      "source": [
        "# Run this cell to execute the script.\n",
        "\n",
        "!python3.12 appy_s13_00_01.py stars_1_aligned.fits"
      ],
      "metadata": {
        "id": "MMr3phuERCPl"
      },
      "execution_count": null,
      "outputs": []
    },
    {
      "cell_type": "code",
      "source": [
        "# Run this cell to execute the script.\n",
        "\n",
        "!python3.12 appy_s13_04_03.py -t \"First image\" -u \"Aligned second image\" -c viridis -o stars_0_1_align2.png stars_0.fits stars_1_aligned.fits"
      ],
      "metadata": {
        "id": "If4Ghj5ORM80"
      },
      "execution_count": null,
      "outputs": []
    },
    {
      "cell_type": "code",
      "source": [
        "# Run this cell to display PNG file.\n",
        "\n",
        "# importing IPython module\n",
        "import IPython.display\n",
        "\n",
        "# displaying PNG file\n",
        "IPython.display.Image ('stars_0_1_align2.png')"
      ],
      "metadata": {
        "id": "3s_ZdQuwReaD"
      },
      "execution_count": null,
      "outputs": []
    },
    {
      "cell_type": "markdown",
      "source": [
        "# 8. Image alignment of real astronomical images"
      ],
      "metadata": {
        "id": "xC7hALszRj5S"
      }
    },
    {
      "cell_type": "markdown",
      "source": [
        "## 8.1 Downloading SDSS r'-band image"
      ],
      "metadata": {
        "id": "vT5dE2Z5RmsC"
      }
    },
    {
      "cell_type": "code",
      "source": [
        "# Run this cell to execute the script.\n",
        "\n",
        "!python3.12 appy_s13_03_00.py -s SDSSr -t PG0231+051 -f 2048 -o pg0231_sdss_r.fits"
      ],
      "metadata": {
        "id": "9-DXGAdWRXNy"
      },
      "execution_count": null,
      "outputs": []
    },
    {
      "cell_type": "code",
      "source": [
        "# Run this cell to execute the script.\n",
        "\n",
        "!python3.12 appy_s13_03_00.py -s SDSSr -t PG0231+051 -f 2048 -o pg0231_sdss_r.fits"
      ],
      "metadata": {
        "id": "gQK3qxO_R27A"
      },
      "execution_count": null,
      "outputs": []
    },
    {
      "cell_type": "code",
      "source": [
        "# Run this cell to find newly downloaded file.\n",
        "\n",
        "!ls -lF *.fits"
      ],
      "metadata": {
        "id": "ggp-8dCtRwPP"
      },
      "execution_count": null,
      "outputs": []
    },
    {
      "cell_type": "markdown",
      "source": [
        "## 8.2 Downloading SDSS i'-band image"
      ],
      "metadata": {
        "id": "EbHsjtu2SNzG"
      }
    },
    {
      "cell_type": "code",
      "source": [
        "# Run this cell to show the source code of the script.\n",
        "\n",
        "!cat appy_s13_05_00.py"
      ],
      "metadata": {
        "id": "t2SOTEL0SUQr"
      },
      "execution_count": null,
      "outputs": []
    },
    {
      "cell_type": "code",
      "source": [
        "# Run this cell to execute the script.\n",
        "\n",
        "!python3.12 appy_s13_05_00.py -h"
      ],
      "metadata": {
        "id": "hLyK-U2sSUQt"
      },
      "execution_count": null,
      "outputs": []
    },
    {
      "cell_type": "code",
      "source": [
        "# Run this cell to execute the script.\n",
        "\n",
        "!python3.12 appy_s13_05_00.py -s SDSSi -t PG0231+051 -f 2048 -o pg0231_sdss_i.fits -x 2 -y -5"
      ],
      "metadata": {
        "id": "u4Qmq_hxSUQu"
      },
      "execution_count": null,
      "outputs": []
    },
    {
      "cell_type": "code",
      "source": [
        "# Run this cell to find newly downloaded file.\n",
        "\n",
        "!ls -lF *.fits"
      ],
      "metadata": {
        "id": "A9UAkmdCSgHm"
      },
      "execution_count": null,
      "outputs": []
    },
    {
      "cell_type": "markdown",
      "source": [
        "## 8.3 Visualising two SDSS images"
      ],
      "metadata": {
        "id": "PN29BtFwSogm"
      }
    },
    {
      "cell_type": "code",
      "source": [
        "# Run this cell to execute the script.\n",
        "\n",
        "!python3.12 appy_s13_04_03.py -t \"SDSS r\" -u \"SDSS i\" -c bone -o pg0231_sdss_r_i.png pg0231_sdss_r.fits pg0231_sdss_i.fits"
      ],
      "metadata": {
        "id": "UhVusjatSuLl"
      },
      "execution_count": null,
      "outputs": []
    },
    {
      "cell_type": "code",
      "source": [
        "# Run this cell to display PNG file.\n",
        "\n",
        "# importing IPython module\n",
        "import IPython.display\n",
        "\n",
        "# displaying PNG file\n",
        "IPython.display.Image ('pg0231_sdss_r_i.png')"
      ],
      "metadata": {
        "id": "k-jtGPV8S2vH"
      },
      "execution_count": null,
      "outputs": []
    },
    {
      "cell_type": "markdown",
      "source": [
        "## 8.4 Source extraction"
      ],
      "metadata": {
        "id": "ln2RZ27IS7ua"
      }
    },
    {
      "cell_type": "code",
      "source": [
        "# Run this cell to execute the script.\n",
        "\n",
        "!python3.12 appy_s13_02_02.py -i pg0231_sdss_r.fits -o pg0231_sdss_r.cat -t 3\n",
        "!python3.12 appy_s13_02_02.py -i pg0231_sdss_i.fits -o pg0231_sdss_i.cat -t 3"
      ],
      "metadata": {
        "id": "ukDgNEteS_h5"
      },
      "execution_count": null,
      "outputs": []
    },
    {
      "cell_type": "code",
      "source": [
        "# Run this cell to execute the script.\n",
        "\n",
        "!python3.12 appy_s13_02_04.py -i pg0231_sdss_r.fits -c pg0231_sdss_r.cat -o pg0231_sdss_r_sources.png -r 30\n",
        "!python3.12 appy_s13_02_04.py -i pg0231_sdss_i.fits -c pg0231_sdss_i.cat -o pg0231_sdss_i_sources.png -r 30"
      ],
      "metadata": {
        "id": "w41p5LtRTIS5"
      },
      "execution_count": null,
      "outputs": []
    },
    {
      "cell_type": "code",
      "source": [
        "# Run this cell to display PNG file.\n",
        "\n",
        "# importing IPython module\n",
        "import IPython.display\n",
        "\n",
        "# displaying PNG file\n",
        "IPython.display.Image ('pg0231_sdss_r_sources.png')"
      ],
      "metadata": {
        "id": "f9y8lNQ6TSRl"
      },
      "execution_count": null,
      "outputs": []
    },
    {
      "cell_type": "code",
      "source": [
        "# Run this cell to display PNG file.\n",
        "\n",
        "# importing IPython module\n",
        "import IPython.display\n",
        "\n",
        "# displaying PNG file\n",
        "IPython.display.Image ('pg0231_sdss_i_sources.png')"
      ],
      "metadata": {
        "id": "qMQWOw3lTVGw"
      },
      "execution_count": null,
      "outputs": []
    },
    {
      "cell_type": "markdown",
      "source": [
        "## 8.5 Finding star-to-star correspondence"
      ],
      "metadata": {
        "id": "mCg9L60GTYV0"
      }
    },
    {
      "cell_type": "code",
      "source": [
        "# Run this cell to execute the script.\n",
        "\n",
        "!cat appy_s13_05_01.py"
      ],
      "metadata": {
        "id": "WuIdOWQITmV6"
      },
      "execution_count": null,
      "outputs": []
    },
    {
      "cell_type": "code",
      "source": [
        "# Run this cell to execute the script.\n",
        "\n",
        "!python3.12 appy_s13_05_01.py -h"
      ],
      "metadata": {
        "id": "U1OahJN7TmtP"
      },
      "execution_count": null,
      "outputs": []
    },
    {
      "cell_type": "code",
      "source": [
        "# Run this cell to execute the script.\n",
        "\n",
        "!python3.12 appy_s13_05_01.py -n 300 pg0231_sdss_r.cat pg0231_sdss_i.cat"
      ],
      "metadata": {
        "id": "qzsmFHFkTe0g"
      },
      "execution_count": null,
      "outputs": []
    },
    {
      "cell_type": "markdown",
      "source": [
        "## 8.6 Checking results of star-to-star correspondence"
      ],
      "metadata": {
        "id": "YwoFRE-fTzxw"
      }
    },
    {
      "cell_type": "code",
      "source": [
        "# Run this cell to execute the script.\n",
        "\n",
        "!cat appy_s13_05_02.py"
      ],
      "metadata": {
        "id": "ae3ukdSiT5mF"
      },
      "execution_count": null,
      "outputs": []
    },
    {
      "cell_type": "code",
      "source": [
        "# Run this cell to execute the script.\n",
        "\n",
        "!python3.12 appy_s13_05_02.py -h"
      ],
      "metadata": {
        "id": "-d_Q6Ie9T5mL"
      },
      "execution_count": null,
      "outputs": []
    },
    {
      "cell_type": "code",
      "source": [
        "# Run this cell to execute the script.\n",
        "\n",
        "!python3.12 appy_s13_05_02.py -n 300 -o pg0231_sdss_r_i_match.png pg0231_sdss_r.cat pg0231_sdss_i.cat pg0231_sdss_r.fits pg0231_sdss_i.fits"
      ],
      "metadata": {
        "id": "TGSY9Dq3T5mM"
      },
      "execution_count": null,
      "outputs": []
    },
    {
      "cell_type": "code",
      "source": [
        "# Run this cell to display PNG file.\n",
        "\n",
        "# importing IPython module\n",
        "import IPython.display\n",
        "\n",
        "# displaying PNG file\n",
        "IPython.display.Image ('pg0231_sdss_r_i_match.png')"
      ],
      "metadata": {
        "id": "u8_CU5NDUDGZ"
      },
      "execution_count": null,
      "outputs": []
    },
    {
      "cell_type": "markdown",
      "source": [
        "# 9. HST and JWST images"
      ],
      "metadata": {
        "id": "RqkyJ2TiUJQb"
      }
    },
    {
      "cell_type": "markdown",
      "source": [
        "## 9.1 Downloading HST image"
      ],
      "metadata": {
        "id": "_BiO2e-HULrN"
      }
    },
    {
      "cell_type": "code",
      "source": [
        "# Run this cell to execute the script.\n",
        "\n",
        "!cat appy_s13_06_00.py"
      ],
      "metadata": {
        "id": "b_5ZYDOAUP4I"
      },
      "execution_count": null,
      "outputs": []
    },
    {
      "cell_type": "code",
      "source": [
        "# Run this cell to execute the script.\n",
        "\n",
        "!python3.12 appy_s13_06_00.py -h"
      ],
      "metadata": {
        "id": "V-PuENaKUP4L"
      },
      "execution_count": null,
      "outputs": []
    },
    {
      "cell_type": "code",
      "source": [
        "# Run this cell to execute the script.\n",
        "\n",
        "!python3.12 appy_s13_06_00.py -r 12:37:04.67 -d +62:14:29.3 -f 4096 -s \"GOODS: HST ACS V\" -o goodsn_hst_acs_v.fits"
      ],
      "metadata": {
        "id": "UhX1N2i-UP4O"
      },
      "execution_count": null,
      "outputs": []
    },
    {
      "cell_type": "code",
      "source": [
        "# Run this cell to find newly downloaded file.\n",
        "\n",
        "!ls -lF *.fits"
      ],
      "metadata": {
        "id": "TXH-7J5HSFOj"
      },
      "execution_count": null,
      "outputs": []
    },
    {
      "cell_type": "code",
      "source": [
        "# Run this cell to execute the script.\n",
        "\n",
        "!python3.12 appy_s13_00_03.py -i goodsn_hst_acs_v.fits -o goodsn_hst_acs_v.png -t \"HST image of GOODS-north\""
      ],
      "metadata": {
        "id": "GUp6fYUpU2n6"
      },
      "execution_count": null,
      "outputs": []
    },
    {
      "cell_type": "code",
      "source": [
        "# Run this cell to display PNG file.\n",
        "\n",
        "# importing IPython module\n",
        "import IPython.display\n",
        "\n",
        "# displaying PNG file\n",
        "IPython.display.Image ('goodsn_hst_acs_v.png')"
      ],
      "metadata": {
        "id": "XwSV3suZVAET"
      },
      "execution_count": null,
      "outputs": []
    },
    {
      "cell_type": "markdown",
      "source": [
        "## 9.2 Search for JWST images available for download"
      ],
      "metadata": {
        "id": "bZ5lgfenVG_H"
      }
    },
    {
      "cell_type": "code",
      "source": [
        "# Run this cell to execute the script.\n",
        "\n",
        "!cat appy_s13_06_01.py"
      ],
      "metadata": {
        "id": "j5euHgY5VMwq"
      },
      "execution_count": null,
      "outputs": []
    },
    {
      "cell_type": "code",
      "source": [
        "# Run this cell to execute the script.\n",
        "\n",
        "!python3.12 appy_s13_06_01.py -h"
      ],
      "metadata": {
        "id": "hmuipB3fVMwu"
      },
      "execution_count": null,
      "outputs": []
    },
    {
      "cell_type": "code",
      "source": [
        "# Run this cell to execute the script.\n",
        "\n",
        "!python3.12 appy_s13_06_01.py -o goodsn_jwst.txt -r 0.5 12:36:58.82 +62:14:35.0"
      ],
      "metadata": {
        "id": "a3tY4palVMww"
      },
      "execution_count": null,
      "outputs": []
    },
    {
      "cell_type": "code",
      "source": [
        "# Run this cell to show the result of query.\n",
        "\n",
        "!cat goodsn_jwst.txt"
      ],
      "metadata": {
        "id": "CKon6s5gUyZi"
      },
      "execution_count": null,
      "outputs": []
    },
    {
      "cell_type": "code",
      "source": [
        "# Run this cell to execute the script.\n",
        "\n",
        "!cat appy_s13_06_02.py"
      ],
      "metadata": {
        "id": "qWc-F-Y3Vh8v"
      },
      "execution_count": null,
      "outputs": []
    },
    {
      "cell_type": "code",
      "source": [
        "# Run this cell to execute the script.\n",
        "\n",
        "!python3.12 appy_s13_06_02.py -h"
      ],
      "metadata": {
        "id": "2uMRA23eVh8x"
      },
      "execution_count": null,
      "outputs": []
    },
    {
      "cell_type": "code",
      "source": [
        "# Run this cell to execute the script.\n",
        "\n",
        "!python3.12 appy_s13_06_02.py -i jw02514124001_09201_00001_nrca3"
      ],
      "metadata": {
        "id": "pdApq24HVh8z"
      },
      "execution_count": null,
      "outputs": []
    },
    {
      "cell_type": "code",
      "source": [
        "# Run this cell to execute the script.\n",
        "\n",
        "!cat appy_s13_06_03.py"
      ],
      "metadata": {
        "id": "nviQP4elVvzR"
      },
      "execution_count": null,
      "outputs": []
    },
    {
      "cell_type": "code",
      "source": [
        "# Run this cell to execute the script.\n",
        "\n",
        "!python3.12 appy_s13_06_03.py -h"
      ],
      "metadata": {
        "id": "NIDBGgN2VvzT"
      },
      "execution_count": null,
      "outputs": []
    },
    {
      "cell_type": "code",
      "source": [
        "# Run this cell to execute the script.\n",
        "\n",
        "!python3.12 appy_s13_06_03.py jw02514124001_09201_00001_nrca3_i2d.fits"
      ],
      "metadata": {
        "id": "7Wy44PKwVvzU"
      },
      "execution_count": null,
      "outputs": []
    },
    {
      "cell_type": "code",
      "source": [
        "# Run this cell to find newly downloaded file.\n",
        "\n",
        "!ls -lF *.fits.gz"
      ],
      "metadata": {
        "id": "NcBhGLApWCF9"
      },
      "execution_count": null,
      "outputs": []
    },
    {
      "cell_type": "code",
      "source": [
        "# Run this cell to execute the script.\n",
        "\n",
        "!cat appy_s13_06_04.py"
      ],
      "metadata": {
        "id": "PPBM9WGpV6sz"
      },
      "execution_count": null,
      "outputs": []
    },
    {
      "cell_type": "code",
      "source": [
        "# Run this cell to execute the script.\n",
        "\n",
        "!python3.12 appy_s13_06_04.py -h"
      ],
      "metadata": {
        "id": "HJtJn_02V6s0"
      },
      "execution_count": null,
      "outputs": []
    },
    {
      "cell_type": "code",
      "source": [
        "# Run this cell to execute the script.\n",
        "\n",
        "!python3.12 appy_s13_06_04.py jw02514124001_09201_00001_nrca3_i2d.fits.gz"
      ],
      "metadata": {
        "id": "O3ShOsI_V6s3"
      },
      "execution_count": null,
      "outputs": []
    },
    {
      "cell_type": "code",
      "source": [
        "# Run this cell to find newly downloaded file.\n",
        "\n",
        "!ls -lF *.fits"
      ],
      "metadata": {
        "id": "4u6S7J5OWaaU"
      },
      "execution_count": null,
      "outputs": []
    },
    {
      "cell_type": "code",
      "source": [
        "# Run this cell to execute the script.\n",
        "\n",
        "!cat appy_s13_06_05.py"
      ],
      "metadata": {
        "id": "Euxc0q1cWeTs"
      },
      "execution_count": null,
      "outputs": []
    },
    {
      "cell_type": "code",
      "source": [
        "# Run this cell to execute the script.\n",
        "\n",
        "!python3.12 appy_s13_06_05.py -h"
      ],
      "metadata": {
        "id": "-uZGDmBiWeTu"
      },
      "execution_count": null,
      "outputs": []
    },
    {
      "cell_type": "code",
      "source": [
        "# Run this cell to execute the script.\n",
        "\n",
        "!python3.12 appy_s13_06_05.py jw02514124001_09201_00001_nrca3_i2d.fits"
      ],
      "metadata": {
        "id": "OcuQNH6wWeTv"
      },
      "execution_count": null,
      "outputs": []
    },
    {
      "cell_type": "code",
      "source": [
        "# Run this cell to execute the script.\n",
        "\n",
        "!cat appy_s13_06_06.py"
      ],
      "metadata": {
        "id": "WgNgSVgOWlzC"
      },
      "execution_count": null,
      "outputs": []
    },
    {
      "cell_type": "code",
      "source": [
        "# Run this cell to execute the script.\n",
        "\n",
        "!python3.12 appy_s13_06_06.py -h"
      ],
      "metadata": {
        "id": "8uqQJPn-WlzE"
      },
      "execution_count": null,
      "outputs": []
    },
    {
      "cell_type": "code",
      "source": [
        "# Run this cell to execute the script.\n",
        "\n",
        "!python3.12 appy_s13_06_06.py -i jw02514124001_09201_00001_nrca3_i2d.fits -o goodsn_jwst_nircam.fits"
      ],
      "metadata": {
        "id": "0EQ_PDv4WlzF"
      },
      "execution_count": null,
      "outputs": []
    },
    {
      "cell_type": "code",
      "source": [
        "# Run this cell to find newly downloaded file.\n",
        "\n",
        "!ls -lF *.fits"
      ],
      "metadata": {
        "id": "C1oZQiJQW3DH"
      },
      "execution_count": null,
      "outputs": []
    },
    {
      "cell_type": "code",
      "source": [
        "# Run this cell to execute the script.\n",
        "\n",
        "!python3.12 appy_s13_00_03.py -i goodsn_jwst_nircam.fits -o goodsn_jwst_nircam.png"
      ],
      "metadata": {
        "id": "qrYRgWJIW7NU"
      },
      "execution_count": null,
      "outputs": []
    },
    {
      "cell_type": "code",
      "source": [
        "# Run this cell to display PNG file.\n",
        "\n",
        "# importing IPython module\n",
        "import IPython.display\n",
        "\n",
        "# displaying PNG file\n",
        "IPython.display.Image ('goodsn_jwst_nircam.png')"
      ],
      "metadata": {
        "id": "v568zhsuXAPO"
      },
      "execution_count": null,
      "outputs": []
    },
    {
      "cell_type": "markdown",
      "source": [
        "## 9.3 Source extraction"
      ],
      "metadata": {
        "id": "JLAzG3MWXH5Y"
      }
    },
    {
      "cell_type": "code",
      "source": [
        "# Run this cell to execute the script.\n",
        "\n",
        "!python3.12 appy_s13_02_02.py -i goodsn_hst_acs_v.fits -o goodsn_hst_acs_v.cat -t 5"
      ],
      "metadata": {
        "id": "cC0lzj5sXMPj"
      },
      "execution_count": null,
      "outputs": []
    },
    {
      "cell_type": "code",
      "source": [
        "# Run this cell to execute the script.\n",
        "\n",
        "!python3.12 appy_s13_02_04.py -i goodsn_hst_acs_v.fits -c goodsn_hst_acs_v.cat -o goodsn_hst_acs_v_sources.png -r 30"
      ],
      "metadata": {
        "id": "uRdcED5MXbPk"
      },
      "execution_count": null,
      "outputs": []
    },
    {
      "cell_type": "code",
      "source": [
        "# Run this cell to display PNG file.\n",
        "\n",
        "# importing IPython module\n",
        "import IPython.display\n",
        "\n",
        "# displaying PNG file\n",
        "IPython.display.Image ('goodsn_hst_acs_v_sources.png')"
      ],
      "metadata": {
        "id": "ahyPOAlkXiNN"
      },
      "execution_count": null,
      "outputs": []
    },
    {
      "cell_type": "code",
      "source": [
        "# Run this cell to execute the script.\n",
        "\n",
        "!python3.12 appy_s13_02_02.py -i goodsn_jwst_nircam.fits -o goodsn_jwst_nircam.cat -t 5"
      ],
      "metadata": {
        "id": "r0sVZpKxXoov"
      },
      "execution_count": null,
      "outputs": []
    },
    {
      "cell_type": "code",
      "source": [
        "# Run this cell to execute the script.\n",
        "\n",
        "!python3.12 appy_s13_02_04.py -i goodsn_jwst_nircam.fits -c goodsn_jwst_nircam.cat -o goodsn_jwst_nircam_sources.png -r 30"
      ],
      "metadata": {
        "id": "GgpMVtmkXoo2"
      },
      "execution_count": null,
      "outputs": []
    },
    {
      "cell_type": "code",
      "source": [
        "# Run this cell to display PNG file.\n",
        "\n",
        "# importing IPython module\n",
        "import IPython.display\n",
        "\n",
        "# displaying PNG file\n",
        "IPython.display.Image ('goodsn_jwst_nircam_sources.png')"
      ],
      "metadata": {
        "id": "zb2xtARzXoo3"
      },
      "execution_count": null,
      "outputs": []
    },
    {
      "cell_type": "markdown",
      "source": [
        "## 9.4 Star-to-star matching"
      ],
      "metadata": {
        "id": "P72MsrY0X5iq"
      }
    },
    {
      "cell_type": "code",
      "source": [
        "# Run this cell to execute the script.\n",
        "\n",
        "!cat appy_s13_06_07.py"
      ],
      "metadata": {
        "id": "l0JPRtDwX_c9"
      },
      "execution_count": null,
      "outputs": []
    },
    {
      "cell_type": "code",
      "source": [
        "# Run this cell to execute the script.\n",
        "\n",
        "!python3.12 appy_s13_06_07.py -h"
      ],
      "metadata": {
        "id": "q8k2byY-X_dA"
      },
      "execution_count": null,
      "outputs": []
    },
    {
      "cell_type": "code",
      "source": [
        "# Run this cell to execute the script.\n",
        "\n",
        "!python3.12 appy_s13_06_07.py -n 500 goodsn_hst_acs_v.cat goodsn_jwst_nircam.cat"
      ],
      "metadata": {
        "id": "PEqExBkMX_dB"
      },
      "execution_count": null,
      "outputs": []
    },
    {
      "cell_type": "code",
      "source": [
        "# Run this cell to execute the script.\n",
        "\n",
        "!cat appy_s13_06_08.py"
      ],
      "metadata": {
        "id": "NG9bhWwkYKTy"
      },
      "execution_count": null,
      "outputs": []
    },
    {
      "cell_type": "code",
      "source": [
        "# Run this cell to execute the script.\n",
        "\n",
        "!python3.12 appy_s13_06_08.py -h"
      ],
      "metadata": {
        "id": "3aKMnV-xYKT1"
      },
      "execution_count": null,
      "outputs": []
    },
    {
      "cell_type": "code",
      "source": [
        "# Run this cell to execute the script.\n",
        "\n",
        "!python3.12 appy_s13_06_08.py -n 500 -o goodsn_hst_jwst.png goodsn_hst_acs_v.cat goodsn_jwst_nircam.cat goodsn_hst_acs_v.fits goodsn_jwst_nircam.fits"
      ],
      "metadata": {
        "id": "v56ghK9iYKT4"
      },
      "execution_count": null,
      "outputs": []
    },
    {
      "cell_type": "code",
      "source": [
        "# Run this cell to display PNG file.\n",
        "\n",
        "# importing IPython module\n",
        "import IPython.display\n",
        "\n",
        "# displaying PNG file\n",
        "IPython.display.Image ('goodsn_hst_jwst.png')"
      ],
      "metadata": {
        "id": "eozDjzNvYqNb"
      },
      "execution_count": null,
      "outputs": []
    },
    {
      "cell_type": "markdown",
      "source": [
        "# End of this notebook"
      ],
      "metadata": {
        "id": "OJS-QXGaY1A0"
      }
    },
    {
      "cell_type": "code",
      "source": [],
      "metadata": {
        "id": "poBIlgobVbfx"
      },
      "execution_count": null,
      "outputs": []
    }
  ]
}