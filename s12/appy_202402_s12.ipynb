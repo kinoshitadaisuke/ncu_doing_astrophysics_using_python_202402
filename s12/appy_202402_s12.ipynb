{
  "nbformat": 4,
  "nbformat_minor": 0,
  "metadata": {
    "colab": {
      "provenance": []
    },
    "kernelspec": {
      "name": "python3",
      "display_name": "Python 3"
    },
    "language_info": {
      "name": "python"
    }
  },
  "cells": [
    {
      "cell_type": "markdown",
      "source": [
        "# Doing Astrophysics using Python\n",
        "\n",
        "- \"Doing Astrophysics using Python\"\n",
        "  - Instructor: Kinoshita Daisuke\n",
        "  - Classroom: S4-202\n",
        "  - Time: from 18:00 to 20:50 on Tuesday\n",
        "  - Semester: 2nd semester of academic year 2023\n",
        "    - from February 2024 to June 2024\n",
        "  - Course web page: https://s3b.astro.ncu.edu.tw/appy_202402/\n",
        "  - GitHub repository: https://github.com/kinoshitadaisuke/ncu_doing_astrophysics_using_python_202402\n"
      ],
      "metadata": {
        "id": "gGzI83b9PmnI"
      }
    },
    {
      "cell_type": "markdown",
      "source": [
        "# Session 12: \"Periodicity analysis of astronomical time-series data\"\n",
        "\n",
        "## 6 May 2024\n",
        "\n",
        "## Instructor: Kinoshita Daisuke"
      ],
      "metadata": {
        "id": "Q7MvlbrC_tne"
      }
    },
    {
      "cell_type": "markdown",
      "source": [
        "# 0. Installation of Python interpreter"
      ],
      "metadata": {
        "id": "T_y7rto6Q5P8"
      }
    },
    {
      "cell_type": "code",
      "source": [
        "# Run this cell to install Python 3.12\n",
        "\n",
        "!apt update\n",
        "!apt upgrade\n",
        "!apt install python3.12 python3.12-dev python3.12-distutils libpython3.12-dev\n",
        "!update-alternatives --install /usr/bin/python3 python3 /usr/bin/python3.12 1\n",
        "!wget https://bootstrap.pypa.io/get-pip.py\n",
        "!python3.12 get-pip.py"
      ],
      "metadata": {
        "id": "MzmVLkC8QyGZ"
      },
      "execution_count": null,
      "outputs": []
    },
    {
      "cell_type": "code",
      "source": [
        "# Run this cell to check the version of Python interpreter and pip command\n",
        "\n",
        "!python --version\n",
        "!pip --version"
      ],
      "metadata": {
        "id": "Vx-JYTyp3NMU"
      },
      "execution_count": null,
      "outputs": []
    },
    {
      "cell_type": "code",
      "source": [
        "# Run this cell to install external Python packages.\n",
        "\n",
        "!pip install matplotlib numpy scipy astropy"
      ],
      "metadata": {
        "id": "7V5dCLx5F9QU"
      },
      "execution_count": null,
      "outputs": []
    },
    {
      "cell_type": "markdown",
      "source": [
        "# 1. Downloading a set of sample Python scripts for this course"
      ],
      "metadata": {
        "id": "zvKZRFoF8A8k"
      }
    },
    {
      "cell_type": "code",
      "source": [
        "# Run this cell to download a set of sample Python scripts for this course.\n",
        "\n",
        "!git clone https://github.com/kinoshitadaisuke/ncu_doing_astrophysics_using_python_202402.git"
      ],
      "metadata": {
        "id": "itsUqwak4-z4"
      },
      "execution_count": null,
      "outputs": []
    },
    {
      "cell_type": "code",
      "source": [
        "# Run this cell to move to the directory for this session.\n",
        "\n",
        "%cd ncu_doing_astrophysics_using_python_202402/s12"
      ],
      "metadata": {
        "id": "bREyxIP08RZG"
      },
      "execution_count": null,
      "outputs": []
    },
    {
      "cell_type": "code",
      "source": [
        "# Run this cell to show a list of files for this session.\n",
        "\n",
        "!ls"
      ],
      "metadata": {
        "id": "fKxQ_X-D8dRN"
      },
      "execution_count": null,
      "outputs": []
    },
    {
      "cell_type": "markdown",
      "source": [
        "# 2. A very simple case"
      ],
      "metadata": {
        "id": "2qGwy2aRu338"
      }
    },
    {
      "cell_type": "markdown",
      "source": [
        "## 2.1 Sine curve"
      ],
      "metadata": {
        "id": "AUjij79Tu50n"
      }
    },
    {
      "cell_type": "code",
      "source": [
        "# Run this cell to show the source code of the script.\n",
        "\n",
        "!cat appy_s12_00_00.py"
      ],
      "metadata": {
        "id": "uw7Yueleu5Ra"
      },
      "execution_count": null,
      "outputs": []
    },
    {
      "cell_type": "code",
      "source": [
        "# Run this cell to execute the script.\n",
        "\n",
        "!python3.12 appy_s12_00_00.py"
      ],
      "metadata": {
        "id": "NnAKa350vChs"
      },
      "execution_count": null,
      "outputs": []
    },
    {
      "cell_type": "code",
      "source": [
        "# Run this cell to find newly created file.\n",
        "\n",
        "!ls -lF appy_s12_00_00.data"
      ],
      "metadata": {
        "id": "FHKmj0jyvGir"
      },
      "execution_count": null,
      "outputs": []
    },
    {
      "cell_type": "code",
      "source": [
        "# Run this cell to show first 30 lines of the file \"appy_s12_00_00.data\".\n",
        "\n",
        "!head -30 appy_s12_00_00.data"
      ],
      "metadata": {
        "id": "mDzsczC6v7Cc"
      },
      "execution_count": null,
      "outputs": []
    },
    {
      "cell_type": "markdown",
      "source": [
        "## 2.2 Visualising times-series data"
      ],
      "metadata": {
        "id": "VE64dT0VwDB1"
      }
    },
    {
      "cell_type": "code",
      "source": [
        "# Run this cell to show the source code of the script.\n",
        "\n",
        "!cat appy_s12_00_01.py"
      ],
      "metadata": {
        "id": "DbfzBiADwJhG"
      },
      "execution_count": null,
      "outputs": []
    },
    {
      "cell_type": "code",
      "source": [
        "# Run this cell to execute the script.\n",
        "\n",
        "!python3.12 appy_s12_00_01.py"
      ],
      "metadata": {
        "id": "fQY1UiAtwJhP"
      },
      "execution_count": null,
      "outputs": []
    },
    {
      "cell_type": "code",
      "source": [
        "# Run this cell to display a PNG file.\n",
        "\n",
        "# importing IPython module\n",
        "import IPython.display\n",
        "\n",
        "# displaying a PNG file\n",
        "IPython.display.Image ('appy_s12_00_01.png')"
      ],
      "metadata": {
        "id": "YA3nWtPGwA_D"
      },
      "execution_count": null,
      "outputs": []
    },
    {
      "cell_type": "markdown",
      "source": [
        "## 2.3 Folding time-series data using a trial period"
      ],
      "metadata": {
        "id": "Pkqze9QRwejo"
      }
    },
    {
      "cell_type": "code",
      "source": [
        "# Run this cell to show the source code of the script.\n",
        "\n",
        "!cat appy_s12_00_02.py"
      ],
      "metadata": {
        "id": "XadNQimUwlA1"
      },
      "execution_count": null,
      "outputs": []
    },
    {
      "cell_type": "code",
      "source": [
        "# Run this cell to execute the script.\n",
        "\n",
        "!python3.12 appy_s12_00_02.py"
      ],
      "metadata": {
        "id": "9SrrNSrQwlA2"
      },
      "execution_count": null,
      "outputs": []
    },
    {
      "cell_type": "code",
      "source": [
        "# Run this cell to display a PNG file.\n",
        "\n",
        "# importing IPython module\n",
        "import IPython.display\n",
        "\n",
        "# displaying a PNG file\n",
        "IPython.display.Image ('appy_s12_00_02.png')"
      ],
      "metadata": {
        "id": "YFRaVbrpwlA3"
      },
      "execution_count": null,
      "outputs": []
    },
    {
      "cell_type": "code",
      "source": [
        "# Run this cell to show the source code of the script.\n",
        "\n",
        "!cat appy_s12_00_03.py"
      ],
      "metadata": {
        "id": "U1DnVH98wsX9"
      },
      "execution_count": null,
      "outputs": []
    },
    {
      "cell_type": "code",
      "source": [
        "# Run this cell to execute the script.\n",
        "\n",
        "!python3.12 appy_s12_00_03.py"
      ],
      "metadata": {
        "id": "nPwpZeBiwsYB"
      },
      "execution_count": null,
      "outputs": []
    },
    {
      "cell_type": "code",
      "source": [
        "# Run this cell to display a PNG file.\n",
        "\n",
        "# importing IPython module\n",
        "import IPython.display\n",
        "\n",
        "# displaying a PNG file\n",
        "IPython.display.Image ('appy_s12_00_03.png')"
      ],
      "metadata": {
        "id": "5Ns3bCcRwsYC"
      },
      "execution_count": null,
      "outputs": []
    },
    {
      "cell_type": "markdown",
      "source": [
        "## 2.4 Period search using PDM"
      ],
      "metadata": {
        "id": "4ulQqgsVw2Ce"
      }
    },
    {
      "cell_type": "code",
      "source": [
        "# Run this cell to show the source code of the script.\n",
        "\n",
        "!cat appy_s12_00_04.py"
      ],
      "metadata": {
        "id": "ClIdyxUFw9NF"
      },
      "execution_count": null,
      "outputs": []
    },
    {
      "cell_type": "code",
      "source": [
        "# Run this cell to execute the script.\n",
        "\n",
        "!python3.12 appy_s12_00_04.py"
      ],
      "metadata": {
        "id": "igxlYcEkw9NG"
      },
      "execution_count": null,
      "outputs": []
    },
    {
      "cell_type": "code",
      "source": [
        "# Run this cell to find newly created file.\n",
        "\n",
        "!ls -lF appy_s12_00_04.data"
      ],
      "metadata": {
        "id": "PmIJeF-WxEJt"
      },
      "execution_count": null,
      "outputs": []
    },
    {
      "cell_type": "code",
      "source": [
        "# Run this cell to show first 20 lines of the file \"appy_s12_00_04.data\".\n",
        "\n",
        "!head -20 appy_s12_00_04.data"
      ],
      "metadata": {
        "id": "leSAYnY4xEJu"
      },
      "execution_count": null,
      "outputs": []
    },
    {
      "cell_type": "code",
      "source": [
        "# Run this cell to show the source code of the script.\n",
        "\n",
        "!cat appy_s12_00_05.py"
      ],
      "metadata": {
        "id": "IX2UNgBvxOMn"
      },
      "execution_count": null,
      "outputs": []
    },
    {
      "cell_type": "code",
      "source": [
        "# Run this cell to execute the script.\n",
        "\n",
        "!python3.12 appy_s12_00_05.py"
      ],
      "metadata": {
        "id": "g8Mr4BwQxOMo"
      },
      "execution_count": null,
      "outputs": []
    },
    {
      "cell_type": "code",
      "source": [
        "# Run this cell to display a PNG file.\n",
        "\n",
        "# importing IPython module\n",
        "import IPython.display\n",
        "\n",
        "# displaying a PNG file\n",
        "IPython.display.Image ('appy_s12_00_05.png')"
      ],
      "metadata": {
        "id": "7OihYjfNxOMo"
      },
      "execution_count": null,
      "outputs": []
    },
    {
      "cell_type": "code",
      "source": [
        "# Run this cell to show the source code of the script.\n",
        "\n",
        "!cat appy_s12_00_06.py"
      ],
      "metadata": {
        "id": "CjT-i5AdxZeW"
      },
      "execution_count": null,
      "outputs": []
    },
    {
      "cell_type": "code",
      "source": [
        "# Run this cell to execute the script.\n",
        "\n",
        "!python3.12 appy_s12_00_06.py"
      ],
      "metadata": {
        "id": "WevuIL2mxZeZ"
      },
      "execution_count": null,
      "outputs": []
    },
    {
      "cell_type": "code",
      "source": [
        "# Run this cell to display a PNG file.\n",
        "\n",
        "# importing IPython module\n",
        "import IPython.display\n",
        "\n",
        "# displaying a PNG file\n",
        "IPython.display.Image ('appy_s12_00_06.png')"
      ],
      "metadata": {
        "id": "ay5EfVckxZea"
      },
      "execution_count": null,
      "outputs": []
    },
    {
      "cell_type": "code",
      "source": [
        "# Run this cell to show the source code of the script.\n",
        "\n",
        "!cat appy_s12_00_07.py"
      ],
      "metadata": {
        "id": "9Qwj89Jsxjw2"
      },
      "execution_count": null,
      "outputs": []
    },
    {
      "cell_type": "code",
      "source": [
        "# Run this cell to execute the script.\n",
        "\n",
        "!python3.12 appy_s12_00_07.py"
      ],
      "metadata": {
        "id": "5LHnTwQ6xjw5"
      },
      "execution_count": null,
      "outputs": []
    },
    {
      "cell_type": "code",
      "source": [
        "# Run this cell to display a PNG file.\n",
        "\n",
        "# importing IPython module\n",
        "import IPython.display\n",
        "\n",
        "# displaying a PNG file\n",
        "IPython.display.Image ('appy_s12_00_07.png')"
      ],
      "metadata": {
        "id": "Qd4O4jbKxjw5"
      },
      "execution_count": null,
      "outputs": []
    },
    {
      "cell_type": "markdown",
      "source": [
        "## 2.5 Folding time-series data using the best fit period"
      ],
      "metadata": {
        "id": "lAfrCbDZxpjv"
      }
    },
    {
      "cell_type": "code",
      "source": [
        "# Run this cell to show the source code of the script.\n",
        "\n",
        "!cat appy_s12_00_08.py"
      ],
      "metadata": {
        "id": "GtIcSaNpxwQo"
      },
      "execution_count": null,
      "outputs": []
    },
    {
      "cell_type": "code",
      "source": [
        "# Run this cell to execute the script.\n",
        "\n",
        "!python3.12 appy_s12_00_08.py"
      ],
      "metadata": {
        "id": "5foScSNkxwQp"
      },
      "execution_count": null,
      "outputs": []
    },
    {
      "cell_type": "code",
      "source": [
        "# Run this cell to display a PNG file.\n",
        "\n",
        "# importing IPython module\n",
        "import IPython.display\n",
        "\n",
        "# displaying a PNG file\n",
        "IPython.display.Image ('appy_s12_00_08.png')"
      ],
      "metadata": {
        "id": "WOUMx8RTxwQq"
      },
      "execution_count": null,
      "outputs": []
    },
    {
      "cell_type": "markdown",
      "source": [
        "# 3. Dealing with more realistic data"
      ],
      "metadata": {
        "id": "A8OAuolXx2ug"
      }
    },
    {
      "cell_type": "markdown",
      "source": [
        "## 3.1 Generating synthetic data"
      ],
      "metadata": {
        "id": "4CAO1AVMx5T3"
      }
    },
    {
      "cell_type": "code",
      "source": [
        "# Run this cell to show the source code of the script.\n",
        "\n",
        "!cat appy_s12_01_00.py"
      ],
      "metadata": {
        "id": "QCRa-KZFx9qO"
      },
      "execution_count": null,
      "outputs": []
    },
    {
      "cell_type": "code",
      "source": [
        "# Run this cell to execute the script.\n",
        "\n",
        "!python3.12 appy_s12_01_00.py"
      ],
      "metadata": {
        "id": "l3EHJ70px9qP"
      },
      "execution_count": null,
      "outputs": []
    },
    {
      "cell_type": "code",
      "source": [
        "# Run this cell to find newly created file.\n",
        "\n",
        "!ls -lF appy_s12_01_00.data"
      ],
      "metadata": {
        "id": "hUFqQoWDyIb_"
      },
      "execution_count": null,
      "outputs": []
    },
    {
      "cell_type": "code",
      "source": [
        "# Run this cell to show first 30 lines of the file \"appy_s12_01_00.data\".\n",
        "\n",
        "!head -30 appy_s12_01_00.data"
      ],
      "metadata": {
        "id": "5hMLipwvyIcD"
      },
      "execution_count": null,
      "outputs": []
    },
    {
      "cell_type": "markdown",
      "source": [
        "## 3.2 Visualising synthetic data"
      ],
      "metadata": {
        "id": "pkGRFIjWyRII"
      }
    },
    {
      "cell_type": "code",
      "source": [
        "# Run this cell to show the source code of the script.\n",
        "\n",
        "!cat appy_s12_01_01.py"
      ],
      "metadata": {
        "id": "0B3quuJ7yWFe"
      },
      "execution_count": null,
      "outputs": []
    },
    {
      "cell_type": "code",
      "source": [
        "# Run this cell to execute the script.\n",
        "\n",
        "!python3.12 appy_s12_01_01.py"
      ],
      "metadata": {
        "id": "Q7ol0ezLyWFg"
      },
      "execution_count": null,
      "outputs": []
    },
    {
      "cell_type": "code",
      "source": [
        "# Run this cell to display a PNG file.\n",
        "\n",
        "# importing IPython module\n",
        "import IPython.display\n",
        "\n",
        "# displaying a PNG file\n",
        "IPython.display.Image ('appy_s12_01_01.png')"
      ],
      "metadata": {
        "id": "RWC6nc6IyZ8o"
      },
      "execution_count": null,
      "outputs": []
    },
    {
      "cell_type": "code",
      "source": [
        "# Run this cell to show the source code of the script.\n",
        "\n",
        "!cat appy_s12_01_02.py"
      ],
      "metadata": {
        "id": "ZmZCVfPByjyw"
      },
      "execution_count": null,
      "outputs": []
    },
    {
      "cell_type": "code",
      "source": [
        "# Run this cell to execute the script.\n",
        "\n",
        "!python3.12 appy_s12_01_02.py"
      ],
      "metadata": {
        "id": "Hy5aWvv2yjyz"
      },
      "execution_count": null,
      "outputs": []
    },
    {
      "cell_type": "code",
      "source": [
        "# Run this cell to find newly created file.\n",
        "\n",
        "!ls -lF appy_s12_01_02.data"
      ],
      "metadata": {
        "id": "mHq3ZKgSy5Sr"
      },
      "execution_count": null,
      "outputs": []
    },
    {
      "cell_type": "code",
      "source": [
        "# Run this cell to show first 20 lines of the file \"appy_s12_01_02.data\".\n",
        "\n",
        "!head -20 appy_s12_01_02.data"
      ],
      "metadata": {
        "id": "7hiCrGAuy5Sv"
      },
      "execution_count": null,
      "outputs": []
    },
    {
      "cell_type": "markdown",
      "source": [
        "## 3.4 Visualising result of PDM analysis"
      ],
      "metadata": {
        "id": "pDTMku3Ey-qh"
      }
    },
    {
      "cell_type": "code",
      "source": [
        "# Run this cell to show the source code of the script.\n",
        "\n",
        "!cat appy_s12_01_03.py"
      ],
      "metadata": {
        "id": "6Nojy1TuzFZf"
      },
      "execution_count": null,
      "outputs": []
    },
    {
      "cell_type": "code",
      "source": [
        "# Run this cell to execute the script.\n",
        "\n",
        "!python3.12 appy_s12_01_03.py"
      ],
      "metadata": {
        "id": "vmrVmnRXzFZh"
      },
      "execution_count": null,
      "outputs": []
    },
    {
      "cell_type": "code",
      "source": [
        "# Run this cell to display a PNG file.\n",
        "\n",
        "# importing IPython module\n",
        "import IPython.display\n",
        "\n",
        "# displaying a PNG file\n",
        "IPython.display.Image ('appy_s12_01_03.png')"
      ],
      "metadata": {
        "id": "qh4m8nhNzLBS"
      },
      "execution_count": null,
      "outputs": []
    },
    {
      "cell_type": "code",
      "source": [
        "# Run this cell to show the source code of the script.\n",
        "\n",
        "!cat appy_s12_01_04.py"
      ],
      "metadata": {
        "id": "gJBwcLZazPJZ"
      },
      "execution_count": null,
      "outputs": []
    },
    {
      "cell_type": "code",
      "source": [
        "# Run this cell to execute the script.\n",
        "\n",
        "!python3.12 appy_s12_01_04.py"
      ],
      "metadata": {
        "id": "OjCdcqv0zPJe"
      },
      "execution_count": null,
      "outputs": []
    },
    {
      "cell_type": "code",
      "source": [
        "# Run this cell to display a PNG file.\n",
        "\n",
        "# importing IPython module\n",
        "import IPython.display\n",
        "\n",
        "# displaying a PNG file\n",
        "IPython.display.Image ('appy_s12_01_04.png')"
      ],
      "metadata": {
        "id": "xxGkK08qzPJf"
      },
      "execution_count": null,
      "outputs": []
    },
    {
      "cell_type": "markdown",
      "source": [
        "## 3.5 Finding the best fit period"
      ],
      "metadata": {
        "id": "ifHA0ZNyzVhC"
      }
    },
    {
      "cell_type": "code",
      "source": [
        "# Run this cell to show the source code of the script.\n",
        "\n",
        "!cat appy_s12_01_05.py"
      ],
      "metadata": {
        "id": "IPU8HLupzaxJ"
      },
      "execution_count": null,
      "outputs": []
    },
    {
      "cell_type": "code",
      "source": [
        "# Run this cell to execute the script.\n",
        "\n",
        "!python3.12 appy_s12_01_05.py"
      ],
      "metadata": {
        "id": "wSALnRY7zaxK"
      },
      "execution_count": null,
      "outputs": []
    },
    {
      "cell_type": "code",
      "source": [
        "# Run this cell to display a PNG file.\n",
        "\n",
        "# importing IPython module\n",
        "import IPython.display\n",
        "\n",
        "# displaying a PNG file\n",
        "IPython.display.Image ('appy_s12_01_05.png')"
      ],
      "metadata": {
        "id": "rYixsmYjzaxL"
      },
      "execution_count": null,
      "outputs": []
    },
    {
      "cell_type": "code",
      "source": [
        "# Run this cell to show the source code of the script.\n",
        "\n",
        "!cat appy_s12_01_06.py"
      ],
      "metadata": {
        "id": "Ajx_jhC03N0g"
      },
      "execution_count": null,
      "outputs": []
    },
    {
      "cell_type": "code",
      "source": [
        "# Run this cell to execute the script.\n",
        "\n",
        "!python3.12 appy_s12_01_06.py"
      ],
      "metadata": {
        "id": "R8khaz9E3N0m"
      },
      "execution_count": null,
      "outputs": []
    },
    {
      "cell_type": "code",
      "source": [
        "# Run this cell to display a PNG file.\n",
        "\n",
        "# importing IPython module\n",
        "import IPython.display\n",
        "\n",
        "# displaying a PNG file\n",
        "IPython.display.Image ('appy_s12_01_06.png')"
      ],
      "metadata": {
        "id": "xud13J2H3N0n"
      },
      "execution_count": null,
      "outputs": []
    },
    {
      "cell_type": "code",
      "source": [
        "# Run this cell to show the source code of the script.\n",
        "\n",
        "!cat appy_s12_01_07.py"
      ],
      "metadata": {
        "id": "ulYMKqt83rJY"
      },
      "execution_count": null,
      "outputs": []
    },
    {
      "cell_type": "code",
      "source": [
        "# Run this cell to execute the script.\n",
        "\n",
        "!python3.12 appy_s12_01_07.py"
      ],
      "metadata": {
        "id": "4tnCl35-3rJe"
      },
      "execution_count": null,
      "outputs": []
    },
    {
      "cell_type": "code",
      "source": [
        "# Run this cell to display a PNG file.\n",
        "\n",
        "# importing IPython module\n",
        "import IPython.display\n",
        "\n",
        "# displaying a PNG file\n",
        "IPython.display.Image ('appy_s12_01_07.png')"
      ],
      "metadata": {
        "id": "mvycYgWg3rJg"
      },
      "execution_count": null,
      "outputs": []
    },
    {
      "cell_type": "markdown",
      "source": [
        "# 4. Rotational lightcurve of a trans-Neptunian object"
      ],
      "metadata": {
        "id": "aOdbaUryz-R0"
      }
    },
    {
      "cell_type": "markdown",
      "source": [
        "## 4.1 Downloading data\n",
        "\n",
        "Visit following web page and download ASCII version of Table 2.\n",
        "\n",
        "https://iopscience.iop.org/article/10.1086/339557/fulltext/"
      ],
      "metadata": {
        "id": "2OH1UF4w39US"
      }
    },
    {
      "cell_type": "markdown",
      "source": [
        "## 4.2 Visualisation of time-series data of (20000) Varuna"
      ],
      "metadata": {
        "id": "n4iBdFK76ZQS"
      }
    },
    {
      "cell_type": "code",
      "source": [
        "# Run this cell to show the source code of the script.\n",
        "\n",
        "!cat appy_s12_02_00.py"
      ],
      "metadata": {
        "id": "4h_I0GsI7Cdb"
      },
      "execution_count": null,
      "outputs": []
    },
    {
      "cell_type": "code",
      "source": [
        "# Run this cell to execute the script.\n",
        "\n",
        "!python3.12 appy_s12_02_00.py"
      ],
      "metadata": {
        "id": "0UnuPgzD7Cdd"
      },
      "execution_count": null,
      "outputs": []
    },
    {
      "cell_type": "code",
      "source": [
        "# Run this cell to display a PNG file.\n",
        "\n",
        "# importing IPython module\n",
        "import IPython.display\n",
        "\n",
        "# displaying a PNG file\n",
        "IPython.display.Image ('appy_s12_02_00.png')"
      ],
      "metadata": {
        "id": "cTHlOUAz7Cde"
      },
      "execution_count": null,
      "outputs": []
    },
    {
      "cell_type": "markdown",
      "source": [
        "## 4.3 Visualisation of intra-night time-series photometry"
      ],
      "metadata": {
        "id": "RNfQWSxc7tHN"
      }
    },
    {
      "cell_type": "code",
      "source": [
        "# Run this cell to show the source code of the script.\n",
        "\n",
        "!cat appy_s12_02_01.py"
      ],
      "metadata": {
        "id": "hZXq1L3x7ylj"
      },
      "execution_count": null,
      "outputs": []
    },
    {
      "cell_type": "code",
      "source": [
        "# Run this cell to execute the script.\n",
        "\n",
        "!python3.12 appy_s12_02_01.py"
      ],
      "metadata": {
        "id": "9ktxVty17ylk"
      },
      "execution_count": null,
      "outputs": []
    },
    {
      "cell_type": "code",
      "source": [
        "# Run this cell to display a PNG file.\n",
        "\n",
        "# importing IPython module\n",
        "import IPython.display\n",
        "\n",
        "# displaying a PNG file\n",
        "IPython.display.Image ('appy_s12_02_01.png')"
      ],
      "metadata": {
        "id": "KlSRmJ9I7yll"
      },
      "execution_count": null,
      "outputs": []
    },
    {
      "cell_type": "markdown",
      "source": [
        "## 4.4 Period search using PDM"
      ],
      "metadata": {
        "id": "LNhNLN_C79Vt"
      }
    },
    {
      "cell_type": "code",
      "source": [
        "# Run this cell to show the source code of the script.\n",
        "\n",
        "!cat appy_s12_02_02.py"
      ],
      "metadata": {
        "id": "RIujOvs78CrC"
      },
      "execution_count": null,
      "outputs": []
    },
    {
      "cell_type": "code",
      "source": [
        "# Run this cell to execute the script.\n",
        "\n",
        "!python3.12 appy_s12_02_02.py"
      ],
      "metadata": {
        "id": "yMo6PiLM8CrE"
      },
      "execution_count": null,
      "outputs": []
    },
    {
      "cell_type": "code",
      "source": [
        "# Run this cell to find newly created file.\n",
        "\n",
        "!ls -lF appy_s12_02_02.data"
      ],
      "metadata": {
        "id": "tAAwiHVl8zbU"
      },
      "execution_count": null,
      "outputs": []
    },
    {
      "cell_type": "code",
      "source": [
        "# Run this cell to show first 20 lines of the file \"appy_s12_02_02.data\".\n",
        "\n",
        "!head -20 appy_s12_02_02.data"
      ],
      "metadata": {
        "id": "VORWGRM38zbZ"
      },
      "execution_count": null,
      "outputs": []
    },
    {
      "cell_type": "markdown",
      "source": [
        "## 4.5 Visualising result of PDM analysis"
      ],
      "metadata": {
        "id": "G2wke_TE85fv"
      }
    },
    {
      "cell_type": "code",
      "source": [
        "# Run this cell to show the source code of the script.\n",
        "\n",
        "!cat appy_s12_02_03.py"
      ],
      "metadata": {
        "id": "Jtf9gAJu9AfK"
      },
      "execution_count": null,
      "outputs": []
    },
    {
      "cell_type": "code",
      "source": [
        "# Run this cell to execute the script.\n",
        "\n",
        "!python3.12 appy_s12_02_03.py"
      ],
      "metadata": {
        "id": "koMf0M0M9AfM"
      },
      "execution_count": null,
      "outputs": []
    },
    {
      "cell_type": "code",
      "source": [
        "# Run this cell to display a PNG file.\n",
        "\n",
        "# importing IPython module\n",
        "import IPython.display\n",
        "\n",
        "# displaying a PNG file\n",
        "IPython.display.Image ('appy_s12_02_03.png')"
      ],
      "metadata": {
        "id": "XuPl1ScJ9Id0"
      },
      "execution_count": null,
      "outputs": []
    },
    {
      "cell_type": "code",
      "source": [
        "# Run this cell to show the source code of the script.\n",
        "\n",
        "!cat appy_s12_02_04.py"
      ],
      "metadata": {
        "id": "S0JRgEk-9NuH"
      },
      "execution_count": null,
      "outputs": []
    },
    {
      "cell_type": "code",
      "source": [
        "# Run this cell to execute the script.\n",
        "\n",
        "!python3.12 appy_s12_02_04.py"
      ],
      "metadata": {
        "id": "InOFG9i19NuV"
      },
      "execution_count": null,
      "outputs": []
    },
    {
      "cell_type": "code",
      "source": [
        "# Run this cell to display a PNG file.\n",
        "\n",
        "# importing IPython module\n",
        "import IPython.display\n",
        "\n",
        "# displaying a PNG file\n",
        "IPython.display.Image ('appy_s12_02_04.png')"
      ],
      "metadata": {
        "id": "-VjziVDA9NuW"
      },
      "execution_count": null,
      "outputs": []
    },
    {
      "cell_type": "code",
      "source": [
        "# Run this cell to show the source code of the script.\n",
        "\n",
        "!cat appy_s12_02_05.py"
      ],
      "metadata": {
        "id": "jCBAg0WC9aHe"
      },
      "execution_count": null,
      "outputs": []
    },
    {
      "cell_type": "code",
      "source": [
        "# Run this cell to execute the script.\n",
        "\n",
        "!python3.12 appy_s12_02_05.py"
      ],
      "metadata": {
        "id": "P_Jeyuvx9aHs"
      },
      "execution_count": null,
      "outputs": []
    },
    {
      "cell_type": "code",
      "source": [
        "# Run this cell to display a PNG file.\n",
        "\n",
        "# importing IPython module\n",
        "import IPython.display\n",
        "\n",
        "# displaying a PNG file\n",
        "IPython.display.Image ('appy_s12_02_05.png')"
      ],
      "metadata": {
        "id": "dEFDJKaf9aHu"
      },
      "execution_count": null,
      "outputs": []
    },
    {
      "cell_type": "markdown",
      "source": [
        "## 4.6 Finding the best fit period"
      ],
      "metadata": {
        "id": "X19YEeyy9r-n"
      }
    },
    {
      "cell_type": "code",
      "source": [
        "# Run this cell to show the source code of the script.\n",
        "\n",
        "!cat appy_s12_02_06.py"
      ],
      "metadata": {
        "id": "YEzXney69v6l"
      },
      "execution_count": null,
      "outputs": []
    },
    {
      "cell_type": "code",
      "source": [
        "# Run this cell to execute the script.\n",
        "\n",
        "!python3.12 appy_s12_02_06.py"
      ],
      "metadata": {
        "id": "Q0ulkooc9v6m"
      },
      "execution_count": null,
      "outputs": []
    },
    {
      "cell_type": "code",
      "source": [
        "# Run this cell to display a PNG file.\n",
        "\n",
        "# importing IPython module\n",
        "import IPython.display\n",
        "\n",
        "# displaying a PNG file\n",
        "IPython.display.Image ('appy_s12_02_06.png')"
      ],
      "metadata": {
        "id": "hNXl4T0D9v6n"
      },
      "execution_count": null,
      "outputs": []
    },
    {
      "cell_type": "code",
      "source": [
        "# Run this cell to show the source code of the script.\n",
        "\n",
        "!cat appy_s12_02_07.py"
      ],
      "metadata": {
        "id": "Ica_YiIT99qe"
      },
      "execution_count": null,
      "outputs": []
    },
    {
      "cell_type": "code",
      "source": [
        "# Run this cell to execute the script.\n",
        "\n",
        "!python3.12 appy_s12_02_07.py"
      ],
      "metadata": {
        "id": "EKg2ljJ099qi"
      },
      "execution_count": null,
      "outputs": []
    },
    {
      "cell_type": "code",
      "source": [
        "# Run this cell to display a PNG file.\n",
        "\n",
        "# importing IPython module\n",
        "import IPython.display\n",
        "\n",
        "# displaying a PNG file\n",
        "IPython.display.Image ('appy_s12_02_07.png')"
      ],
      "metadata": {
        "id": "w1EBkzES99qj"
      },
      "execution_count": null,
      "outputs": []
    },
    {
      "cell_type": "code",
      "source": [
        "# Run this cell to show the source code of the script.\n",
        "\n",
        "!cat appy_s12_02_08.py"
      ],
      "metadata": {
        "id": "BsfniyUh-Ik6"
      },
      "execution_count": null,
      "outputs": []
    },
    {
      "cell_type": "code",
      "source": [
        "# Run this cell to execute the script.\n",
        "\n",
        "!python3.12 appy_s12_02_08.py"
      ],
      "metadata": {
        "id": "p2SAMxKH-Ik7"
      },
      "execution_count": null,
      "outputs": []
    },
    {
      "cell_type": "code",
      "source": [
        "# Run this cell to display a PNG file.\n",
        "\n",
        "# importing IPython module\n",
        "import IPython.display\n",
        "\n",
        "# displaying a PNG file\n",
        "IPython.display.Image ('appy_s12_02_08.png')"
      ],
      "metadata": {
        "id": "faEjYaQB-Ik7"
      },
      "execution_count": null,
      "outputs": []
    },
    {
      "cell_type": "markdown",
      "source": [
        "## 4.7 Folding the time-series data using the best fit period"
      ],
      "metadata": {
        "id": "pEY91oZm-ann"
      }
    },
    {
      "cell_type": "code",
      "source": [
        "# Run this cell to show the source code of the script.\n",
        "\n",
        "!cat appy_s12_02_09.py"
      ],
      "metadata": {
        "id": "oVllvBRq-Yaw"
      },
      "execution_count": null,
      "outputs": []
    },
    {
      "cell_type": "code",
      "source": [
        "# Run this cell to execute the script.\n",
        "\n",
        "!python3.12 appy_s12_02_09.py"
      ],
      "metadata": {
        "id": "1tRBuxFW-Ya0"
      },
      "execution_count": null,
      "outputs": []
    },
    {
      "cell_type": "code",
      "source": [
        "# Run this cell to display a PNG file.\n",
        "\n",
        "# importing IPython module\n",
        "import IPython.display\n",
        "\n",
        "# displaying a PNG file\n",
        "IPython.display.Image ('appy_s12_02_09.png')"
      ],
      "metadata": {
        "id": "Fdedswsz-Ya2"
      },
      "execution_count": null,
      "outputs": []
    },
    {
      "cell_type": "markdown",
      "source": [
        "# 5. PDM analysis of variable star data"
      ],
      "metadata": {
        "id": "Jd9oqqUg-knv"
      }
    },
    {
      "cell_type": "markdown",
      "source": [
        "## 5.1 Downloading variable star data"
      ],
      "metadata": {
        "id": "6FKlWG7e-tvH"
      }
    },
    {
      "cell_type": "code",
      "source": [
        "# Run this cell to show the source code of the script.\n",
        "\n",
        "!cat appy_s12_03_00.py"
      ],
      "metadata": {
        "id": "isuP_4_Z-o4O"
      },
      "execution_count": null,
      "outputs": []
    },
    {
      "cell_type": "code",
      "source": [
        "# Run this cell to execute the script.\n",
        "\n",
        "!python3.12 appy_s12_03_00.py"
      ],
      "metadata": {
        "id": "zFuceu6c-o4P"
      },
      "execution_count": null,
      "outputs": []
    },
    {
      "cell_type": "code",
      "source": [
        "# Run this cell to find newly downloaded file.\n",
        "\n",
        "!ls -lF linear.tar.gz"
      ],
      "metadata": {
        "id": "dqiknAvt-1np"
      },
      "execution_count": null,
      "outputs": []
    },
    {
      "cell_type": "markdown",
      "source": [
        "## 5.2 Extracting the data"
      ],
      "metadata": {
        "id": "-nbQOk9G-wJv"
      }
    },
    {
      "cell_type": "code",
      "source": [
        "# Run this cell to show the source code of the script.\n",
        "\n",
        "!cat appy_s12_03_01.py"
      ],
      "metadata": {
        "id": "AQTh1Qj--zUG"
      },
      "execution_count": null,
      "outputs": []
    },
    {
      "cell_type": "code",
      "source": [
        "# Run this cell to execute the script.\n",
        "\n",
        "!python3.12 appy_s12_03_01.py"
      ],
      "metadata": {
        "id": "oLxqWvHw-zUG"
      },
      "execution_count": null,
      "outputs": []
    },
    {
      "cell_type": "code",
      "source": [
        "# Run this cell to find extracted files.\n",
        "\n",
        "!ls -lF linear"
      ],
      "metadata": {
        "id": "KAUAOnCv-7jv"
      },
      "execution_count": null,
      "outputs": []
    },
    {
      "cell_type": "code",
      "source": [
        "# Run this cell to count the number of extracted files.\n",
        "\n",
        "!ls linear/*.dat | wc"
      ],
      "metadata": {
        "id": "7DbXl6GxwcGc"
      },
      "execution_count": null,
      "outputs": []
    },
    {
      "cell_type": "markdown",
      "source": [
        "## 5.3 Visualising the photometry of the object 4672469"
      ],
      "metadata": {
        "id": "JupqHGBA_MzA"
      }
    },
    {
      "cell_type": "code",
      "source": [
        "# Run this cell to show the source code of the script.\n",
        "\n",
        "!cat appy_s12_03_02.py"
      ],
      "metadata": {
        "id": "7EOGx5qe_TPX"
      },
      "execution_count": null,
      "outputs": []
    },
    {
      "cell_type": "code",
      "source": [
        "# Run this cell to execute the script.\n",
        "\n",
        "!python3.12 appy_s12_03_02.py"
      ],
      "metadata": {
        "id": "G3eODmhX_TPb"
      },
      "execution_count": null,
      "outputs": []
    },
    {
      "cell_type": "code",
      "source": [
        "# Run this cell to display a PNG file.\n",
        "\n",
        "# importing IPython module\n",
        "import IPython.display\n",
        "\n",
        "# displaying a PNG file\n",
        "IPython.display.Image ('appy_s12_03_02.png')"
      ],
      "metadata": {
        "id": "GojOxj2z_YqI"
      },
      "execution_count": null,
      "outputs": []
    },
    {
      "cell_type": "markdown",
      "source": [
        "## 5.4 Period search using PDM"
      ],
      "metadata": {
        "id": "ukpy6YPW_dtx"
      }
    },
    {
      "cell_type": "code",
      "source": [
        "# Run this cell to show the source code of the script.\n",
        "\n",
        "!cat appy_s12_03_03.py"
      ],
      "metadata": {
        "id": "TVXBRaC2_iGe"
      },
      "execution_count": null,
      "outputs": []
    },
    {
      "cell_type": "code",
      "source": [
        "# Run this cell to execute the script.\n",
        "\n",
        "!python3.12 appy_s12_03_03.py"
      ],
      "metadata": {
        "id": "IsKjsBSj_iGg"
      },
      "execution_count": null,
      "outputs": []
    },
    {
      "cell_type": "code",
      "source": [
        "# Run this cell to find newly created file.\n",
        "\n",
        "!ls -lF appy_s12_03_03.data"
      ],
      "metadata": {
        "id": "dOkRyQXn_tCx"
      },
      "execution_count": null,
      "outputs": []
    },
    {
      "cell_type": "code",
      "source": [
        "# Run this cell to show first 20 lines of the file \"appy_s12_03_03.data\".\n",
        "\n",
        "!head -20 appy_s12_03_03.data"
      ],
      "metadata": {
        "id": "795OvUxd_tC2"
      },
      "execution_count": null,
      "outputs": []
    },
    {
      "cell_type": "code",
      "source": [
        "# Run this cell to show the source code of the script.\n",
        "\n",
        "!cat appy_s12_03_04.py"
      ],
      "metadata": {
        "id": "IUprEXZNA3RM"
      },
      "execution_count": null,
      "outputs": []
    },
    {
      "cell_type": "code",
      "source": [
        "# Run this cell to execute the script.\n",
        "\n",
        "!python3.12 appy_s12_03_04.py"
      ],
      "metadata": {
        "id": "620pXBVlA3RR"
      },
      "execution_count": null,
      "outputs": []
    },
    {
      "cell_type": "code",
      "source": [
        "# Run this cell to display a PNG file.\n",
        "\n",
        "# importing IPython module\n",
        "import IPython.display\n",
        "\n",
        "# displaying a PNG file\n",
        "IPython.display.Image ('appy_s12_03_04.png')"
      ],
      "metadata": {
        "id": "Dix9rqmqA3RR"
      },
      "execution_count": null,
      "outputs": []
    },
    {
      "cell_type": "code",
      "source": [
        "# Run this cell to show the source code of the script.\n",
        "\n",
        "!cat appy_s12_03_05.py"
      ],
      "metadata": {
        "id": "TJkwqHS2A_AT"
      },
      "execution_count": null,
      "outputs": []
    },
    {
      "cell_type": "code",
      "source": [
        "# Run this cell to execute the script.\n",
        "\n",
        "!python3.12 appy_s12_03_05.py"
      ],
      "metadata": {
        "id": "JpG1PS5fA_AY"
      },
      "execution_count": null,
      "outputs": []
    },
    {
      "cell_type": "code",
      "source": [
        "# Run this cell to display a PNG file.\n",
        "\n",
        "# importing IPython module\n",
        "import IPython.display\n",
        "\n",
        "# displaying a PNG file\n",
        "IPython.display.Image ('appy_s12_03_05.png')"
      ],
      "metadata": {
        "id": "gMf3IPwQA_AZ"
      },
      "execution_count": null,
      "outputs": []
    },
    {
      "cell_type": "code",
      "source": [
        "# Run this cell to show the source code of the script.\n",
        "\n",
        "!cat appy_s12_03_06.py"
      ],
      "metadata": {
        "id": "xOLfvDGfBJw6"
      },
      "execution_count": null,
      "outputs": []
    },
    {
      "cell_type": "code",
      "source": [
        "# Run this cell to execute the script.\n",
        "\n",
        "!python3.12 appy_s12_03_06.py"
      ],
      "metadata": {
        "id": "krDVxx7hBJxA"
      },
      "execution_count": null,
      "outputs": []
    },
    {
      "cell_type": "code",
      "source": [
        "# Run this cell to show the source code of the script.\n",
        "\n",
        "!cat appy_s12_03_07.py"
      ],
      "metadata": {
        "id": "Y8ZOWA2EBPxq"
      },
      "execution_count": null,
      "outputs": []
    },
    {
      "cell_type": "code",
      "source": [
        "# Run this cell to execute the script.\n",
        "\n",
        "!python3.12 appy_s12_03_07.py"
      ],
      "metadata": {
        "id": "p6zpYwo6BPxt"
      },
      "execution_count": null,
      "outputs": []
    },
    {
      "cell_type": "code",
      "source": [
        "# Run this cell to display a PNG file.\n",
        "\n",
        "# importing IPython module\n",
        "import IPython.display\n",
        "\n",
        "# displaying a PNG file\n",
        "IPython.display.Image ('appy_s12_03_07.png')"
      ],
      "metadata": {
        "id": "QGLfUGeTBPxu"
      },
      "execution_count": null,
      "outputs": []
    },
    {
      "cell_type": "code",
      "source": [
        "# Run this cell to show the source code of the script.\n",
        "\n",
        "!cat appy_s12_03_08.py"
      ],
      "metadata": {
        "id": "BEBGvtojBhPs"
      },
      "execution_count": null,
      "outputs": []
    },
    {
      "cell_type": "code",
      "source": [
        "# Run this cell to execute the script.\n",
        "\n",
        "!python3.12 appy_s12_03_08.py"
      ],
      "metadata": {
        "id": "S85kj_I-BhPy"
      },
      "execution_count": null,
      "outputs": []
    },
    {
      "cell_type": "code",
      "source": [
        "# Run this cell to display a PNG file.\n",
        "\n",
        "# importing IPython module\n",
        "import IPython.display\n",
        "\n",
        "# displaying a PNG file\n",
        "IPython.display.Image ('appy_s12_03_08.png')"
      ],
      "metadata": {
        "id": "DsXiFomLBhPz"
      },
      "execution_count": null,
      "outputs": []
    },
    {
      "cell_type": "markdown",
      "source": [
        "## 5.5 Folded lightcurve"
      ],
      "metadata": {
        "id": "BpK75hPvBnhD"
      }
    },
    {
      "cell_type": "code",
      "source": [
        "# Run this cell to show the source code of the script.\n",
        "\n",
        "!cat appy_s12_03_09.py"
      ],
      "metadata": {
        "id": "EMJrI6YmBrjy"
      },
      "execution_count": null,
      "outputs": []
    },
    {
      "cell_type": "code",
      "source": [
        "# Run this cell to execute the script.\n",
        "\n",
        "!python3.12 appy_s12_03_09.py"
      ],
      "metadata": {
        "id": "36ZmIxv0Brj3"
      },
      "execution_count": null,
      "outputs": []
    },
    {
      "cell_type": "code",
      "source": [
        "# Run this cell to display a PNG file.\n",
        "\n",
        "# importing IPython module\n",
        "import IPython.display\n",
        "\n",
        "# displaying a PNG file\n",
        "IPython.display.Image ('appy_s12_03_09.png')"
      ],
      "metadata": {
        "id": "vjNeK8OiBrj3"
      },
      "execution_count": null,
      "outputs": []
    },
    {
      "cell_type": "markdown",
      "source": [
        "# 6. Command-line argument analysis"
      ],
      "metadata": {
        "id": "0_BFZgKRGG3b"
      }
    },
    {
      "cell_type": "markdown",
      "source": [
        "## 6.1 Adding two integers"
      ],
      "metadata": {
        "id": "tf_K1BjIGKLA"
      }
    },
    {
      "cell_type": "code",
      "source": [
        "# Run this cell to show the source code of the script.\n",
        "\n",
        "!cat appy_s12_04_00.py"
      ],
      "metadata": {
        "id": "z9TsBmIKGNdv"
      },
      "execution_count": null,
      "outputs": []
    },
    {
      "cell_type": "code",
      "source": [
        "# Run this cell to execute the script.\n",
        "\n",
        "!python3.12 appy_s12_04_00.py -h"
      ],
      "metadata": {
        "id": "wB7q0OzSGNdw"
      },
      "execution_count": null,
      "outputs": []
    },
    {
      "cell_type": "code",
      "source": [
        "# Run this cell to execute the script.\n",
        "\n",
        "!python3.12 appy_s12_04_00.py -a 3 -b 4"
      ],
      "metadata": {
        "id": "auLI0Gh7GSbI"
      },
      "execution_count": null,
      "outputs": []
    },
    {
      "cell_type": "code",
      "source": [
        "# Run this cell to execute the script.\n",
        "\n",
        "!python3.12 appy_s12_04_00.py -a 5 -b 6"
      ],
      "metadata": {
        "id": "FjQNSF9fGVaE"
      },
      "execution_count": null,
      "outputs": []
    },
    {
      "cell_type": "markdown",
      "source": [
        "## 6.2 Calculation of sine"
      ],
      "metadata": {
        "id": "tkH_uF1pGX1a"
      }
    },
    {
      "cell_type": "code",
      "source": [
        "# Run this cell to show the source code of the script.\n",
        "\n",
        "!cat appy_s12_04_01.py"
      ],
      "metadata": {
        "id": "7gfnpbHdGbLI"
      },
      "execution_count": null,
      "outputs": []
    },
    {
      "cell_type": "code",
      "source": [
        "# Run this cell to execute the script.\n",
        "\n",
        "!python3.12 appy_s12_04_01.py -h"
      ],
      "metadata": {
        "id": "fKgFuFPhGbLJ"
      },
      "execution_count": null,
      "outputs": []
    },
    {
      "cell_type": "code",
      "source": [
        "# Run this cell to execute the script.\n",
        "\n",
        "!python3.12 appy_s12_04_01.py -a 30"
      ],
      "metadata": {
        "id": "Y2Zfs9YMGeoB"
      },
      "execution_count": null,
      "outputs": []
    },
    {
      "cell_type": "code",
      "source": [
        "# Run this cell to execute the script.\n",
        "\n",
        "!python3.12 appy_s12_04_01.py -a 270"
      ],
      "metadata": {
        "id": "9_f5QnN6GgSA"
      },
      "execution_count": null,
      "outputs": []
    },
    {
      "cell_type": "markdown",
      "source": [
        "## 6.3 Calculation of cosine"
      ],
      "metadata": {
        "id": "pqRCg-DrGijM"
      }
    },
    {
      "cell_type": "code",
      "source": [
        "# Run this cell to show the source code of the script.\n",
        "\n",
        "!cat appy_s12_04_02.py"
      ],
      "metadata": {
        "id": "1PZu8dgQGm1_"
      },
      "execution_count": null,
      "outputs": []
    },
    {
      "cell_type": "code",
      "source": [
        "# Run this cell to execute the script.\n",
        "\n",
        "!python3.12 appy_s12_04_02.py -h"
      ],
      "metadata": {
        "id": "OWsgzypRGm2C"
      },
      "execution_count": null,
      "outputs": []
    },
    {
      "cell_type": "code",
      "source": [
        "# Run this cell to execute the script.\n",
        "\n",
        "!python3.12 appy_s12_04_02.py -a 45"
      ],
      "metadata": {
        "id": "mJV2yMYMGpN0"
      },
      "execution_count": null,
      "outputs": []
    },
    {
      "cell_type": "code",
      "source": [
        "# Run this cell to execute the script.\n",
        "\n",
        "!python3.12 appy_s12_04_02.py --angle 45"
      ],
      "metadata": {
        "id": "kvPELB3lGrcQ"
      },
      "execution_count": null,
      "outputs": []
    },
    {
      "cell_type": "markdown",
      "source": [
        "## 6.4 Existence check of files"
      ],
      "metadata": {
        "id": "-BP0BfCIGuhR"
      }
    },
    {
      "cell_type": "code",
      "source": [
        "# Run this cell to show the source code of the script.\n",
        "\n",
        "!cat appy_s12_04_03.py"
      ],
      "metadata": {
        "id": "WCHTpa6EGyc4"
      },
      "execution_count": null,
      "outputs": []
    },
    {
      "cell_type": "code",
      "source": [
        "# Run this cell to execute the script.\n",
        "\n",
        "!python3.12 appy_s12_04_03.py -h"
      ],
      "metadata": {
        "id": "dx4qHlQHGyc6"
      },
      "execution_count": null,
      "outputs": []
    },
    {
      "cell_type": "code",
      "source": [
        "# Run this cell to execute the script.\n",
        "\n",
        "!python3.12 appy_s12_04_03.py appy_s12_00_00.py"
      ],
      "metadata": {
        "id": "SDG7uQP2G01J"
      },
      "execution_count": null,
      "outputs": []
    },
    {
      "cell_type": "code",
      "source": [
        "# Run this cell to execute the script.\n",
        "\n",
        "!python3.12 appy_s12_04_03.py /etc/fstab"
      ],
      "metadata": {
        "id": "CFSuW3GZG4KQ"
      },
      "execution_count": null,
      "outputs": []
    },
    {
      "cell_type": "code",
      "source": [
        "# Run this cell to execute the script.\n",
        "\n",
        "!python3.12 appy_s12_04_03.py /etc/group /etc/hosts /etc/passwd"
      ],
      "metadata": {
        "id": "cdSC3-QsG7SK"
      },
      "execution_count": null,
      "outputs": []
    },
    {
      "cell_type": "code",
      "source": [
        "# Run this cell to execute the script.\n",
        "\n",
        "!python3.12 appy_s12_04_03.py foo.py bar.txt baz.data"
      ],
      "metadata": {
        "id": "DH76I_MIG_eg"
      },
      "execution_count": null,
      "outputs": []
    },
    {
      "cell_type": "markdown",
      "source": [
        "# 7. A simple sinusoidal curve"
      ],
      "metadata": {
        "id": "IYLx0SZgHC-5"
      }
    },
    {
      "cell_type": "markdown",
      "source": [
        "## 7.1 Generating a set of synthetic data"
      ],
      "metadata": {
        "id": "x1UBxIWUHFN5"
      }
    },
    {
      "cell_type": "code",
      "source": [
        "# Run this cell to show the source code of the script.\n",
        "\n",
        "!cat appy_s12_05_00.py"
      ],
      "metadata": {
        "id": "o-MVQH49HLHp"
      },
      "execution_count": null,
      "outputs": []
    },
    {
      "cell_type": "code",
      "source": [
        "# Run this cell to execute the script.\n",
        "\n",
        "!python3.12 appy_s12_05_00.py -h"
      ],
      "metadata": {
        "id": "v1Z-ZMDWHLHq"
      },
      "execution_count": null,
      "outputs": []
    },
    {
      "cell_type": "code",
      "source": [
        "# Run this cell to execute the script.\n",
        "\n",
        "!python3.12 appy_s12_05_00.py -o appy_s12_05_00.data -s 2024-01-01T12:00:00 -e 2024-01-05T20:00:00 -p 7.5 -a 0.4 -m 18.0 -u 0.03 -t 180.0"
      ],
      "metadata": {
        "id": "R1yUraS7HO3D"
      },
      "execution_count": null,
      "outputs": []
    },
    {
      "cell_type": "code",
      "source": [
        "# Run this cell to find newly created file.\n",
        "\n",
        "!ls -lF appy_s12_05_00.data"
      ],
      "metadata": {
        "id": "taQvyITWHiYF"
      },
      "execution_count": null,
      "outputs": []
    },
    {
      "cell_type": "code",
      "source": [
        "# Run this cell to show first 30 lines of the file \"appy_s12_05_00.data\".\n",
        "\n",
        "!head -30 appy_s12_05_00.data"
      ],
      "metadata": {
        "id": "Um6letzFHiYH"
      },
      "execution_count": null,
      "outputs": []
    },
    {
      "cell_type": "markdown",
      "source": [
        "## 7.2 Visualising generated data"
      ],
      "metadata": {
        "id": "BC3Gl9jCHrMt"
      }
    },
    {
      "cell_type": "code",
      "source": [
        "# Run this cell to show the source code of the script.\n",
        "\n",
        "!cat appy_s12_05_01.py"
      ],
      "metadata": {
        "id": "DXE9OI8YHwqB"
      },
      "execution_count": null,
      "outputs": []
    },
    {
      "cell_type": "code",
      "source": [
        "# Run this cell to execute the script.\n",
        "\n",
        "!python3.12 appy_s12_05_01.py -h"
      ],
      "metadata": {
        "id": "bC7keVeeHwqF"
      },
      "execution_count": null,
      "outputs": []
    },
    {
      "cell_type": "code",
      "source": [
        "# Run this cell to execute the script.\n",
        "\n",
        "!python3.12 appy_s12_05_01.py -i appy_s12_05_00.data -o appy_s12_05_01.png"
      ],
      "metadata": {
        "id": "sd6UhZh2HzSh"
      },
      "execution_count": null,
      "outputs": []
    },
    {
      "cell_type": "code",
      "source": [
        "# Run this cell to display a PNG file.\n",
        "\n",
        "# importing IPython module\n",
        "import IPython.display\n",
        "\n",
        "# displaying a PNG file\n",
        "IPython.display.Image ('appy_s12_05_01.png')"
      ],
      "metadata": {
        "id": "EAYoxn-FH8Si"
      },
      "execution_count": null,
      "outputs": []
    },
    {
      "cell_type": "markdown",
      "source": [
        "## 7.3 Folding time-series data using a trial period"
      ],
      "metadata": {
        "id": "eUr7g6uhH_Zs"
      }
    },
    {
      "cell_type": "code",
      "source": [
        "# Run this cell to show the source code of the script.\n",
        "\n",
        "!cat appy_s12_05_02.py"
      ],
      "metadata": {
        "id": "SWLC-TphIGlk"
      },
      "execution_count": null,
      "outputs": []
    },
    {
      "cell_type": "code",
      "source": [
        "# Run this cell to execute the script.\n",
        "\n",
        "!python3.12 appy_s12_05_02.py -h"
      ],
      "metadata": {
        "id": "-DxA8ZKMIGlm"
      },
      "execution_count": null,
      "outputs": []
    },
    {
      "cell_type": "code",
      "source": [
        "# Run this cell to execute the script.\n",
        "\n",
        "!python3.12 appy_s12_05_02.py -i appy_s12_05_00.data -o appy_s12_05_02_70.png -p 7.0"
      ],
      "metadata": {
        "id": "mBbFHJcpIGln"
      },
      "execution_count": null,
      "outputs": []
    },
    {
      "cell_type": "code",
      "source": [
        "# Run this cell to display a PNG file.\n",
        "\n",
        "# importing IPython module\n",
        "import IPython.display\n",
        "\n",
        "# displaying a PNG file\n",
        "IPython.display.Image ('appy_s12_05_02_70.png')"
      ],
      "metadata": {
        "id": "L0IcP4OGIGln"
      },
      "execution_count": null,
      "outputs": []
    },
    {
      "cell_type": "code",
      "source": [
        "# Run this cell to execute the script.\n",
        "\n",
        "!python3.12 appy_s12_05_02.py -i appy_s12_05_00.data -o appy_s12_05_02_71.png -p 7.1"
      ],
      "metadata": {
        "id": "_3QjxOOXIYjr"
      },
      "execution_count": null,
      "outputs": []
    },
    {
      "cell_type": "code",
      "source": [
        "# Run this cell to display a PNG file.\n",
        "\n",
        "# importing IPython module\n",
        "import IPython.display\n",
        "\n",
        "# displaying a PNG file\n",
        "IPython.display.Image ('appy_s12_05_02_71.png')"
      ],
      "metadata": {
        "id": "CGYT9NQAIYjv"
      },
      "execution_count": null,
      "outputs": []
    },
    {
      "cell_type": "code",
      "source": [
        "# Run this cell to execute the script.\n",
        "\n",
        "!python3.12 appy_s12_05_02.py -i appy_s12_05_00.data -o appy_s12_05_02_75.png -p 7.5"
      ],
      "metadata": {
        "id": "IGWg2gyYIhRw"
      },
      "execution_count": null,
      "outputs": []
    },
    {
      "cell_type": "code",
      "source": [
        "# Run this cell to display a PNG file.\n",
        "\n",
        "# importing IPython module\n",
        "import IPython.display\n",
        "\n",
        "# displaying a PNG file\n",
        "IPython.display.Image ('appy_s12_05_02_75.png')"
      ],
      "metadata": {
        "id": "gwz_FRbRIhR1"
      },
      "execution_count": null,
      "outputs": []
    },
    {
      "cell_type": "code",
      "source": [
        "# Run this cell to show the source code of the script.\n",
        "\n",
        "!cat appy_s12_05_03.py"
      ],
      "metadata": {
        "id": "XB5dkdxGIuSs"
      },
      "execution_count": null,
      "outputs": []
    },
    {
      "cell_type": "code",
      "source": [
        "# Run this cell to execute the script.\n",
        "\n",
        "!python3.12 appy_s12_05_03.py -h"
      ],
      "metadata": {
        "id": "Of5aF0OYIuSx"
      },
      "execution_count": null,
      "outputs": []
    },
    {
      "cell_type": "code",
      "source": [
        "# Run this cell to execute the script.\n",
        "\n",
        "!python3.12 appy_s12_05_03.py -i appy_s12_05_00.data -o appy_s12_05_03.png 7.0 7.1 7.2 7.3 7.4 7.5"
      ],
      "metadata": {
        "id": "I2jlNPgOIuSz"
      },
      "execution_count": null,
      "outputs": []
    },
    {
      "cell_type": "code",
      "source": [
        "# Run this cell to display a PNG file.\n",
        "\n",
        "# importing IPython module\n",
        "import IPython.display\n",
        "\n",
        "# displaying a PNG file\n",
        "IPython.display.Image ('appy_s12_05_03.png')"
      ],
      "metadata": {
        "id": "ClD6C-OyIuS0"
      },
      "execution_count": null,
      "outputs": []
    },
    {
      "cell_type": "markdown",
      "source": [
        "## 7.4 Period search using Lomb-Scargle periodogram"
      ],
      "metadata": {
        "id": "WKl-DeLnI8yL"
      }
    },
    {
      "cell_type": "code",
      "source": [
        "# Run this cell to show the source code of the script.\n",
        "\n",
        "!cat appy_s12_05_04.py"
      ],
      "metadata": {
        "id": "ghh8xlaTJEOD"
      },
      "execution_count": null,
      "outputs": []
    },
    {
      "cell_type": "code",
      "source": [
        "# Run this cell to execute the script.\n",
        "\n",
        "!python3.12 appy_s12_05_04.py -h"
      ],
      "metadata": {
        "id": "nLcgoBdsJEOF"
      },
      "execution_count": null,
      "outputs": []
    },
    {
      "cell_type": "code",
      "source": [
        "# Run this cell to execute the script.\n",
        "\n",
        "!python3.12 appy_s12_05_04.py -i appy_s12_05_00.data -o appy_s12_05_04.data"
      ],
      "metadata": {
        "id": "GuG9oHgXJEOG"
      },
      "execution_count": null,
      "outputs": []
    },
    {
      "cell_type": "code",
      "source": [
        "# Run this cell to find newly created file.\n",
        "\n",
        "!ls -lF appy_s12_05_04.data"
      ],
      "metadata": {
        "id": "M2xb16UZJQvs"
      },
      "execution_count": null,
      "outputs": []
    },
    {
      "cell_type": "code",
      "source": [
        "# Run this cell to show first 20 lines of the file \"appy_s12_05_04.data\".\n",
        "\n",
        "!head -20 appy_s12_05_04.data"
      ],
      "metadata": {
        "id": "oZZ0vnqJJQvx"
      },
      "execution_count": null,
      "outputs": []
    },
    {
      "cell_type": "markdown",
      "source": [
        "## 7.5 Visualising result of Lomb-Scargle periodogram"
      ],
      "metadata": {
        "id": "-3VIShBbJYCV"
      }
    },
    {
      "cell_type": "code",
      "source": [
        "# Run this cell to show the source code of the script.\n",
        "\n",
        "!cat appy_s12_05_05.py"
      ],
      "metadata": {
        "id": "fW7hQts7Jf8Y"
      },
      "execution_count": null,
      "outputs": []
    },
    {
      "cell_type": "code",
      "source": [
        "# Run this cell to execute the script.\n",
        "\n",
        "!python3.12 appy_s12_05_05.py -h"
      ],
      "metadata": {
        "id": "iQhwlds3Jf8c"
      },
      "execution_count": null,
      "outputs": []
    },
    {
      "cell_type": "code",
      "source": [
        "# Run this cell to execute the script.\n",
        "\n",
        "!python3.12 appy_s12_05_05.py -i appy_s12_05_04.data -o appy_s12_05_05.png"
      ],
      "metadata": {
        "id": "yXNAwp0CJf8d"
      },
      "execution_count": null,
      "outputs": []
    },
    {
      "cell_type": "code",
      "source": [
        "# Run this cell to display a PNG file.\n",
        "\n",
        "# importing IPython module\n",
        "import IPython.display\n",
        "\n",
        "# displaying a PNG file\n",
        "IPython.display.Image ('appy_s12_05_05.png')"
      ],
      "metadata": {
        "id": "3qHUGBPdJoIg"
      },
      "execution_count": null,
      "outputs": []
    },
    {
      "cell_type": "code",
      "source": [
        "# Run this cell to show the source code of the script.\n",
        "\n",
        "!cat appy_s12_05_06.py"
      ],
      "metadata": {
        "id": "ySJOnAsAJwqs"
      },
      "execution_count": null,
      "outputs": []
    },
    {
      "cell_type": "code",
      "source": [
        "# Run this cell to execute the script.\n",
        "\n",
        "!python3.12 appy_s12_05_06.py -h"
      ],
      "metadata": {
        "id": "lvIqy1KxJwqx"
      },
      "execution_count": null,
      "outputs": []
    },
    {
      "cell_type": "code",
      "source": [
        "# Run this cell to execute the script.\n",
        "\n",
        "!python3.12 appy_s12_05_06.py -i appy_s12_05_04.data -o appy_s12_05_06.png -a 0.1 -b 30"
      ],
      "metadata": {
        "id": "a1MfuT2SJwqx"
      },
      "execution_count": null,
      "outputs": []
    },
    {
      "cell_type": "code",
      "source": [
        "# Run this cell to display a PNG file.\n",
        "\n",
        "# importing IPython module\n",
        "import IPython.display\n",
        "\n",
        "# displaying a PNG file\n",
        "IPython.display.Image ('appy_s12_05_06.png')"
      ],
      "metadata": {
        "id": "8STWcT-mJwqz"
      },
      "execution_count": null,
      "outputs": []
    },
    {
      "cell_type": "code",
      "source": [
        "# Run this cell to execute the script.\n",
        "\n",
        "!python3.12 appy_s12_05_06.py -i appy_s12_05_04.data -o appy_s12_05_06_5_10.png -a 5 -b 10"
      ],
      "metadata": {
        "id": "TnSM-lqQKECV"
      },
      "execution_count": null,
      "outputs": []
    },
    {
      "cell_type": "code",
      "source": [
        "# Run this cell to display a PNG file.\n",
        "\n",
        "# importing IPython module\n",
        "import IPython.display\n",
        "\n",
        "# displaying a PNG file\n",
        "IPython.display.Image ('appy_s12_05_06_5_10.png')"
      ],
      "metadata": {
        "id": "9DVqCw7CKECf"
      },
      "execution_count": null,
      "outputs": []
    },
    {
      "cell_type": "markdown",
      "source": [
        "## 7.6 Denser trial frequencies"
      ],
      "metadata": {
        "id": "kFCtj6xYKNP4"
      }
    },
    {
      "cell_type": "code",
      "source": [
        "# Run this cell to show the source code of the script.\n",
        "\n",
        "!cat appy_s12_05_07.py"
      ],
      "metadata": {
        "id": "rC0Pw7QBKWeW"
      },
      "execution_count": null,
      "outputs": []
    },
    {
      "cell_type": "code",
      "source": [
        "# Run this cell to execute the script.\n",
        "\n",
        "!python3.12 appy_s12_05_07.py -h"
      ],
      "metadata": {
        "id": "jST7yABfKWea"
      },
      "execution_count": null,
      "outputs": []
    },
    {
      "cell_type": "code",
      "source": [
        "# Run this cell to execute the script.\n",
        "\n",
        "!python3.12 appy_s12_05_07.py -i appy_s12_05_00.data -o appy_s12_05_07.data -n 100"
      ],
      "metadata": {
        "id": "43bpwsNjKWec"
      },
      "execution_count": null,
      "outputs": []
    },
    {
      "cell_type": "code",
      "source": [
        "# Run this cell to find newly created file.\n",
        "\n",
        "!ls -lF appy_s12_05_07.data"
      ],
      "metadata": {
        "id": "yoFPXPBEKWec"
      },
      "execution_count": null,
      "outputs": []
    },
    {
      "cell_type": "code",
      "source": [
        "# Run this cell to show first 20 lines of the file \"appy_s12_05_07.data\".\n",
        "\n",
        "!head -20 appy_s12_05_07.data"
      ],
      "metadata": {
        "id": "95Bfe6KYKWef"
      },
      "execution_count": null,
      "outputs": []
    },
    {
      "cell_type": "code",
      "source": [
        "# Run this cell to show the source code of the script.\n",
        "\n",
        "!cat appy_s12_05_08.py"
      ],
      "metadata": {
        "id": "-ib-T12sKqaw"
      },
      "execution_count": null,
      "outputs": []
    },
    {
      "cell_type": "code",
      "source": [
        "# Run this cell to execute the script.\n",
        "\n",
        "!python3.12 appy_s12_05_08.py -h"
      ],
      "metadata": {
        "id": "Sz1MQdKjKqa1"
      },
      "execution_count": null,
      "outputs": []
    },
    {
      "cell_type": "code",
      "source": [
        "# Run this cell to execute the script.\n",
        "\n",
        "!python3.12 appy_s12_05_08.py -i appy_s12_05_07.data -o appy_s12_05_08.png -a 6 -b 9"
      ],
      "metadata": {
        "id": "qBGem5gJKqa2"
      },
      "execution_count": null,
      "outputs": []
    },
    {
      "cell_type": "code",
      "source": [
        "# Run this cell to display a PNG file.\n",
        "\n",
        "# importing IPython module\n",
        "import IPython.display\n",
        "\n",
        "# displaying a PNG file\n",
        "IPython.display.Image ('appy_s12_05_08.png')"
      ],
      "metadata": {
        "id": "w0jAA_1YKqa3"
      },
      "execution_count": null,
      "outputs": []
    },
    {
      "cell_type": "markdown",
      "source": [
        "## 7.7 Finding the centre of the peak"
      ],
      "metadata": {
        "id": "rqwwq-_TK4uZ"
      }
    },
    {
      "cell_type": "code",
      "source": [
        "# Run this cell to show the source code of the script.\n",
        "\n",
        "!cat appy_s12_05_09.py"
      ],
      "metadata": {
        "id": "HPYgVeszK-gP"
      },
      "execution_count": null,
      "outputs": []
    },
    {
      "cell_type": "code",
      "source": [
        "# Run this cell to execute the script.\n",
        "\n",
        "!python3.12 appy_s12_05_09.py -h"
      ],
      "metadata": {
        "id": "ipSrwCKJK-gQ"
      },
      "execution_count": null,
      "outputs": []
    },
    {
      "cell_type": "code",
      "source": [
        "# Run this cell to execute the script.\n",
        "\n",
        "!python3.12 appy_s12_05_09.py -i appy_s12_05_07.data -o appy_s12_05_09_1.png -x1 6 -x2 9 -f1 7 -f2 8"
      ],
      "metadata": {
        "id": "6Qb3B1P6K-gR"
      },
      "execution_count": null,
      "outputs": []
    },
    {
      "cell_type": "code",
      "source": [
        "# Run this cell to display a PNG file.\n",
        "\n",
        "# importing IPython module\n",
        "import IPython.display\n",
        "\n",
        "# displaying a PNG file\n",
        "IPython.display.Image ('appy_s12_05_09_1.png')"
      ],
      "metadata": {
        "id": "1Ts2r4WBK-gR"
      },
      "execution_count": null,
      "outputs": []
    },
    {
      "cell_type": "code",
      "source": [
        "# Run this cell to execute the script.\n",
        "\n",
        "!python3.12 appy_s12_05_09.py -i appy_s12_05_07.data -o appy_s12_05_09_2.png -x1 6.5 -x2 8.5 -f1 7.2 -f2 7.8"
      ],
      "metadata": {
        "id": "tJM4s0CoLL5Q"
      },
      "execution_count": null,
      "outputs": []
    },
    {
      "cell_type": "code",
      "source": [
        "# Run this cell to display a PNG file.\n",
        "\n",
        "# importing IPython module\n",
        "import IPython.display\n",
        "\n",
        "# displaying a PNG file\n",
        "IPython.display.Image ('appy_s12_05_09_2.png')"
      ],
      "metadata": {
        "id": "OlcsM19oLL5W"
      },
      "execution_count": null,
      "outputs": []
    },
    {
      "cell_type": "code",
      "source": [
        "# Run this cell to execute the script.\n",
        "\n",
        "!python3.12 appy_s12_05_09.py -i appy_s12_05_07.data -o appy_s12_05_09_3.png -x1 6.5 -x2 8.5 -f1 7.3 -f2 7.7"
      ],
      "metadata": {
        "id": "BP_DmPUJLVN_"
      },
      "execution_count": null,
      "outputs": []
    },
    {
      "cell_type": "code",
      "source": [
        "# Run this cell to display a PNG file.\n",
        "\n",
        "# importing IPython module\n",
        "import IPython.display\n",
        "\n",
        "# displaying a PNG file\n",
        "IPython.display.Image ('appy_s12_05_09_3.png')"
      ],
      "metadata": {
        "id": "ZHRkjN51LVOE"
      },
      "execution_count": null,
      "outputs": []
    },
    {
      "cell_type": "markdown",
      "source": [
        "## 7.8 Folding time-series data using the best fit period"
      ],
      "metadata": {
        "id": "VeDtHMY8Le7_"
      }
    },
    {
      "cell_type": "code",
      "source": [
        "# Run this cell to show the source code of the script.\n",
        "\n",
        "!cat appy_s12_05_10.py"
      ],
      "metadata": {
        "id": "poJgK67TLnHZ"
      },
      "execution_count": null,
      "outputs": []
    },
    {
      "cell_type": "code",
      "source": [
        "# Run this cell to execute the script.\n",
        "\n",
        "!python3.12 appy_s12_05_10.py -h"
      ],
      "metadata": {
        "id": "f19gv8F6LnHd"
      },
      "execution_count": null,
      "outputs": []
    },
    {
      "cell_type": "code",
      "source": [
        "# Run this cell to execute the script.\n",
        "\n",
        "!python3.12 appy_s12_05_10.py -i appy_s12_05_00.data -o appy_s12_05_10.png -p 7.5038"
      ],
      "metadata": {
        "id": "HimVvwoELnHf"
      },
      "execution_count": null,
      "outputs": []
    },
    {
      "cell_type": "code",
      "source": [
        "# Run this cell to display a PNG file.\n",
        "\n",
        "# importing IPython module\n",
        "import IPython.display\n",
        "\n",
        "# displaying a PNG file\n",
        "IPython.display.Image ('appy_s12_05_10.png')"
      ],
      "metadata": {
        "id": "6mZhjHJjLnHg"
      },
      "execution_count": null,
      "outputs": []
    },
    {
      "cell_type": "markdown",
      "source": [
        "# 8. Dealing with more realistic data"
      ],
      "metadata": {
        "id": "_x-PuP9BLzA2"
      }
    },
    {
      "cell_type": "markdown",
      "source": [
        "## 8.1 Generating synthetic data"
      ],
      "metadata": {
        "id": "VZqaAoUFL2FI"
      }
    },
    {
      "cell_type": "code",
      "source": [
        "# Run this cell to show the source code of the script.\n",
        "\n",
        "!cat appy_s12_06_00.py"
      ],
      "metadata": {
        "id": "Wc-aKW0kL6zP"
      },
      "execution_count": null,
      "outputs": []
    },
    {
      "cell_type": "code",
      "source": [
        "# Run this cell to execute the script.\n",
        "\n",
        "!python3.12 appy_s12_06_00.py -h"
      ],
      "metadata": {
        "id": "26Yxoa0GL6zR"
      },
      "execution_count": null,
      "outputs": []
    },
    {
      "cell_type": "code",
      "source": [
        "# Run this cell to execute the script.\n",
        "\n",
        "!python3.12 appy_s12_06_00.py -a 0.45 -p 17 -d 0.2 -m 22 -t 120 -r 20 -u 0.04 -s 2024-07-01T12:00:00 -e 2024-07-06T20:00:00 -o appy_s12_06_00.data"
      ],
      "metadata": {
        "id": "yaJ3mZ9-L-Fl"
      },
      "execution_count": null,
      "outputs": []
    },
    {
      "cell_type": "code",
      "source": [
        "# Run this cell to find newly created file.\n",
        "\n",
        "!ls -lF appy_s12_06_00.data"
      ],
      "metadata": {
        "id": "jKApm_WtMMOg"
      },
      "execution_count": null,
      "outputs": []
    },
    {
      "cell_type": "code",
      "source": [
        "# Run this cell to show first 25 lines of the file \"appy_s12_06_00.data\".\n",
        "\n",
        "!head -25 appy_s12_06_00.data"
      ],
      "metadata": {
        "id": "uTY5r8_qMMOk"
      },
      "execution_count": null,
      "outputs": []
    },
    {
      "cell_type": "markdown",
      "source": [
        "## 8.2 Visualising synthetic time-series data"
      ],
      "metadata": {
        "id": "Amu-c3ZvMU1n"
      }
    },
    {
      "cell_type": "code",
      "source": [
        "# Run this cell to show the source code of the script.\n",
        "\n",
        "!cat appy_s12_06_01.py"
      ],
      "metadata": {
        "id": "oGQbFYvIMasq"
      },
      "execution_count": null,
      "outputs": []
    },
    {
      "cell_type": "code",
      "source": [
        "# Run this cell to execute the script.\n",
        "\n",
        "!python3.12 appy_s12_06_01.py -h"
      ],
      "metadata": {
        "id": "fXCvmFvpMast"
      },
      "execution_count": null,
      "outputs": []
    },
    {
      "cell_type": "code",
      "source": [
        "# Run this cell to execute the script.\n",
        "\n",
        "!python3.12 appy_s12_06_01.py -i appy_s12_06_00.data -o appy_s12_06_01.png"
      ],
      "metadata": {
        "id": "800_S7U8Mdmd"
      },
      "execution_count": null,
      "outputs": []
    },
    {
      "cell_type": "code",
      "source": [
        "# Run this cell to display a PNG file.\n",
        "\n",
        "# importing IPython module\n",
        "import IPython.display\n",
        "\n",
        "# displaying a PNG file\n",
        "IPython.display.Image ('appy_s12_06_01.png')"
      ],
      "metadata": {
        "id": "dPkQwCZuMlHX"
      },
      "execution_count": null,
      "outputs": []
    },
    {
      "cell_type": "markdown",
      "source": [
        "## 8.3 Period search by Lomb-Scargle periodogram"
      ],
      "metadata": {
        "id": "hhlstI62MpBa"
      }
    },
    {
      "cell_type": "code",
      "source": [
        "# Run this cell to show the source code of the script.\n",
        "\n",
        "!cat appy_s12_06_02.py"
      ],
      "metadata": {
        "id": "K5zjkziIMz5Z"
      },
      "execution_count": null,
      "outputs": []
    },
    {
      "cell_type": "code",
      "source": [
        "# Run this cell to execute the script.\n",
        "\n",
        "!python3.12 appy_s12_06_02.py -h"
      ],
      "metadata": {
        "id": "042wyVKxMz5f"
      },
      "execution_count": null,
      "outputs": []
    },
    {
      "cell_type": "code",
      "source": [
        "# Run this cell to execute the script.\n",
        "\n",
        "!python3.12 appy_s12_06_02.py -i appy_s12_06_00.data -o appy_s12_06_02.data -a 1 -b 6000 -n 100"
      ],
      "metadata": {
        "id": "zjhHkoo0M2Tg"
      },
      "execution_count": null,
      "outputs": []
    },
    {
      "cell_type": "code",
      "source": [
        "# Run this cell to find newly created file.\n",
        "\n",
        "!ls -lF appy_s12_06_02.data"
      ],
      "metadata": {
        "id": "eyZDuPjwM--Z"
      },
      "execution_count": null,
      "outputs": []
    },
    {
      "cell_type": "code",
      "source": [
        "# Run this cell to show first 20 lines of the file \"appy_s12_06_02.data\".\n",
        "\n",
        "!head -20 appy_s12_06_02.data"
      ],
      "metadata": {
        "id": "5BTjxk0pM--a"
      },
      "execution_count": null,
      "outputs": []
    },
    {
      "cell_type": "markdown",
      "source": [
        "## 8.4 Visualising power spectrum"
      ],
      "metadata": {
        "id": "9zqzNGl9NFXd"
      }
    },
    {
      "cell_type": "code",
      "source": [
        "# Run this cell to show the source code of the script.\n",
        "\n",
        "!cat appy_s12_06_03.py"
      ],
      "metadata": {
        "id": "LRenqEcxNKFx"
      },
      "execution_count": null,
      "outputs": []
    },
    {
      "cell_type": "code",
      "source": [
        "# Run this cell to execute the script.\n",
        "\n",
        "!python3.12 appy_s12_06_03.py -h"
      ],
      "metadata": {
        "id": "JoNmsof8NKFy"
      },
      "execution_count": null,
      "outputs": []
    },
    {
      "cell_type": "code",
      "source": [
        "# Run this cell to execute the script.\n",
        "\n",
        "!python3.12 appy_s12_06_03.py -i appy_s12_06_02.data -o appy_s12_06_03_1.png -a 0.01 -b 100"
      ],
      "metadata": {
        "id": "uSNARG9JNMW7"
      },
      "execution_count": null,
      "outputs": []
    },
    {
      "cell_type": "code",
      "source": [
        "# Run this cell to display a PNG file.\n",
        "\n",
        "# importing IPython module\n",
        "import IPython.display\n",
        "\n",
        "# displaying a PNG file\n",
        "IPython.display.Image ('appy_s12_06_03_1.png')"
      ],
      "metadata": {
        "id": "0qT4-j5SNTlb"
      },
      "execution_count": null,
      "outputs": []
    },
    {
      "cell_type": "code",
      "source": [
        "# Run this cell to execute the script.\n",
        "\n",
        "!python3.12 appy_s12_06_03.py -i appy_s12_06_02.data -o appy_s12_06_03_2.png -a 14 -b 20"
      ],
      "metadata": {
        "id": "m8suwjzzNW2i"
      },
      "execution_count": null,
      "outputs": []
    },
    {
      "cell_type": "code",
      "source": [
        "# Run this cell to display a PNG file.\n",
        "\n",
        "# importing IPython module\n",
        "import IPython.display\n",
        "\n",
        "# displaying a PNG file\n",
        "IPython.display.Image ('appy_s12_06_03_2.png')"
      ],
      "metadata": {
        "id": "uZBaLoLQNW2q"
      },
      "execution_count": null,
      "outputs": []
    },
    {
      "cell_type": "markdown",
      "source": [
        "## 8.5 Finding the best fit period"
      ],
      "metadata": {
        "id": "mSIw32xONhj2"
      }
    },
    {
      "cell_type": "code",
      "source": [
        "# Run this cell to execute the script.\n",
        "\n",
        "!python3.12 appy_s12_06_02.py -i appy_s12_06_00.data -o appy_s12_06_02_2.data -a 840 -b 1200 -n 1000"
      ],
      "metadata": {
        "id": "Oempjv6ANmoR"
      },
      "execution_count": null,
      "outputs": []
    },
    {
      "cell_type": "code",
      "source": [
        "# Run this cell to find newly created file.\n",
        "\n",
        "!ls -lF appy_s12_06_02_2.data"
      ],
      "metadata": {
        "id": "H9lGKQYoN0Cr"
      },
      "execution_count": null,
      "outputs": []
    },
    {
      "cell_type": "code",
      "source": [
        "# Run this cell to show first 20 lines of the file \"appy_s12_06_02_2.data\".\n",
        "\n",
        "!head -20 appy_s12_06_02_2.data"
      ],
      "metadata": {
        "id": "9QV9Ac8wN0Cw"
      },
      "execution_count": null,
      "outputs": []
    },
    {
      "cell_type": "code",
      "source": [
        "# Run this cell to execute the script.\n",
        "\n",
        "!python3.12 appy_s12_06_03.py -i appy_s12_06_02_2.data -o appy_s12_06_03_3.png -a 14 -b 20"
      ],
      "metadata": {
        "id": "5p4QqGVuN92c"
      },
      "execution_count": null,
      "outputs": []
    },
    {
      "cell_type": "code",
      "source": [
        "# Run this cell to display a PNG file.\n",
        "\n",
        "# importing IPython module\n",
        "import IPython.display\n",
        "\n",
        "# displaying a PNG file\n",
        "IPython.display.Image ('appy_s12_06_03_3.png')"
      ],
      "metadata": {
        "id": "IHNKsq12N92d"
      },
      "execution_count": null,
      "outputs": []
    },
    {
      "cell_type": "code",
      "source": [
        "# Run this cell to execute the script.\n",
        "\n",
        "!python3.12 appy_s12_05_09.py -i appy_s12_06_02_2.data -o appy_s12_06_03_4.png -x1 14 -x2 20 -f1 15.5 -f2 18.5"
      ],
      "metadata": {
        "id": "joS3i1B9OOdr"
      },
      "execution_count": null,
      "outputs": []
    },
    {
      "cell_type": "code",
      "source": [
        "# Run this cell to display a PNG file.\n",
        "\n",
        "# importing IPython module\n",
        "import IPython.display\n",
        "\n",
        "# displaying a PNG file\n",
        "IPython.display.Image ('appy_s12_06_03_4.png')"
      ],
      "metadata": {
        "id": "5fAnP3mdOOdw"
      },
      "execution_count": null,
      "outputs": []
    },
    {
      "cell_type": "code",
      "source": [
        "# Run this cell to execute the script.\n",
        "\n",
        "!python3.12 appy_s12_05_09.py -i appy_s12_06_02_2.data -o appy_s12_06_03_5.png -x1 14 -x2 20 -f1 16.5 -f2 17.5"
      ],
      "metadata": {
        "id": "2zX36LYUOYOc"
      },
      "execution_count": null,
      "outputs": []
    },
    {
      "cell_type": "code",
      "source": [
        "# Run this cell to display a PNG file.\n",
        "\n",
        "# importing IPython module\n",
        "import IPython.display\n",
        "\n",
        "# displaying a PNG file\n",
        "IPython.display.Image ('appy_s12_06_03_5.png')"
      ],
      "metadata": {
        "id": "6atkWpGNOYOh"
      },
      "execution_count": null,
      "outputs": []
    },
    {
      "cell_type": "markdown",
      "source": [
        "## 8.6 Folding time-series data using the best fit period"
      ],
      "metadata": {
        "id": "UvfLrbUbOgxb"
      }
    },
    {
      "cell_type": "code",
      "source": [
        "# Run this cell to execute the script.\n",
        "\n",
        "!python3.12 appy_s12_05_10.py -i appy_s12_06_00.data -o appy_s12_06_03_6.png -p 17.0071"
      ],
      "metadata": {
        "id": "wYzmYmHzOo4M"
      },
      "execution_count": null,
      "outputs": []
    },
    {
      "cell_type": "code",
      "source": [
        "# Run this cell to display a PNG file.\n",
        "\n",
        "# importing IPython module\n",
        "import IPython.display\n",
        "\n",
        "# displaying a PNG file\n",
        "IPython.display.Image ('appy_s12_06_03_6.png')"
      ],
      "metadata": {
        "id": "KIpoaWlWOo4N"
      },
      "execution_count": null,
      "outputs": []
    },
    {
      "cell_type": "markdown",
      "source": [
        "# 9. Analysis of variable star data"
      ],
      "metadata": {
        "id": "7O_m7JzyOzyU"
      }
    },
    {
      "cell_type": "markdown",
      "source": [
        "## 9.1 Visualising the photometry of the object 4672469"
      ],
      "metadata": {
        "id": "_0YXD7fBO4H7"
      }
    },
    {
      "cell_type": "code",
      "source": [
        "# Run this cell to show the source code of the script.\n",
        "\n",
        "!cat appy_s12_07_00.py"
      ],
      "metadata": {
        "id": "iYWRmdBAPGfB"
      },
      "execution_count": null,
      "outputs": []
    },
    {
      "cell_type": "code",
      "source": [
        "# Run this cell to execute the script.\n",
        "\n",
        "!python3.12 appy_s12_07_00.py"
      ],
      "metadata": {
        "id": "SEQBZSB1PGfI"
      },
      "execution_count": null,
      "outputs": []
    },
    {
      "cell_type": "code",
      "source": [
        "# Run this cell to display a PNG file.\n",
        "\n",
        "# importing IPython module\n",
        "import IPython.display\n",
        "\n",
        "# displaying a PNG file\n",
        "IPython.display.Image ('appy_s12_07_00.png')"
      ],
      "metadata": {
        "id": "8okhecttPR0T"
      },
      "execution_count": null,
      "outputs": []
    },
    {
      "cell_type": "markdown",
      "source": [
        "## 9.2 Period search using Lomb-Scargle periodogram"
      ],
      "metadata": {
        "id": "1bk-r4_GPU6z"
      }
    },
    {
      "cell_type": "code",
      "source": [
        "# Run this cell to show the source code of the script.\n",
        "\n",
        "!cat appy_s12_07_01.py"
      ],
      "metadata": {
        "id": "Xl-zte7YPehz"
      },
      "execution_count": null,
      "outputs": []
    },
    {
      "cell_type": "code",
      "source": [
        "# Run this cell to execute the script.\n",
        "\n",
        "!python3.12 appy_s12_07_01.py -h"
      ],
      "metadata": {
        "id": "mJfj60hxPeh0"
      },
      "execution_count": null,
      "outputs": []
    },
    {
      "cell_type": "code",
      "source": [
        "# Run this cell to execute the script.\n",
        "\n",
        "!python3.12 appy_s12_07_01.py -i linear/4672469.dat -o appy_s12_07_01.data -n 10 -a 10 -b 3000"
      ],
      "metadata": {
        "id": "ODRHqTXIPhzr"
      },
      "execution_count": null,
      "outputs": []
    },
    {
      "cell_type": "code",
      "source": [
        "# Run this cell to find newly created file.\n",
        "\n",
        "!ls -lF appy_s12_07_01.data"
      ],
      "metadata": {
        "id": "05FlFAZJPsiM"
      },
      "execution_count": null,
      "outputs": []
    },
    {
      "cell_type": "code",
      "source": [
        "# Run this cell to show first 20 lines of the file \"appy_s12_07_01.data\".\n",
        "\n",
        "!head -20 appy_s12_07_01.data"
      ],
      "metadata": {
        "id": "fb6s3O8CPsiO"
      },
      "execution_count": null,
      "outputs": []
    },
    {
      "cell_type": "markdown",
      "source": [
        "## 9.3 Visualising result of period search"
      ],
      "metadata": {
        "id": "bgCpSyUxPyZL"
      }
    },
    {
      "cell_type": "code",
      "source": [
        "# Run this cell to execute the script.\n",
        "\n",
        "!python3.12 appy_s12_06_03.py -i appy_s12_07_01.data -o appy_s12_07_01_1.png -a 0.1 -b 50"
      ],
      "metadata": {
        "id": "mhQlX88JP6GF"
      },
      "execution_count": null,
      "outputs": []
    },
    {
      "cell_type": "code",
      "source": [
        "# Run this cell to display a PNG file.\n",
        "\n",
        "# importing IPython module\n",
        "import IPython.display\n",
        "\n",
        "# displaying a PNG file\n",
        "IPython.display.Image ('appy_s12_07_01_1.png')"
      ],
      "metadata": {
        "id": "i5chgGmkP6GG"
      },
      "execution_count": null,
      "outputs": []
    },
    {
      "cell_type": "code",
      "source": [
        "# Run this cell to execute the script.\n",
        "\n",
        "!python3.12 appy_s12_06_03.py -i appy_s12_07_01.data -o appy_s12_07_01_2.png -a 10 -b 15"
      ],
      "metadata": {
        "id": "1s4rib12QHrH"
      },
      "execution_count": null,
      "outputs": []
    },
    {
      "cell_type": "code",
      "source": [
        "# Run this cell to display a PNG file.\n",
        "\n",
        "# importing IPython module\n",
        "import IPython.display\n",
        "\n",
        "# displaying a PNG file\n",
        "IPython.display.Image ('appy_s12_07_01_2.png')"
      ],
      "metadata": {
        "id": "8WLpgiqBQHrN"
      },
      "execution_count": null,
      "outputs": []
    },
    {
      "cell_type": "code",
      "source": [
        "# Run this cell to execute the script.\n",
        "\n",
        "!python3.12 appy_s12_06_03.py -i appy_s12_07_01.data -o appy_s12_07_01_3.png -a 13.0 -b 13.5"
      ],
      "metadata": {
        "id": "mWVfFbAzQU8i"
      },
      "execution_count": null,
      "outputs": []
    },
    {
      "cell_type": "code",
      "source": [
        "# Run this cell to display a PNG file.\n",
        "\n",
        "# importing IPython module\n",
        "import IPython.display\n",
        "\n",
        "# displaying a PNG file\n",
        "IPython.display.Image ('appy_s12_07_01_3.png')"
      ],
      "metadata": {
        "id": "aGg5Sb3JQU8n"
      },
      "execution_count": null,
      "outputs": []
    },
    {
      "cell_type": "code",
      "source": [
        "# Run this cell to execute the script.\n",
        "\n",
        "!python3.12 appy_s12_07_01.py -i linear/4672469.dat -o appy_s12_07_01b.data -a 750 -b 850 -n 300"
      ],
      "metadata": {
        "id": "mH0vd_2oQmye"
      },
      "execution_count": null,
      "outputs": []
    },
    {
      "cell_type": "code",
      "source": [
        "# Run this cell to find newly created file.\n",
        "\n",
        "!ls -lF appy_s12_07_01b.data"
      ],
      "metadata": {
        "id": "rvH9dsCKQmyi"
      },
      "execution_count": null,
      "outputs": []
    },
    {
      "cell_type": "code",
      "source": [
        "# Run this cell to show first 20 lines of the file \"appy_s12_07_01b.data\".\n",
        "\n",
        "!head -20 appy_s12_07_01b.data"
      ],
      "metadata": {
        "id": "umm_1ggfQmyj"
      },
      "execution_count": null,
      "outputs": []
    },
    {
      "cell_type": "code",
      "source": [
        "# Run this cell to execute the script.\n",
        "\n",
        "!python3.12 appy_s12_06_03.py -i appy_s12_07_01b.data -o appy_s12_07_01_4.png -a 13.15 -b 13.25"
      ],
      "metadata": {
        "id": "UGIEBLz6Q1jH"
      },
      "execution_count": null,
      "outputs": []
    },
    {
      "cell_type": "code",
      "source": [
        "# Run this cell to display a PNG file.\n",
        "\n",
        "# importing IPython module\n",
        "import IPython.display\n",
        "\n",
        "# displaying a PNG file\n",
        "IPython.display.Image ('appy_s12_07_01_4.png')"
      ],
      "metadata": {
        "id": "wxXoR5EDQ1jL"
      },
      "execution_count": null,
      "outputs": []
    },
    {
      "cell_type": "markdown",
      "source": [
        "## 9.4 Finding location of the peak"
      ],
      "metadata": {
        "id": "U4KqCuVbQ72m"
      }
    },
    {
      "cell_type": "code",
      "source": [
        "# Run this cell to show the source code of the script.\n",
        "\n",
        "!cat appy_s12_07_02.py"
      ],
      "metadata": {
        "id": "1v6X-hSqRC7n"
      },
      "execution_count": null,
      "outputs": []
    },
    {
      "cell_type": "code",
      "source": [
        "# Run this cell to execute the script.\n",
        "\n",
        "!python3.12 appy_s12_07_02.py -h"
      ],
      "metadata": {
        "id": "1Vg9g2ciRC7r"
      },
      "execution_count": null,
      "outputs": []
    },
    {
      "cell_type": "code",
      "source": [
        "# Run this cell to execute the script.\n",
        "\n",
        "!python3.12 appy_s12_07_02.py -i appy_s12_07_01b.data -o appy_s12_07_02.png -x1 13.20 -x2 13.21 -f1 13.2034 -f2 13.2047 -a 10000 -b 10 -c 1"
      ],
      "metadata": {
        "id": "xG_Yu29tRHmA"
      },
      "execution_count": null,
      "outputs": []
    },
    {
      "cell_type": "code",
      "source": [
        "# Run this cell to display a PNG file.\n",
        "\n",
        "# importing IPython module\n",
        "import IPython.display\n",
        "\n",
        "# displaying a PNG file\n",
        "IPython.display.Image ('appy_s12_07_02.png')"
      ],
      "metadata": {
        "id": "qATAmD_lRR-4"
      },
      "execution_count": null,
      "outputs": []
    },
    {
      "cell_type": "markdown",
      "source": [
        "## 9.5 Folded lightcurve using the best fit period"
      ],
      "metadata": {
        "id": "5YxkTnD9RXG3"
      }
    },
    {
      "cell_type": "code",
      "source": [
        "# Run this cell to show the source code of the script.\n",
        "\n",
        "!cat appy_s12_07_03.py"
      ],
      "metadata": {
        "id": "-Nu338_sRcp2"
      },
      "execution_count": null,
      "outputs": []
    },
    {
      "cell_type": "code",
      "source": [
        "# Run this cell to execute the script.\n",
        "\n",
        "!python3.12 appy_s12_07_03.py -h"
      ],
      "metadata": {
        "id": "T2Dqy4xvRcp3"
      },
      "execution_count": null,
      "outputs": []
    },
    {
      "cell_type": "code",
      "source": [
        "# Run this cell to execute the script.\n",
        "\n",
        "!python3.12 appy_s12_07_03.py -i linear/4672469.dat -o appy_s12_07_03.png -p 13.2040600"
      ],
      "metadata": {
        "id": "FdjlE62hRgNY"
      },
      "execution_count": null,
      "outputs": []
    },
    {
      "cell_type": "code",
      "source": [
        "# Run this cell to display a PNG file.\n",
        "\n",
        "# importing IPython module\n",
        "import IPython.display\n",
        "\n",
        "# displaying a PNG file\n",
        "IPython.display.Image ('appy_s12_07_03.png')"
      ],
      "metadata": {
        "id": "SL_8q0fDRnNw"
      },
      "execution_count": null,
      "outputs": []
    },
    {
      "cell_type": "markdown",
      "source": [
        "# 10. Finding exoplanet transit from Kepler data"
      ],
      "metadata": {
        "id": "aMakJfxGRsao"
      }
    },
    {
      "cell_type": "markdown",
      "source": [
        "## 10.1 Downloading Kepler data"
      ],
      "metadata": {
        "id": "qnxFVpBuRvrf"
      }
    },
    {
      "cell_type": "code",
      "source": [
        "# Run this cell to show the source code of the script.\n",
        "\n",
        "!cat appy_s12_08_00.py"
      ],
      "metadata": {
        "id": "EZx1FMFJR3Im"
      },
      "execution_count": null,
      "outputs": []
    },
    {
      "cell_type": "code",
      "source": [
        "# Run this cell to execute the script.\n",
        "\n",
        "!python3.12 appy_s12_08_00.py"
      ],
      "metadata": {
        "id": "berBjDHdR3In"
      },
      "execution_count": null,
      "outputs": []
    },
    {
      "cell_type": "code",
      "source": [
        "# Run this cell to find downloaded files.\n",
        "\n",
        "!ls -lF *.fits"
      ],
      "metadata": {
        "id": "gJIywzez_KMu"
      },
      "execution_count": null,
      "outputs": []
    },
    {
      "cell_type": "markdown",
      "source": [
        "## 10.2 Reading the data"
      ],
      "metadata": {
        "id": "q7Fo1Zi3R_m-"
      }
    },
    {
      "cell_type": "code",
      "source": [
        "# Run this cell to show the source code of the script.\n",
        "\n",
        "!cat appy_s12_08_01.py"
      ],
      "metadata": {
        "id": "Wob4SP7tSDww"
      },
      "execution_count": null,
      "outputs": []
    },
    {
      "cell_type": "code",
      "source": [
        "# Run this cell to execute the script.\n",
        "\n",
        "!python3.12 appy_s12_08_01.py -h"
      ],
      "metadata": {
        "id": "tSBabaLRSDwy"
      },
      "execution_count": null,
      "outputs": []
    },
    {
      "cell_type": "code",
      "source": [
        "# Run this cell to execute the script.\n",
        "\n",
        "!python3.12 appy_s12_08_01.py -o appy_s12_08_01.data kplr*.fits"
      ],
      "metadata": {
        "id": "LuUY507kSJ_3"
      },
      "execution_count": null,
      "outputs": []
    },
    {
      "cell_type": "code",
      "source": [
        "# Run this cell to find newly created file.\n",
        "\n",
        "!ls -lF appy_s12_08_01.data"
      ],
      "metadata": {
        "id": "RcfLoA74SSRJ"
      },
      "execution_count": null,
      "outputs": []
    },
    {
      "cell_type": "code",
      "source": [
        "# Run this cell to show first 20 lines of the file \"appy_s12_08_01.data\".\n",
        "\n",
        "!head -20 appy_s12_08_01.data"
      ],
      "metadata": {
        "id": "IQqVrrUmR-Ho"
      },
      "execution_count": null,
      "outputs": []
    },
    {
      "cell_type": "markdown",
      "source": [
        "## 10.3 Visualising Kepler data"
      ],
      "metadata": {
        "id": "tvsRWimbSgCC"
      }
    },
    {
      "cell_type": "code",
      "source": [
        "# Run this cell to show the source code of the script.\n",
        "\n",
        "!cat appy_s12_08_02.py"
      ],
      "metadata": {
        "id": "jvjb1XvfSkMq"
      },
      "execution_count": null,
      "outputs": []
    },
    {
      "cell_type": "code",
      "source": [
        "# Run this cell to execute the script.\n",
        "\n",
        "!python3.12 appy_s12_08_02.py -h"
      ],
      "metadata": {
        "id": "Z1-WKwtWSkMs"
      },
      "execution_count": null,
      "outputs": []
    },
    {
      "cell_type": "code",
      "source": [
        "# Run this cell to execute the script.\n",
        "\n",
        "!python3.12 appy_s12_08_02.py -i appy_s12_08_01.data -o appy_s12_08_02.png"
      ],
      "metadata": {
        "id": "NZKJQV17SnvT"
      },
      "execution_count": null,
      "outputs": []
    },
    {
      "cell_type": "code",
      "source": [
        "# Run this cell to display a PNG file.\n",
        "\n",
        "# importing IPython module\n",
        "import IPython.display\n",
        "\n",
        "# displaying a PNG file\n",
        "IPython.display.Image ('appy_s12_08_02.png')"
      ],
      "metadata": {
        "id": "oLE_Re_HSwKC"
      },
      "execution_count": null,
      "outputs": []
    },
    {
      "cell_type": "markdown",
      "source": [
        "## 10.4 Baseline fitting"
      ],
      "metadata": {
        "id": "uvLJnabgS6ol"
      }
    },
    {
      "cell_type": "code",
      "source": [
        "# Run this cell to show the source code of the script.\n",
        "\n",
        "!cat appy_s12_08_03.py"
      ],
      "metadata": {
        "id": "TlUFIw3cS-yZ"
      },
      "execution_count": null,
      "outputs": []
    },
    {
      "cell_type": "code",
      "source": [
        "# Run this cell to execute the script.\n",
        "\n",
        "!python3.12 appy_s12_08_03.py -h"
      ],
      "metadata": {
        "id": "KSUiYLE_S-yc"
      },
      "execution_count": null,
      "outputs": []
    },
    {
      "cell_type": "code",
      "source": [
        "# Run this cell to execute the script.\n",
        "\n",
        "!python3.12 appy_s12_08_03.py -i appy_s12_08_01.data -o appy_s12_08_03.png"
      ],
      "metadata": {
        "id": "RznzJmbOTCFT"
      },
      "execution_count": null,
      "outputs": []
    },
    {
      "cell_type": "code",
      "source": [
        "# Run this cell to display a PNG file.\n",
        "\n",
        "# importing IPython module\n",
        "import IPython.display\n",
        "\n",
        "# displaying a PNG file\n",
        "IPython.display.Image ('appy_s12_08_03.png')"
      ],
      "metadata": {
        "id": "VCz5MslyTHrn"
      },
      "execution_count": null,
      "outputs": []
    },
    {
      "cell_type": "code",
      "source": [
        "# Run this cell to show the source code of the script.\n",
        "\n",
        "!cat appy_s12_08_04.py"
      ],
      "metadata": {
        "id": "lH52LGE3TVZQ"
      },
      "execution_count": null,
      "outputs": []
    },
    {
      "cell_type": "code",
      "source": [
        "# Run this cell to execute the script.\n",
        "\n",
        "!python3.12 appy_s12_08_04.py -h"
      ],
      "metadata": {
        "id": "zmoILxcZTVZV"
      },
      "execution_count": null,
      "outputs": []
    },
    {
      "cell_type": "code",
      "source": [
        "# Run this cell to execute the script.\n",
        "\n",
        "!python3.12 appy_s12_08_04.py -i appy_s12_08_01.data -o appy_s12_08_04.data"
      ],
      "metadata": {
        "id": "bdMYLeQOTYgu"
      },
      "execution_count": null,
      "outputs": []
    },
    {
      "cell_type": "code",
      "source": [
        "# Run this cell to find newly created file.\n",
        "\n",
        "!ls -lF appy_s12_08_04.data"
      ],
      "metadata": {
        "id": "l46ZHdMKTf0O"
      },
      "execution_count": null,
      "outputs": []
    },
    {
      "cell_type": "code",
      "source": [
        "# Run this cell to show first 20 lines of the file \"appy_s12_08_04.data\".\n",
        "\n",
        "!head -20 appy_s12_08_04.data"
      ],
      "metadata": {
        "id": "bSg7VxA6Tf0T"
      },
      "execution_count": null,
      "outputs": []
    },
    {
      "cell_type": "code",
      "source": [
        "# Run this cell to show the source code of the script.\n",
        "\n",
        "!cat appy_s12_08_05.py"
      ],
      "metadata": {
        "id": "vMgCMEbTTmVq"
      },
      "execution_count": null,
      "outputs": []
    },
    {
      "cell_type": "code",
      "source": [
        "# Run this cell to execute the script.\n",
        "\n",
        "!python3.12 appy_s12_08_05.py -h"
      ],
      "metadata": {
        "id": "Rp9NFv-vTmVr"
      },
      "execution_count": null,
      "outputs": []
    },
    {
      "cell_type": "code",
      "source": [
        "# Run this cell to execute the script.\n",
        "\n",
        "!python3.12 appy_s12_08_05.py -i appy_s12_08_04.data -o appy_s12_08_05.png"
      ],
      "metadata": {
        "id": "mNxGn2M6TpWh"
      },
      "execution_count": null,
      "outputs": []
    },
    {
      "cell_type": "code",
      "source": [
        "# Run this cell to display a PNG file.\n",
        "\n",
        "# importing IPython module\n",
        "import IPython.display\n",
        "\n",
        "# displaying a PNG file\n",
        "IPython.display.Image ('appy_s12_08_05.png')"
      ],
      "metadata": {
        "id": "GCCCVbfFTwcE"
      },
      "execution_count": null,
      "outputs": []
    },
    {
      "cell_type": "markdown",
      "source": [
        "## 10.6 Period search using Lomb-Scargle periodogram"
      ],
      "metadata": {
        "id": "kecDiPf0T9p8"
      }
    },
    {
      "cell_type": "code",
      "source": [
        "# Run this cell to show the source code of the script.\n",
        "\n",
        "!cat appy_s12_08_06.py"
      ],
      "metadata": {
        "id": "O99ubK1TUClT"
      },
      "execution_count": null,
      "outputs": []
    },
    {
      "cell_type": "code",
      "source": [
        "# Run this cell to execute the script.\n",
        "\n",
        "!python3.12 appy_s12_08_06.py -h"
      ],
      "metadata": {
        "id": "WwbhN77kUClV"
      },
      "execution_count": null,
      "outputs": []
    },
    {
      "cell_type": "code",
      "source": [
        "# Run this cell to execute the script.\n",
        "\n",
        "!python3.12 appy_s12_08_06.py -i appy_s12_08_04.data -o appy_s12_08_06.data -a 10 -b 7200 -n 10"
      ],
      "metadata": {
        "id": "SiVSTvVOUG9F"
      },
      "execution_count": null,
      "outputs": []
    },
    {
      "cell_type": "code",
      "source": [
        "# Run this cell to find newly created file.\n",
        "\n",
        "!ls -lF appy_s12_08_06.data"
      ],
      "metadata": {
        "id": "6dQkTGY0UNmU"
      },
      "execution_count": null,
      "outputs": []
    },
    {
      "cell_type": "code",
      "source": [
        "# Run this cell to show first 20 lines of the file \"appy_s12_08_06.data\".\n",
        "\n",
        "!head -20 appy_s12_08_06.data"
      ],
      "metadata": {
        "id": "dxa5TC0WUNma"
      },
      "execution_count": null,
      "outputs": []
    },
    {
      "cell_type": "markdown",
      "source": [
        "## 10.7 Visualising result of period search"
      ],
      "metadata": {
        "id": "TZAB323vUXNb"
      }
    },
    {
      "cell_type": "code",
      "source": [
        "# Run this cell to show the source code of the script.\n",
        "\n",
        "!cat appy_s12_08_07.py"
      ],
      "metadata": {
        "id": "QNdlyXGBUbxj"
      },
      "execution_count": null,
      "outputs": []
    },
    {
      "cell_type": "code",
      "source": [
        "# Run this cell to execute the script.\n",
        "\n",
        "!python3.12 appy_s12_08_07.py -h"
      ],
      "metadata": {
        "id": "245vBiijUbxp"
      },
      "execution_count": null,
      "outputs": []
    },
    {
      "cell_type": "code",
      "source": [
        "# Run this cell to execute the script.\n",
        "\n",
        "!python3.12 appy_s12_08_07.py -i appy_s12_08_06.data -o appy_s12_08_07_1.png -a 0.01 -b 5"
      ],
      "metadata": {
        "id": "EF9hiRh5UeMz"
      },
      "execution_count": null,
      "outputs": []
    },
    {
      "cell_type": "code",
      "source": [
        "# Run this cell to display a PNG file.\n",
        "\n",
        "# importing IPython module\n",
        "import IPython.display\n",
        "\n",
        "# displaying a PNG file\n",
        "IPython.display.Image ('appy_s12_08_07_1.png')"
      ],
      "metadata": {
        "id": "Ko6m3d0QUl33"
      },
      "execution_count": null,
      "outputs": []
    },
    {
      "cell_type": "code",
      "source": [
        "# Run this cell to execute the script.\n",
        "\n",
        "!python3.12 appy_s12_08_07.py -i appy_s12_08_06.data -o appy_s12_08_07_2.png -a 0.8 -b 1.0"
      ],
      "metadata": {
        "id": "F7y1-DbuUw78"
      },
      "execution_count": null,
      "outputs": []
    },
    {
      "cell_type": "code",
      "source": [
        "# Run this cell to display a PNG file.\n",
        "\n",
        "# importing IPython module\n",
        "import IPython.display\n",
        "\n",
        "# displaying a PNG file\n",
        "IPython.display.Image ('appy_s12_08_07_2.png')"
      ],
      "metadata": {
        "id": "Q9QOzUewUw8A"
      },
      "execution_count": null,
      "outputs": []
    },
    {
      "cell_type": "code",
      "source": [
        "# Run this cell to execute the script.\n",
        "\n",
        "!python3.12 appy_s12_08_07.py -i appy_s12_08_06.data -o appy_s12_08_07_3.png -a 1.7 -b 1.85"
      ],
      "metadata": {
        "id": "d_J9kpZIU5KU"
      },
      "execution_count": null,
      "outputs": []
    },
    {
      "cell_type": "code",
      "source": [
        "# Run this cell to display a PNG file.\n",
        "\n",
        "# importing IPython module\n",
        "import IPython.display\n",
        "\n",
        "# displaying a PNG file\n",
        "IPython.display.Image ('appy_s12_08_07_3.png')"
      ],
      "metadata": {
        "id": "YZryh_eIU5KZ"
      },
      "execution_count": null,
      "outputs": []
    },
    {
      "cell_type": "markdown",
      "source": [
        "## 10.8 Finding locations of peaks"
      ],
      "metadata": {
        "id": "KLo_uaIGU_RT"
      }
    },
    {
      "cell_type": "code",
      "source": [
        "# Run this cell to execute the script.\n",
        "\n",
        "!python3.12 appy_s12_08_06.py -i appy_s12_08_04.data -o appy_s12_08_06b.data -a 1000 -b 3000 -n 300"
      ],
      "metadata": {
        "id": "_RRJlrSSVE_q"
      },
      "execution_count": null,
      "outputs": []
    },
    {
      "cell_type": "code",
      "source": [
        "# Run this cell to find newly created file.\n",
        "\n",
        "!ls -lF appy_s12_08_06b.data"
      ],
      "metadata": {
        "id": "4iQ6FRt0VE_s"
      },
      "execution_count": null,
      "outputs": []
    },
    {
      "cell_type": "code",
      "source": [
        "# Run this cell to show first 20 lines of the file \"appy_s12_08_06b.data\".\n",
        "\n",
        "!head -20 appy_s12_08_06b.data"
      ],
      "metadata": {
        "id": "HZb-P-ZBVE_u"
      },
      "execution_count": null,
      "outputs": []
    },
    {
      "cell_type": "code",
      "source": [
        "# Run this cell to show the source code of the script.\n",
        "\n",
        "!cat appy_s12_08_08.py"
      ],
      "metadata": {
        "id": "4VTtW9axVZhF"
      },
      "execution_count": null,
      "outputs": []
    },
    {
      "cell_type": "code",
      "source": [
        "# Run this cell to execute the script.\n",
        "\n",
        "!python3.12 appy_s12_08_08.py -h"
      ],
      "metadata": {
        "id": "qrcbiv6VVZhK"
      },
      "execution_count": null,
      "outputs": []
    },
    {
      "cell_type": "code",
      "source": [
        "# Run this cell to execute the script.\n",
        "\n",
        "!python3.12 appy_s12_08_08.py -i appy_s12_08_06b.data -o appy_s12_08_08_1.png -x1 0.86 -x2 0.91 -f1 0.879 -f2 0.885 -a 1000 -b 1 -c 1"
      ],
      "metadata": {
        "id": "5BH5r-6HVd67"
      },
      "execution_count": null,
      "outputs": []
    },
    {
      "cell_type": "code",
      "source": [
        "# Run this cell to display a PNG file.\n",
        "\n",
        "# importing IPython module\n",
        "import IPython.display\n",
        "\n",
        "# displaying a PNG file\n",
        "IPython.display.Image ('appy_s12_08_08_1.png')"
      ],
      "metadata": {
        "id": "QTStas3nVpbJ"
      },
      "execution_count": null,
      "outputs": []
    },
    {
      "cell_type": "code",
      "source": [
        "# Run this cell to execute the script.\n",
        "\n",
        "!python3.12 appy_s12_08_08.py -i appy_s12_08_06b.data -o appy_s12_08_08_2.png -x1 1.70 -x2 1.83 -f1 1.755 -f2 1.775 -a 1000 -b 1 -c 1"
      ],
      "metadata": {
        "id": "KpE1tTMcVs2B"
      },
      "execution_count": null,
      "outputs": []
    },
    {
      "cell_type": "code",
      "source": [
        "# Run this cell to display a PNG file.\n",
        "\n",
        "# importing IPython module\n",
        "import IPython.display\n",
        "\n",
        "# displaying a PNG file\n",
        "IPython.display.Image ('appy_s12_08_08_2.png')"
      ],
      "metadata": {
        "id": "_2qOH2pEVs2E"
      },
      "execution_count": null,
      "outputs": []
    },
    {
      "cell_type": "markdown",
      "source": [
        "## 10.9 Making a folded lightcurve"
      ],
      "metadata": {
        "id": "mnmPP0UCV1mF"
      }
    },
    {
      "cell_type": "code",
      "source": [
        "# Run this cell to show the source code of the script.\n",
        "\n",
        "!cat appy_s12_08_09.py"
      ],
      "metadata": {
        "id": "VERtPQ3zV76E"
      },
      "execution_count": null,
      "outputs": []
    },
    {
      "cell_type": "code",
      "source": [
        "# Run this cell to execute the script.\n",
        "\n",
        "!python3.12 appy_s12_08_09.py -h"
      ],
      "metadata": {
        "id": "liqn1mKMV76W"
      },
      "execution_count": null,
      "outputs": []
    },
    {
      "cell_type": "code",
      "source": [
        "# Run this cell to execute the script.\n",
        "\n",
        "!python3.12 appy_s12_08_09.py -i appy_s12_08_04.data -o appy_s12_08_09_1.png -p 0.881809"
      ],
      "metadata": {
        "id": "_PY0nFX2V_hF"
      },
      "execution_count": null,
      "outputs": []
    },
    {
      "cell_type": "code",
      "source": [
        "# Run this cell to display a PNG file.\n",
        "\n",
        "# importing IPython module\n",
        "import IPython.display\n",
        "\n",
        "# displaying a PNG file\n",
        "IPython.display.Image ('appy_s12_08_09_1.png')"
      ],
      "metadata": {
        "id": "O93Dtv6OWF9h"
      },
      "execution_count": null,
      "outputs": []
    },
    {
      "cell_type": "code",
      "source": [
        "# Run this cell to execute the script.\n",
        "\n",
        "!python3.12 appy_s12_08_09.py -i appy_s12_08_04.data -o appy_s12_08_09_2.png -p 1.76343"
      ],
      "metadata": {
        "id": "kJRIJBorWUX4"
      },
      "execution_count": null,
      "outputs": []
    },
    {
      "cell_type": "code",
      "source": [
        "# Run this cell to display a PNG file.\n",
        "\n",
        "# importing IPython module\n",
        "import IPython.display\n",
        "\n",
        "# displaying a PNG file\n",
        "IPython.display.Image ('appy_s12_08_09_2.png')"
      ],
      "metadata": {
        "id": "mestxT12WUX6"
      },
      "execution_count": null,
      "outputs": []
    },
    {
      "cell_type": "markdown",
      "source": [
        "# End of this notebook"
      ],
      "metadata": {
        "id": "m-zWO0TrWn5d"
      }
    },
    {
      "cell_type": "code",
      "source": [],
      "metadata": {
        "id": "fWYK3UhkSdeh"
      },
      "execution_count": null,
      "outputs": []
    }
  ]
}