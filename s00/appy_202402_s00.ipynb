{
  "nbformat": 4,
  "nbformat_minor": 0,
  "metadata": {
    "colab": {
      "provenance": []
    },
    "kernelspec": {
      "name": "python3",
      "display_name": "Python 3"
    },
    "language_info": {
      "name": "python"
    }
  },
  "cells": [
    {
      "cell_type": "markdown",
      "source": [
        "# Doing Astrophysics using Python\n",
        "\n",
        "- \"Doing Astrophysics using Python\"\n",
        "  - Instructor: Kinoshita Daisuke\n",
        "  - Classroom: S4-202\n",
        "  - Time: from 18:00 to 20:50 on Tuesday\n",
        "  - Semester: 2nd semester of academic year 2023\n",
        "    - from February 2024 to June 2024\n",
        "  - Course web page: https://s3b.astro.ncu.edu.tw/appy_202402/\n",
        "  - GitHub repository: https://github.com/kinoshitadaisuke/ncu_doing_astrophysics_using_python_202402\n"
      ],
      "metadata": {
        "id": "gGzI83b9PmnI"
      }
    },
    {
      "cell_type": "markdown",
      "source": [
        "# Session 00: \"Executing a Python script\"\n",
        "\n",
        "## 20 February 2024\n",
        "\n",
        "## Instructor: Kinoshita Daisuke"
      ],
      "metadata": {
        "id": "Q7MvlbrC_tne"
      }
    },
    {
      "cell_type": "markdown",
      "source": [
        "# 1. Installation of Python interpreter"
      ],
      "metadata": {
        "id": "T_y7rto6Q5P8"
      }
    },
    {
      "cell_type": "code",
      "source": [
        "# Run this cell to install Python 3.12\n",
        "\n",
        "!apt update\n",
        "!apt upgrade\n",
        "!apt install python3.12 python3.12-dev python3.12-distutils libpython3.12-dev\n",
        "!update-alternatives --install /usr/bin/python3 python3 /usr/bin/python3.12 1\n",
        "!wget https://bootstrap.pypa.io/get-pip.py\n",
        "!python3.12 get-pip.py"
      ],
      "metadata": {
        "id": "MzmVLkC8QyGZ"
      },
      "execution_count": null,
      "outputs": []
    },
    {
      "cell_type": "code",
      "source": [
        "# Run this cell to check the version of Python interpreter and pip command\n",
        "\n",
        "!python --version\n",
        "!pip --version"
      ],
      "metadata": {
        "id": "Vx-JYTyp3NMU"
      },
      "execution_count": null,
      "outputs": []
    },
    {
      "cell_type": "markdown",
      "source": [
        "# 2. Downloading a set of sample Python scripts for this course"
      ],
      "metadata": {
        "id": "zvKZRFoF8A8k"
      }
    },
    {
      "cell_type": "code",
      "source": [
        "# Run this cell to download a set of sample Python scripts for this course.\n",
        "\n",
        "!git clone https://github.com/kinoshitadaisuke/ncu_doing_astrophysics_using_python_202402.git"
      ],
      "metadata": {
        "id": "itsUqwak4-z4"
      },
      "execution_count": null,
      "outputs": []
    },
    {
      "cell_type": "code",
      "source": [
        "# Run this cell to move to the directory for this session.\n",
        "\n",
        "%cd ncu_doing_astrophysics_using_python_202402/s00"
      ],
      "metadata": {
        "id": "bREyxIP08RZG"
      },
      "execution_count": null,
      "outputs": []
    },
    {
      "cell_type": "code",
      "source": [
        "!ls"
      ],
      "metadata": {
        "id": "fKxQ_X-D8dRN"
      },
      "execution_count": null,
      "outputs": []
    },
    {
      "cell_type": "markdown",
      "source": [
        "# 3. Executing the first Python script for this course"
      ],
      "metadata": {
        "id": "ZxLRkVHKdKE2"
      }
    },
    {
      "cell_type": "code",
      "source": [
        "# Run this cell to show the source code of a Python script \"appy_s00_00_00.py\".\n",
        "\n",
        "!cat appy_s00_00_00.py"
      ],
      "metadata": {
        "id": "KEmOY-2chr8E"
      },
      "execution_count": null,
      "outputs": []
    },
    {
      "cell_type": "code",
      "source": [
        "# Run this cell to execute a Python script \"appy_s00_00_00.py\".\n",
        "\n",
        "!python3.12 appy_s00_00_00.py"
      ],
      "metadata": {
        "id": "LvNZqU9EdEuP"
      },
      "execution_count": null,
      "outputs": []
    },
    {
      "cell_type": "markdown",
      "source": [
        "# 4. Executing the second Python script for this course"
      ],
      "metadata": {
        "id": "9Toz6SASh6qf"
      }
    },
    {
      "cell_type": "code",
      "source": [
        "# Run this cell to show the source code of a Python script \"appy_s00_00_01.py\".\n",
        "\n",
        "!cat appy_s00_00_01.py"
      ],
      "metadata": {
        "id": "f6JeWQFkh6qh"
      },
      "execution_count": null,
      "outputs": []
    },
    {
      "cell_type": "code",
      "source": [
        "# Run this cell to execute a Python script \"appy_s00_00_01.py\".\n",
        "\n",
        "!python3.12 appy_s00_00_01.py"
      ],
      "metadata": {
        "id": "Y3jeAnLsh6qj"
      },
      "execution_count": null,
      "outputs": []
    },
    {
      "cell_type": "markdown",
      "source": [
        "# 5. Making your own Python script, uploading it to Google Colab, and then executing it on Google Colab"
      ],
      "metadata": {
        "id": "3pbFTb3Xkp4Z"
      }
    },
    {
      "cell_type": "markdown",
      "source": [
        "## 5.1 Making your own Python script on your computer.\n",
        "\n",
        "- Start your favourite text editor.\n",
        "  - If you do not have a favourite text editor, try GNU Emacs.\n",
        "  - GNU Emacs: https://www.gnu.org/software/emacs/\n",
        "- Type following.\n",
        "  - print ('I am studying at National Central University.')\n",
        "- Save as a new file named \"test.py\".\n",
        "  - Make sure to create a plain text file.\n",
        "  - You are not asked to make a Microsoft Word file."
      ],
      "metadata": {
        "id": "WIDwyjzZk1R_"
      }
    },
    {
      "cell_type": "markdown",
      "source": [
        "## 5.2 Uploading a file on your computer to Google Colab"
      ],
      "metadata": {
        "id": "SCbf1B1Umix7"
      }
    },
    {
      "cell_type": "code",
      "source": [
        "# Run this cell to upload a file on your computer to Google Colab.\n",
        "\n",
        "# importing google.colab module\n",
        "import google.colab\n",
        "\n",
        "# uploading a local file to Google Colab\n",
        "google.colab.files.upload ()\n",
        "\n",
        "#\n",
        "# Note: select the file \"test.py\".\n",
        "#"
      ],
      "metadata": {
        "id": "tJ20uMTYhqM-"
      },
      "execution_count": null,
      "outputs": []
    },
    {
      "cell_type": "code",
      "source": [
        "# Run this cell to find the file you have uploaded to Google Colab.\n",
        "\n",
        "!ls -lF test.py"
      ],
      "metadata": {
        "id": "daqVXp9ckADe"
      },
      "execution_count": null,
      "outputs": []
    },
    {
      "cell_type": "markdown",
      "source": [
        "## 5.3 Executing uploaded Python script"
      ],
      "metadata": {
        "id": "VujkM7bpmpNX"
      }
    },
    {
      "cell_type": "code",
      "source": [
        "# Run this cell to show the source code of the Python script \"test.py\".\n",
        "\n",
        "!cat test.py"
      ],
      "metadata": {
        "id": "KxvQbPR4mwoz"
      },
      "execution_count": null,
      "outputs": []
    },
    {
      "cell_type": "code",
      "source": [
        "# Run this cell to execute the Python script \"test.py\".\n",
        "\n",
        "!python3.12 test.py"
      ],
      "metadata": {
        "id": "dt_vpiRbkAsQ"
      },
      "execution_count": null,
      "outputs": []
    },
    {
      "cell_type": "markdown",
      "source": [
        "# End of this notebook"
      ],
      "metadata": {
        "id": "Uu-JAAdQmM0D"
      }
    },
    {
      "cell_type": "code",
      "source": [],
      "metadata": {
        "id": "Ki0tPIGxkEVx"
      },
      "execution_count": null,
      "outputs": []
    }
  ]
}