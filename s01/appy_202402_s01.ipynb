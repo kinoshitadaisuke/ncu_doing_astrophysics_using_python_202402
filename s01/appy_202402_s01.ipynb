{
  "nbformat": 4,
  "nbformat_minor": 0,
  "metadata": {
    "colab": {
      "provenance": []
    },
    "kernelspec": {
      "name": "python3",
      "display_name": "Python 3"
    },
    "language_info": {
      "name": "python"
    }
  },
  "cells": [
    {
      "cell_type": "markdown",
      "source": [
        "# Doing Astrophysics using Python\n",
        "\n",
        "- \"Doing Astrophysics using Python\"\n",
        "  - Instructor: Kinoshita Daisuke\n",
        "  - Classroom: S4-202\n",
        "  - Time: from 18:00 to 20:50 on Tuesday\n",
        "  - Semester: 2nd semester of academic year 2023\n",
        "    - from February 2024 to June 2024\n",
        "  - Course web page: https://s3b.astro.ncu.edu.tw/appy_202402/\n",
        "  - GitHub repository: https://github.com/kinoshitadaisuke/ncu_doing_astrophysics_using_python_202402\n"
      ],
      "metadata": {
        "id": "gGzI83b9PmnI"
      }
    },
    {
      "cell_type": "markdown",
      "source": [
        "# Session 01: \"Basic Python programming\"\n",
        "\n",
        "## 20 February 2024\n",
        "\n",
        "## Instructor: Kinoshita Daisuke"
      ],
      "metadata": {
        "id": "Q7MvlbrC_tne"
      }
    },
    {
      "cell_type": "markdown",
      "source": [
        "# 0. Installation of Python interpreter"
      ],
      "metadata": {
        "id": "T_y7rto6Q5P8"
      }
    },
    {
      "cell_type": "code",
      "source": [
        "# Run this cell to install Python 3.12\n",
        "\n",
        "!apt update\n",
        "!apt upgrade\n",
        "!apt install python3.12 python3.12-dev python3.12-distutils libpython3.12-dev\n",
        "!update-alternatives --install /usr/bin/python3 python3 /usr/bin/python3.12 1\n",
        "!wget https://bootstrap.pypa.io/get-pip.py\n",
        "!python3.12 get-pip.py"
      ],
      "metadata": {
        "id": "MzmVLkC8QyGZ"
      },
      "execution_count": null,
      "outputs": []
    },
    {
      "cell_type": "code",
      "source": [
        "# Run this cell to check the version of Python interpreter and pip command\n",
        "\n",
        "!python --version\n",
        "!pip --version"
      ],
      "metadata": {
        "id": "Vx-JYTyp3NMU"
      },
      "execution_count": null,
      "outputs": []
    },
    {
      "cell_type": "markdown",
      "source": [
        "# 1. Downloading a set of sample Python scripts for this course"
      ],
      "metadata": {
        "id": "zvKZRFoF8A8k"
      }
    },
    {
      "cell_type": "code",
      "source": [
        "# Run this cell to download a set of sample Python scripts for this course.\n",
        "\n",
        "!git clone https://github.com/kinoshitadaisuke/ncu_doing_astrophysics_using_python_202402.git"
      ],
      "metadata": {
        "id": "itsUqwak4-z4"
      },
      "execution_count": null,
      "outputs": []
    },
    {
      "cell_type": "code",
      "source": [
        "# Run this cell to move to the directory for this session.\n",
        "\n",
        "%cd ncu_doing_astrophysics_using_python_202402/s01"
      ],
      "metadata": {
        "id": "bREyxIP08RZG"
      },
      "execution_count": null,
      "outputs": []
    },
    {
      "cell_type": "code",
      "source": [
        "# Run this cell to show a list of files for this session.\n",
        "\n",
        "!ls"
      ],
      "metadata": {
        "id": "fKxQ_X-D8dRN"
      },
      "execution_count": null,
      "outputs": []
    },
    {
      "cell_type": "markdown",
      "source": [
        "# 2. Printing information"
      ],
      "metadata": {
        "id": "Hf2LmfjUuKsf"
      }
    },
    {
      "cell_type": "markdown",
      "source": [
        "## 2.1 Printing a sentence"
      ],
      "metadata": {
        "id": "8tkmBce_uTIp"
      }
    },
    {
      "cell_type": "code",
      "source": [
        "# Run this cell to print the source code of the script.\n",
        "\n",
        "!cat appy_s01_00_00.py"
      ],
      "metadata": {
        "id": "-d9P5KoquSB6"
      },
      "execution_count": null,
      "outputs": []
    },
    {
      "cell_type": "code",
      "source": [
        "# Run this cell to execute the script.\n",
        "\n",
        "!python3.12 appy_s01_00_00.py"
      ],
      "metadata": {
        "id": "Zx_sdD66udDH"
      },
      "execution_count": null,
      "outputs": []
    },
    {
      "cell_type": "markdown",
      "source": [
        "## 2.2 Printing value of a variable"
      ],
      "metadata": {
        "id": "7SzxV7LLwjlK"
      }
    },
    {
      "cell_type": "code",
      "source": [
        "# Run this cell to print the source code of the script.\n",
        "\n",
        "!cat appy_s01_00_01.py"
      ],
      "metadata": {
        "id": "6hu70bdawjlP"
      },
      "execution_count": null,
      "outputs": []
    },
    {
      "cell_type": "code",
      "source": [
        "# Run this cell to execute the script.\n",
        "\n",
        "!python3.12 appy_s01_00_01.py"
      ],
      "metadata": {
        "id": "Y9fsTgVawjlU"
      },
      "execution_count": null,
      "outputs": []
    },
    {
      "cell_type": "code",
      "source": [
        "# Run this cell to print the source code of the script.\n",
        "\n",
        "!cat appy_s01_00_02.py"
      ],
      "metadata": {
        "id": "mZCvPhB9wrMj"
      },
      "execution_count": null,
      "outputs": []
    },
    {
      "cell_type": "code",
      "source": [
        "# Run this cell to execute the script.\n",
        "\n",
        "!python3.12 appy_s01_00_02.py"
      ],
      "metadata": {
        "id": "ZML3oJKmwrMm"
      },
      "execution_count": null,
      "outputs": []
    },
    {
      "cell_type": "markdown",
      "source": [
        "## 2.3 Printing a number"
      ],
      "metadata": {
        "id": "O0Ghds0QwubS"
      }
    },
    {
      "cell_type": "code",
      "source": [
        "# Run this cell to print the source code of the script.\n",
        "\n",
        "!cat appy_s01_00_03.py"
      ],
      "metadata": {
        "id": "tlBWZ_b5wubZ"
      },
      "execution_count": null,
      "outputs": []
    },
    {
      "cell_type": "code",
      "source": [
        "# Run this cell to execute the script.\n",
        "\n",
        "!python3.12 appy_s01_00_03.py"
      ],
      "metadata": {
        "id": "XpG2RjyJwubb"
      },
      "execution_count": null,
      "outputs": []
    },
    {
      "cell_type": "code",
      "source": [
        "# Run this cell to print the source code of the script.\n",
        "\n",
        "!cat appy_s01_00_04.py"
      ],
      "metadata": {
        "id": "kGfb1u21wzKi"
      },
      "execution_count": null,
      "outputs": []
    },
    {
      "cell_type": "code",
      "source": [
        "# Run this cell to execute the script.\n",
        "\n",
        "!python3.12 appy_s01_00_04.py"
      ],
      "metadata": {
        "id": "mYe9faJJwzKm"
      },
      "execution_count": null,
      "outputs": []
    },
    {
      "cell_type": "code",
      "source": [
        "# Run this cell to print the source code of the script.\n",
        "\n",
        "!cat appy_s01_00_05.py"
      ],
      "metadata": {
        "id": "uVzsJ2J5w2Mb"
      },
      "execution_count": null,
      "outputs": []
    },
    {
      "cell_type": "code",
      "source": [
        "# Run this cell to execute the script.\n",
        "\n",
        "!python3.12 appy_s01_00_05.py"
      ],
      "metadata": {
        "id": "y2dnyXO_w2Me"
      },
      "execution_count": null,
      "outputs": []
    },
    {
      "cell_type": "code",
      "source": [
        "# Run this cell to print the source code of the script.\n",
        "\n",
        "!cat appy_s01_00_06.py"
      ],
      "metadata": {
        "id": "c7sBu47Bw36V"
      },
      "execution_count": null,
      "outputs": []
    },
    {
      "cell_type": "code",
      "source": [
        "# Run this cell to execute the script.\n",
        "\n",
        "!python3.12 appy_s01_00_06.py"
      ],
      "metadata": {
        "id": "sZIT7gjkw36X"
      },
      "execution_count": null,
      "outputs": []
    },
    {
      "cell_type": "code",
      "source": [
        "# Run this cell to print the source code of the script.\n",
        "\n",
        "!cat appy_s01_00_07.py"
      ],
      "metadata": {
        "id": "rnnilKtPw6lS"
      },
      "execution_count": null,
      "outputs": []
    },
    {
      "cell_type": "code",
      "source": [
        "# Run this cell to execute the script.\n",
        "\n",
        "!python3.12 appy_s01_00_07.py"
      ],
      "metadata": {
        "id": "Tp9YR6P_w6lT"
      },
      "execution_count": null,
      "outputs": []
    },
    {
      "cell_type": "code",
      "source": [
        "# Run this cell to print the source code of the script.\n",
        "\n",
        "!cat appy_s01_00_08.py"
      ],
      "metadata": {
        "id": "17cRya02w8qQ"
      },
      "execution_count": null,
      "outputs": []
    },
    {
      "cell_type": "code",
      "source": [
        "# Run this cell to execute the script.\n",
        "\n",
        "!python3.12 appy_s01_00_08.py"
      ],
      "metadata": {
        "id": "WhqWe0nuw8qb"
      },
      "execution_count": null,
      "outputs": []
    },
    {
      "cell_type": "markdown",
      "source": [
        "## 2.4 Fancy formatting using formatted string literals"
      ],
      "metadata": {
        "id": "OpEqIeTLxC4D"
      }
    },
    {
      "cell_type": "code",
      "source": [
        "# Run this cell to print the source code of the script.\n",
        "\n",
        "!cat appy_s01_00_09.py"
      ],
      "metadata": {
        "id": "MroU38vYxC4I"
      },
      "execution_count": null,
      "outputs": []
    },
    {
      "cell_type": "code",
      "source": [
        "# Run this cell to execute the script.\n",
        "\n",
        "!python3.12 appy_s01_00_09.py"
      ],
      "metadata": {
        "id": "o0bc_JEgxC4L"
      },
      "execution_count": null,
      "outputs": []
    },
    {
      "cell_type": "code",
      "source": [
        "# Run this cell to print the source code of the script.\n",
        "\n",
        "!cat appy_s01_00_10.py"
      ],
      "metadata": {
        "id": "fkRxq5GtxNq2"
      },
      "execution_count": null,
      "outputs": []
    },
    {
      "cell_type": "code",
      "source": [
        "# Run this cell to execute the script.\n",
        "\n",
        "!python3.12 appy_s01_00_10.py"
      ],
      "metadata": {
        "id": "qseXeiEoxNq9"
      },
      "execution_count": null,
      "outputs": []
    },
    {
      "cell_type": "markdown",
      "source": [
        "## 2.5 Fancy formatting using format () method"
      ],
      "metadata": {
        "id": "Zwyf5ByWxUw8"
      }
    },
    {
      "cell_type": "code",
      "source": [
        "# Run this cell to print the source code of the script.\n",
        "\n",
        "!cat appy_s01_00_11.py"
      ],
      "metadata": {
        "id": "GvA41gZZxUw_"
      },
      "execution_count": null,
      "outputs": []
    },
    {
      "cell_type": "code",
      "source": [
        "# Run this cell to execute the script.\n",
        "\n",
        "!python3.12 appy_s01_00_11.py"
      ],
      "metadata": {
        "id": "l0Ax4rw3xUxC"
      },
      "execution_count": null,
      "outputs": []
    },
    {
      "cell_type": "markdown",
      "source": [
        "# 3. Doing simple calculations"
      ],
      "metadata": {
        "id": "7aiHX021xcA4"
      }
    },
    {
      "cell_type": "markdown",
      "source": [
        "## 3.1 Simple arithmetic calculations"
      ],
      "metadata": {
        "id": "0sviGruHxgvG"
      }
    },
    {
      "cell_type": "markdown",
      "source": [
        "### 3.1.1 Addition"
      ],
      "metadata": {
        "id": "iCFZNb-8xkCd"
      }
    },
    {
      "cell_type": "code",
      "source": [
        "# Run this cell to print the source code of the script.\n",
        "\n",
        "!cat appy_s01_01_00.py"
      ],
      "metadata": {
        "id": "Xe7Fua1RxcBB"
      },
      "execution_count": null,
      "outputs": []
    },
    {
      "cell_type": "code",
      "source": [
        "# Run this cell to execute the script.\n",
        "\n",
        "!python3.12 appy_s01_01_00.py"
      ],
      "metadata": {
        "id": "UJPopfsSxcBB"
      },
      "execution_count": null,
      "outputs": []
    },
    {
      "cell_type": "markdown",
      "source": [
        "### 3.1.2 Subtraction"
      ],
      "metadata": {
        "id": "PIaXuCN_xrCu"
      }
    },
    {
      "cell_type": "code",
      "source": [
        "# Run this cell to print the source code of the script.\n",
        "\n",
        "!cat appy_s01_01_01.py"
      ],
      "metadata": {
        "id": "wZmJ0usVxrCz"
      },
      "execution_count": null,
      "outputs": []
    },
    {
      "cell_type": "code",
      "source": [
        "# Run this cell to execute the script.\n",
        "\n",
        "!python3.12 appy_s01_01_01.py"
      ],
      "metadata": {
        "id": "ksrXrQ5vxrC1"
      },
      "execution_count": null,
      "outputs": []
    },
    {
      "cell_type": "markdown",
      "source": [
        "### 3.1.3 Multiplication"
      ],
      "metadata": {
        "id": "beJNMQzHxvV5"
      }
    },
    {
      "cell_type": "code",
      "source": [
        "# Run this cell to print the source code of the script.\n",
        "\n",
        "!cat appy_s01_01_02.py"
      ],
      "metadata": {
        "id": "qm7iaOFFxvV-"
      },
      "execution_count": null,
      "outputs": []
    },
    {
      "cell_type": "code",
      "source": [
        "# Run this cell to execute the script.\n",
        "\n",
        "!python3.12 appy_s01_01_02.py"
      ],
      "metadata": {
        "id": "XGlaH2jrxvWB"
      },
      "execution_count": null,
      "outputs": []
    },
    {
      "cell_type": "markdown",
      "source": [
        "### 3.1.4 Division"
      ],
      "metadata": {
        "id": "idsA7Yc6x0Uo"
      }
    },
    {
      "cell_type": "code",
      "source": [
        "# Run this cell to print the source code of the script.\n",
        "\n",
        "!cat appy_s01_01_03.py"
      ],
      "metadata": {
        "id": "hEEptnyQx0Uq"
      },
      "execution_count": null,
      "outputs": []
    },
    {
      "cell_type": "code",
      "source": [
        "# Run this cell to execute the script.\n",
        "\n",
        "!python3.12 appy_s01_01_03.py"
      ],
      "metadata": {
        "id": "9U7IXz_0x0Ur"
      },
      "execution_count": null,
      "outputs": []
    },
    {
      "cell_type": "code",
      "source": [
        "# Run this cell to print the source code of the script.\n",
        "\n",
        "!cat appy_s01_01_04.py"
      ],
      "metadata": {
        "id": "J1hU2qV9x914"
      },
      "execution_count": null,
      "outputs": []
    },
    {
      "cell_type": "code",
      "source": [
        "# Run this cell to execute the script.\n",
        "\n",
        "!python3.12 appy_s01_01_04.py"
      ],
      "metadata": {
        "id": "ggsCPC-xx917"
      },
      "execution_count": null,
      "outputs": []
    },
    {
      "cell_type": "markdown",
      "source": [
        "## 3.2 Power"
      ],
      "metadata": {
        "id": "pDkTWdKXx5Xd"
      }
    },
    {
      "cell_type": "code",
      "source": [
        "# Run this cell to print the source code of the script.\n",
        "\n",
        "!cat appy_s01_01_05.py"
      ],
      "metadata": {
        "id": "fwMd8bz7x5Xe"
      },
      "execution_count": null,
      "outputs": []
    },
    {
      "cell_type": "code",
      "source": [
        "# Run this cell to execute the script.\n",
        "\n",
        "!python3.12 appy_s01_01_05.py"
      ],
      "metadata": {
        "id": "E8VhsX6Xx5Xe"
      },
      "execution_count": null,
      "outputs": []
    },
    {
      "cell_type": "markdown",
      "source": [
        "## 3.3 Square root"
      ],
      "metadata": {
        "id": "7nLbPJK0ycgG"
      }
    },
    {
      "cell_type": "code",
      "source": [
        "# Run this cell to print the source code of the script.\n",
        "\n",
        "!cat appy_s01_01_06.py"
      ],
      "metadata": {
        "id": "nBRDSKZ_ycgT"
      },
      "execution_count": null,
      "outputs": []
    },
    {
      "cell_type": "code",
      "source": [
        "# Run this cell to execute the script.\n",
        "\n",
        "!python3.12 appy_s01_01_06.py"
      ],
      "metadata": {
        "id": "mtJuGMpmycgX"
      },
      "execution_count": null,
      "outputs": []
    },
    {
      "cell_type": "markdown",
      "source": [
        "## 3.4 Exponential function"
      ],
      "metadata": {
        "id": "9hUwl5ayyiFp"
      }
    },
    {
      "cell_type": "code",
      "source": [
        "# Run this cell to print the source code of the script.\n",
        "\n",
        "!cat appy_s01_01_07.py"
      ],
      "metadata": {
        "id": "NDoyQ3z5yiFr"
      },
      "execution_count": null,
      "outputs": []
    },
    {
      "cell_type": "code",
      "source": [
        "# Run this cell to execute the script.\n",
        "\n",
        "!python3.12 appy_s01_01_07.py"
      ],
      "metadata": {
        "id": "-N0rrm-OyiFs"
      },
      "execution_count": null,
      "outputs": []
    },
    {
      "cell_type": "markdown",
      "source": [
        "## 3.5 Natural logarithm"
      ],
      "metadata": {
        "id": "7UNvmZ8Gym86"
      }
    },
    {
      "cell_type": "code",
      "source": [
        "# Run this cell to print the source code of the script.\n",
        "\n",
        "!cat appy_s01_01_08.py"
      ],
      "metadata": {
        "id": "W7LT7z6Cym87"
      },
      "execution_count": null,
      "outputs": []
    },
    {
      "cell_type": "code",
      "source": [
        "# Run this cell to execute the script.\n",
        "\n",
        "!python3.12 appy_s01_01_08.py"
      ],
      "metadata": {
        "id": "SzpzO4Drym87"
      },
      "execution_count": null,
      "outputs": []
    },
    {
      "cell_type": "markdown",
      "source": [
        "## 3.6 Base-10 logarithm"
      ],
      "metadata": {
        "id": "IoVuKhedyr40"
      }
    },
    {
      "cell_type": "code",
      "source": [
        "# Run this cell to print the source code of the script.\n",
        "\n",
        "!cat appy_s01_01_09.py"
      ],
      "metadata": {
        "id": "pIOT6-foyr43"
      },
      "execution_count": null,
      "outputs": []
    },
    {
      "cell_type": "code",
      "source": [
        "# Run this cell to execute the script.\n",
        "\n",
        "!python3.12 appy_s01_01_09.py"
      ],
      "metadata": {
        "id": "xxDJVvj3yr47"
      },
      "execution_count": null,
      "outputs": []
    },
    {
      "cell_type": "markdown",
      "source": [
        "## 3.7 Trigonometric function"
      ],
      "metadata": {
        "id": "FSzq80aayx8U"
      }
    },
    {
      "cell_type": "markdown",
      "source": [
        "### 3.7.1 Sine function"
      ],
      "metadata": {
        "id": "HdC1uvHBy0iT"
      }
    },
    {
      "cell_type": "code",
      "source": [
        "# Run this cell to print the source code of the script.\n",
        "\n",
        "!cat appy_s01_01_10.py"
      ],
      "metadata": {
        "id": "g17ZoW-fyx8X"
      },
      "execution_count": null,
      "outputs": []
    },
    {
      "cell_type": "code",
      "source": [
        "# Run this cell to execute the script.\n",
        "\n",
        "!python3.12 appy_s01_01_10.py"
      ],
      "metadata": {
        "id": "FNE9xVE_yx8Y"
      },
      "execution_count": null,
      "outputs": []
    },
    {
      "cell_type": "markdown",
      "source": [
        "### 3.7.2 Cosine function"
      ],
      "metadata": {
        "id": "swz7cvr2zBBF"
      }
    },
    {
      "cell_type": "code",
      "source": [
        "# Run this cell to print the source code of the script.\n",
        "\n",
        "!cat appy_s01_01_11.py"
      ],
      "metadata": {
        "id": "pPwNQWrxzBBH"
      },
      "execution_count": null,
      "outputs": []
    },
    {
      "cell_type": "code",
      "source": [
        "# Run this cell to execute the script.\n",
        "\n",
        "!python3.12 appy_s01_01_11.py"
      ],
      "metadata": {
        "id": "xFATjQlMzBBI"
      },
      "execution_count": null,
      "outputs": []
    },
    {
      "cell_type": "markdown",
      "source": [
        "### 3.7.3 Tangent function"
      ],
      "metadata": {
        "id": "4DkF7EpjzFIZ"
      }
    },
    {
      "cell_type": "code",
      "source": [
        "# Run this cell to print the source code of the script.\n",
        "\n",
        "!cat appy_s01_01_12.py"
      ],
      "metadata": {
        "id": "sN0y-0-bzFIc"
      },
      "execution_count": null,
      "outputs": []
    },
    {
      "cell_type": "code",
      "source": [
        "# Run this cell to execute the script.\n",
        "\n",
        "!python3.12 appy_s01_01_12.py"
      ],
      "metadata": {
        "id": "NEbzI_qdzFIf"
      },
      "execution_count": null,
      "outputs": []
    },
    {
      "cell_type": "markdown",
      "source": [
        "### 3.7.4 Arctangent function"
      ],
      "metadata": {
        "id": "qArZAwrEzJe-"
      }
    },
    {
      "cell_type": "code",
      "source": [
        "# Run this cell to print the source code of the script.\n",
        "\n",
        "!cat appy_s01_01_13.py"
      ],
      "metadata": {
        "id": "Thek2zIhzJfC"
      },
      "execution_count": null,
      "outputs": []
    },
    {
      "cell_type": "code",
      "source": [
        "# Run this cell to execute the script.\n",
        "\n",
        "!python3.12 appy_s01_01_13.py"
      ],
      "metadata": {
        "id": "EUvTQPpZzJfG"
      },
      "execution_count": null,
      "outputs": []
    },
    {
      "cell_type": "markdown",
      "source": [
        "# 4. Using control flow statements"
      ],
      "metadata": {
        "id": "Fa22TuDXzOZ-"
      }
    },
    {
      "cell_type": "markdown",
      "source": [
        "## 4.1 if statement"
      ],
      "metadata": {
        "id": "I1Y8i9RSzRej"
      }
    },
    {
      "cell_type": "code",
      "source": [
        "# Run this cell to print the source code of the script.\n",
        "\n",
        "!cat appy_s01_02_00.py"
      ],
      "metadata": {
        "id": "wRMu5muezUp2"
      },
      "execution_count": null,
      "outputs": []
    },
    {
      "cell_type": "code",
      "source": [
        "# Run this cell to execute the script.\n",
        "\n",
        "!python3.12 appy_s01_02_00.py"
      ],
      "metadata": {
        "id": "x3YwRt4_zUqF"
      },
      "execution_count": null,
      "outputs": []
    },
    {
      "cell_type": "code",
      "source": [
        "# Run this cell to print the source code of the script.\n",
        "\n",
        "!cat appy_s01_02_01.py"
      ],
      "metadata": {
        "id": "2wCI555AzdBj"
      },
      "execution_count": null,
      "outputs": []
    },
    {
      "cell_type": "code",
      "source": [
        "# Run this cell to execute the script.\n",
        "\n",
        "!python3.12 appy_s01_02_01.py"
      ],
      "metadata": {
        "id": "poo05XfwzdBl"
      },
      "execution_count": null,
      "outputs": []
    },
    {
      "cell_type": "markdown",
      "source": [
        "## 4.2 for statement"
      ],
      "metadata": {
        "id": "IimjH0hpzg1n"
      }
    },
    {
      "cell_type": "code",
      "source": [
        "# Run this cell to print the source code of the script.\n",
        "\n",
        "!cat appy_s01_02_02.py"
      ],
      "metadata": {
        "id": "EKShPapTzg1z"
      },
      "execution_count": null,
      "outputs": []
    },
    {
      "cell_type": "code",
      "source": [
        "# Run this cell to execute the script.\n",
        "\n",
        "!python3.12 appy_s01_02_02.py"
      ],
      "metadata": {
        "id": "iWrZHlc3zg11"
      },
      "execution_count": null,
      "outputs": []
    },
    {
      "cell_type": "code",
      "source": [
        "# Run this cell to print the source code of the script.\n",
        "\n",
        "!cat appy_s01_02_03.py"
      ],
      "metadata": {
        "id": "LhdZl472zo3f"
      },
      "execution_count": null,
      "outputs": []
    },
    {
      "cell_type": "code",
      "source": [
        "# Run this cell to execute the script.\n",
        "\n",
        "!python3.12 appy_s01_02_03.py"
      ],
      "metadata": {
        "id": "IJab7Kndzo3l"
      },
      "execution_count": null,
      "outputs": []
    },
    {
      "cell_type": "markdown",
      "source": [
        "## 4.3 while and break statements"
      ],
      "metadata": {
        "id": "hc441Tenzr2r"
      }
    },
    {
      "cell_type": "code",
      "source": [
        "# Run this cell to print the source code of the script.\n",
        "\n",
        "!cat appy_s01_02_04.py"
      ],
      "metadata": {
        "id": "2KerRnCkzr2u"
      },
      "execution_count": null,
      "outputs": []
    },
    {
      "cell_type": "code",
      "source": [
        "# Run this cell to execute the script.\n",
        "\n",
        "!python3.12 appy_s01_02_04.py"
      ],
      "metadata": {
        "id": "uEjKDkK2zr2w"
      },
      "execution_count": null,
      "outputs": []
    },
    {
      "cell_type": "code",
      "source": [
        "# Run this cell to print the source code of the script.\n",
        "\n",
        "!cat appy_s01_02_05.py"
      ],
      "metadata": {
        "id": "Mj8DJ7OIzxsm"
      },
      "execution_count": null,
      "outputs": []
    },
    {
      "cell_type": "code",
      "source": [
        "# Run this cell to execute the script.\n",
        "\n",
        "!python3.12 appy_s01_02_05.py"
      ],
      "metadata": {
        "id": "0_ccfaCpzxsv"
      },
      "execution_count": null,
      "outputs": []
    },
    {
      "cell_type": "markdown",
      "source": [
        "## 4.4 continue statement"
      ],
      "metadata": {
        "id": "JNWyBR7tz1lL"
      }
    },
    {
      "cell_type": "code",
      "source": [
        "# Run this cell to print the source code of the script.\n",
        "\n",
        "!cat appy_s01_02_06.py"
      ],
      "metadata": {
        "id": "-OoX5KoJz1lQ"
      },
      "execution_count": null,
      "outputs": []
    },
    {
      "cell_type": "code",
      "source": [
        "# Run this cell to execute the script.\n",
        "\n",
        "!python3.12 appy_s01_02_06.py"
      ],
      "metadata": {
        "id": "Q5kZIzKBz1lT"
      },
      "execution_count": null,
      "outputs": []
    },
    {
      "cell_type": "markdown",
      "source": [
        "# 5. Making and using your own function"
      ],
      "metadata": {
        "id": "oIWm2f45z8SC"
      }
    },
    {
      "cell_type": "code",
      "source": [
        "# Run this cell to print the source code of the script.\n",
        "\n",
        "!cat appy_s01_03_00.py"
      ],
      "metadata": {
        "id": "WwhwjEZl0A34"
      },
      "execution_count": null,
      "outputs": []
    },
    {
      "cell_type": "code",
      "source": [
        "# Run this cell to execute the script.\n",
        "\n",
        "!python3.12 appy_s01_03_00.py"
      ],
      "metadata": {
        "id": "Fvw4QGn40A4I"
      },
      "execution_count": null,
      "outputs": []
    },
    {
      "cell_type": "code",
      "source": [
        "# Run this cell to print the source code of the script.\n",
        "\n",
        "!cat appy_s01_03_01.py"
      ],
      "metadata": {
        "id": "WxrCVpgU0ERz"
      },
      "execution_count": null,
      "outputs": []
    },
    {
      "cell_type": "code",
      "source": [
        "# Run this cell to execute the script.\n",
        "\n",
        "!python3.12 appy_s01_03_01.py"
      ],
      "metadata": {
        "id": "sQbPPdH_0ER0"
      },
      "execution_count": null,
      "outputs": []
    },
    {
      "cell_type": "markdown",
      "source": [
        "# 6. Data structure"
      ],
      "metadata": {
        "id": "gMk1LWfZ0H53"
      }
    },
    {
      "cell_type": "markdown",
      "source": [
        "## 6.1 Using lists"
      ],
      "metadata": {
        "id": "csgi9Mwg0Kit"
      }
    },
    {
      "cell_type": "code",
      "source": [
        "# Run this cell to print the source code of the script.\n",
        "\n",
        "!cat appy_s01_04_00.py"
      ],
      "metadata": {
        "id": "3zkDW7tM0PHW"
      },
      "execution_count": null,
      "outputs": []
    },
    {
      "cell_type": "code",
      "source": [
        "# Run this cell to execute the script.\n",
        "\n",
        "!python3.12 appy_s01_04_00.py"
      ],
      "metadata": {
        "id": "Hy46ueog0PHZ"
      },
      "execution_count": null,
      "outputs": []
    },
    {
      "cell_type": "markdown",
      "source": [
        "## 6.2 Using tuples"
      ],
      "metadata": {
        "id": "CLAC3OU90U89"
      }
    },
    {
      "cell_type": "code",
      "source": [
        "# Run this cell to print the source code of the script.\n",
        "\n",
        "!cat appy_s01_04_01.py"
      ],
      "metadata": {
        "id": "6nEY8Fcy0U9E"
      },
      "execution_count": null,
      "outputs": []
    },
    {
      "cell_type": "code",
      "source": [
        "# Run this cell to execute the script.\n",
        "\n",
        "!python3.12 appy_s01_04_01.py"
      ],
      "metadata": {
        "id": "bw5tbSyw0U9H"
      },
      "execution_count": null,
      "outputs": []
    },
    {
      "cell_type": "markdown",
      "source": [
        "## 6.3 Using sets"
      ],
      "metadata": {
        "id": "3DuEWgIk0a0b"
      }
    },
    {
      "cell_type": "code",
      "source": [
        "# Run this cell to print the source code of the script.\n",
        "\n",
        "!cat appy_s01_04_02.py"
      ],
      "metadata": {
        "id": "kCwAQHfn0a0d"
      },
      "execution_count": null,
      "outputs": []
    },
    {
      "cell_type": "code",
      "source": [
        "# Run this cell to execute the script.\n",
        "\n",
        "!python3.12 appy_s01_04_02.py"
      ],
      "metadata": {
        "id": "KLRjvQf70a0f"
      },
      "execution_count": null,
      "outputs": []
    },
    {
      "cell_type": "markdown",
      "source": [
        "## 6.4 Using dictionaries"
      ],
      "metadata": {
        "id": "2teZE8wh0fLe"
      }
    },
    {
      "cell_type": "code",
      "source": [
        "# Run this cell to print the source code of the script.\n",
        "\n",
        "!cat appy_s01_04_03.py"
      ],
      "metadata": {
        "id": "HckoUSLq0fLl"
      },
      "execution_count": null,
      "outputs": []
    },
    {
      "cell_type": "code",
      "source": [
        "# Run this cell to execute the script.\n",
        "\n",
        "!python3.12 appy_s01_04_03.py"
      ],
      "metadata": {
        "id": "ludUi8Xf0fLo"
      },
      "execution_count": null,
      "outputs": []
    },
    {
      "cell_type": "markdown",
      "source": [
        "## 6.5 Nested sequence structure"
      ],
      "metadata": {
        "id": "qm0S4iDM0kss"
      }
    },
    {
      "cell_type": "code",
      "source": [
        "# Run this cell to print the source code of the script.\n",
        "\n",
        "!cat appy_s01_04_04.py"
      ],
      "metadata": {
        "id": "3ZxdyHKu0ksw"
      },
      "execution_count": null,
      "outputs": []
    },
    {
      "cell_type": "code",
      "source": [
        "# Run this cell to execute the script.\n",
        "\n",
        "!python3.12 appy_s01_04_04.py"
      ],
      "metadata": {
        "id": "-Duxf3Te0ksz"
      },
      "execution_count": null,
      "outputs": []
    },
    {
      "cell_type": "markdown",
      "source": [
        "# 7. Reading and writing files"
      ],
      "metadata": {
        "id": "NfAF_Sql0qmz"
      }
    },
    {
      "cell_type": "markdown",
      "source": [
        "## 7.1 Reading a file"
      ],
      "metadata": {
        "id": "oyTuw3yy0tOM"
      }
    },
    {
      "cell_type": "code",
      "source": [
        "# Run this cell to download the data file.\n",
        "\n",
        "!wget https://s3b.astro.ncu.edu.tw/appy_202402/data/fruits.data"
      ],
      "metadata": {
        "id": "3bzO8KxI1COz"
      },
      "execution_count": null,
      "outputs": []
    },
    {
      "cell_type": "code",
      "source": [
        "# Run this cell to print the source code of the script.\n",
        "\n",
        "!cat appy_s01_05_00.py"
      ],
      "metadata": {
        "id": "n-DzTObH01wf"
      },
      "execution_count": null,
      "outputs": []
    },
    {
      "cell_type": "code",
      "source": [
        "# Run this cell to execute the script.\n",
        "\n",
        "!python3.12 appy_s01_05_00.py"
      ],
      "metadata": {
        "id": "BrOkmm5q01wv"
      },
      "execution_count": null,
      "outputs": []
    },
    {
      "cell_type": "markdown",
      "source": [
        "## 7.2 Writing a file"
      ],
      "metadata": {
        "id": "Mr0NnkTY05Y3"
      }
    },
    {
      "cell_type": "code",
      "source": [
        "# Run this cell to print the source code of the script.\n",
        "\n",
        "!cat appy_s01_05_01.py"
      ],
      "metadata": {
        "id": "bwc7yiDs05Y7"
      },
      "execution_count": null,
      "outputs": []
    },
    {
      "cell_type": "code",
      "source": [
        "# Run this cell to execute the script.\n",
        "\n",
        "!python3.12 appy_s01_05_01.py"
      ],
      "metadata": {
        "id": "jW_FNeuN05Y9"
      },
      "execution_count": null,
      "outputs": []
    },
    {
      "cell_type": "code",
      "source": [
        "# Run this cell to print the first 10 lines of newly created file.\n",
        "\n",
        "!head -10 primenumbers.data"
      ],
      "metadata": {
        "id": "sjCjH2bPzQWY"
      },
      "execution_count": null,
      "outputs": []
    },
    {
      "cell_type": "markdown",
      "source": [
        "# 8. String"
      ],
      "metadata": {
        "id": "WqIjv-fn1aIN"
      }
    },
    {
      "cell_type": "code",
      "source": [
        "# Run this cell to print the source code of the script.\n",
        "\n",
        "!cat appy_s01_06_00.py"
      ],
      "metadata": {
        "id": "KEe5X0h-1dhf"
      },
      "execution_count": null,
      "outputs": []
    },
    {
      "cell_type": "code",
      "source": [
        "# Run this cell to execute the script.\n",
        "\n",
        "!python3.12 appy_s01_06_00.py"
      ],
      "metadata": {
        "id": "YOEwhYE31dhk"
      },
      "execution_count": null,
      "outputs": []
    },
    {
      "cell_type": "markdown",
      "source": [
        "# 9. Exceptions"
      ],
      "metadata": {
        "id": "wJcOFPAt1kpd"
      }
    },
    {
      "cell_type": "code",
      "source": [
        "# Run this cell to print the source code of the script.\n",
        "\n",
        "!cat appy_s01_07_00.py"
      ],
      "metadata": {
        "id": "s9frgarv1nRI"
      },
      "execution_count": null,
      "outputs": []
    },
    {
      "cell_type": "code",
      "source": [
        "# Run this cell to execute the script.\n",
        "\n",
        "!python3.12 appy_s01_07_00.py"
      ],
      "metadata": {
        "id": "RI-QsB7y1nRM"
      },
      "execution_count": null,
      "outputs": []
    },
    {
      "cell_type": "code",
      "source": [
        "# Run this cell to print the source code of the script.\n",
        "\n",
        "!cat appy_s01_07_01.py"
      ],
      "metadata": {
        "id": "NVcxleMK1qox"
      },
      "execution_count": null,
      "outputs": []
    },
    {
      "cell_type": "code",
      "source": [
        "# Run this cell to execute the script.\n",
        "\n",
        "!python3.12 appy_s01_07_01.py"
      ],
      "metadata": {
        "id": "0fsHYFR61qo1"
      },
      "execution_count": null,
      "outputs": []
    },
    {
      "cell_type": "code",
      "source": [
        "# Run this cell to print the source code of the script.\n",
        "\n",
        "!cat appy_s01_07_02.py"
      ],
      "metadata": {
        "id": "LqgzDoR21r3X"
      },
      "execution_count": null,
      "outputs": []
    },
    {
      "cell_type": "code",
      "source": [
        "# Run this cell to execute the script.\n",
        "\n",
        "!python3.12 appy_s01_07_02.py"
      ],
      "metadata": {
        "id": "sh7gsM0U1r3d"
      },
      "execution_count": null,
      "outputs": []
    },
    {
      "cell_type": "code",
      "source": [
        "# Run this cell to print the source code of the script.\n",
        "\n",
        "!cat appy_s01_07_03.py"
      ],
      "metadata": {
        "id": "6RqzTbuw1tYb"
      },
      "execution_count": null,
      "outputs": []
    },
    {
      "cell_type": "code",
      "source": [
        "# Run this cell to execute the script.\n",
        "\n",
        "!python3.12 appy_s01_07_03.py"
      ],
      "metadata": {
        "id": "6SBYQvPd1tYi"
      },
      "execution_count": null,
      "outputs": []
    },
    {
      "cell_type": "markdown",
      "source": [
        "# End of this notebook."
      ],
      "metadata": {
        "id": "EKTzX0rQ1xEy"
      }
    },
    {
      "cell_type": "code",
      "source": [],
      "metadata": {
        "id": "_gKfV2pz1bp-"
      },
      "execution_count": null,
      "outputs": []
    }
  ]
}