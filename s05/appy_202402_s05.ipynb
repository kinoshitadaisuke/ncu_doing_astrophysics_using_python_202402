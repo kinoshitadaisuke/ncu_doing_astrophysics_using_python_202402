{
  "nbformat": 4,
  "nbformat_minor": 0,
  "metadata": {
    "colab": {
      "provenance": []
    },
    "kernelspec": {
      "name": "python3",
      "display_name": "Python 3"
    },
    "language_info": {
      "name": "python"
    }
  },
  "cells": [
    {
      "cell_type": "markdown",
      "source": [
        "# Doing Astrophysics using Python\n",
        "\n",
        "- \"Doing Astrophysics using Python\"\n",
        "  - Instructor: Kinoshita Daisuke\n",
        "  - Classroom: S4-202\n",
        "  - Time: from 18:00 to 20:50 on Tuesday\n",
        "  - Semester: 2nd semester of academic year 2023\n",
        "    - from February 2024 to June 2024\n",
        "  - Course web page: https://s3b.astro.ncu.edu.tw/appy_202402/\n",
        "  - GitHub repository: https://github.com/kinoshitadaisuke/ncu_doing_astrophysics_using_python_202402\n"
      ],
      "metadata": {
        "id": "gGzI83b9PmnI"
      }
    },
    {
      "cell_type": "markdown",
      "source": [
        "# Session 05: \"Scientific calculations and analyses using SciPy\"\n",
        "\n",
        "## 19 March 2024\n",
        "\n",
        "## Instructor: Kinoshita Daisuke"
      ],
      "metadata": {
        "id": "Q7MvlbrC_tne"
      }
    },
    {
      "cell_type": "markdown",
      "source": [
        "# 0. Installation of Python interpreter"
      ],
      "metadata": {
        "id": "T_y7rto6Q5P8"
      }
    },
    {
      "cell_type": "code",
      "source": [
        "# Run this cell to install Python 3.12\n",
        "\n",
        "!apt update\n",
        "!apt upgrade\n",
        "!apt install python3.12 python3.12-dev python3.12-distutils libpython3.12-dev\n",
        "!update-alternatives --install /usr/bin/python3 python3 /usr/bin/python3.12 1\n",
        "!wget https://bootstrap.pypa.io/get-pip.py\n",
        "!python3.12 get-pip.py"
      ],
      "metadata": {
        "id": "MzmVLkC8QyGZ"
      },
      "execution_count": null,
      "outputs": []
    },
    {
      "cell_type": "code",
      "source": [
        "# Run this cell to check the version of Python interpreter and pip command\n",
        "\n",
        "!python --version\n",
        "!pip --version"
      ],
      "metadata": {
        "id": "Vx-JYTyp3NMU"
      },
      "execution_count": null,
      "outputs": []
    },
    {
      "cell_type": "code",
      "source": [
        "# Run this cell to install external Python modules necessary for this session.\n",
        "\n",
        "!pip install matplotlib ipykernel scipy"
      ],
      "metadata": {
        "id": "tuHWEXqxOQV-"
      },
      "execution_count": null,
      "outputs": []
    },
    {
      "cell_type": "markdown",
      "source": [
        "# 1. Downloading a set of sample Python scripts for this course"
      ],
      "metadata": {
        "id": "zvKZRFoF8A8k"
      }
    },
    {
      "cell_type": "code",
      "source": [
        "# Run this cell to download a set of sample Python scripts for this course.\n",
        "\n",
        "!git clone https://github.com/kinoshitadaisuke/ncu_doing_astrophysics_using_python_202402.git"
      ],
      "metadata": {
        "id": "itsUqwak4-z4"
      },
      "execution_count": null,
      "outputs": []
    },
    {
      "cell_type": "code",
      "source": [
        "# Run this cell to move to the directory for this session.\n",
        "\n",
        "%cd ncu_doing_astrophysics_using_python_202402/s05"
      ],
      "metadata": {
        "id": "bREyxIP08RZG"
      },
      "execution_count": null,
      "outputs": []
    },
    {
      "cell_type": "code",
      "source": [
        "# Run this cell to show a list of files for this session.\n",
        "\n",
        "!ls"
      ],
      "metadata": {
        "id": "fKxQ_X-D8dRN"
      },
      "execution_count": null,
      "outputs": []
    },
    {
      "cell_type": "markdown",
      "source": [
        "# 2. About SciPy"
      ],
      "metadata": {
        "id": "BIcNP30vS3Ib"
      }
    },
    {
      "cell_type": "markdown",
      "source": [
        "Visit the official website of SciPy and read the documentation.\n",
        "\n",
        "- https://scipy.org/"
      ],
      "metadata": {
        "id": "U-BdZ3QZS8i4"
      }
    },
    {
      "cell_type": "markdown",
      "source": [
        "# 3. Constants"
      ],
      "metadata": {
        "id": "vuZqT-oDTD8B"
      }
    },
    {
      "cell_type": "markdown",
      "source": [
        "## 3.1 Mathematical constants"
      ],
      "metadata": {
        "id": "fIoQCu48TF8b"
      }
    },
    {
      "cell_type": "code",
      "source": [
        "# Run this cell to show the source code of the script.\n",
        "\n",
        "!cat appy_s05_00_00.py"
      ],
      "metadata": {
        "id": "1IFC-FkdS5eQ"
      },
      "execution_count": null,
      "outputs": []
    },
    {
      "cell_type": "code",
      "source": [
        "# Run this cell to execute the script.\n",
        "\n",
        "!python3.12 appy_s05_00_00.py"
      ],
      "metadata": {
        "id": "d5fe9labTNp6"
      },
      "execution_count": null,
      "outputs": []
    },
    {
      "cell_type": "markdown",
      "source": [
        "## 3.2 Physical constants"
      ],
      "metadata": {
        "id": "ZsKpXUypArxZ"
      }
    },
    {
      "cell_type": "code",
      "source": [
        "# Run this cell to show the source code of the script.\n",
        "\n",
        "!cat appy_s05_00_01.py"
      ],
      "metadata": {
        "id": "wePaFtmPAvj9"
      },
      "execution_count": null,
      "outputs": []
    },
    {
      "cell_type": "code",
      "source": [
        "# Run this cell to execute the script.\n",
        "\n",
        "!python3.12 appy_s05_00_01.py"
      ],
      "metadata": {
        "id": "NAw7JzMxAvj-"
      },
      "execution_count": null,
      "outputs": []
    },
    {
      "cell_type": "code",
      "source": [
        "# Run this cell to show the source code of the script.\n",
        "\n",
        "!cat appy_s05_00_02.py"
      ],
      "metadata": {
        "id": "j3Kco01vAy4e"
      },
      "execution_count": null,
      "outputs": []
    },
    {
      "cell_type": "code",
      "source": [
        "# Run this cell to execute the script.\n",
        "\n",
        "!python3.12 appy_s05_00_02.py"
      ],
      "metadata": {
        "id": "xfc5hi_SAy4f"
      },
      "execution_count": null,
      "outputs": []
    },
    {
      "cell_type": "code",
      "source": [
        "# Run this cell to show the source code of the script.\n",
        "\n",
        "!cat appy_s05_00_03.py"
      ],
      "metadata": {
        "id": "7c46e_-hA6pf"
      },
      "execution_count": null,
      "outputs": []
    },
    {
      "cell_type": "code",
      "source": [
        "# Run this cell to execute the script.\n",
        "\n",
        "!python3.12 appy_s05_00_03.py"
      ],
      "metadata": {
        "id": "LLlErTKXA6pg"
      },
      "execution_count": null,
      "outputs": []
    },
    {
      "cell_type": "code",
      "source": [
        "# Run this cell to show the source code of the script.\n",
        "\n",
        "!cat appy_s05_00_04.py"
      ],
      "metadata": {
        "id": "7Nk1XJNoA_e3"
      },
      "execution_count": null,
      "outputs": []
    },
    {
      "cell_type": "code",
      "source": [
        "# Run this cell to execute the script.\n",
        "\n",
        "!python3.12 appy_s05_00_04.py"
      ],
      "metadata": {
        "id": "E08ZYhRiA_e4"
      },
      "execution_count": null,
      "outputs": []
    },
    {
      "cell_type": "code",
      "source": [
        "# Run this cell to show the source code of the script.\n",
        "\n",
        "!cat appy_s05_00_05.py"
      ],
      "metadata": {
        "id": "0L-BMDo8BBwS"
      },
      "execution_count": null,
      "outputs": []
    },
    {
      "cell_type": "code",
      "source": [
        "# Run this cell to execute the script.\n",
        "\n",
        "!python3.12 appy_s05_00_05.py"
      ],
      "metadata": {
        "id": "-cx0JWl3BBwU"
      },
      "execution_count": null,
      "outputs": []
    },
    {
      "cell_type": "markdown",
      "source": [
        "## 3.3 Non-SI units"
      ],
      "metadata": {
        "id": "969_QSbOBHko"
      }
    },
    {
      "cell_type": "code",
      "source": [
        "# Run this cell to show the source code of the script.\n",
        "\n",
        "!cat appy_s05_00_06.py"
      ],
      "metadata": {
        "id": "lGZ5Clh1BLSl"
      },
      "execution_count": null,
      "outputs": []
    },
    {
      "cell_type": "code",
      "source": [
        "# Run this cell to execute the script.\n",
        "\n",
        "!python3.12 appy_s05_00_06.py"
      ],
      "metadata": {
        "id": "Cogs_zrEBLSn"
      },
      "execution_count": null,
      "outputs": []
    },
    {
      "cell_type": "code",
      "source": [
        "# Run this cell to show the source code of the script.\n",
        "\n",
        "!cat appy_s05_00_07.py"
      ],
      "metadata": {
        "id": "ojnXaChFBQpS"
      },
      "execution_count": null,
      "outputs": []
    },
    {
      "cell_type": "code",
      "source": [
        "# Run this cell to execute the script.\n",
        "\n",
        "!python3.12 appy_s05_00_07.py"
      ],
      "metadata": {
        "id": "Fmll9vHHBQpT"
      },
      "execution_count": null,
      "outputs": []
    },
    {
      "cell_type": "markdown",
      "source": [
        "## 3.4 Conversion between wavelength and frequency"
      ],
      "metadata": {
        "id": "ZAgxfBIhBUL3"
      }
    },
    {
      "cell_type": "code",
      "source": [
        "# Run this cell to show the source code of the script.\n",
        "\n",
        "!cat appy_s05_00_08.py"
      ],
      "metadata": {
        "id": "jcS8jNWbBYy3"
      },
      "execution_count": null,
      "outputs": []
    },
    {
      "cell_type": "code",
      "source": [
        "# Run this cell to execute the script.\n",
        "\n",
        "!python3.12 appy_s05_00_08.py"
      ],
      "metadata": {
        "id": "Ogtn__c0BYy6"
      },
      "execution_count": null,
      "outputs": []
    },
    {
      "cell_type": "code",
      "source": [
        "# Run this cell to show the source code of the script.\n",
        "\n",
        "!cat appy_s05_00_09.py"
      ],
      "metadata": {
        "id": "4o2iq0uABc1k"
      },
      "execution_count": null,
      "outputs": []
    },
    {
      "cell_type": "code",
      "source": [
        "# Run this cell to execute the script.\n",
        "\n",
        "!python3.12 appy_s05_00_09.py"
      ],
      "metadata": {
        "id": "DiVXjgK5Bc1m"
      },
      "execution_count": null,
      "outputs": []
    },
    {
      "cell_type": "markdown",
      "source": [
        "# 4. Random numbers"
      ],
      "metadata": {
        "id": "LH0HG1yaBhLg"
      }
    },
    {
      "cell_type": "markdown",
      "source": [
        "## 4.1 Generating random numbers of uniform distribution"
      ],
      "metadata": {
        "id": "mFb78QkfBkrr"
      }
    },
    {
      "cell_type": "code",
      "source": [
        "# Run this cell to show the source code of the script.\n",
        "\n",
        "!cat appy_s05_01_00.py"
      ],
      "metadata": {
        "id": "EgYUjpGSBpNT"
      },
      "execution_count": null,
      "outputs": []
    },
    {
      "cell_type": "code",
      "source": [
        "# Run this cell to execute the script.\n",
        "\n",
        "!python3.12 appy_s05_01_00.py -h"
      ],
      "metadata": {
        "id": "QJruAOVjBpNU"
      },
      "execution_count": null,
      "outputs": []
    },
    {
      "cell_type": "code",
      "source": [
        "# Run this cell to execute the script.\n",
        "\n",
        "!python3.12 appy_s05_01_00.py"
      ],
      "metadata": {
        "id": "jOtG5sqXBuV8"
      },
      "execution_count": null,
      "outputs": []
    },
    {
      "cell_type": "code",
      "source": [
        "# Run this cell to execute the script.\n",
        "\n",
        "!python3.12 appy_s05_01_00.py -n 100"
      ],
      "metadata": {
        "id": "s9yAahF7BxyD"
      },
      "execution_count": null,
      "outputs": []
    },
    {
      "cell_type": "code",
      "source": [
        "# Run this cell to show the source code of the script.\n",
        "\n",
        "!cat appy_s05_01_01.py"
      ],
      "metadata": {
        "id": "91S9Id2kCKDm"
      },
      "execution_count": null,
      "outputs": []
    },
    {
      "cell_type": "code",
      "source": [
        "# Run this cell to execute the script.\n",
        "\n",
        "!python3.12 appy_s05_01_01.py -h"
      ],
      "metadata": {
        "id": "eSIZWFmnCKDp"
      },
      "execution_count": null,
      "outputs": []
    },
    {
      "cell_type": "code",
      "source": [
        "# Run this cell to execute the script.\n",
        "\n",
        "!python3.12 appy_s05_01_01.py -n 30"
      ],
      "metadata": {
        "id": "zZbzsbPiCKDq"
      },
      "execution_count": null,
      "outputs": []
    },
    {
      "cell_type": "code",
      "source": [
        "# Run this cell to show the source code of the script.\n",
        "\n",
        "!cat appy_s05_01_02.py"
      ],
      "metadata": {
        "id": "9gNc_7KACPid"
      },
      "execution_count": null,
      "outputs": []
    },
    {
      "cell_type": "code",
      "source": [
        "# Run this cell to execute the script.\n",
        "\n",
        "!python3.12 appy_s05_01_02.py -h"
      ],
      "metadata": {
        "id": "Jq2TVX1gCPie"
      },
      "execution_count": null,
      "outputs": []
    },
    {
      "cell_type": "code",
      "source": [
        "# Run this cell to execute the script.\n",
        "\n",
        "!python3.12 appy_s05_01_02.py -a 1000 -b 2000 -n 3000"
      ],
      "metadata": {
        "id": "s-ElEuUqCPif"
      },
      "execution_count": null,
      "outputs": []
    },
    {
      "cell_type": "markdown",
      "source": [
        "## 4.2 Generating random numbers of Gaussian distribution"
      ],
      "metadata": {
        "id": "8LCeeOL4CXrF"
      }
    },
    {
      "cell_type": "code",
      "source": [
        "# Run this cell to show the source code of the script.\n",
        "\n",
        "!cat appy_s05_01_03.py"
      ],
      "metadata": {
        "id": "p49AcmbmCb9T"
      },
      "execution_count": null,
      "outputs": []
    },
    {
      "cell_type": "code",
      "source": [
        "# Run this cell to execute the script.\n",
        "\n",
        "!python3.12 appy_s05_01_03.py -h"
      ],
      "metadata": {
        "id": "l55HNk1ACb9V"
      },
      "execution_count": null,
      "outputs": []
    },
    {
      "cell_type": "code",
      "source": [
        "# Run this cell to execute the script.\n",
        "\n",
        "!python3.12 appy_s05_01_03.py -m 100 -s 10 -n 100"
      ],
      "metadata": {
        "id": "ENKU6XE9Cb9V"
      },
      "execution_count": null,
      "outputs": []
    },
    {
      "cell_type": "markdown",
      "source": [
        "# 5. Calculating statistical values"
      ],
      "metadata": {
        "id": "6SLUIJ6CCizB"
      }
    },
    {
      "cell_type": "markdown",
      "source": [
        "## 5.1 Minimum and maximum values"
      ],
      "metadata": {
        "id": "OkfSetTyClcm"
      }
    },
    {
      "cell_type": "code",
      "source": [
        "# Run this cell to show the source code of the script.\n",
        "\n",
        "!cat appy_s05_02_00.py"
      ],
      "metadata": {
        "id": "QNQpYFlDIhGI"
      },
      "execution_count": null,
      "outputs": []
    },
    {
      "cell_type": "code",
      "source": [
        "# Run this cell to execute the script.\n",
        "\n",
        "!python3.12 appy_s05_02_00.py -h"
      ],
      "metadata": {
        "id": "iO47j2fLIhGM"
      },
      "execution_count": null,
      "outputs": []
    },
    {
      "cell_type": "code",
      "source": [
        "# Run this cell to execute the script.\n",
        "\n",
        "!python3.12 appy_s05_02_00.py -n 10000 -m 100 -s 10"
      ],
      "metadata": {
        "id": "s6oi2HlKIhGM"
      },
      "execution_count": null,
      "outputs": []
    },
    {
      "cell_type": "markdown",
      "source": [
        "## 5.2 Mean, variance, and standard deviation"
      ],
      "metadata": {
        "id": "PyhSzbt-Isqg"
      }
    },
    {
      "cell_type": "code",
      "source": [
        "# Run this cell to show the source code of the script.\n",
        "\n",
        "!cat appy_s05_02_01.py"
      ],
      "metadata": {
        "id": "gYVJMPXrIrNA"
      },
      "execution_count": null,
      "outputs": []
    },
    {
      "cell_type": "code",
      "source": [
        "# Run this cell to execute the script.\n",
        "\n",
        "!python3.12 appy_s05_02_01.py -h"
      ],
      "metadata": {
        "id": "bN8hSFnMIrNB"
      },
      "execution_count": null,
      "outputs": []
    },
    {
      "cell_type": "code",
      "source": [
        "# Run this cell to execute the script.\n",
        "\n",
        "!python3.12 appy_s05_02_01.py -n 10000 -m 100 -s 10"
      ],
      "metadata": {
        "id": "yMrOcI57IrNB"
      },
      "execution_count": null,
      "outputs": []
    },
    {
      "cell_type": "markdown",
      "source": [
        "## 5.3 Moments of distribution"
      ],
      "metadata": {
        "id": "oSOM58oYI06J"
      }
    },
    {
      "cell_type": "code",
      "source": [
        "# Run this cell to show the source code of the script.\n",
        "\n",
        "!cat appy_s05_02_02.py"
      ],
      "metadata": {
        "id": "WV0hvkKvI5Sh"
      },
      "execution_count": null,
      "outputs": []
    },
    {
      "cell_type": "code",
      "source": [
        "# Run this cell to execute the script.\n",
        "\n",
        "!python3.12 appy_s05_02_02.py -h"
      ],
      "metadata": {
        "id": "G8xBHTt5I5Si"
      },
      "execution_count": null,
      "outputs": []
    },
    {
      "cell_type": "code",
      "source": [
        "# Run this cell to execute the script.\n",
        "\n",
        "!python3.12 appy_s05_02_02.py -n 10000 -m 100 -s 10"
      ],
      "metadata": {
        "id": "ustUzls0I5Si"
      },
      "execution_count": null,
      "outputs": []
    },
    {
      "cell_type": "markdown",
      "source": [
        "## 5.4 Skewness of distribution"
      ],
      "metadata": {
        "id": "KfhEiDr9I9yi"
      }
    },
    {
      "cell_type": "code",
      "source": [
        "# Run this cell to show the source code of the script.\n",
        "\n",
        "!cat appy_s05_02_03.py"
      ],
      "metadata": {
        "id": "padg9KDmJA5Q"
      },
      "execution_count": null,
      "outputs": []
    },
    {
      "cell_type": "code",
      "source": [
        "# Run this cell to execute the script.\n",
        "\n",
        "!python3.12 appy_s05_02_03.py -h"
      ],
      "metadata": {
        "id": "IOaHnN6HJA5S"
      },
      "execution_count": null,
      "outputs": []
    },
    {
      "cell_type": "code",
      "source": [
        "# Run this cell to execute the script.\n",
        "\n",
        "!python3.12 appy_s05_02_03.py -n 10000 -m 100 -s 10"
      ],
      "metadata": {
        "id": "yfNesRacJA5T"
      },
      "execution_count": null,
      "outputs": []
    },
    {
      "cell_type": "code",
      "source": [
        "# Run this cell to show the source code of the script.\n",
        "\n",
        "!cat appy_s05_02_04.py"
      ],
      "metadata": {
        "id": "PfyfA1FTJI_B"
      },
      "execution_count": null,
      "outputs": []
    },
    {
      "cell_type": "code",
      "source": [
        "# Run this cell to execute the script.\n",
        "\n",
        "!python3.12 appy_s05_02_04.py -h"
      ],
      "metadata": {
        "id": "mXC_vyj5JI_C"
      },
      "execution_count": null,
      "outputs": []
    },
    {
      "cell_type": "code",
      "source": [
        "# Run this cell to execute the script.\n",
        "\n",
        "!python3.12 appy_s05_02_04.py -n 10000 -m 100 -s 10"
      ],
      "metadata": {
        "id": "ogKG2YLkJI_C"
      },
      "execution_count": null,
      "outputs": []
    },
    {
      "cell_type": "markdown",
      "source": [
        "## 5.5 Kurtosis of distribution"
      ],
      "metadata": {
        "id": "bAZhBz6RJO_d"
      }
    },
    {
      "cell_type": "code",
      "source": [
        "# Run this cell to show the source code of the script.\n",
        "\n",
        "!cat appy_s05_02_05.py"
      ],
      "metadata": {
        "id": "A6gmkCcCJT8y"
      },
      "execution_count": null,
      "outputs": []
    },
    {
      "cell_type": "code",
      "source": [
        "# Run this cell to execute the script.\n",
        "\n",
        "!python3.12 appy_s05_02_05.py -h"
      ],
      "metadata": {
        "id": "f7IjDg2fJT80"
      },
      "execution_count": null,
      "outputs": []
    },
    {
      "cell_type": "code",
      "source": [
        "# Run this cell to execute the script.\n",
        "\n",
        "!python3.12 appy_s05_02_05.py -n 10000 -m 100 -s 10"
      ],
      "metadata": {
        "id": "wn_HNCvZJT80"
      },
      "execution_count": null,
      "outputs": []
    },
    {
      "cell_type": "code",
      "source": [
        "# Run this cell to show the source code of the script.\n",
        "\n",
        "!cat appy_s05_02_06.py"
      ],
      "metadata": {
        "id": "fbh-O1lgJapd"
      },
      "execution_count": null,
      "outputs": []
    },
    {
      "cell_type": "code",
      "source": [
        "# Run this cell to execute the script.\n",
        "\n",
        "!python3.12 appy_s05_02_06.py -h"
      ],
      "metadata": {
        "id": "4z0pxUXzJape"
      },
      "execution_count": null,
      "outputs": []
    },
    {
      "cell_type": "code",
      "source": [
        "# Run this cell to execute the script.\n",
        "\n",
        "!python3.12 appy_s05_02_06.py -n 10000 -m 100 -s 10"
      ],
      "metadata": {
        "id": "y73fPgvDJapf"
      },
      "execution_count": null,
      "outputs": []
    },
    {
      "cell_type": "markdown",
      "source": [
        "## 5.6 A function to get a set of staitistical values of a distribution"
      ],
      "metadata": {
        "id": "ra65wYsqJhu9"
      }
    },
    {
      "cell_type": "code",
      "source": [
        "# Run this cell to show the source code of the script.\n",
        "\n",
        "!cat appy_s05_02_07.py"
      ],
      "metadata": {
        "id": "vJ9RTU-IJnFL"
      },
      "execution_count": null,
      "outputs": []
    },
    {
      "cell_type": "code",
      "source": [
        "# Run this cell to execute the script.\n",
        "\n",
        "!python3.12 appy_s05_02_07.py -h"
      ],
      "metadata": {
        "id": "PwZYJ9EZJnFM"
      },
      "execution_count": null,
      "outputs": []
    },
    {
      "cell_type": "code",
      "source": [
        "# Run this cell to execute the script.\n",
        "\n",
        "!python3.12 appy_s05_02_07.py -n 10000 -m 100 -s 10"
      ],
      "metadata": {
        "id": "IRRbjYz9JnFM"
      },
      "execution_count": null,
      "outputs": []
    },
    {
      "cell_type": "markdown",
      "source": [
        "# 6. Linear algebra"
      ],
      "metadata": {
        "id": "MeMMvpVFJtmG"
      }
    },
    {
      "cell_type": "markdown",
      "source": [
        "## 6.1 Determinant of a matrix"
      ],
      "metadata": {
        "id": "VorUAFwXJvpV"
      }
    },
    {
      "cell_type": "code",
      "source": [
        "# Run this cell to show the source code of the script.\n",
        "\n",
        "!cat appy_s05_03_00.py"
      ],
      "metadata": {
        "id": "2Uj9xa7PJz7E"
      },
      "execution_count": null,
      "outputs": []
    },
    {
      "cell_type": "code",
      "source": [
        "# Run this cell to execute the script.\n",
        "\n",
        "!python3.12 appy_s05_03_00.py"
      ],
      "metadata": {
        "id": "2N6a67eyJz7F"
      },
      "execution_count": null,
      "outputs": []
    },
    {
      "cell_type": "markdown",
      "source": [
        "## 6.2 Inverse matrix"
      ],
      "metadata": {
        "id": "FOKFfScxJ5Of"
      }
    },
    {
      "cell_type": "code",
      "source": [
        "# Run this cell to show the source code of the script.\n",
        "\n",
        "!cat appy_s05_03_01.py"
      ],
      "metadata": {
        "id": "M57RR-0jJ784"
      },
      "execution_count": null,
      "outputs": []
    },
    {
      "cell_type": "code",
      "source": [
        "# Run this cell to execute the script.\n",
        "\n",
        "!python3.12 appy_s05_03_01.py"
      ],
      "metadata": {
        "id": "PdUksQSRJ788"
      },
      "execution_count": null,
      "outputs": []
    },
    {
      "cell_type": "code",
      "source": [
        "# Run this cell to show the source code of the script.\n",
        "\n",
        "!cat appy_s05_03_02.py"
      ],
      "metadata": {
        "id": "DyvoVPPyKBZk"
      },
      "execution_count": null,
      "outputs": []
    },
    {
      "cell_type": "code",
      "source": [
        "# Run this cell to execute the script.\n",
        "\n",
        "!python3.12 appy_s05_03_02.py"
      ],
      "metadata": {
        "id": "YV8XLyExKBZo"
      },
      "execution_count": null,
      "outputs": []
    },
    {
      "cell_type": "markdown",
      "source": [
        "## 6.3 Eigenvalues and eigenvectors"
      ],
      "metadata": {
        "id": "VmGyYB52KFAX"
      }
    },
    {
      "cell_type": "code",
      "source": [
        "# Run this cell to show the source code of the script.\n",
        "\n",
        "!cat appy_s05_03_03.py"
      ],
      "metadata": {
        "id": "HlpYI2pRKI6N"
      },
      "execution_count": null,
      "outputs": []
    },
    {
      "cell_type": "code",
      "source": [
        "# Run this cell to execute the script.\n",
        "\n",
        "!python3.12 appy_s05_03_03.py"
      ],
      "metadata": {
        "id": "bF3h-3QUKI6O"
      },
      "execution_count": null,
      "outputs": []
    },
    {
      "cell_type": "code",
      "source": [
        "# Run this cell to show the source code of the script.\n",
        "\n",
        "!cat appy_s05_03_04.py"
      ],
      "metadata": {
        "id": "6a42YmxKKOCC"
      },
      "execution_count": null,
      "outputs": []
    },
    {
      "cell_type": "code",
      "source": [
        "# Run this cell to execute the script.\n",
        "\n",
        "!python3.12 appy_s05_03_04.py"
      ],
      "metadata": {
        "id": "hRu7jemoKOCF"
      },
      "execution_count": null,
      "outputs": []
    },
    {
      "cell_type": "code",
      "source": [
        "# Run this cell to show the source code of the script.\n",
        "\n",
        "!cat appy_s05_03_05.py"
      ],
      "metadata": {
        "id": "zmziEQmxKR67"
      },
      "execution_count": null,
      "outputs": []
    },
    {
      "cell_type": "code",
      "source": [
        "# Run this cell to execute the script.\n",
        "\n",
        "!python3.12 appy_s05_03_05.py"
      ],
      "metadata": {
        "id": "VwP7w1dOKR68"
      },
      "execution_count": null,
      "outputs": []
    },
    {
      "cell_type": "markdown",
      "source": [
        "# 7. Interpolation"
      ],
      "metadata": {
        "id": "SqiTHI99K9Aj"
      }
    },
    {
      "cell_type": "markdown",
      "source": [
        "## 7.1 Linear interpolation"
      ],
      "metadata": {
        "id": "iEnNqePOK_hP"
      }
    },
    {
      "cell_type": "code",
      "source": [
        "# Run this cell to show the source code of the script.\n",
        "\n",
        "!cat appy_s05_04_00.py"
      ],
      "metadata": {
        "id": "AtnCNMLYLEX0"
      },
      "execution_count": null,
      "outputs": []
    },
    {
      "cell_type": "code",
      "source": [
        "# Run this cell to execute the script.\n",
        "\n",
        "!python3.12 appy_s05_04_00.py -h"
      ],
      "metadata": {
        "id": "mpSHhieDLEX2"
      },
      "execution_count": null,
      "outputs": []
    },
    {
      "cell_type": "code",
      "source": [
        "# Run this cell to execute the script.\n",
        "\n",
        "!python3.12 appy_s05_04_00.py -a 2 -b 3 -x 2.5"
      ],
      "metadata": {
        "id": "MNn9ejfYLIqM"
      },
      "execution_count": null,
      "outputs": []
    },
    {
      "cell_type": "code",
      "source": [
        "# Run this cell to execute the script.\n",
        "\n",
        "!python3.12 appy_s05_04_00.py -a 2 -b 3 -x 3.7"
      ],
      "metadata": {
        "id": "igvoOtcLLNNd"
      },
      "execution_count": null,
      "outputs": []
    },
    {
      "cell_type": "code",
      "source": [
        "# Run this cell to show the source code of the script.\n",
        "\n",
        "!cat appy_s05_04_01.py"
      ],
      "metadata": {
        "id": "eMcGprDnLTET"
      },
      "execution_count": null,
      "outputs": []
    },
    {
      "cell_type": "code",
      "source": [
        "# Run this cell to execute the script.\n",
        "\n",
        "!python3.12 appy_s05_04_01.py -h"
      ],
      "metadata": {
        "id": "AjaBiXMPLTEU"
      },
      "execution_count": null,
      "outputs": []
    },
    {
      "cell_type": "code",
      "source": [
        "# Run this cell to execute the script.\n",
        "\n",
        "!python3.12 appy_s05_04_01.py -a 2.0 -b 3.0 -x 4.3 -o appy_s05_04_01.png -r 100"
      ],
      "metadata": {
        "id": "YD-5qWyBLTEV"
      },
      "execution_count": null,
      "outputs": []
    },
    {
      "cell_type": "code",
      "source": [
        "# Run this cell to display image file.\n",
        "\n",
        "# importing IPython.display module\n",
        "import IPython.display\n",
        "\n",
        "# displaying image file\n",
        "IPython.display.Image ('appy_s05_04_01.png')"
      ],
      "metadata": {
        "id": "tHdUmbkbTWec"
      },
      "execution_count": null,
      "outputs": []
    },
    {
      "cell_type": "markdown",
      "source": [
        "## 7.2 Quadratic interpolation"
      ],
      "metadata": {
        "id": "9laebIhyMfVo"
      }
    },
    {
      "cell_type": "code",
      "source": [
        "# Run this cell to show the source code of the script.\n",
        "\n",
        "!cat appy_s05_04_02.py"
      ],
      "metadata": {
        "id": "J2tkymmQMlw4"
      },
      "execution_count": null,
      "outputs": []
    },
    {
      "cell_type": "code",
      "source": [
        "# Run this cell to execute the script.\n",
        "\n",
        "!python3.12 appy_s05_04_02.py -h"
      ],
      "metadata": {
        "id": "JrSNErniMlw5"
      },
      "execution_count": null,
      "outputs": []
    },
    {
      "cell_type": "code",
      "source": [
        "# Run this cell to execute the script.\n",
        "\n",
        "!python3.12 appy_s05_04_02.py -a 0.5 -b 4.0 -c 3.0 -x 5.5 -o appy_s05_04_02.png -r 100"
      ],
      "metadata": {
        "id": "XbgfIcNKMlw6"
      },
      "execution_count": null,
      "outputs": []
    },
    {
      "cell_type": "code",
      "source": [
        "# Run this cell to display image file.\n",
        "\n",
        "# importing IPython.display module\n",
        "import IPython.display\n",
        "\n",
        "# displaying image file\n",
        "IPython.display.Image ('appy_s05_04_02.png')"
      ],
      "metadata": {
        "id": "9jQAhDN5Mlw7"
      },
      "execution_count": null,
      "outputs": []
    },
    {
      "cell_type": "code",
      "source": [
        "# Run this cell to show the source code of the script.\n",
        "\n",
        "!cat appy_s05_04_03.py"
      ],
      "metadata": {
        "id": "wWZICZf7M4mv"
      },
      "execution_count": null,
      "outputs": []
    },
    {
      "cell_type": "code",
      "source": [
        "# Run this cell to execute the script.\n",
        "\n",
        "!python3.12 appy_s05_04_03.py -h"
      ],
      "metadata": {
        "id": "f2rn_FcwM4my"
      },
      "execution_count": null,
      "outputs": []
    },
    {
      "cell_type": "code",
      "source": [
        "# Run this cell to execute the script.\n",
        "\n",
        "!python3.12 appy_s05_04_03.py -a 0.5 -b 4.0 -c 3.0 -x 5.5 -o appy_s05_04_03.png -r 100"
      ],
      "metadata": {
        "id": "XiEzOxP2M4mz"
      },
      "execution_count": null,
      "outputs": []
    },
    {
      "cell_type": "code",
      "source": [
        "# Run this cell to display image file.\n",
        "\n",
        "# importing IPython.display module\n",
        "import IPython.display\n",
        "\n",
        "# displaying image file\n",
        "IPython.display.Image ('appy_s05_04_03.png')"
      ],
      "metadata": {
        "id": "cvoxf8p4M4m0"
      },
      "execution_count": null,
      "outputs": []
    },
    {
      "cell_type": "markdown",
      "source": [
        "## 7.3 Cubic interpolation"
      ],
      "metadata": {
        "id": "JVpIeAIvN3FG"
      }
    },
    {
      "cell_type": "code",
      "source": [
        "# Run this cell to show the source code of the script.\n",
        "\n",
        "!cat appy_s05_04_04.py"
      ],
      "metadata": {
        "id": "2_5WOyayP5g-"
      },
      "execution_count": null,
      "outputs": []
    },
    {
      "cell_type": "code",
      "source": [
        "# Run this cell to execute the script.\n",
        "\n",
        "!python3.12 appy_s05_04_04.py -h"
      ],
      "metadata": {
        "id": "zo-SepZXP5hB"
      },
      "execution_count": null,
      "outputs": []
    },
    {
      "cell_type": "code",
      "source": [
        "# Run this cell to execute the script.\n",
        "\n",
        "!python3.12 appy_s05_04_04.py -a 2 -b 1 -c 3 -x 5.5 -o appy_s05_04_04.png -r 100"
      ],
      "metadata": {
        "id": "rOPv_cc0P5hC"
      },
      "execution_count": null,
      "outputs": []
    },
    {
      "cell_type": "code",
      "source": [
        "# Run this cell to display image file.\n",
        "\n",
        "# importing IPython.display module\n",
        "import IPython.display\n",
        "\n",
        "# displaying image file\n",
        "IPython.display.Image ('appy_s05_04_04.png')"
      ],
      "metadata": {
        "id": "0rfy3x_yP5hE"
      },
      "execution_count": null,
      "outputs": []
    },
    {
      "cell_type": "code",
      "source": [
        "# Run this cell to show the source code of the script.\n",
        "\n",
        "!cat appy_s05_04_05.py"
      ],
      "metadata": {
        "id": "UEMXp4TPQFaF"
      },
      "execution_count": null,
      "outputs": []
    },
    {
      "cell_type": "code",
      "source": [
        "# Run this cell to execute the script.\n",
        "\n",
        "!python3.12 appy_s05_04_05.py -h"
      ],
      "metadata": {
        "id": "F1Fy6tQkQFaI"
      },
      "execution_count": null,
      "outputs": []
    },
    {
      "cell_type": "code",
      "source": [
        "# Run this cell to execute the script.\n",
        "\n",
        "!python3.12 appy_s05_04_05.py -a 2 -b 1 -c 3 -x 5.5 -o appy_s05_04_05.png -r 100"
      ],
      "metadata": {
        "id": "5vtyYEusQFaK"
      },
      "execution_count": null,
      "outputs": []
    },
    {
      "cell_type": "code",
      "source": [
        "# Run this cell to display image file.\n",
        "\n",
        "# importing IPython.display module\n",
        "import IPython.display\n",
        "\n",
        "# displaying image file\n",
        "IPython.display.Image ('appy_s05_04_05.png')"
      ],
      "metadata": {
        "id": "nKHUnvlHQFaK"
      },
      "execution_count": null,
      "outputs": []
    },
    {
      "cell_type": "code",
      "source": [
        "# Run this cell to show the source code of the script.\n",
        "\n",
        "!cat appy_s05_04_06.py"
      ],
      "metadata": {
        "id": "A7XtICseQRbJ"
      },
      "execution_count": null,
      "outputs": []
    },
    {
      "cell_type": "code",
      "source": [
        "# Run this cell to execute the script.\n",
        "\n",
        "!python3.12 appy_s05_04_06.py -h"
      ],
      "metadata": {
        "id": "kD-LF5fbQRbM"
      },
      "execution_count": null,
      "outputs": []
    },
    {
      "cell_type": "code",
      "source": [
        "# Run this cell to execute the script.\n",
        "\n",
        "!python3.12 appy_s05_04_06.py -a 2 -b 1 -c 3 -x 5.5 -o appy_s05_04_06.png -r 100"
      ],
      "metadata": {
        "id": "I8hcbvJpQRbO"
      },
      "execution_count": null,
      "outputs": []
    },
    {
      "cell_type": "code",
      "source": [
        "# Run this cell to display image file.\n",
        "\n",
        "# importing IPython.display module\n",
        "import IPython.display\n",
        "\n",
        "# displaying image file\n",
        "IPython.display.Image ('appy_s05_04_06.png')"
      ],
      "metadata": {
        "id": "WFS0jg_9QRbO"
      },
      "execution_count": null,
      "outputs": []
    },
    {
      "cell_type": "markdown",
      "source": [
        "## 7.4 4th order spline interpolation"
      ],
      "metadata": {
        "id": "guRG9ynZQbKN"
      }
    },
    {
      "cell_type": "code",
      "source": [
        "# Run this cell to show the source code of the script.\n",
        "\n",
        "!cat appy_s05_04_07.py"
      ],
      "metadata": {
        "id": "8DqZb6SnQhZq"
      },
      "execution_count": null,
      "outputs": []
    },
    {
      "cell_type": "code",
      "source": [
        "# Run this cell to execute the script.\n",
        "\n",
        "!python3.12 appy_s05_04_07.py -h"
      ],
      "metadata": {
        "id": "ooDcZ0CKQhZr"
      },
      "execution_count": null,
      "outputs": []
    },
    {
      "cell_type": "code",
      "source": [
        "# Run this cell to execute the script.\n",
        "\n",
        "!python3.12 appy_s05_04_07.py -o appy_s05_04_07.png -r 100"
      ],
      "metadata": {
        "id": "Kk7ht-7IQhZs"
      },
      "execution_count": null,
      "outputs": []
    },
    {
      "cell_type": "code",
      "source": [
        "# Run this cell to display image file.\n",
        "\n",
        "# importing IPython.display module\n",
        "import IPython.display\n",
        "\n",
        "# displaying image file\n",
        "IPython.display.Image ('appy_s05_04_07.png')"
      ],
      "metadata": {
        "id": "abPtaWyvQhZt"
      },
      "execution_count": null,
      "outputs": []
    },
    {
      "cell_type": "markdown",
      "source": [
        "# 8. Numerical integration"
      ],
      "metadata": {
        "id": "TsY2SmamQsyy"
      }
    },
    {
      "cell_type": "markdown",
      "source": [
        "## 8.1 Numerical integration of a given function"
      ],
      "metadata": {
        "id": "dRVW2HDdQv0i"
      }
    },
    {
      "cell_type": "markdown",
      "source": [
        "### 8.1.1 Sine curve"
      ],
      "metadata": {
        "id": "p5a_1ITXQyvV"
      }
    },
    {
      "cell_type": "code",
      "source": [
        "# Run this cell to show the source code of the script.\n",
        "\n",
        "!cat appy_s05_05_00.py"
      ],
      "metadata": {
        "id": "yQhQ7koZQ3ej"
      },
      "execution_count": null,
      "outputs": []
    },
    {
      "cell_type": "code",
      "source": [
        "# Run this cell to execute the script.\n",
        "\n",
        "!python3.12 appy_s05_05_00.py"
      ],
      "metadata": {
        "id": "7bt3-5-iQ3eo"
      },
      "execution_count": null,
      "outputs": []
    },
    {
      "cell_type": "markdown",
      "source": [
        "### 8.1.2 A half circle"
      ],
      "metadata": {
        "id": "sS-qMlvvRK-V"
      }
    },
    {
      "cell_type": "code",
      "source": [
        "# Run this cell to show the source code of the script.\n",
        "\n",
        "!cat appy_s05_05_01.py"
      ],
      "metadata": {
        "id": "f4JYgYI7RO_P"
      },
      "execution_count": null,
      "outputs": []
    },
    {
      "cell_type": "code",
      "source": [
        "# Run this cell to execute the script.\n",
        "\n",
        "!python3.12 appy_s05_05_01.py"
      ],
      "metadata": {
        "id": "8zGCQqZ4RO_Q"
      },
      "execution_count": null,
      "outputs": []
    },
    {
      "cell_type": "markdown",
      "source": [
        "### 8.1.3 Standard normal distribution"
      ],
      "metadata": {
        "id": "qX35H7QkRTxI"
      }
    },
    {
      "cell_type": "code",
      "source": [
        "# Run this cell to show the source code of the script.\n",
        "\n",
        "!cat appy_s05_05_02.py"
      ],
      "metadata": {
        "id": "uvlACbpLRWjH"
      },
      "execution_count": null,
      "outputs": []
    },
    {
      "cell_type": "code",
      "source": [
        "# Run this cell to execute the script.\n",
        "\n",
        "!python3.12 appy_s05_05_02.py"
      ],
      "metadata": {
        "id": "A3zvfRbrRWjJ"
      },
      "execution_count": null,
      "outputs": []
    },
    {
      "cell_type": "markdown",
      "source": [
        "## 8.2 Numerical integration by given samples"
      ],
      "metadata": {
        "id": "h1YHeCdYRdDb"
      }
    },
    {
      "cell_type": "code",
      "source": [
        "# Run this cell to show the source code of the script.\n",
        "\n",
        "!cat appy_s05_05_03.py"
      ],
      "metadata": {
        "id": "qcaiuO1rRi_C"
      },
      "execution_count": null,
      "outputs": []
    },
    {
      "cell_type": "code",
      "source": [
        "# Run this cell to execute the script.\n",
        "\n",
        "!python3.12 appy_s05_05_03.py"
      ],
      "metadata": {
        "id": "95C8II-_Ri_J"
      },
      "execution_count": null,
      "outputs": []
    },
    {
      "cell_type": "code",
      "source": [
        "# Run this cell to show the source code of the script.\n",
        "\n",
        "!cat appy_s05_05_04.py"
      ],
      "metadata": {
        "id": "O_Athy-6Rm8P"
      },
      "execution_count": null,
      "outputs": []
    },
    {
      "cell_type": "code",
      "source": [
        "# Run this cell to execute the script.\n",
        "\n",
        "!python3.12 appy_s05_05_04.py"
      ],
      "metadata": {
        "id": "hmcIu3ccRm8T"
      },
      "execution_count": null,
      "outputs": []
    },
    {
      "cell_type": "code",
      "source": [
        "# Run this cell to show the source code of the script.\n",
        "\n",
        "!cat appy_s05_05_05.py"
      ],
      "metadata": {
        "id": "3r5rMkJ1SJGG"
      },
      "execution_count": null,
      "outputs": []
    },
    {
      "cell_type": "code",
      "source": [
        "# Run this cell to execute the script.\n",
        "\n",
        "!python3.12 appy_s05_05_05.py"
      ],
      "metadata": {
        "id": "UrJ4DPTzSJGJ"
      },
      "execution_count": null,
      "outputs": []
    },
    {
      "cell_type": "markdown",
      "source": [
        "# 8.3 Simpson's rule"
      ],
      "metadata": {
        "id": "e2796oEoSQA5"
      }
    },
    {
      "cell_type": "code",
      "source": [
        "# Run this cell to show the source code of the script.\n",
        "\n",
        "!cat appy_s05_05_06.py"
      ],
      "metadata": {
        "id": "dyA8j276SSkD"
      },
      "execution_count": null,
      "outputs": []
    },
    {
      "cell_type": "code",
      "source": [
        "# Run this cell to execute the script.\n",
        "\n",
        "!python3.12 appy_s05_05_06.py"
      ],
      "metadata": {
        "id": "271K3P7zSSkD"
      },
      "execution_count": null,
      "outputs": []
    },
    {
      "cell_type": "markdown",
      "source": [
        "# 9. Solving a differential equation"
      ],
      "metadata": {
        "id": "aHj0pA8FSWps"
      }
    },
    {
      "cell_type": "markdown",
      "source": [
        "## 9.1 Solving a simple differential equation"
      ],
      "metadata": {
        "id": "q_L1xDuZSY9s"
      }
    },
    {
      "cell_type": "code",
      "source": [
        "# Run this cell to show the source code of the script.\n",
        "\n",
        "!cat appy_s05_06_00.py"
      ],
      "metadata": {
        "id": "acqAcx2USf4j"
      },
      "execution_count": null,
      "outputs": []
    },
    {
      "cell_type": "code",
      "source": [
        "# Run this cell to execute the script.\n",
        "\n",
        "!python3.12 appy_s05_06_00.py -h"
      ],
      "metadata": {
        "id": "FSFCWaL-Sf4k"
      },
      "execution_count": null,
      "outputs": []
    },
    {
      "cell_type": "code",
      "source": [
        "# Run this cell to execute the script.\n",
        "\n",
        "!python3.12 appy_s05_06_00.py -o appy_s05_06_00.png -r 100"
      ],
      "metadata": {
        "id": "QFUeERsdSj0-"
      },
      "execution_count": null,
      "outputs": []
    },
    {
      "cell_type": "code",
      "source": [
        "# Run this cell to display image file.\n",
        "\n",
        "# importing IPython.display module\n",
        "import IPython.display\n",
        "\n",
        "# displaying image file\n",
        "IPython.display.Image ('appy_s05_06_00.png')"
      ],
      "metadata": {
        "id": "UZkb6-BbSsGC"
      },
      "execution_count": null,
      "outputs": []
    },
    {
      "cell_type": "markdown",
      "source": [
        "## 9.2 Solving a 2nd order differential equation"
      ],
      "metadata": {
        "id": "VXg8Q7S9Sw4N"
      }
    },
    {
      "cell_type": "code",
      "source": [
        "# Run this cell to show the source code of the script.\n",
        "\n",
        "!cat appy_s05_06_01.py"
      ],
      "metadata": {
        "id": "P1icyO7qS5n7"
      },
      "execution_count": null,
      "outputs": []
    },
    {
      "cell_type": "code",
      "source": [
        "# Run this cell to execute the script.\n",
        "\n",
        "!python3.12 appy_s05_06_01.py -h"
      ],
      "metadata": {
        "id": "D3-x9K0nS5oC"
      },
      "execution_count": null,
      "outputs": []
    },
    {
      "cell_type": "code",
      "source": [
        "# Run this cell to execute the script.\n",
        "\n",
        "!python3.12 appy_s05_06_01.py -x0 1 -y0 0 -vx0 0 -vy0 1 -M 1 -o p0.data"
      ],
      "metadata": {
        "id": "bEaJDaroS5oD"
      },
      "execution_count": null,
      "outputs": []
    },
    {
      "cell_type": "code",
      "source": [
        "# Run this cell to print first 20 lines of the data file.\n",
        "\n",
        "!head -20 p0.data"
      ],
      "metadata": {
        "id": "rYnFNkOoTIvi"
      },
      "execution_count": null,
      "outputs": []
    },
    {
      "cell_type": "code",
      "source": [
        "# Run this cell to show the source code of the script.\n",
        "\n",
        "!cat appy_s05_06_02.py"
      ],
      "metadata": {
        "id": "hu8gKwz3TViJ"
      },
      "execution_count": null,
      "outputs": []
    },
    {
      "cell_type": "code",
      "source": [
        "# Run this cell to execute the script.\n",
        "\n",
        "!python3.12 appy_s05_06_02.py -h"
      ],
      "metadata": {
        "id": "0yKrC1gDTViN"
      },
      "execution_count": null,
      "outputs": []
    },
    {
      "cell_type": "code",
      "source": [
        "# Run this cell to execute the script.\n",
        "\n",
        "!python3.12 appy_s05_06_02.py -o p0.png -r 100 p0.data"
      ],
      "metadata": {
        "id": "_X1Kf8k6TViO"
      },
      "execution_count": null,
      "outputs": []
    },
    {
      "cell_type": "code",
      "source": [
        "# Run this cell to display image file.\n",
        "\n",
        "# importing IPython.display module\n",
        "import IPython.display\n",
        "\n",
        "# displaying image file\n",
        "IPython.display.Image ('p0.png')"
      ],
      "metadata": {
        "id": "e2oj43WRTe-C"
      },
      "execution_count": null,
      "outputs": []
    },
    {
      "cell_type": "code",
      "source": [
        "# Run this cell to execute the script.\n",
        "\n",
        "!python3.12 appy_s05_06_01.py -x0 1 -y0 0 -vx0 0 -vy0 1.2 -M 1 -o p1.data"
      ],
      "metadata": {
        "id": "Fe4mAaMqTn4a"
      },
      "execution_count": null,
      "outputs": []
    },
    {
      "cell_type": "code",
      "source": [
        "# Run this cell to print first 20 lines of the data file.\n",
        "\n",
        "!head -20 p1.data"
      ],
      "metadata": {
        "id": "7fmbDM3STtNa"
      },
      "execution_count": null,
      "outputs": []
    },
    {
      "cell_type": "code",
      "source": [
        "# Run this cell to execute the script.\n",
        "\n",
        "!python3.12 appy_s05_06_02.py -o p1.png -r 100 p1.data"
      ],
      "metadata": {
        "id": "umd_ZpGnUCk6"
      },
      "execution_count": null,
      "outputs": []
    },
    {
      "cell_type": "code",
      "source": [
        "# Run this cell to display image file.\n",
        "\n",
        "# importing IPython.display module\n",
        "import IPython.display\n",
        "\n",
        "# displaying image file\n",
        "IPython.display.Image ('p1.png')"
      ],
      "metadata": {
        "id": "hESNzmqWT3Du"
      },
      "execution_count": null,
      "outputs": []
    },
    {
      "cell_type": "code",
      "source": [
        "# Run this cell to execute the script.\n",
        "\n",
        "!python3.12 appy_s05_06_01.py -x0 1 -y0 0 -vx0 0 -vy0 1.3 -M 1 -o p2.data"
      ],
      "metadata": {
        "id": "UEcGPmhKUTce"
      },
      "execution_count": null,
      "outputs": []
    },
    {
      "cell_type": "code",
      "source": [
        "# Run this cell to print first 20 lines of the data file.\n",
        "\n",
        "!head -20 p2.data"
      ],
      "metadata": {
        "id": "A6_vxy0IUXbA"
      },
      "execution_count": null,
      "outputs": []
    },
    {
      "cell_type": "code",
      "source": [
        "# Run this cell to show the source code of the script.\n",
        "\n",
        "!cat appy_s05_06_03.py"
      ],
      "metadata": {
        "id": "RTwHTV-qUfX0"
      },
      "execution_count": null,
      "outputs": []
    },
    {
      "cell_type": "code",
      "source": [
        "# Run this cell to execute the script.\n",
        "\n",
        "!python3.12 appy_s05_06_03.py -h"
      ],
      "metadata": {
        "id": "IkpaVJ19UfX1"
      },
      "execution_count": null,
      "outputs": []
    },
    {
      "cell_type": "code",
      "source": [
        "# Run this cell to execute the script.\n",
        "\n",
        "!python3.12 appy_s05_06_03.py -d p2 p2.data"
      ],
      "metadata": {
        "id": "VqR_D35aUfX2"
      },
      "execution_count": null,
      "outputs": []
    },
    {
      "cell_type": "code",
      "source": [
        "# Run this cell to find newly created files.\n",
        "\n",
        "!ls -lF p2"
      ],
      "metadata": {
        "id": "yM0Kwxt6LoG4"
      },
      "execution_count": null,
      "outputs": []
    },
    {
      "cell_type": "code",
      "source": [
        "# Run this cell to show the source code of the script.\n",
        "\n",
        "!cat appy_s05_06_04.py"
      ],
      "metadata": {
        "id": "bJQMovDxV7kl"
      },
      "execution_count": null,
      "outputs": []
    },
    {
      "cell_type": "code",
      "source": [
        "# Run this cell to execute the script.\n",
        "\n",
        "!python3.12 appy_s05_06_04.py"
      ],
      "metadata": {
        "id": "og4IyEF1V7kn"
      },
      "execution_count": null,
      "outputs": []
    },
    {
      "cell_type": "code",
      "source": [
        "# Run this cell to find newly created movie file.\n",
        "\n",
        "!ls -lF *.mp4"
      ],
      "metadata": {
        "id": "q_TE4rWdWZtt"
      },
      "execution_count": null,
      "outputs": []
    },
    {
      "cell_type": "code",
      "source": [
        "# Run this cell to download file to your local computer.\n",
        "\n",
        "# importing google.colab module\n",
        "import google.colab\n",
        "\n",
        "# downloading file\n",
        "google.colab.files.download ('p2.mp4')"
      ],
      "metadata": {
        "id": "CKsmxv1YY9CJ"
      },
      "execution_count": null,
      "outputs": []
    },
    {
      "cell_type": "markdown",
      "source": [
        "# 10. Optimisation problem"
      ],
      "metadata": {
        "id": "_cov96jHWmGn"
      }
    },
    {
      "cell_type": "markdown",
      "source": [
        "## 10.1 Finding minimum for a single variable function"
      ],
      "metadata": {
        "id": "5DB1PyMaWoNN"
      }
    },
    {
      "cell_type": "code",
      "source": [
        "# Run this cell to show the source code of the script.\n",
        "\n",
        "!cat appy_s05_07_00.py"
      ],
      "metadata": {
        "id": "-wqTbrdoW4U6"
      },
      "execution_count": null,
      "outputs": []
    },
    {
      "cell_type": "code",
      "source": [
        "# Run this cell to execute the script.\n",
        "\n",
        "!python3.12 appy_s05_07_00.py -h"
      ],
      "metadata": {
        "id": "LALkajL_W4U-"
      },
      "execution_count": null,
      "outputs": []
    },
    {
      "cell_type": "code",
      "source": [
        "# Run this cell to execute the script.\n",
        "\n",
        "!python3.12 appy_s05_07_00.py -a 2 -b 3 -c 4 -min -10 -max 10 -o appy_s05_07_00.png -r 100"
      ],
      "metadata": {
        "id": "ofc2C2F6W4U-"
      },
      "execution_count": null,
      "outputs": []
    },
    {
      "cell_type": "code",
      "source": [
        "# Run this cell to display image file.\n",
        "\n",
        "# importing IPython.display module\n",
        "import IPython.display\n",
        "\n",
        "# displaying image file\n",
        "IPython.display.Image ('appy_s05_07_00.png')"
      ],
      "metadata": {
        "id": "CjfyNhGvW4VA"
      },
      "execution_count": null,
      "outputs": []
    },
    {
      "cell_type": "code",
      "source": [
        "# Run this cell to show the source code of the script.\n",
        "\n",
        "!cat appy_s05_07_01.py"
      ],
      "metadata": {
        "id": "EHYeooQOXHeP"
      },
      "execution_count": null,
      "outputs": []
    },
    {
      "cell_type": "code",
      "source": [
        "# Run this cell to execute the script.\n",
        "\n",
        "!python3.12 appy_s05_07_01.py -h"
      ],
      "metadata": {
        "id": "I_vpRVUMXHeS"
      },
      "execution_count": null,
      "outputs": []
    },
    {
      "cell_type": "code",
      "source": [
        "# Run this cell to execute the script.\n",
        "\n",
        "!python3.12 appy_s05_07_01.py -a 2 -b 3 -c 4 -min -10 -max 10 -o appy_s05_07_01.png -r 100"
      ],
      "metadata": {
        "id": "JBBFHLagXHeU"
      },
      "execution_count": null,
      "outputs": []
    },
    {
      "cell_type": "code",
      "source": [
        "# Run this cell to display image file.\n",
        "\n",
        "# importing IPython.display module\n",
        "import IPython.display\n",
        "\n",
        "# displaying image file\n",
        "IPython.display.Image ('appy_s05_07_01.png')"
      ],
      "metadata": {
        "id": "6Hs93EkVXHeV"
      },
      "execution_count": null,
      "outputs": []
    },
    {
      "cell_type": "markdown",
      "source": [
        "## 10.2 Finding minimum within a given range"
      ],
      "metadata": {
        "id": "COychcqBXQ2D"
      }
    },
    {
      "cell_type": "code",
      "source": [
        "# Run this cell to show the source code of the script.\n",
        "\n",
        "!cat appy_s05_07_02.py"
      ],
      "metadata": {
        "id": "Z9crPffCXXRO"
      },
      "execution_count": null,
      "outputs": []
    },
    {
      "cell_type": "code",
      "source": [
        "# Run this cell to execute the script.\n",
        "\n",
        "!python3.12 appy_s05_07_02.py -h"
      ],
      "metadata": {
        "id": "2EJju8tYXXRQ"
      },
      "execution_count": null,
      "outputs": []
    },
    {
      "cell_type": "code",
      "source": [
        "# Run this cell to execute the script.\n",
        "\n",
        "!python3.12 appy_s05_07_02.py -a 3 -b 2 -c 1 -d 4 -min -5 -max 5 -o appy_s05_07_02.png -r 100"
      ],
      "metadata": {
        "id": "4ji5W0QBXXRR"
      },
      "execution_count": null,
      "outputs": []
    },
    {
      "cell_type": "code",
      "source": [
        "# Run this cell to display image file.\n",
        "\n",
        "# importing IPython.display module\n",
        "import IPython.display\n",
        "\n",
        "# displaying image file\n",
        "IPython.display.Image ('appy_s05_07_02.png')"
      ],
      "metadata": {
        "id": "DrnfGhzCXXRR"
      },
      "execution_count": null,
      "outputs": []
    },
    {
      "cell_type": "code",
      "source": [
        "# Run this cell to show the source code of the script.\n",
        "\n",
        "!cat appy_s05_07_03.py"
      ],
      "metadata": {
        "id": "YsMOlj47Xz2u"
      },
      "execution_count": null,
      "outputs": []
    },
    {
      "cell_type": "code",
      "source": [
        "# Run this cell to execute the script.\n",
        "\n",
        "!python3.12 appy_s05_07_03.py -h"
      ],
      "metadata": {
        "id": "o2x8E-VoXz2y"
      },
      "execution_count": null,
      "outputs": []
    },
    {
      "cell_type": "code",
      "source": [
        "# Run this cell to execute the script.\n",
        "\n",
        "!python3.12 appy_s05_07_03.py -a 3 -b 2 -c 1 -d 4 -r0 0 -r1 3 -min -5 -max 5 -o appy_s05_07_03.png -r 100"
      ],
      "metadata": {
        "id": "qXc0avjVXz20"
      },
      "execution_count": null,
      "outputs": []
    },
    {
      "cell_type": "code",
      "source": [
        "# Run this cell to display image file.\n",
        "\n",
        "# importing IPython.display module\n",
        "import IPython.display\n",
        "\n",
        "# displaying image file\n",
        "IPython.display.Image ('appy_s05_07_03.png')"
      ],
      "metadata": {
        "id": "qlJzMC9XXz21"
      },
      "execution_count": null,
      "outputs": []
    },
    {
      "cell_type": "markdown",
      "source": [
        "## 10.3 Finding minimum for multiple variable function"
      ],
      "metadata": {
        "id": "cQ4X2hBYYz5f"
      }
    },
    {
      "cell_type": "code",
      "source": [
        "# Run this cell to show the source code of the script.\n",
        "\n",
        "!cat appy_s05_07_04.py"
      ],
      "metadata": {
        "id": "-S4JmotIY6PK"
      },
      "execution_count": null,
      "outputs": []
    },
    {
      "cell_type": "code",
      "source": [
        "# Run this cell to execute the script.\n",
        "\n",
        "!python3.12 appy_s05_07_04.py -h"
      ],
      "metadata": {
        "id": "eD_5_655Y6PL"
      },
      "execution_count": null,
      "outputs": []
    },
    {
      "cell_type": "code",
      "source": [
        "# Run this cell to execute the script.\n",
        "\n",
        "!python3.12 appy_s05_07_04.py -a -4 -b 2 -c -1 -d 6 -min -5 -max 5 -o appy_s05_07_04.png -r 100"
      ],
      "metadata": {
        "id": "cwoH6_VdY6PM"
      },
      "execution_count": null,
      "outputs": []
    },
    {
      "cell_type": "code",
      "source": [
        "# Run this cell to display image file.\n",
        "\n",
        "# importing IPython.display module\n",
        "import IPython.display\n",
        "\n",
        "# displaying image file\n",
        "IPython.display.Image ('appy_s05_07_04.png')"
      ],
      "metadata": {
        "id": "ach0zRt7Y6PM"
      },
      "execution_count": null,
      "outputs": []
    },
    {
      "cell_type": "code",
      "source": [
        "# Run this cell to show the source code of the script.\n",
        "\n",
        "!cat appy_s05_07_05.py"
      ],
      "metadata": {
        "id": "NQI2WYTzZaMP"
      },
      "execution_count": null,
      "outputs": []
    },
    {
      "cell_type": "code",
      "source": [
        "# Run this cell to execute the script.\n",
        "\n",
        "!python3.12 appy_s05_07_05.py -h"
      ],
      "metadata": {
        "id": "L9bIA4ORZaMS"
      },
      "execution_count": null,
      "outputs": []
    },
    {
      "cell_type": "code",
      "source": [
        "# Run this cell to execute the script.\n",
        "\n",
        "!python3.12 appy_s05_07_05.py -a -4 -b 2 -c -1 -d 6 -min -5 -max 5 -o appy_s05_07_05.png -r 100"
      ],
      "metadata": {
        "id": "mWTvPO6sZaMT"
      },
      "execution_count": null,
      "outputs": []
    },
    {
      "cell_type": "code",
      "source": [
        "# Run this cell to display image file.\n",
        "\n",
        "# importing IPython.display module\n",
        "import IPython.display\n",
        "\n",
        "# displaying image file\n",
        "IPython.display.Image ('appy_s05_07_05.png')"
      ],
      "metadata": {
        "id": "b5BoK5gCZaMT"
      },
      "execution_count": null,
      "outputs": []
    },
    {
      "cell_type": "markdown",
      "source": [
        "# 11. Least-squares method"
      ],
      "metadata": {
        "id": "M3qzAJSxZkMx"
      }
    },
    {
      "cell_type": "markdown",
      "source": [
        "## 11.1 Fitting to straight line using least_squares ()"
      ],
      "metadata": {
        "id": "l7WrdkMJZmoa"
      }
    },
    {
      "cell_type": "code",
      "source": [
        "# Run this cell to show the source code of the script.\n",
        "\n",
        "!cat appy_s05_08_00.py"
      ],
      "metadata": {
        "id": "H5HR1m2MZwIM"
      },
      "execution_count": null,
      "outputs": []
    },
    {
      "cell_type": "code",
      "source": [
        "# Run this cell to execute the script.\n",
        "\n",
        "!python3.12 appy_s05_08_00.py -h"
      ],
      "metadata": {
        "id": "WQrbdZfpZwIQ"
      },
      "execution_count": null,
      "outputs": []
    },
    {
      "cell_type": "code",
      "source": [
        "# Run this cell to execute the script.\n",
        "\n",
        "!python3.12 appy_s05_08_00.py -a 3 -b 10 -e 0.5 -n 21 -min 0 -max 20 -o appy_s05_08_00.data"
      ],
      "metadata": {
        "id": "iYu-0kwaZwIQ"
      },
      "execution_count": null,
      "outputs": []
    },
    {
      "cell_type": "code",
      "source": [
        "# Run this cell to show the data.\n",
        "\n",
        "!cat appy_s05_08_00.data"
      ],
      "metadata": {
        "id": "vVqftvgjZ_xr"
      },
      "execution_count": null,
      "outputs": []
    },
    {
      "cell_type": "code",
      "source": [
        "# Run this cell to show the source code of the script.\n",
        "\n",
        "!cat appy_s05_08_01.py"
      ],
      "metadata": {
        "id": "618fjDY8aRR-"
      },
      "execution_count": null,
      "outputs": []
    },
    {
      "cell_type": "code",
      "source": [
        "# Run this cell to execute the script.\n",
        "\n",
        "!python3.12 appy_s05_08_01.py -h"
      ],
      "metadata": {
        "id": "A_u9Aml3aRSA"
      },
      "execution_count": null,
      "outputs": []
    },
    {
      "cell_type": "code",
      "source": [
        "# Run this cell to execute the script.\n",
        "\n",
        "!python3.12 appy_s05_08_01.py -o appy_s05_08_01.png -r 100 appy_s05_08_00.data"
      ],
      "metadata": {
        "id": "mZbTr6dCaRSC"
      },
      "execution_count": null,
      "outputs": []
    },
    {
      "cell_type": "code",
      "source": [
        "# Run this cell to display image file.\n",
        "\n",
        "# importing IPython.display module\n",
        "import IPython.display\n",
        "\n",
        "# displaying image file\n",
        "IPython.display.Image ('appy_s05_08_01.png')"
      ],
      "metadata": {
        "id": "WluercknatNc"
      },
      "execution_count": null,
      "outputs": []
    },
    {
      "cell_type": "code",
      "source": [
        "# Run this cell to show the source code of the script.\n",
        "\n",
        "!cat appy_s05_08_02.py"
      ],
      "metadata": {
        "id": "r9mXCMzUa2Ja"
      },
      "execution_count": null,
      "outputs": []
    },
    {
      "cell_type": "code",
      "source": [
        "# Run this cell to execute the script.\n",
        "\n",
        "!python3.12 appy_s05_08_02.py -h"
      ],
      "metadata": {
        "id": "UDMtthfza2Jd"
      },
      "execution_count": null,
      "outputs": []
    },
    {
      "cell_type": "code",
      "source": [
        "# Run this cell to execute the script.\n",
        "\n",
        "!python3.12 appy_s05_08_02.py -o appy_s05_08_02.png -r 100 appy_s05_08_00.data"
      ],
      "metadata": {
        "id": "3nCEfsyza2Je"
      },
      "execution_count": null,
      "outputs": []
    },
    {
      "cell_type": "code",
      "source": [
        "# Run this cell to display image file.\n",
        "\n",
        "# importing IPython.display module\n",
        "import IPython.display\n",
        "\n",
        "# displaying image file\n",
        "IPython.display.Image ('appy_s05_08_02.png')"
      ],
      "metadata": {
        "id": "QiX-3TO9a2Jf"
      },
      "execution_count": null,
      "outputs": []
    },
    {
      "cell_type": "markdown",
      "source": [
        "## 11.2 Weighted least-squares method using least_squares ()"
      ],
      "metadata": {
        "id": "Y1vfnFoKbAD8"
      }
    },
    {
      "cell_type": "code",
      "source": [
        "# Run this cell to show the source code of the script.\n",
        "\n",
        "!cat appy_s05_08_03.py"
      ],
      "metadata": {
        "id": "qmp011AvbPis"
      },
      "execution_count": null,
      "outputs": []
    },
    {
      "cell_type": "code",
      "source": [
        "# Run this cell to execute the script.\n",
        "\n",
        "!python3.12 appy_s05_08_03.py -h"
      ],
      "metadata": {
        "id": "K9LMBlmYbPiv"
      },
      "execution_count": null,
      "outputs": []
    },
    {
      "cell_type": "code",
      "source": [
        "# Run this cell to execute the script.\n",
        "\n",
        "!python3.12 appy_s05_08_03.py -a 3 -b 10 -e 1 -n 32 -min 0 -max 31 -o appy_s05_08_03.data"
      ],
      "metadata": {
        "id": "Cf73Ey29bPiw"
      },
      "execution_count": null,
      "outputs": []
    },
    {
      "cell_type": "code",
      "source": [
        "# Run this cell to show the data.\n",
        "\n",
        "!cat appy_s05_08_03.data"
      ],
      "metadata": {
        "id": "cEjA2Ds0V2ob"
      },
      "execution_count": null,
      "outputs": []
    },
    {
      "cell_type": "code",
      "source": [
        "# Run this cell to show the source code of the script.\n",
        "\n",
        "!cat appy_s05_08_04.py"
      ],
      "metadata": {
        "id": "-M-XwboBbe6a"
      },
      "execution_count": null,
      "outputs": []
    },
    {
      "cell_type": "code",
      "source": [
        "# Run this cell to execute the script.\n",
        "\n",
        "!python3.12 appy_s05_08_04.py -h"
      ],
      "metadata": {
        "id": "Dz1XCaJabe6d"
      },
      "execution_count": null,
      "outputs": []
    },
    {
      "cell_type": "code",
      "source": [
        "# Run this cell to execute the script.\n",
        "\n",
        "!python3.12 appy_s05_08_04.py -o appy_s05_08_04.png -r 100 appy_s05_08_03.data"
      ],
      "metadata": {
        "id": "DepPO5Eobe6e"
      },
      "execution_count": null,
      "outputs": []
    },
    {
      "cell_type": "code",
      "source": [
        "# Run this cell to display image file.\n",
        "\n",
        "# importing IPython.display module\n",
        "import IPython.display\n",
        "\n",
        "# displaying image file\n",
        "IPython.display.Image ('appy_s05_08_04.png')"
      ],
      "metadata": {
        "id": "FqVsQB2Ibe6f"
      },
      "execution_count": null,
      "outputs": []
    },
    {
      "cell_type": "code",
      "source": [
        "# Run this cell to show the source code of the script.\n",
        "\n",
        "!cat appy_s05_08_05.py"
      ],
      "metadata": {
        "id": "gkyBhlmdbrKZ"
      },
      "execution_count": null,
      "outputs": []
    },
    {
      "cell_type": "code",
      "source": [
        "# Run this cell to execute the script.\n",
        "\n",
        "!python3.12 appy_s05_08_05.py -h"
      ],
      "metadata": {
        "id": "qZBOhC7ObrKc"
      },
      "execution_count": null,
      "outputs": []
    },
    {
      "cell_type": "code",
      "source": [
        "# Run this cell to execute the script.\n",
        "\n",
        "!python3.12 appy_s05_08_05.py -o appy_s05_08_05.png -r 100 appy_s05_08_03.data"
      ],
      "metadata": {
        "id": "hYj3rZXGbrKd"
      },
      "execution_count": null,
      "outputs": []
    },
    {
      "cell_type": "code",
      "source": [
        "# Run this cell to display image file.\n",
        "\n",
        "# importing IPython.display module\n",
        "import IPython.display\n",
        "\n",
        "# displaying image file\n",
        "IPython.display.Image ('appy_s05_08_05.png')"
      ],
      "metadata": {
        "id": "Wn8ExIxsbrKe"
      },
      "execution_count": null,
      "outputs": []
    },
    {
      "cell_type": "code",
      "source": [
        "# Run this cell to show the source code of the script.\n",
        "\n",
        "!cat appy_s05_08_06.py"
      ],
      "metadata": {
        "id": "BHkwmvGLb20e"
      },
      "execution_count": null,
      "outputs": []
    },
    {
      "cell_type": "code",
      "source": [
        "# Run this cell to execute the script.\n",
        "\n",
        "!python3.12 appy_s05_08_06.py -h"
      ],
      "metadata": {
        "id": "4XIgO67-b20f"
      },
      "execution_count": null,
      "outputs": []
    },
    {
      "cell_type": "code",
      "source": [
        "# Run this cell to execute the script.\n",
        "\n",
        "!python3.12 appy_s05_08_06.py -o appy_s05_08_06.png -r 100 appy_s05_08_03.data"
      ],
      "metadata": {
        "id": "8TZ2ODYMb20f"
      },
      "execution_count": null,
      "outputs": []
    },
    {
      "cell_type": "code",
      "source": [
        "# Run this cell to display image file.\n",
        "\n",
        "# importing IPython.display module\n",
        "import IPython.display\n",
        "\n",
        "# displaying image file\n",
        "IPython.display.Image ('appy_s05_08_06.png')"
      ],
      "metadata": {
        "id": "qcbMAaIlb20g"
      },
      "execution_count": null,
      "outputs": []
    },
    {
      "cell_type": "markdown",
      "source": [
        "## 11.3 Least-squares method using curve_fit ()"
      ],
      "metadata": {
        "id": "RLKFRIuRb_QQ"
      }
    },
    {
      "cell_type": "code",
      "source": [
        "# Run this cell to show the source code of the script.\n",
        "\n",
        "!cat appy_s05_08_07.py"
      ],
      "metadata": {
        "id": "7VJ41xRucGP7"
      },
      "execution_count": null,
      "outputs": []
    },
    {
      "cell_type": "code",
      "source": [
        "# Run this cell to execute the script.\n",
        "\n",
        "!python3.12 appy_s05_08_07.py -h"
      ],
      "metadata": {
        "id": "oFKNNqBXcGP8"
      },
      "execution_count": null,
      "outputs": []
    },
    {
      "cell_type": "code",
      "source": [
        "# Run this cell to execute the script.\n",
        "\n",
        "!python3.12 appy_s05_08_07.py -a 2 -b 7 -c 5 -e 2 -n 16 -min 0 -max 15 -o appy_s05_08_07.data"
      ],
      "metadata": {
        "id": "3-Trt56kcGP9"
      },
      "execution_count": null,
      "outputs": []
    },
    {
      "cell_type": "code",
      "source": [
        "# Run this cell to show the data.\n",
        "\n",
        "!cat appy_s05_08_07.data"
      ],
      "metadata": {
        "id": "HRvPUftjbaYG"
      },
      "execution_count": null,
      "outputs": []
    },
    {
      "cell_type": "code",
      "source": [
        "# Run this cell to show the source code of the script.\n",
        "\n",
        "!cat appy_s05_08_08.py"
      ],
      "metadata": {
        "id": "n2Gojr7ocZn1"
      },
      "execution_count": null,
      "outputs": []
    },
    {
      "cell_type": "code",
      "source": [
        "# Run this cell to execute the script.\n",
        "\n",
        "!python3.12 appy_s05_08_08.py -h"
      ],
      "metadata": {
        "id": "VByL5tt7cZn2"
      },
      "execution_count": null,
      "outputs": []
    },
    {
      "cell_type": "code",
      "source": [
        "# Run this cell to execute the script.\n",
        "\n",
        "!python3.12 appy_s05_08_08.py -o appy_s05_08_08.png -r 100 appy_s05_08_07.data"
      ],
      "metadata": {
        "id": "UVPjZ8WGcZn3"
      },
      "execution_count": null,
      "outputs": []
    },
    {
      "cell_type": "code",
      "source": [
        "# Run this cell to display image file.\n",
        "\n",
        "# importing IPython.display module\n",
        "import IPython.display\n",
        "\n",
        "# displaying image file\n",
        "IPython.display.Image ('appy_s05_08_08.png')"
      ],
      "metadata": {
        "id": "oHIRthh8cZn4"
      },
      "execution_count": null,
      "outputs": []
    },
    {
      "cell_type": "code",
      "source": [
        "# Run this cell to show the source code of the script.\n",
        "\n",
        "!cat appy_s05_08_09.py"
      ],
      "metadata": {
        "id": "UbUcbikTclP-"
      },
      "execution_count": null,
      "outputs": []
    },
    {
      "cell_type": "code",
      "source": [
        "# Run this cell to execute the script.\n",
        "\n",
        "!python3.12 appy_s05_08_09.py -h"
      ],
      "metadata": {
        "id": "mPKWBabeclQC"
      },
      "execution_count": null,
      "outputs": []
    },
    {
      "cell_type": "code",
      "source": [
        "# Run this cell to execute the script.\n",
        "\n",
        "!python3.12 appy_s05_08_09.py -o appy_s05_08_09.png -r 100 appy_s05_08_07.data"
      ],
      "metadata": {
        "id": "72TvHACUclQD"
      },
      "execution_count": null,
      "outputs": []
    },
    {
      "cell_type": "code",
      "source": [
        "# Run this cell to display image file.\n",
        "\n",
        "# importing IPython.display module\n",
        "import IPython.display\n",
        "\n",
        "# displaying image file\n",
        "IPython.display.Image ('appy_s05_08_09.png')"
      ],
      "metadata": {
        "id": "pfyx7fTIclQE"
      },
      "execution_count": null,
      "outputs": []
    },
    {
      "cell_type": "markdown",
      "source": [
        "## 11.4 Weighted least-squares method using curve_fit ()"
      ],
      "metadata": {
        "id": "QjsdHYhsctvV"
      }
    },
    {
      "cell_type": "code",
      "source": [
        "# Run this cell to show the source code of the script.\n",
        "\n",
        "!cat appy_s05_08_10.py"
      ],
      "metadata": {
        "id": "vYjILH9Fc1uq"
      },
      "execution_count": null,
      "outputs": []
    },
    {
      "cell_type": "code",
      "source": [
        "# Run this cell to execute the script.\n",
        "\n",
        "!python3.12 appy_s05_08_10.py -h"
      ],
      "metadata": {
        "id": "zwSkxm5Sc1us"
      },
      "execution_count": null,
      "outputs": []
    },
    {
      "cell_type": "code",
      "source": [
        "# Run this cell to execute the script.\n",
        "\n",
        "!python3.12 appy_s05_08_10.py -a 2 -b 13 -c 5 -e 5 -n 32 -min 0 -max 31 -o appy_s05_08_10.data"
      ],
      "metadata": {
        "id": "r7houeeKc1ut"
      },
      "execution_count": null,
      "outputs": []
    },
    {
      "cell_type": "code",
      "source": [
        "# Run this cell to show the data.\n",
        "\n",
        "!cat appy_s05_08_10.data"
      ],
      "metadata": {
        "id": "S7BfUGVGcSqA"
      },
      "execution_count": null,
      "outputs": []
    },
    {
      "cell_type": "code",
      "source": [
        "# Run this cell to execute the script.\n",
        "\n",
        "!python3.12 appy_s05_08_04.py -o appy_s05_08_10.png -r 100 appy_s05_08_10.data"
      ],
      "metadata": {
        "id": "rfAtwQSrdLHT"
      },
      "execution_count": null,
      "outputs": []
    },
    {
      "cell_type": "code",
      "source": [
        "# Run this cell to display image file.\n",
        "\n",
        "# importing IPython.display module\n",
        "import IPython.display\n",
        "\n",
        "# displaying image file\n",
        "IPython.display.Image ('appy_s05_08_10.png')"
      ],
      "metadata": {
        "id": "B5xWGFOZdSPx"
      },
      "execution_count": null,
      "outputs": []
    },
    {
      "cell_type": "code",
      "source": [
        "# Run this cell to show the source code of the script.\n",
        "\n",
        "!cat appy_s05_08_11.py"
      ],
      "metadata": {
        "id": "E89Wa7_uddsz"
      },
      "execution_count": null,
      "outputs": []
    },
    {
      "cell_type": "code",
      "source": [
        "# Run this cell to execute the script.\n",
        "\n",
        "!python3.12 appy_s05_08_11.py -h"
      ],
      "metadata": {
        "id": "vvkPKEF4dds2"
      },
      "execution_count": null,
      "outputs": []
    },
    {
      "cell_type": "code",
      "source": [
        "# Run this cell to execute the script.\n",
        "\n",
        "!python3.12 appy_s05_08_11.py -o appy_s05_08_11.png -r 100 appy_s05_08_10.data"
      ],
      "metadata": {
        "id": "5b_v6C6Pdds2"
      },
      "execution_count": null,
      "outputs": []
    },
    {
      "cell_type": "code",
      "source": [
        "# Run this cell to display image file.\n",
        "\n",
        "# importing IPython.display module\n",
        "import IPython.display\n",
        "\n",
        "# displaying image file\n",
        "IPython.display.Image ('appy_s05_08_11.png')"
      ],
      "metadata": {
        "id": "1zncjDyudnIE"
      },
      "execution_count": null,
      "outputs": []
    },
    {
      "cell_type": "code",
      "source": [
        "# Run this cell to show the source code of the script.\n",
        "\n",
        "!cat appy_s05_08_12.py"
      ],
      "metadata": {
        "id": "-kzjD40sdt12"
      },
      "execution_count": null,
      "outputs": []
    },
    {
      "cell_type": "code",
      "source": [
        "# Run this cell to execute the script.\n",
        "\n",
        "!python3.12 appy_s05_08_12.py -h"
      ],
      "metadata": {
        "id": "k6wpCoUKdt16"
      },
      "execution_count": null,
      "outputs": []
    },
    {
      "cell_type": "code",
      "source": [
        "# Run this cell to execute the script.\n",
        "\n",
        "!python3.12 appy_s05_08_12.py -o appy_s05_08_12.png -r 100 appy_s05_08_10.data"
      ],
      "metadata": {
        "id": "UrVEyc_fdt17"
      },
      "execution_count": null,
      "outputs": []
    },
    {
      "cell_type": "code",
      "source": [
        "# Run this cell to display image file.\n",
        "\n",
        "# importing IPython.display module\n",
        "import IPython.display\n",
        "\n",
        "# displaying image file\n",
        "IPython.display.Image ('appy_s05_08_12.png')"
      ],
      "metadata": {
        "id": "lL3Gczu5dt17"
      },
      "execution_count": null,
      "outputs": []
    },
    {
      "cell_type": "markdown",
      "source": [
        "## 11.5 Initial guess of fitting coefficients"
      ],
      "metadata": {
        "id": "MTCRsqegd3RW"
      }
    },
    {
      "cell_type": "code",
      "source": [
        "# Run this cell to show the source code of the script.\n",
        "\n",
        "!cat appy_s05_08_13.py"
      ],
      "metadata": {
        "id": "9ZYr2N7XgHTf"
      },
      "execution_count": null,
      "outputs": []
    },
    {
      "cell_type": "code",
      "source": [
        "# Run this cell to execute the script.\n",
        "\n",
        "!python3.12 appy_s05_08_13.py -h"
      ],
      "metadata": {
        "id": "qmRuX_3xgHTk"
      },
      "execution_count": null,
      "outputs": []
    },
    {
      "cell_type": "code",
      "source": [
        "# Run this cell to execute the script.\n",
        "\n",
        "!rm -f appy_s05_08_13.data\n",
        "!python3.12 appy_s05_08_13.py -a 2 -b 10000 -c 5 -e 5 -n 21 -min 9990 -max 10010 -o appy_s05_08_13.data"
      ],
      "metadata": {
        "id": "fw-TJDEbgHTl"
      },
      "execution_count": null,
      "outputs": []
    },
    {
      "cell_type": "code",
      "source": [
        "# Run this cell to show the data.\n",
        "\n",
        "!cat appy_s05_08_13.data"
      ],
      "metadata": {
        "id": "j4h-XYSBdCdH"
      },
      "execution_count": null,
      "outputs": []
    },
    {
      "cell_type": "code",
      "source": [
        "# Run this cell to execute the script.\n",
        "\n",
        "!rm -f appy_s05_08_13.png\n",
        "!python3.12 appy_s05_08_04.py -o appy_s05_08_13.png -r 100 appy_s05_08_13.data"
      ],
      "metadata": {
        "id": "88im6eTRglbC"
      },
      "execution_count": null,
      "outputs": []
    },
    {
      "cell_type": "code",
      "source": [
        "# Run this cell to display image file.\n",
        "\n",
        "# importing IPython.display module\n",
        "import IPython.display\n",
        "\n",
        "# displaying image file\n",
        "IPython.display.Image ('appy_s05_08_13.png')"
      ],
      "metadata": {
        "id": "AfujRCFagsBH"
      },
      "execution_count": null,
      "outputs": []
    },
    {
      "cell_type": "code",
      "source": [
        "# Run this cell to execute the script.\n",
        "\n",
        "!rm -f appy_s05_08_13b.png\n",
        "!python3.12 appy_s05_08_12.py -o appy_s05_08_13b.png -r 100 appy_s05_08_13.data"
      ],
      "metadata": {
        "id": "LyvO6UUVgzjg"
      },
      "execution_count": null,
      "outputs": []
    },
    {
      "cell_type": "code",
      "source": [
        "# Run this cell to execute the script.\n",
        "\n",
        "!rm -f appy_s05_08_13c.png\n",
        "!python3.12 appy_s05_08_12.py -a 1 -b 11000 -c 1 -o appy_s05_08_13c.png -r 100 appy_s05_08_13.data"
      ],
      "metadata": {
        "id": "Y81oYt4hhQr1"
      },
      "execution_count": null,
      "outputs": []
    },
    {
      "cell_type": "code",
      "source": [
        "# Run this cell to display image file.\n",
        "\n",
        "# importing IPython.display module\n",
        "import IPython.display\n",
        "\n",
        "# displaying image file\n",
        "IPython.display.Image ('appy_s05_08_13c.png')"
      ],
      "metadata": {
        "id": "TzojV_gdhvNP"
      },
      "execution_count": null,
      "outputs": []
    },
    {
      "cell_type": "markdown",
      "source": [
        "## 11.6 Least-squares method for real data"
      ],
      "metadata": {
        "id": "j0mfTsdejstS"
      }
    },
    {
      "cell_type": "code",
      "source": [
        "# Run this cell to show the source code of the script.\n",
        "\n",
        "!cat appy_s05_08_14.py"
      ],
      "metadata": {
        "id": "OeKCbfJpj4Me"
      },
      "execution_count": null,
      "outputs": []
    },
    {
      "cell_type": "code",
      "source": [
        "# Run this cell to execute the script.\n",
        "\n",
        "!python3.12 appy_s05_08_14.py"
      ],
      "metadata": {
        "id": "DatSoEw9j4Mf"
      },
      "execution_count": null,
      "outputs": []
    },
    {
      "cell_type": "code",
      "source": [
        "# Run this cell to find downloaded file.\n",
        "\n",
        "!ls -lF *.data"
      ],
      "metadata": {
        "id": "GWo9a38_gUdF"
      },
      "execution_count": null,
      "outputs": []
    },
    {
      "cell_type": "code",
      "source": [
        "# Run this cell to show data.\n",
        "\n",
        "!cat solsys.data"
      ],
      "metadata": {
        "id": "4Y6etTX3j9pJ"
      },
      "execution_count": null,
      "outputs": []
    },
    {
      "cell_type": "code",
      "source": [
        "# Run this cell to show the source code of the script.\n",
        "\n",
        "!cat appy_s05_08_15.py"
      ],
      "metadata": {
        "id": "cYazB46GkFrg"
      },
      "execution_count": null,
      "outputs": []
    },
    {
      "cell_type": "code",
      "source": [
        "# Run this cell to execute the script.\n",
        "\n",
        "!python3.12 appy_s05_08_15.py"
      ],
      "metadata": {
        "id": "GHEnLidCkFri"
      },
      "execution_count": null,
      "outputs": []
    },
    {
      "cell_type": "code",
      "source": [
        "# Run this cell to display image file.\n",
        "\n",
        "# importing IPython.display module\n",
        "import IPython.display\n",
        "\n",
        "# displaying image file\n",
        "IPython.display.Image ('appy_s05_08_15.png')"
      ],
      "metadata": {
        "id": "czdWv9-LkLer"
      },
      "execution_count": null,
      "outputs": []
    },
    {
      "cell_type": "code",
      "source": [
        "# Run this cell to show the source code of the script.\n",
        "\n",
        "!cat appy_s05_08_16.py"
      ],
      "metadata": {
        "id": "wr-OPswhkYQB"
      },
      "execution_count": null,
      "outputs": []
    },
    {
      "cell_type": "code",
      "source": [
        "# Run this cell to execute the script.\n",
        "\n",
        "!python3.12 appy_s05_08_16.py"
      ],
      "metadata": {
        "id": "p1e6o60MkYQF"
      },
      "execution_count": null,
      "outputs": []
    },
    {
      "cell_type": "code",
      "source": [
        "# Run this cell to display image file.\n",
        "\n",
        "# importing IPython.display module\n",
        "import IPython.display\n",
        "\n",
        "# displaying image file\n",
        "IPython.display.Image ('appy_s05_08_16.png')"
      ],
      "metadata": {
        "id": "ffu91mzHkYQH"
      },
      "execution_count": null,
      "outputs": []
    },
    {
      "cell_type": "markdown",
      "source": [
        "# End of this notebook"
      ],
      "metadata": {
        "id": "qaOjDlfzkjr2"
      }
    },
    {
      "cell_type": "code",
      "source": [],
      "metadata": {
        "id": "w-c09bPXkA-e"
      },
      "execution_count": null,
      "outputs": []
    }
  ]
}