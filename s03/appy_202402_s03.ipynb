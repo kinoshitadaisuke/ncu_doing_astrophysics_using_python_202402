{
  "nbformat": 4,
  "nbformat_minor": 0,
  "metadata": {
    "colab": {
      "provenance": []
    },
    "kernelspec": {
      "name": "python3",
      "display_name": "Python 3"
    },
    "language_info": {
      "name": "python"
    }
  },
  "cells": [
    {
      "cell_type": "markdown",
      "source": [
        "# Doing Astrophysics using Python\n",
        "\n",
        "- \"Doing Astrophysics using Python\"\n",
        "  - Instructor: Kinoshita Daisuke\n",
        "  - Classroom: S4-202\n",
        "  - Time: from 18:00 to 20:50 on Tuesday\n",
        "  - Semester: 2nd semester of academic year 2023\n",
        "    - from February 2024 to June 2024\n",
        "  - Course web page: https://s3b.astro.ncu.edu.tw/appy_202402/\n",
        "  - GitHub repository: https://github.com/kinoshitadaisuke/ncu_doing_astrophysics_using_python_202402\n"
      ],
      "metadata": {
        "id": "gGzI83b9PmnI"
      }
    },
    {
      "cell_type": "markdown",
      "source": [
        "# Session 03: \"Using Numpy for calculations\"\n",
        "\n",
        "## 05 March 2024\n",
        "\n",
        "## Instructor: Kinoshita Daisuke"
      ],
      "metadata": {
        "id": "Q7MvlbrC_tne"
      }
    },
    {
      "cell_type": "markdown",
      "source": [
        "# 0. Installation of Python interpreter"
      ],
      "metadata": {
        "id": "T_y7rto6Q5P8"
      }
    },
    {
      "cell_type": "code",
      "source": [
        "# Run this cell to install Python 3.12\n",
        "\n",
        "!apt update\n",
        "!apt upgrade\n",
        "!apt install python3.12 python3.12-dev python3.12-distutils libpython3.12-dev\n",
        "!update-alternatives --install /usr/bin/python3 python3 /usr/bin/python3.12 1\n",
        "!wget https://bootstrap.pypa.io/get-pip.py\n",
        "!python3.12 get-pip.py"
      ],
      "metadata": {
        "id": "MzmVLkC8QyGZ"
      },
      "execution_count": null,
      "outputs": []
    },
    {
      "cell_type": "code",
      "source": [
        "# Run this cell to check the version of Python interpreter and pip command\n",
        "\n",
        "!python --version\n",
        "!pip --version"
      ],
      "metadata": {
        "id": "Vx-JYTyp3NMU"
      },
      "execution_count": null,
      "outputs": []
    },
    {
      "cell_type": "code",
      "source": [
        "# Run this cell to install external Python modules necessary for this session.\n",
        "\n",
        "!pip install numpy"
      ],
      "metadata": {
        "id": "tuHWEXqxOQV-"
      },
      "execution_count": null,
      "outputs": []
    },
    {
      "cell_type": "markdown",
      "source": [
        "# 1. Downloading a set of sample Python scripts for this course"
      ],
      "metadata": {
        "id": "zvKZRFoF8A8k"
      }
    },
    {
      "cell_type": "code",
      "source": [
        "# Run this cell to download a set of sample Python scripts for this course.\n",
        "\n",
        "!git clone https://github.com/kinoshitadaisuke/ncu_doing_astrophysics_using_python_202402.git"
      ],
      "metadata": {
        "id": "itsUqwak4-z4"
      },
      "execution_count": null,
      "outputs": []
    },
    {
      "cell_type": "code",
      "source": [
        "# Run this cell to move to the directory for this session.\n",
        "\n",
        "%cd ncu_doing_astrophysics_using_python_202402/s03"
      ],
      "metadata": {
        "id": "bREyxIP08RZG"
      },
      "execution_count": null,
      "outputs": []
    },
    {
      "cell_type": "code",
      "source": [
        "# Run this cell to show a list of files for this session.\n",
        "\n",
        "!ls"
      ],
      "metadata": {
        "id": "fKxQ_X-D8dRN"
      },
      "execution_count": null,
      "outputs": []
    },
    {
      "cell_type": "markdown",
      "source": [
        "# 2. About Numpy\n",
        "\n",
        "Visit the official website of Numpy and read the documentation.\n",
        "\n",
        "- https://numpy.org/\n",
        "  - https://numpy.org/doc/stable/\n",
        "    - https://numpy.org/doc/stable/user/absolute_beginners.html\n",
        "    - https://numpy.org/doc/stable/user/index.html#user\n",
        "    - https://numpy.org/doc/stable/reference/index.html#reference"
      ],
      "metadata": {
        "id": "MSgPMUsvQQI6"
      }
    },
    {
      "cell_type": "markdown",
      "source": [
        "# 3. Making and using Numpy arrays"
      ],
      "metadata": {
        "id": "7Bo3dekfN897"
      }
    },
    {
      "cell_type": "markdown",
      "source": [
        "## 3.1 Making a Numpy array using numpy.array ()"
      ],
      "metadata": {
        "id": "58G10CFhOA3F"
      }
    },
    {
      "cell_type": "code",
      "source": [
        "# Run this cell to show the source code of the script.\n",
        "\n",
        "!cat appy_s03_00_00.py"
      ],
      "metadata": {
        "id": "sTq9KT3CN_Iq"
      },
      "execution_count": null,
      "outputs": []
    },
    {
      "cell_type": "code",
      "source": [
        "# Run this cell to execute the script.\n",
        "\n",
        "!python3.12 appy_s03_00_00.py"
      ],
      "metadata": {
        "id": "MxzAcmJEOIjn"
      },
      "execution_count": null,
      "outputs": []
    },
    {
      "cell_type": "code",
      "source": [
        "# Run this cell to show the source code of the script.\n",
        "\n",
        "!cat appy_s03_00_01.py"
      ],
      "metadata": {
        "id": "YF3viVjLOfIh"
      },
      "execution_count": null,
      "outputs": []
    },
    {
      "cell_type": "code",
      "source": [
        "# Run this cell to execute the script.\n",
        "\n",
        "!python3.12 appy_s03_00_01.py"
      ],
      "metadata": {
        "id": "qBus0zAoOfIi"
      },
      "execution_count": null,
      "outputs": []
    },
    {
      "cell_type": "code",
      "source": [
        "# Run this cell to show the source code of the script.\n",
        "\n",
        "!cat appy_s03_00_02.py"
      ],
      "metadata": {
        "id": "9FxaUIEzOlM4"
      },
      "execution_count": null,
      "outputs": []
    },
    {
      "cell_type": "code",
      "source": [
        "# Run this cell to execute the script.\n",
        "\n",
        "!python3.12 appy_s03_00_02.py"
      ],
      "metadata": {
        "id": "ZmS_CrtTOlM5"
      },
      "execution_count": null,
      "outputs": []
    },
    {
      "cell_type": "markdown",
      "source": [
        "## 3.2 Printing information of a Numpy array"
      ],
      "metadata": {
        "id": "TWHicJOcPCJz"
      }
    },
    {
      "cell_type": "code",
      "source": [
        "# Run this cell to show the source code of the script.\n",
        "\n",
        "!cat appy_s03_01_00.py"
      ],
      "metadata": {
        "id": "9ynAWoRmPGqi"
      },
      "execution_count": null,
      "outputs": []
    },
    {
      "cell_type": "code",
      "source": [
        "# Run this cell to execute the script.\n",
        "\n",
        "!python3.12 appy_s03_01_00.py"
      ],
      "metadata": {
        "id": "kuP6YLZWPGqi"
      },
      "execution_count": null,
      "outputs": []
    },
    {
      "cell_type": "code",
      "source": [
        "# Run this cell to show the source code of the script.\n",
        "\n",
        "!cat appy_s03_01_01.py"
      ],
      "metadata": {
        "id": "WavDVFd0PO3I"
      },
      "execution_count": null,
      "outputs": []
    },
    {
      "cell_type": "code",
      "source": [
        "# Run this cell to execute the script.\n",
        "\n",
        "!python3.12 appy_s03_01_01.py"
      ],
      "metadata": {
        "id": "8lGsQsyYPO3I"
      },
      "execution_count": null,
      "outputs": []
    },
    {
      "cell_type": "code",
      "source": [
        "# Run this cell to show the source code of the script.\n",
        "\n",
        "!cat appy_s03_01_02.py"
      ],
      "metadata": {
        "id": "ES55qPaHPYlF"
      },
      "execution_count": null,
      "outputs": []
    },
    {
      "cell_type": "code",
      "source": [
        "# Run this cell to execute the script.\n",
        "\n",
        "!python3.12 appy_s03_01_02.py"
      ],
      "metadata": {
        "id": "TzQ0GaEcPYlG"
      },
      "execution_count": null,
      "outputs": []
    },
    {
      "cell_type": "code",
      "source": [
        "# Run this cell to show the source code of the script.\n",
        "\n",
        "!cat appy_s03_01_03.py"
      ],
      "metadata": {
        "id": "snROfuVlPpYx"
      },
      "execution_count": null,
      "outputs": []
    },
    {
      "cell_type": "code",
      "source": [
        "# Run this cell to execute the script.\n",
        "\n",
        "!python3.12 appy_s03_01_03.py"
      ],
      "metadata": {
        "id": "V3OiC4eZPpYy"
      },
      "execution_count": null,
      "outputs": []
    },
    {
      "cell_type": "markdown",
      "source": [
        "# 4. Making a Numpy array of specified data type"
      ],
      "metadata": {
        "id": "GopM_9PnPwOg"
      }
    },
    {
      "cell_type": "markdown",
      "source": [
        "## 4.1 Making a Numpy array of 8-bit signed integers"
      ],
      "metadata": {
        "id": "AX8F6GkuP8xV"
      }
    },
    {
      "cell_type": "code",
      "source": [
        "# Run this cell to show the source code of the script.\n",
        "\n",
        "!cat appy_s03_02_00.py"
      ],
      "metadata": {
        "id": "a032vnGkQByN"
      },
      "execution_count": null,
      "outputs": []
    },
    {
      "cell_type": "code",
      "source": [
        "# Run this cell to execute the script.\n",
        "\n",
        "!python3.12 appy_s03_02_00.py"
      ],
      "metadata": {
        "id": "IUBGhjt9QByN"
      },
      "execution_count": null,
      "outputs": []
    },
    {
      "cell_type": "code",
      "source": [
        "# Run this cell to show the source code of the script.\n",
        "\n",
        "!cat appy_s03_02_01.py"
      ],
      "metadata": {
        "id": "ti9audb6QGIe"
      },
      "execution_count": null,
      "outputs": []
    },
    {
      "cell_type": "code",
      "source": [
        "# Run this cell to execute the script.\n",
        "\n",
        "!python3.12 appy_s03_02_01.py"
      ],
      "metadata": {
        "id": "EmNdCDhyQGIf"
      },
      "execution_count": null,
      "outputs": []
    },
    {
      "cell_type": "code",
      "source": [
        "# Run this cell to show the source code of the script.\n",
        "\n",
        "!cat appy_s03_02_02.py"
      ],
      "metadata": {
        "id": "BPgcicw0QJix"
      },
      "execution_count": null,
      "outputs": []
    },
    {
      "cell_type": "code",
      "source": [
        "# Run this cell to execute the script.\n",
        "\n",
        "!python3.12 appy_s03_02_02.py"
      ],
      "metadata": {
        "id": "CpeU3U7kQJix"
      },
      "execution_count": null,
      "outputs": []
    },
    {
      "cell_type": "code",
      "source": [
        "# Run this cell to show the source code of the script.\n",
        "\n",
        "!cat appy_s03_02_03.py"
      ],
      "metadata": {
        "id": "ZpYLhtBqQMX2"
      },
      "execution_count": null,
      "outputs": []
    },
    {
      "cell_type": "code",
      "source": [
        "# Run this cell to execute the script.\n",
        "\n",
        "!python3.12 appy_s03_02_03.py"
      ],
      "metadata": {
        "id": "PojI8O3WQMX6"
      },
      "execution_count": null,
      "outputs": []
    },
    {
      "cell_type": "code",
      "source": [
        "# Run this cell to show the source code of the script.\n",
        "\n",
        "!cat appy_s03_02_04.py"
      ],
      "metadata": {
        "id": "9onYy33FRke6"
      },
      "execution_count": null,
      "outputs": []
    },
    {
      "cell_type": "code",
      "source": [
        "# Run this cell to execute the script.\n",
        "\n",
        "!python3.12 appy_s03_02_04.py"
      ],
      "metadata": {
        "id": "V3k71-o7Rke7"
      },
      "execution_count": null,
      "outputs": []
    },
    {
      "cell_type": "markdown",
      "source": [
        "## 4.2 Making a Numpy array of 16-bit unsigned integers"
      ],
      "metadata": {
        "id": "8RJortbsRu6i"
      }
    },
    {
      "cell_type": "code",
      "source": [
        "# Run this cell to show the source code of the script.\n",
        "\n",
        "!cat appy_s03_02_05.py"
      ],
      "metadata": {
        "id": "u1HY0PSlRzQK"
      },
      "execution_count": null,
      "outputs": []
    },
    {
      "cell_type": "code",
      "source": [
        "# Run this cell to execute the script.\n",
        "\n",
        "!python3.12 appy_s03_02_05.py"
      ],
      "metadata": {
        "id": "iHUxiu15RzQL"
      },
      "execution_count": null,
      "outputs": []
    },
    {
      "cell_type": "code",
      "source": [
        "# Run this cell to show the source code of the script.\n",
        "\n",
        "!cat appy_s03_02_06.py"
      ],
      "metadata": {
        "id": "PMQvgjd8R3d3"
      },
      "execution_count": null,
      "outputs": []
    },
    {
      "cell_type": "code",
      "source": [
        "# Run this cell to execute the script.\n",
        "\n",
        "!python3.12 appy_s03_02_06.py"
      ],
      "metadata": {
        "id": "bw6np1tJR3d4"
      },
      "execution_count": null,
      "outputs": []
    },
    {
      "cell_type": "code",
      "source": [
        "# Run this cell to show the source code of the script.\n",
        "\n",
        "!cat appy_s03_02_07.py"
      ],
      "metadata": {
        "id": "vNgRhMv3R62F"
      },
      "execution_count": null,
      "outputs": []
    },
    {
      "cell_type": "code",
      "source": [
        "# Run this cell to execute the script.\n",
        "\n",
        "!python3.12 appy_s03_02_07.py"
      ],
      "metadata": {
        "id": "C94yo9wWR62F"
      },
      "execution_count": null,
      "outputs": []
    },
    {
      "cell_type": "code",
      "source": [
        "# Run this cell to show the source code of the script.\n",
        "\n",
        "!cat appy_s03_02_08.py"
      ],
      "metadata": {
        "id": "2EmncRl8R98-"
      },
      "execution_count": null,
      "outputs": []
    },
    {
      "cell_type": "code",
      "source": [
        "# Run this cell to execute the script.\n",
        "\n",
        "!python3.12 appy_s03_02_08.py"
      ],
      "metadata": {
        "id": "r9zyQiEqR98-"
      },
      "execution_count": null,
      "outputs": []
    },
    {
      "cell_type": "markdown",
      "source": [
        "## 4.3 Making a Numpy array of 32-bit floating point numbers"
      ],
      "metadata": {
        "id": "QeoRLZarSBDX"
      }
    },
    {
      "cell_type": "code",
      "source": [
        "# Run this cell to show the source code of the script.\n",
        "\n",
        "!cat appy_s03_02_09.py"
      ],
      "metadata": {
        "id": "ZNu46oKSSFOn"
      },
      "execution_count": null,
      "outputs": []
    },
    {
      "cell_type": "code",
      "source": [
        "# Run this cell to execute the script.\n",
        "\n",
        "!python3.12 appy_s03_02_09.py"
      ],
      "metadata": {
        "id": "DHVqYYqxSFOn"
      },
      "execution_count": null,
      "outputs": []
    },
    {
      "cell_type": "code",
      "source": [
        "# Run this cell to show the source code of the script.\n",
        "\n",
        "!cat appy_s03_02_10.py"
      ],
      "metadata": {
        "id": "JDUhAu-vSIg4"
      },
      "execution_count": null,
      "outputs": []
    },
    {
      "cell_type": "code",
      "source": [
        "# Run this cell to execute the script.\n",
        "\n",
        "!python3.12 appy_s03_02_10.py"
      ],
      "metadata": {
        "id": "Mva1PWmsSIg4"
      },
      "execution_count": null,
      "outputs": []
    },
    {
      "cell_type": "code",
      "source": [
        "# Run this cell to show the source code of the script.\n",
        "\n",
        "!cat appy_s03_02_11.py"
      ],
      "metadata": {
        "id": "Z0N2jsZZSLza"
      },
      "execution_count": null,
      "outputs": []
    },
    {
      "cell_type": "code",
      "source": [
        "# Run this cell to execute the script.\n",
        "\n",
        "!python3.12 appy_s03_02_11.py"
      ],
      "metadata": {
        "id": "SRqYt0SGSLza"
      },
      "execution_count": null,
      "outputs": []
    },
    {
      "cell_type": "code",
      "source": [
        "# Run this cell to show the source code of the script.\n",
        "\n",
        "!cat appy_s03_02_12.py"
      ],
      "metadata": {
        "id": "qsctBYq5SPoc"
      },
      "execution_count": null,
      "outputs": []
    },
    {
      "cell_type": "code",
      "source": [
        "# Run this cell to execute the script.\n",
        "\n",
        "!python3.12 appy_s03_02_12.py"
      ],
      "metadata": {
        "id": "K_IBbVo0SPod"
      },
      "execution_count": null,
      "outputs": []
    },
    {
      "cell_type": "markdown",
      "source": [
        "## 4.4 Making a Numpy array of complex numbers"
      ],
      "metadata": {
        "id": "V2UHlpVdST4X"
      }
    },
    {
      "cell_type": "code",
      "source": [
        "# Run this cell to show the source code of the script.\n",
        "\n",
        "!cat appy_s03_02_13.py"
      ],
      "metadata": {
        "id": "s1ynxbyOSXtM"
      },
      "execution_count": null,
      "outputs": []
    },
    {
      "cell_type": "code",
      "source": [
        "# Run this cell to execute the script.\n",
        "\n",
        "!python3.12 appy_s03_02_13.py"
      ],
      "metadata": {
        "id": "tF1CD4s0SXtM"
      },
      "execution_count": null,
      "outputs": []
    },
    {
      "cell_type": "code",
      "source": [
        "# Run this cell to show the source code of the script.\n",
        "\n",
        "!cat appy_s03_02_14.py"
      ],
      "metadata": {
        "id": "mELelC40SakU"
      },
      "execution_count": null,
      "outputs": []
    },
    {
      "cell_type": "code",
      "source": [
        "# Run this cell to execute the script.\n",
        "\n",
        "!python3.12 appy_s03_02_14.py"
      ],
      "metadata": {
        "id": "hBwiKK97SakV"
      },
      "execution_count": null,
      "outputs": []
    },
    {
      "cell_type": "code",
      "source": [
        "# Run this cell to show the source code of the script.\n",
        "\n",
        "!cat appy_s03_02_15.py"
      ],
      "metadata": {
        "id": "-zLDA59CSdvX"
      },
      "execution_count": null,
      "outputs": []
    },
    {
      "cell_type": "code",
      "source": [
        "# Run this cell to execute the script.\n",
        "\n",
        "!python3.12 appy_s03_02_15.py"
      ],
      "metadata": {
        "id": "PlyHidq1SdvY"
      },
      "execution_count": null,
      "outputs": []
    },
    {
      "cell_type": "code",
      "source": [
        "# Run this cell to show the source code of the script.\n",
        "\n",
        "!cat appy_s03_02_16.py"
      ],
      "metadata": {
        "id": "kafGb-fGShGW"
      },
      "execution_count": null,
      "outputs": []
    },
    {
      "cell_type": "code",
      "source": [
        "# Run this cell to execute the script.\n",
        "\n",
        "!python3.12 appy_s03_02_16.py"
      ],
      "metadata": {
        "id": "rIM_M5P6ShGW"
      },
      "execution_count": null,
      "outputs": []
    },
    {
      "cell_type": "markdown",
      "source": [
        "## 4.5 Making a Numpy array of Unicode strings"
      ],
      "metadata": {
        "id": "9fti4dGvSkvq"
      }
    },
    {
      "cell_type": "code",
      "source": [
        "# Run this cell to show the source code of the script.\n",
        "\n",
        "!cat appy_s03_02_17.py"
      ],
      "metadata": {
        "id": "OVbN8Bi1Sodu"
      },
      "execution_count": null,
      "outputs": []
    },
    {
      "cell_type": "code",
      "source": [
        "# Run this cell to execute the script.\n",
        "\n",
        "!python3.12 appy_s03_02_17.py"
      ],
      "metadata": {
        "id": "ABDMq97dSodv"
      },
      "execution_count": null,
      "outputs": []
    },
    {
      "cell_type": "code",
      "source": [
        "# Run this cell to show the source code of the script.\n",
        "\n",
        "!cat appy_s03_02_18.py"
      ],
      "metadata": {
        "id": "IGfnA6Q4Srad"
      },
      "execution_count": null,
      "outputs": []
    },
    {
      "cell_type": "code",
      "source": [
        "# Run this cell to execute the script.\n",
        "\n",
        "!python3.12 appy_s03_02_18.py"
      ],
      "metadata": {
        "id": "aRa-FLN6Srae"
      },
      "execution_count": null,
      "outputs": []
    },
    {
      "cell_type": "markdown",
      "source": [
        "# 5. Making Numpy arrays using convenient functions"
      ],
      "metadata": {
        "id": "TpS8IF6VSvyB"
      }
    },
    {
      "cell_type": "markdown",
      "source": [
        "## 5.1 Making a Numpy array using \"numpy.zeros ()\""
      ],
      "metadata": {
        "id": "pYqwkcDUSzJX"
      }
    },
    {
      "cell_type": "code",
      "source": [
        "# Run this cell to show the source code of the script.\n",
        "\n",
        "!cat appy_s03_03_00.py"
      ],
      "metadata": {
        "id": "fv171bh5TVs4"
      },
      "execution_count": null,
      "outputs": []
    },
    {
      "cell_type": "code",
      "source": [
        "# Run this cell to execute the script.\n",
        "\n",
        "!python3.12 appy_s03_03_00.py"
      ],
      "metadata": {
        "id": "WmMM5PjHTVs5"
      },
      "execution_count": null,
      "outputs": []
    },
    {
      "cell_type": "code",
      "source": [
        "# Run this cell to show the source code of the script.\n",
        "\n",
        "!cat appy_s03_03_01.py"
      ],
      "metadata": {
        "id": "re_mNmnnTafe"
      },
      "execution_count": null,
      "outputs": []
    },
    {
      "cell_type": "code",
      "source": [
        "# Run this cell to execute the script.\n",
        "\n",
        "!python3.12 appy_s03_03_01.py"
      ],
      "metadata": {
        "id": "VsHKAFYOTaff"
      },
      "execution_count": null,
      "outputs": []
    },
    {
      "cell_type": "code",
      "source": [
        "# Run this cell to show the source code of the script.\n",
        "\n",
        "!cat appy_s03_03_02.py"
      ],
      "metadata": {
        "id": "Ygc9kjioTehD"
      },
      "execution_count": null,
      "outputs": []
    },
    {
      "cell_type": "code",
      "source": [
        "# Run this cell to execute the script.\n",
        "\n",
        "!python3.12 appy_s03_03_02.py"
      ],
      "metadata": {
        "id": "t0sDiKBhTehE"
      },
      "execution_count": null,
      "outputs": []
    },
    {
      "cell_type": "markdown",
      "source": [
        "## 5.2 Making a Numpy array using \"numpy.ones ()\""
      ],
      "metadata": {
        "id": "MSZsu-cSTize"
      }
    },
    {
      "cell_type": "code",
      "source": [
        "# Run this cell to show the source code of the script.\n",
        "\n",
        "!cat appy_s03_03_03.py"
      ],
      "metadata": {
        "id": "aa5FmDPmTqZV"
      },
      "execution_count": null,
      "outputs": []
    },
    {
      "cell_type": "code",
      "source": [
        "# Run this cell to execute the script.\n",
        "\n",
        "!python3.12 appy_s03_03_03.py"
      ],
      "metadata": {
        "id": "FkkVOCAqTqZV"
      },
      "execution_count": null,
      "outputs": []
    },
    {
      "cell_type": "markdown",
      "source": [
        "## 5.3 Making a Numpy array using \"numpy.arange ()\""
      ],
      "metadata": {
        "id": "zT81g6iRTu-T"
      }
    },
    {
      "cell_type": "code",
      "source": [
        "# Run this cell to show the source code of the script.\n",
        "\n",
        "!cat appy_s03_03_04.py"
      ],
      "metadata": {
        "id": "fTDW49-LTz74"
      },
      "execution_count": null,
      "outputs": []
    },
    {
      "cell_type": "code",
      "source": [
        "# Run this cell to execute the script.\n",
        "\n",
        "!python3.12 appy_s03_03_04.py"
      ],
      "metadata": {
        "id": "_cbu_Q3JTz75"
      },
      "execution_count": null,
      "outputs": []
    },
    {
      "cell_type": "markdown",
      "source": [
        "## 5.4 Making a Numpy array using \"numpy.linspace ()\""
      ],
      "metadata": {
        "id": "3IG09U8VT3-Z"
      }
    },
    {
      "cell_type": "code",
      "source": [
        "# Run this cell to show the source code of the script.\n",
        "\n",
        "!cat appy_s03_03_05.py"
      ],
      "metadata": {
        "id": "VsG_zFkbT9L1"
      },
      "execution_count": null,
      "outputs": []
    },
    {
      "cell_type": "code",
      "source": [
        "# Run this cell to execute the script.\n",
        "\n",
        "!python3.12 appy_s03_03_05.py"
      ],
      "metadata": {
        "id": "TXUTHcPMT9L1"
      },
      "execution_count": null,
      "outputs": []
    },
    {
      "cell_type": "markdown",
      "source": [
        "## 5.5 Making a Numpy array using \"numpy.logspace ()\""
      ],
      "metadata": {
        "id": "hOrn_MbqUByg"
      }
    },
    {
      "cell_type": "code",
      "source": [
        "# Run this cell to show the source code of the script.\n",
        "\n",
        "!cat appy_s03_03_06.py"
      ],
      "metadata": {
        "id": "cdMO_6WnUByg"
      },
      "execution_count": null,
      "outputs": []
    },
    {
      "cell_type": "code",
      "source": [
        "# Run this cell to execute the script.\n",
        "\n",
        "!python3.12 appy_s03_03_06.py"
      ],
      "metadata": {
        "id": "bBWW_NKmUByg"
      },
      "execution_count": null,
      "outputs": []
    },
    {
      "cell_type": "markdown",
      "source": [
        "# 6. Manipulations of Numpy arrays"
      ],
      "metadata": {
        "id": "_eYIJrsyUIbd"
      }
    },
    {
      "cell_type": "markdown",
      "source": [
        "## 6.1 Appending an element to an existing Numpy array"
      ],
      "metadata": {
        "id": "voGMB4OpUL5f"
      }
    },
    {
      "cell_type": "code",
      "source": [
        "# Run this cell to show the source code of the script.\n",
        "\n",
        "!cat appy_s03_04_00.py"
      ],
      "metadata": {
        "id": "FHviRxSyUQoI"
      },
      "execution_count": null,
      "outputs": []
    },
    {
      "cell_type": "code",
      "source": [
        "# Run this cell to execute the script.\n",
        "\n",
        "!python3.12 appy_s03_04_00.py"
      ],
      "metadata": {
        "id": "HeFfLmQaUQoI"
      },
      "execution_count": null,
      "outputs": []
    },
    {
      "cell_type": "markdown",
      "source": [
        "# 6.2 Concatenating multiple numpy arrays"
      ],
      "metadata": {
        "id": "0JGeBW9hUXBd"
      }
    },
    {
      "cell_type": "code",
      "source": [
        "# Run this cell to show the source code of the script.\n",
        "\n",
        "!cat appy_s03_04_01.py"
      ],
      "metadata": {
        "id": "ZtGZgJDRVCbY"
      },
      "execution_count": null,
      "outputs": []
    },
    {
      "cell_type": "code",
      "source": [
        "# Run this cell to execute the script.\n",
        "\n",
        "!python3.12 appy_s03_04_01.py"
      ],
      "metadata": {
        "id": "XEBJP1dfVCbZ"
      },
      "execution_count": null,
      "outputs": []
    },
    {
      "cell_type": "markdown",
      "source": [
        "# 7. Operations of Numpy arrays"
      ],
      "metadata": {
        "id": "LZVu85x0VMES"
      }
    },
    {
      "cell_type": "markdown",
      "source": [
        "## 7.1 Adding two Numpy arrays"
      ],
      "metadata": {
        "id": "rqqkHnGPVPC9"
      }
    },
    {
      "cell_type": "code",
      "source": [
        "# Run this cell to show the source code of the script.\n",
        "\n",
        "!cat appy_s03_05_00.py"
      ],
      "metadata": {
        "id": "VtivuB-cVTgo"
      },
      "execution_count": null,
      "outputs": []
    },
    {
      "cell_type": "code",
      "source": [
        "# Run this cell to execute the script.\n",
        "\n",
        "!python3.12 appy_s03_05_00.py"
      ],
      "metadata": {
        "id": "KfVKPv7VVTgp"
      },
      "execution_count": null,
      "outputs": []
    },
    {
      "cell_type": "markdown",
      "source": [
        "## 7.2 Subtracting one Numpy array from the other"
      ],
      "metadata": {
        "id": "3Nn8CnhgVYtn"
      }
    },
    {
      "cell_type": "code",
      "source": [
        "# Run this cell to show the source code of the script.\n",
        "\n",
        "!cat appy_s03_05_01.py"
      ],
      "metadata": {
        "id": "upteBm6iVYtn"
      },
      "execution_count": null,
      "outputs": []
    },
    {
      "cell_type": "code",
      "source": [
        "# Run this cell to execute the script.\n",
        "\n",
        "!python3.12 appy_s03_05_01.py"
      ],
      "metadata": {
        "id": "fBh9JvPhVYto"
      },
      "execution_count": null,
      "outputs": []
    },
    {
      "cell_type": "markdown",
      "source": [
        "## 7.3 Multiplication of two Numpy arrays"
      ],
      "metadata": {
        "id": "cs8jkphsVgzz"
      }
    },
    {
      "cell_type": "code",
      "source": [
        "# Run this cell to show the source code of the script.\n",
        "\n",
        "!cat appy_s03_05_02.py"
      ],
      "metadata": {
        "id": "9rv4FimFVgzz"
      },
      "execution_count": null,
      "outputs": []
    },
    {
      "cell_type": "code",
      "source": [
        "# Run this cell to execute the script.\n",
        "\n",
        "!python3.12 appy_s03_05_02.py"
      ],
      "metadata": {
        "id": "bJpXaQe1Vgz0"
      },
      "execution_count": null,
      "outputs": []
    },
    {
      "cell_type": "markdown",
      "source": [
        "## 7.4 Division of one Numpy array by the other"
      ],
      "metadata": {
        "id": "7Sw8ysNxVooM"
      }
    },
    {
      "cell_type": "code",
      "source": [
        "# Run this cell to show the source code of the script.\n",
        "\n",
        "!cat appy_s03_05_03.py"
      ],
      "metadata": {
        "id": "tVn8G481VooN"
      },
      "execution_count": null,
      "outputs": []
    },
    {
      "cell_type": "code",
      "source": [
        "# Run this cell to execute the script.\n",
        "\n",
        "!python3.12 appy_s03_05_03.py"
      ],
      "metadata": {
        "id": "LWwM7-kkVooO"
      },
      "execution_count": null,
      "outputs": []
    },
    {
      "cell_type": "markdown",
      "source": [
        "## 7.5 Square of a Numpy array"
      ],
      "metadata": {
        "id": "pcsFcwmtVu4M"
      }
    },
    {
      "cell_type": "code",
      "source": [
        "# Run this cell to show the source code of the script.\n",
        "\n",
        "!cat appy_s03_05_04.py"
      ],
      "metadata": {
        "id": "hOzm2EKuVu4M"
      },
      "execution_count": null,
      "outputs": []
    },
    {
      "cell_type": "code",
      "source": [
        "# Run this cell to execute the script.\n",
        "\n",
        "!python3.12 appy_s03_05_04.py"
      ],
      "metadata": {
        "id": "XimGMA8YVu4N"
      },
      "execution_count": null,
      "outputs": []
    },
    {
      "cell_type": "markdown",
      "source": [
        "## 7.6 Square-root of a Numpy array"
      ],
      "metadata": {
        "id": "W8jDgjiaV0an"
      }
    },
    {
      "cell_type": "code",
      "source": [
        "# Run this cell to show the source code of the script.\n",
        "\n",
        "!cat appy_s03_05_05.py"
      ],
      "metadata": {
        "id": "n9UOwVzYV0an"
      },
      "execution_count": null,
      "outputs": []
    },
    {
      "cell_type": "code",
      "source": [
        "# Run this cell to execute the script.\n",
        "\n",
        "!python3.12 appy_s03_05_05.py"
      ],
      "metadata": {
        "id": "YP-Kh87UV0ap"
      },
      "execution_count": null,
      "outputs": []
    },
    {
      "cell_type": "markdown",
      "source": [
        "## 7.7 Logarithmic calculation"
      ],
      "metadata": {
        "id": "NDkBLFueV6Tl"
      }
    },
    {
      "cell_type": "code",
      "source": [
        "# Run this cell to show the source code of the script.\n",
        "\n",
        "!cat appy_s03_05_06.py"
      ],
      "metadata": {
        "id": "K_ksFU69V6Tl"
      },
      "execution_count": null,
      "outputs": []
    },
    {
      "cell_type": "code",
      "source": [
        "# Run this cell to execute the script.\n",
        "\n",
        "!python3.12 appy_s03_05_06.py"
      ],
      "metadata": {
        "id": "r2_EAu4UV6Tl"
      },
      "execution_count": null,
      "outputs": []
    },
    {
      "cell_type": "markdown",
      "source": [
        "## 7.8 Trigonometric functions"
      ],
      "metadata": {
        "id": "UJxGlPm1WAuh"
      }
    },
    {
      "cell_type": "code",
      "source": [
        "# Run this cell to show the source code of the script.\n",
        "\n",
        "!cat appy_s03_05_07.py"
      ],
      "metadata": {
        "id": "OYfw9T59WAuh"
      },
      "execution_count": null,
      "outputs": []
    },
    {
      "cell_type": "code",
      "source": [
        "# Run this cell to execute the script.\n",
        "\n",
        "!python3.12 appy_s03_05_07.py"
      ],
      "metadata": {
        "id": "PV1Jt2DbWAui"
      },
      "execution_count": null,
      "outputs": []
    },
    {
      "cell_type": "markdown",
      "source": [
        "## 7.9 Operations of 2-dimensional Numpy arrays"
      ],
      "metadata": {
        "id": "b_O-dRWCWH3t"
      }
    },
    {
      "cell_type": "code",
      "source": [
        "# Run this cell to show the source code of the script.\n",
        "\n",
        "!cat appy_s03_05_08.py"
      ],
      "metadata": {
        "id": "sg2MgKUiWH3t"
      },
      "execution_count": null,
      "outputs": []
    },
    {
      "cell_type": "code",
      "source": [
        "# Run this cell to execute the script.\n",
        "\n",
        "!python3.12 appy_s03_05_08.py"
      ],
      "metadata": {
        "id": "PUcmnhkeWH3u"
      },
      "execution_count": null,
      "outputs": []
    },
    {
      "cell_type": "markdown",
      "source": [
        "## 7.10 Vector calculations"
      ],
      "metadata": {
        "id": "-G6FuWaCWOZa"
      }
    },
    {
      "cell_type": "code",
      "source": [
        "# Run this cell to show the source code of the script.\n",
        "\n",
        "!cat appy_s03_05_09.py"
      ],
      "metadata": {
        "id": "nQoO0U5cWOZb"
      },
      "execution_count": null,
      "outputs": []
    },
    {
      "cell_type": "code",
      "source": [
        "# Run this cell to execute the script.\n",
        "\n",
        "!python3.12 appy_s03_05_09.py"
      ],
      "metadata": {
        "id": "nP7FWHiEWOZb"
      },
      "execution_count": null,
      "outputs": []
    },
    {
      "cell_type": "code",
      "source": [
        "# Run this cell to show the source code of the script.\n",
        "\n",
        "!cat appy_s03_05_10.py"
      ],
      "metadata": {
        "id": "Je5o2YTvWWTj"
      },
      "execution_count": null,
      "outputs": []
    },
    {
      "cell_type": "code",
      "source": [
        "# Run this cell to execute the script.\n",
        "\n",
        "!python3.12 appy_s03_05_10.py"
      ],
      "metadata": {
        "id": "r9Nrh8m-WWTj"
      },
      "execution_count": null,
      "outputs": []
    },
    {
      "cell_type": "markdown",
      "source": [
        "## 7.11 Matrix calculations"
      ],
      "metadata": {
        "id": "RklMG371WbjM"
      }
    },
    {
      "cell_type": "code",
      "source": [
        "# Run this cell to show the source code of the script.\n",
        "\n",
        "!cat appy_s03_05_11.py"
      ],
      "metadata": {
        "id": "RQawgq2fWbjM"
      },
      "execution_count": null,
      "outputs": []
    },
    {
      "cell_type": "code",
      "source": [
        "# Run this cell to execute the script.\n",
        "\n",
        "!python3.12 appy_s03_05_11.py"
      ],
      "metadata": {
        "id": "b1Xh_Tr8WbjN"
      },
      "execution_count": null,
      "outputs": []
    },
    {
      "cell_type": "code",
      "source": [
        "# Run this cell to show the source code of the script.\n",
        "\n",
        "!cat appy_s03_05_12.py"
      ],
      "metadata": {
        "id": "n-0aHonPWjDF"
      },
      "execution_count": null,
      "outputs": []
    },
    {
      "cell_type": "code",
      "source": [
        "# Run this cell to execute the script.\n",
        "\n",
        "!python3.12 appy_s03_05_12.py"
      ],
      "metadata": {
        "id": "A_07k38IWjDF"
      },
      "execution_count": null,
      "outputs": []
    },
    {
      "cell_type": "code",
      "source": [
        "# Run this cell to show the source code of the script.\n",
        "\n",
        "!cat appy_s03_05_13.py"
      ],
      "metadata": {
        "id": "hmonvohqWnaD"
      },
      "execution_count": null,
      "outputs": []
    },
    {
      "cell_type": "code",
      "source": [
        "# Run this cell to execute the script.\n",
        "\n",
        "!python3.12 appy_s03_05_13.py"
      ],
      "metadata": {
        "id": "I6a2syvFWnaE"
      },
      "execution_count": null,
      "outputs": []
    },
    {
      "cell_type": "code",
      "source": [
        "# Run this cell to show the source code of the script.\n",
        "\n",
        "!cat appy_s03_05_14.py"
      ],
      "metadata": {
        "id": "fzTM1lIVWsIp"
      },
      "execution_count": null,
      "outputs": []
    },
    {
      "cell_type": "code",
      "source": [
        "# Run this cell to execute the script.\n",
        "\n",
        "!python3.12 appy_s03_05_14.py"
      ],
      "metadata": {
        "id": "DlvxJ1ocWsIp"
      },
      "execution_count": null,
      "outputs": []
    },
    {
      "cell_type": "code",
      "source": [
        "# Run this cell to show the source code of the script.\n",
        "\n",
        "!cat appy_s03_05_15.py"
      ],
      "metadata": {
        "id": "9mWzuO7sW6DR"
      },
      "execution_count": null,
      "outputs": []
    },
    {
      "cell_type": "code",
      "source": [
        "# Run this cell to execute the script.\n",
        "\n",
        "!python3.12 appy_s03_05_15.py"
      ],
      "metadata": {
        "id": "zBl23z5_W6DS"
      },
      "execution_count": null,
      "outputs": []
    },
    {
      "cell_type": "code",
      "source": [
        "# Run this cell to show the source code of the script.\n",
        "\n",
        "!cat appy_s03_05_16.py"
      ],
      "metadata": {
        "id": "toYVmKX2W_x0"
      },
      "execution_count": null,
      "outputs": []
    },
    {
      "cell_type": "code",
      "source": [
        "# Run this cell to execute the script.\n",
        "\n",
        "!python3.12 appy_s03_05_16.py"
      ],
      "metadata": {
        "id": "7dAs8a6pW_x1"
      },
      "execution_count": null,
      "outputs": []
    },
    {
      "cell_type": "markdown",
      "source": [
        "# 8. Accessing to elements of a Numpy array by indexing and slicing"
      ],
      "metadata": {
        "id": "Twd9vpgnXKF5"
      }
    },
    {
      "cell_type": "markdown",
      "source": [
        "## 8.1 Accessing to elements of a Numpy array by indexing"
      ],
      "metadata": {
        "id": "wcR5yEb7XO3h"
      }
    },
    {
      "cell_type": "code",
      "source": [
        "# Run this cell to show the source code of the script.\n",
        "\n",
        "!cat appy_s03_06_00.py"
      ],
      "metadata": {
        "id": "0q4_18DdXTLZ"
      },
      "execution_count": null,
      "outputs": []
    },
    {
      "cell_type": "code",
      "source": [
        "# Run this cell to execute the script.\n",
        "\n",
        "!python3.12 appy_s03_06_00.py"
      ],
      "metadata": {
        "id": "fMoqQUGzXTLa"
      },
      "execution_count": null,
      "outputs": []
    },
    {
      "cell_type": "code",
      "source": [
        "# Run this cell to show the source code of the script.\n",
        "\n",
        "!cat appy_s03_06_01.py"
      ],
      "metadata": {
        "id": "OcOa9vb5XX5l"
      },
      "execution_count": null,
      "outputs": []
    },
    {
      "cell_type": "code",
      "source": [
        "# Run this cell to execute the script.\n",
        "\n",
        "!python3.12 appy_s03_06_01.py"
      ],
      "metadata": {
        "id": "ddH3x3kHXX5m"
      },
      "execution_count": null,
      "outputs": []
    },
    {
      "cell_type": "markdown",
      "source": [
        "## 8.2 Accessing to elements of a Numpy array by slicing"
      ],
      "metadata": {
        "id": "VZ7kMopEXm08"
      }
    },
    {
      "cell_type": "code",
      "source": [
        "# Run this cell to show the source code of the script.\n",
        "\n",
        "!cat appy_s03_06_02.py"
      ],
      "metadata": {
        "id": "cvqJeJHGXrdq"
      },
      "execution_count": null,
      "outputs": []
    },
    {
      "cell_type": "code",
      "source": [
        "# Run this cell to execute the script.\n",
        "\n",
        "!python3.12 appy_s03_06_02.py"
      ],
      "metadata": {
        "id": "Ph8dnvpTXrdr"
      },
      "execution_count": null,
      "outputs": []
    },
    {
      "cell_type": "code",
      "source": [
        "# Run this cell to show the source code of the script.\n",
        "\n",
        "!cat appy_s03_06_03.py"
      ],
      "metadata": {
        "id": "O-5Y7OPbXusV"
      },
      "execution_count": null,
      "outputs": []
    },
    {
      "cell_type": "code",
      "source": [
        "# Run this cell to execute the script.\n",
        "\n",
        "!python3.12 appy_s03_06_03.py"
      ],
      "metadata": {
        "id": "z_geK5hAXusW"
      },
      "execution_count": null,
      "outputs": []
    },
    {
      "cell_type": "markdown",
      "source": [
        "# 9. Copying a Numpy array"
      ],
      "metadata": {
        "id": "K-a2BEnEXx8E"
      }
    },
    {
      "cell_type": "code",
      "source": [
        "# Run this cell to show the source code of the script.\n",
        "\n",
        "!cat appy_s03_07_00.py"
      ],
      "metadata": {
        "id": "8qKejiJGX1OV"
      },
      "execution_count": null,
      "outputs": []
    },
    {
      "cell_type": "code",
      "source": [
        "# Run this cell to execute the script.\n",
        "\n",
        "!python3.12 appy_s03_07_00.py"
      ],
      "metadata": {
        "id": "Jffn5nsuX1OV"
      },
      "execution_count": null,
      "outputs": []
    },
    {
      "cell_type": "code",
      "source": [
        "# Run this cell to show the source code of the script.\n",
        "\n",
        "!cat appy_s03_07_01.py"
      ],
      "metadata": {
        "id": "A86_jmthX5SU"
      },
      "execution_count": null,
      "outputs": []
    },
    {
      "cell_type": "code",
      "source": [
        "# Run this cell to execute the script.\n",
        "\n",
        "!python3.12 appy_s03_07_01.py"
      ],
      "metadata": {
        "id": "XiiR8i2jX5SV"
      },
      "execution_count": null,
      "outputs": []
    },
    {
      "cell_type": "code",
      "source": [
        "# Run this cell to show the source code of the script.\n",
        "\n",
        "!cat appy_s03_07_02.py"
      ],
      "metadata": {
        "id": "jbelKsDiYAqD"
      },
      "execution_count": null,
      "outputs": []
    },
    {
      "cell_type": "code",
      "source": [
        "# Run this cell to execute the script.\n",
        "\n",
        "!python3.12 appy_s03_07_02.py"
      ],
      "metadata": {
        "id": "KIkuZPzKYAqD"
      },
      "execution_count": null,
      "outputs": []
    },
    {
      "cell_type": "markdown",
      "source": [
        "# 10. Sorting a Numpy array"
      ],
      "metadata": {
        "id": "kVNS9p7cYzAS"
      }
    },
    {
      "cell_type": "markdown",
      "source": [
        "## 10.1 Sorting using function \"numpy.sort ()\""
      ],
      "metadata": {
        "id": "6uDnMDGhZTOm"
      }
    },
    {
      "cell_type": "code",
      "source": [
        "# Run this cell to show the source code of the script.\n",
        "\n",
        "!cat appy_s03_08_00.py"
      ],
      "metadata": {
        "id": "UwGqsFSsZYW6"
      },
      "execution_count": null,
      "outputs": []
    },
    {
      "cell_type": "code",
      "source": [
        "# Run this cell to execute the script.\n",
        "\n",
        "!python3.12 appy_s03_08_00.py"
      ],
      "metadata": {
        "id": "C3Qeq9JpZYW7"
      },
      "execution_count": null,
      "outputs": []
    },
    {
      "cell_type": "code",
      "source": [
        "# Run this cell to show the source code of the script.\n",
        "\n",
        "!cat appy_s03_08_01.py"
      ],
      "metadata": {
        "id": "5RjAGwOdZdMr"
      },
      "execution_count": null,
      "outputs": []
    },
    {
      "cell_type": "code",
      "source": [
        "# Run this cell to execute the script.\n",
        "\n",
        "!python3.12 appy_s03_08_01.py"
      ],
      "metadata": {
        "id": "_5AP2jp6ZdMr"
      },
      "execution_count": null,
      "outputs": []
    },
    {
      "cell_type": "code",
      "source": [
        "# Run this cell to show the source code of the script.\n",
        "\n",
        "!cat appy_s03_08_02.py"
      ],
      "metadata": {
        "id": "l0zTECsoZgTm"
      },
      "execution_count": null,
      "outputs": []
    },
    {
      "cell_type": "code",
      "source": [
        "# Run this cell to execute the script.\n",
        "\n",
        "!python3.12 appy_s03_08_02.py"
      ],
      "metadata": {
        "id": "wWnuzzMWZgTn"
      },
      "execution_count": null,
      "outputs": []
    },
    {
      "cell_type": "code",
      "source": [
        "# Run this cell to show the source code of the script.\n",
        "\n",
        "!cat appy_s03_08_03.py"
      ],
      "metadata": {
        "id": "Xs9R11SCZk6a"
      },
      "execution_count": null,
      "outputs": []
    },
    {
      "cell_type": "code",
      "source": [
        "# Run this cell to execute the script.\n",
        "\n",
        "!python3.12 appy_s03_08_03.py"
      ],
      "metadata": {
        "id": "JYAZRFp7Zk6b"
      },
      "execution_count": null,
      "outputs": []
    },
    {
      "cell_type": "markdown",
      "source": [
        "## 10.2 In-place sorting using \".sort ()\" method"
      ],
      "metadata": {
        "id": "bFtAPjRdZoHv"
      }
    },
    {
      "cell_type": "code",
      "source": [
        "# Run this cell to show the source code of the script.\n",
        "\n",
        "!cat appy_s03_08_04.py"
      ],
      "metadata": {
        "id": "oGGkSWdaZs1n"
      },
      "execution_count": null,
      "outputs": []
    },
    {
      "cell_type": "code",
      "source": [
        "# Run this cell to execute the script.\n",
        "\n",
        "!python3.12 appy_s03_08_04.py"
      ],
      "metadata": {
        "id": "DZW-DfVVZs1o"
      },
      "execution_count": null,
      "outputs": []
    },
    {
      "cell_type": "code",
      "source": [
        "# Run this cell to show the source code of the script.\n",
        "\n",
        "!cat appy_s03_08_05.py"
      ],
      "metadata": {
        "id": "rrBnU4M4Zwsd"
      },
      "execution_count": null,
      "outputs": []
    },
    {
      "cell_type": "code",
      "source": [
        "# Run this cell to execute the script.\n",
        "\n",
        "!python3.12 appy_s03_08_05.py"
      ],
      "metadata": {
        "id": "tSqSdRVbZwse"
      },
      "execution_count": null,
      "outputs": []
    },
    {
      "cell_type": "code",
      "source": [
        "# Run this cell to show the source code of the script.\n",
        "\n",
        "!cat appy_s03_08_06.py"
      ],
      "metadata": {
        "id": "RD0kquGLZzvZ"
      },
      "execution_count": null,
      "outputs": []
    },
    {
      "cell_type": "code",
      "source": [
        "# Run this cell to execute the script.\n",
        "\n",
        "!python3.12 appy_s03_08_06.py"
      ],
      "metadata": {
        "id": "u0RHSWp3Zzva"
      },
      "execution_count": null,
      "outputs": []
    },
    {
      "cell_type": "markdown",
      "source": [
        "# 11. Random numbers"
      ],
      "metadata": {
        "id": "WwlfrMKsZ5SD"
      }
    },
    {
      "cell_type": "markdown",
      "source": [
        "## 11.1 Generating one random number of uniform distribution between 0 and 1"
      ],
      "metadata": {
        "id": "3bdZBu1iZ7sL"
      }
    },
    {
      "cell_type": "code",
      "source": [
        "# Run this cell to show the source code of the script.\n",
        "\n",
        "!cat appy_s03_09_00.py"
      ],
      "metadata": {
        "id": "kPiCp_bRaApa"
      },
      "execution_count": null,
      "outputs": []
    },
    {
      "cell_type": "code",
      "source": [
        "# Run this cell to execute the script.\n",
        "\n",
        "!python3.12 appy_s03_09_00.py"
      ],
      "metadata": {
        "id": "1RmqrSNpaApb"
      },
      "execution_count": null,
      "outputs": []
    },
    {
      "cell_type": "code",
      "source": [
        "# Run this cell to show the source code of the script.\n",
        "\n",
        "!cat appy_s03_09_01.py"
      ],
      "metadata": {
        "id": "1hqx9qDEaFyF"
      },
      "execution_count": null,
      "outputs": []
    },
    {
      "cell_type": "code",
      "source": [
        "# Run this cell to execute the script.\n",
        "\n",
        "!python3.12 appy_s03_09_01.py"
      ],
      "metadata": {
        "id": "8RFPgS13aFyF"
      },
      "execution_count": null,
      "outputs": []
    },
    {
      "cell_type": "code",
      "source": [
        "# Run this cell to show the source code of the script.\n",
        "\n",
        "!cat appy_s03_09_02.py"
      ],
      "metadata": {
        "id": "I91sgSVbaIbl"
      },
      "execution_count": null,
      "outputs": []
    },
    {
      "cell_type": "code",
      "source": [
        "# Run this cell to execute the script.\n",
        "\n",
        "!python3.12 appy_s03_09_02.py"
      ],
      "metadata": {
        "id": "QohmukZgaIbn"
      },
      "execution_count": null,
      "outputs": []
    },
    {
      "cell_type": "markdown",
      "source": [
        "## 11.2 Generating 10 random numbers of uniform distribution between 0 and 1"
      ],
      "metadata": {
        "id": "wrDOlWM9aRXb"
      }
    },
    {
      "cell_type": "code",
      "source": [
        "# Run this cell to show the source code of the script.\n",
        "\n",
        "!cat appy_s03_09_03.py"
      ],
      "metadata": {
        "id": "yJY1GrflaWWs"
      },
      "execution_count": null,
      "outputs": []
    },
    {
      "cell_type": "code",
      "source": [
        "# Run this cell to execute the script.\n",
        "\n",
        "!python3.12 appy_s03_09_03.py"
      ],
      "metadata": {
        "id": "H9g-cJliaWWt"
      },
      "execution_count": null,
      "outputs": []
    },
    {
      "cell_type": "markdown",
      "source": [
        "## 11.3 Generating 30 random numbers of uniform distribution between 100 and 200"
      ],
      "metadata": {
        "id": "9YtDBLKBaauD"
      }
    },
    {
      "cell_type": "code",
      "source": [
        "# Run this cell to show the source code of the script.\n",
        "\n",
        "!cat appy_s03_09_04.py"
      ],
      "metadata": {
        "id": "yZx7mgn1aauD"
      },
      "execution_count": null,
      "outputs": []
    },
    {
      "cell_type": "code",
      "source": [
        "# Run this cell to execute the script.\n",
        "\n",
        "!python3.12 appy_s03_09_04.py"
      ],
      "metadata": {
        "id": "bFUDwnQOaauE"
      },
      "execution_count": null,
      "outputs": []
    },
    {
      "cell_type": "markdown",
      "source": [
        "## 11.4 Generating 100 random numbers of Gaussian distribution of mean 100 and standard deviation 10"
      ],
      "metadata": {
        "id": "bYhe6M21aoWx"
      }
    },
    {
      "cell_type": "code",
      "source": [
        "# Run this cell to show the source code of the script.\n",
        "\n",
        "!cat appy_s03_09_05.py"
      ],
      "metadata": {
        "id": "b9I8C-iHaoWy"
      },
      "execution_count": null,
      "outputs": []
    },
    {
      "cell_type": "code",
      "source": [
        "# Run this cell to execute the script.\n",
        "\n",
        "!python3.12 appy_s03_09_05.py"
      ],
      "metadata": {
        "id": "LYnyaIkUaoWy"
      },
      "execution_count": null,
      "outputs": []
    },
    {
      "cell_type": "markdown",
      "source": [
        "# 12. Calculating statistical values"
      ],
      "metadata": {
        "id": "-8n__G5VbDy3"
      }
    },
    {
      "cell_type": "markdown",
      "source": [
        "## 12.1 Mean, median, variance, and standard deviation"
      ],
      "metadata": {
        "id": "bVJwCoqnbHO1"
      }
    },
    {
      "cell_type": "code",
      "source": [
        "# Run this cell to show the source code of the script.\n",
        "\n",
        "!cat appy_s03_10_00.py"
      ],
      "metadata": {
        "id": "qTj6A3bibLny"
      },
      "execution_count": null,
      "outputs": []
    },
    {
      "cell_type": "code",
      "source": [
        "# Run this cell to execute the script.\n",
        "\n",
        "!python3.12 appy_s03_10_00.py"
      ],
      "metadata": {
        "id": "U0TEotifbLnz"
      },
      "execution_count": null,
      "outputs": []
    },
    {
      "cell_type": "code",
      "source": [
        "# Run this cell to show the source code of the script.\n",
        "\n",
        "!cat appy_s03_10_01.py"
      ],
      "metadata": {
        "id": "CzuMloi5bSwY"
      },
      "execution_count": null,
      "outputs": []
    },
    {
      "cell_type": "code",
      "source": [
        "# Run this cell to execute the script.\n",
        "\n",
        "!python3.12 appy_s03_10_01.py"
      ],
      "metadata": {
        "id": "N-hOx7i8bSwY"
      },
      "execution_count": null,
      "outputs": []
    },
    {
      "cell_type": "markdown",
      "source": [
        "## 12.2 Making a histogram"
      ],
      "metadata": {
        "id": "GZBmytmPbbqK"
      }
    },
    {
      "cell_type": "code",
      "source": [
        "# Run this cell to show the source code of the script.\n",
        "\n",
        "!cat appy_s03_10_02.py"
      ],
      "metadata": {
        "id": "6cIqhEhTbfIt"
      },
      "execution_count": null,
      "outputs": []
    },
    {
      "cell_type": "code",
      "source": [
        "# Run this cell to execute the script.\n",
        "\n",
        "!python3.12 appy_s03_10_02.py"
      ],
      "metadata": {
        "id": "u7usMhynbfIt"
      },
      "execution_count": null,
      "outputs": []
    },
    {
      "cell_type": "markdown",
      "source": [
        "## 12.3 Finding maximum and minimum"
      ],
      "metadata": {
        "id": "lhdQcC0Nbj8J"
      }
    },
    {
      "cell_type": "code",
      "source": [
        "# Run this cell to show the source code of the script.\n",
        "\n",
        "!cat appy_s03_10_03.py"
      ],
      "metadata": {
        "id": "cLe_mh_VboYT"
      },
      "execution_count": null,
      "outputs": []
    },
    {
      "cell_type": "code",
      "source": [
        "# Run this cell to execute the script.\n",
        "\n",
        "!python3.12 appy_s03_10_03.py"
      ],
      "metadata": {
        "id": "dQ-HgOrcboYT"
      },
      "execution_count": null,
      "outputs": []
    },
    {
      "cell_type": "markdown",
      "source": [
        "# 13. Masking outliers by masked array"
      ],
      "metadata": {
        "id": "diKDya_0bs-R"
      }
    },
    {
      "cell_type": "markdown",
      "source": [
        "## 13.1 Making and using a masked array"
      ],
      "metadata": {
        "id": "ld1p6jjMbwGe"
      }
    },
    {
      "cell_type": "code",
      "source": [
        "# Run this cell to show the source code of the script.\n",
        "\n",
        "!cat appy_s03_11_00.py"
      ],
      "metadata": {
        "id": "VQtr187Eb0BJ"
      },
      "execution_count": null,
      "outputs": []
    },
    {
      "cell_type": "code",
      "source": [
        "# Run this cell to execute the script.\n",
        "\n",
        "!python3.12 appy_s03_11_00.py"
      ],
      "metadata": {
        "id": "uFFzKIxib0BJ"
      },
      "execution_count": null,
      "outputs": []
    },
    {
      "cell_type": "code",
      "source": [
        "# Run this cell to show the source code of the script.\n",
        "\n",
        "!cat appy_s03_11_01.py"
      ],
      "metadata": {
        "id": "9hqEXmjMb4Nn"
      },
      "execution_count": null,
      "outputs": []
    },
    {
      "cell_type": "code",
      "source": [
        "# Run this cell to execute the script.\n",
        "\n",
        "!python3.12 appy_s03_11_01.py"
      ],
      "metadata": {
        "id": "gIlH-CJdb4No"
      },
      "execution_count": null,
      "outputs": []
    },
    {
      "cell_type": "code",
      "source": [
        "# Run this cell to show the source code of the script.\n",
        "\n",
        "!cat appy_s03_11_02.py"
      ],
      "metadata": {
        "id": "-tZH6eLDb66Y"
      },
      "execution_count": null,
      "outputs": []
    },
    {
      "cell_type": "code",
      "source": [
        "# Run this cell to execute the script.\n",
        "\n",
        "!python3.12 appy_s03_11_02.py"
      ],
      "metadata": {
        "id": "7HRkceqCb66Z"
      },
      "execution_count": null,
      "outputs": []
    },
    {
      "cell_type": "code",
      "source": [
        "# Run this cell to show the source code of the script.\n",
        "\n",
        "!cat appy_s03_11_03.py"
      ],
      "metadata": {
        "id": "N6eA1i2ab-6K"
      },
      "execution_count": null,
      "outputs": []
    },
    {
      "cell_type": "code",
      "source": [
        "# Run this cell to execute the script.\n",
        "\n",
        "!python3.12 appy_s03_11_03.py"
      ],
      "metadata": {
        "id": "wH2Wngcfb-6L"
      },
      "execution_count": null,
      "outputs": []
    },
    {
      "cell_type": "markdown",
      "source": [
        "## 13.2 Making a mask using logic functions"
      ],
      "metadata": {
        "id": "dYZHdau3cjki"
      }
    },
    {
      "cell_type": "markdown",
      "source": [
        "### 13.2.1 Making a mask using \"numpy.greater ()\""
      ],
      "metadata": {
        "id": "PFx2zHIScmTz"
      }
    },
    {
      "cell_type": "code",
      "source": [
        "# Run this cell to show the source code of the script.\n",
        "\n",
        "!cat appy_s03_11_04.py"
      ],
      "metadata": {
        "id": "o0bRLKfOcxwA"
      },
      "execution_count": null,
      "outputs": []
    },
    {
      "cell_type": "code",
      "source": [
        "# Run this cell to execute the script.\n",
        "\n",
        "!python3.12 appy_s03_11_04.py"
      ],
      "metadata": {
        "id": "jpbpnqlNcxwA"
      },
      "execution_count": null,
      "outputs": []
    },
    {
      "cell_type": "code",
      "source": [
        "# Run this cell to show the source code of the script.\n",
        "\n",
        "!cat appy_s03_11_05.py"
      ],
      "metadata": {
        "id": "La3r8QLyc1sC"
      },
      "execution_count": null,
      "outputs": []
    },
    {
      "cell_type": "code",
      "source": [
        "# Run this cell to execute the script.\n",
        "\n",
        "!python3.12 appy_s03_11_05.py"
      ],
      "metadata": {
        "id": "hu-a4selc1sC"
      },
      "execution_count": null,
      "outputs": []
    },
    {
      "cell_type": "markdown",
      "source": [
        "### 13.2.2 Trying a function \"numpy.less ()\""
      ],
      "metadata": {
        "id": "daOm-k-sc5Rl"
      }
    },
    {
      "cell_type": "code",
      "source": [
        "# Run this cell to show the source code of the script.\n",
        "\n",
        "!cat appy_s03_11_06.py"
      ],
      "metadata": {
        "id": "c_UinpRydA9-"
      },
      "execution_count": null,
      "outputs": []
    },
    {
      "cell_type": "code",
      "source": [
        "# Run this cell to execute the script.\n",
        "\n",
        "!python3.12 appy_s03_11_06.py"
      ],
      "metadata": {
        "id": "dfItyyLNdA9-"
      },
      "execution_count": null,
      "outputs": []
    },
    {
      "cell_type": "code",
      "source": [
        "# Run this cell to show the source code of the script.\n",
        "\n",
        "!cat appy_s03_11_07.py"
      ],
      "metadata": {
        "id": "34dWyowydHiq"
      },
      "execution_count": null,
      "outputs": []
    },
    {
      "cell_type": "code",
      "source": [
        "# Run this cell to execute the script.\n",
        "\n",
        "!python3.12 appy_s03_11_07.py"
      ],
      "metadata": {
        "id": "W1tOyroedHir"
      },
      "execution_count": null,
      "outputs": []
    },
    {
      "cell_type": "markdown",
      "source": [
        "### 13.2.3 Using \"numpy.greater_equal ()\" and \"numpy.less_equal ()\""
      ],
      "metadata": {
        "id": "10HVuZ7HdKwN"
      }
    },
    {
      "cell_type": "code",
      "source": [
        "# Run this cell to show the source code of the script.\n",
        "\n",
        "!cat appy_s03_11_08.py"
      ],
      "metadata": {
        "id": "2e-mC0TeddZA"
      },
      "execution_count": null,
      "outputs": []
    },
    {
      "cell_type": "code",
      "source": [
        "# Run this cell to execute the script.\n",
        "\n",
        "!python3.12 appy_s03_11_08.py"
      ],
      "metadata": {
        "id": "-B_pgXLHddZA"
      },
      "execution_count": null,
      "outputs": []
    },
    {
      "cell_type": "code",
      "source": [
        "# Run this cell to show the source code of the script.\n",
        "\n",
        "!cat appy_s03_11_09.py"
      ],
      "metadata": {
        "id": "gdLY85wZdhw1"
      },
      "execution_count": null,
      "outputs": []
    },
    {
      "cell_type": "code",
      "source": [
        "# Run this cell to execute the script.\n",
        "\n",
        "!python3.12 appy_s03_11_09.py"
      ],
      "metadata": {
        "id": "4f8ee4oidhw1"
      },
      "execution_count": null,
      "outputs": []
    },
    {
      "cell_type": "markdown",
      "source": [
        "## 13.3 Making a mask using two conditions"
      ],
      "metadata": {
        "id": "HT8Tt5qgdmLr"
      }
    },
    {
      "cell_type": "code",
      "source": [
        "# Run this cell to show the source code of the script.\n",
        "\n",
        "!cat appy_s03_11_10.py"
      ],
      "metadata": {
        "id": "N6jGvHPZdqHu"
      },
      "execution_count": null,
      "outputs": []
    },
    {
      "cell_type": "code",
      "source": [
        "# Run this cell to execute the script.\n",
        "\n",
        "!python3.12 appy_s03_11_10.py"
      ],
      "metadata": {
        "id": "O4eal-ZLdqHu"
      },
      "execution_count": null,
      "outputs": []
    },
    {
      "cell_type": "code",
      "source": [
        "# Run this cell to show the source code of the script.\n",
        "\n",
        "!cat appy_s03_11_11.py"
      ],
      "metadata": {
        "id": "72kT4HjPds-f"
      },
      "execution_count": null,
      "outputs": []
    },
    {
      "cell_type": "code",
      "source": [
        "# Run this cell to execute the script.\n",
        "\n",
        "!python3.12 appy_s03_11_11.py"
      ],
      "metadata": {
        "id": "lhzC51cWds-f"
      },
      "execution_count": null,
      "outputs": []
    },
    {
      "cell_type": "markdown",
      "source": [
        "# End of this notebook"
      ],
      "metadata": {
        "id": "z9hAzO5EdyZA"
      }
    },
    {
      "cell_type": "code",
      "source": [],
      "metadata": {
        "id": "YGpth8uZONPe"
      },
      "execution_count": null,
      "outputs": []
    }
  ]
}