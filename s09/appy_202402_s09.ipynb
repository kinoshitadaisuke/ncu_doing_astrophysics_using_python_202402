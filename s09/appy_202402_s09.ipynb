{
  "nbformat": 4,
  "nbformat_minor": 0,
  "metadata": {
    "colab": {
      "provenance": []
    },
    "kernelspec": {
      "name": "python3",
      "display_name": "Python 3"
    },
    "language_info": {
      "name": "python"
    }
  },
  "cells": [
    {
      "cell_type": "markdown",
      "source": [
        "# Doing Astrophysics using Python\n",
        "\n",
        "- \"Doing Astrophysics using Python\"\n",
        "  - Instructor: Kinoshita Daisuke\n",
        "  - Classroom: S4-202\n",
        "  - Time: from 18:00 to 20:50 on Tuesday\n",
        "  - Semester: 2nd semester of academic year 2023\n",
        "    - from February 2024 to June 2024\n",
        "  - Course web page: https://s3b.astro.ncu.edu.tw/appy_202402/\n",
        "  - GitHub repository: https://github.com/kinoshitadaisuke/ncu_doing_astrophysics_using_python_202402\n"
      ],
      "metadata": {
        "id": "gGzI83b9PmnI"
      }
    },
    {
      "cell_type": "markdown",
      "source": [
        "# Session 09: \"Distribution of asteroids, stars, and galaxies\"\n",
        "\n",
        "## 16 April 2024\n",
        "\n",
        "## Instructor: Kinoshita Daisuke"
      ],
      "metadata": {
        "id": "Q7MvlbrC_tne"
      }
    },
    {
      "cell_type": "markdown",
      "source": [
        "# 0. Installation of Python interpreter"
      ],
      "metadata": {
        "id": "T_y7rto6Q5P8"
      }
    },
    {
      "cell_type": "code",
      "source": [
        "# Run this cell to install Python 3.12\n",
        "\n",
        "!apt update\n",
        "!apt upgrade\n",
        "!apt install python3.12 python3.12-dev python3.12-distutils libpython3.12-dev\n",
        "!update-alternatives --install /usr/bin/python3 python3 /usr/bin/python3.12 1\n",
        "!wget https://bootstrap.pypa.io/get-pip.py\n",
        "!python3.12 get-pip.py"
      ],
      "metadata": {
        "id": "MzmVLkC8QyGZ"
      },
      "execution_count": null,
      "outputs": []
    },
    {
      "cell_type": "code",
      "source": [
        "# Run this cell to check the version of Python interpreter and pip command\n",
        "\n",
        "!python --version\n",
        "!pip --version"
      ],
      "metadata": {
        "id": "Vx-JYTyp3NMU"
      },
      "execution_count": null,
      "outputs": []
    },
    {
      "cell_type": "code",
      "source": [
        "# Run this cell to install external Python packages.\n",
        "\n",
        "!pip install matplotlib numpy astropy astroquery jplephem importlib_metadata"
      ],
      "metadata": {
        "id": "7V5dCLx5F9QU"
      },
      "execution_count": null,
      "outputs": []
    },
    {
      "cell_type": "markdown",
      "source": [
        "# 1. Downloading a set of sample Python scripts for this course"
      ],
      "metadata": {
        "id": "zvKZRFoF8A8k"
      }
    },
    {
      "cell_type": "code",
      "source": [
        "# Run this cell to download a set of sample Python scripts for this course.\n",
        "\n",
        "!git clone https://github.com/kinoshitadaisuke/ncu_doing_astrophysics_using_python_202402.git"
      ],
      "metadata": {
        "id": "itsUqwak4-z4"
      },
      "execution_count": null,
      "outputs": []
    },
    {
      "cell_type": "code",
      "source": [
        "# Run this cell to move to the directory for this session.\n",
        "\n",
        "%cd ncu_doing_astrophysics_using_python_202402/s09"
      ],
      "metadata": {
        "id": "bREyxIP08RZG"
      },
      "execution_count": null,
      "outputs": []
    },
    {
      "cell_type": "code",
      "source": [
        "# Run this cell to show a list of files for this session.\n",
        "\n",
        "!ls"
      ],
      "metadata": {
        "id": "fKxQ_X-D8dRN"
      },
      "execution_count": null,
      "outputs": []
    },
    {
      "cell_type": "markdown",
      "source": [
        "# 2. Distribution of asteroids"
      ],
      "metadata": {
        "id": "3pPhhIPj0DmE"
      }
    },
    {
      "cell_type": "markdown",
      "source": [
        "## 2.1 Downloading orbital elements of known asteroids"
      ],
      "metadata": {
        "id": "-tnJgbP70PUg"
      }
    },
    {
      "cell_type": "code",
      "source": [
        "# Run this cell to show the source code of the script.\n",
        "\n",
        "!cat appy_s09_00_00.py"
      ],
      "metadata": {
        "id": "yc-t69kjzk15"
      },
      "execution_count": null,
      "outputs": []
    },
    {
      "cell_type": "code",
      "source": [
        "# Run this cell to execute the script.\n",
        "\n",
        "!python3.12 appy_s09_00_00.py -h"
      ],
      "metadata": {
        "id": "J6riQrkJ0X6Q"
      },
      "execution_count": null,
      "outputs": []
    },
    {
      "cell_type": "code",
      "source": [
        "# Run this cell to execute the script.\n",
        "\n",
        "!python3.12 appy_s09_00_00.py MPCORB.DAT.gz"
      ],
      "metadata": {
        "id": "ecqppjPG0dpx"
      },
      "execution_count": null,
      "outputs": []
    },
    {
      "cell_type": "code",
      "source": [
        "# Run this cell to show the source code of the script.\n",
        "\n",
        "!cat appy_s09_00_01.py"
      ],
      "metadata": {
        "id": "GuS3L7Hi0mUq"
      },
      "execution_count": null,
      "outputs": []
    },
    {
      "cell_type": "code",
      "source": [
        "# Run this cell to execute the script.\n",
        "\n",
        "!python3.12 appy_s09_00_01.py"
      ],
      "metadata": {
        "id": "YiidT9UC0mUq"
      },
      "execution_count": null,
      "outputs": []
    },
    {
      "cell_type": "code",
      "source": [
        "# Run this cell to find newly downloaded file.\n",
        "\n",
        "!ls -lF MPCORB.DAT.gz\n",
        "!file MPCORB.DAT.gz"
      ],
      "metadata": {
        "id": "7ocAjX1t0tBL"
      },
      "execution_count": null,
      "outputs": []
    },
    {
      "cell_type": "code",
      "source": [
        "# Run this cell to execute the script.\n",
        "\n",
        "!python3.12 appy_s09_00_00.py MPCORB.DAT.gz"
      ],
      "metadata": {
        "id": "2Su54ulJ03Yz"
      },
      "execution_count": null,
      "outputs": []
    },
    {
      "cell_type": "markdown",
      "source": [
        "## 2.2 Reading asteroid orbit database file"
      ],
      "metadata": {
        "id": "_TPOdZ1v05gE"
      }
    },
    {
      "cell_type": "code",
      "source": [
        "# Run this cell to show the source code of the script.\n",
        "\n",
        "!cat appy_s09_00_02.py"
      ],
      "metadata": {
        "id": "8FfVQlce1CRY"
      },
      "execution_count": null,
      "outputs": []
    },
    {
      "cell_type": "code",
      "source": [
        "# Run this cell to execute the script.\n",
        "\n",
        "!python3.12 appy_s09_00_02.py"
      ],
      "metadata": {
        "id": "48V6AT6p1CRZ"
      },
      "execution_count": null,
      "outputs": []
    },
    {
      "cell_type": "markdown",
      "source": [
        "## 2.3 Semimajor axis distribution of asteroids"
      ],
      "metadata": {
        "id": "F0CKohU91iDm"
      }
    },
    {
      "cell_type": "code",
      "source": [
        "# Run this cell to show the source code of the script.\n",
        "\n",
        "!cat appy_s09_00_03.py"
      ],
      "metadata": {
        "id": "Vg4M1fZN1mZT"
      },
      "execution_count": null,
      "outputs": []
    },
    {
      "cell_type": "code",
      "source": [
        "# Run this cell to execute the script.\n",
        "\n",
        "!python3.12 appy_s09_00_03.py"
      ],
      "metadata": {
        "id": "2EfSaYog1mZU"
      },
      "execution_count": null,
      "outputs": []
    },
    {
      "cell_type": "code",
      "source": [
        "# Run this cell to show the source code of the script.\n",
        "\n",
        "!cat appy_s09_00_04.py"
      ],
      "metadata": {
        "id": "hk2ICTVW1uba"
      },
      "execution_count": null,
      "outputs": []
    },
    {
      "cell_type": "code",
      "source": [
        "# Run this cell to execute the script.\n",
        "\n",
        "!python3.12 appy_s09_00_04.py"
      ],
      "metadata": {
        "id": "sgVBfuqF1ubb"
      },
      "execution_count": null,
      "outputs": []
    },
    {
      "cell_type": "code",
      "source": [
        "# Run this cell to display an image.\n",
        "\n",
        "# importing IPython.display module\n",
        "import IPython.display\n",
        "\n",
        "# displaying an image\n",
        "IPython.display.Image ('appy_s09_00_04.png')"
      ],
      "metadata": {
        "id": "P9K_8dme0cm3"
      },
      "execution_count": null,
      "outputs": []
    },
    {
      "cell_type": "markdown",
      "source": [
        "## 2.4 Inclination distribution of asteroids"
      ],
      "metadata": {
        "id": "E1ULv2kD2E8p"
      }
    },
    {
      "cell_type": "code",
      "source": [
        "# Run this cell to show the source code of the script.\n",
        "\n",
        "!cat appy_s09_00_05.py"
      ],
      "metadata": {
        "id": "h71TUm4g2LLV"
      },
      "execution_count": null,
      "outputs": []
    },
    {
      "cell_type": "code",
      "source": [
        "# Run this cell to execute the script.\n",
        "\n",
        "!python3.12 appy_s09_00_05.py"
      ],
      "metadata": {
        "id": "GdrH8Rwl2LLV"
      },
      "execution_count": null,
      "outputs": []
    },
    {
      "cell_type": "code",
      "source": [
        "# Run this cell to display an image.\n",
        "\n",
        "# importing IPython.display module\n",
        "import IPython.display\n",
        "\n",
        "# displaying an image\n",
        "IPython.display.Image ('appy_s09_00_05.png')"
      ],
      "metadata": {
        "id": "HFgYjddz2LLX"
      },
      "execution_count": null,
      "outputs": []
    },
    {
      "cell_type": "markdown",
      "source": [
        "## 2.5 Absolute magnitude distribution of asteroids"
      ],
      "metadata": {
        "id": "E6FgLP5G2S3J"
      }
    },
    {
      "cell_type": "code",
      "source": [
        "# Run this cell to show the source code of the script.\n",
        "\n",
        "!cat appy_s09_00_06.py"
      ],
      "metadata": {
        "id": "bPmyGxJj2Z0P"
      },
      "execution_count": null,
      "outputs": []
    },
    {
      "cell_type": "code",
      "source": [
        "# Run this cell to execute the script.\n",
        "\n",
        "!python3.12 appy_s09_00_06.py"
      ],
      "metadata": {
        "id": "dfZYInxS2Z0Q"
      },
      "execution_count": null,
      "outputs": []
    },
    {
      "cell_type": "code",
      "source": [
        "# Run this cell to display an image.\n",
        "\n",
        "# importing IPython.display module\n",
        "import IPython.display\n",
        "\n",
        "# displaying an image\n",
        "IPython.display.Image ('appy_s09_00_06.png')"
      ],
      "metadata": {
        "id": "Fgctfmle2Z0R"
      },
      "execution_count": null,
      "outputs": []
    },
    {
      "cell_type": "code",
      "source": [
        "# Run this cell to show the source code of the script.\n",
        "\n",
        "!cat appy_s09_00_07.py"
      ],
      "metadata": {
        "id": "zWXfptwv2ke_"
      },
      "execution_count": null,
      "outputs": []
    },
    {
      "cell_type": "code",
      "source": [
        "# Run this cell to execute the script.\n",
        "\n",
        "!python3.12 appy_s09_00_07.py"
      ],
      "metadata": {
        "id": "7V3IsICY2kfA"
      },
      "execution_count": null,
      "outputs": []
    },
    {
      "cell_type": "code",
      "source": [
        "# Run this cell to display an image.\n",
        "\n",
        "# importing IPython.display module\n",
        "import IPython.display\n",
        "\n",
        "# displaying an image\n",
        "IPython.display.Image ('appy_s09_00_07.png')"
      ],
      "metadata": {
        "id": "UJu8dpoN2kfA"
      },
      "execution_count": null,
      "outputs": []
    },
    {
      "cell_type": "markdown",
      "source": [
        "## 2.6 Getting asteroid position"
      ],
      "metadata": {
        "id": "2lNs9i4N2wRs"
      }
    },
    {
      "cell_type": "code",
      "source": [
        "# Run this cell to show the source code of the script.\n",
        "\n",
        "!cat appy_s09_00_08.py"
      ],
      "metadata": {
        "id": "wQnJjYUZ20gI"
      },
      "execution_count": null,
      "outputs": []
    },
    {
      "cell_type": "code",
      "source": [
        "# Run this cell to execute the script.\n",
        "\n",
        "!python3.12 appy_s09_00_08.py"
      ],
      "metadata": {
        "id": "OLXRkwAW20gI"
      },
      "execution_count": null,
      "outputs": []
    },
    {
      "cell_type": "code",
      "source": [
        "# Run this cell to show the source code of the script.\n",
        "\n",
        "!cat appy_s09_00_09.py"
      ],
      "metadata": {
        "id": "q9JpqSiR3T-P"
      },
      "execution_count": null,
      "outputs": []
    },
    {
      "cell_type": "code",
      "source": [
        "# Run this cell to execute the script.\n",
        "\n",
        "!python3.12 appy_s09_00_09.py"
      ],
      "metadata": {
        "id": "ewUIqa-s3T-Q"
      },
      "execution_count": null,
      "outputs": []
    },
    {
      "cell_type": "code",
      "source": [
        "# Run this cell to show the source code of the script.\n",
        "\n",
        "!cat appy_s09_00_10.py"
      ],
      "metadata": {
        "id": "0OK5G6iA3dSU"
      },
      "execution_count": null,
      "outputs": []
    },
    {
      "cell_type": "code",
      "source": [
        "# Run this cell to execute the script.\n",
        "\n",
        "!python3.12 appy_s09_00_10.py"
      ],
      "metadata": {
        "id": "UaWRLxQb3dSV"
      },
      "execution_count": null,
      "outputs": []
    },
    {
      "cell_type": "code",
      "source": [
        "# Run this cell to find newly created file.\n",
        "\n",
        "!ls -lF asteroids_000100.data\n",
        "!head -20 asteroids_000100.data"
      ],
      "metadata": {
        "id": "mH19cMYP19HN"
      },
      "execution_count": null,
      "outputs": []
    },
    {
      "cell_type": "code",
      "source": [
        "# Run this cell to show the source code of the script.\n",
        "\n",
        "!cat appy_s09_00_11.py"
      ],
      "metadata": {
        "id": "0NyDf0o03-Er"
      },
      "execution_count": null,
      "outputs": []
    },
    {
      "cell_type": "code",
      "source": [
        "# Run this cell to execute the script.\n",
        "\n",
        "!python3.12 appy_s09_00_11.py"
      ],
      "metadata": {
        "id": "ro6EWpvA3-Es"
      },
      "execution_count": null,
      "outputs": []
    },
    {
      "cell_type": "code",
      "source": [
        "# Run this cell to display an image.\n",
        "\n",
        "# importing IPython.display module\n",
        "import IPython.display\n",
        "\n",
        "# displaying an image\n",
        "IPython.display.Image ('appy_s09_00_11.png')"
      ],
      "metadata": {
        "id": "jneaP8yO4DEI"
      },
      "execution_count": null,
      "outputs": []
    },
    {
      "cell_type": "markdown",
      "source": [
        "## 2.8 Visualising the location of the Ecliptic plane on the sky"
      ],
      "metadata": {
        "id": "8TAZc7CJ4JIy"
      }
    },
    {
      "cell_type": "code",
      "source": [
        "# Run this cell to show the source code of the script.\n",
        "\n",
        "!cat appy_s09_00_12.py"
      ],
      "metadata": {
        "id": "mcKza6Uk4PVN"
      },
      "execution_count": null,
      "outputs": []
    },
    {
      "cell_type": "code",
      "source": [
        "# Run this cell to execute the script.\n",
        "\n",
        "#\n",
        "# Note: The execution of this script takes a while.\n",
        "#       If you are in the classroom, do not run this cell.\n",
        "#       Run next cell instead.\n",
        "#\n",
        "\n",
        "!python3.12 appy_s09_00_12.py"
      ],
      "metadata": {
        "id": "bixiGOaK4PVO"
      },
      "execution_count": null,
      "outputs": []
    },
    {
      "cell_type": "code",
      "source": [
        "# Run this cell to uncompress the data file.\n",
        "\n",
        "!unxz asteroids_001000.data.xz\n",
        "!ls -lF asteroids_001000.data"
      ],
      "metadata": {
        "id": "Fbk8vxW_4lyH"
      },
      "execution_count": null,
      "outputs": []
    },
    {
      "cell_type": "code",
      "source": [
        "# Run this cell to show the source code of the script.\n",
        "\n",
        "!cat appy_s09_00_13.py"
      ],
      "metadata": {
        "id": "STxAMYcr43DX"
      },
      "execution_count": null,
      "outputs": []
    },
    {
      "cell_type": "code",
      "source": [
        "# Run this cell to execute the script.\n",
        "\n",
        "!python3.12 appy_s09_00_13.py"
      ],
      "metadata": {
        "id": "e0LW8UlF43DZ"
      },
      "execution_count": null,
      "outputs": []
    },
    {
      "cell_type": "code",
      "source": [
        "# Run this cell to display an image.\n",
        "\n",
        "# importing IPython.display module\n",
        "import IPython.display\n",
        "\n",
        "# displaying an image\n",
        "IPython.display.Image ('appy_s09_00_13.png')"
      ],
      "metadata": {
        "id": "JgIOYJtU43DZ"
      },
      "execution_count": null,
      "outputs": []
    },
    {
      "cell_type": "markdown",
      "source": [
        "## 2.9 Drawing the position of the Galactic plane"
      ],
      "metadata": {
        "id": "6JTywFcI5ghU"
      }
    },
    {
      "cell_type": "code",
      "source": [
        "# Run this cell to show the source code of the script.\n",
        "\n",
        "!cat appy_s09_00_14.py"
      ],
      "metadata": {
        "id": "kyelZFos5mps"
      },
      "execution_count": null,
      "outputs": []
    },
    {
      "cell_type": "code",
      "source": [
        "# Run this cell to execute the script.\n",
        "\n",
        "#\n",
        "# Note: The execution of this script takes a while.\n",
        "#       If you are in the classroom, do not run this cell.\n",
        "#       Run next cell instead.\n",
        "#\n",
        "\n",
        "!python3.12 appy_s09_00_14.py"
      ],
      "metadata": {
        "id": "iOn7Wsje5mpt"
      },
      "execution_count": null,
      "outputs": []
    },
    {
      "cell_type": "code",
      "source": [
        "# Run this cell to uncompress the data file.\n",
        "\n",
        "!unxz asteroids_010000.data.xz\n",
        "!ls -lF asteroids_010000.data"
      ],
      "metadata": {
        "id": "eEECwaCJ5mpt"
      },
      "execution_count": null,
      "outputs": []
    },
    {
      "cell_type": "code",
      "source": [
        "# Run this cell to show the source code of the script.\n",
        "\n",
        "!cat appy_s09_00_15.py"
      ],
      "metadata": {
        "id": "UXo8Jy5_59Gx"
      },
      "execution_count": null,
      "outputs": []
    },
    {
      "cell_type": "code",
      "source": [
        "# Run this cell to execute the script.\n",
        "\n",
        "!python3.12 appy_s09_00_15.py"
      ],
      "metadata": {
        "id": "KWIcqp3559Gy"
      },
      "execution_count": null,
      "outputs": []
    },
    {
      "cell_type": "code",
      "source": [
        "# Run this cell to display an image.\n",
        "\n",
        "# importing IPython.display module\n",
        "import IPython.display\n",
        "\n",
        "# displaying an image\n",
        "IPython.display.Image ('appy_s09_00_15.png')"
      ],
      "metadata": {
        "id": "bqTx39mn59Gz"
      },
      "execution_count": null,
      "outputs": []
    },
    {
      "cell_type": "markdown",
      "source": [
        "## 2.10 Using Mollweide projection"
      ],
      "metadata": {
        "id": "ajl7oijy6JB3"
      }
    },
    {
      "cell_type": "code",
      "source": [
        "# Run this cell to show the source code of the script.\n",
        "\n",
        "!cat appy_s09_00_16.py"
      ],
      "metadata": {
        "id": "QJWbBNe66OyV"
      },
      "execution_count": null,
      "outputs": []
    },
    {
      "cell_type": "code",
      "source": [
        "# Run this cell to execute the script.\n",
        "\n",
        "#\n",
        "# Note: The execution of this script takes a while.\n",
        "#       If you are in the classroom, do not run this cell.\n",
        "#       Run next cell instead.\n",
        "#\n",
        "\n",
        "!python3.12 appy_s09_00_16.py"
      ],
      "metadata": {
        "id": "GD-UIAO96OyV"
      },
      "execution_count": null,
      "outputs": []
    },
    {
      "cell_type": "code",
      "source": [
        "# Run this cell to uncompress the data file.\n",
        "\n",
        "!unxz asteroids_100000.data.xz\n",
        "!ls -lF asteroids_100000.data"
      ],
      "metadata": {
        "id": "WUKuK5Mj6OyW"
      },
      "execution_count": null,
      "outputs": []
    },
    {
      "cell_type": "code",
      "source": [
        "# Run this cell to show the source code of the script.\n",
        "\n",
        "!cat appy_s09_00_17.py"
      ],
      "metadata": {
        "id": "4dW9mKni6d_u"
      },
      "execution_count": null,
      "outputs": []
    },
    {
      "cell_type": "code",
      "source": [
        "# Run this cell to execute the script.\n",
        "\n",
        "!python3.12 appy_s09_00_17.py"
      ],
      "metadata": {
        "id": "kFHlBxKU6d_v"
      },
      "execution_count": null,
      "outputs": []
    },
    {
      "cell_type": "code",
      "source": [
        "# Run this cell to display an image.\n",
        "\n",
        "# importing IPython.display module\n",
        "import IPython.display\n",
        "\n",
        "# displaying an image\n",
        "IPython.display.Image ('appy_s09_00_17.png')"
      ],
      "metadata": {
        "id": "ES0h3Hke6d_w"
      },
      "execution_count": null,
      "outputs": []
    },
    {
      "cell_type": "markdown",
      "source": [
        "## 2.11 Using Aitoff projection"
      ],
      "metadata": {
        "id": "TdmrTYOi6t4O"
      }
    },
    {
      "cell_type": "code",
      "source": [
        "# Run this cell to show the source code of the script.\n",
        "\n",
        "!cat appy_s09_00_18.py"
      ],
      "metadata": {
        "id": "1VbRrfkX6ytr"
      },
      "execution_count": null,
      "outputs": []
    },
    {
      "cell_type": "code",
      "source": [
        "# Run this cell to execute the script.\n",
        "\n",
        "!python3.12 appy_s09_00_18.py"
      ],
      "metadata": {
        "id": "a9cAfLmS6ytr"
      },
      "execution_count": null,
      "outputs": []
    },
    {
      "cell_type": "code",
      "source": [
        "# Run this cell to display an image.\n",
        "\n",
        "# importing IPython.display module\n",
        "import IPython.display\n",
        "\n",
        "# displaying an image\n",
        "IPython.display.Image ('appy_s09_00_18.png')"
      ],
      "metadata": {
        "id": "qWAx4Wv26yts"
      },
      "execution_count": null,
      "outputs": []
    },
    {
      "cell_type": "markdown",
      "source": [
        "## 2.12 Using Hammer projection"
      ],
      "metadata": {
        "id": "2SWIDRGT7A9c"
      }
    },
    {
      "cell_type": "code",
      "source": [
        "# Run this cell to show the source code of the script.\n",
        "\n",
        "!cat appy_s09_00_19.py"
      ],
      "metadata": {
        "id": "nERh57mr7DgI"
      },
      "execution_count": null,
      "outputs": []
    },
    {
      "cell_type": "code",
      "source": [
        "# Run this cell to execute the script.\n",
        "\n",
        "!python3.12 appy_s09_00_19.py"
      ],
      "metadata": {
        "id": "xzFJaHjJ7DgJ"
      },
      "execution_count": null,
      "outputs": []
    },
    {
      "cell_type": "code",
      "source": [
        "# Run this cell to display an image.\n",
        "\n",
        "# importing IPython.display module\n",
        "import IPython.display\n",
        "\n",
        "# displaying an image\n",
        "IPython.display.Image ('appy_s09_00_19.png')"
      ],
      "metadata": {
        "id": "DrPrhiPN7DgK"
      },
      "execution_count": null,
      "outputs": []
    },
    {
      "cell_type": "markdown",
      "source": [
        "## 2.13 Making a density plot"
      ],
      "metadata": {
        "id": "TN-wInTc7V6H"
      }
    },
    {
      "cell_type": "code",
      "source": [
        "# Run this cell to show the source code of the script.\n",
        "\n",
        "!cat appy_s09_00_20.py"
      ],
      "metadata": {
        "id": "NfMpBaKS7fAB"
      },
      "execution_count": null,
      "outputs": []
    },
    {
      "cell_type": "code",
      "source": [
        "# Run this cell to execute the script.\n",
        "\n",
        "!python3.12 appy_s09_00_20.py"
      ],
      "metadata": {
        "id": "qK9rWAFh7fAC"
      },
      "execution_count": null,
      "outputs": []
    },
    {
      "cell_type": "code",
      "source": [
        "# Run this cell to display an image.\n",
        "\n",
        "# importing IPython.display module\n",
        "import IPython.display\n",
        "\n",
        "# displaying an image\n",
        "IPython.display.Image ('appy_s09_00_20.png')"
      ],
      "metadata": {
        "id": "cfOmvfDq7fAD"
      },
      "execution_count": null,
      "outputs": []
    },
    {
      "cell_type": "markdown",
      "source": [
        "# 3. Visualisation of distribution of stars using Bright Star Catalogue"
      ],
      "metadata": {
        "id": "0EYG7BIE7nys"
      }
    },
    {
      "cell_type": "markdown",
      "source": [
        "## 3.1 Downloading Bright Star Catalogue"
      ],
      "metadata": {
        "id": "Oealg03X7sAM"
      }
    },
    {
      "cell_type": "code",
      "source": [
        "# Run this cell to show the source code of the script.\n",
        "\n",
        "!cat appy_s09_01_00.py"
      ],
      "metadata": {
        "id": "jOlCWmS07yfY"
      },
      "execution_count": null,
      "outputs": []
    },
    {
      "cell_type": "code",
      "source": [
        "# Run this cell to execute the script.\n",
        "\n",
        "!python3.12 appy_s09_01_00.py"
      ],
      "metadata": {
        "id": "kL0kM04G7yfZ"
      },
      "execution_count": null,
      "outputs": []
    },
    {
      "cell_type": "code",
      "source": [
        "# Run this cell to find newly downloaded file.\n",
        "\n",
        "!ls -lF bsc5.cat.gz"
      ],
      "metadata": {
        "id": "6kWCLtEy74NG"
      },
      "execution_count": null,
      "outputs": []
    },
    {
      "cell_type": "code",
      "source": [
        "# Run this cell to show the source code of the script.\n",
        "\n",
        "!cat appy_s09_01_01.py"
      ],
      "metadata": {
        "id": "qShfvapv79q-"
      },
      "execution_count": null,
      "outputs": []
    },
    {
      "cell_type": "code",
      "source": [
        "# Run this cell to execute the script.\n",
        "\n",
        "!python3.12 appy_s09_01_01.py"
      ],
      "metadata": {
        "id": "5Xgdr7Vi79q_"
      },
      "execution_count": null,
      "outputs": []
    },
    {
      "cell_type": "code",
      "source": [
        "# Run this cell to find newly downloaded file.\n",
        "\n",
        "!ls -lF bsc5.*"
      ],
      "metadata": {
        "id": "RdslKkrM79rA"
      },
      "execution_count": null,
      "outputs": []
    },
    {
      "cell_type": "markdown",
      "source": [
        "## 3.2 Reading Bright Star Catalogue"
      ],
      "metadata": {
        "id": "vgBJrS_673QE"
      }
    },
    {
      "cell_type": "code",
      "source": [
        "# Run this cell to show the source code of the script.\n",
        "\n",
        "!cat appy_s09_01_02.py"
      ],
      "metadata": {
        "id": "BNg47etI8Ip1"
      },
      "execution_count": null,
      "outputs": []
    },
    {
      "cell_type": "code",
      "source": [
        "# Run this cell to execute the script.\n",
        "\n",
        "!python3.12 appy_s09_01_02.py > bsc5.data"
      ],
      "metadata": {
        "id": "r-lEpvwn8Ip1"
      },
      "execution_count": null,
      "outputs": []
    },
    {
      "cell_type": "code",
      "source": [
        "# Run this cell to find newly created file.\n",
        "\n",
        "!ls -lF bsc5.*\n",
        "!head -20 bsc5.data"
      ],
      "metadata": {
        "id": "T8HneVUT3v0G"
      },
      "execution_count": null,
      "outputs": []
    },
    {
      "cell_type": "markdown",
      "source": [
        "## 3.3 Plotting stars in Bright Star Catalogue"
      ],
      "metadata": {
        "id": "5D8yDWNL8Z63"
      }
    },
    {
      "cell_type": "code",
      "source": [
        "# Run this cell to show the source code of the script.\n",
        "\n",
        "!cat appy_s09_01_03.py"
      ],
      "metadata": {
        "id": "rBwiyHhO8mQb"
      },
      "execution_count": null,
      "outputs": []
    },
    {
      "cell_type": "code",
      "source": [
        "# Run this cell to execute the script.\n",
        "\n",
        "!python3.12 appy_s09_01_03.py"
      ],
      "metadata": {
        "id": "9JgHSqTq8mQb"
      },
      "execution_count": null,
      "outputs": []
    },
    {
      "cell_type": "code",
      "source": [
        "# Run this cell to display an image.\n",
        "\n",
        "# importing IPython.display module\n",
        "import IPython.display\n",
        "\n",
        "# displaying an image\n",
        "IPython.display.Image ('appy_s09_01_03.png')"
      ],
      "metadata": {
        "id": "l0-Nu8l48zns"
      },
      "execution_count": null,
      "outputs": []
    },
    {
      "cell_type": "code",
      "source": [
        "# Run this cell to show the source code of the script.\n",
        "\n",
        "!cat appy_s09_01_04.py"
      ],
      "metadata": {
        "id": "MKKVivOp87dm"
      },
      "execution_count": null,
      "outputs": []
    },
    {
      "cell_type": "code",
      "source": [
        "# Run this cell to execute the script.\n",
        "\n",
        "!python3.12 appy_s09_01_04.py"
      ],
      "metadata": {
        "id": "s4uvEhTW87dn"
      },
      "execution_count": null,
      "outputs": []
    },
    {
      "cell_type": "code",
      "source": [
        "# Run this cell to display an image.\n",
        "\n",
        "# importing IPython.display module\n",
        "import IPython.display\n",
        "\n",
        "# displaying an image\n",
        "IPython.display.Image ('appy_s09_01_04.png')"
      ],
      "metadata": {
        "id": "SzwOPprh87do"
      },
      "execution_count": null,
      "outputs": []
    },
    {
      "cell_type": "code",
      "source": [
        "# Run this cell to show the source code of the script.\n",
        "\n",
        "!cat appy_s09_01_05.py"
      ],
      "metadata": {
        "id": "oux4Zz349S8U"
      },
      "execution_count": null,
      "outputs": []
    },
    {
      "cell_type": "code",
      "source": [
        "# Run this cell to execute the script.\n",
        "\n",
        "!python3.12 appy_s09_01_05.py"
      ],
      "metadata": {
        "id": "ZjHoKrpS9S8W"
      },
      "execution_count": null,
      "outputs": []
    },
    {
      "cell_type": "code",
      "source": [
        "# Run this cell to display an image.\n",
        "\n",
        "# importing IPython.display module\n",
        "import IPython.display\n",
        "\n",
        "# displaying an image\n",
        "IPython.display.Image ('appy_s09_01_05.png')"
      ],
      "metadata": {
        "id": "k0bSGaIM9S8W"
      },
      "execution_count": null,
      "outputs": []
    },
    {
      "cell_type": "markdown",
      "source": [
        "## 3.4 Extracting colour indices of stars from Bright Star Catalogue"
      ],
      "metadata": {
        "id": "E_1KlPFi9m7O"
      }
    },
    {
      "cell_type": "code",
      "source": [
        "# Run this cell to show the source code of the script.\n",
        "\n",
        "!cat appy_s09_01_06.py"
      ],
      "metadata": {
        "id": "JHdXb6T99uX4"
      },
      "execution_count": null,
      "outputs": []
    },
    {
      "cell_type": "code",
      "source": [
        "# Run this cell to execute the script.\n",
        "\n",
        "!python3.12 appy_s09_01_06.py > bsc5c.data"
      ],
      "metadata": {
        "id": "oBrcKGda9uX5"
      },
      "execution_count": null,
      "outputs": []
    },
    {
      "cell_type": "code",
      "source": [
        "# Run this cell to find newly created file.\n",
        "\n",
        "!ls -lF bsc5*\n",
        "!head -20 bsc5c.data"
      ],
      "metadata": {
        "id": "cRgTHPzD8UQp"
      },
      "execution_count": null,
      "outputs": []
    },
    {
      "cell_type": "markdown",
      "source": [
        "## 3.5 Plotting stars using different colour for different colour indices"
      ],
      "metadata": {
        "id": "KNYH7tex-BxV"
      }
    },
    {
      "cell_type": "code",
      "source": [
        "# Run this cell to show the source code of the script.\n",
        "\n",
        "!cat appy_s09_01_07.py"
      ],
      "metadata": {
        "id": "E72mAdoH-JG4"
      },
      "execution_count": null,
      "outputs": []
    },
    {
      "cell_type": "code",
      "source": [
        "# Run this cell to execute the script.\n",
        "\n",
        "!python3.12 appy_s09_01_07.py"
      ],
      "metadata": {
        "id": "qBaeRPw--JG5"
      },
      "execution_count": null,
      "outputs": []
    },
    {
      "cell_type": "code",
      "source": [
        "# Run this cell to display an image.\n",
        "\n",
        "# importing IPython.display module\n",
        "import IPython.display\n",
        "\n",
        "# displaying an image\n",
        "IPython.display.Image ('appy_s09_01_07.png')"
      ],
      "metadata": {
        "id": "pLq8XbFk-O1u"
      },
      "execution_count": null,
      "outputs": []
    },
    {
      "cell_type": "code",
      "source": [
        "# Run this cell to show the source code of the script.\n",
        "\n",
        "!cat appy_s09_01_08.py"
      ],
      "metadata": {
        "id": "vzG6Nx75-h_p"
      },
      "execution_count": null,
      "outputs": []
    },
    {
      "cell_type": "code",
      "source": [
        "# Run this cell to execute the script.\n",
        "\n",
        "!python3.12 appy_s09_01_08.py"
      ],
      "metadata": {
        "id": "jj3M8Kwe-h_r"
      },
      "execution_count": null,
      "outputs": []
    },
    {
      "cell_type": "code",
      "source": [
        "# Run this cell to display an image.\n",
        "\n",
        "# importing IPython.display module\n",
        "import IPython.display\n",
        "\n",
        "# displaying an image\n",
        "IPython.display.Image ('appy_s09_01_08.png')"
      ],
      "metadata": {
        "id": "OdVHmbpn-h_s"
      },
      "execution_count": null,
      "outputs": []
    },
    {
      "cell_type": "markdown",
      "source": [
        "# 4. Distribution of stars from Hipparcos Catalogue"
      ],
      "metadata": {
        "id": "UuNOFEL2-7az"
      }
    },
    {
      "cell_type": "markdown",
      "source": [
        "## 4.1 Downloading Hipparcos Catalogue"
      ],
      "metadata": {
        "id": "PtWunlur--vh"
      }
    },
    {
      "cell_type": "code",
      "source": [
        "# Run this cell to show the source code of the script.\n",
        "\n",
        "!cat appy_s09_02_00.py"
      ],
      "metadata": {
        "id": "oNxN6-SX_E_p"
      },
      "execution_count": null,
      "outputs": []
    },
    {
      "cell_type": "code",
      "source": [
        "# Run this cell to execute the script.\n",
        "\n",
        "!python3.12 appy_s09_02_00.py"
      ],
      "metadata": {
        "id": "Ii3UiUHO_E_r"
      },
      "execution_count": null,
      "outputs": []
    },
    {
      "cell_type": "code",
      "source": [
        "# Run this cell to find newly downloaded file.\n",
        "\n",
        "!ls -lF hip2.data.gz"
      ],
      "metadata": {
        "id": "WgqNHp0N973g"
      },
      "execution_count": null,
      "outputs": []
    },
    {
      "cell_type": "code",
      "source": [
        "# Run this cell to show the source code of the script.\n",
        "\n",
        "!cat appy_s09_02_01.py"
      ],
      "metadata": {
        "id": "OLPOl3b5_QpK"
      },
      "execution_count": null,
      "outputs": []
    },
    {
      "cell_type": "code",
      "source": [
        "# Run this cell to execute the script.\n",
        "\n",
        "!python3.12 appy_s09_02_01.py"
      ],
      "metadata": {
        "id": "wjCFhAp4_QpL"
      },
      "execution_count": null,
      "outputs": []
    },
    {
      "cell_type": "code",
      "source": [
        "# Run this cell to find newly downloaded file.\n",
        "\n",
        "!ls -lF hip2.*"
      ],
      "metadata": {
        "id": "abkzD_2u_QpL"
      },
      "execution_count": null,
      "outputs": []
    },
    {
      "cell_type": "markdown",
      "source": [
        "## 4.2 Plotting locations of stars in Hipparcos Catalogue"
      ],
      "metadata": {
        "id": "PnOeI-98_WeV"
      }
    },
    {
      "cell_type": "code",
      "source": [
        "# Run this cell to show the source code of the script.\n",
        "\n",
        "!cat appy_s09_02_02.py"
      ],
      "metadata": {
        "id": "OXEnDwnN_tj7"
      },
      "execution_count": null,
      "outputs": []
    },
    {
      "cell_type": "code",
      "source": [
        "# Run this cell to execute the script.\n",
        "\n",
        "!python3.12 appy_s09_02_02.py"
      ],
      "metadata": {
        "id": "I_6Tug_w_tj8"
      },
      "execution_count": null,
      "outputs": []
    },
    {
      "cell_type": "code",
      "source": [
        "# Run this cell to display an image.\n",
        "\n",
        "# importing IPython.display module\n",
        "import IPython.display\n",
        "\n",
        "# displaying an image\n",
        "IPython.display.Image ('appy_s09_02_02.png')"
      ],
      "metadata": {
        "id": "FRuogqSO_4E-"
      },
      "execution_count": null,
      "outputs": []
    },
    {
      "cell_type": "code",
      "source": [
        "# Run this cell to show the source code of the script.\n",
        "\n",
        "!cat appy_s09_02_03.py"
      ],
      "metadata": {
        "id": "md6yAA0WAcZ5"
      },
      "execution_count": null,
      "outputs": []
    },
    {
      "cell_type": "code",
      "source": [
        "# Run this cell to execute the script.\n",
        "\n",
        "!python3.12 appy_s09_02_03.py"
      ],
      "metadata": {
        "id": "jkLjaEqiAcZ6"
      },
      "execution_count": null,
      "outputs": []
    },
    {
      "cell_type": "code",
      "source": [
        "# Run this cell to display an image.\n",
        "\n",
        "# importing IPython.display module\n",
        "import IPython.display\n",
        "\n",
        "# displaying an image\n",
        "IPython.display.Image ('appy_s09_02_03.png')"
      ],
      "metadata": {
        "id": "KHs7w-JWAcZ7"
      },
      "execution_count": null,
      "outputs": []
    },
    {
      "cell_type": "markdown",
      "source": [
        "## 4.3 Making a density plot"
      ],
      "metadata": {
        "id": "xEvfcHbVAgam"
      }
    },
    {
      "cell_type": "code",
      "source": [
        "# Run this cell to show the source code of the script.\n",
        "\n",
        "!cat appy_s09_02_04.py"
      ],
      "metadata": {
        "id": "zi0EuQ3wAowy"
      },
      "execution_count": null,
      "outputs": []
    },
    {
      "cell_type": "code",
      "source": [
        "# Run this cell to execute the script.\n",
        "\n",
        "!python3.12 appy_s09_02_04.py"
      ],
      "metadata": {
        "id": "t__5cUwZAow0"
      },
      "execution_count": null,
      "outputs": []
    },
    {
      "cell_type": "code",
      "source": [
        "# Run this cell to display an image.\n",
        "\n",
        "# importing IPython.display module\n",
        "import IPython.display\n",
        "\n",
        "# displaying an image\n",
        "IPython.display.Image ('appy_s09_02_04.png')"
      ],
      "metadata": {
        "id": "kL4WjWU4Aow1"
      },
      "execution_count": null,
      "outputs": []
    },
    {
      "cell_type": "markdown",
      "source": [
        "# 5. Distribution of galaxies"
      ],
      "metadata": {
        "id": "DrkxhcXpBTi4"
      }
    },
    {
      "cell_type": "markdown",
      "source": [
        "## 5.1 Downloading 2MASS Extended Source Catalogue"
      ],
      "metadata": {
        "id": "1sPQog4ABV3c"
      }
    },
    {
      "cell_type": "code",
      "source": [
        "# Run this cell to show the source code of the script.\n",
        "\n",
        "!cat appy_s09_03_00.py"
      ],
      "metadata": {
        "id": "0eysRy-3Bbi4"
      },
      "execution_count": null,
      "outputs": []
    },
    {
      "cell_type": "code",
      "source": [
        "# Run this cell to execute the script.\n",
        "\n",
        "!python3.12 appy_s09_03_00.py"
      ],
      "metadata": {
        "id": "EpvaZaZ1Bbi6"
      },
      "execution_count": null,
      "outputs": []
    },
    {
      "cell_type": "code",
      "source": [
        "# Run this cell to find newly downloaded file.\n",
        "\n",
        "!ls -lF xsc_aaa.gz"
      ],
      "metadata": {
        "id": "PyN0Tf0BBgI8"
      },
      "execution_count": null,
      "outputs": []
    },
    {
      "cell_type": "code",
      "source": [
        "# Run this cell to show the source code of the script.\n",
        "\n",
        "!cat appy_s09_03_01.py"
      ],
      "metadata": {
        "id": "ZuJj5QaMBn6T"
      },
      "execution_count": null,
      "outputs": []
    },
    {
      "cell_type": "code",
      "source": [
        "# Run this cell to execute the script.\n",
        "\n",
        "!python3.12 appy_s09_03_01.py"
      ],
      "metadata": {
        "id": "QbD8dg6-Bn6U"
      },
      "execution_count": null,
      "outputs": []
    },
    {
      "cell_type": "code",
      "source": [
        "# Run this cell to find newly downloaded file.\n",
        "\n",
        "!ls -lF xsc_*"
      ],
      "metadata": {
        "id": "RLQ7a5c3Bn6U"
      },
      "execution_count": null,
      "outputs": []
    },
    {
      "cell_type": "code",
      "source": [
        "# Run this cell to show the source code of the script.\n",
        "\n",
        "!cat appy_s09_03_02.py"
      ],
      "metadata": {
        "id": "fWuJ8nUBBvTR"
      },
      "execution_count": null,
      "outputs": []
    },
    {
      "cell_type": "code",
      "source": [
        "# Run this cell to execute the script.\n",
        "\n",
        "!python3.12 appy_s09_03_02.py"
      ],
      "metadata": {
        "id": "eMi1gPIABvTS"
      },
      "execution_count": null,
      "outputs": []
    },
    {
      "cell_type": "code",
      "source": [
        "# Run this cell to find newly downloaded file.\n",
        "\n",
        "!ls -lF *xsc*"
      ],
      "metadata": {
        "id": "-V5-PrVWBy0A"
      },
      "execution_count": null,
      "outputs": []
    },
    {
      "cell_type": "markdown",
      "source": [
        "## 5.2 Making a density map of galaxies"
      ],
      "metadata": {
        "id": "ITGFIiJgB1a7"
      }
    },
    {
      "cell_type": "code",
      "source": [
        "# Run this cell to show the source code of the script.\n",
        "\n",
        "!cat appy_s09_03_03.py"
      ],
      "metadata": {
        "id": "3L9ZaCXjB5Y2"
      },
      "execution_count": null,
      "outputs": []
    },
    {
      "cell_type": "code",
      "source": [
        "# Run this cell to execute the script.\n",
        "\n",
        "!python3.12 appy_s09_03_03.py"
      ],
      "metadata": {
        "id": "TrbZSYkhB5Y3"
      },
      "execution_count": null,
      "outputs": []
    },
    {
      "cell_type": "code",
      "source": [
        "# Run this cell to display an image.\n",
        "\n",
        "# importing IPython.display module\n",
        "import IPython.display\n",
        "\n",
        "# displaying an image\n",
        "IPython.display.Image ('appy_s09_03_03.png')"
      ],
      "metadata": {
        "id": "0EovnbGUCBa4"
      },
      "execution_count": null,
      "outputs": []
    },
    {
      "cell_type": "markdown",
      "source": [
        "# End of this notebook"
      ],
      "metadata": {
        "id": "QjuTnjkcCHF2"
      }
    },
    {
      "cell_type": "code",
      "source": [],
      "metadata": {
        "id": "XFoXR4Hg_OOt"
      },
      "execution_count": null,
      "outputs": []
    }
  ]
}