{
  "nbformat": 4,
  "nbformat_minor": 0,
  "metadata": {
    "colab": {
      "provenance": []
    },
    "kernelspec": {
      "name": "python3",
      "display_name": "Python 3"
    },
    "language_info": {
      "name": "python"
    }
  },
  "cells": [
    {
      "cell_type": "markdown",
      "source": [
        "# Doing Astrophysics using Python\n",
        "\n",
        "- \"Doing Astrophysics using Python\"\n",
        "  - Instructor: Kinoshita Daisuke\n",
        "  - Classroom: S4-202\n",
        "  - Time: from 18:00 to 20:50 on Tuesday\n",
        "  - Semester: 2nd semester of academic year 2023\n",
        "    - from February 2024 to June 2024\n",
        "  - Course web page: https://s3b.astro.ncu.edu.tw/appy_202402/\n",
        "  - GitHub repository: https://github.com/kinoshitadaisuke/ncu_doing_astrophysics_using_python_202402\n"
      ],
      "metadata": {
        "id": "gGzI83b9PmnI"
      }
    },
    {
      "cell_type": "markdown",
      "source": [
        "# Session 14: \"Planetary motion and orbital integration\"\n",
        "\n",
        "## 21 May 2024\n",
        "\n",
        "## Instructor: Kinoshita Daisuke"
      ],
      "metadata": {
        "id": "Q7MvlbrC_tne"
      }
    },
    {
      "cell_type": "markdown",
      "source": [
        "# 0. Installation of Python interpreter"
      ],
      "metadata": {
        "id": "T_y7rto6Q5P8"
      }
    },
    {
      "cell_type": "code",
      "source": [
        "# Run this cell to install Python 3.12\n",
        "\n",
        "!apt update\n",
        "!apt upgrade\n",
        "!apt install python3.12 python3.12-dev python3.12-distutils libpython3.12-dev\n",
        "!update-alternatives --install /usr/bin/python3 python3 /usr/bin/python3.12 1\n",
        "!wget https://bootstrap.pypa.io/get-pip.py\n",
        "!python3.12 get-pip.py"
      ],
      "metadata": {
        "id": "MzmVLkC8QyGZ"
      },
      "execution_count": null,
      "outputs": []
    },
    {
      "cell_type": "code",
      "source": [
        "# Run this cell to check the version of Python interpreter and pip command\n",
        "\n",
        "!python --version\n",
        "!pip --version"
      ],
      "metadata": {
        "id": "Vx-JYTyp3NMU"
      },
      "execution_count": null,
      "outputs": []
    },
    {
      "cell_type": "code",
      "source": [
        "# Run this cell to install external Python packages.\n",
        "\n",
        "!pip install matplotlib numpy scipy astropy astroquery importlib_metadata rebound Pillow"
      ],
      "metadata": {
        "id": "7V5dCLx5F9QU"
      },
      "execution_count": null,
      "outputs": []
    },
    {
      "cell_type": "markdown",
      "source": [
        "# 1. Downloading a set of sample Python scripts for this course"
      ],
      "metadata": {
        "id": "zvKZRFoF8A8k"
      }
    },
    {
      "cell_type": "code",
      "source": [
        "# Run this cell to download a set of sample Python scripts for this course.\n",
        "\n",
        "!git clone https://github.com/kinoshitadaisuke/ncu_doing_astrophysics_using_python_202402.git"
      ],
      "metadata": {
        "id": "itsUqwak4-z4"
      },
      "execution_count": null,
      "outputs": []
    },
    {
      "cell_type": "code",
      "source": [
        "# Run this cell to move to the directory for this session.\n",
        "\n",
        "%cd ncu_doing_astrophysics_using_python_202402/s14"
      ],
      "metadata": {
        "id": "bREyxIP08RZG"
      },
      "execution_count": null,
      "outputs": []
    },
    {
      "cell_type": "code",
      "source": [
        "# Run this cell to show a list of files for this session.\n",
        "\n",
        "!ls"
      ],
      "metadata": {
        "id": "fKxQ_X-D8dRN"
      },
      "execution_count": null,
      "outputs": []
    },
    {
      "cell_type": "markdown",
      "source": [
        "# 2. Availability checks of required Python packages"
      ],
      "metadata": {
        "id": "TdEWWKGd8QaF"
      }
    },
    {
      "cell_type": "code",
      "source": [
        "# Run this cell to show the source code of the script.\n",
        "\n",
        "!cat appy_s14_00_00.py"
      ],
      "metadata": {
        "id": "SNw0PahL8Tyr"
      },
      "execution_count": null,
      "outputs": []
    },
    {
      "cell_type": "code",
      "source": [
        "# Run this cell to execute the script.\n",
        "\n",
        "!python3.12 appy_s14_00_00.py -h"
      ],
      "metadata": {
        "id": "zVoGEpzz8Yg8"
      },
      "execution_count": null,
      "outputs": []
    },
    {
      "cell_type": "code",
      "source": [
        "# Run this cell to execute the script.\n",
        "\n",
        "!python3.12 appy_s14_00_00.py astropy"
      ],
      "metadata": {
        "id": "2JMOoEcP8ejZ"
      },
      "execution_count": null,
      "outputs": []
    },
    {
      "cell_type": "code",
      "source": [
        "# Run this cell to execute the script.\n",
        "\n",
        "!python3.12 appy_s14_00_00.py astroquery rebound"
      ],
      "metadata": {
        "id": "GQrmtiuP8hoT"
      },
      "execution_count": null,
      "outputs": []
    },
    {
      "cell_type": "markdown",
      "source": [
        "# 3. NASA/JPL Horizons system"
      ],
      "metadata": {
        "id": "MObauEA48mPN"
      }
    },
    {
      "cell_type": "markdown",
      "source": [
        "## 3.1 Using NASA/JPL Horizons system\n",
        "\n",
        "Visit following web page to learn about NASA/JPL Horizons system.\n",
        "\n",
        "- https://ssd.jpl.nasa.gov/horizons/"
      ],
      "metadata": {
        "id": "d9p-1rXT8pw1"
      }
    },
    {
      "cell_type": "code",
      "source": [
        "# Run this cell to show the source code of the script.\n",
        "\n",
        "!cat appy_s14_01_00.py"
      ],
      "metadata": {
        "id": "kO6F4DpZ9D9W"
      },
      "execution_count": null,
      "outputs": []
    },
    {
      "cell_type": "code",
      "source": [
        "# Run this cell to execute the script.\n",
        "\n",
        "!python3.12 appy_s14_01_00.py"
      ],
      "metadata": {
        "id": "RauCkS479D9c"
      },
      "execution_count": null,
      "outputs": []
    },
    {
      "cell_type": "code",
      "source": [
        "# Run this cell to show the source code of the script.\n",
        "\n",
        "!cat appy_s14_01_01.py"
      ],
      "metadata": {
        "id": "CD6gU-Ga9JyA"
      },
      "execution_count": null,
      "outputs": []
    },
    {
      "cell_type": "code",
      "source": [
        "# Run this cell to execute the script.\n",
        "\n",
        "!python3.12 appy_s14_01_01.py"
      ],
      "metadata": {
        "id": "Cn52PWxX9JyC"
      },
      "execution_count": null,
      "outputs": []
    },
    {
      "cell_type": "code",
      "source": [
        "# Run this cell to show the source code of the script.\n",
        "\n",
        "!cat appy_s14_01_02.py"
      ],
      "metadata": {
        "id": "tEJGXanb9NjI"
      },
      "execution_count": null,
      "outputs": []
    },
    {
      "cell_type": "code",
      "source": [
        "# Run this cell to execute the script.\n",
        "\n",
        "!python3.12 appy_s14_01_02.py"
      ],
      "metadata": {
        "id": "OqdpR0sm9NjJ"
      },
      "execution_count": null,
      "outputs": []
    },
    {
      "cell_type": "code",
      "source": [
        "# Run this cell to show the source code of the script.\n",
        "\n",
        "!cat appy_s14_01_03.py"
      ],
      "metadata": {
        "id": "dvXV9fYP9Ryf"
      },
      "execution_count": null,
      "outputs": []
    },
    {
      "cell_type": "code",
      "source": [
        "# Run this cell to execute the script.\n",
        "\n",
        "!python3.12 appy_s14_01_03.py"
      ],
      "metadata": {
        "id": "nH7jWJEG9Ryg"
      },
      "execution_count": null,
      "outputs": []
    },
    {
      "cell_type": "markdown",
      "source": [
        "## 3.2 Retrieving position of a solar system object"
      ],
      "metadata": {
        "id": "nQrVuikn9WMm"
      }
    },
    {
      "cell_type": "code",
      "source": [
        "# Run this cell to show the source code of the script.\n",
        "\n",
        "!cat appy_s14_01_04.py"
      ],
      "metadata": {
        "id": "Sqfquabo9cSO"
      },
      "execution_count": null,
      "outputs": []
    },
    {
      "cell_type": "code",
      "source": [
        "# Run this cell to execute the script.\n",
        "\n",
        "!python3.12 appy_s14_01_04.py -h"
      ],
      "metadata": {
        "id": "38sd3ooF9cSP"
      },
      "execution_count": null,
      "outputs": []
    },
    {
      "cell_type": "code",
      "source": [
        "# Run this cell to execute the script.\n",
        "\n",
        "!python3.12 appy_s14_01_04.py -t 2024-06-21T04:00:00 -o D35 Sun"
      ],
      "metadata": {
        "id": "ecZ2LnIp9fFg"
      },
      "execution_count": null,
      "outputs": []
    },
    {
      "cell_type": "code",
      "source": [
        "# Run this cell to execute the script.\n",
        "\n",
        "!python3.12 appy_s14_01_04.py -t 2024-12-21T04:00:00 -o D35 Sun"
      ],
      "metadata": {
        "id": "uw_92NWt9nQF"
      },
      "execution_count": null,
      "outputs": []
    },
    {
      "cell_type": "code",
      "source": [
        "# Run this cell to execute the script.\n",
        "\n",
        "!python3.12 appy_s14_01_04.py -t 2024-08-01T10:00:00 -o 568 Saturn"
      ],
      "metadata": {
        "id": "HkBNQH0N9tMO"
      },
      "execution_count": null,
      "outputs": []
    },
    {
      "cell_type": "code",
      "source": [
        "# Run this cell to execute the script.\n",
        "\n",
        "!python3.12 appy_s14_01_04.py -t 2024-08-01T10:00:00 -o 568 699"
      ],
      "metadata": {
        "id": "G8oaYYUz9xRW"
      },
      "execution_count": null,
      "outputs": []
    },
    {
      "cell_type": "code",
      "source": [
        "# Run this cell to execute the script.\n",
        "\n",
        "!python3.12 appy_s14_01_04.py -t 2024-08-01T00:00:00 -o 309 Wingip"
      ],
      "metadata": {
        "id": "zyNFVNEV98R-"
      },
      "execution_count": null,
      "outputs": []
    },
    {
      "cell_type": "markdown",
      "source": [
        "## 3.3 Retrieving positions of a target object at multiple epochs"
      ],
      "metadata": {
        "id": "TsEI3gbS-DLQ"
      }
    },
    {
      "cell_type": "code",
      "source": [
        "# Run this cell to show the source code of the script.\n",
        "\n",
        "!cat appy_s14_01_05.py"
      ],
      "metadata": {
        "id": "B3cTN_Wt-JXm"
      },
      "execution_count": null,
      "outputs": []
    },
    {
      "cell_type": "code",
      "source": [
        "# Run this cell to execute the script.\n",
        "\n",
        "!python3.12 appy_s14_01_05.py -h"
      ],
      "metadata": {
        "id": "X-QM2Gcd-JXn"
      },
      "execution_count": null,
      "outputs": []
    },
    {
      "cell_type": "code",
      "source": [
        "# Run this cell to execute the script.\n",
        "\n",
        "!python3.12 appy_s14_01_05.py -t 2024-09-15T04:00:00 -l 10 -d 24 -o D35 Sun"
      ],
      "metadata": {
        "id": "uf7wLi1m-NhY"
      },
      "execution_count": null,
      "outputs": []
    },
    {
      "cell_type": "code",
      "source": [
        "# Run this cell to execute the script.\n",
        "\n",
        "!python3.12 appy_s14_01_05.py -t 2024-07-01T04:00:00 -l 0.5 -d 1 -o D35 299"
      ],
      "metadata": {
        "id": "Akb24d0c-S_b"
      },
      "execution_count": null,
      "outputs": []
    },
    {
      "cell_type": "code",
      "source": [
        "# Run this cell to execute the script.\n",
        "\n",
        "!python3.12 appy_s14_01_05.py -t 2024-08-01T22:00:00 -l 0.5 -d 1 -o 304 Ceres"
      ],
      "metadata": {
        "id": "mhNCJRI1-b9m"
      },
      "execution_count": null,
      "outputs": []
    },
    {
      "cell_type": "code",
      "source": [
        "# Run this cell to execute the script.\n",
        "\n",
        "!python3.12 appy_s14_01_05.py -t 2024-10-01T01:00:00 -l 0.5 -d 2 -o 695 Sylvia"
      ],
      "metadata": {
        "id": "Gzy7ElE8-klg"
      },
      "execution_count": null,
      "outputs": []
    },
    {
      "cell_type": "code",
      "source": [
        "# Run this cell to execute the script.\n",
        "\n",
        "!python3.12 appy_s14_01_05.py -t 2024-08-01T12:00:00 -l 0.25 -d 2 -o 413 Iris"
      ],
      "metadata": {
        "id": "R7TnFAPW-r-A"
      },
      "execution_count": null,
      "outputs": []
    },
    {
      "cell_type": "code",
      "source": [
        "# Run this cell to execute the script.\n",
        "\n",
        "!python3.12 appy_s14_01_05.py -t 2024-08-01T12:00:00 -l 0.25 -d 2 -o 413 7"
      ],
      "metadata": {
        "id": "DVkaG6E2-1P3"
      },
      "execution_count": null,
      "outputs": []
    },
    {
      "cell_type": "code",
      "source": [
        "# Run this cell to execute the script.\n",
        "\n",
        "!python3.12 appy_s14_01_05.py -t 2024-08-01T12:00:00 -l 0.25 -d 2 -o 413 \"7;\""
      ],
      "metadata": {
        "id": "TyV3Aicq_BS9"
      },
      "execution_count": null,
      "outputs": []
    },
    {
      "cell_type": "code",
      "source": [
        "# Run this cell to execute the script.\n",
        "\n",
        "!python3.12 appy_s14_01_05.py -t 2024-08-01T12:00:00 -l 0.25 -d 2 -o 413 -m smallbody 7"
      ],
      "metadata": {
        "id": "LPSK5R2__GkQ"
      },
      "execution_count": null,
      "outputs": []
    },
    {
      "cell_type": "code",
      "source": [
        "# Run this cell to execute the script.\n",
        "\n",
        "!python3.12 appy_s14_01_05.py -t 2025-01-01T18:00:00 -l 0.5 -d 4 -o 000 1P"
      ],
      "metadata": {
        "id": "x-q5lGUi_LPv"
      },
      "execution_count": null,
      "outputs": []
    },
    {
      "cell_type": "code",
      "source": [
        "# Run this cell to execute the script.\n",
        "\n",
        "!python3.12 appy_s14_01_05.py -t 2025-01-01T18:00:00 -l 0.5 -d 4 -o 000 90000030"
      ],
      "metadata": {
        "id": "-feDs10i_PaH"
      },
      "execution_count": null,
      "outputs": []
    },
    {
      "cell_type": "code",
      "source": [
        "# Run this cell to execute the script.\n",
        "\n",
        "!python3.12 appy_s14_01_05.py -t 2025-01-01T18:00:00 -l 0.5 -d 4 -o 000 \"DES=1P; CAP;\""
      ],
      "metadata": {
        "id": "KFnZC34w_UfX"
      },
      "execution_count": null,
      "outputs": []
    },
    {
      "cell_type": "code",
      "source": [
        "# Run this cell to execute the script.\n",
        "\n",
        "!python3.12 appy_s14_01_05.py -t 2025-01-01T18:00:00 -l 0.5 -d 4 -o 000 \"NAME=Halley; CAP;\""
      ],
      "metadata": {
        "id": "XrWTkX1T_YFS"
      },
      "execution_count": null,
      "outputs": []
    },
    {
      "cell_type": "markdown",
      "source": [
        "## 3.4 Retrieving orbital elements of a target body"
      ],
      "metadata": {
        "id": "yr0pOyZd_cHO"
      }
    },
    {
      "cell_type": "code",
      "source": [
        "# Run this cell to show the source code of the script.\n",
        "\n",
        "!cat appy_s14_01_06.py"
      ],
      "metadata": {
        "id": "MbeyrJ2V_i2A"
      },
      "execution_count": null,
      "outputs": []
    },
    {
      "cell_type": "code",
      "source": [
        "# Run this cell to execute the script.\n",
        "\n",
        "!python3.12 appy_s14_01_06.py -h"
      ],
      "metadata": {
        "id": "misjtHQk_i2F"
      },
      "execution_count": null,
      "outputs": []
    },
    {
      "cell_type": "code",
      "source": [
        "# Run this cell to execute the script.\n",
        "\n",
        "!python3.12 appy_s14_01_06.py -t 2024-07-01T00:00:00 Neptune"
      ],
      "metadata": {
        "id": "9OO1Jdvr_n9Q"
      },
      "execution_count": null,
      "outputs": []
    },
    {
      "cell_type": "code",
      "source": [
        "# Run this cell to execute the script.\n",
        "\n",
        "!python3.12 appy_s14_01_06.py -t 2024-07-01T00:00:00 899"
      ],
      "metadata": {
        "id": "NgZR-B74_tLp"
      },
      "execution_count": null,
      "outputs": []
    },
    {
      "cell_type": "code",
      "source": [
        "# Run this cell to show the source code of the script.\n",
        "\n",
        "!cat appy_s14_01_07.py"
      ],
      "metadata": {
        "id": "Gcd3Aslg_1Sx"
      },
      "execution_count": null,
      "outputs": []
    },
    {
      "cell_type": "code",
      "source": [
        "# Run this cell to execute the script.\n",
        "\n",
        "!python3.12 appy_s14_01_07.py -h"
      ],
      "metadata": {
        "id": "LJei9yvv_1Sy"
      },
      "execution_count": null,
      "outputs": []
    },
    {
      "cell_type": "code",
      "source": [
        "# Run this cell to execute the script.\n",
        "\n",
        "!python3.12 appy_s14_01_07.py -t 2024-07-01T00:00:00 899"
      ],
      "metadata": {
        "id": "pWyMWly2_36h"
      },
      "execution_count": null,
      "outputs": []
    },
    {
      "cell_type": "code",
      "source": [
        "# Run this cell to show the source code of the script.\n",
        "\n",
        "!cat appy_s14_01_08.py"
      ],
      "metadata": {
        "id": "EzBDKy7X_8Zl"
      },
      "execution_count": null,
      "outputs": []
    },
    {
      "cell_type": "code",
      "source": [
        "# Run this cell to execute the script.\n",
        "\n",
        "!python3.12 appy_s14_01_08.py -h"
      ],
      "metadata": {
        "id": "7lShMRNJ_8Zp"
      },
      "execution_count": null,
      "outputs": []
    },
    {
      "cell_type": "code",
      "source": [
        "# Run this cell to execute the script.\n",
        "\n",
        "!python3.12 appy_s14_01_08.py -t 2024-07-01T00:00:00 899"
      ],
      "metadata": {
        "id": "3A05__3q_8Zr"
      },
      "execution_count": null,
      "outputs": []
    },
    {
      "cell_type": "code",
      "source": [
        "# Run this cell to execute the script.\n",
        "\n",
        "!python3.12 appy_s14_01_08.py -t 2024-07-01T00:00:00 588"
      ],
      "metadata": {
        "id": "Q2dO8bjiAFTZ"
      },
      "execution_count": null,
      "outputs": []
    },
    {
      "cell_type": "code",
      "source": [
        "# Run this cell to execute the script.\n",
        "\n",
        "!python3.12 appy_s14_01_08.py -t 2024-07-01T00:00:00 \"NAME=Halley; CAP;\""
      ],
      "metadata": {
        "id": "LUXIAzdYAJxx"
      },
      "execution_count": null,
      "outputs": []
    },
    {
      "cell_type": "markdown",
      "source": [
        "## 3.5 Retrieving state vector of a target body"
      ],
      "metadata": {
        "id": "CF6Wep8EAOKz"
      }
    },
    {
      "cell_type": "code",
      "source": [
        "# Run this cell to show the source code of the script.\n",
        "\n",
        "!cat appy_s14_01_09.py"
      ],
      "metadata": {
        "id": "6jbzNBq8ATbr"
      },
      "execution_count": null,
      "outputs": []
    },
    {
      "cell_type": "code",
      "source": [
        "# Run this cell to execute the script.\n",
        "\n",
        "!python3.12 appy_s14_01_09.py -h"
      ],
      "metadata": {
        "id": "izlSfNGsATbt"
      },
      "execution_count": null,
      "outputs": []
    },
    {
      "cell_type": "code",
      "source": [
        "# Run this cell to execute the script.\n",
        "\n",
        "!python3.12 appy_s14_01_09.py -t 2024-07-01T00:00:00 Uranus"
      ],
      "metadata": {
        "id": "68OnZREUAWdx"
      },
      "execution_count": null,
      "outputs": []
    },
    {
      "cell_type": "code",
      "source": [
        "# Run this cell to execute the script.\n",
        "\n",
        "!python3.12 appy_s14_01_09.py -t 2024-07-01T00:00:00 799"
      ],
      "metadata": {
        "id": "epKn9t99AanL"
      },
      "execution_count": null,
      "outputs": []
    },
    {
      "cell_type": "code",
      "source": [
        "# Run this cell to show the source code of the script.\n",
        "\n",
        "!cat appy_s14_01_10.py"
      ],
      "metadata": {
        "id": "E1m5T4G5AgUi"
      },
      "execution_count": null,
      "outputs": []
    },
    {
      "cell_type": "code",
      "source": [
        "# Run this cell to execute the script.\n",
        "\n",
        "!python3.12 appy_s14_01_10.py -h"
      ],
      "metadata": {
        "id": "azqvWdrWAgUn"
      },
      "execution_count": null,
      "outputs": []
    },
    {
      "cell_type": "code",
      "source": [
        "# Run this cell to execute the script.\n",
        "\n",
        "!python3.12 appy_s14_01_10.py -t 2024-07-01T00:00:00 799"
      ],
      "metadata": {
        "id": "iTmPLIbBAkix"
      },
      "execution_count": null,
      "outputs": []
    },
    {
      "cell_type": "code",
      "source": [
        "# Run this cell to show the source code of the script.\n",
        "\n",
        "!cat appy_s14_01_11.py"
      ],
      "metadata": {
        "id": "BQWK56n4Anra"
      },
      "execution_count": null,
      "outputs": []
    },
    {
      "cell_type": "code",
      "source": [
        "# Run this cell to execute the script.\n",
        "\n",
        "!python3.12 appy_s14_01_11.py -h"
      ],
      "metadata": {
        "id": "gezq4z4lAnra"
      },
      "execution_count": null,
      "outputs": []
    },
    {
      "cell_type": "code",
      "source": [
        "# Run this cell to execute the script.\n",
        "\n",
        "!python3.12 appy_s14_01_11.py -t 2024-07-01T00:00:00 799"
      ],
      "metadata": {
        "id": "nOoNjAn-Anrb"
      },
      "execution_count": null,
      "outputs": []
    },
    {
      "cell_type": "code",
      "source": [
        "# Run this cell to execute the script.\n",
        "\n",
        "!python3.12 appy_s14_01_11.py -t 2024-07-01T00:00:00 Pluto"
      ],
      "metadata": {
        "id": "AihnLpgiA5sa"
      },
      "execution_count": null,
      "outputs": []
    },
    {
      "cell_type": "code",
      "source": [
        "# Run this cell to execute the script.\n",
        "\n",
        "!python3.12 appy_s14_01_11.py -t 2024-07-01T00:00:00 999"
      ],
      "metadata": {
        "id": "BNZ4rEgBA-dK"
      },
      "execution_count": null,
      "outputs": []
    },
    {
      "cell_type": "code",
      "source": [
        "# Run this cell to execute the script.\n",
        "\n",
        "!python3.12 appy_s14_01_11.py -t 2024-07-01T00:00:00 Kleopatra"
      ],
      "metadata": {
        "id": "OTYDUizbBCOO"
      },
      "execution_count": null,
      "outputs": []
    },
    {
      "cell_type": "code",
      "source": [
        "# Run this cell to execute the script.\n",
        "\n",
        "!python3.12 appy_s14_01_11.py -t 2024-07-01T00:00:00 \"NAME=Halley; CAP;\""
      ],
      "metadata": {
        "id": "S_vhdwJ7BFxa"
      },
      "execution_count": null,
      "outputs": []
    },
    {
      "cell_type": "markdown",
      "source": [
        "# 4. Playing with Horizons system"
      ],
      "metadata": {
        "id": "9ngGjSo6BJ8U"
      }
    },
    {
      "cell_type": "markdown",
      "source": [
        "## 4.1 Distance between Earth and Mars"
      ],
      "metadata": {
        "id": "97j7DpMQBOPR"
      }
    },
    {
      "cell_type": "code",
      "source": [
        "# Run this cell to show the source code of the script.\n",
        "\n",
        "!cat appy_s14_02_00.py"
      ],
      "metadata": {
        "id": "QyOdNtFGBVvl"
      },
      "execution_count": null,
      "outputs": []
    },
    {
      "cell_type": "code",
      "source": [
        "# Run this cell to execute the script.\n",
        "\n",
        "!python3.12 appy_s14_02_00.py"
      ],
      "metadata": {
        "id": "cfqWiuIaBVvn"
      },
      "execution_count": null,
      "outputs": []
    },
    {
      "cell_type": "code",
      "source": [
        "# Run this cell to display PNG image.\n",
        "\n",
        "# importing IPython.display module\n",
        "import IPython.display\n",
        "\n",
        "# displaying PNG file\n",
        "IPython.display.Image ('appy_s14_02_00.png')"
      ],
      "metadata": {
        "id": "l_1yBzzxfyW2"
      },
      "execution_count": null,
      "outputs": []
    },
    {
      "cell_type": "markdown",
      "source": [
        "## 4.2 Distance between Jupiter and Jovian Trojan asteroid (624) Hektor"
      ],
      "metadata": {
        "id": "ZlJ9R12EBp1s"
      }
    },
    {
      "cell_type": "code",
      "source": [
        "# Run this cell to show the source code of the script.\n",
        "\n",
        "!cat appy_s14_02_01.py"
      ],
      "metadata": {
        "id": "gZnkt96XBxhN"
      },
      "execution_count": null,
      "outputs": []
    },
    {
      "cell_type": "code",
      "source": [
        "# Run this cell to execute the script.\n",
        "\n",
        "!python3.12 appy_s14_02_01.py"
      ],
      "metadata": {
        "id": "qnv9egkGBxhP"
      },
      "execution_count": null,
      "outputs": []
    },
    {
      "cell_type": "code",
      "source": [
        "# Run this cell to display PNG image.\n",
        "\n",
        "# importing IPython.display module\n",
        "import IPython.display\n",
        "\n",
        "# displaying PNG file\n",
        "IPython.display.Image ('appy_s14_02_01.png')"
      ],
      "metadata": {
        "id": "3NIyDDn9BxhQ"
      },
      "execution_count": null,
      "outputs": []
    },
    {
      "cell_type": "markdown",
      "source": [
        "## 4.3 Distance between Neptune and Pluto"
      ],
      "metadata": {
        "id": "MS-5ZxK4B5H0"
      }
    },
    {
      "cell_type": "code",
      "source": [
        "# Run this cell to show the source code of the script.\n",
        "\n",
        "!cat appy_s14_02_02.py"
      ],
      "metadata": {
        "id": "k5_gjcqjB9o9"
      },
      "execution_count": null,
      "outputs": []
    },
    {
      "cell_type": "code",
      "source": [
        "# Run this cell to execute the script.\n",
        "\n",
        "!python3.12 appy_s14_02_02.py"
      ],
      "metadata": {
        "id": "AqWDsyEBB9o_"
      },
      "execution_count": null,
      "outputs": []
    },
    {
      "cell_type": "code",
      "source": [
        "# Run this cell to display PNG image.\n",
        "\n",
        "# importing IPython.display module\n",
        "import IPython.display\n",
        "\n",
        "# displaying PNG file\n",
        "IPython.display.Image ('appy_s14_02_02.png')"
      ],
      "metadata": {
        "id": "H7FOx4uCB9pA"
      },
      "execution_count": null,
      "outputs": []
    },
    {
      "cell_type": "markdown",
      "source": [
        "## 4.4 Visualising positions of the Sun and planets"
      ],
      "metadata": {
        "id": "rDYtcA0QCFVt"
      }
    },
    {
      "cell_type": "code",
      "source": [
        "# Run this cell to show the source code of the script.\n",
        "\n",
        "!cat appy_s14_02_03.py"
      ],
      "metadata": {
        "id": "-1CFnIv1CKLe"
      },
      "execution_count": null,
      "outputs": []
    },
    {
      "cell_type": "code",
      "source": [
        "# Run this cell to execute the script.\n",
        "\n",
        "!python3.12 appy_s14_02_03.py"
      ],
      "metadata": {
        "id": "TKwCeh05CKLf"
      },
      "execution_count": null,
      "outputs": []
    },
    {
      "cell_type": "code",
      "source": [
        "# Run this cell to show the source code of the script.\n",
        "\n",
        "!cat appy_s14_02_04.py"
      ],
      "metadata": {
        "id": "v-iz30BACSAU"
      },
      "execution_count": null,
      "outputs": []
    },
    {
      "cell_type": "code",
      "source": [
        "# Run this cell to execute the script.\n",
        "\n",
        "!python3.12 appy_s14_02_04.py"
      ],
      "metadata": {
        "id": "WTwzK30-CSAW"
      },
      "execution_count": null,
      "outputs": []
    },
    {
      "cell_type": "code",
      "source": [
        "# Run this cell to display PNG image.\n",
        "\n",
        "# importing IPython.display module\n",
        "import IPython.display\n",
        "\n",
        "# displaying PNG file\n",
        "IPython.display.Image ('appy_s14_02_04.png')"
      ],
      "metadata": {
        "id": "oUHcS70nCKLg"
      },
      "execution_count": null,
      "outputs": []
    },
    {
      "cell_type": "code",
      "source": [
        "# Run this cell to show the source code of the script.\n",
        "\n",
        "!cat appy_s14_02_05.py"
      ],
      "metadata": {
        "id": "2ulkuIx2CbUv"
      },
      "execution_count": null,
      "outputs": []
    },
    {
      "cell_type": "code",
      "source": [
        "# Run this cell to execute the script.\n",
        "\n",
        "!python3.12 appy_s14_02_05.py"
      ],
      "metadata": {
        "id": "6qCLzmZmCbU0"
      },
      "execution_count": null,
      "outputs": []
    },
    {
      "cell_type": "code",
      "source": [
        "# Run this cell to display PNG image.\n",
        "\n",
        "# importing IPython.display module\n",
        "import IPython.display\n",
        "\n",
        "# displaying PNG file\n",
        "IPython.display.Image ('appy_s14_02_05.png')"
      ],
      "metadata": {
        "id": "hakWhpSECbU1"
      },
      "execution_count": null,
      "outputs": []
    },
    {
      "cell_type": "markdown",
      "source": [
        "## 4.5 Visualising locations of 500 asteroids"
      ],
      "metadata": {
        "id": "zAeDeYH-DAen"
      }
    },
    {
      "cell_type": "code",
      "source": [
        "# Run this cell to show the source code of the script.\n",
        "\n",
        "!cat appy_s14_02_06.py"
      ],
      "metadata": {
        "id": "ZU8VFpSKDIxu"
      },
      "execution_count": null,
      "outputs": []
    },
    {
      "cell_type": "code",
      "source": [
        "# Run this cell to execute the script.\n",
        "\n",
        "!python3.12 appy_s14_02_06.py"
      ],
      "metadata": {
        "id": "dHA77aHUDIxw"
      },
      "execution_count": null,
      "outputs": []
    },
    {
      "cell_type": "code",
      "source": [
        "# Run this cell to display PNG image.\n",
        "\n",
        "# importing IPython.display module\n",
        "import IPython.display\n",
        "\n",
        "# displaying PNG file\n",
        "IPython.display.Image ('appy_s14_02_06.png')"
      ],
      "metadata": {
        "id": "KeuoKeaQDIxy"
      },
      "execution_count": null,
      "outputs": []
    },
    {
      "cell_type": "markdown",
      "source": [
        "## 4.6 Edge-on view of inner solar system"
      ],
      "metadata": {
        "id": "alwLpafpD3Uv"
      }
    },
    {
      "cell_type": "code",
      "source": [
        "# Run this cell to show the source code of the script.\n",
        "\n",
        "!cat appy_s14_02_07.py"
      ],
      "metadata": {
        "id": "wY4TXIGgD7pR"
      },
      "execution_count": null,
      "outputs": []
    },
    {
      "cell_type": "code",
      "source": [
        "# Run this cell to execute the script.\n",
        "\n",
        "!python3.12 appy_s14_02_07.py"
      ],
      "metadata": {
        "id": "i7EvURmmD7pT"
      },
      "execution_count": null,
      "outputs": []
    },
    {
      "cell_type": "code",
      "source": [
        "# Run this cell to display PNG image.\n",
        "\n",
        "# importing IPython.display module\n",
        "import IPython.display\n",
        "\n",
        "# displaying PNG file\n",
        "IPython.display.Image ('appy_s14_02_07.png')"
      ],
      "metadata": {
        "id": "g5ODqjnlD7pU"
      },
      "execution_count": null,
      "outputs": []
    },
    {
      "cell_type": "markdown",
      "source": [
        "# 5. Orbital integration using Rebound package"
      ],
      "metadata": {
        "id": "PYTm9pZyEKYp"
      }
    },
    {
      "cell_type": "markdown",
      "source": [
        "## 5.1 Setting up a simulation and saving it to a file"
      ],
      "metadata": {
        "id": "SyJHoxA9EPWf"
      }
    },
    {
      "cell_type": "code",
      "source": [
        "# Run this cell to show the source code of the script.\n",
        "\n",
        "!cat appy_s14_03_00.py"
      ],
      "metadata": {
        "id": "XgSnSy9yETI-"
      },
      "execution_count": null,
      "outputs": []
    },
    {
      "cell_type": "code",
      "source": [
        "# Run this cell to execute the script.\n",
        "\n",
        "!python3.12 appy_s14_03_00.py"
      ],
      "metadata": {
        "id": "KmMdw_icETJA"
      },
      "execution_count": null,
      "outputs": []
    },
    {
      "cell_type": "code",
      "source": [
        "# Run this cell to find newly created file.\n",
        "\n",
        "!ls -lF *.bin"
      ],
      "metadata": {
        "id": "NFFDPzDe8dT0"
      },
      "execution_count": null,
      "outputs": []
    },
    {
      "cell_type": "markdown",
      "source": [
        "## 5.2 Reading a simulation from a file"
      ],
      "metadata": {
        "id": "eAnUQiIiEdTn"
      }
    },
    {
      "cell_type": "code",
      "source": [
        "# Run this cell to show the source code of the script.\n",
        "\n",
        "!cat appy_s14_03_01.py"
      ],
      "metadata": {
        "id": "XvdoKKeQEhE3"
      },
      "execution_count": null,
      "outputs": []
    },
    {
      "cell_type": "code",
      "source": [
        "# Run this cell to execute the script.\n",
        "\n",
        "!python3.12 appy_s14_03_01.py"
      ],
      "metadata": {
        "id": "ZV8Y2M1QEhE4"
      },
      "execution_count": null,
      "outputs": []
    },
    {
      "cell_type": "markdown",
      "source": [
        "## 5.3 Carrying out orbital integration"
      ],
      "metadata": {
        "id": "v2nqMq0sEk9o"
      }
    },
    {
      "cell_type": "code",
      "source": [
        "# Run this cell to show the source code of the script.\n",
        "\n",
        "!cat appy_s14_03_02.py"
      ],
      "metadata": {
        "id": "zu9ODljuEpOJ"
      },
      "execution_count": null,
      "outputs": []
    },
    {
      "cell_type": "code",
      "source": [
        "# Run this cell to execute the script.\n",
        "\n",
        "!python3.12 appy_s14_03_02.py"
      ],
      "metadata": {
        "id": "kT-FNY5HEpOL"
      },
      "execution_count": null,
      "outputs": []
    },
    {
      "cell_type": "code",
      "source": [
        "# Run this cell to find newly created file.\n",
        "\n",
        "!ls -lF *.data"
      ],
      "metadata": {
        "id": "v0DRjaGrEt_P"
      },
      "execution_count": null,
      "outputs": []
    },
    {
      "cell_type": "code",
      "source": [
        "# Run this cell to print first 20 lines of newly created file.\n",
        "\n",
        "!head -20 star_planet.data"
      ],
      "metadata": {
        "id": "cSdpKhebEwgX"
      },
      "execution_count": null,
      "outputs": []
    },
    {
      "cell_type": "markdown",
      "source": [
        "## 5.4 Visualising results of orbital integration"
      ],
      "metadata": {
        "id": "8UoqRPfcE4X3"
      }
    },
    {
      "cell_type": "code",
      "source": [
        "# Run this cell to show the source code of the script.\n",
        "\n",
        "!cat appy_s14_03_03.py"
      ],
      "metadata": {
        "id": "QuZYxT6fE8dm"
      },
      "execution_count": null,
      "outputs": []
    },
    {
      "cell_type": "code",
      "source": [
        "# Run this cell to execute the script.\n",
        "\n",
        "!python3.12 appy_s14_03_03.py"
      ],
      "metadata": {
        "id": "R3_YoWBTE8do"
      },
      "execution_count": null,
      "outputs": []
    },
    {
      "cell_type": "code",
      "source": [
        "# Run this cell to find newly created files.\n",
        "\n",
        "!ls -lF star_planet"
      ],
      "metadata": {
        "id": "fwThpSanEaDu"
      },
      "execution_count": null,
      "outputs": []
    },
    {
      "cell_type": "code",
      "source": [
        "# Run this cell to display PNG image.\n",
        "\n",
        "# importing IPython.display module\n",
        "import IPython.display\n",
        "\n",
        "# displaying PNG file\n",
        "IPython.display.Image ('star_planet/star_planet_00000000.png')"
      ],
      "metadata": {
        "id": "RMxEYHvNGAQq"
      },
      "execution_count": null,
      "outputs": []
    },
    {
      "cell_type": "markdown",
      "source": [
        "## 5.5 Making a movie file"
      ],
      "metadata": {
        "id": "dFzQ0tXBGJDZ"
      }
    },
    {
      "cell_type": "code",
      "source": [
        "# Run this cell to show the source code of the script.\n",
        "\n",
        "!cat appy_s14_03_04.py"
      ],
      "metadata": {
        "id": "5oBr-aTtGLrB"
      },
      "execution_count": null,
      "outputs": []
    },
    {
      "cell_type": "code",
      "source": [
        "# Run this cell to execute the script.\n",
        "\n",
        "!python3.12 appy_s14_03_04.py"
      ],
      "metadata": {
        "id": "4HRCzFWHGLrC"
      },
      "execution_count": null,
      "outputs": []
    },
    {
      "cell_type": "code",
      "source": [
        "# Run this cell to find newly created file.\n",
        "\n",
        "!ls -lF *.mp4"
      ],
      "metadata": {
        "id": "MjHjiDQxGZIK"
      },
      "execution_count": null,
      "outputs": []
    },
    {
      "cell_type": "code",
      "source": [
        "# Playing MP4 movie file\n",
        "\n",
        "# importing IPython.display\n",
        "import IPython.display\n",
        "\n",
        "# playing MP4 movie file\n",
        "IPython.display.Video ('star_planet.mp4')"
      ],
      "metadata": {
        "id": "YEJWn7lE-cWx"
      },
      "execution_count": null,
      "outputs": []
    },
    {
      "cell_type": "code",
      "source": [
        "# Downloading MP4 movie file to local computer\n",
        "\n",
        "#\n",
        "# If previous cell fails to play MP4 movie, then download MP4 movie file to your local computer and play the movie file on your local computer.\n",
        "#\n",
        "\n",
        "# importing google.colab\n",
        "import google.colab.files\n",
        "\n",
        "# downloading MP4 movie file\n",
        "google.colab.files.download ('star_planet.mp4')"
      ],
      "metadata": {
        "id": "uF3z0s346oWu"
      },
      "execution_count": null,
      "outputs": []
    },
    {
      "cell_type": "markdown",
      "source": [
        "# 6. Simulation of a binary system"
      ],
      "metadata": {
        "id": "iaz8XwN6GsK6"
      }
    },
    {
      "cell_type": "markdown",
      "source": [
        "## 6.1 Setting up a simulation"
      ],
      "metadata": {
        "id": "1SpujfAQGurq"
      }
    },
    {
      "cell_type": "code",
      "source": [
        "# Run this cell to show the source code of the script.\n",
        "\n",
        "!cat appy_s14_04_00.py"
      ],
      "metadata": {
        "id": "ES6MGU9AG0XL"
      },
      "execution_count": null,
      "outputs": []
    },
    {
      "cell_type": "code",
      "source": [
        "# Run this cell to execute the script.\n",
        "\n",
        "!python3.12 appy_s14_04_00.py"
      ],
      "metadata": {
        "id": "ioTiF1J6G0XQ"
      },
      "execution_count": null,
      "outputs": []
    },
    {
      "cell_type": "code",
      "source": [
        "# Run this cell to find newly created file.\n",
        "\n",
        "!ls -lF *.bin"
      ],
      "metadata": {
        "id": "3ZKKdC4yG61T"
      },
      "execution_count": null,
      "outputs": []
    },
    {
      "cell_type": "markdown",
      "source": [
        "## 6.2 Carrying out orbital integration"
      ],
      "metadata": {
        "id": "hSoyQRxRG9ha"
      }
    },
    {
      "cell_type": "code",
      "source": [
        "# Run this cell to show the source code of the script.\n",
        "\n",
        "!cat appy_s14_04_01.py"
      ],
      "metadata": {
        "id": "qNe7BepzHBKC"
      },
      "execution_count": null,
      "outputs": []
    },
    {
      "cell_type": "code",
      "source": [
        "# Run this cell to execute the script.\n",
        "\n",
        "!python3.12 appy_s14_04_01.py"
      ],
      "metadata": {
        "id": "Zy9WWBJ9HBKE"
      },
      "execution_count": null,
      "outputs": []
    },
    {
      "cell_type": "code",
      "source": [
        "# Run this cell to find newly created file.\n",
        "\n",
        "!ls -lF *.data"
      ],
      "metadata": {
        "id": "eFJbxU6XHEkK"
      },
      "execution_count": null,
      "outputs": []
    },
    {
      "cell_type": "code",
      "source": [
        "# Run this cell to print first 20 lines of newly created file.\n",
        "\n",
        "!head -20 binary.data"
      ],
      "metadata": {
        "id": "tjBMIU0bHILy"
      },
      "execution_count": null,
      "outputs": []
    },
    {
      "cell_type": "markdown",
      "source": [
        "## 6.3 Visualising results of orbital integration"
      ],
      "metadata": {
        "id": "1eLsahM9HLmS"
      }
    },
    {
      "cell_type": "code",
      "source": [
        "# Run this cell to show the source code of the script.\n",
        "\n",
        "!cat appy_s14_04_02.py"
      ],
      "metadata": {
        "id": "JIy8IppOHQqI"
      },
      "execution_count": null,
      "outputs": []
    },
    {
      "cell_type": "code",
      "source": [
        "# Run this cell to execute the script.\n",
        "\n",
        "!python3.12 appy_s14_04_02.py"
      ],
      "metadata": {
        "id": "xJqkAm1eHQqM"
      },
      "execution_count": null,
      "outputs": []
    },
    {
      "cell_type": "code",
      "source": [
        "# Run this cell to find newly created files.\n",
        "\n",
        "!ls -lF binary"
      ],
      "metadata": {
        "id": "EZZ0gn4YHX7D"
      },
      "execution_count": null,
      "outputs": []
    },
    {
      "cell_type": "code",
      "source": [
        "# Run this cell to display PNG image.\n",
        "\n",
        "# importing IPython.display module\n",
        "import IPython.display\n",
        "\n",
        "# displaying PNG file\n",
        "IPython.display.Image ('binary/binary_00000000.png')"
      ],
      "metadata": {
        "id": "I-cBF7EvHX7E"
      },
      "execution_count": null,
      "outputs": []
    },
    {
      "cell_type": "markdown",
      "source": [
        "## 6.4 Making a movie file"
      ],
      "metadata": {
        "id": "6ww4oM_uIO8O"
      }
    },
    {
      "cell_type": "code",
      "source": [
        "# Run this cell to show the source code of the script.\n",
        "\n",
        "!cat appy_s14_04_03.py"
      ],
      "metadata": {
        "id": "M4_mznHgIN39"
      },
      "execution_count": null,
      "outputs": []
    },
    {
      "cell_type": "code",
      "source": [
        "# Run this cell to execute the script.\n",
        "\n",
        "!python3.12 appy_s14_04_03.py"
      ],
      "metadata": {
        "id": "T37GIn06IN4A"
      },
      "execution_count": null,
      "outputs": []
    },
    {
      "cell_type": "code",
      "source": [
        "# Run this cell to find newly created file.\n",
        "\n",
        "!ls -lF *.mp4"
      ],
      "metadata": {
        "id": "WYcFM10XIN4B"
      },
      "execution_count": null,
      "outputs": []
    },
    {
      "cell_type": "code",
      "source": [
        "# Playing MP4 movie file\n",
        "\n",
        "# importing IPython.display\n",
        "import IPython.display\n",
        "\n",
        "# playing MP4 movie file\n",
        "IPython.display.Video ('binary.mp4')"
      ],
      "metadata": {
        "id": "7bopCc0pIN4B"
      },
      "execution_count": null,
      "outputs": []
    },
    {
      "cell_type": "code",
      "source": [
        "# Downloading MP4 movie file to local computer\n",
        "\n",
        "#\n",
        "# If previous cell fails to play MP4 movie, then download MP4 movie file to your local computer and play the movie file on your local computer.\n",
        "#\n",
        "\n",
        "# importing google.colab\n",
        "import google.colab.files\n",
        "\n",
        "# downloading MP4 movie file\n",
        "google.colab.files.download ('binary.mp4')"
      ],
      "metadata": {
        "id": "NQ5Pk1L0IN4C"
      },
      "execution_count": null,
      "outputs": []
    },
    {
      "cell_type": "markdown",
      "source": [
        "# 7. Orbital motion of comets"
      ],
      "metadata": {
        "id": "fKHinsaqIjoN"
      }
    },
    {
      "cell_type": "markdown",
      "source": [
        "## 7.1 Making a simulation file"
      ],
      "metadata": {
        "id": "_-5_9iLAI6vx"
      }
    },
    {
      "cell_type": "code",
      "source": [
        "# Run this cell to show the source code of the script.\n",
        "\n",
        "!cat appy_s14_05_00.py"
      ],
      "metadata": {
        "id": "8jhQaNZtItBE"
      },
      "execution_count": null,
      "outputs": []
    },
    {
      "cell_type": "code",
      "source": [
        "# Run this cell to execute the script.\n",
        "\n",
        "!python3.12 appy_s14_05_00.py"
      ],
      "metadata": {
        "id": "m_l9NF1eItBJ"
      },
      "execution_count": null,
      "outputs": []
    },
    {
      "cell_type": "code",
      "source": [
        "# Run this cell to find newly created file.\n",
        "\n",
        "!ls -lF *.bin"
      ],
      "metadata": {
        "id": "pejIM-UWI0Td"
      },
      "execution_count": null,
      "outputs": []
    },
    {
      "cell_type": "markdown",
      "source": [
        "## 7.2 Carrying out orbital integration"
      ],
      "metadata": {
        "id": "GGMWRbjLI2nM"
      }
    },
    {
      "cell_type": "code",
      "source": [
        "# Run this cell to show the source code of the script.\n",
        "\n",
        "!cat appy_s14_05_01.py"
      ],
      "metadata": {
        "id": "tTfAAxyeJmIP"
      },
      "execution_count": null,
      "outputs": []
    },
    {
      "cell_type": "code",
      "source": [
        "# Run this cell to execute the script.\n",
        "\n",
        "!python3.12 appy_s14_05_01.py"
      ],
      "metadata": {
        "id": "6jQCd39qJmIR"
      },
      "execution_count": null,
      "outputs": []
    },
    {
      "cell_type": "code",
      "source": [
        "# Run this cell to find newly created file.\n",
        "\n",
        "!ls -lF *.data"
      ],
      "metadata": {
        "id": "O30exDq2JvG-"
      },
      "execution_count": null,
      "outputs": []
    },
    {
      "cell_type": "code",
      "source": [
        "# Run this cell to print first 40 lines of newly created file.\n",
        "\n",
        "!head -40 comets.data | cut -b -80"
      ],
      "metadata": {
        "id": "pOp-HMToJvHD"
      },
      "execution_count": null,
      "outputs": []
    },
    {
      "cell_type": "markdown",
      "source": [
        "## 7.3 Visualising results of orbital integration"
      ],
      "metadata": {
        "id": "3ZNOVlWKJ4rm"
      }
    },
    {
      "cell_type": "code",
      "source": [
        "# Run this cell to show the source code of the script.\n",
        "\n",
        "!cat appy_s14_05_02.py"
      ],
      "metadata": {
        "id": "BKXzYowBJ9jy"
      },
      "execution_count": null,
      "outputs": []
    },
    {
      "cell_type": "code",
      "source": [
        "# Run this cell to execute the script.\n",
        "\n",
        "!python3.12 appy_s14_05_02.py"
      ],
      "metadata": {
        "id": "W9ux5m_wJ9kH"
      },
      "execution_count": null,
      "outputs": []
    },
    {
      "cell_type": "code",
      "source": [
        "# Run this cell to find newly created files.\n",
        "\n",
        "!ls -lF comets"
      ],
      "metadata": {
        "id": "NtnVhF8GZU9P"
      },
      "execution_count": null,
      "outputs": []
    },
    {
      "cell_type": "code",
      "source": [
        "# Run this cell to display PNG image.\n",
        "\n",
        "# importing IPython.display module\n",
        "import IPython.display\n",
        "\n",
        "# displaying PNG file\n",
        "IPython.display.Image ('comets/comets_0000.png')"
      ],
      "metadata": {
        "id": "A30vmrnAKHvO"
      },
      "execution_count": null,
      "outputs": []
    },
    {
      "cell_type": "markdown",
      "source": [
        "## 7.4 Making a movie file"
      ],
      "metadata": {
        "id": "TXgafVvrKNQw"
      }
    },
    {
      "cell_type": "code",
      "source": [
        "# Run this cell to show the source code of the script.\n",
        "\n",
        "!cat appy_s14_05_03.py"
      ],
      "metadata": {
        "id": "pINrD4PKKTe0"
      },
      "execution_count": null,
      "outputs": []
    },
    {
      "cell_type": "code",
      "source": [
        "# Run this cell to execute the script.\n",
        "\n",
        "!python3.12 appy_s14_05_03.py"
      ],
      "metadata": {
        "id": "najRauctKTe6"
      },
      "execution_count": null,
      "outputs": []
    },
    {
      "cell_type": "code",
      "source": [
        "# Run this cell to find newly created file.\n",
        "\n",
        "!ls -lF *.mp4"
      ],
      "metadata": {
        "id": "GNEGezZbKTe9"
      },
      "execution_count": null,
      "outputs": []
    },
    {
      "cell_type": "code",
      "source": [
        "# Playing MP4 movie file\n",
        "\n",
        "# importing IPython.display\n",
        "import IPython.display\n",
        "\n",
        "# playing MP4 movie file\n",
        "IPython.display.Video ('comets.mp4')"
      ],
      "metadata": {
        "id": "4XYh72nuKTfA"
      },
      "execution_count": null,
      "outputs": []
    },
    {
      "cell_type": "code",
      "source": [
        "# Downloading MP4 movie file to local computer\n",
        "\n",
        "#\n",
        "# If previous cell fails to play MP4 movie, then download MP4 movie file to your local computer and play the movie file on your local computer.\n",
        "#\n",
        "\n",
        "# importing google.colab\n",
        "import google.colab.files\n",
        "\n",
        "# downloading MP4 movie file\n",
        "google.colab.files.download ('comets.mp4')"
      ],
      "metadata": {
        "id": "0CAsymW5KTfC"
      },
      "execution_count": null,
      "outputs": []
    },
    {
      "cell_type": "markdown",
      "source": [
        "# 8. Distribution of Jovian Trojan asteroids"
      ],
      "metadata": {
        "id": "iWiidV9SX-6c"
      }
    },
    {
      "cell_type": "markdown",
      "source": [
        "## 8.1 Downloading asteroid orbit database file"
      ],
      "metadata": {
        "id": "aTEV6VfTYJq6"
      }
    },
    {
      "cell_type": "code",
      "source": [
        "# Run this cell to show the source code of the script.\n",
        "\n",
        "!cat appy_s14_06_00.py"
      ],
      "metadata": {
        "id": "m4SicL6jYNsi"
      },
      "execution_count": null,
      "outputs": []
    },
    {
      "cell_type": "code",
      "source": [
        "# Run this cell to execute the script.\n",
        "\n",
        "!python3.12 appy_s14_06_00.py"
      ],
      "metadata": {
        "id": "tp8L9a6vYNsl"
      },
      "execution_count": null,
      "outputs": []
    },
    {
      "cell_type": "code",
      "source": [
        "# Run this cell to find newly downloaded file.\n",
        "\n",
        "!ls -lF MPCORB.DAT.gz"
      ],
      "metadata": {
        "id": "SwcV_qnQYSJH"
      },
      "execution_count": null,
      "outputs": []
    },
    {
      "cell_type": "markdown",
      "source": [
        "## 8.2 Finding Jovian Trojan asteroids"
      ],
      "metadata": {
        "id": "DpBAl1NlYWzD"
      }
    },
    {
      "cell_type": "code",
      "source": [
        "# Run this cell to show the source code of the script.\n",
        "\n",
        "!cat appy_s14_06_01.py"
      ],
      "metadata": {
        "id": "weGA21f9Ya1c"
      },
      "execution_count": null,
      "outputs": []
    },
    {
      "cell_type": "code",
      "source": [
        "# Run this cell to execute the script.\n",
        "\n",
        "!python3.12 appy_s14_06_01.py"
      ],
      "metadata": {
        "id": "NbZomu6ZYa1f"
      },
      "execution_count": null,
      "outputs": []
    },
    {
      "cell_type": "code",
      "source": [
        "# Run this cell to find newly created file.\n",
        "\n",
        "!ls -lF trojan.list"
      ],
      "metadata": {
        "id": "hkZxI9QeYdwq"
      },
      "execution_count": null,
      "outputs": []
    },
    {
      "cell_type": "code",
      "source": [
        "# Run this cell to show first 20 lines of newly created file.\n",
        "\n",
        "!head -20 trojan.list"
      ],
      "metadata": {
        "id": "24PmQMc0Yhkk"
      },
      "execution_count": null,
      "outputs": []
    },
    {
      "cell_type": "markdown",
      "source": [
        "## 8.3 Setting up a simulation"
      ],
      "metadata": {
        "id": "cyf8hyDmYq95"
      }
    },
    {
      "cell_type": "code",
      "source": [
        "# Run this cell to show the source code of the script.\n",
        "\n",
        "!cat appy_s14_06_02.py"
      ],
      "metadata": {
        "id": "F86zJsLXYuuq"
      },
      "execution_count": null,
      "outputs": []
    },
    {
      "cell_type": "code",
      "source": [
        "# Run this cell to execute the script.\n",
        "\n",
        "!python3.12 appy_s14_06_02.py"
      ],
      "metadata": {
        "id": "qQlOlIGPYuuu"
      },
      "execution_count": null,
      "outputs": []
    },
    {
      "cell_type": "code",
      "source": [
        "# Run this cell to find newly created file.\n",
        "\n",
        "!ls -lF *.bin"
      ],
      "metadata": {
        "id": "oDD0Xc4WY0t_"
      },
      "execution_count": null,
      "outputs": []
    },
    {
      "cell_type": "markdown",
      "source": [
        "## 8.4 Carrying out orbital integration"
      ],
      "metadata": {
        "id": "iJBk5IqRY3N7"
      }
    },
    {
      "cell_type": "code",
      "source": [
        "# Run this cell to show the source code of the script.\n",
        "\n",
        "!cat appy_s14_06_03.py"
      ],
      "metadata": {
        "id": "srp_zeYYY6fp"
      },
      "execution_count": null,
      "outputs": []
    },
    {
      "cell_type": "code",
      "source": [
        "# Run this cell to execute the script.\n",
        "\n",
        "!python3.12 appy_s14_06_03.py"
      ],
      "metadata": {
        "id": "sF5SkAWxY6ft"
      },
      "execution_count": null,
      "outputs": []
    },
    {
      "cell_type": "code",
      "source": [
        "# Run this cell to find newly created file.\n",
        "\n",
        "!ls -lF *.data"
      ],
      "metadata": {
        "id": "KKnP_85iY_U3"
      },
      "execution_count": null,
      "outputs": []
    },
    {
      "cell_type": "code",
      "source": [
        "# Run this cell to print first 30 lines of newly created file.\n",
        "\n",
        "!head -30 trojan.data | cut -b -80"
      ],
      "metadata": {
        "id": "ymZJNSkiY_U4"
      },
      "execution_count": null,
      "outputs": []
    },
    {
      "cell_type": "markdown",
      "source": [
        "## 8.5 Visualising results of orbital integration"
      ],
      "metadata": {
        "id": "de3Hsq7IZD1-"
      }
    },
    {
      "cell_type": "code",
      "source": [
        "# Run this cell to show the source code of the script.\n",
        "\n",
        "!cat appy_s14_06_04.py"
      ],
      "metadata": {
        "id": "TE4J6tQJZHuC"
      },
      "execution_count": null,
      "outputs": []
    },
    {
      "cell_type": "code",
      "source": [
        "# Run this cell to execute the script.\n",
        "\n",
        "!python3.12 appy_s14_06_04.py"
      ],
      "metadata": {
        "id": "KMQmlnLIZHuH"
      },
      "execution_count": null,
      "outputs": []
    },
    {
      "cell_type": "code",
      "source": [
        "# Run this cell to find newly created files.\n",
        "\n",
        "!ls -lF trojan"
      ],
      "metadata": {
        "id": "j_paVllVZXpA"
      },
      "execution_count": null,
      "outputs": []
    },
    {
      "cell_type": "code",
      "source": [
        "# Run this cell to display PNG image.\n",
        "\n",
        "# importing IPython.display module\n",
        "import IPython.display\n",
        "\n",
        "# displaying PNG file\n",
        "IPython.display.Image ('trojan/trojan_0000.png')"
      ],
      "metadata": {
        "id": "w5I9tUWJZclx"
      },
      "execution_count": null,
      "outputs": []
    },
    {
      "cell_type": "markdown",
      "source": [
        "## 8.6 Making a movie file"
      ],
      "metadata": {
        "id": "X-mQJXaaZglY"
      }
    },
    {
      "cell_type": "code",
      "source": [
        "# Run this cell to show the source code of the script.\n",
        "\n",
        "!cat appy_s14_06_05.py"
      ],
      "metadata": {
        "id": "pPJALshXZjL_"
      },
      "execution_count": null,
      "outputs": []
    },
    {
      "cell_type": "code",
      "source": [
        "# Run this cell to execute the script.\n",
        "\n",
        "!python3.12 appy_s14_06_05.py"
      ],
      "metadata": {
        "id": "2A8V4EFrZjME"
      },
      "execution_count": null,
      "outputs": []
    },
    {
      "cell_type": "code",
      "source": [
        "# Run this cell to find newly created file.\n",
        "\n",
        "!ls -lF *.mp4"
      ],
      "metadata": {
        "id": "p0lRkBFkcSpa"
      },
      "execution_count": null,
      "outputs": []
    },
    {
      "cell_type": "code",
      "source": [
        "# Playing MP4 movie file\n",
        "\n",
        "# importing IPython.display\n",
        "import IPython.display\n",
        "\n",
        "# playing MP4 movie file\n",
        "IPython.display.Video ('trojan.mp4')"
      ],
      "metadata": {
        "id": "UeNbKWKxZnS3"
      },
      "execution_count": null,
      "outputs": []
    },
    {
      "cell_type": "code",
      "source": [
        "# Downloading MP4 movie file to local computer\n",
        "\n",
        "#\n",
        "# If previous cell fails to play MP4 movie, then download MP4 movie file to your local computer and play the movie file on your local computer.\n",
        "#\n",
        "\n",
        "# importing google.colab\n",
        "import google.colab.files\n",
        "\n",
        "# downloading MP4 movie file\n",
        "google.colab.files.download ('trojan.mp4')"
      ],
      "metadata": {
        "id": "-p_QRFVRZnS6"
      },
      "execution_count": null,
      "outputs": []
    },
    {
      "cell_type": "markdown",
      "source": [
        "# 9. Structure of the main asteroid belt"
      ],
      "metadata": {
        "id": "Kg5sjV2vZsLp"
      }
    },
    {
      "cell_type": "markdown",
      "source": [
        "## 9.1 Reading orbital elements"
      ],
      "metadata": {
        "id": "agqtqlbpZuuD"
      }
    },
    {
      "cell_type": "code",
      "source": [
        "# Run this cell to show the source code of the script.\n",
        "\n",
        "!cat appy_s14_07_00.py"
      ],
      "metadata": {
        "id": "DNi4B3mtZzjP"
      },
      "execution_count": null,
      "outputs": []
    },
    {
      "cell_type": "code",
      "source": [
        "# Run this cell to execute the script.\n",
        "\n",
        "!python3.12 appy_s14_07_00.py"
      ],
      "metadata": {
        "id": "EOOZBXjkZzjY"
      },
      "execution_count": null,
      "outputs": []
    },
    {
      "cell_type": "code",
      "source": [
        "# Run this cell to find newly created file.\n",
        "\n",
        "!ls -lF *.list"
      ],
      "metadata": {
        "id": "n9Xh5zzeZ4nX"
      },
      "execution_count": null,
      "outputs": []
    },
    {
      "cell_type": "code",
      "source": [
        "# Run this cell to show first 20 lines of newly created file.\n",
        "\n",
        "!head -20 iss.list"
      ],
      "metadata": {
        "id": "ScHzak9LZ-st"
      },
      "execution_count": null,
      "outputs": []
    },
    {
      "cell_type": "markdown",
      "source": [
        "## 9.2 Setting up a simulation"
      ],
      "metadata": {
        "id": "V6ltZe0YaA9X"
      }
    },
    {
      "cell_type": "code",
      "source": [
        "# Run this cell to show the source code of the script.\n",
        "\n",
        "!cat appy_s14_07_01.py"
      ],
      "metadata": {
        "id": "bwER_m38aFP_"
      },
      "execution_count": null,
      "outputs": []
    },
    {
      "cell_type": "code",
      "source": [
        "# Run this cell to execute the script.\n",
        "\n",
        "!python3.12 appy_s14_07_01.py"
      ],
      "metadata": {
        "id": "JXm2NkfAaFQD"
      },
      "execution_count": null,
      "outputs": []
    },
    {
      "cell_type": "code",
      "source": [
        "# Run this cell to find newly created file.\n",
        "\n",
        "!ls -lF *.bin"
      ],
      "metadata": {
        "id": "WbLOW-ANaL4T"
      },
      "execution_count": null,
      "outputs": []
    },
    {
      "cell_type": "markdown",
      "source": [
        "## 9.3 Carrying out orbital integration"
      ],
      "metadata": {
        "id": "QKjC5Y_UaNPZ"
      }
    },
    {
      "cell_type": "code",
      "source": [
        "# Run this cell to show the source code of the script.\n",
        "\n",
        "!cat appy_s14_07_02.py"
      ],
      "metadata": {
        "id": "CbFb6W4taQ-I"
      },
      "execution_count": null,
      "outputs": []
    },
    {
      "cell_type": "code",
      "source": [
        "# Run this cell to execute the script.\n",
        "\n",
        "!python3.12 appy_s14_07_02.py"
      ],
      "metadata": {
        "id": "Gpn8gqJ-aQ-P"
      },
      "execution_count": null,
      "outputs": []
    },
    {
      "cell_type": "code",
      "source": [
        "# Run this cell to find newly created file.\n",
        "\n",
        "!ls -lF *.data"
      ],
      "metadata": {
        "id": "MNG6lGKqaWYT"
      },
      "execution_count": null,
      "outputs": []
    },
    {
      "cell_type": "code",
      "source": [
        "# Run this cell to print first 30 lines of newly created file.\n",
        "\n",
        "!head -30 iss.data | cut -b -80"
      ],
      "metadata": {
        "id": "zPuTrc6daWYV"
      },
      "execution_count": null,
      "outputs": []
    },
    {
      "cell_type": "markdown",
      "source": [
        "## 9.4 Visualising results of orbital integration"
      ],
      "metadata": {
        "id": "u28wDpEOa1-t"
      }
    },
    {
      "cell_type": "code",
      "source": [
        "# Run this cell to show the source code of the script.\n",
        "\n",
        "!cat appy_s14_07_03.py"
      ],
      "metadata": {
        "id": "pahiP-UUa6lQ"
      },
      "execution_count": null,
      "outputs": []
    },
    {
      "cell_type": "code",
      "source": [
        "# Run this cell to execute the script.\n",
        "\n",
        "!python3.12 appy_s14_07_03.py"
      ],
      "metadata": {
        "id": "ZRAACnYja6lU"
      },
      "execution_count": null,
      "outputs": []
    },
    {
      "cell_type": "code",
      "source": [
        "# Run this cell to find newly created files.\n",
        "\n",
        "!ls -lF iss"
      ],
      "metadata": {
        "id": "qI8BrwMFbBRs"
      },
      "execution_count": null,
      "outputs": []
    },
    {
      "cell_type": "code",
      "source": [
        "# Run this cell to display PNG image.\n",
        "\n",
        "# importing IPython.display module\n",
        "import IPython.display\n",
        "\n",
        "# displaying PNG file\n",
        "IPython.display.Image ('iss/iss_0000.png')"
      ],
      "metadata": {
        "id": "4TLmrKcnbBRx"
      },
      "execution_count": null,
      "outputs": []
    },
    {
      "cell_type": "markdown",
      "source": [
        "## 9.5 Making a movie file"
      ],
      "metadata": {
        "id": "2a56w7CEbGvL"
      }
    },
    {
      "cell_type": "code",
      "source": [
        "# Run this cell to show the source code of the script.\n",
        "\n",
        "!cat appy_s14_07_04.py"
      ],
      "metadata": {
        "id": "Xv1Vl-OcbI6-"
      },
      "execution_count": null,
      "outputs": []
    },
    {
      "cell_type": "code",
      "source": [
        "# Run this cell to execute the script.\n",
        "\n",
        "!python3.12 appy_s14_07_04.py"
      ],
      "metadata": {
        "id": "bMW2H6gubI7A"
      },
      "execution_count": null,
      "outputs": []
    },
    {
      "cell_type": "code",
      "source": [
        "# Run this cell to find newly created file.\n",
        "\n",
        "!ls -lF *.mp4"
      ],
      "metadata": {
        "id": "F7N60gWwcRRT"
      },
      "execution_count": null,
      "outputs": []
    },
    {
      "cell_type": "code",
      "source": [
        "# Playing MP4 movie file\n",
        "\n",
        "# importing IPython.display\n",
        "import IPython.display\n",
        "\n",
        "# playing MP4 movie file\n",
        "IPython.display.Video ('iss.mp4')"
      ],
      "metadata": {
        "id": "OqR2yLe8bNpt"
      },
      "execution_count": null,
      "outputs": []
    },
    {
      "cell_type": "code",
      "source": [
        "# Downloading MP4 movie file to local computer\n",
        "\n",
        "#\n",
        "# If previous cell fails to play MP4 movie, then download MP4 movie file to your local computer and play the movie file on your local computer.\n",
        "#\n",
        "\n",
        "# importing google.colab\n",
        "import google.colab.files\n",
        "\n",
        "# downloading MP4 movie file\n",
        "google.colab.files.download ('iss.mp4')"
      ],
      "metadata": {
        "id": "24hl91zYbNpv"
      },
      "execution_count": null,
      "outputs": []
    },
    {
      "cell_type": "markdown",
      "source": [
        "# 10. 3D structure of inner solar system"
      ],
      "metadata": {
        "id": "Vu4FBvmQbROU"
      }
    },
    {
      "cell_type": "markdown",
      "source": [
        "## 10.1 Setting up a simulation"
      ],
      "metadata": {
        "id": "mlUQTr5FbVRb"
      }
    },
    {
      "cell_type": "code",
      "source": [
        "# Run this cell to show the source code of the script.\n",
        "\n",
        "!cat appy_s14_08_00.py"
      ],
      "metadata": {
        "id": "r-yJritTbaC7"
      },
      "execution_count": null,
      "outputs": []
    },
    {
      "cell_type": "code",
      "source": [
        "# Run this cell to execute the script.\n",
        "\n",
        "!python3.12 appy_s14_08_00.py"
      ],
      "metadata": {
        "id": "IkcuUXrWbaC8"
      },
      "execution_count": null,
      "outputs": []
    },
    {
      "cell_type": "code",
      "source": [
        "# Run this cell to find newly created file.\n",
        "\n",
        "!ls -lF *.bin"
      ],
      "metadata": {
        "id": "NvMyuNMIbiVb"
      },
      "execution_count": null,
      "outputs": []
    },
    {
      "cell_type": "markdown",
      "source": [
        "## 10.2 Carrying out orbital integration and 3D visualisation"
      ],
      "metadata": {
        "id": "3II9okXFbjnk"
      }
    },
    {
      "cell_type": "code",
      "source": [
        "# Run this cell to show the source code of the script.\n",
        "\n",
        "!cat appy_s14_08_01.py"
      ],
      "metadata": {
        "id": "kbYE4fH9bn55"
      },
      "execution_count": null,
      "outputs": []
    },
    {
      "cell_type": "code",
      "source": [
        "# Run this cell to execute the script.\n",
        "\n",
        "!python3.12 appy_s14_08_01.py"
      ],
      "metadata": {
        "id": "56ChDDAsbn58"
      },
      "execution_count": null,
      "outputs": []
    },
    {
      "cell_type": "code",
      "source": [
        "# Run this cell to find newly created files.\n",
        "\n",
        "!ls -lF iss3d"
      ],
      "metadata": {
        "id": "JzGLlZeVbukG"
      },
      "execution_count": null,
      "outputs": []
    },
    {
      "cell_type": "code",
      "source": [
        "# Run this cell to display PNG image.\n",
        "\n",
        "# importing IPython.display module\n",
        "import IPython.display\n",
        "\n",
        "# displaying PNG file\n",
        "IPython.display.Image ('iss3d/iss3d_000000.png')"
      ],
      "metadata": {
        "id": "XxrXRXC3bukX"
      },
      "execution_count": null,
      "outputs": []
    },
    {
      "cell_type": "markdown",
      "source": [
        "## 10.3 Cropping PNG files"
      ],
      "metadata": {
        "id": "KgUHN0lEbzpD"
      }
    },
    {
      "cell_type": "code",
      "source": [
        "# Run this cell to show the source code of the script.\n",
        "\n",
        "!cat appy_s14_08_02.py"
      ],
      "metadata": {
        "id": "57-1VvwCb3F6"
      },
      "execution_count": null,
      "outputs": []
    },
    {
      "cell_type": "code",
      "source": [
        "# Run this cell to execute the script.\n",
        "\n",
        "!python3.12 appy_s14_08_02.py"
      ],
      "metadata": {
        "id": "DPphlG2Bb3F9"
      },
      "execution_count": null,
      "outputs": []
    },
    {
      "cell_type": "code",
      "source": [
        "# Run this cell to display PNG image.\n",
        "\n",
        "# importing IPython.display module\n",
        "import IPython.display\n",
        "\n",
        "# displaying PNG file\n",
        "IPython.display.Image ('iss3d/iss3d_000000c.png')"
      ],
      "metadata": {
        "id": "rBBAfPQ7b6GK"
      },
      "execution_count": null,
      "outputs": []
    },
    {
      "cell_type": "markdown",
      "source": [
        "## 10.4 Making a movie file"
      ],
      "metadata": {
        "id": "2JhG99fdb-qs"
      }
    },
    {
      "cell_type": "code",
      "source": [
        "# Run this cell to show the source code of the script.\n",
        "\n",
        "!cat appy_s14_08_03.py"
      ],
      "metadata": {
        "id": "_HM3-UthcBU2"
      },
      "execution_count": null,
      "outputs": []
    },
    {
      "cell_type": "code",
      "source": [
        "# Run this cell to execute the script.\n",
        "\n",
        "!python3.12 appy_s14_08_03.py"
      ],
      "metadata": {
        "id": "8eOXZhzKcBU7"
      },
      "execution_count": null,
      "outputs": []
    },
    {
      "cell_type": "code",
      "source": [
        "# Run this cell to find newly created file.\n",
        "\n",
        "!ls -lF *.mp4"
      ],
      "metadata": {
        "id": "UrfZrIhpcGF8"
      },
      "execution_count": null,
      "outputs": []
    },
    {
      "cell_type": "code",
      "source": [
        "# Playing MP4 movie file\n",
        "\n",
        "# importing IPython.display\n",
        "import IPython.display\n",
        "\n",
        "# playing MP4 movie file\n",
        "IPython.display.Video ('iss3d.mp4')"
      ],
      "metadata": {
        "id": "-f1QMUTBcLMN"
      },
      "execution_count": null,
      "outputs": []
    },
    {
      "cell_type": "code",
      "source": [
        "# Downloading MP4 movie file to local computer\n",
        "\n",
        "#\n",
        "# If previous cell fails to play MP4 movie, then download MP4 movie file to your local computer and play the movie file on your local computer.\n",
        "#\n",
        "\n",
        "# importing google.colab\n",
        "import google.colab.files\n",
        "\n",
        "# downloading MP4 movie file\n",
        "google.colab.files.download ('iss3d.mp4')"
      ],
      "metadata": {
        "id": "IVi4nbo6cLMO"
      },
      "execution_count": null,
      "outputs": []
    },
    {
      "cell_type": "markdown",
      "source": [
        "# End of this notebook"
      ],
      "metadata": {
        "id": "5cTbLVbocNJc"
      }
    },
    {
      "cell_type": "code",
      "source": [],
      "metadata": {
        "id": "E-DXuIahF63x"
      },
      "execution_count": null,
      "outputs": []
    }
  ]
}