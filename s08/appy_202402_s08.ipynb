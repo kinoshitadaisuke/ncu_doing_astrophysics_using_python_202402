{
  "nbformat": 4,
  "nbformat_minor": 0,
  "metadata": {
    "colab": {
      "provenance": []
    },
    "kernelspec": {
      "name": "python3",
      "display_name": "Python 3"
    },
    "language_info": {
      "name": "python"
    }
  },
  "cells": [
    {
      "cell_type": "markdown",
      "source": [
        "# Doing Astrophysics using Python\n",
        "\n",
        "- \"Doing Astrophysics using Python\"\n",
        "  - Instructor: Kinoshita Daisuke\n",
        "  - Classroom: S4-202\n",
        "  - Time: from 18:00 to 20:50 on Tuesday\n",
        "  - Semester: 2nd semester of academic year 2023\n",
        "    - from February 2024 to June 2024\n",
        "  - Course web page: https://s3b.astro.ncu.edu.tw/appy_202402/\n",
        "  - GitHub repository: https://github.com/kinoshitadaisuke/ncu_doing_astrophysics_using_python_202402\n"
      ],
      "metadata": {
        "id": "gGzI83b9PmnI"
      }
    },
    {
      "cell_type": "markdown",
      "source": [
        "# Session 08: \"Blackbody radiation and SED fitting\"\n",
        "\n",
        "## 09 April 2024\n",
        "\n",
        "## Instructor: Kinoshita Daisuke"
      ],
      "metadata": {
        "id": "Q7MvlbrC_tne"
      }
    },
    {
      "cell_type": "markdown",
      "source": [
        "# 0. Installation of Python interpreter"
      ],
      "metadata": {
        "id": "T_y7rto6Q5P8"
      }
    },
    {
      "cell_type": "code",
      "source": [
        "# Run this cell to install Python 3.12\n",
        "\n",
        "!apt update\n",
        "!apt upgrade\n",
        "!apt install python3.12 python3.12-dev python3.12-distutils libpython3.12-dev\n",
        "!update-alternatives --install /usr/bin/python3 python3 /usr/bin/python3.12 1\n",
        "!wget https://bootstrap.pypa.io/get-pip.py\n",
        "!python3.12 get-pip.py"
      ],
      "metadata": {
        "id": "MzmVLkC8QyGZ"
      },
      "execution_count": null,
      "outputs": []
    },
    {
      "cell_type": "code",
      "source": [
        "# Run this cell to check the version of Python interpreter and pip command\n",
        "\n",
        "!python --version\n",
        "!pip --version"
      ],
      "metadata": {
        "id": "Vx-JYTyp3NMU"
      },
      "execution_count": null,
      "outputs": []
    },
    {
      "cell_type": "code",
      "source": [
        "# Run this cell to install external Python packages.\n",
        "\n",
        "!pip install matplotlib numpy scipy astropy"
      ],
      "metadata": {
        "id": "7V5dCLx5F9QU"
      },
      "execution_count": null,
      "outputs": []
    },
    {
      "cell_type": "markdown",
      "source": [
        "# 1. Downloading a set of sample Python scripts for this course"
      ],
      "metadata": {
        "id": "zvKZRFoF8A8k"
      }
    },
    {
      "cell_type": "code",
      "source": [
        "# Run this cell to download a set of sample Python scripts for this course.\n",
        "\n",
        "!git clone https://github.com/kinoshitadaisuke/ncu_doing_astrophysics_using_python_202402.git"
      ],
      "metadata": {
        "id": "itsUqwak4-z4"
      },
      "execution_count": null,
      "outputs": []
    },
    {
      "cell_type": "code",
      "source": [
        "# Run this cell to move to the directory for this session.\n",
        "\n",
        "%cd ncu_doing_astrophysics_using_python_202402/s08"
      ],
      "metadata": {
        "id": "bREyxIP08RZG"
      },
      "execution_count": null,
      "outputs": []
    },
    {
      "cell_type": "code",
      "source": [
        "# Run this cell to show a list of files for this session.\n",
        "\n",
        "!ls"
      ],
      "metadata": {
        "id": "fKxQ_X-D8dRN"
      },
      "execution_count": null,
      "outputs": []
    },
    {
      "cell_type": "markdown",
      "source": [
        "# 2. Calculation of blackbody spectrum"
      ],
      "metadata": {
        "id": "5k1KSakqR9_s"
      }
    },
    {
      "cell_type": "markdown",
      "source": [
        "## 2.1 Physical constants for blackbody calculation"
      ],
      "metadata": {
        "id": "SLa8Tc5ySBnE"
      }
    },
    {
      "cell_type": "code",
      "source": [
        "# Run this cell to show the source code of this script.\n",
        "\n",
        "!cat appy_s08_00_00.py"
      ],
      "metadata": {
        "id": "YhMY-MxsSFmY"
      },
      "execution_count": null,
      "outputs": []
    },
    {
      "cell_type": "code",
      "source": [
        "# Run this cell to execute the script.\n",
        "\n",
        "!python3.12 appy_s08_00_00.py"
      ],
      "metadata": {
        "id": "cnxewL0bURMf"
      },
      "execution_count": null,
      "outputs": []
    },
    {
      "cell_type": "markdown",
      "source": [
        "## 2.2 Planck's radiation law"
      ],
      "metadata": {
        "id": "4YjR6KfYUZrQ"
      }
    },
    {
      "cell_type": "code",
      "source": [
        "# Run this cell to show the source code of this script.\n",
        "\n",
        "!cat appy_s08_00_01.py"
      ],
      "metadata": {
        "id": "ZDATVxZbUZrR"
      },
      "execution_count": null,
      "outputs": []
    },
    {
      "cell_type": "code",
      "source": [
        "# Run this cell to execute the script.\n",
        "\n",
        "!python3.12 appy_s08_00_01.py"
      ],
      "metadata": {
        "id": "tABQjySfUZrS"
      },
      "execution_count": null,
      "outputs": []
    },
    {
      "cell_type": "code",
      "source": [
        "# Run this cell to show the source code of this script.\n",
        "\n",
        "!cat appy_s08_00_02.py"
      ],
      "metadata": {
        "id": "JlW1H_GzUfju"
      },
      "execution_count": null,
      "outputs": []
    },
    {
      "cell_type": "code",
      "source": [
        "# Run this cell to execute the script.\n",
        "\n",
        "!python3.12 appy_s08_00_02.py"
      ],
      "metadata": {
        "id": "WxNyDdGHUfjw"
      },
      "execution_count": null,
      "outputs": []
    },
    {
      "cell_type": "markdown",
      "source": [
        "## 2.3 Plotting a model spectrum of blackbody radiation"
      ],
      "metadata": {
        "id": "a4YjRMZrUiw-"
      }
    },
    {
      "cell_type": "code",
      "source": [
        "# Run this cell to show the source code of this script.\n",
        "\n",
        "!cat appy_s08_00_03.py"
      ],
      "metadata": {
        "id": "XvAck_SfUmrE"
      },
      "execution_count": null,
      "outputs": []
    },
    {
      "cell_type": "code",
      "source": [
        "# Run this cell to execute the script.\n",
        "\n",
        "!python3.12 appy_s08_00_03.py"
      ],
      "metadata": {
        "id": "i4LHXdyHUmrG"
      },
      "execution_count": null,
      "outputs": []
    },
    {
      "cell_type": "code",
      "source": [
        "# Run this cell to display PNG image.\n",
        "\n",
        "# importing IPython.display module\n",
        "import IPython.display\n",
        "\n",
        "# displaying PNG file\n",
        "IPython.display.Image ('appy_s08_00_03.png')"
      ],
      "metadata": {
        "id": "wp4Hfr0b4dLH"
      },
      "execution_count": null,
      "outputs": []
    },
    {
      "cell_type": "code",
      "source": [
        "# Run this cell to show the source code of this script.\n",
        "\n",
        "!cat appy_s08_00_04.py"
      ],
      "metadata": {
        "id": "VK0RAYF3Uyy8"
      },
      "execution_count": null,
      "outputs": []
    },
    {
      "cell_type": "code",
      "source": [
        "# Run this cell to execute the script.\n",
        "\n",
        "!python3.12 appy_s08_00_04.py"
      ],
      "metadata": {
        "id": "UBzc5omSUyy9"
      },
      "execution_count": null,
      "outputs": []
    },
    {
      "cell_type": "code",
      "source": [
        "# Run this cell to display PNG image.\n",
        "\n",
        "# importing IPython.display module\n",
        "import IPython.display\n",
        "\n",
        "# displaying PNG file\n",
        "IPython.display.Image ('appy_s08_00_04.png')"
      ],
      "metadata": {
        "id": "2oTXpC3kUyzB"
      },
      "execution_count": null,
      "outputs": []
    },
    {
      "cell_type": "code",
      "source": [
        "# Run this cell to show the source code of this script.\n",
        "\n",
        "!cat appy_s08_00_05.py"
      ],
      "metadata": {
        "id": "FFnHR-wjU5T8"
      },
      "execution_count": null,
      "outputs": []
    },
    {
      "cell_type": "code",
      "source": [
        "# Run this cell to execute the script.\n",
        "\n",
        "!python3.12 appy_s08_00_05.py"
      ],
      "metadata": {
        "id": "mLuKw4JOU5T9"
      },
      "execution_count": null,
      "outputs": []
    },
    {
      "cell_type": "code",
      "source": [
        "# Run this cell to display PNG image.\n",
        "\n",
        "# importing IPython.display module\n",
        "import IPython.display\n",
        "\n",
        "# displaying PNG file\n",
        "IPython.display.Image ('appy_s08_00_05.png')"
      ],
      "metadata": {
        "id": "LTo_X7hiU5T_"
      },
      "execution_count": null,
      "outputs": []
    },
    {
      "cell_type": "markdown",
      "source": [
        "## 2.4 Finding peak wavelength of blackbody radiation"
      ],
      "metadata": {
        "id": "VmNr1kT5VACB"
      }
    },
    {
      "cell_type": "code",
      "source": [
        "# Run this cell to show the source code of this script.\n",
        "\n",
        "!cat appy_s08_00_06.py"
      ],
      "metadata": {
        "id": "UUXzrTNfVFZy"
      },
      "execution_count": null,
      "outputs": []
    },
    {
      "cell_type": "code",
      "source": [
        "# Run this cell to execute the script.\n",
        "\n",
        "!python3.12 appy_s08_00_06.py"
      ],
      "metadata": {
        "id": "o-K78bBgVFZ1"
      },
      "execution_count": null,
      "outputs": []
    },
    {
      "cell_type": "code",
      "source": [
        "# Run this cell to show the source code of this script.\n",
        "\n",
        "!cat appy_s08_00_07.py"
      ],
      "metadata": {
        "id": "GlxyvuBxVJy_"
      },
      "execution_count": null,
      "outputs": []
    },
    {
      "cell_type": "code",
      "source": [
        "# Run this cell to execute the script.\n",
        "\n",
        "!python3.12 appy_s08_00_07.py"
      ],
      "metadata": {
        "id": "SncqlndNVJzA"
      },
      "execution_count": null,
      "outputs": []
    },
    {
      "cell_type": "code",
      "source": [
        "# Run this cell to show the source code of this script.\n",
        "\n",
        "!cat appy_s08_00_08.py"
      ],
      "metadata": {
        "id": "x5IDXex6VOAO"
      },
      "execution_count": null,
      "outputs": []
    },
    {
      "cell_type": "code",
      "source": [
        "# Run this cell to execute the script.\n",
        "\n",
        "!python3.12 appy_s08_00_08.py"
      ],
      "metadata": {
        "id": "xNy9jLkMVOAP"
      },
      "execution_count": null,
      "outputs": []
    },
    {
      "cell_type": "markdown",
      "source": [
        "## 2.5 Showing regions of UV, visible, and IR"
      ],
      "metadata": {
        "id": "jgLxiptFVRQt"
      }
    },
    {
      "cell_type": "code",
      "source": [
        "# Run this cell to show the source code of this script.\n",
        "\n",
        "!cat appy_s08_00_09.py"
      ],
      "metadata": {
        "id": "gu8yiibsVXFv"
      },
      "execution_count": null,
      "outputs": []
    },
    {
      "cell_type": "code",
      "source": [
        "# Run this cell to execute the script.\n",
        "\n",
        "!python3.12 appy_s08_00_09.py"
      ],
      "metadata": {
        "id": "xND-y8pDVXFx"
      },
      "execution_count": null,
      "outputs": []
    },
    {
      "cell_type": "code",
      "source": [
        "# Run this cell to display PNG image.\n",
        "\n",
        "# importing IPython.display module\n",
        "import IPython.display\n",
        "\n",
        "# displaying PNG file\n",
        "IPython.display.Image ('appy_s08_00_09.png')"
      ],
      "metadata": {
        "id": "MHywLgy9VbkG"
      },
      "execution_count": null,
      "outputs": []
    },
    {
      "cell_type": "code",
      "source": [
        "# Run this cell to show the source code of this script.\n",
        "\n",
        "!cat appy_s08_00_10.py"
      ],
      "metadata": {
        "id": "GZDtfXobVhr5"
      },
      "execution_count": null,
      "outputs": []
    },
    {
      "cell_type": "code",
      "source": [
        "# Run this cell to execute the script.\n",
        "\n",
        "!python3.12 appy_s08_00_10.py"
      ],
      "metadata": {
        "id": "oEboetRtVhr6"
      },
      "execution_count": null,
      "outputs": []
    },
    {
      "cell_type": "code",
      "source": [
        "# Run this cell to display PNG image.\n",
        "\n",
        "# importing IPython.display module\n",
        "import IPython.display\n",
        "\n",
        "# displaying PNG file\n",
        "IPython.display.Image ('appy_s08_00_10.png')"
      ],
      "metadata": {
        "id": "2VGDO20jVhr7"
      },
      "execution_count": null,
      "outputs": []
    },
    {
      "cell_type": "code",
      "source": [
        "# Run this cell to show the source code of this script.\n",
        "\n",
        "!cat appy_s08_00_11.py"
      ],
      "metadata": {
        "id": "1yAib55JVnvC"
      },
      "execution_count": null,
      "outputs": []
    },
    {
      "cell_type": "code",
      "source": [
        "# Run this cell to execute the script.\n",
        "\n",
        "!python3.12 appy_s08_00_11.py"
      ],
      "metadata": {
        "id": "Jzg2MfG2VnvF"
      },
      "execution_count": null,
      "outputs": []
    },
    {
      "cell_type": "code",
      "source": [
        "# Run this cell to display PNG image.\n",
        "\n",
        "# importing IPython.display module\n",
        "import IPython.display\n",
        "\n",
        "# displaying PNG file\n",
        "IPython.display.Image ('appy_s08_00_11.png')"
      ],
      "metadata": {
        "id": "dtoUbqGZVnvI"
      },
      "execution_count": null,
      "outputs": []
    },
    {
      "cell_type": "markdown",
      "source": [
        "## 2.6 Rayleigh-Jeans law"
      ],
      "metadata": {
        "id": "arGdMhQbVz7U"
      }
    },
    {
      "cell_type": "code",
      "source": [
        "# Run this cell to show the source code of this script.\n",
        "\n",
        "!cat appy_s08_00_12.py"
      ],
      "metadata": {
        "id": "HgWdxf9vV48j"
      },
      "execution_count": null,
      "outputs": []
    },
    {
      "cell_type": "code",
      "source": [
        "# Run this cell to execute the script.\n",
        "\n",
        "!python3.12 appy_s08_00_12.py"
      ],
      "metadata": {
        "id": "xhRlvgzUV48m"
      },
      "execution_count": null,
      "outputs": []
    },
    {
      "cell_type": "code",
      "source": [
        "# Run this cell to display PNG image.\n",
        "\n",
        "# importing IPython.display module\n",
        "import IPython.display\n",
        "\n",
        "# displaying PNG file\n",
        "IPython.display.Image ('appy_s08_00_12.png')"
      ],
      "metadata": {
        "id": "aC9mdcDmV48o"
      },
      "execution_count": null,
      "outputs": []
    },
    {
      "cell_type": "code",
      "source": [
        "# Run this cell to show the source code of this script.\n",
        "\n",
        "!cat appy_s08_00_13.py"
      ],
      "metadata": {
        "id": "2MA_ZTiSWAa2"
      },
      "execution_count": null,
      "outputs": []
    },
    {
      "cell_type": "code",
      "source": [
        "# Run this cell to execute the script.\n",
        "\n",
        "!python3.12 appy_s08_00_13.py"
      ],
      "metadata": {
        "id": "LtzHSIsJWAa4"
      },
      "execution_count": null,
      "outputs": []
    },
    {
      "cell_type": "code",
      "source": [
        "# Run this cell to display PNG image.\n",
        "\n",
        "# importing IPython.display module\n",
        "import IPython.display\n",
        "\n",
        "# displaying PNG file\n",
        "IPython.display.Image ('appy_s08_00_13.png')"
      ],
      "metadata": {
        "id": "5p8wQ7MkWAa5"
      },
      "execution_count": null,
      "outputs": []
    },
    {
      "cell_type": "code",
      "source": [
        "# Run this cell to show the source code of this script.\n",
        "\n",
        "!cat appy_s08_00_14.py"
      ],
      "metadata": {
        "id": "uVYmQJBVWLym"
      },
      "execution_count": null,
      "outputs": []
    },
    {
      "cell_type": "code",
      "source": [
        "# Run this cell to execute the script.\n",
        "\n",
        "!python3.12 appy_s08_00_14.py"
      ],
      "metadata": {
        "id": "Cxrkk8XdWLyn"
      },
      "execution_count": null,
      "outputs": []
    },
    {
      "cell_type": "code",
      "source": [
        "# Run this cell to display PNG image.\n",
        "\n",
        "# importing IPython.display module\n",
        "import IPython.display\n",
        "\n",
        "# displaying PNG file\n",
        "IPython.display.Image ('appy_s08_00_14.png')"
      ],
      "metadata": {
        "id": "Do96n2dVWLyp"
      },
      "execution_count": null,
      "outputs": []
    },
    {
      "cell_type": "markdown",
      "source": [
        "## 2.5 Wien's law"
      ],
      "metadata": {
        "id": "vPBaM8_qWSJZ"
      }
    },
    {
      "cell_type": "code",
      "source": [
        "# Run this cell to show the source code of this script.\n",
        "\n",
        "!cat appy_s08_00_15.py"
      ],
      "metadata": {
        "id": "ukRXi3X7WYgY"
      },
      "execution_count": null,
      "outputs": []
    },
    {
      "cell_type": "code",
      "source": [
        "# Run this cell to execute the script.\n",
        "\n",
        "!python3.12 appy_s08_00_15.py"
      ],
      "metadata": {
        "id": "2SMH03P3WYgb"
      },
      "execution_count": null,
      "outputs": []
    },
    {
      "cell_type": "code",
      "source": [
        "# Run this cell to display PNG image.\n",
        "\n",
        "# importing IPython.display module\n",
        "import IPython.display\n",
        "\n",
        "# displaying PNG file\n",
        "IPython.display.Image ('appy_s08_00_15.png')"
      ],
      "metadata": {
        "id": "jo2TVtPtWYgc"
      },
      "execution_count": null,
      "outputs": []
    },
    {
      "cell_type": "code",
      "source": [
        "# Run this cell to show the source code of this script.\n",
        "\n",
        "!cat appy_s08_00_16.py"
      ],
      "metadata": {
        "id": "4L_WouTWWip3"
      },
      "execution_count": null,
      "outputs": []
    },
    {
      "cell_type": "code",
      "source": [
        "# Run this cell to execute the script.\n",
        "\n",
        "!python3.12 appy_s08_00_16.py"
      ],
      "metadata": {
        "id": "vFSUD82FWip5"
      },
      "execution_count": null,
      "outputs": []
    },
    {
      "cell_type": "code",
      "source": [
        "# Run this cell to display PNG image.\n",
        "\n",
        "# importing IPython.display module\n",
        "import IPython.display\n",
        "\n",
        "# displaying PNG file\n",
        "IPython.display.Image ('appy_s08_00_16.png')"
      ],
      "metadata": {
        "id": "Drh4CE4RWip5"
      },
      "execution_count": null,
      "outputs": []
    },
    {
      "cell_type": "markdown",
      "source": [
        "## 2.8 Blackbody radiation of different temperature"
      ],
      "metadata": {
        "id": "2BsMrwIEWpDZ"
      }
    },
    {
      "cell_type": "code",
      "source": [
        "# Run this cell to show the source code of this script.\n",
        "\n",
        "!cat appy_s08_00_17.py"
      ],
      "metadata": {
        "id": "fBZPQcTjWvRq"
      },
      "execution_count": null,
      "outputs": []
    },
    {
      "cell_type": "code",
      "source": [
        "# Run this cell to execute the script.\n",
        "\n",
        "!python3.12 appy_s08_00_17.py"
      ],
      "metadata": {
        "id": "AN7EByu4WvRt"
      },
      "execution_count": null,
      "outputs": []
    },
    {
      "cell_type": "code",
      "source": [
        "# Run this cell to display PNG image.\n",
        "\n",
        "# importing IPython.display module\n",
        "import IPython.display\n",
        "\n",
        "# displaying PNG file\n",
        "IPython.display.Image ('appy_s08_00_17.png')"
      ],
      "metadata": {
        "id": "xpYgDOzRWvRv"
      },
      "execution_count": null,
      "outputs": []
    },
    {
      "cell_type": "markdown",
      "source": [
        "# 3. Blackbody calculation using Astropy"
      ],
      "metadata": {
        "id": "bwFE5LIrie4f"
      }
    },
    {
      "cell_type": "markdown",
      "source": [
        "## 3.1 Blackbody spectrum as a function of frequency"
      ],
      "metadata": {
        "id": "kL2ZRlqMih7Z"
      }
    },
    {
      "cell_type": "code",
      "source": [
        "# Run this cell to show the source code of this script.\n",
        "\n",
        "!cat appy_s08_01_00.py"
      ],
      "metadata": {
        "id": "OhwcWw5_inZ7"
      },
      "execution_count": null,
      "outputs": []
    },
    {
      "cell_type": "code",
      "source": [
        "# Run this cell to execute the script.\n",
        "\n",
        "!python3.12 appy_s08_01_00.py"
      ],
      "metadata": {
        "id": "CM7nYMspinZ8"
      },
      "execution_count": null,
      "outputs": []
    },
    {
      "cell_type": "code",
      "source": [
        "# Run this cell to show the source code of this script.\n",
        "\n",
        "!cat appy_s08_01_01.py"
      ],
      "metadata": {
        "id": "_O5uQ0xeisZv"
      },
      "execution_count": null,
      "outputs": []
    },
    {
      "cell_type": "code",
      "source": [
        "# Run this cell to execute the script.\n",
        "\n",
        "!python3.12 appy_s08_01_01.py"
      ],
      "metadata": {
        "id": "WxFAiXkYisZw"
      },
      "execution_count": null,
      "outputs": []
    },
    {
      "cell_type": "code",
      "source": [
        "# Run this cell to display PNG image.\n",
        "\n",
        "# importing IPython.display module\n",
        "import IPython.display\n",
        "\n",
        "# displaying PNG file\n",
        "IPython.display.Image ('appy_s08_01_01.png')"
      ],
      "metadata": {
        "id": "I3sGTuupixM5"
      },
      "execution_count": null,
      "outputs": []
    },
    {
      "cell_type": "code",
      "source": [
        "# Run this cell to show the source code of this script.\n",
        "\n",
        "!cat appy_s08_01_02.py"
      ],
      "metadata": {
        "id": "wMT-jTbkjX6w"
      },
      "execution_count": null,
      "outputs": []
    },
    {
      "cell_type": "code",
      "source": [
        "# Run this cell to execute the script.\n",
        "\n",
        "!python3.12 appy_s08_01_02.py"
      ],
      "metadata": {
        "id": "siK6VOOrjX6x"
      },
      "execution_count": null,
      "outputs": []
    },
    {
      "cell_type": "code",
      "source": [
        "# Run this cell to display PNG image.\n",
        "\n",
        "# importing IPython.display module\n",
        "import IPython.display\n",
        "\n",
        "# displaying PNG file\n",
        "IPython.display.Image ('appy_s08_01_02.png')"
      ],
      "metadata": {
        "id": "cTM3DZNZjX6y"
      },
      "execution_count": null,
      "outputs": []
    },
    {
      "cell_type": "code",
      "source": [
        "# Run this cell to show the source code of this script.\n",
        "\n",
        "!cat appy_s08_01_03.py"
      ],
      "metadata": {
        "id": "8g6xddv6jlfS"
      },
      "execution_count": null,
      "outputs": []
    },
    {
      "cell_type": "code",
      "source": [
        "# Run this cell to execute the script.\n",
        "\n",
        "!python3.12 appy_s08_01_03.py"
      ],
      "metadata": {
        "id": "OpsjIYarjlfT"
      },
      "execution_count": null,
      "outputs": []
    },
    {
      "cell_type": "code",
      "source": [
        "# Run this cell to display PNG image.\n",
        "\n",
        "# importing IPython.display module\n",
        "import IPython.display\n",
        "\n",
        "# displaying PNG file\n",
        "IPython.display.Image ('appy_s08_01_03.png')"
      ],
      "metadata": {
        "id": "5gc4y-rPjuBZ"
      },
      "execution_count": null,
      "outputs": []
    },
    {
      "cell_type": "code",
      "source": [
        "# Run this cell to show the source code of this script.\n",
        "\n",
        "!cat appy_s08_01_04.py"
      ],
      "metadata": {
        "id": "Ld7mq-mKj0w5"
      },
      "execution_count": null,
      "outputs": []
    },
    {
      "cell_type": "code",
      "source": [
        "# Run this cell to execute the script.\n",
        "\n",
        "!python3.12 appy_s08_01_04.py"
      ],
      "metadata": {
        "id": "eeG_EVhyj0w6"
      },
      "execution_count": null,
      "outputs": []
    },
    {
      "cell_type": "code",
      "source": [
        "# Run this cell to show the source code of this script.\n",
        "\n",
        "!cat appy_s08_01_05.py"
      ],
      "metadata": {
        "id": "oNHPpGZtj5I_"
      },
      "execution_count": null,
      "outputs": []
    },
    {
      "cell_type": "code",
      "source": [
        "# Run this cell to execute the script.\n",
        "\n",
        "!python3.12 appy_s08_01_05.py"
      ],
      "metadata": {
        "id": "4r0kFMBLj5I_"
      },
      "execution_count": null,
      "outputs": []
    },
    {
      "cell_type": "code",
      "source": [
        "# Run this cell to display PNG image.\n",
        "\n",
        "# importing IPython.display module\n",
        "import IPython.display\n",
        "\n",
        "# displaying PNG file\n",
        "IPython.display.Image ('appy_s08_01_05.png')"
      ],
      "metadata": {
        "id": "2thFSzGyj5JB"
      },
      "execution_count": null,
      "outputs": []
    },
    {
      "cell_type": "code",
      "source": [
        "# Run this cell to show the source code of this script.\n",
        "\n",
        "!cat appy_s08_01_06.py"
      ],
      "metadata": {
        "id": "zCJiKeWgkCso"
      },
      "execution_count": null,
      "outputs": []
    },
    {
      "cell_type": "code",
      "source": [
        "# Run this cell to execute the script.\n",
        "\n",
        "!python3.12 appy_s08_01_06.py"
      ],
      "metadata": {
        "id": "5BGd5ZxDkCso"
      },
      "execution_count": null,
      "outputs": []
    },
    {
      "cell_type": "code",
      "source": [
        "# Run this cell to show the source code of this script.\n",
        "\n",
        "!cat appy_s08_01_07.py"
      ],
      "metadata": {
        "id": "fu3kYjXpkIrt"
      },
      "execution_count": null,
      "outputs": []
    },
    {
      "cell_type": "code",
      "source": [
        "# Run this cell to execute the script.\n",
        "\n",
        "!python3.12 appy_s08_01_07.py"
      ],
      "metadata": {
        "id": "dVjwMv3pkIru"
      },
      "execution_count": null,
      "outputs": []
    },
    {
      "cell_type": "code",
      "source": [
        "# Run this cell to display PNG image.\n",
        "\n",
        "# importing IPython.display module\n",
        "import IPython.display\n",
        "\n",
        "# displaying PNG file\n",
        "IPython.display.Image ('appy_s08_01_07.png')"
      ],
      "metadata": {
        "id": "ljR50oarkIru"
      },
      "execution_count": null,
      "outputs": []
    },
    {
      "cell_type": "code",
      "source": [
        "# Run this cell to show the source code of this script.\n",
        "\n",
        "!cat appy_s08_01_08.py"
      ],
      "metadata": {
        "id": "WOePgNjHkSpz"
      },
      "execution_count": null,
      "outputs": []
    },
    {
      "cell_type": "code",
      "source": [
        "# Run this cell to execute the script.\n",
        "\n",
        "!python3.12 appy_s08_01_08.py"
      ],
      "metadata": {
        "id": "2XEKnMLGkSp0"
      },
      "execution_count": null,
      "outputs": []
    },
    {
      "cell_type": "code",
      "source": [
        "# Run this cell to display PNG image.\n",
        "\n",
        "# importing IPython.display module\n",
        "import IPython.display\n",
        "\n",
        "# displaying PNG file\n",
        "IPython.display.Image ('appy_s08_01_08.png')"
      ],
      "metadata": {
        "id": "7L3kh_0-kSp0"
      },
      "execution_count": null,
      "outputs": []
    },
    {
      "cell_type": "code",
      "source": [
        "# Run this cell to show the source code of this script.\n",
        "\n",
        "!cat appy_s08_01_09.py"
      ],
      "metadata": {
        "id": "rSICxWx0kbdS"
      },
      "execution_count": null,
      "outputs": []
    },
    {
      "cell_type": "code",
      "source": [
        "# Run this cell to execute the script.\n",
        "\n",
        "!python3.12 appy_s08_01_09.py"
      ],
      "metadata": {
        "id": "LdMJ4zahkbdS"
      },
      "execution_count": null,
      "outputs": []
    },
    {
      "cell_type": "code",
      "source": [
        "# Run this cell to display PNG image.\n",
        "\n",
        "# importing IPython.display module\n",
        "import IPython.display\n",
        "\n",
        "# displaying PNG file\n",
        "IPython.display.Image ('appy_s08_01_09.png')"
      ],
      "metadata": {
        "id": "mwTpZXU7kbdU"
      },
      "execution_count": null,
      "outputs": []
    },
    {
      "cell_type": "markdown",
      "source": [
        "## 3.2 Blackbody spectrum as a function of wavelength"
      ],
      "metadata": {
        "id": "RYt0i8M9kiYK"
      }
    },
    {
      "cell_type": "code",
      "source": [
        "# Run this cell to show the source code of this script.\n",
        "\n",
        "!cat appy_s08_01_10.py"
      ],
      "metadata": {
        "id": "5Nyu9RHFknXs"
      },
      "execution_count": null,
      "outputs": []
    },
    {
      "cell_type": "code",
      "source": [
        "# Run this cell to execute the script.\n",
        "\n",
        "!python3.12 appy_s08_01_10.py"
      ],
      "metadata": {
        "id": "WTQn6NwqknXu"
      },
      "execution_count": null,
      "outputs": []
    },
    {
      "cell_type": "code",
      "source": [
        "# Run this cell to show the source code of this script.\n",
        "\n",
        "!cat appy_s08_01_11.py"
      ],
      "metadata": {
        "id": "VBzNog7ckuSH"
      },
      "execution_count": null,
      "outputs": []
    },
    {
      "cell_type": "code",
      "source": [
        "# Run this cell to execute the script.\n",
        "\n",
        "!python3.12 appy_s08_01_11.py"
      ],
      "metadata": {
        "id": "-nfFeV1bkuSI"
      },
      "execution_count": null,
      "outputs": []
    },
    {
      "cell_type": "code",
      "source": [
        "# Run this cell to display PNG image.\n",
        "\n",
        "# importing IPython.display module\n",
        "import IPython.display\n",
        "\n",
        "# displaying PNG file\n",
        "IPython.display.Image ('appy_s08_01_11.png')"
      ],
      "metadata": {
        "id": "Z-IGGaJKkuSJ"
      },
      "execution_count": null,
      "outputs": []
    },
    {
      "cell_type": "code",
      "source": [
        "# Run this cell to show the source code of this script.\n",
        "\n",
        "!cat appy_s08_01_12.py"
      ],
      "metadata": {
        "id": "rfU5HCbak4JQ"
      },
      "execution_count": null,
      "outputs": []
    },
    {
      "cell_type": "code",
      "source": [
        "# Run this cell to execute the script.\n",
        "\n",
        "!python3.12 appy_s08_01_12.py"
      ],
      "metadata": {
        "id": "T3nlypgEk4JR"
      },
      "execution_count": null,
      "outputs": []
    },
    {
      "cell_type": "code",
      "source": [
        "# Run this cell to display PNG image.\n",
        "\n",
        "# importing IPython.display module\n",
        "import IPython.display\n",
        "\n",
        "# displaying PNG file\n",
        "IPython.display.Image ('appy_s08_01_12.png')"
      ],
      "metadata": {
        "id": "FoTR0w26k4JS"
      },
      "execution_count": null,
      "outputs": []
    },
    {
      "cell_type": "code",
      "source": [
        "# Run this cell to show the source code of this script.\n",
        "\n",
        "!cat appy_s08_01_13.py"
      ],
      "metadata": {
        "id": "RtugiC-KlAIN"
      },
      "execution_count": null,
      "outputs": []
    },
    {
      "cell_type": "code",
      "source": [
        "# Run this cell to execute the script.\n",
        "\n",
        "!python3.12 appy_s08_01_13.py"
      ],
      "metadata": {
        "id": "N_z1iBaPlAIN"
      },
      "execution_count": null,
      "outputs": []
    },
    {
      "cell_type": "code",
      "source": [
        "# Run this cell to show the source code of this script.\n",
        "\n",
        "!cat appy_s08_01_14.py"
      ],
      "metadata": {
        "id": "H-zLnIkslGlL"
      },
      "execution_count": null,
      "outputs": []
    },
    {
      "cell_type": "code",
      "source": [
        "# Run this cell to execute the script.\n",
        "\n",
        "!python3.12 appy_s08_01_14.py"
      ],
      "metadata": {
        "id": "sLWKrNr7lGlM"
      },
      "execution_count": null,
      "outputs": []
    },
    {
      "cell_type": "code",
      "source": [
        "# Run this cell to display PNG image.\n",
        "\n",
        "# importing IPython.display module\n",
        "import IPython.display\n",
        "\n",
        "# displaying PNG file\n",
        "IPython.display.Image ('appy_s08_01_14.png')"
      ],
      "metadata": {
        "id": "vAuljFZplGlM"
      },
      "execution_count": null,
      "outputs": []
    },
    {
      "cell_type": "code",
      "source": [
        "# Run this cell to show the source code of this script.\n",
        "\n",
        "!cat appy_s08_01_15.py"
      ],
      "metadata": {
        "id": "Ap_E30YalOmj"
      },
      "execution_count": null,
      "outputs": []
    },
    {
      "cell_type": "code",
      "source": [
        "# Run this cell to execute the script.\n",
        "\n",
        "!python3.12 appy_s08_01_15.py"
      ],
      "metadata": {
        "id": "_cewaHiRlOmj"
      },
      "execution_count": null,
      "outputs": []
    },
    {
      "cell_type": "code",
      "source": [
        "# Run this cell to display PNG image.\n",
        "\n",
        "# importing IPython.display module\n",
        "import IPython.display\n",
        "\n",
        "# displaying PNG file\n",
        "IPython.display.Image ('appy_s08_01_15.png')"
      ],
      "metadata": {
        "id": "tVS-1nYblOmk"
      },
      "execution_count": null,
      "outputs": []
    },
    {
      "cell_type": "code",
      "source": [
        "# Run this cell to show the source code of this script.\n",
        "\n",
        "!cat appy_s08_01_16.py"
      ],
      "metadata": {
        "id": "zQmciFsxlYPr"
      },
      "execution_count": null,
      "outputs": []
    },
    {
      "cell_type": "code",
      "source": [
        "# Run this cell to execute the script.\n",
        "\n",
        "!python3.12 appy_s08_01_16.py"
      ],
      "metadata": {
        "id": "Vlo4Kp2flYPs"
      },
      "execution_count": null,
      "outputs": []
    },
    {
      "cell_type": "code",
      "source": [
        "# Run this cell to display PNG image.\n",
        "\n",
        "# importing IPython.display module\n",
        "import IPython.display\n",
        "\n",
        "# displaying PNG file\n",
        "IPython.display.Image ('appy_s08_01_16.png')"
      ],
      "metadata": {
        "id": "9fUi_Pg4lYPu"
      },
      "execution_count": null,
      "outputs": []
    },
    {
      "cell_type": "markdown",
      "source": [
        "# 4. The solar spectrum"
      ],
      "metadata": {
        "id": "Ol56ihIelfOm"
      }
    },
    {
      "cell_type": "markdown",
      "source": [
        "## 4.1 Downloading data"
      ],
      "metadata": {
        "id": "1AYqmoIBlhVC"
      }
    },
    {
      "cell_type": "code",
      "source": [
        "# Run this cell to show the source code of this script.\n",
        "\n",
        "!cat appy_s08_02_00.py"
      ],
      "metadata": {
        "id": "uE0OB9P_llfQ"
      },
      "execution_count": null,
      "outputs": []
    },
    {
      "cell_type": "code",
      "source": [
        "# Run this cell to execute the script.\n",
        "\n",
        "!python3.12 appy_s08_02_00.py"
      ],
      "metadata": {
        "id": "Tg5AYfg6llfQ"
      },
      "execution_count": null,
      "outputs": []
    },
    {
      "cell_type": "markdown",
      "source": [
        "## 4.2 Visualising solar spectrum"
      ],
      "metadata": {
        "id": "qPCBmSZjls1I"
      }
    },
    {
      "cell_type": "code",
      "source": [
        "# Run this cell to show the source code of this script.\n",
        "\n",
        "!cat appy_s08_02_01.py"
      ],
      "metadata": {
        "id": "V3ElIcCLlxXe"
      },
      "execution_count": null,
      "outputs": []
    },
    {
      "cell_type": "code",
      "source": [
        "# Run this cell to execute the script.\n",
        "\n",
        "!python3.12 appy_s08_02_01.py"
      ],
      "metadata": {
        "id": "v5t07pdZlxXg"
      },
      "execution_count": null,
      "outputs": []
    },
    {
      "cell_type": "code",
      "source": [
        "# Run this cell to display PNG image.\n",
        "\n",
        "# importing IPython.display module\n",
        "import IPython.display\n",
        "\n",
        "# displaying PNG file\n",
        "IPython.display.Image ('appy_s08_02_01.png')"
      ],
      "metadata": {
        "id": "ZaHrE0Vrl1MA"
      },
      "execution_count": null,
      "outputs": []
    },
    {
      "cell_type": "markdown",
      "source": [
        "## 4.3 Comparison with model blackbody spectrum"
      ],
      "metadata": {
        "id": "giL9vXi9l43Q"
      }
    },
    {
      "cell_type": "code",
      "source": [
        "# Run this cell to show the source code of this script.\n",
        "\n",
        "!cat appy_s08_02_02.py"
      ],
      "metadata": {
        "id": "18ZpfKoOl-pW"
      },
      "execution_count": null,
      "outputs": []
    },
    {
      "cell_type": "code",
      "source": [
        "# Run this cell to execute the script.\n",
        "\n",
        "!python3.12 appy_s08_02_02.py"
      ],
      "metadata": {
        "id": "W4mlsQy0l-pW"
      },
      "execution_count": null,
      "outputs": []
    },
    {
      "cell_type": "code",
      "source": [
        "# Run this cell to display PNG image.\n",
        "\n",
        "# importing IPython.display module\n",
        "import IPython.display\n",
        "\n",
        "# displaying PNG file\n",
        "IPython.display.Image ('appy_s08_02_02.png')"
      ],
      "metadata": {
        "id": "TODb6L_Ql-pX"
      },
      "execution_count": null,
      "outputs": []
    },
    {
      "cell_type": "markdown",
      "source": [
        "# 5. Spectral energy distribution of HD 61005"
      ],
      "metadata": {
        "id": "vQT-hkZ-mEKp"
      }
    },
    {
      "cell_type": "markdown",
      "source": [
        "## 5.1 Downloading data"
      ],
      "metadata": {
        "id": "QeQsBd1vmHaH"
      }
    },
    {
      "cell_type": "code",
      "source": [
        "# Run this cell to show the source code of this script.\n",
        "\n",
        "!cat appy_s08_03_00.py"
      ],
      "metadata": {
        "id": "UrCLKx14mLzq"
      },
      "execution_count": null,
      "outputs": []
    },
    {
      "cell_type": "code",
      "source": [
        "# Run this cell to execute the script.\n",
        "\n",
        "!python3.12 appy_s08_03_00.py"
      ],
      "metadata": {
        "id": "kbOIBGx_mLzr"
      },
      "execution_count": null,
      "outputs": []
    },
    {
      "cell_type": "markdown",
      "source": [
        "## 5.2 Extracting data from the data file"
      ],
      "metadata": {
        "id": "1FdKcLK_mO8Q"
      }
    },
    {
      "cell_type": "code",
      "source": [
        "# Run this cell to show the source code of this script.\n",
        "\n",
        "!cat appy_s08_03_01.py"
      ],
      "metadata": {
        "id": "HiuNiduJmSte"
      },
      "execution_count": null,
      "outputs": []
    },
    {
      "cell_type": "code",
      "source": [
        "# Run this cell to execute the script.\n",
        "\n",
        "!python3.12 appy_s08_03_01.py"
      ],
      "metadata": {
        "id": "xVxJiTmpmStf"
      },
      "execution_count": null,
      "outputs": []
    },
    {
      "cell_type": "markdown",
      "source": [
        "## 5.3 Visualising spectral energy distribution of HD 61005"
      ],
      "metadata": {
        "id": "lITtbccamVTL"
      }
    },
    {
      "cell_type": "code",
      "source": [
        "# Run this cell to show the source code of this script.\n",
        "\n",
        "!cat appy_s08_03_02.py"
      ],
      "metadata": {
        "id": "H84Ib7r-majv"
      },
      "execution_count": null,
      "outputs": []
    },
    {
      "cell_type": "code",
      "source": [
        "# Run this cell to execute the script.\n",
        "\n",
        "!python3.12 appy_s08_03_02.py"
      ],
      "metadata": {
        "id": "6lsG9bhxmajw"
      },
      "execution_count": null,
      "outputs": []
    },
    {
      "cell_type": "code",
      "source": [
        "# Run this cell to display PNG image.\n",
        "\n",
        "# importing IPython.display module\n",
        "import IPython.display\n",
        "\n",
        "# displaying PNG file\n",
        "IPython.display.Image ('appy_s08_03_02.png')"
      ],
      "metadata": {
        "id": "ZUkYcZMsmeXe"
      },
      "execution_count": null,
      "outputs": []
    },
    {
      "cell_type": "markdown",
      "source": [
        "## 5.4 SED fitting of HD 61005"
      ],
      "metadata": {
        "id": "KKfvDgX0mhgN"
      }
    },
    {
      "cell_type": "code",
      "source": [
        "# Run this cell to show the source code of this script.\n",
        "\n",
        "!cat appy_s08_03_03.py"
      ],
      "metadata": {
        "id": "Bp_Q5x1Cmopk"
      },
      "execution_count": null,
      "outputs": []
    },
    {
      "cell_type": "code",
      "source": [
        "# Run this cell to execute the script.\n",
        "\n",
        "!python3.12 appy_s08_03_03.py"
      ],
      "metadata": {
        "id": "YEpA5Znhmopl"
      },
      "execution_count": null,
      "outputs": []
    },
    {
      "cell_type": "code",
      "source": [
        "# Run this cell to display PNG image.\n",
        "\n",
        "# importing IPython.display module\n",
        "import IPython.display\n",
        "\n",
        "# displaying PNG file\n",
        "IPython.display.Image ('appy_s08_03_03.png')"
      ],
      "metadata": {
        "id": "NTsdE4ZGmopl"
      },
      "execution_count": null,
      "outputs": []
    },
    {
      "cell_type": "code",
      "source": [
        "# Run this cell to show the source code of this script.\n",
        "\n",
        "!cat appy_s08_03_04.py"
      ],
      "metadata": {
        "id": "YSEXnrN6mxzv"
      },
      "execution_count": null,
      "outputs": []
    },
    {
      "cell_type": "code",
      "source": [
        "# Run this cell to execute the script.\n",
        "\n",
        "!python3.12 appy_s08_03_04.py"
      ],
      "metadata": {
        "id": "_ted4WLvmxzw"
      },
      "execution_count": null,
      "outputs": []
    },
    {
      "cell_type": "code",
      "source": [
        "# Run this cell to display PNG image.\n",
        "\n",
        "# importing IPython.display module\n",
        "import IPython.display\n",
        "\n",
        "# displaying PNG file\n",
        "IPython.display.Image ('appy_s08_03_04.png')"
      ],
      "metadata": {
        "id": "k8J6-ed8mxzw"
      },
      "execution_count": null,
      "outputs": []
    },
    {
      "cell_type": "code",
      "source": [
        "# Run this cell to show the source code of this script.\n",
        "\n",
        "!cat appy_s08_03_05.py"
      ],
      "metadata": {
        "id": "BSaOz3j6m7qc"
      },
      "execution_count": null,
      "outputs": []
    },
    {
      "cell_type": "code",
      "source": [
        "# Run this cell to execute the script.\n",
        "\n",
        "!python3.12 appy_s08_03_05.py"
      ],
      "metadata": {
        "id": "mZDuTodYm7qd"
      },
      "execution_count": null,
      "outputs": []
    },
    {
      "cell_type": "code",
      "source": [
        "# Run this cell to display PNG image.\n",
        "\n",
        "# importing IPython.display module\n",
        "import IPython.display\n",
        "\n",
        "# displaying PNG file\n",
        "IPython.display.Image ('appy_s08_03_05.png')"
      ],
      "metadata": {
        "id": "1h0S5Paom7qe"
      },
      "execution_count": null,
      "outputs": []
    },
    {
      "cell_type": "code",
      "source": [
        "# Run this cell to show the source code of this script.\n",
        "\n",
        "!cat appy_s08_03_06.py"
      ],
      "metadata": {
        "id": "jeeJuGO5nDzo"
      },
      "execution_count": null,
      "outputs": []
    },
    {
      "cell_type": "code",
      "source": [
        "# Run this cell to execute the script.\n",
        "\n",
        "!python3.12 appy_s08_03_06.py"
      ],
      "metadata": {
        "id": "jTJxddO3nDzp"
      },
      "execution_count": null,
      "outputs": []
    },
    {
      "cell_type": "code",
      "source": [
        "# Run this cell to display PNG image.\n",
        "\n",
        "# importing IPython.display module\n",
        "import IPython.display\n",
        "\n",
        "# displaying PNG file\n",
        "IPython.display.Image ('appy_s08_03_06.png')"
      ],
      "metadata": {
        "id": "0RaV03SKnDzq"
      },
      "execution_count": null,
      "outputs": []
    },
    {
      "cell_type": "markdown",
      "source": [
        "# 6. Cosmic Microwave Background"
      ],
      "metadata": {
        "id": "9HjC7zUMnLa8"
      }
    },
    {
      "cell_type": "markdown",
      "source": [
        "## 6.1 Downloading COBE/FIRAS data"
      ],
      "metadata": {
        "id": "MIAtDHWtnOmm"
      }
    },
    {
      "cell_type": "code",
      "source": [
        "# Run this cell to show the source code of this script.\n",
        "\n",
        "!cat appy_s08_04_00.py"
      ],
      "metadata": {
        "id": "_GBU6G1BnWJd"
      },
      "execution_count": null,
      "outputs": []
    },
    {
      "cell_type": "code",
      "source": [
        "# Run this cell to execute the script.\n",
        "\n",
        "!python3.12 appy_s08_04_00.py"
      ],
      "metadata": {
        "id": "L1Dk_hutnWJe"
      },
      "execution_count": null,
      "outputs": []
    },
    {
      "cell_type": "markdown",
      "source": [
        "# 6.2 Reading data file"
      ],
      "metadata": {
        "id": "4sfPkaxsnaJG"
      }
    },
    {
      "cell_type": "code",
      "source": [
        "# Run this cell to show the source code of this script.\n",
        "\n",
        "!cat appy_s08_04_01.py"
      ],
      "metadata": {
        "id": "pp1yBzRzncnf"
      },
      "execution_count": null,
      "outputs": []
    },
    {
      "cell_type": "code",
      "source": [
        "# Run this cell to execute the script.\n",
        "\n",
        "!python3.12 appy_s08_04_01.py"
      ],
      "metadata": {
        "id": "qB-ELSxJncng"
      },
      "execution_count": null,
      "outputs": []
    },
    {
      "cell_type": "markdown",
      "source": [
        "## 6.3 Visualising CMB spectrum"
      ],
      "metadata": {
        "id": "GTalOtcenja2"
      }
    },
    {
      "cell_type": "code",
      "source": [
        "# Run this cell to show the source code of this script.\n",
        "\n",
        "!cat appy_s08_04_02.py"
      ],
      "metadata": {
        "id": "b3nIDiJNnoTR"
      },
      "execution_count": null,
      "outputs": []
    },
    {
      "cell_type": "code",
      "source": [
        "# Run this cell to execute the script.\n",
        "\n",
        "!python3.12 appy_s08_04_02.py"
      ],
      "metadata": {
        "id": "OP0sQJ5nnoTR"
      },
      "execution_count": null,
      "outputs": []
    },
    {
      "cell_type": "code",
      "source": [
        "# Run this cell to display PNG image.\n",
        "\n",
        "# importing IPython.display module\n",
        "import IPython.display\n",
        "\n",
        "# displaying PNG file\n",
        "IPython.display.Image ('appy_s08_04_02.png')"
      ],
      "metadata": {
        "id": "8eisN_xfnsuS"
      },
      "execution_count": null,
      "outputs": []
    },
    {
      "cell_type": "markdown",
      "source": [
        "## 6.4 Blackgody fitting to CMB spectrum"
      ],
      "metadata": {
        "id": "GkxCgmTJnwlz"
      }
    },
    {
      "cell_type": "code",
      "source": [
        "# Run this cell to show the source code of this script.\n",
        "\n",
        "!cat appy_s08_04_03.py"
      ],
      "metadata": {
        "id": "1mrblAu9n4ha"
      },
      "execution_count": null,
      "outputs": []
    },
    {
      "cell_type": "code",
      "source": [
        "# Run this cell to execute the script.\n",
        "\n",
        "!python3.12 appy_s08_04_03.py"
      ],
      "metadata": {
        "id": "CupmghtQn4ha"
      },
      "execution_count": null,
      "outputs": []
    },
    {
      "cell_type": "code",
      "source": [
        "# Run this cell to display PNG image.\n",
        "\n",
        "# importing IPython.display module\n",
        "import IPython.display\n",
        "\n",
        "# displaying PNG file\n",
        "IPython.display.Image ('appy_s08_04_03.png')"
      ],
      "metadata": {
        "id": "FSpVp45xn4ha"
      },
      "execution_count": null,
      "outputs": []
    },
    {
      "cell_type": "markdown",
      "source": [
        "# End of this notebook"
      ],
      "metadata": {
        "id": "JzuNhY0On-PR"
      }
    },
    {
      "cell_type": "code",
      "source": [],
      "metadata": {
        "id": "GkW94WEGjny5"
      },
      "execution_count": null,
      "outputs": []
    }
  ]
}