{
  "nbformat": 4,
  "nbformat_minor": 0,
  "metadata": {
    "colab": {
      "provenance": []
    },
    "kernelspec": {
      "name": "python3",
      "display_name": "Python 3"
    },
    "language_info": {
      "name": "python"
    }
  },
  "cells": [
    {
      "cell_type": "markdown",
      "source": [
        "# Doing Astrophysics using Python\n",
        "\n",
        "- \"Doing Astrophysics using Python\"\n",
        "  - Instructor: Kinoshita Daisuke\n",
        "  - Classroom: S4-202\n",
        "  - Time: from 18:00 to 20:50 on Tuesday\n",
        "  - Semester: 2nd semester of academic year 2023\n",
        "    - from February 2024 to June 2024\n",
        "  - Course web page: https://s3b.astro.ncu.edu.tw/appy_202402/\n",
        "  - GitHub repository: https://github.com/kinoshitadaisuke/ncu_doing_astrophysics_using_python_202402\n"
      ],
      "metadata": {
        "id": "gGzI83b9PmnI"
      }
    },
    {
      "cell_type": "markdown",
      "source": [
        "# Session 11: \"Estimating ages of star clusters\"\n",
        "\n",
        "## 30 April 2024\n",
        "\n",
        "## Instructor: Kinoshita Daisuke"
      ],
      "metadata": {
        "id": "Q7MvlbrC_tne"
      }
    },
    {
      "cell_type": "markdown",
      "source": [
        "# 0. Installation of Python interpreter"
      ],
      "metadata": {
        "id": "T_y7rto6Q5P8"
      }
    },
    {
      "cell_type": "code",
      "source": [
        "# Run this cell to install Python 3.12\n",
        "\n",
        "!apt update\n",
        "!apt upgrade\n",
        "!apt install python3.12 python3.12-dev python3.12-distutils libpython3.12-dev\n",
        "!update-alternatives --install /usr/bin/python3 python3 /usr/bin/python3.12 1\n",
        "!wget https://bootstrap.pypa.io/get-pip.py\n",
        "!python3.12 get-pip.py"
      ],
      "metadata": {
        "id": "MzmVLkC8QyGZ"
      },
      "execution_count": null,
      "outputs": []
    },
    {
      "cell_type": "code",
      "source": [
        "# Run this cell to check the version of Python interpreter and pip command\n",
        "\n",
        "!python --version\n",
        "!pip --version"
      ],
      "metadata": {
        "id": "Vx-JYTyp3NMU"
      },
      "execution_count": null,
      "outputs": []
    },
    {
      "cell_type": "code",
      "source": [
        "# Run this cell to install external Python packages.\n",
        "\n",
        "!pip install matplotlib numpy scipy astropy astroquery importlib_metadata"
      ],
      "metadata": {
        "id": "7V5dCLx5F9QU"
      },
      "execution_count": null,
      "outputs": []
    },
    {
      "cell_type": "markdown",
      "source": [
        "# 1. Downloading a set of sample Python scripts for this course"
      ],
      "metadata": {
        "id": "zvKZRFoF8A8k"
      }
    },
    {
      "cell_type": "code",
      "source": [
        "# Run this cell to download a set of sample Python scripts for this course.\n",
        "\n",
        "!git clone https://github.com/kinoshitadaisuke/ncu_doing_astrophysics_using_python_202402.git"
      ],
      "metadata": {
        "id": "itsUqwak4-z4"
      },
      "execution_count": null,
      "outputs": []
    },
    {
      "cell_type": "code",
      "source": [
        "# Run this cell to move to the directory for this session.\n",
        "\n",
        "%cd ncu_doing_astrophysics_using_python_202402/s11"
      ],
      "metadata": {
        "id": "bREyxIP08RZG"
      },
      "execution_count": null,
      "outputs": []
    },
    {
      "cell_type": "code",
      "source": [
        "# Run this cell to show a list of files for this session.\n",
        "\n",
        "!ls"
      ],
      "metadata": {
        "id": "fKxQ_X-D8dRN"
      },
      "execution_count": null,
      "outputs": []
    },
    {
      "cell_type": "markdown",
      "source": [
        "# 2. Check of availability of required Python packages"
      ],
      "metadata": {
        "id": "xXMSeaV73rP_"
      }
    },
    {
      "cell_type": "markdown",
      "source": [
        "## 2.1 Availability check of astroquery package"
      ],
      "metadata": {
        "id": "4vw6iiE03x6U"
      }
    },
    {
      "cell_type": "code",
      "source": [
        "# Run this cell to show the source code of this script.\n",
        "\n",
        "!cat appy_s11_00_00.py"
      ],
      "metadata": {
        "id": "g9pEphpR3uom"
      },
      "execution_count": null,
      "outputs": []
    },
    {
      "cell_type": "code",
      "source": [
        "# Run this cell to execute the script.\n",
        "\n",
        "!python3.12 appy_s11_00_00.py"
      ],
      "metadata": {
        "id": "qpZLbPs63712"
      },
      "execution_count": null,
      "outputs": []
    },
    {
      "cell_type": "markdown",
      "source": [
        "## 2.2 More flexible Python script for availability check of packages"
      ],
      "metadata": {
        "id": "f2pFBf4_4CuE"
      }
    },
    {
      "cell_type": "code",
      "source": [
        "# Run this cell to show the source code of this script.\n",
        "\n",
        "!cat appy_s11_00_01.py"
      ],
      "metadata": {
        "id": "eQ_lm3Mt4HVb"
      },
      "execution_count": null,
      "outputs": []
    },
    {
      "cell_type": "code",
      "source": [
        "# Run this cell to execute the script.\n",
        "\n",
        "!python3.12 appy_s11_00_01.py -h"
      ],
      "metadata": {
        "id": "En_Ac1CX4HVc"
      },
      "execution_count": null,
      "outputs": []
    },
    {
      "cell_type": "code",
      "source": [
        "# Run this cell to execute the script.\n",
        "\n",
        "!python3.12 appy_s11_00_01.py astropy"
      ],
      "metadata": {
        "id": "f23KHhHl4Ljh"
      },
      "execution_count": null,
      "outputs": []
    },
    {
      "cell_type": "code",
      "source": [
        "# Run this cell to execute the script.\n",
        "\n",
        "!python3.12 appy_s11_00_01.py numpy scipy matplotlib"
      ],
      "metadata": {
        "id": "OUySwtrX4OUY"
      },
      "execution_count": null,
      "outputs": []
    },
    {
      "cell_type": "markdown",
      "source": [
        "# 3. Using a name resolver"
      ],
      "metadata": {
        "id": "t8m962-r4ROa"
      }
    },
    {
      "cell_type": "markdown",
      "source": [
        "## 3.1 Using Astroquery to get the coordinate"
      ],
      "metadata": {
        "id": "GqmjbS-l4T7N"
      }
    },
    {
      "cell_type": "code",
      "source": [
        "# Run this cell to show the source code of this script.\n",
        "\n",
        "!cat appy_s11_01_00.py"
      ],
      "metadata": {
        "id": "ZawM7An-4YG_"
      },
      "execution_count": null,
      "outputs": []
    },
    {
      "cell_type": "code",
      "source": [
        "# Run this cell to execute the script.\n",
        "\n",
        "!python3.12 appy_s11_01_00.py"
      ],
      "metadata": {
        "id": "gDrE1jHU4YHE"
      },
      "execution_count": null,
      "outputs": []
    },
    {
      "cell_type": "markdown",
      "source": [
        "## 3.2 Making a flexible script for name resolving"
      ],
      "metadata": {
        "id": "3LBqEfeM4b9u"
      }
    },
    {
      "cell_type": "code",
      "source": [
        "# Run this cell to show the source code of this script.\n",
        "\n",
        "!cat appy_s11_01_01.py"
      ],
      "metadata": {
        "id": "Tevu-1Df4gIC"
      },
      "execution_count": null,
      "outputs": []
    },
    {
      "cell_type": "code",
      "source": [
        "# Run this cell to execute the script.\n",
        "\n",
        "!python3.12 appy_s11_01_01.py -h"
      ],
      "metadata": {
        "id": "5R7rSgeh4gIE"
      },
      "execution_count": null,
      "outputs": []
    },
    {
      "cell_type": "code",
      "source": [
        "# Run this cell to execute the script.\n",
        "\n",
        "!python3.12 appy_s11_01_01.py Betelgeuse"
      ],
      "metadata": {
        "id": "IPhfZR-74i7x"
      },
      "execution_count": null,
      "outputs": []
    },
    {
      "cell_type": "code",
      "source": [
        "# Run this cell to execute the script.\n",
        "\n",
        "!python3.12 appy_s11_01_01.py \"Crab Nebula\""
      ],
      "metadata": {
        "id": "7NBTxAO542JD"
      },
      "execution_count": null,
      "outputs": []
    },
    {
      "cell_type": "code",
      "source": [
        "# Run this cell to execute the script.\n",
        "\n",
        "!python3.12 appy_s11_01_01.py M1"
      ],
      "metadata": {
        "id": "6eHpTbtW447a"
      },
      "execution_count": null,
      "outputs": []
    },
    {
      "cell_type": "code",
      "source": [
        "# Run this cell to execute the script.\n",
        "\n",
        "!python3.12 appy_s11_01_01.py \"Sgr A*\""
      ],
      "metadata": {
        "id": "aQWCgtZk47u1"
      },
      "execution_count": null,
      "outputs": []
    },
    {
      "cell_type": "code",
      "source": [
        "# Run this cell to execute the script.\n",
        "\n",
        "!python3.12 appy_s11_01_01.py \"SN 1987A\""
      ],
      "metadata": {
        "id": "o39p11z95ANC"
      },
      "execution_count": null,
      "outputs": []
    },
    {
      "cell_type": "code",
      "source": [
        "# Run this cell to execute the script.\n",
        "\n",
        "!python3.12 appy_s11_01_01.py \"3C 273\""
      ],
      "metadata": {
        "id": "3h0kDIK25D6n"
      },
      "execution_count": null,
      "outputs": []
    },
    {
      "cell_type": "code",
      "source": [
        "# Run this cell to execute the script.\n",
        "\n",
        "!python3.12 appy_s11_01_01.py Vega Altair"
      ],
      "metadata": {
        "id": "GBXgwGLm5G3C"
      },
      "execution_count": null,
      "outputs": []
    },
    {
      "cell_type": "code",
      "source": [
        "# Run this cell to execute the script.\n",
        "\n",
        "!python3.12 appy_s11_01_01.py \"Andromeda Galaxy\" Praesepe Pleiades"
      ],
      "metadata": {
        "id": "_hIKPxqE5JEl"
      },
      "execution_count": null,
      "outputs": []
    },
    {
      "cell_type": "markdown",
      "source": [
        "# 4. Downloading DSS images"
      ],
      "metadata": {
        "id": "n8iWCGMy5OMv"
      }
    },
    {
      "cell_type": "markdown",
      "source": [
        "## 4.1 Downloading DSS images using Astroquery"
      ],
      "metadata": {
        "id": "dQmrqXXZ5QPO"
      }
    },
    {
      "cell_type": "code",
      "source": [
        "# Run this cell to show the source code of this script.\n",
        "\n",
        "!cat appy_s11_02_00.py"
      ],
      "metadata": {
        "id": "uyyV3Iy85WgM"
      },
      "execution_count": null,
      "outputs": []
    },
    {
      "cell_type": "code",
      "source": [
        "# Run this cell to execute the script.\n",
        "\n",
        "!python3.12 appy_s11_02_00.py"
      ],
      "metadata": {
        "id": "aBO0dPow5Wga"
      },
      "execution_count": null,
      "outputs": []
    },
    {
      "cell_type": "code",
      "source": [
        "# Run this cell to find newly downloaded file.\n",
        "\n",
        "!ls -lF *.fits"
      ],
      "metadata": {
        "id": "Y09JpcQt5-W7"
      },
      "execution_count": null,
      "outputs": []
    },
    {
      "cell_type": "code",
      "source": [
        "# Run this cell to show the source code of this script.\n",
        "\n",
        "!cat appy_s11_02_01.py"
      ],
      "metadata": {
        "id": "V2OAtoAS5b95"
      },
      "execution_count": null,
      "outputs": []
    },
    {
      "cell_type": "code",
      "source": [
        "# Run this cell to execute the script.\n",
        "\n",
        "!python3.12 appy_s11_02_01.py"
      ],
      "metadata": {
        "id": "YEBYHO4k5b99"
      },
      "execution_count": null,
      "outputs": []
    },
    {
      "cell_type": "code",
      "source": [
        "# Run this cell to display image file.\n",
        "\n",
        "# importing IPython module\n",
        "import IPython.display\n",
        "\n",
        "# displaying image file\n",
        "IPython.display.Image ('m1.png')"
      ],
      "metadata": {
        "id": "H2dbraxD4-ug"
      },
      "execution_count": null,
      "outputs": []
    },
    {
      "cell_type": "markdown",
      "source": [
        "## 4.2 Downloading DSS image of a given celestial object"
      ],
      "metadata": {
        "id": "8amRHQ5k5tmX"
      }
    },
    {
      "cell_type": "code",
      "source": [
        "# Run this cell to show the source code of this script.\n",
        "\n",
        "!cat appy_s11_02_02.py"
      ],
      "metadata": {
        "id": "pdptBC6_5zS-"
      },
      "execution_count": null,
      "outputs": []
    },
    {
      "cell_type": "code",
      "source": [
        "# Run this cell to execute the script.\n",
        "\n",
        "!python3.12 appy_s11_02_02.py -h"
      ],
      "metadata": {
        "id": "v2dxQnkt5zTA"
      },
      "execution_count": null,
      "outputs": []
    },
    {
      "cell_type": "code",
      "source": [
        "# Run this cell to execute the script.\n",
        "\n",
        "!python3.12 appy_s11_02_02.py -s \"DSS2 Red\" -t M2 -f 30 -o m2.fits"
      ],
      "metadata": {
        "id": "cmt2DH8c53g-"
      },
      "execution_count": null,
      "outputs": []
    },
    {
      "cell_type": "code",
      "source": [
        "# Run this cell to find newly downloaded file.\n",
        "\n",
        "!ls -lF *.fits"
      ],
      "metadata": {
        "id": "mJHEkWxV6El2"
      },
      "execution_count": null,
      "outputs": []
    },
    {
      "cell_type": "code",
      "source": [
        "# Run this cell to show the source code of this script.\n",
        "\n",
        "!cat appy_s11_02_03.py"
      ],
      "metadata": {
        "id": "KehnFPf76KIH"
      },
      "execution_count": null,
      "outputs": []
    },
    {
      "cell_type": "code",
      "source": [
        "# Run this cell to execute the script.\n",
        "\n",
        "!python3.12 appy_s11_02_03.py -h"
      ],
      "metadata": {
        "id": "bf2N-G1U6KIL"
      },
      "execution_count": null,
      "outputs": []
    },
    {
      "cell_type": "code",
      "source": [
        "# Run this cell to execute the script.\n",
        "\n",
        "!python3.12 appy_s11_02_03.py -i m2.fits -o m2.png -c cool -n \"Globular Cluster M2\""
      ],
      "metadata": {
        "id": "FA_BgnYU6KIM"
      },
      "execution_count": null,
      "outputs": []
    },
    {
      "cell_type": "code",
      "source": [
        "# Run this cell to display image file.\n",
        "\n",
        "# importing IPython module\n",
        "import IPython.display\n",
        "\n",
        "# displaying image file\n",
        "IPython.display.Image ('m2.png')"
      ],
      "metadata": {
        "id": "F-KYkgGx6WU_"
      },
      "execution_count": null,
      "outputs": []
    },
    {
      "cell_type": "markdown",
      "source": [
        "## 4.3 Making a PNG file without saving a FITS file"
      ],
      "metadata": {
        "id": "MTb4Ltt06ZKZ"
      }
    },
    {
      "cell_type": "code",
      "source": [
        "# Run this cell to show the source code of this script.\n",
        "\n",
        "!cat appy_s11_02_04.py"
      ],
      "metadata": {
        "id": "D9GbCXGf6gaD"
      },
      "execution_count": null,
      "outputs": []
    },
    {
      "cell_type": "code",
      "source": [
        "# Run this cell to execute the script.\n",
        "\n",
        "!python3.12 appy_s11_02_04.py -h"
      ],
      "metadata": {
        "id": "bxanM7en6gaE"
      },
      "execution_count": null,
      "outputs": []
    },
    {
      "cell_type": "code",
      "source": [
        "# Run this cell to execute the script.\n",
        "\n",
        "!python3.12 appy_s11_02_04.py -t M81 -o m81.png -s SDSSg -f 40 -c inferno -n \"Spiral Galaxy M81\""
      ],
      "metadata": {
        "id": "4kQl8km36gaF"
      },
      "execution_count": null,
      "outputs": []
    },
    {
      "cell_type": "code",
      "source": [
        "# Run this cell to display image file.\n",
        "\n",
        "# importing IPython module\n",
        "import IPython.display\n",
        "\n",
        "# displaying image file\n",
        "IPython.display.Image ('m81.png')"
      ],
      "metadata": {
        "id": "glAGo16W6gaG"
      },
      "execution_count": null,
      "outputs": []
    },
    {
      "cell_type": "code",
      "source": [
        "# Run this cell to execute the script.\n",
        "\n",
        "!python3.12 appy_s11_02_04.py -t \"Stephan's Quintet\" -o quintet.png -s SDSSr -c ocean -f 30 -n \"Stephan's Quintet\""
      ],
      "metadata": {
        "id": "NSmQMWaR625z"
      },
      "execution_count": null,
      "outputs": []
    },
    {
      "cell_type": "code",
      "source": [
        "# Run this cell to display image file.\n",
        "\n",
        "# importing IPython module\n",
        "import IPython.display\n",
        "\n",
        "# displaying image file\n",
        "IPython.display.Image ('quintet.png')"
      ],
      "metadata": {
        "id": "LH2US5Re6253"
      },
      "execution_count": null,
      "outputs": []
    },
    {
      "cell_type": "markdown",
      "source": [
        "# 5. Downloading Gaia DR3 Catalogue"
      ],
      "metadata": {
        "id": "ZDU6O3E07IYM"
      }
    },
    {
      "cell_type": "markdown",
      "source": [
        "## 5.1 Retrieving Gaia Catalogue"
      ],
      "metadata": {
        "id": "wJhxdPej7Lex"
      }
    },
    {
      "cell_type": "code",
      "source": [
        "# Run this cell to show the source code of this script.\n",
        "\n",
        "!cat appy_s11_03_00.py"
      ],
      "metadata": {
        "id": "aSVSEg387RyF"
      },
      "execution_count": null,
      "outputs": []
    },
    {
      "cell_type": "code",
      "source": [
        "# Run this cell to execute the script.\n",
        "\n",
        "!python3.12 appy_s11_03_00.py"
      ],
      "metadata": {
        "id": "PetjbDOO7RyT"
      },
      "execution_count": null,
      "outputs": []
    },
    {
      "cell_type": "code",
      "source": [
        "# Run this cell to find newly downloaded file.\n",
        "\n",
        "!ls -lF *.vot.gz"
      ],
      "metadata": {
        "id": "nqrgxXmX5rRK"
      },
      "execution_count": null,
      "outputs": []
    },
    {
      "cell_type": "code",
      "source": [
        "# Run this cell to find newly downloaded file.\n",
        "\n",
        "!file m3.vot.gz"
      ],
      "metadata": {
        "id": "jUHBuwYW7gyH"
      },
      "execution_count": null,
      "outputs": []
    },
    {
      "cell_type": "markdown",
      "source": [
        "## 5.2 Making a flexible script to download Gaia DR3 data"
      ],
      "metadata": {
        "id": "apF2QsTK7mzM"
      }
    },
    {
      "cell_type": "code",
      "source": [
        "# Run this cell to show the source code of this script.\n",
        "\n",
        "!cat appy_s11_03_01.py"
      ],
      "metadata": {
        "id": "VtbXFz6E7sb0"
      },
      "execution_count": null,
      "outputs": []
    },
    {
      "cell_type": "code",
      "source": [
        "# Run this cell to execute the script.\n",
        "\n",
        "!python3.12 appy_s11_03_01.py -h"
      ],
      "metadata": {
        "id": "6f0LVOGy7sb3"
      },
      "execution_count": null,
      "outputs": []
    },
    {
      "cell_type": "code",
      "source": [
        "# Run this cell to execute the script.\n",
        "\n",
        "!python3.12 appy_s11_03_01.py -t M4 -o m4.vot.gz -r 30"
      ],
      "metadata": {
        "id": "sVkTPnAM7w-8"
      },
      "execution_count": null,
      "outputs": []
    },
    {
      "cell_type": "code",
      "source": [
        "# Run this cell to find newly downloaded file.\n",
        "\n",
        "!ls -lF *.vot.gz"
      ],
      "metadata": {
        "id": "1IrupE0D8RHj"
      },
      "execution_count": null,
      "outputs": []
    },
    {
      "cell_type": "code",
      "source": [
        "# Run this cell to find newly downloaded file.\n",
        "\n",
        "!file m4.vot.gz"
      ],
      "metadata": {
        "id": "mvlU2Zzb8RH2"
      },
      "execution_count": null,
      "outputs": []
    },
    {
      "cell_type": "markdown",
      "source": [
        "# 6. Reading VOTable files"
      ],
      "metadata": {
        "id": "d0SO-G7y8U1o"
      }
    },
    {
      "cell_type": "markdown",
      "source": [
        "## 6.1 Reading a VOTable file"
      ],
      "metadata": {
        "id": "SPMQPwxX8XMS"
      }
    },
    {
      "cell_type": "code",
      "source": [
        "# Run this cell to show the source code of this script.\n",
        "\n",
        "!cat appy_s11_04_00.py"
      ],
      "metadata": {
        "id": "PdqU4UBA8bu8"
      },
      "execution_count": null,
      "outputs": []
    },
    {
      "cell_type": "code",
      "source": [
        "# Run this cell to execute the script.\n",
        "\n",
        "!python3.12 appy_s11_04_00.py"
      ],
      "metadata": {
        "id": "fMLOyVb58bvB"
      },
      "execution_count": null,
      "outputs": []
    },
    {
      "cell_type": "code",
      "source": [
        "# Run this cell to show the source code of this script.\n",
        "\n",
        "!cat appy_s11_04_01.py"
      ],
      "metadata": {
        "id": "FjOPm0Qs8mS5"
      },
      "execution_count": null,
      "outputs": []
    },
    {
      "cell_type": "code",
      "source": [
        "# Run this cell to execute the script.\n",
        "\n",
        "!python3.12 appy_s11_04_01.py"
      ],
      "metadata": {
        "id": "S6ZRkAzi8mS8"
      },
      "execution_count": null,
      "outputs": []
    },
    {
      "cell_type": "code",
      "source": [
        "# Run this cell to show the source code of this script.\n",
        "\n",
        "!cat appy_s11_04_02.py"
      ],
      "metadata": {
        "id": "yQ-KQYcA8qZL"
      },
      "execution_count": null,
      "outputs": []
    },
    {
      "cell_type": "code",
      "source": [
        "# Run this cell to execute the script.\n",
        "\n",
        "!python3.12 appy_s11_04_02.py"
      ],
      "metadata": {
        "id": "LHnAh9kv8qZU"
      },
      "execution_count": null,
      "outputs": []
    },
    {
      "cell_type": "code",
      "source": [
        "# Run this cell to show the source code of this script.\n",
        "\n",
        "!cat appy_s11_04_03.py"
      ],
      "metadata": {
        "id": "g1_SexFu8urq"
      },
      "execution_count": null,
      "outputs": []
    },
    {
      "cell_type": "code",
      "source": [
        "# Run this cell to execute the script.\n",
        "\n",
        "!python3.12 appy_s11_04_03.py"
      ],
      "metadata": {
        "id": "9AV8bsJp8uru"
      },
      "execution_count": null,
      "outputs": []
    },
    {
      "cell_type": "code",
      "source": [
        "# Run this cell to find newly created file.\n",
        "\n",
        "!ls -lF m3.*"
      ],
      "metadata": {
        "id": "nOCapWSh8xl_"
      },
      "execution_count": null,
      "outputs": []
    },
    {
      "cell_type": "code",
      "source": [
        "# Run this cell to show the file \"m3.list\".\n",
        "\n",
        "!head -20 m3.list"
      ],
      "metadata": {
        "id": "hQrX9M9n7k37"
      },
      "execution_count": null,
      "outputs": []
    },
    {
      "cell_type": "markdown",
      "source": [
        "## 6.2 Reading a VOTable file specified by a command-line argument"
      ],
      "metadata": {
        "id": "VNo942D09DFz"
      }
    },
    {
      "cell_type": "code",
      "source": [
        "# Run this cell to show the source code of this script.\n",
        "\n",
        "!cat appy_s11_04_04.py"
      ],
      "metadata": {
        "id": "HBu0Vrll9M5v"
      },
      "execution_count": null,
      "outputs": []
    },
    {
      "cell_type": "code",
      "source": [
        "# Run this cell to execute the script.\n",
        "\n",
        "!python3.12 appy_s11_04_04.py -h"
      ],
      "metadata": {
        "id": "yq9w5Exh9M59"
      },
      "execution_count": null,
      "outputs": []
    },
    {
      "cell_type": "code",
      "source": [
        "# Run this cell to execute the script.\n",
        "\n",
        "!python3.12 appy_s11_04_04.py -v -i m4.vot.gz -o m4.list"
      ],
      "metadata": {
        "id": "vWxSTA2w9P80"
      },
      "execution_count": null,
      "outputs": []
    },
    {
      "cell_type": "code",
      "source": [
        "# Run this cell to find newly created file.\n",
        "\n",
        "!ls -lF *.list"
      ],
      "metadata": {
        "id": "6PUo6jGq9VhT"
      },
      "execution_count": null,
      "outputs": []
    },
    {
      "cell_type": "code",
      "source": [
        "# Run this cell to show the file \"m3.list\".\n",
        "\n",
        "!head -20 m4.list"
      ],
      "metadata": {
        "id": "7Fj-menz9VhV"
      },
      "execution_count": null,
      "outputs": []
    },
    {
      "cell_type": "markdown",
      "source": [
        "# 7. HR diagram of open cluster NGC 2547"
      ],
      "metadata": {
        "id": "c6jUgnIa9iC0"
      }
    },
    {
      "cell_type": "markdown",
      "source": [
        "## 7.1 Downloading DSS image of NGC 2547"
      ],
      "metadata": {
        "id": "P-sE5raK9kgl"
      }
    },
    {
      "cell_type": "code",
      "source": [
        "# Run this cell to execute the script.\n",
        "\n",
        "!python3.12 appy_s11_02_04.py -t \"NGC 2547\" -f 60 -o ngc2547.png -n \"NGC 2547\" -s \"DSS2 Red\" -c inferno"
      ],
      "metadata": {
        "id": "OxfEApBl9F9l"
      },
      "execution_count": null,
      "outputs": []
    },
    {
      "cell_type": "code",
      "source": [
        "# Run this cell to display image file.\n",
        "\n",
        "# importing IPython module\n",
        "import IPython.display\n",
        "\n",
        "# displaying image file\n",
        "IPython.display.Image ('ngc2547.png')"
      ],
      "metadata": {
        "id": "rZb9q_SU9_E4"
      },
      "execution_count": null,
      "outputs": []
    },
    {
      "cell_type": "markdown",
      "source": [
        "## 7.2 Downloading Gaia DR3 catalogue"
      ],
      "metadata": {
        "id": "s2tFA6PC-D7E"
      }
    },
    {
      "cell_type": "code",
      "source": [
        "# Run this cell to execute the script.\n",
        "\n",
        "!python3.12 appy_s11_03_01.py -t \"NGC 2547\" -o ngc2547.vot.gz -r 45"
      ],
      "metadata": {
        "id": "1Psnk0u593wa"
      },
      "execution_count": null,
      "outputs": []
    },
    {
      "cell_type": "markdown",
      "source": [
        "## 7.3 Visualising positions of stars"
      ],
      "metadata": {
        "id": "TSFQD_V1-fyM"
      }
    },
    {
      "cell_type": "code",
      "source": [
        "# Run this cell to show the source code of this script.\n",
        "\n",
        "!cat appy_s11_05_00.py"
      ],
      "metadata": {
        "id": "kOkYkSpK-k2g"
      },
      "execution_count": null,
      "outputs": []
    },
    {
      "cell_type": "code",
      "source": [
        "# Run this cell to execute the script.\n",
        "\n",
        "!python3.12 appy_s11_05_00.py -h"
      ],
      "metadata": {
        "id": "kP6l9n0H-k2r"
      },
      "execution_count": null,
      "outputs": []
    },
    {
      "cell_type": "code",
      "source": [
        "# Run this cell to execute the script.\n",
        "\n",
        "!python3.12 appy_s11_05_00.py -i ngc2547.vot.gz -o ngc2547_stars.png -t \"NGC 2547\""
      ],
      "metadata": {
        "id": "DjL_v_Zi-wMi"
      },
      "execution_count": null,
      "outputs": []
    },
    {
      "cell_type": "code",
      "source": [
        "# Run this cell to display image file.\n",
        "\n",
        "# importing IPython module\n",
        "import IPython.display\n",
        "\n",
        "# displaying image file\n",
        "IPython.display.Image ('ngc2547_stars.png')"
      ],
      "metadata": {
        "id": "gCqLlmYT-5fI"
      },
      "execution_count": null,
      "outputs": []
    },
    {
      "cell_type": "markdown",
      "source": [
        "## 7.4 Errors of Gaia measurements"
      ],
      "metadata": {
        "id": "0gm5ZaQe-95l"
      }
    },
    {
      "cell_type": "code",
      "source": [
        "# Run this cell to show the source code of this script.\n",
        "\n",
        "!cat appy_s11_05_01.py"
      ],
      "metadata": {
        "id": "2hnU1i5M_IVk"
      },
      "execution_count": null,
      "outputs": []
    },
    {
      "cell_type": "code",
      "source": [
        "# Run this cell to execute the script.\n",
        "\n",
        "!python3.12 appy_s11_05_01.py -i ngc2547.vot.gz -o ngc2547_err_ra.png -t \"Errors of RA measurements\""
      ],
      "metadata": {
        "id": "-DCPl1sa_IVl"
      },
      "execution_count": null,
      "outputs": []
    },
    {
      "cell_type": "code",
      "source": [
        "# Run this cell to display image file.\n",
        "\n",
        "# importing IPython module\n",
        "import IPython.display\n",
        "\n",
        "# displaying image file\n",
        "IPython.display.Image ('ngc2547_err_ra.png')"
      ],
      "metadata": {
        "id": "hNtginT7_Xi0"
      },
      "execution_count": null,
      "outputs": []
    },
    {
      "cell_type": "code",
      "source": [
        "# Run this cell to show the source code of this script.\n",
        "\n",
        "!cat appy_s11_05_02.py"
      ],
      "metadata": {
        "id": "c91nuKsp_vN1"
      },
      "execution_count": null,
      "outputs": []
    },
    {
      "cell_type": "code",
      "source": [
        "# Run this cell to execute the script.\n",
        "\n",
        "!python3.12 appy_s11_05_02.py -i ngc2547.vot.gz -o ngc2547_err_dec.png -t \"Errors of Dec measurements\""
      ],
      "metadata": {
        "id": "Y8UK4zmH_vN9"
      },
      "execution_count": null,
      "outputs": []
    },
    {
      "cell_type": "code",
      "source": [
        "# Run this cell to display image file.\n",
        "\n",
        "# importing IPython module\n",
        "import IPython.display\n",
        "\n",
        "# displaying image file\n",
        "IPython.display.Image ('ngc2547_err_dec.png')"
      ],
      "metadata": {
        "id": "BOXVB_5W_vN_"
      },
      "execution_count": null,
      "outputs": []
    },
    {
      "cell_type": "code",
      "source": [
        "# Run this cell to show the source code of this script.\n",
        "\n",
        "!cat appy_s11_05_03.py"
      ],
      "metadata": {
        "id": "7yJhqfRJ_82S"
      },
      "execution_count": null,
      "outputs": []
    },
    {
      "cell_type": "code",
      "source": [
        "# Run this cell to execute the script.\n",
        "\n",
        "!python3.12 appy_s11_05_03.py -i ngc2547.vot.gz -o ngc2547_err_pm_ra.png -t \"Proper motion relative error in RA\""
      ],
      "metadata": {
        "id": "KKwlZ72j_82i"
      },
      "execution_count": null,
      "outputs": []
    },
    {
      "cell_type": "code",
      "source": [
        "# Run this cell to display image file.\n",
        "\n",
        "# importing IPython module\n",
        "import IPython.display\n",
        "\n",
        "# displaying image file\n",
        "IPython.display.Image ('ngc2547_err_pm_ra.png')"
      ],
      "metadata": {
        "id": "CIziwAry_82l"
      },
      "execution_count": null,
      "outputs": []
    },
    {
      "cell_type": "code",
      "source": [
        "# Run this cell to show the source code of this script.\n",
        "\n",
        "!cat appy_s11_05_04.py"
      ],
      "metadata": {
        "id": "mkE19iFLAH6p"
      },
      "execution_count": null,
      "outputs": []
    },
    {
      "cell_type": "code",
      "source": [
        "# Run this cell to execute the script.\n",
        "\n",
        "!python3.12 appy_s11_05_04.py -i ngc2547.vot.gz -o ngc2547_err_pm_dec.png -t \"Proper motion relative error in Dec\""
      ],
      "metadata": {
        "id": "lW-Ii2KzAH6t"
      },
      "execution_count": null,
      "outputs": []
    },
    {
      "cell_type": "code",
      "source": [
        "# Run this cell to display image file.\n",
        "\n",
        "# importing IPython module\n",
        "import IPython.display\n",
        "\n",
        "# displaying image file\n",
        "IPython.display.Image ('ngc2547_err_pm_dec.png')"
      ],
      "metadata": {
        "id": "RkixIaipAH6u"
      },
      "execution_count": null,
      "outputs": []
    },
    {
      "cell_type": "code",
      "source": [
        "# Run this cell to show the source code of this script.\n",
        "\n",
        "!cat appy_s11_05_05.py"
      ],
      "metadata": {
        "id": "j1SE5ySMATeL"
      },
      "execution_count": null,
      "outputs": []
    },
    {
      "cell_type": "code",
      "source": [
        "# Run this cell to execute the script.\n",
        "\n",
        "!python3.12 appy_s11_05_05.py -i ngc2547.vot.gz -o ngc2547_err_parallax.png -t \"SNR of parallax measurements\""
      ],
      "metadata": {
        "id": "Nd_qgWhsATeS"
      },
      "execution_count": null,
      "outputs": []
    },
    {
      "cell_type": "code",
      "source": [
        "# Run this cell to display image file.\n",
        "\n",
        "# importing IPython module\n",
        "import IPython.display\n",
        "\n",
        "# displaying image file\n",
        "IPython.display.Image ('ngc2547_err_parallax.png')"
      ],
      "metadata": {
        "id": "aZ20aygpATeU"
      },
      "execution_count": null,
      "outputs": []
    },
    {
      "cell_type": "code",
      "source": [
        "# Run this cell to show the source code of this script.\n",
        "\n",
        "!cat appy_s11_05_06.py"
      ],
      "metadata": {
        "id": "W9yExV0hAmt-"
      },
      "execution_count": null,
      "outputs": []
    },
    {
      "cell_type": "code",
      "source": [
        "# Run this cell to execute the script.\n",
        "\n",
        "!python3.12 appy_s11_05_06.py -i ngc2547.vot.gz -o ngc2547_err_g.png -t \"SNR of g-band measurements\""
      ],
      "metadata": {
        "id": "m5qVUor1AmuB"
      },
      "execution_count": null,
      "outputs": []
    },
    {
      "cell_type": "code",
      "source": [
        "# Run this cell to display image file.\n",
        "\n",
        "# importing IPython module\n",
        "import IPython.display\n",
        "\n",
        "# displaying image file\n",
        "IPython.display.Image ('ngc2547_err_g.png')"
      ],
      "metadata": {
        "id": "BydlLgWjAmuE"
      },
      "execution_count": null,
      "outputs": []
    },
    {
      "cell_type": "code",
      "source": [
        "# Run this cell to show the source code of this script.\n",
        "\n",
        "!cat appy_s11_05_07.py"
      ],
      "metadata": {
        "id": "UyJJYPclAzn_"
      },
      "execution_count": null,
      "outputs": []
    },
    {
      "cell_type": "code",
      "source": [
        "# Run this cell to execute the script.\n",
        "\n",
        "!python3.12 appy_s11_05_07.py -i ngc2547.vot.gz -o ngc2547_err_b.png -t \"SNR of b-band measurements\""
      ],
      "metadata": {
        "id": "gRL6u6hWAzoC"
      },
      "execution_count": null,
      "outputs": []
    },
    {
      "cell_type": "code",
      "source": [
        "# Run this cell to display image file.\n",
        "\n",
        "# importing IPython module\n",
        "import IPython.display\n",
        "\n",
        "# displaying image file\n",
        "IPython.display.Image ('ngc2547_err_b.png')"
      ],
      "metadata": {
        "id": "ARddZG9nAzoD"
      },
      "execution_count": null,
      "outputs": []
    },
    {
      "cell_type": "code",
      "source": [
        "# Run this cell to show the source code of this script.\n",
        "\n",
        "!cat appy_s11_05_08.py"
      ],
      "metadata": {
        "id": "QlF9c3OxA7vm"
      },
      "execution_count": null,
      "outputs": []
    },
    {
      "cell_type": "code",
      "source": [
        "# Run this cell to execute the script.\n",
        "\n",
        "!python3.12 appy_s11_05_08.py -i ngc2547.vot.gz -o ngc2547_err_r.png -t \"SNR of r-band measurements\""
      ],
      "metadata": {
        "id": "CjDH_-GzA7vo"
      },
      "execution_count": null,
      "outputs": []
    },
    {
      "cell_type": "code",
      "source": [
        "# Run this cell to display image file.\n",
        "\n",
        "# importing IPython module\n",
        "import IPython.display\n",
        "\n",
        "# displaying image file\n",
        "IPython.display.Image ('ngc2547_err_r.png')"
      ],
      "metadata": {
        "id": "T0PJrLkdA7vo"
      },
      "execution_count": null,
      "outputs": []
    },
    {
      "cell_type": "markdown",
      "source": [
        "## 7.5 Distribution of distances of stars"
      ],
      "metadata": {
        "id": "XCK-6W86BD2T"
      }
    },
    {
      "cell_type": "code",
      "source": [
        "# Run this cell to show the source code of this script.\n",
        "\n",
        "!cat appy_s11_05_09.py"
      ],
      "metadata": {
        "id": "jAGD0aJBBKl0"
      },
      "execution_count": null,
      "outputs": []
    },
    {
      "cell_type": "code",
      "source": [
        "# Run this cell to execute the script.\n",
        "\n",
        "!python3.12 appy_s11_05_09.py -h"
      ],
      "metadata": {
        "id": "4YOz4Ad3BKmE"
      },
      "execution_count": null,
      "outputs": []
    },
    {
      "cell_type": "code",
      "source": [
        "# Run this cell to execute the script.\n",
        "\n",
        "!python3.12 appy_s11_05_09.py -i ngc2547.vot.gz -o ngc2547_dist.png -a 0 -b 1000 -n 100"
      ],
      "metadata": {
        "id": "thCWoFZZBRdd"
      },
      "execution_count": null,
      "outputs": []
    },
    {
      "cell_type": "code",
      "source": [
        "# Run this cell to display image file.\n",
        "\n",
        "# importing IPython module\n",
        "import IPython.display\n",
        "\n",
        "# displaying image file\n",
        "IPython.display.Image ('ngc2547_dist.png')"
      ],
      "metadata": {
        "id": "Hiow9D1-BXqH"
      },
      "execution_count": null,
      "outputs": []
    },
    {
      "cell_type": "code",
      "source": [
        "# Run this cell to execute the script.\n",
        "\n",
        "!python3.12 appy_s11_05_09.py -i ngc2547.vot.gz -o ngc2547_dist2.png -a 300 -b 500 -n 40"
      ],
      "metadata": {
        "id": "KmAF75zKBght"
      },
      "execution_count": null,
      "outputs": []
    },
    {
      "cell_type": "code",
      "source": [
        "# Run this cell to display image file.\n",
        "\n",
        "# importing IPython module\n",
        "import IPython.display\n",
        "\n",
        "# displaying image file\n",
        "IPython.display.Image ('ngc2547_dist2.png')"
      ],
      "metadata": {
        "id": "Srv36AiYBnza"
      },
      "execution_count": null,
      "outputs": []
    },
    {
      "cell_type": "markdown",
      "source": [
        "## 7.6 Selecting stars by distance"
      ],
      "metadata": {
        "id": "Jt8qAju2BvUK"
      }
    },
    {
      "cell_type": "code",
      "source": [
        "# Run this cell to show the source code of this script.\n",
        "\n",
        "!cat appy_s11_05_10.py"
      ],
      "metadata": {
        "id": "xzjKQ8bQB2gI"
      },
      "execution_count": null,
      "outputs": []
    },
    {
      "cell_type": "code",
      "source": [
        "# Run this cell to execute the script.\n",
        "\n",
        "!python3.12 appy_s11_05_10.py -h"
      ],
      "metadata": {
        "id": "ofOVT9ADB2gL"
      },
      "execution_count": null,
      "outputs": []
    },
    {
      "cell_type": "code",
      "source": [
        "# Run this cell to execute the script.\n",
        "\n",
        "!python3.12 appy_s11_05_10.py -i ngc2547.vot.gz -o ngc2547_candidates.list -a 365 -b 415"
      ],
      "metadata": {
        "id": "kjsvVIL7B6pW"
      },
      "execution_count": null,
      "outputs": []
    },
    {
      "cell_type": "code",
      "source": [
        "# Find newly created file.\n",
        "\n",
        "!ls -lF *.list"
      ],
      "metadata": {
        "id": "SmkgYkd_-LAr"
      },
      "execution_count": null,
      "outputs": []
    },
    {
      "cell_type": "markdown",
      "source": [
        "## 7.7 Proper motion of selected stars"
      ],
      "metadata": {
        "id": "ewjkWBQLCKeZ"
      }
    },
    {
      "cell_type": "code",
      "source": [
        "# Run this cell to show the source code of this script.\n",
        "\n",
        "!cat appy_s11_05_11.py"
      ],
      "metadata": {
        "id": "11aJzqwRCfHp"
      },
      "execution_count": null,
      "outputs": []
    },
    {
      "cell_type": "code",
      "source": [
        "# Run this cell to execute the script.\n",
        "\n",
        "!python3.12 appy_s11_05_11.py -h"
      ],
      "metadata": {
        "id": "vByW4aoQCfHt"
      },
      "execution_count": null,
      "outputs": []
    },
    {
      "cell_type": "code",
      "source": [
        "# Run this cell to execute the script.\n",
        "\n",
        "!python3.12 appy_s11_05_11.py -i ngc2547_candidates.list -o ngc2547_pm1.png"
      ],
      "metadata": {
        "id": "-vZiZs3pCjKl"
      },
      "execution_count": null,
      "outputs": []
    },
    {
      "cell_type": "code",
      "source": [
        "# Run this cell to display image file.\n",
        "\n",
        "# importing IPython module\n",
        "import IPython.display\n",
        "\n",
        "# displaying image file\n",
        "IPython.display.Image ('ngc2547_pm1.png')"
      ],
      "metadata": {
        "id": "iOdsMuKFCpqR"
      },
      "execution_count": null,
      "outputs": []
    },
    {
      "cell_type": "code",
      "source": [
        "# Run this cell to show the source code of this script.\n",
        "\n",
        "!cat appy_s11_05_12.py"
      ],
      "metadata": {
        "id": "OD8xjJA8CxJA"
      },
      "execution_count": null,
      "outputs": []
    },
    {
      "cell_type": "code",
      "source": [
        "# Run this cell to execute the script.\n",
        "\n",
        "!python3.12 appy_s11_05_12.py -h"
      ],
      "metadata": {
        "id": "mJW6R4R1CxJN"
      },
      "execution_count": null,
      "outputs": []
    },
    {
      "cell_type": "code",
      "source": [
        "# Run this cell to execute the script.\n",
        "\n",
        "!python3.12 appy_s11_05_12.py -i ngc2547_candidates.list -o ngc2547_pm2.png -a1 -12 -a2 -3 -d1 2 -d2 11"
      ],
      "metadata": {
        "id": "Vjzow8_cCzP-"
      },
      "execution_count": null,
      "outputs": []
    },
    {
      "cell_type": "code",
      "source": [
        "# Run this cell to display image file.\n",
        "\n",
        "# importing IPython module\n",
        "import IPython.display\n",
        "\n",
        "# displaying image file\n",
        "IPython.display.Image ('ngc2547_pm2.png')"
      ],
      "metadata": {
        "id": "r4CBCV1GC8MD"
      },
      "execution_count": null,
      "outputs": []
    },
    {
      "cell_type": "code",
      "source": [
        "# Run this cell to execute the script.\n",
        "\n",
        "!python3.12 appy_s11_05_12.py -i ngc2547_candidates.list -o ngc2547_pm3.png -a1 -10 -a2 -7 -d1 3 -d2 6"
      ],
      "metadata": {
        "id": "COTYc5xzDM6b"
      },
      "execution_count": null,
      "outputs": []
    },
    {
      "cell_type": "code",
      "source": [
        "# Run this cell to display image file.\n",
        "\n",
        "# importing IPython module\n",
        "import IPython.display\n",
        "\n",
        "# displaying image file\n",
        "IPython.display.Image ('ngc2547_pm3.png')"
      ],
      "metadata": {
        "id": "5n0fFKdmDM6p"
      },
      "execution_count": null,
      "outputs": []
    },
    {
      "cell_type": "markdown",
      "source": [
        "## 7.8 Further selection of stars by proper motion"
      ],
      "metadata": {
        "id": "PKcO7fCcDXWr"
      }
    },
    {
      "cell_type": "code",
      "source": [
        "# Run this cell to show the source code of this script.\n",
        "\n",
        "!cat appy_s11_05_13.py"
      ],
      "metadata": {
        "id": "Elzbgm2_Dcin"
      },
      "execution_count": null,
      "outputs": []
    },
    {
      "cell_type": "code",
      "source": [
        "# Run this cell to execute the script.\n",
        "\n",
        "!python3.12 appy_s11_05_13.py -h"
      ],
      "metadata": {
        "id": "iyQgkA4XDcir"
      },
      "execution_count": null,
      "outputs": []
    },
    {
      "cell_type": "code",
      "source": [
        "# Run this cell to execute the script.\n",
        "\n",
        "!python3.12 appy_s11_05_13.py -i ngc2547_candidates.list -a1 -9.5 -a2 -8.0 -d1 3.5 -d2 5.0"
      ],
      "metadata": {
        "id": "A6OieqLoDgBh"
      },
      "execution_count": null,
      "outputs": []
    },
    {
      "cell_type": "code",
      "source": [
        "# Run this cell to show the source code of this script.\n",
        "\n",
        "!cat appy_s11_05_14.py"
      ],
      "metadata": {
        "id": "Bp76Rm3BDqt3"
      },
      "execution_count": null,
      "outputs": []
    },
    {
      "cell_type": "code",
      "source": [
        "# Run this cell to execute the script.\n",
        "\n",
        "!python3.12 appy_s11_05_14.py -h"
      ],
      "metadata": {
        "id": "IVU21ulgDqt8"
      },
      "execution_count": null,
      "outputs": []
    },
    {
      "cell_type": "code",
      "source": [
        "# Run this cell to execute the script.\n",
        "\n",
        "!python3.12 appy_s11_05_14.py -i ngc2547_candidates.list -o ngc2547_pm4.png -a1 -10 -a2 -7 -d1 3 -d2 6 0.50 0.75 1.00 1.25 1.50"
      ],
      "metadata": {
        "id": "uxPd4DOIDt45"
      },
      "execution_count": null,
      "outputs": []
    },
    {
      "cell_type": "code",
      "source": [
        "# Run this cell to display image file.\n",
        "\n",
        "# importing IPython module\n",
        "import IPython.display\n",
        "\n",
        "# displaying image file\n",
        "IPython.display.Image ('ngc2547_pm4.png')"
      ],
      "metadata": {
        "id": "Sm0rXjkyD4_-"
      },
      "execution_count": null,
      "outputs": []
    },
    {
      "cell_type": "code",
      "source": [
        "# Run this cell to show the source code of this script.\n",
        "\n",
        "!cat appy_s11_05_15.py"
      ],
      "metadata": {
        "id": "XhiRDYqfD_8W"
      },
      "execution_count": null,
      "outputs": []
    },
    {
      "cell_type": "code",
      "source": [
        "# Run this cell to execute the script.\n",
        "\n",
        "!python3.12 appy_s11_05_15.py -h"
      ],
      "metadata": {
        "id": "gQXATqs_D_8l"
      },
      "execution_count": null,
      "outputs": []
    },
    {
      "cell_type": "code",
      "source": [
        "# Run this cell to execute the script.\n",
        "\n",
        "!python3.12 appy_s11_05_15.py -i ngc2547_candidates.list -o ngc2547_candidates2.list -a1 -10 -a2 -7 -d1 3 -d2 6 -r 0.75"
      ],
      "metadata": {
        "id": "dJYiPWf4ECfv"
      },
      "execution_count": null,
      "outputs": []
    },
    {
      "cell_type": "code",
      "source": [
        "# Run this cell to find newly created file.\n",
        "\n",
        "!ls -lF ngc2547*.list"
      ],
      "metadata": {
        "id": "msd-1vI1CM-U"
      },
      "execution_count": null,
      "outputs": []
    },
    {
      "cell_type": "code",
      "source": [
        "# Run this cell to show the source code of this script.\n",
        "\n",
        "!cat appy_s11_05_16.py"
      ],
      "metadata": {
        "id": "ohHb5-pxEQ46"
      },
      "execution_count": null,
      "outputs": []
    },
    {
      "cell_type": "code",
      "source": [
        "# Run this cell to execute the script.\n",
        "\n",
        "!python3.12 appy_s11_05_16.py -h"
      ],
      "metadata": {
        "id": "b9VTwVz6EQ4-"
      },
      "execution_count": null,
      "outputs": []
    },
    {
      "cell_type": "code",
      "source": [
        "# Run this cell to execute the script.\n",
        "\n",
        "!python3.12 appy_s11_05_16.py -i ngc2547_candidates2.list -o ngc2547_pm5.png"
      ],
      "metadata": {
        "id": "L8oQSa39ETg6"
      },
      "execution_count": null,
      "outputs": []
    },
    {
      "cell_type": "code",
      "source": [
        "# Run this cell to display image file.\n",
        "\n",
        "# importing IPython module\n",
        "import IPython.display\n",
        "\n",
        "# displaying image file\n",
        "IPython.display.Image ('ngc2547_pm5.png')"
      ],
      "metadata": {
        "id": "t2Zh2aUAEgLH"
      },
      "execution_count": null,
      "outputs": []
    },
    {
      "cell_type": "code",
      "source": [
        "# Run this cell to show the source code of this script.\n",
        "\n",
        "!cat appy_s11_05_17.py"
      ],
      "metadata": {
        "id": "n7NR36R6EoUL"
      },
      "execution_count": null,
      "outputs": []
    },
    {
      "cell_type": "code",
      "source": [
        "# Run this cell to execute the script.\n",
        "\n",
        "!python3.12 appy_s11_05_17.py -h"
      ],
      "metadata": {
        "id": "UVqShCA1EoUM"
      },
      "execution_count": null,
      "outputs": []
    },
    {
      "cell_type": "code",
      "source": [
        "# Run this cell to execute the script.\n",
        "\n",
        "!python3.12 appy_s11_05_17.py -i ngc2547_candidates2.list -o ngc2547_hr.png -t \"Open cluster NGC 2547\""
      ],
      "metadata": {
        "id": "SWt_1ioGErZE"
      },
      "execution_count": null,
      "outputs": []
    },
    {
      "cell_type": "code",
      "source": [
        "# Run this cell to display image file.\n",
        "\n",
        "# importing IPython module\n",
        "import IPython.display\n",
        "\n",
        "# displaying image file\n",
        "IPython.display.Image ('ngc2547_hr.png')"
      ],
      "metadata": {
        "id": "JCughUFrExh5"
      },
      "execution_count": null,
      "outputs": []
    },
    {
      "cell_type": "markdown",
      "source": [
        "# 8. Constraining the age of NGC 2547"
      ],
      "metadata": {
        "id": "oSvO_agdE7c4"
      }
    },
    {
      "cell_type": "markdown",
      "source": [
        "## 8.1 Downloading data"
      ],
      "metadata": {
        "id": "NuSXc-kmE-aW"
      }
    },
    {
      "cell_type": "code",
      "source": [
        "# Run this cell to show the source code of this script.\n",
        "\n",
        "!cat appy_s11_06_00.py"
      ],
      "metadata": {
        "id": "iV2lEf7OFCuE"
      },
      "execution_count": null,
      "outputs": []
    },
    {
      "cell_type": "code",
      "source": [
        "# Run this cell to execute the script.\n",
        "\n",
        "!python3.12 appy_s11_06_00.py"
      ],
      "metadata": {
        "id": "5thk9CDdFCuG"
      },
      "execution_count": null,
      "outputs": []
    },
    {
      "cell_type": "markdown",
      "source": [
        "## 8.2 Reading data file"
      ],
      "metadata": {
        "id": "rYwAE6gxFG99"
      }
    },
    {
      "cell_type": "code",
      "source": [
        "# Run this cell to show the source code of this script.\n",
        "\n",
        "!cat appy_s11_06_01.py"
      ],
      "metadata": {
        "id": "TdoehDFzFLWC"
      },
      "execution_count": null,
      "outputs": []
    },
    {
      "cell_type": "code",
      "source": [
        "# Run this cell to execute the script.\n",
        "\n",
        "!python3.12 appy_s11_06_01.py"
      ],
      "metadata": {
        "id": "wRzkIDQGFLWU"
      },
      "execution_count": null,
      "outputs": []
    },
    {
      "cell_type": "markdown",
      "source": [
        "## 8.3 Visualising location of the main-sequence"
      ],
      "metadata": {
        "id": "EvJ5VSleFPIH"
      }
    },
    {
      "cell_type": "code",
      "source": [
        "# Run this cell to show the source code of this script.\n",
        "\n",
        "!cat appy_s11_06_02.py"
      ],
      "metadata": {
        "id": "ktIjXcioFVMx"
      },
      "execution_count": null,
      "outputs": []
    },
    {
      "cell_type": "code",
      "source": [
        "# Run this cell to execute the script.\n",
        "\n",
        "!python3.12 appy_s11_06_02.py -h"
      ],
      "metadata": {
        "id": "7GZCqwdOFVM1"
      },
      "execution_count": null,
      "outputs": []
    },
    {
      "cell_type": "code",
      "source": [
        "# Run this cell to execute the script.\n",
        "\n",
        "!python3.12 appy_s11_06_02.py -i ngc2547_candidates2.list -m ms.data -o ngc2547_hr2.png -t \"Open cluster NGC 2547\""
      ],
      "metadata": {
        "id": "vRgCUUoFFYsJ"
      },
      "execution_count": null,
      "outputs": []
    },
    {
      "cell_type": "code",
      "source": [
        "# Run this cell to display image file.\n",
        "\n",
        "# importing IPython module\n",
        "import IPython.display\n",
        "\n",
        "# displaying image file\n",
        "IPython.display.Image ('ngc2547_hr2.png')"
      ],
      "metadata": {
        "id": "E2ofeQORFiCN"
      },
      "execution_count": null,
      "outputs": []
    },
    {
      "cell_type": "markdown",
      "source": [
        "# End of this notebook"
      ],
      "metadata": {
        "id": "rglj2-o-Fm6b"
      }
    },
    {
      "cell_type": "code",
      "source": [],
      "metadata": {
        "id": "EtnZUDwMEM3E"
      },
      "execution_count": null,
      "outputs": []
    }
  ]
}