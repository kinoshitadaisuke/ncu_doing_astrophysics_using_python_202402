{
  "nbformat": 4,
  "nbformat_minor": 0,
  "metadata": {
    "colab": {
      "provenance": []
    },
    "kernelspec": {
      "name": "python3",
      "display_name": "Python 3"
    },
    "language_info": {
      "name": "python"
    }
  },
  "cells": [
    {
      "cell_type": "markdown",
      "source": [
        "# Doing Astrophysics using Python\n",
        "\n",
        "- \"Doing Astrophysics using Python\"\n",
        "  - Instructor: Kinoshita Daisuke\n",
        "  - Classroom: S4-202\n",
        "  - Time: from 18:00 to 20:50 on Tuesday\n",
        "  - Semester: 2nd semester of academic year 2023\n",
        "    - from February 2024 to June 2024\n",
        "  - Course web page: https://s3b.astro.ncu.edu.tw/appy_202402/\n",
        "  - GitHub repository: https://github.com/kinoshitadaisuke/ncu_doing_astrophysics_using_python_202402\n"
      ],
      "metadata": {
        "id": "gGzI83b9PmnI"
      }
    },
    {
      "cell_type": "markdown",
      "source": [
        "# Session 10: \"Hubble diagram and expansion of the Universe\"\n",
        "\n",
        "## 23 April 2024\n",
        "\n",
        "## Instructor: Kinoshita Daisuke"
      ],
      "metadata": {
        "id": "Q7MvlbrC_tne"
      }
    },
    {
      "cell_type": "markdown",
      "source": [
        "# 0. Installation of Python interpreter"
      ],
      "metadata": {
        "id": "T_y7rto6Q5P8"
      }
    },
    {
      "cell_type": "code",
      "source": [
        "# Run this cell to install Python 3.12\n",
        "\n",
        "!apt update\n",
        "!apt upgrade\n",
        "!apt install python3.12 python3.12-dev python3.12-distutils libpython3.12-dev\n",
        "!update-alternatives --install /usr/bin/python3 python3 /usr/bin/python3.12 1\n",
        "!wget https://bootstrap.pypa.io/get-pip.py\n",
        "!python3.12 get-pip.py"
      ],
      "metadata": {
        "id": "MzmVLkC8QyGZ"
      },
      "execution_count": null,
      "outputs": []
    },
    {
      "cell_type": "code",
      "source": [
        "# Run this cell to check the version of Python interpreter and pip command\n",
        "\n",
        "!python --version\n",
        "!pip --version"
      ],
      "metadata": {
        "id": "Vx-JYTyp3NMU"
      },
      "execution_count": null,
      "outputs": []
    },
    {
      "cell_type": "code",
      "source": [
        "# Run this cell to install external Python packages.\n",
        "\n",
        "!pip install matplotlib numpy astropy GitPython"
      ],
      "metadata": {
        "id": "7V5dCLx5F9QU"
      },
      "execution_count": null,
      "outputs": []
    },
    {
      "cell_type": "markdown",
      "source": [
        "# 1. Downloading a set of sample Python scripts for this course"
      ],
      "metadata": {
        "id": "zvKZRFoF8A8k"
      }
    },
    {
      "cell_type": "code",
      "source": [
        "# Run this cell to download a set of sample Python scripts for this course.\n",
        "\n",
        "!git clone https://github.com/kinoshitadaisuke/ncu_doing_astrophysics_using_python_202402.git"
      ],
      "metadata": {
        "id": "itsUqwak4-z4"
      },
      "execution_count": null,
      "outputs": []
    },
    {
      "cell_type": "code",
      "source": [
        "# Run this cell to move to the directory for this session.\n",
        "\n",
        "%cd ncu_doing_astrophysics_using_python_202402/s10"
      ],
      "metadata": {
        "id": "bREyxIP08RZG"
      },
      "execution_count": null,
      "outputs": []
    },
    {
      "cell_type": "code",
      "source": [
        "# Run this cell to show a list of files for this session.\n",
        "\n",
        "!ls"
      ],
      "metadata": {
        "id": "fKxQ_X-D8dRN"
      },
      "execution_count": null,
      "outputs": []
    },
    {
      "cell_type": "markdown",
      "source": [
        "# 2. Check of availability of required Python packages"
      ],
      "metadata": {
        "id": "TmP7ldGUWNG2"
      }
    },
    {
      "cell_type": "markdown",
      "source": [
        "## 2.1 Availability check of Astropy package"
      ],
      "metadata": {
        "id": "zbkmm6cDWQ9y"
      }
    },
    {
      "cell_type": "code",
      "source": [
        "# Run this cell to show the source code of the script.\n",
        "\n",
        "!cat appy_s10_00_00.py"
      ],
      "metadata": {
        "id": "3_Z2pLtXWQQC"
      },
      "execution_count": null,
      "outputs": []
    },
    {
      "cell_type": "code",
      "source": [
        "# Run this cell to execute the script.\n",
        "\n",
        "!python3.12 appy_s10_00_00.py"
      ],
      "metadata": {
        "id": "f0a1VOLnWXSE"
      },
      "execution_count": null,
      "outputs": []
    },
    {
      "cell_type": "markdown",
      "source": [
        "## 2.2 More flexible Python script for availability check of packages"
      ],
      "metadata": {
        "id": "0_2ugmgBWhDe"
      }
    },
    {
      "cell_type": "code",
      "source": [
        "# Run this cell to show the source code of the script.\n",
        "\n",
        "!cat appy_s10_00_01.py"
      ],
      "metadata": {
        "id": "pm41I9x5WmiI"
      },
      "execution_count": null,
      "outputs": []
    },
    {
      "cell_type": "code",
      "source": [
        "# Run this cell to execute the script.\n",
        "\n",
        "!python3.12 appy_s10_00_01.py -h"
      ],
      "metadata": {
        "id": "wEzp6H7QWmiJ"
      },
      "execution_count": null,
      "outputs": []
    },
    {
      "cell_type": "code",
      "source": [
        "# Run this cell to execute the script.\n",
        "\n",
        "!python3.12 appy_s10_00_01.py astropy"
      ],
      "metadata": {
        "id": "yfnUp8ewWq-X"
      },
      "execution_count": null,
      "outputs": []
    },
    {
      "cell_type": "code",
      "source": [
        "# Run this cell to execute the script.\n",
        "\n",
        "!python3.12 appy_s10_00_01.py photutils"
      ],
      "metadata": {
        "id": "5B_WBRbZWuD8"
      },
      "execution_count": null,
      "outputs": []
    },
    {
      "cell_type": "code",
      "source": [],
      "metadata": {
        "id": "SBwkPd6_WcBY"
      },
      "execution_count": null,
      "outputs": []
    },
    {
      "cell_type": "code",
      "source": [
        "# Run this cell to execute the script.\n",
        "\n",
        "!python3.12 appy_s10_00_01.py numpy scipy"
      ],
      "metadata": {
        "id": "Dmp_6YRgWwFV"
      },
      "execution_count": null,
      "outputs": []
    },
    {
      "cell_type": "code",
      "source": [
        "# Run this cell to execute the script.\n",
        "\n",
        "!python3.12 appy_s10_00_01.py uncertainties pint sklearn"
      ],
      "metadata": {
        "id": "f5tqK5b8WzRE"
      },
      "execution_count": null,
      "outputs": []
    },
    {
      "cell_type": "markdown",
      "source": [
        "# 3. Reading a CSV file"
      ],
      "metadata": {
        "id": "nXLadri7W3l9"
      }
    },
    {
      "cell_type": "markdown",
      "source": [
        "## 3.1 CSV file for planets"
      ],
      "metadata": {
        "id": "sqltwelGW6Sm"
      }
    },
    {
      "cell_type": "markdown",
      "source": [
        "### 3.1.1 Downloading a CSV file"
      ],
      "metadata": {
        "id": "2yRnZQX8W9DZ"
      }
    },
    {
      "cell_type": "code",
      "source": [
        "# Run this cell to show the source code of the script.\n",
        "\n",
        "!cat appy_s10_01_00.py"
      ],
      "metadata": {
        "id": "fXKKb85-XEM1"
      },
      "execution_count": null,
      "outputs": []
    },
    {
      "cell_type": "code",
      "source": [
        "# Run this cell to execute the script.\n",
        "\n",
        "!python3.12 appy_s10_01_00.py"
      ],
      "metadata": {
        "id": "9QcjaL8kXEM4"
      },
      "execution_count": null,
      "outputs": []
    },
    {
      "cell_type": "code",
      "source": [
        "# Run this cell to find downloaded files.\n",
        "\n",
        "!ls -lF honey-badger"
      ],
      "metadata": {
        "id": "csqruCxiWxYM"
      },
      "execution_count": null,
      "outputs": []
    },
    {
      "cell_type": "code",
      "source": [
        "# Run this cell to find downloaded files.\n",
        "\n",
        "!ls -lF honey-badger/examples"
      ],
      "metadata": {
        "id": "FryisuegXSM1"
      },
      "execution_count": null,
      "outputs": []
    },
    {
      "cell_type": "code",
      "source": [
        "# Run this cell to find downloaded files.\n",
        "\n",
        "!ls -lF honey-badger/examples/planets"
      ],
      "metadata": {
        "id": "dS0T3SUZXSTz"
      },
      "execution_count": null,
      "outputs": []
    },
    {
      "cell_type": "markdown",
      "source": [
        "### 3.1.2 Reading a CSV file using astropy.io.ascii"
      ],
      "metadata": {
        "id": "QMCmOyjuXXQe"
      }
    },
    {
      "cell_type": "code",
      "source": [
        "# Run this cell to show the source code of the script.\n",
        "\n",
        "!cat appy_s10_01_01.py"
      ],
      "metadata": {
        "id": "Moi_mbkdXdIm"
      },
      "execution_count": null,
      "outputs": []
    },
    {
      "cell_type": "code",
      "source": [
        "# Run this cell to execute the script.\n",
        "\n",
        "!python3.12 appy_s10_01_01.py"
      ],
      "metadata": {
        "id": "xBjDjKoEXdIp"
      },
      "execution_count": null,
      "outputs": []
    },
    {
      "cell_type": "code",
      "source": [
        "# Run this cell to show the source code of the script.\n",
        "\n",
        "!cat appy_s10_01_02.py"
      ],
      "metadata": {
        "id": "slN3k1riXhPl"
      },
      "execution_count": null,
      "outputs": []
    },
    {
      "cell_type": "code",
      "source": [
        "# Run this cell to execute the script.\n",
        "\n",
        "!python3.12 appy_s10_01_02.py"
      ],
      "metadata": {
        "id": "h15phAjOXhPn"
      },
      "execution_count": null,
      "outputs": []
    },
    {
      "cell_type": "code",
      "source": [
        "# Run this cell to show the source code of the script.\n",
        "\n",
        "!cat appy_s10_01_03.py"
      ],
      "metadata": {
        "id": "csMXxNAbXlLf"
      },
      "execution_count": null,
      "outputs": []
    },
    {
      "cell_type": "code",
      "source": [
        "# Run this cell to execute the script.\n",
        "\n",
        "!python3.12 appy_s10_01_03.py"
      ],
      "metadata": {
        "id": "-4O5_0paXlLh"
      },
      "execution_count": null,
      "outputs": []
    },
    {
      "cell_type": "code",
      "source": [
        "# Run this cell to show the source code of the script.\n",
        "\n",
        "!cat appy_s10_01_04.py"
      ],
      "metadata": {
        "id": "jegoHQUbXpDZ"
      },
      "execution_count": null,
      "outputs": []
    },
    {
      "cell_type": "code",
      "source": [
        "# Run this cell to execute the script.\n",
        "\n",
        "!python3.12 appy_s10_01_04.py"
      ],
      "metadata": {
        "id": "6o7s6sPyXpDf"
      },
      "execution_count": null,
      "outputs": []
    },
    {
      "cell_type": "markdown",
      "source": [
        "## 3.2 CSV file for stars"
      ],
      "metadata": {
        "id": "YXaWM3y6Xt6X"
      }
    },
    {
      "cell_type": "markdown",
      "source": [
        "### 3.2.1 Downloading a CSV file"
      ],
      "metadata": {
        "id": "46LkD_mkXvxA"
      }
    },
    {
      "cell_type": "code",
      "source": [
        "# Run this cell to check whether or not you have GitPython module.\n",
        "\n",
        "!python3.12 appy_s10_00_01.py git"
      ],
      "metadata": {
        "id": "F81eF65rXN9g"
      },
      "execution_count": null,
      "outputs": []
    },
    {
      "cell_type": "code",
      "source": [
        "# Run this cell to show the source code of the script.\n",
        "\n",
        "!cat appy_s10_01_05.py"
      ],
      "metadata": {
        "id": "RHzkobAtYBN_"
      },
      "execution_count": null,
      "outputs": []
    },
    {
      "cell_type": "code",
      "source": [
        "# Run this cell to execute the script.\n",
        "\n",
        "!python3.12 appy_s10_01_05.py"
      ],
      "metadata": {
        "id": "ge9pAlpJYBOC"
      },
      "execution_count": null,
      "outputs": []
    },
    {
      "cell_type": "code",
      "source": [
        "# Run this cell to find downloaded files.\n",
        "\n",
        "!ls -lF hyg"
      ],
      "metadata": {
        "id": "ahYWhkJqX7eP"
      },
      "execution_count": null,
      "outputs": []
    },
    {
      "cell_type": "code",
      "source": [
        "# Run this cell to find downloaded files.\n",
        "\n",
        "!ls -lF hyg/hyg"
      ],
      "metadata": {
        "id": "w4vDMYQoYKsW"
      },
      "execution_count": null,
      "outputs": []
    },
    {
      "cell_type": "code",
      "source": [
        "# Run this cell to find downloaded files.\n",
        "\n",
        "!ls -lF hyg/hyg/v3"
      ],
      "metadata": {
        "id": "NU3jKIgoYMs2"
      },
      "execution_count": null,
      "outputs": []
    },
    {
      "cell_type": "code",
      "source": [
        "# Run this cell to show the source code of the script.\n",
        "\n",
        "!cat appy_s10_01_06.py"
      ],
      "metadata": {
        "id": "7V_qaRZRYQ9f"
      },
      "execution_count": null,
      "outputs": []
    },
    {
      "cell_type": "code",
      "source": [
        "# Run this cell to execute the script.\n",
        "\n",
        "!python3.12 appy_s10_01_06.py"
      ],
      "metadata": {
        "id": "sCXpC7ruYQ9j"
      },
      "execution_count": null,
      "outputs": []
    },
    {
      "cell_type": "code",
      "source": [
        "# Run this cell to show the source code of the script.\n",
        "\n",
        "!cat appy_s10_01_07.py"
      ],
      "metadata": {
        "id": "J_pHTNu2YY7j"
      },
      "execution_count": null,
      "outputs": []
    },
    {
      "cell_type": "code",
      "source": [
        "# Run this cell to execute the script.\n",
        "\n",
        "!python3.12 appy_s10_01_07.py"
      ],
      "metadata": {
        "id": "qObVmX4zYY7o"
      },
      "execution_count": null,
      "outputs": []
    },
    {
      "cell_type": "code",
      "source": [],
      "metadata": {
        "id": "YPduqTLMYJC_"
      },
      "execution_count": null,
      "outputs": []
    }
  ]
}