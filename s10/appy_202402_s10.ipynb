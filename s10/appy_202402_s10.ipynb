{
  "nbformat": 4,
  "nbformat_minor": 0,
  "metadata": {
    "colab": {
      "provenance": []
    },
    "kernelspec": {
      "name": "python3",
      "display_name": "Python 3"
    },
    "language_info": {
      "name": "python"
    }
  },
  "cells": [
    {
      "cell_type": "markdown",
      "source": [
        "# Doing Astrophysics using Python\n",
        "\n",
        "- \"Doing Astrophysics using Python\"\n",
        "  - Instructor: Kinoshita Daisuke\n",
        "  - Classroom: S4-202\n",
        "  - Time: from 18:00 to 20:50 on Tuesday\n",
        "  - Semester: 2nd semester of academic year 2023\n",
        "    - from February 2024 to June 2024\n",
        "  - Course web page: https://s3b.astro.ncu.edu.tw/appy_202402/\n",
        "  - GitHub repository: https://github.com/kinoshitadaisuke/ncu_doing_astrophysics_using_python_202402\n"
      ],
      "metadata": {
        "id": "gGzI83b9PmnI"
      }
    },
    {
      "cell_type": "markdown",
      "source": [
        "# Session 10: \"Hubble diagram and expansion of the Universe\"\n",
        "\n",
        "## 23 April 2024\n",
        "\n",
        "## Instructor: Kinoshita Daisuke"
      ],
      "metadata": {
        "id": "Q7MvlbrC_tne"
      }
    },
    {
      "cell_type": "markdown",
      "source": [
        "# 0. Installation of Python interpreter"
      ],
      "metadata": {
        "id": "T_y7rto6Q5P8"
      }
    },
    {
      "cell_type": "code",
      "source": [
        "# Run this cell to install Python 3.12\n",
        "\n",
        "!apt update\n",
        "!apt upgrade\n",
        "!apt install python3.12 python3.12-dev python3.12-distutils libpython3.12-dev\n",
        "!update-alternatives --install /usr/bin/python3 python3 /usr/bin/python3.12 1\n",
        "!wget https://bootstrap.pypa.io/get-pip.py\n",
        "!python3.12 get-pip.py"
      ],
      "metadata": {
        "id": "MzmVLkC8QyGZ"
      },
      "execution_count": null,
      "outputs": []
    },
    {
      "cell_type": "code",
      "source": [
        "# Run this cell to check the version of Python interpreter and pip command\n",
        "\n",
        "!python --version\n",
        "!pip --version"
      ],
      "metadata": {
        "id": "Vx-JYTyp3NMU"
      },
      "execution_count": null,
      "outputs": []
    },
    {
      "cell_type": "code",
      "source": [
        "# Run this cell to install external Python packages.\n",
        "\n",
        "!pip install matplotlib numpy scipy astropy GitPython"
      ],
      "metadata": {
        "id": "7V5dCLx5F9QU"
      },
      "execution_count": null,
      "outputs": []
    },
    {
      "cell_type": "markdown",
      "source": [
        "# 1. Downloading a set of sample Python scripts for this course"
      ],
      "metadata": {
        "id": "zvKZRFoF8A8k"
      }
    },
    {
      "cell_type": "code",
      "source": [
        "# Run this cell to download a set of sample Python scripts for this course.\n",
        "\n",
        "!git clone https://github.com/kinoshitadaisuke/ncu_doing_astrophysics_using_python_202402.git"
      ],
      "metadata": {
        "id": "itsUqwak4-z4"
      },
      "execution_count": null,
      "outputs": []
    },
    {
      "cell_type": "code",
      "source": [
        "# Run this cell to move to the directory for this session.\n",
        "\n",
        "%cd ncu_doing_astrophysics_using_python_202402/s10"
      ],
      "metadata": {
        "id": "bREyxIP08RZG"
      },
      "execution_count": null,
      "outputs": []
    },
    {
      "cell_type": "code",
      "source": [
        "# Run this cell to show a list of files for this session.\n",
        "\n",
        "!ls"
      ],
      "metadata": {
        "id": "fKxQ_X-D8dRN"
      },
      "execution_count": null,
      "outputs": []
    },
    {
      "cell_type": "markdown",
      "source": [
        "# 2. Check of availability of required Python packages"
      ],
      "metadata": {
        "id": "TmP7ldGUWNG2"
      }
    },
    {
      "cell_type": "markdown",
      "source": [
        "## 2.1 Availability check of Astropy package"
      ],
      "metadata": {
        "id": "zbkmm6cDWQ9y"
      }
    },
    {
      "cell_type": "code",
      "source": [
        "# Run this cell to show the source code of the script.\n",
        "\n",
        "!cat appy_s10_00_00.py"
      ],
      "metadata": {
        "id": "3_Z2pLtXWQQC"
      },
      "execution_count": null,
      "outputs": []
    },
    {
      "cell_type": "code",
      "source": [
        "# Run this cell to execute the script.\n",
        "\n",
        "!python3.12 appy_s10_00_00.py"
      ],
      "metadata": {
        "id": "f0a1VOLnWXSE"
      },
      "execution_count": null,
      "outputs": []
    },
    {
      "cell_type": "markdown",
      "source": [
        "## 2.2 More flexible Python script for availability check of packages"
      ],
      "metadata": {
        "id": "0_2ugmgBWhDe"
      }
    },
    {
      "cell_type": "code",
      "source": [
        "# Run this cell to show the source code of the script.\n",
        "\n",
        "!cat appy_s10_00_01.py"
      ],
      "metadata": {
        "id": "pm41I9x5WmiI"
      },
      "execution_count": null,
      "outputs": []
    },
    {
      "cell_type": "code",
      "source": [
        "# Run this cell to execute the script.\n",
        "\n",
        "!python3.12 appy_s10_00_01.py -h"
      ],
      "metadata": {
        "id": "wEzp6H7QWmiJ"
      },
      "execution_count": null,
      "outputs": []
    },
    {
      "cell_type": "code",
      "source": [
        "# Run this cell to execute the script.\n",
        "\n",
        "!python3.12 appy_s10_00_01.py astropy"
      ],
      "metadata": {
        "id": "yfnUp8ewWq-X"
      },
      "execution_count": null,
      "outputs": []
    },
    {
      "cell_type": "code",
      "source": [
        "# Run this cell to execute the script.\n",
        "\n",
        "!python3.12 appy_s10_00_01.py photutils"
      ],
      "metadata": {
        "id": "5B_WBRbZWuD8"
      },
      "execution_count": null,
      "outputs": []
    },
    {
      "cell_type": "code",
      "source": [],
      "metadata": {
        "id": "SBwkPd6_WcBY"
      },
      "execution_count": null,
      "outputs": []
    },
    {
      "cell_type": "code",
      "source": [
        "# Run this cell to execute the script.\n",
        "\n",
        "!python3.12 appy_s10_00_01.py numpy scipy"
      ],
      "metadata": {
        "id": "Dmp_6YRgWwFV"
      },
      "execution_count": null,
      "outputs": []
    },
    {
      "cell_type": "code",
      "source": [
        "# Run this cell to execute the script.\n",
        "\n",
        "!python3.12 appy_s10_00_01.py uncertainties pint sklearn"
      ],
      "metadata": {
        "id": "f5tqK5b8WzRE"
      },
      "execution_count": null,
      "outputs": []
    },
    {
      "cell_type": "markdown",
      "source": [
        "# 3. Reading a CSV file"
      ],
      "metadata": {
        "id": "nXLadri7W3l9"
      }
    },
    {
      "cell_type": "markdown",
      "source": [
        "## 3.1 CSV file for planets"
      ],
      "metadata": {
        "id": "sqltwelGW6Sm"
      }
    },
    {
      "cell_type": "markdown",
      "source": [
        "### 3.1.1 Downloading a CSV file"
      ],
      "metadata": {
        "id": "2yRnZQX8W9DZ"
      }
    },
    {
      "cell_type": "code",
      "source": [
        "# Run this cell to show the source code of the script.\n",
        "\n",
        "!cat appy_s10_01_00.py"
      ],
      "metadata": {
        "id": "fXKKb85-XEM1"
      },
      "execution_count": null,
      "outputs": []
    },
    {
      "cell_type": "code",
      "source": [
        "# Run this cell to execute the script.\n",
        "\n",
        "!python3.12 appy_s10_01_00.py"
      ],
      "metadata": {
        "id": "9QcjaL8kXEM4"
      },
      "execution_count": null,
      "outputs": []
    },
    {
      "cell_type": "code",
      "source": [
        "# Run this cell to find downloaded files.\n",
        "\n",
        "!ls -lF honey-badger"
      ],
      "metadata": {
        "id": "csqruCxiWxYM"
      },
      "execution_count": null,
      "outputs": []
    },
    {
      "cell_type": "code",
      "source": [
        "# Run this cell to find downloaded files.\n",
        "\n",
        "!ls -lF honey-badger/examples"
      ],
      "metadata": {
        "id": "FryisuegXSM1"
      },
      "execution_count": null,
      "outputs": []
    },
    {
      "cell_type": "code",
      "source": [
        "# Run this cell to find downloaded files.\n",
        "\n",
        "!ls -lF honey-badger/examples/planets"
      ],
      "metadata": {
        "id": "dS0T3SUZXSTz"
      },
      "execution_count": null,
      "outputs": []
    },
    {
      "cell_type": "markdown",
      "source": [
        "### 3.1.2 Reading a CSV file using astropy.io.ascii"
      ],
      "metadata": {
        "id": "QMCmOyjuXXQe"
      }
    },
    {
      "cell_type": "code",
      "source": [
        "# Run this cell to show the source code of the script.\n",
        "\n",
        "!cat appy_s10_01_01.py"
      ],
      "metadata": {
        "id": "Moi_mbkdXdIm"
      },
      "execution_count": null,
      "outputs": []
    },
    {
      "cell_type": "code",
      "source": [
        "# Run this cell to execute the script.\n",
        "\n",
        "!python3.12 appy_s10_01_01.py"
      ],
      "metadata": {
        "id": "xBjDjKoEXdIp"
      },
      "execution_count": null,
      "outputs": []
    },
    {
      "cell_type": "code",
      "source": [
        "# Run this cell to show the source code of the script.\n",
        "\n",
        "!cat appy_s10_01_02.py"
      ],
      "metadata": {
        "id": "slN3k1riXhPl"
      },
      "execution_count": null,
      "outputs": []
    },
    {
      "cell_type": "code",
      "source": [
        "# Run this cell to execute the script.\n",
        "\n",
        "!python3.12 appy_s10_01_02.py"
      ],
      "metadata": {
        "id": "h15phAjOXhPn"
      },
      "execution_count": null,
      "outputs": []
    },
    {
      "cell_type": "code",
      "source": [
        "# Run this cell to show the source code of the script.\n",
        "\n",
        "!cat appy_s10_01_03.py"
      ],
      "metadata": {
        "id": "csMXxNAbXlLf"
      },
      "execution_count": null,
      "outputs": []
    },
    {
      "cell_type": "code",
      "source": [
        "# Run this cell to execute the script.\n",
        "\n",
        "!python3.12 appy_s10_01_03.py"
      ],
      "metadata": {
        "id": "-4O5_0paXlLh"
      },
      "execution_count": null,
      "outputs": []
    },
    {
      "cell_type": "code",
      "source": [
        "# Run this cell to show the source code of the script.\n",
        "\n",
        "!cat appy_s10_01_04.py"
      ],
      "metadata": {
        "id": "jegoHQUbXpDZ"
      },
      "execution_count": null,
      "outputs": []
    },
    {
      "cell_type": "code",
      "source": [
        "# Run this cell to execute the script.\n",
        "\n",
        "!python3.12 appy_s10_01_04.py"
      ],
      "metadata": {
        "id": "6o7s6sPyXpDf"
      },
      "execution_count": null,
      "outputs": []
    },
    {
      "cell_type": "markdown",
      "source": [
        "## 3.2 CSV file for stars"
      ],
      "metadata": {
        "id": "YXaWM3y6Xt6X"
      }
    },
    {
      "cell_type": "markdown",
      "source": [
        "### 3.2.1 Downloading a CSV file"
      ],
      "metadata": {
        "id": "46LkD_mkXvxA"
      }
    },
    {
      "cell_type": "code",
      "source": [
        "# Run this cell to check whether or not you have GitPython module.\n",
        "\n",
        "!python3.12 appy_s10_00_01.py git"
      ],
      "metadata": {
        "id": "F81eF65rXN9g"
      },
      "execution_count": null,
      "outputs": []
    },
    {
      "cell_type": "code",
      "source": [
        "# Run this cell to show the source code of the script.\n",
        "\n",
        "!cat appy_s10_01_05.py"
      ],
      "metadata": {
        "id": "RHzkobAtYBN_"
      },
      "execution_count": null,
      "outputs": []
    },
    {
      "cell_type": "code",
      "source": [
        "# Run this cell to execute the script.\n",
        "\n",
        "!python3.12 appy_s10_01_05.py"
      ],
      "metadata": {
        "id": "ge9pAlpJYBOC"
      },
      "execution_count": null,
      "outputs": []
    },
    {
      "cell_type": "code",
      "source": [
        "# Run this cell to find downloaded files.\n",
        "\n",
        "!ls -lF hyg"
      ],
      "metadata": {
        "id": "ahYWhkJqX7eP"
      },
      "execution_count": null,
      "outputs": []
    },
    {
      "cell_type": "code",
      "source": [
        "# Run this cell to find downloaded files.\n",
        "\n",
        "!ls -lF hyg/hyg"
      ],
      "metadata": {
        "id": "w4vDMYQoYKsW"
      },
      "execution_count": null,
      "outputs": []
    },
    {
      "cell_type": "code",
      "source": [
        "# Run this cell to find downloaded files.\n",
        "\n",
        "!ls -lF hyg/hyg/v3"
      ],
      "metadata": {
        "id": "NU3jKIgoYMs2"
      },
      "execution_count": null,
      "outputs": []
    },
    {
      "cell_type": "markdown",
      "source": [
        "### 3.2.2 Reading a CSV file"
      ],
      "metadata": {
        "id": "ZA_IEip_QyG5"
      }
    },
    {
      "cell_type": "code",
      "source": [
        "# Run this cell to show the source code of the script.\n",
        "\n",
        "!cat appy_s10_01_06.py"
      ],
      "metadata": {
        "id": "7V_qaRZRYQ9f"
      },
      "execution_count": null,
      "outputs": []
    },
    {
      "cell_type": "code",
      "source": [
        "# Run this cell to execute the script.\n",
        "\n",
        "!python3.12 appy_s10_01_06.py"
      ],
      "metadata": {
        "id": "sCXpC7ruYQ9j"
      },
      "execution_count": null,
      "outputs": []
    },
    {
      "cell_type": "code",
      "source": [
        "# Run this cell to show the source code of the script.\n",
        "\n",
        "!cat appy_s10_01_07.py"
      ],
      "metadata": {
        "id": "J_pHTNu2YY7j"
      },
      "execution_count": null,
      "outputs": []
    },
    {
      "cell_type": "code",
      "source": [
        "# Run this cell to execute the script.\n",
        "\n",
        "!python3.12 appy_s10_01_07.py"
      ],
      "metadata": {
        "id": "qObVmX4zYY7o"
      },
      "execution_count": null,
      "outputs": []
    },
    {
      "cell_type": "markdown",
      "source": [
        "# 4. Reading a JSON file"
      ],
      "metadata": {
        "id": "1CZf4bgVQ6xE"
      }
    },
    {
      "cell_type": "markdown",
      "source": [
        "## 4.1 Exoplanet data in a JSON file"
      ],
      "metadata": {
        "id": "iY3lBUgSQ85-"
      }
    },
    {
      "cell_type": "markdown",
      "source": [
        "### 4.1.1 Downloading a JSON file"
      ],
      "metadata": {
        "id": "sD_7liw-Q_Wu"
      }
    },
    {
      "cell_type": "code",
      "source": [
        "# Run this cell to show the source code of the script.\n",
        "\n",
        "!cat appy_s10_02_00.py"
      ],
      "metadata": {
        "id": "tioKaNUeRGKf"
      },
      "execution_count": null,
      "outputs": []
    },
    {
      "cell_type": "code",
      "source": [
        "# Run this cell to execute the script.\n",
        "\n",
        "!python3.12 appy_s10_02_00.py"
      ],
      "metadata": {
        "id": "ZGPYQnC9RGKm"
      },
      "execution_count": null,
      "outputs": []
    },
    {
      "cell_type": "code",
      "source": [
        "# Run this cell to find downloaded files.\n",
        "\n",
        "!ls -lF exoplanets"
      ],
      "metadata": {
        "id": "YPduqTLMYJC_"
      },
      "execution_count": null,
      "outputs": []
    },
    {
      "cell_type": "code",
      "source": [
        "# Run this cell to find downloaded files.\n",
        "\n",
        "!ls -lF exoplanets/data"
      ],
      "metadata": {
        "id": "U5hGWGj7ROXo"
      },
      "execution_count": null,
      "outputs": []
    },
    {
      "cell_type": "markdown",
      "source": [
        "### 4.1.2 Reading a JSON file"
      ],
      "metadata": {
        "id": "xerpyf7cRRba"
      }
    },
    {
      "cell_type": "code",
      "source": [
        "# Run this cell to show the source code of the script.\n",
        "\n",
        "!cat appy_s10_02_01.py"
      ],
      "metadata": {
        "id": "ObEkeg3hRVIU"
      },
      "execution_count": null,
      "outputs": []
    },
    {
      "cell_type": "code",
      "source": [
        "# Run this cell to execute the script.\n",
        "\n",
        "!python3.12 appy_s10_02_01.py"
      ],
      "metadata": {
        "id": "gWDlYgLPRVIi"
      },
      "execution_count": null,
      "outputs": []
    },
    {
      "cell_type": "code",
      "source": [
        "# Run this cell to show the source code of the script.\n",
        "\n",
        "!cat appy_s10_02_02.py"
      ],
      "metadata": {
        "id": "rjvvNSujRaF6"
      },
      "execution_count": null,
      "outputs": []
    },
    {
      "cell_type": "code",
      "source": [
        "# Run this cell to execute the script.\n",
        "\n",
        "!python3.12 appy_s10_02_02.py"
      ],
      "metadata": {
        "id": "MQUOhKlaRaF9"
      },
      "execution_count": null,
      "outputs": []
    },
    {
      "cell_type": "code",
      "source": [
        "# Run this cell to show the source code of the script.\n",
        "\n",
        "!cat appy_s10_02_03.py"
      ],
      "metadata": {
        "id": "urPl-bgZRft7"
      },
      "execution_count": null,
      "outputs": []
    },
    {
      "cell_type": "code",
      "source": [
        "# Run this cell to execute the script.\n",
        "\n",
        "!python3.12 appy_s10_02_03.py"
      ],
      "metadata": {
        "id": "GADdD4y0Rft9"
      },
      "execution_count": null,
      "outputs": []
    },
    {
      "cell_type": "code",
      "source": [
        "# Run this cell to show the source code of the script.\n",
        "\n",
        "!cat appy_s10_02_04.py"
      ],
      "metadata": {
        "id": "JfkjelyGRkrP"
      },
      "execution_count": null,
      "outputs": []
    },
    {
      "cell_type": "code",
      "source": [
        "# Run this cell to execute the script.\n",
        "\n",
        "!python3.12 appy_s10_02_04.py"
      ],
      "metadata": {
        "id": "FzWeHzGdRkrm"
      },
      "execution_count": null,
      "outputs": []
    },
    {
      "cell_type": "markdown",
      "source": [
        "## 4.2 Star data in a JSON file"
      ],
      "metadata": {
        "id": "RP2jqhzZRoo7"
      }
    },
    {
      "cell_type": "markdown",
      "source": [
        "### 4.2.1 Downloading a JSON file"
      ],
      "metadata": {
        "id": "E4V4IfziRq79"
      }
    },
    {
      "cell_type": "code",
      "source": [
        "# Run this cell to show the source code of the script.\n",
        "\n",
        "!cat appy_s10_02_05.py"
      ],
      "metadata": {
        "id": "a1mewEJCRvPb"
      },
      "execution_count": null,
      "outputs": []
    },
    {
      "cell_type": "code",
      "source": [
        "# Run this cell to execute the script.\n",
        "\n",
        "!python3.12 appy_s10_02_05.py"
      ],
      "metadata": {
        "id": "v0cxFAuJRvPf"
      },
      "execution_count": null,
      "outputs": []
    },
    {
      "cell_type": "markdown",
      "source": [
        "### 4.2.2 Reading a JSON file"
      ],
      "metadata": {
        "id": "p952Xd6RR0N8"
      }
    },
    {
      "cell_type": "code",
      "source": [
        "# Run this cell to show the source code of the script.\n",
        "\n",
        "!cat appy_s10_02_06.py"
      ],
      "metadata": {
        "id": "VWEY5K_hR4-r"
      },
      "execution_count": null,
      "outputs": []
    },
    {
      "cell_type": "code",
      "source": [
        "# Run this cell to execute the script.\n",
        "\n",
        "!python3.12 appy_s10_02_06.py"
      ],
      "metadata": {
        "id": "swpbM2FnR4-u"
      },
      "execution_count": null,
      "outputs": []
    },
    {
      "cell_type": "code",
      "source": [
        "# Run this cell to show the source code of the script.\n",
        "\n",
        "!cat appy_s10_02_07.py"
      ],
      "metadata": {
        "id": "4zxnFQy2SEnj"
      },
      "execution_count": null,
      "outputs": []
    },
    {
      "cell_type": "code",
      "source": [
        "# Run this cell to execute the script.\n",
        "\n",
        "!python3.12 appy_s10_02_07.py"
      ],
      "metadata": {
        "id": "6nhY-RaGSEnz"
      },
      "execution_count": null,
      "outputs": []
    },
    {
      "cell_type": "markdown",
      "source": [
        "# 5. Catalog & Atlas of the LV galaxies"
      ],
      "metadata": {
        "id": "-aSW0kQiSKGI"
      }
    },
    {
      "cell_type": "markdown",
      "source": [
        "## 5.1 Downloading velocity table"
      ],
      "metadata": {
        "id": "YHdixQ46SNlN"
      }
    },
    {
      "cell_type": "code",
      "source": [
        "# Run this cell to show the source code of the script.\n",
        "\n",
        "!cat appy_s10_03_00.py"
      ],
      "metadata": {
        "id": "ykc8_O3BSROJ"
      },
      "execution_count": null,
      "outputs": []
    },
    {
      "cell_type": "code",
      "source": [
        "# Run this cell to execute the script.\n",
        "\n",
        "!python3.12 appy_s10_03_00.py"
      ],
      "metadata": {
        "id": "KvSd9m8lSROL"
      },
      "execution_count": null,
      "outputs": []
    },
    {
      "cell_type": "code",
      "source": [
        "# Run this cell to find downloaded file.\n",
        "\n",
        "!ls -lF *.data"
      ],
      "metadata": {
        "id": "whHkLrSzRNGy"
      },
      "execution_count": null,
      "outputs": []
    },
    {
      "cell_type": "markdown",
      "source": [
        "## 5.2 Downloading distance table"
      ],
      "metadata": {
        "id": "DGo7uGegSaXd"
      }
    },
    {
      "cell_type": "code",
      "source": [
        "# Run this cell to show the source code of the script.\n",
        "\n",
        "!cat appy_s10_03_01.py"
      ],
      "metadata": {
        "id": "Ap0dXryMSeKE"
      },
      "execution_count": null,
      "outputs": []
    },
    {
      "cell_type": "code",
      "source": [
        "# Run this cell to execute the script.\n",
        "\n",
        "!python3.12 appy_s10_03_01.py"
      ],
      "metadata": {
        "id": "74zYM_vzSeKH"
      },
      "execution_count": null,
      "outputs": []
    },
    {
      "cell_type": "code",
      "source": [
        "# Run this cell to find downloaded file.\n",
        "\n",
        "!ls -lF *.data"
      ],
      "metadata": {
        "id": "bUwUjW02SeKK"
      },
      "execution_count": null,
      "outputs": []
    },
    {
      "cell_type": "markdown",
      "source": [
        "## 5.3 Reading tables"
      ],
      "metadata": {
        "id": "45aJkL0FSoyl"
      }
    },
    {
      "cell_type": "code",
      "source": [
        "# Run this cell to show the source code of the script.\n",
        "\n",
        "!cat appy_s10_03_02.py"
      ],
      "metadata": {
        "id": "71iIEc4vSsE7"
      },
      "execution_count": null,
      "outputs": []
    },
    {
      "cell_type": "code",
      "source": [
        "# Run this cell to execute the script.\n",
        "\n",
        "!python3.12 appy_s10_03_02.py"
      ],
      "metadata": {
        "id": "0Q4Z-EYkSsE9"
      },
      "execution_count": null,
      "outputs": []
    },
    {
      "cell_type": "code",
      "source": [
        "# Run this cell to find newly created file.\n",
        "\n",
        "!ls -lF *.data"
      ],
      "metadata": {
        "id": "7SzHWWQnSYI7"
      },
      "execution_count": null,
      "outputs": []
    },
    {
      "cell_type": "code",
      "source": [
        "# Run this cell to show first 20 lines of the file \"lvg_dv.data\".\n",
        "\n",
        "!head -20 lvg_dv.data"
      ],
      "metadata": {
        "id": "7btuXxu5Sz09"
      },
      "execution_count": null,
      "outputs": []
    },
    {
      "cell_type": "markdown",
      "source": [
        "## 5.4 Making a Hubble diagram for LV galaxies"
      ],
      "metadata": {
        "id": "EXCawJpYT3ud"
      }
    },
    {
      "cell_type": "code",
      "source": [
        "# Run this cell to show the source code of the script.\n",
        "\n",
        "!cat appy_s10_03_03.py"
      ],
      "metadata": {
        "id": "nNzv3M85T8ZT"
      },
      "execution_count": null,
      "outputs": []
    },
    {
      "cell_type": "code",
      "source": [
        "# Run this cell to execute the script.\n",
        "\n",
        "!python3.12 appy_s10_03_03.py -h"
      ],
      "metadata": {
        "id": "4wPGNV5cT8ZW"
      },
      "execution_count": null,
      "outputs": []
    },
    {
      "cell_type": "code",
      "source": [
        "# Run this cell to execute the script.\n",
        "\n",
        "!python3.12 appy_s10_03_03.py -i lvg_dv.data -o lvg_dv.png"
      ],
      "metadata": {
        "id": "jJ6xGluKUHzV"
      },
      "execution_count": null,
      "outputs": []
    },
    {
      "cell_type": "code",
      "source": [
        "# Run this cell to display an image file.\n",
        "\n",
        "# importing IPython module\n",
        "import IPython.display\n",
        "\n",
        "# displaying an image file\n",
        "IPython.display.Image ('lvg_dv.png')"
      ],
      "metadata": {
        "id": "3nkglQzJS7qc"
      },
      "execution_count": null,
      "outputs": []
    },
    {
      "cell_type": "markdown",
      "source": [
        "# 6. NED-1D database"
      ],
      "metadata": {
        "id": "o6IBLz5-Uap3"
      }
    },
    {
      "cell_type": "markdown",
      "source": [
        "## 6.1 Downloading data from NED-1D database"
      ],
      "metadata": {
        "id": "u9ztIbQ3XPO9"
      }
    },
    {
      "cell_type": "code",
      "source": [
        "# Run this cell to show the source code of the script.\n",
        "\n",
        "!cat appy_s10_04_00.py"
      ],
      "metadata": {
        "id": "L8m5g4KzXcRZ"
      },
      "execution_count": null,
      "outputs": []
    },
    {
      "cell_type": "code",
      "source": [
        "# Run this cell to execute the script.\n",
        "\n",
        "!python3.12 appy_s10_04_00.py"
      ],
      "metadata": {
        "id": "8yr5IX1wXcRd"
      },
      "execution_count": null,
      "outputs": []
    },
    {
      "cell_type": "code",
      "source": [
        "# Run this cell to find downloaded file.\n",
        "\n",
        "!ls -lF *.csv"
      ],
      "metadata": {
        "id": "F-WsuBwNUXE0"
      },
      "execution_count": null,
      "outputs": []
    },
    {
      "cell_type": "code",
      "source": [
        "# Run this cell to show the source code of the script.\n",
        "\n",
        "!cat appy_s10_04_01.py"
      ],
      "metadata": {
        "id": "sVugviBZXojp"
      },
      "execution_count": null,
      "outputs": []
    },
    {
      "cell_type": "code",
      "source": [
        "# Run this cell to execute the script.\n",
        "\n",
        "!python3.12 appy_s10_04_01.py"
      ],
      "metadata": {
        "id": "LbngwHK1Xojr"
      },
      "execution_count": null,
      "outputs": []
    },
    {
      "cell_type": "code",
      "source": [
        "# Run this cell to show first 20 lines of newly created file.\n",
        "\n",
        "!head -20 ned1d_new.csv"
      ],
      "metadata": {
        "id": "9fNaSYZ7XsDr"
      },
      "execution_count": null,
      "outputs": []
    },
    {
      "cell_type": "markdown",
      "source": [
        "## 6.2 Reading CSV file using astropy.io.ascii"
      ],
      "metadata": {
        "id": "hdPDRO5hX1mp"
      }
    },
    {
      "cell_type": "code",
      "source": [
        "# Run this cell to show the source code of the script.\n",
        "\n",
        "!cat appy_s10_04_02.py"
      ],
      "metadata": {
        "id": "J5ddj1E3X6G0"
      },
      "execution_count": null,
      "outputs": []
    },
    {
      "cell_type": "code",
      "source": [
        "# Run this cell to execute the script.\n",
        "\n",
        "!python3.12 appy_s10_04_02.py"
      ],
      "metadata": {
        "id": "3DkzJIaoX6G3"
      },
      "execution_count": null,
      "outputs": []
    },
    {
      "cell_type": "markdown",
      "source": [
        "## 6.3 Making a Hubble diagram using NED-1D data"
      ],
      "metadata": {
        "id": "DP9k8licX_ZV"
      }
    },
    {
      "cell_type": "code",
      "source": [
        "# Run this cell to show the source code of the script.\n",
        "\n",
        "!cat appy_s10_04_03.py"
      ],
      "metadata": {
        "id": "6hyP9GTqYEBZ"
      },
      "execution_count": null,
      "outputs": []
    },
    {
      "cell_type": "code",
      "source": [
        "# Run this cell to execute the script.\n",
        "\n",
        "!python3.12 appy_s10_04_03.py -h"
      ],
      "metadata": {
        "id": "Mcqtizp_YEBc"
      },
      "execution_count": null,
      "outputs": []
    },
    {
      "cell_type": "code",
      "source": [
        "# Run this cell to execute the script.\n",
        "\n",
        "!python3.12 appy_s10_04_03.py -i ned1d_new.csv -o ned1d.png"
      ],
      "metadata": {
        "id": "_3vDonyWYJqq"
      },
      "execution_count": null,
      "outputs": []
    },
    {
      "cell_type": "code",
      "source": [
        "# Run this cell to display an image file.\n",
        "\n",
        "# importing IPython module\n",
        "import IPython.display\n",
        "\n",
        "# displaying an image file\n",
        "IPython.display.Image ('ned1d.png')"
      ],
      "metadata": {
        "id": "V9Yq9FdJZI2-"
      },
      "execution_count": null,
      "outputs": []
    },
    {
      "cell_type": "markdown",
      "source": [
        "## 6.4 Determination of Hubble constant"
      ],
      "metadata": {
        "id": "IKguCI5AZOBz"
      }
    },
    {
      "cell_type": "code",
      "source": [
        "# Run this cell to show the source code of the script.\n",
        "\n",
        "!cat appy_s10_04_04.py"
      ],
      "metadata": {
        "id": "Lq_5OYuPZU1I"
      },
      "execution_count": null,
      "outputs": []
    },
    {
      "cell_type": "code",
      "source": [
        "# Run this cell to execute the script.\n",
        "\n",
        "!python3.12 appy_s10_04_04.py -h"
      ],
      "metadata": {
        "id": "zRmHSYWCZU1M"
      },
      "execution_count": null,
      "outputs": []
    },
    {
      "cell_type": "code",
      "source": [
        "# Run this cell to execute the script.\n",
        "\n",
        "!python3.12 appy_s10_04_04.py -i ned1d_new.csv -o ned1d_fit.png"
      ],
      "metadata": {
        "id": "ZEp7a8xUZU1P"
      },
      "execution_count": null,
      "outputs": []
    },
    {
      "cell_type": "code",
      "source": [
        "# Run this cell to display an image file.\n",
        "\n",
        "# importing IPython module\n",
        "import IPython.display\n",
        "\n",
        "# displaying an image file\n",
        "IPython.display.Image ('ned1d_fit.png')"
      ],
      "metadata": {
        "id": "S8wGZ8dMZU1R"
      },
      "execution_count": null,
      "outputs": []
    },
    {
      "cell_type": "markdown",
      "source": [
        "## 6.5 Hubble time and the age of the Universe"
      ],
      "metadata": {
        "id": "Buzx8JNysixO"
      }
    },
    {
      "cell_type": "code",
      "source": [
        "# Run this cell to show the source code of the script.\n",
        "\n",
        "!cat appy_s10_04_05.py"
      ],
      "metadata": {
        "id": "-nNDSqG2suFS"
      },
      "execution_count": null,
      "outputs": []
    },
    {
      "cell_type": "code",
      "source": [
        "# Run this cell to execute the script.\n",
        "\n",
        "!python3.12 appy_s10_04_05.py -h"
      ],
      "metadata": {
        "id": "WvIiLajWsuFW"
      },
      "execution_count": null,
      "outputs": []
    },
    {
      "cell_type": "code",
      "source": [
        "# Run this cell to execute the script.\n",
        "\n",
        "!python3.12 appy_s10_04_05.py 66.56"
      ],
      "metadata": {
        "id": "TaDFGTMBsuFZ"
      },
      "execution_count": null,
      "outputs": []
    },
    {
      "cell_type": "markdown",
      "source": [
        "# 7. Type-Ia supernovae in Unified Supernovae Catalogue"
      ],
      "metadata": {
        "id": "B1vofKuDcYFY"
      }
    },
    {
      "cell_type": "markdown",
      "source": [
        "## 7.1 Downloading the catalogue data"
      ],
      "metadata": {
        "id": "ZOKyPrZpcc0S"
      }
    },
    {
      "cell_type": "code",
      "source": [
        "# Run this cell to show the source code of the script.\n",
        "\n",
        "!cat appy_s10_05_00.py"
      ],
      "metadata": {
        "id": "ZfcobQ8_ci_P"
      },
      "execution_count": null,
      "outputs": []
    },
    {
      "cell_type": "code",
      "source": [
        "# Run this cell to execute the script.\n",
        "\n",
        "!python3.12 appy_s10_05_00.py"
      ],
      "metadata": {
        "id": "xzd4gM0eci_U"
      },
      "execution_count": null,
      "outputs": []
    },
    {
      "cell_type": "code",
      "source": [
        "# Run this cell to find downloaded file.\n",
        "\n",
        "!ls -lF *.data"
      ],
      "metadata": {
        "id": "pBCSx_TyXjJv"
      },
      "execution_count": null,
      "outputs": []
    },
    {
      "cell_type": "code",
      "source": [
        "# Run this cell to show first 20 lines of the file \"usc.data\".\n",
        "\n",
        "!head -20 usc.data"
      ],
      "metadata": {
        "id": "5BAWYZkVcsFq"
      },
      "execution_count": null,
      "outputs": []
    },
    {
      "cell_type": "code",
      "source": [
        "# Run this cell to show the source code of the script.\n",
        "\n",
        "!cat appy_s10_05_01.py"
      ],
      "metadata": {
        "id": "-9T-pzv2c2If"
      },
      "execution_count": null,
      "outputs": []
    },
    {
      "cell_type": "code",
      "source": [
        "# Run this cell to execute the script.\n",
        "\n",
        "!python3.12 appy_s10_05_01.py"
      ],
      "metadata": {
        "id": "pr1cyEwOc2Ii"
      },
      "execution_count": null,
      "outputs": []
    },
    {
      "cell_type": "code",
      "source": [
        "# Run this cell to find downloaded file.\n",
        "\n",
        "!ls -lF usc.*"
      ],
      "metadata": {
        "id": "Bmzg_X-Dc2Il"
      },
      "execution_count": null,
      "outputs": []
    },
    {
      "cell_type": "code",
      "source": [
        "# Run this cell to show first 20 lines of the file \"usc.readme\".\n",
        "\n",
        "!head -20 usc.readme"
      ],
      "metadata": {
        "id": "obEl-hksc2In"
      },
      "execution_count": null,
      "outputs": []
    },
    {
      "cell_type": "markdown",
      "source": [
        "## 7.2 Finding type-Ia supernovae"
      ],
      "metadata": {
        "id": "9gYmKh79dA7x"
      }
    },
    {
      "cell_type": "code",
      "source": [
        "# Run this cell to show the source code of the script.\n",
        "\n",
        "!cat appy_s10_05_02.py"
      ],
      "metadata": {
        "id": "-uToCUc9dFtX"
      },
      "execution_count": null,
      "outputs": []
    },
    {
      "cell_type": "code",
      "source": [
        "# Run this cell to execute the script.\n",
        "\n",
        "!python3.12 appy_s10_05_02.py"
      ],
      "metadata": {
        "id": "to-ekTAVdFtc"
      },
      "execution_count": null,
      "outputs": []
    },
    {
      "cell_type": "code",
      "source": [
        "# Run this cell to find newly created file.\n",
        "\n",
        "!ls -lF usc*"
      ],
      "metadata": {
        "id": "Tl9oYrVPcxPd"
      },
      "execution_count": null,
      "outputs": []
    },
    {
      "cell_type": "code",
      "source": [
        "# Run this cell to show first 20 lines of the file \"usc_snia.data\".\n",
        "\n",
        "!head -20 usc_snia.data"
      ],
      "metadata": {
        "id": "hFGcRLqBdM2Q"
      },
      "execution_count": null,
      "outputs": []
    },
    {
      "cell_type": "markdown",
      "source": [
        "## 7.3 Making a Hubble diagram"
      ],
      "metadata": {
        "id": "9Okf-BuldhsQ"
      }
    },
    {
      "cell_type": "code",
      "source": [
        "# Run this cell to show the source code of the script.\n",
        "\n",
        "!cat appy_s10_05_03.py"
      ],
      "metadata": {
        "id": "UWARBjyedlqv"
      },
      "execution_count": null,
      "outputs": []
    },
    {
      "cell_type": "code",
      "source": [
        "# Run this cell to execute the script.\n",
        "\n",
        "!python3.12 appy_s10_05_03.py -h"
      ],
      "metadata": {
        "id": "PWOVRuOAdlqz"
      },
      "execution_count": null,
      "outputs": []
    },
    {
      "cell_type": "code",
      "source": [
        "# Run this cell to execute the script.\n",
        "\n",
        "!python3.12 appy_s10_05_03.py -i usc_snia.data -o usc_snia_hd.png"
      ],
      "metadata": {
        "id": "Dbw3HD87dqpZ"
      },
      "execution_count": null,
      "outputs": []
    },
    {
      "cell_type": "code",
      "source": [
        "# Run this cell to display an image file.\n",
        "\n",
        "# importing IPython module\n",
        "import IPython.display\n",
        "\n",
        "# displaying an image file\n",
        "IPython.display.Image ('usc_snia_hd.png')"
      ],
      "metadata": {
        "id": "-43o2FHSdxWg"
      },
      "execution_count": null,
      "outputs": []
    },
    {
      "cell_type": "markdown",
      "source": [
        "## 7.4 Determination of Hubble constant"
      ],
      "metadata": {
        "id": "HInSDN0cd4H8"
      }
    },
    {
      "cell_type": "code",
      "source": [
        "# Run this cell to show the source code of the script.\n",
        "\n",
        "!cat appy_s10_05_04.py"
      ],
      "metadata": {
        "id": "wt83nkhXd88N"
      },
      "execution_count": null,
      "outputs": []
    },
    {
      "cell_type": "code",
      "source": [
        "# Run this cell to execute the script.\n",
        "\n",
        "!python3.12 appy_s10_05_04.py -h"
      ],
      "metadata": {
        "id": "etf_jGKud88R"
      },
      "execution_count": null,
      "outputs": []
    },
    {
      "cell_type": "code",
      "source": [
        "# Run this cell to execute the script.\n",
        "\n",
        "!python3.12 appy_s10_05_04.py -i usc_snia.data -o usc_snia_fit.png"
      ],
      "metadata": {
        "id": "SP_jOU_wd88V"
      },
      "execution_count": null,
      "outputs": []
    },
    {
      "cell_type": "code",
      "source": [
        "# Run this cell to display an image file.\n",
        "\n",
        "# importing IPython module\n",
        "import IPython.display\n",
        "\n",
        "# displaying an image file\n",
        "IPython.display.Image ('usc_snia_fit.png')"
      ],
      "metadata": {
        "id": "HuOA6goAd88X"
      },
      "execution_count": null,
      "outputs": []
    },
    {
      "cell_type": "markdown",
      "source": [
        "## 7.5 Calculation of Hubble time"
      ],
      "metadata": {
        "id": "_NwKmc_WtsUX"
      }
    },
    {
      "cell_type": "code",
      "source": [
        "# Run this cell to execute the script.\n",
        "\n",
        "!python3.12 appy_s10_04_05.py -h"
      ],
      "metadata": {
        "id": "pohnI3DctsUh"
      },
      "execution_count": null,
      "outputs": []
    },
    {
      "cell_type": "code",
      "source": [
        "# Run this cell to execute the script.\n",
        "\n",
        "!python3.12 appy_s10_04_05.py 69.65"
      ],
      "metadata": {
        "id": "VBQ81U3ftsUk"
      },
      "execution_count": null,
      "outputs": []
    },
    {
      "cell_type": "markdown",
      "source": [
        "# 8. Type-Ia supernovae in Open Supernova Catalog"
      ],
      "metadata": {
        "id": "8esjnyvmeIry"
      }
    },
    {
      "cell_type": "markdown",
      "source": [
        "## 8.1 Downloading Open Supernova Catalog"
      ],
      "metadata": {
        "id": "p0bMbBgQeMl6"
      }
    },
    {
      "cell_type": "code",
      "source": [
        "# Run this cell to show the source code of the script.\n",
        "\n",
        "!cat appy_s10_06_00.py"
      ],
      "metadata": {
        "id": "nRuySg0se0qa"
      },
      "execution_count": null,
      "outputs": []
    },
    {
      "cell_type": "code",
      "source": [
        "# Run this cell to execute the script.\n",
        "\n",
        "!python3.12 appy_s10_06_00.py"
      ],
      "metadata": {
        "id": "9x_W7av0e0qn"
      },
      "execution_count": null,
      "outputs": []
    },
    {
      "cell_type": "code",
      "source": [
        "# Run this cell to find downloaded files.\n",
        "\n",
        "!ls -lF osc_0000_1989"
      ],
      "metadata": {
        "id": "7L62xFFkdSb_"
      },
      "execution_count": null,
      "outputs": []
    },
    {
      "cell_type": "markdown",
      "source": [
        "## 8.2 Finding data files"
      ],
      "metadata": {
        "id": "1nJ8OFyvf10C"
      }
    },
    {
      "cell_type": "code",
      "source": [
        "# Run this cell to show the source code of the script.\n",
        "\n",
        "!cat appy_s10_06_01.py"
      ],
      "metadata": {
        "id": "gLTHaMI_f8gq"
      },
      "execution_count": null,
      "outputs": []
    },
    {
      "cell_type": "code",
      "source": [
        "# Run this cell to execute the script.\n",
        "\n",
        "!python3.12 appy_s10_06_01.py"
      ],
      "metadata": {
        "id": "BUzD1Er5f8gw"
      },
      "execution_count": null,
      "outputs": []
    },
    {
      "cell_type": "code",
      "source": [
        "# Run this cell to execute the script.\n",
        "\n",
        "!python3.12 appy_s10_06_01.py | wc"
      ],
      "metadata": {
        "id": "KQKALUd8gfrq"
      },
      "execution_count": null,
      "outputs": []
    },
    {
      "cell_type": "markdown",
      "source": [
        "## 8.3 Reading a JSON file"
      ],
      "metadata": {
        "id": "ty88kXOhgEAj"
      }
    },
    {
      "cell_type": "code",
      "source": [
        "# Run this cell to show the source code of the script.\n",
        "\n",
        "!cat appy_s10_06_02.py"
      ],
      "metadata": {
        "id": "PP5NM5WvgH9q"
      },
      "execution_count": null,
      "outputs": []
    },
    {
      "cell_type": "code",
      "source": [
        "# Run this cell to execute the script.\n",
        "\n",
        "!python3.12 appy_s10_06_02.py"
      ],
      "metadata": {
        "id": "xnAL3WrVgH93"
      },
      "execution_count": null,
      "outputs": []
    },
    {
      "cell_type": "markdown",
      "source": [
        "## 8.4 Finding type-Ia supernovae"
      ],
      "metadata": {
        "id": "2o_KBxKMgPmd"
      }
    },
    {
      "cell_type": "code",
      "source": [
        "# Run this cell to show the source code of the script.\n",
        "\n",
        "!cat appy_s10_06_03.py"
      ],
      "metadata": {
        "id": "oUaviXRZgTBc"
      },
      "execution_count": null,
      "outputs": []
    },
    {
      "cell_type": "code",
      "source": [
        "# Run this cell to execute the script.\n",
        "\n",
        "!python3.12 appy_s10_06_03.py"
      ],
      "metadata": {
        "id": "eptawzQggTBf"
      },
      "execution_count": null,
      "outputs": []
    },
    {
      "cell_type": "code",
      "source": [
        "# Run this cell to execute the script.\n",
        "\n",
        "!python3.12 appy_s10_06_03.py | wc"
      ],
      "metadata": {
        "id": "3xlg2bZmgkOE"
      },
      "execution_count": null,
      "outputs": []
    },
    {
      "cell_type": "markdown",
      "source": [
        "## 8.5 Gathering data from JSON files"
      ],
      "metadata": {
        "id": "sG9y1_e9gnXz"
      }
    },
    {
      "cell_type": "code",
      "source": [
        "# Run this cell to show the source code of the script.\n",
        "\n",
        "!cat appy_s10_06_04.py"
      ],
      "metadata": {
        "id": "Po8u6kJjgsDL"
      },
      "execution_count": null,
      "outputs": []
    },
    {
      "cell_type": "code",
      "source": [
        "# Run this cell to execute the script.\n",
        "\n",
        "!python3.12 appy_s10_06_04.py"
      ],
      "metadata": {
        "id": "bgWG4PNfgsDR"
      },
      "execution_count": null,
      "outputs": []
    },
    {
      "cell_type": "code",
      "source": [
        "# Run this cell to find newly created file.\n",
        "\n",
        "!ls -lF *.data"
      ],
      "metadata": {
        "id": "4Lrjq7jefrgi"
      },
      "execution_count": null,
      "outputs": []
    },
    {
      "cell_type": "code",
      "source": [
        "# Run this cell to show first 20 lines of the file \"osc_typeia_0.data\".\n",
        "\n",
        "!head -20 osc_typeia_0.data"
      ],
      "metadata": {
        "id": "TmnhSGdPg0MB"
      },
      "execution_count": null,
      "outputs": []
    },
    {
      "cell_type": "markdown",
      "source": [
        "## 8.6 Making a Hubble diagram from type-Ia supernovae"
      ],
      "metadata": {
        "id": "WsWvgaI2hGgz"
      }
    },
    {
      "cell_type": "code",
      "source": [
        "# Run this cell to show the source code of the script.\n",
        "\n",
        "!cat appy_s10_06_05.py"
      ],
      "metadata": {
        "id": "-6iq6R0khMQE"
      },
      "execution_count": null,
      "outputs": []
    },
    {
      "cell_type": "code",
      "source": [
        "# Run this cell to execute the script.\n",
        "\n",
        "!python3.12 appy_s10_06_05.py -h"
      ],
      "metadata": {
        "id": "BzwupMl5hMQI"
      },
      "execution_count": null,
      "outputs": []
    },
    {
      "cell_type": "code",
      "source": [
        "# Run this cell to execute the script.\n",
        "\n",
        "!python3.12 appy_s10_06_05.py -i osc_typeia_0.data -o osc_typeia_hd0.png"
      ],
      "metadata": {
        "id": "jAFLEbrahOuG"
      },
      "execution_count": null,
      "outputs": []
    },
    {
      "cell_type": "code",
      "source": [
        "# Run this cell to display an image file.\n",
        "\n",
        "# importing IPython module\n",
        "import IPython.display\n",
        "\n",
        "# displaying an image file\n",
        "IPython.display.Image ('osc_typeia_hd0.png')"
      ],
      "metadata": {
        "id": "z_o670vFhXHE"
      },
      "execution_count": null,
      "outputs": []
    },
    {
      "cell_type": "markdown",
      "source": [
        "## 8.7 Determination of Hubble constant"
      ],
      "metadata": {
        "id": "Co1BA9Iyhdsl"
      }
    },
    {
      "cell_type": "code",
      "source": [
        "# Run this cell to show the source code of the script.\n",
        "\n",
        "!cat appy_s10_06_06.py"
      ],
      "metadata": {
        "id": "pNr7l-TRhhvw"
      },
      "execution_count": null,
      "outputs": []
    },
    {
      "cell_type": "code",
      "source": [
        "# Run this cell to execute the script.\n",
        "\n",
        "!python3.12 appy_s10_06_06.py -h"
      ],
      "metadata": {
        "id": "kko3ldishhv0"
      },
      "execution_count": null,
      "outputs": []
    },
    {
      "cell_type": "code",
      "source": [
        "# Run this cell to execute the script.\n",
        "\n",
        "!python3.12 appy_s10_06_06.py -i osc_typeia_0.data -o osc_typeia_fit0.png"
      ],
      "metadata": {
        "id": "WC_2zJXAhhv2"
      },
      "execution_count": null,
      "outputs": []
    },
    {
      "cell_type": "code",
      "source": [
        "# Run this cell to display an image file.\n",
        "\n",
        "# importing IPython module\n",
        "import IPython.display\n",
        "\n",
        "# displaying an image file\n",
        "IPython.display.Image ('osc_typeia_fit0.png')"
      ],
      "metadata": {
        "id": "56dCnW0_hhv5"
      },
      "execution_count": null,
      "outputs": []
    },
    {
      "cell_type": "markdown",
      "source": [
        "## 8.8 Downloading more data from Open Supernova Catalog"
      ],
      "metadata": {
        "id": "YrlfPSwEhtIc"
      }
    },
    {
      "cell_type": "code",
      "source": [
        "# Run this cell to show the source code of the script.\n",
        "\n",
        "!cat appy_s10_06_07.py"
      ],
      "metadata": {
        "id": "ntlp_jUphyDl"
      },
      "execution_count": null,
      "outputs": []
    },
    {
      "cell_type": "code",
      "source": [
        "# Run this cell to execute the script.\n",
        "\n",
        "!python3.12 appy_s10_06_07.py"
      ],
      "metadata": {
        "id": "vXd-gSYxhyDp"
      },
      "execution_count": null,
      "outputs": []
    },
    {
      "cell_type": "code",
      "source": [
        "# Run this cell to find downloaded files.\n",
        "\n",
        "!ls -lF osc_1990_1999"
      ],
      "metadata": {
        "id": "-XELL8_mg6XM"
      },
      "execution_count": null,
      "outputs": []
    },
    {
      "cell_type": "code",
      "source": [
        "# Run this cell to show the source code of the script.\n",
        "\n",
        "!cat appy_s10_06_08.py"
      ],
      "metadata": {
        "id": "J17Qw1v9iOLN"
      },
      "execution_count": null,
      "outputs": []
    },
    {
      "cell_type": "code",
      "source": [
        "# Run this cell to execute the script.\n",
        "\n",
        "!python3.12 appy_s10_06_08.py"
      ],
      "metadata": {
        "id": "JBqoXSTqiOLQ"
      },
      "execution_count": null,
      "outputs": []
    },
    {
      "cell_type": "code",
      "source": [
        "# Run this cell to execute the script.\n",
        "\n",
        "!python3.12 appy_s10_06_06.py -i osc_typeia_1.data -o osc_typeia_fit1.png"
      ],
      "metadata": {
        "id": "y20s49HliWCB"
      },
      "execution_count": null,
      "outputs": []
    },
    {
      "cell_type": "code",
      "source": [
        "# Run this cell to display an image file.\n",
        "\n",
        "# importing IPython module\n",
        "import IPython.display\n",
        "\n",
        "# displaying an image file\n",
        "IPython.display.Image ('osc_typeia_fit1.png')"
      ],
      "metadata": {
        "id": "dr--9GaHic3P"
      },
      "execution_count": null,
      "outputs": []
    },
    {
      "cell_type": "code",
      "source": [
        "# Run this cell to show the source code of the script.\n",
        "\n",
        "!cat appy_s10_06_09.py"
      ],
      "metadata": {
        "id": "vmvYfKjIijbD"
      },
      "execution_count": null,
      "outputs": []
    },
    {
      "cell_type": "code",
      "source": [
        "# Run this cell to execute the script.\n",
        "\n",
        "!python3.12 appy_s10_06_09.py"
      ],
      "metadata": {
        "id": "idVVloxfijbJ"
      },
      "execution_count": null,
      "outputs": []
    },
    {
      "cell_type": "code",
      "source": [
        "# Run this cell to find downloaded files.\n",
        "\n",
        "!ls -lF osc_2000_2004"
      ],
      "metadata": {
        "id": "ThHLnu3_ijbL"
      },
      "execution_count": null,
      "outputs": []
    },
    {
      "cell_type": "code",
      "source": [
        "# Run this cell to show the source code of the script.\n",
        "\n",
        "!cat appy_s10_06_10.py"
      ],
      "metadata": {
        "id": "tjtNondJijbN"
      },
      "execution_count": null,
      "outputs": []
    },
    {
      "cell_type": "code",
      "source": [
        "# Run this cell to execute the script.\n",
        "\n",
        "!python3.12 appy_s10_06_10.py"
      ],
      "metadata": {
        "id": "-2EXrMThijbO"
      },
      "execution_count": null,
      "outputs": []
    },
    {
      "cell_type": "code",
      "source": [
        "# Run this cell to execute the script.\n",
        "\n",
        "!python3.12 appy_s10_06_06.py -i osc_typeia_2.data -o osc_typeia_fit2.png"
      ],
      "metadata": {
        "id": "pC3Pr_WqijbP"
      },
      "execution_count": null,
      "outputs": []
    },
    {
      "cell_type": "code",
      "source": [
        "# Run this cell to display an image file.\n",
        "\n",
        "# importing IPython module\n",
        "import IPython.display\n",
        "\n",
        "# displaying an image file\n",
        "IPython.display.Image ('osc_typeia_fit2.png')"
      ],
      "metadata": {
        "id": "UBPtM5IMijbQ"
      },
      "execution_count": null,
      "outputs": []
    },
    {
      "cell_type": "code",
      "source": [
        "# Run this cell to show the source code of the script.\n",
        "\n",
        "!cat appy_s10_06_11.py"
      ],
      "metadata": {
        "id": "WYTYFmnaiz5C"
      },
      "execution_count": null,
      "outputs": []
    },
    {
      "cell_type": "code",
      "source": [
        "# Run this cell to execute the script.\n",
        "\n",
        "!python3.12 appy_s10_06_11.py"
      ],
      "metadata": {
        "id": "LOw3YIPliz5J"
      },
      "execution_count": null,
      "outputs": []
    },
    {
      "cell_type": "code",
      "source": [
        "# Run this cell to find downloaded files.\n",
        "\n",
        "!ls -lF osc_2005_2009"
      ],
      "metadata": {
        "id": "-kKvqUE2iz5M"
      },
      "execution_count": null,
      "outputs": []
    },
    {
      "cell_type": "code",
      "source": [
        "# Run this cell to show the source code of the script.\n",
        "\n",
        "!cat appy_s10_06_12.py"
      ],
      "metadata": {
        "id": "VpWRBoHIiz5N"
      },
      "execution_count": null,
      "outputs": []
    },
    {
      "cell_type": "code",
      "source": [
        "# Run this cell to execute the script.\n",
        "\n",
        "!python3.12 appy_s10_06_12.py"
      ],
      "metadata": {
        "id": "FylHW07Viz5O"
      },
      "execution_count": null,
      "outputs": []
    },
    {
      "cell_type": "code",
      "source": [
        "# Run this cell to execute the script.\n",
        "\n",
        "!python3.12 appy_s10_06_06.py -i osc_typeia_3.data -o osc_typeia_fit3.png"
      ],
      "metadata": {
        "id": "VfuKDVCxiz5O"
      },
      "execution_count": null,
      "outputs": []
    },
    {
      "cell_type": "code",
      "source": [
        "# Run this cell to display an image file.\n",
        "\n",
        "# importing IPython module\n",
        "import IPython.display\n",
        "\n",
        "# displaying an image file\n",
        "IPython.display.Image ('osc_typeia_fit3.png')"
      ],
      "metadata": {
        "id": "F2hcU0w4iz5P"
      },
      "execution_count": null,
      "outputs": []
    },
    {
      "cell_type": "code",
      "source": [
        "# Run this cell to show the source code of the script.\n",
        "\n",
        "!cat appy_s10_06_13.py"
      ],
      "metadata": {
        "id": "EW_qBqFCi_oy"
      },
      "execution_count": null,
      "outputs": []
    },
    {
      "cell_type": "code",
      "source": [
        "# Run this cell to execute the script.\n",
        "\n",
        "!python3.12 appy_s10_06_13.py"
      ],
      "metadata": {
        "id": "j9ivAxsGi_o2"
      },
      "execution_count": null,
      "outputs": []
    },
    {
      "cell_type": "code",
      "source": [
        "# Run this cell to find downloaded files.\n",
        "\n",
        "!ls -lF osc_2010_2014"
      ],
      "metadata": {
        "id": "5m0juSXUi_o3"
      },
      "execution_count": null,
      "outputs": []
    },
    {
      "cell_type": "code",
      "source": [
        "# Run this cell to show the source code of the script.\n",
        "\n",
        "!cat appy_s10_06_14.py"
      ],
      "metadata": {
        "id": "qFXDAyv6i_o5"
      },
      "execution_count": null,
      "outputs": []
    },
    {
      "cell_type": "code",
      "source": [
        "# Run this cell to execute the script.\n",
        "\n",
        "!python3.12 appy_s10_06_14.py"
      ],
      "metadata": {
        "id": "hj7t60u4i_o6"
      },
      "execution_count": null,
      "outputs": []
    },
    {
      "cell_type": "code",
      "source": [
        "# Run this cell to execute the script.\n",
        "\n",
        "!python3.12 appy_s10_06_06.py -i osc_typeia_4.data -o osc_typeia_fit4.png"
      ],
      "metadata": {
        "id": "BWillddNi_o7"
      },
      "execution_count": null,
      "outputs": []
    },
    {
      "cell_type": "code",
      "source": [
        "# Run this cell to display an image file.\n",
        "\n",
        "# importing IPython module\n",
        "import IPython.display\n",
        "\n",
        "# displaying an image file\n",
        "IPython.display.Image ('osc_typeia_fit4.png')"
      ],
      "metadata": {
        "id": "6UYW4SDzi_o9"
      },
      "execution_count": null,
      "outputs": []
    },
    {
      "cell_type": "code",
      "source": [
        "# Run this cell to show the source code of the script.\n",
        "\n",
        "!cat appy_s10_06_15.py"
      ],
      "metadata": {
        "id": "_IWGCL0TjLW_"
      },
      "execution_count": null,
      "outputs": []
    },
    {
      "cell_type": "code",
      "source": [
        "# Run this cell to execute the script.\n",
        "\n",
        "!python3.12 appy_s10_06_15.py"
      ],
      "metadata": {
        "id": "_PiR-sljjLXD"
      },
      "execution_count": null,
      "outputs": []
    },
    {
      "cell_type": "code",
      "source": [
        "# Run this cell to find downloaded files.\n",
        "\n",
        "!ls -lF osc_2015_2019"
      ],
      "metadata": {
        "id": "nUFvioj-jLXG"
      },
      "execution_count": null,
      "outputs": []
    },
    {
      "cell_type": "code",
      "source": [
        "# Run this cell to show the source code of the script.\n",
        "\n",
        "!cat appy_s10_06_16.py"
      ],
      "metadata": {
        "id": "OpjfY2lXjLXI"
      },
      "execution_count": null,
      "outputs": []
    },
    {
      "cell_type": "code",
      "source": [
        "# Run this cell to execute the script.\n",
        "\n",
        "!python3.12 appy_s10_06_16.py"
      ],
      "metadata": {
        "id": "slrb2_gvjLXN"
      },
      "execution_count": null,
      "outputs": []
    },
    {
      "cell_type": "code",
      "source": [
        "# Run this cell to execute the script.\n",
        "\n",
        "!python3.12 appy_s10_06_06.py -i osc_typeia_5.data -o osc_typeia_fit5.png"
      ],
      "metadata": {
        "id": "svYJlEbJjLXP"
      },
      "execution_count": null,
      "outputs": []
    },
    {
      "cell_type": "code",
      "source": [
        "# Run this cell to display an image file.\n",
        "\n",
        "# importing IPython module\n",
        "import IPython.display\n",
        "\n",
        "# displaying an image file\n",
        "IPython.display.Image ('osc_typeia_fit5.png')"
      ],
      "metadata": {
        "id": "JgaZb7O6jLXR"
      },
      "execution_count": null,
      "outputs": []
    },
    {
      "cell_type": "markdown",
      "source": [
        "# 9. Cosmological parameters"
      ],
      "metadata": {
        "id": "-zN1UEXojWm6"
      }
    },
    {
      "cell_type": "markdown",
      "source": [
        "## 9.1 Downloading high-z supernovae data"
      ],
      "metadata": {
        "id": "aznD_-smjZv3"
      }
    },
    {
      "cell_type": "code",
      "source": [
        "# Run this cell to show the source code of the script.\n",
        "\n",
        "!cat appy_s10_07_00.py"
      ],
      "metadata": {
        "id": "e4rwbp-3jduy"
      },
      "execution_count": null,
      "outputs": []
    },
    {
      "cell_type": "code",
      "source": [
        "# Run this cell to execute the script.\n",
        "\n",
        "!python3.12 appy_s10_07_00.py"
      ],
      "metadata": {
        "id": "D5UMYdI0jdu1"
      },
      "execution_count": null,
      "outputs": []
    },
    {
      "cell_type": "code",
      "source": [
        "# Run this cell to find downloaded file.\n",
        "\n",
        "!ls -lF *.tgz"
      ],
      "metadata": {
        "id": "aGdo3GUUjYCt"
      },
      "execution_count": null,
      "outputs": []
    },
    {
      "cell_type": "markdown",
      "source": [
        "## 9.2 Extracting data"
      ],
      "metadata": {
        "id": "9KhB0TOajoOb"
      }
    },
    {
      "cell_type": "code",
      "source": [
        "# Run this cell to show the source code of the script.\n",
        "\n",
        "!cat appy_s10_07_01.py"
      ],
      "metadata": {
        "id": "CORO5-QMjt6_"
      },
      "execution_count": null,
      "outputs": []
    },
    {
      "cell_type": "code",
      "source": [
        "# Run this cell to execute the script.\n",
        "\n",
        "!python3.12 appy_s10_07_01.py -h"
      ],
      "metadata": {
        "id": "putZPGr2jt7C"
      },
      "execution_count": null,
      "outputs": []
    },
    {
      "cell_type": "code",
      "source": [
        "# Run this cell to execute the script.\n",
        "\n",
        "!python3.12 appy_s10_07_01.py -c gz UTor.tgz"
      ],
      "metadata": {
        "id": "LhG0JvmmjxuX"
      },
      "execution_count": null,
      "outputs": []
    },
    {
      "cell_type": "code",
      "source": [
        "# Run this cell to show the source code of the script.\n",
        "\n",
        "!cat appy_s10_07_02.py"
      ],
      "metadata": {
        "id": "dDOge0MPj4zD"
      },
      "execution_count": null,
      "outputs": []
    },
    {
      "cell_type": "code",
      "source": [
        "# Run this cell to execute the script.\n",
        "\n",
        "!python3.12 appy_s10_07_02.py -h"
      ],
      "metadata": {
        "id": "PwXF9TcGj4zG"
      },
      "execution_count": null,
      "outputs": []
    },
    {
      "cell_type": "code",
      "source": [
        "# Run this cell to execute the script.\n",
        "\n",
        "!python3.12 appy_s10_07_02.py -c gz UTor.tgz"
      ],
      "metadata": {
        "id": "EJVny4Zej4zI"
      },
      "execution_count": null,
      "outputs": []
    },
    {
      "cell_type": "code",
      "source": [
        "# Run this cell to find downloaded files.\n",
        "\n",
        "!ls -lF UTor"
      ],
      "metadata": {
        "id": "mTm1nH6HjmDX"
      },
      "execution_count": null,
      "outputs": []
    },
    {
      "cell_type": "code",
      "source": [
        "# Run this cell to find downloaded files.\n",
        "\n",
        "!ls -lF UTor/lightcurve_params"
      ],
      "metadata": {
        "id": "ZUOUb1OmkVqP"
      },
      "execution_count": null,
      "outputs": []
    },
    {
      "cell_type": "code",
      "source": [
        "# Run this cell to find downloaded files.\n",
        "\n",
        "!head -20 UTor/lightcurve_params/combined.dat"
      ],
      "metadata": {
        "id": "qDBhqGvjkV4g"
      },
      "execution_count": null,
      "outputs": []
    },
    {
      "cell_type": "markdown",
      "source": [
        "## 9.3 Making a Hubble diagram"
      ],
      "metadata": {
        "id": "54E3w-88koRv"
      }
    },
    {
      "cell_type": "code",
      "source": [
        "# Run this cell to show the source code of the script.\n",
        "\n",
        "!cat appy_s10_07_03.py"
      ],
      "metadata": {
        "id": "OJJfw8fxkuAm"
      },
      "execution_count": null,
      "outputs": []
    },
    {
      "cell_type": "code",
      "source": [
        "# Run this cell to execute the script.\n",
        "\n",
        "!python3.12 appy_s10_07_03.py -h"
      ],
      "metadata": {
        "id": "6Mg9fVoUkuAr"
      },
      "execution_count": null,
      "outputs": []
    },
    {
      "cell_type": "code",
      "source": [
        "# Run this cell to execute the script.\n",
        "\n",
        "!python3.12 appy_s10_07_03.py -i UTor/lightcurve_params/combined.dat -o snls_hd.png"
      ],
      "metadata": {
        "id": "r5WOeJoEkuAt"
      },
      "execution_count": null,
      "outputs": []
    },
    {
      "cell_type": "code",
      "source": [
        "# Run this cell to display an image file.\n",
        "\n",
        "# importing IPython module\n",
        "import IPython.display\n",
        "\n",
        "# displaying an image file\n",
        "IPython.display.Image ('snls_hd.png')"
      ],
      "metadata": {
        "id": "FEMA9I1mlDCS"
      },
      "execution_count": null,
      "outputs": []
    },
    {
      "cell_type": "markdown",
      "source": [
        "## 9.4 Using astropy.cosmology module"
      ],
      "metadata": {
        "id": "FWQ7G8_ulPvI"
      }
    },
    {
      "cell_type": "markdown",
      "source": [
        "### 9.4.1 Using a preloaded cosmology model"
      ],
      "metadata": {
        "id": "quQjyebdlSB3"
      }
    },
    {
      "cell_type": "code",
      "source": [
        "# Run this cell to show the source code of the script.\n",
        "\n",
        "!cat appy_s10_07_04.py"
      ],
      "metadata": {
        "id": "mCNlHCEDlYgR"
      },
      "execution_count": null,
      "outputs": []
    },
    {
      "cell_type": "code",
      "source": [
        "# Run this cell to execute the script.\n",
        "\n",
        "!python3.12 appy_s10_07_04.py"
      ],
      "metadata": {
        "id": "-GT9rKvplYgY"
      },
      "execution_count": null,
      "outputs": []
    },
    {
      "cell_type": "markdown",
      "source": [
        "### 9.4.2 Building your own cosmology model"
      ],
      "metadata": {
        "id": "XyQbf7sglpbh"
      }
    },
    {
      "cell_type": "code",
      "source": [
        "# Run this cell to show the source code of the script.\n",
        "\n",
        "!cat appy_s10_07_05.py"
      ],
      "metadata": {
        "id": "WQ_65COAlshd"
      },
      "execution_count": null,
      "outputs": []
    },
    {
      "cell_type": "code",
      "source": [
        "# Run this cell to execute the script.\n",
        "\n",
        "!python3.12 appy_s10_07_05.py"
      ],
      "metadata": {
        "id": "Qigguz3jlshf"
      },
      "execution_count": null,
      "outputs": []
    },
    {
      "cell_type": "markdown",
      "source": [
        "### 9.4.3 Comparison of high-z supernovae data and cosmology models"
      ],
      "metadata": {
        "id": "_WtIPtJVmB85"
      }
    },
    {
      "cell_type": "code",
      "source": [
        "# Run this cell to show the source code of the script.\n",
        "\n",
        "!cat appy_s10_07_06.py"
      ],
      "metadata": {
        "id": "FSqIXJW_mG54"
      },
      "execution_count": null,
      "outputs": []
    },
    {
      "cell_type": "code",
      "source": [
        "# Run this cell to execute the script.\n",
        "\n",
        "!python3.12 appy_s10_07_06.py -h"
      ],
      "metadata": {
        "id": "YzdXFMRMmG59"
      },
      "execution_count": null,
      "outputs": []
    },
    {
      "cell_type": "code",
      "source": [
        "# Run this cell to execute the script.\n",
        "\n",
        "!python3.12 appy_s10_07_06.py -i UTor/lightcurve_params/combined.dat -o snls_cosmo.png"
      ],
      "metadata": {
        "id": "_S1AjfRhmL1v"
      },
      "execution_count": null,
      "outputs": []
    },
    {
      "cell_type": "code",
      "source": [
        "# Run this cell to display an image file.\n",
        "\n",
        "# importing IPython module\n",
        "import IPython.display\n",
        "\n",
        "# displaying an image file\n",
        "IPython.display.Image ('snls_cosmo.png')"
      ],
      "metadata": {
        "id": "OkZpV7temUfA"
      },
      "execution_count": null,
      "outputs": []
    },
    {
      "cell_type": "code",
      "source": [
        "# Run this cell to show the source code of the script.\n",
        "\n",
        "!cat appy_s10_07_07.py"
      ],
      "metadata": {
        "id": "debcCOTcmbtm"
      },
      "execution_count": null,
      "outputs": []
    },
    {
      "cell_type": "code",
      "source": [
        "# Run this cell to execute the script.\n",
        "\n",
        "!python3.12 appy_s10_07_07.py -h"
      ],
      "metadata": {
        "id": "IrwuEWqLmbtu"
      },
      "execution_count": null,
      "outputs": []
    },
    {
      "cell_type": "code",
      "source": [
        "# Run this cell to execute the script.\n",
        "\n",
        "!python3.12 appy_s10_07_07.py -i UTor/lightcurve_params/combined.dat -o snls_planck2018.png"
      ],
      "metadata": {
        "id": "N_g6Jqhwmbtw"
      },
      "execution_count": null,
      "outputs": []
    },
    {
      "cell_type": "code",
      "source": [
        "# Run this cell to display an image file.\n",
        "\n",
        "# importing IPython module\n",
        "import IPython.display\n",
        "\n",
        "# displaying an image file\n",
        "IPython.display.Image ('snls_planck2018.png')"
      ],
      "metadata": {
        "id": "eB1lqz6mmbtz"
      },
      "execution_count": null,
      "outputs": []
    },
    {
      "cell_type": "markdown",
      "source": [
        "# End of this notebook"
      ],
      "metadata": {
        "id": "B-0FQQPHmq1x"
      }
    },
    {
      "cell_type": "code",
      "source": [],
      "metadata": {
        "id": "waGPoNAOkUbQ"
      },
      "execution_count": null,
      "outputs": []
    }
  ]
}