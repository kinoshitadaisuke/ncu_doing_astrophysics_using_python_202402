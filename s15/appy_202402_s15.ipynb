{
  "nbformat": 4,
  "nbformat_minor": 0,
  "metadata": {
    "colab": {
      "provenance": []
    },
    "kernelspec": {
      "name": "python3",
      "display_name": "Python 3"
    },
    "language_info": {
      "name": "python"
    }
  },
  "cells": [
    {
      "cell_type": "markdown",
      "source": [
        "# Doing Astrophysics using Python\n",
        "\n",
        "- \"Doing Astrophysics using Python\"\n",
        "  - Instructor: Kinoshita Daisuke\n",
        "  - Classroom: S4-202\n",
        "  - Time: from 18:00 to 20:50 on Tuesday\n",
        "  - Semester: 2nd semester of academic year 2023\n",
        "    - from February 2024 to June 2024\n",
        "  - Course web page: https://s3b.astro.ncu.edu.tw/appy_202402/\n",
        "  - GitHub repository: https://github.com/kinoshitadaisuke/ncu_doing_astrophysics_using_python_202402\n"
      ],
      "metadata": {
        "id": "gGzI83b9PmnI"
      }
    },
    {
      "cell_type": "markdown",
      "source": [
        "# Session 15: \"Classification of astronomical objects using machine learning\"\n",
        "\n",
        "## 28 May 2024\n",
        "\n",
        "## Instructor: Kinoshita Daisuke"
      ],
      "metadata": {
        "id": "Q7MvlbrC_tne"
      }
    },
    {
      "cell_type": "markdown",
      "source": [
        "# 0. Installation of Python interpreter"
      ],
      "metadata": {
        "id": "T_y7rto6Q5P8"
      }
    },
    {
      "cell_type": "code",
      "source": [
        "# Run this cell to install Python 3.12\n",
        "\n",
        "!apt update\n",
        "!apt upgrade\n",
        "!apt install python3.12 python3.12-dev python3.12-distutils libpython3.12-dev\n",
        "!update-alternatives --install /usr/bin/python3 python3 /usr/bin/python3.12 1\n",
        "!wget https://bootstrap.pypa.io/get-pip.py\n",
        "!python3.12 get-pip.py"
      ],
      "metadata": {
        "id": "MzmVLkC8QyGZ"
      },
      "execution_count": null,
      "outputs": []
    },
    {
      "cell_type": "code",
      "source": [
        "# Run this cell to check the version of Python interpreter and pip command\n",
        "\n",
        "!python --version\n",
        "!pip --version"
      ],
      "metadata": {
        "id": "Vx-JYTyp3NMU"
      },
      "execution_count": null,
      "outputs": []
    },
    {
      "cell_type": "code",
      "source": [
        "# Run this cell to install external Python packages.\n",
        "\n",
        "!pip install matplotlib numpy scipy astropy astroquery importlib_metadata scikit-learn"
      ],
      "metadata": {
        "id": "7V5dCLx5F9QU"
      },
      "execution_count": null,
      "outputs": []
    },
    {
      "cell_type": "markdown",
      "source": [
        "# 1. Downloading a set of sample Python scripts for this course"
      ],
      "metadata": {
        "id": "zvKZRFoF8A8k"
      }
    },
    {
      "cell_type": "code",
      "source": [
        "# Run this cell to download a set of sample Python scripts for this course.\n",
        "\n",
        "!git clone https://github.com/kinoshitadaisuke/ncu_doing_astrophysics_using_python_202402.git"
      ],
      "metadata": {
        "id": "itsUqwak4-z4"
      },
      "execution_count": null,
      "outputs": []
    },
    {
      "cell_type": "code",
      "source": [
        "# Run this cell to move to the directory for this session.\n",
        "\n",
        "%cd ncu_doing_astrophysics_using_python_202402/s15"
      ],
      "metadata": {
        "id": "bREyxIP08RZG"
      },
      "execution_count": null,
      "outputs": []
    },
    {
      "cell_type": "code",
      "source": [
        "# Run this cell to show a list of files for this session.\n",
        "\n",
        "!ls"
      ],
      "metadata": {
        "id": "fKxQ_X-D8dRN"
      },
      "execution_count": null,
      "outputs": []
    },
    {
      "cell_type": "markdown",
      "source": [
        "# 2. Classification using random forest classifier"
      ],
      "metadata": {
        "id": "DJKJHgpbWGgZ"
      }
    },
    {
      "cell_type": "markdown",
      "source": [
        "## 2.1 Generation of synthetic training dta for classification"
      ],
      "metadata": {
        "id": "h5mNvY-CGk8e"
      }
    },
    {
      "cell_type": "code",
      "source": [
        "# Run this cell to show the source code of the script.\n",
        "\n",
        "!cat appy_s15_00_00.py"
      ],
      "metadata": {
        "id": "Iy6sAdVlWfX5"
      },
      "execution_count": null,
      "outputs": []
    },
    {
      "cell_type": "code",
      "source": [
        "# Run this cell to execute the script.\n",
        "\n",
        "!python3.12 appy_s15_00_00.py"
      ],
      "metadata": {
        "id": "9DMzwerfWys0"
      },
      "execution_count": null,
      "outputs": []
    },
    {
      "cell_type": "markdown",
      "source": [
        "## 2.2 Visualisation of generated synthetic data"
      ],
      "metadata": {
        "id": "LwjW03VUGpJt"
      }
    },
    {
      "cell_type": "code",
      "source": [
        "# Run this cell to show the source code of the script.\n",
        "\n",
        "!cat appy_s15_00_01.py"
      ],
      "metadata": {
        "id": "7LBwGygmXBbt"
      },
      "execution_count": null,
      "outputs": []
    },
    {
      "cell_type": "code",
      "source": [
        "# Run this cell to execute the script.\n",
        "\n",
        "!python3.12 appy_s15_00_01.py"
      ],
      "metadata": {
        "id": "rD4qHLrZXBbu"
      },
      "execution_count": null,
      "outputs": []
    },
    {
      "cell_type": "code",
      "source": [
        "# Run this cell to display PNG image.\n",
        "\n",
        "# importing IPython.display module\n",
        "import IPython.display\n",
        "\n",
        "# displaying PNG file\n",
        "IPython.display.Image ('appy_s15_00_01.png')"
      ],
      "metadata": {
        "id": "l_1yBzzxfyW2"
      },
      "execution_count": null,
      "outputs": []
    },
    {
      "cell_type": "markdown",
      "source": [
        "## 2.3 Building a classifier by learning training dataset"
      ],
      "metadata": {
        "id": "7HK4X3R4Guvl"
      }
    },
    {
      "cell_type": "code",
      "source": [
        "# Run this cell to show the source code of the script.\n",
        "\n",
        "!cat appy_s15_00_02.py"
      ],
      "metadata": {
        "id": "PiO6p_sSX5H2"
      },
      "execution_count": null,
      "outputs": []
    },
    {
      "cell_type": "code",
      "source": [
        "# Run this cell to execute the script.\n",
        "\n",
        "!python3.12 appy_s15_00_02.py"
      ],
      "metadata": {
        "id": "x54CtvBmX5H8"
      },
      "execution_count": null,
      "outputs": []
    },
    {
      "cell_type": "code",
      "source": [
        "# Run this cell to display PNG image.\n",
        "\n",
        "# importing IPython.display module\n",
        "import IPython.display\n",
        "\n",
        "# displaying PNG file\n",
        "IPython.display.Image ('appy_s15_00_02.png')"
      ],
      "metadata": {
        "id": "AHcsi7v7X5H9"
      },
      "execution_count": null,
      "outputs": []
    },
    {
      "cell_type": "markdown",
      "source": [
        "## 2.4 Generation of testing data for classification"
      ],
      "metadata": {
        "id": "Me7VxzwnG1RB"
      }
    },
    {
      "cell_type": "code",
      "source": [
        "# Run this cell to show the source code of the script.\n",
        "\n",
        "!cat appy_s15_00_03.py"
      ],
      "metadata": {
        "id": "TDmTfm6UYF3b"
      },
      "execution_count": null,
      "outputs": []
    },
    {
      "cell_type": "code",
      "source": [
        "# Run this cell to execute the script.\n",
        "\n",
        "!python3.12 appy_s15_00_03.py"
      ],
      "metadata": {
        "id": "iLofy0JcYF3g"
      },
      "execution_count": null,
      "outputs": []
    },
    {
      "cell_type": "code",
      "source": [
        "# Run this cell to display PNG image.\n",
        "\n",
        "# importing IPython.display module\n",
        "import IPython.display\n",
        "\n",
        "# displaying PNG file\n",
        "IPython.display.Image ('appy_s15_00_03.png')"
      ],
      "metadata": {
        "id": "9St1jCsWYF3h"
      },
      "execution_count": null,
      "outputs": []
    },
    {
      "cell_type": "markdown",
      "source": [
        "## 2.5 Classification of testing data"
      ],
      "metadata": {
        "id": "y5VmLOSpG7aR"
      }
    },
    {
      "cell_type": "code",
      "source": [
        "# Run this cell to show the source code of the script.\n",
        "\n",
        "!cat appy_s15_00_04.py"
      ],
      "metadata": {
        "id": "l8Ag7NO0YOdw"
      },
      "execution_count": null,
      "outputs": []
    },
    {
      "cell_type": "code",
      "source": [
        "# Run this cell to execute the script.\n",
        "\n",
        "!python3.12 appy_s15_00_04.py"
      ],
      "metadata": {
        "id": "TeyfRJvBYOd2"
      },
      "execution_count": null,
      "outputs": []
    },
    {
      "cell_type": "code",
      "source": [
        "# Run this cell to display PNG image.\n",
        "\n",
        "# importing IPython.display module\n",
        "import IPython.display\n",
        "\n",
        "# displaying PNG file\n",
        "IPython.display.Image ('appy_s15_00_04.png')"
      ],
      "metadata": {
        "id": "kcteYGqzYOd3"
      },
      "execution_count": null,
      "outputs": []
    },
    {
      "cell_type": "markdown",
      "source": [
        "# 3. Classification using naive Bayes classifier"
      ],
      "metadata": {
        "id": "xof9bq9tYYVS"
      }
    },
    {
      "cell_type": "markdown",
      "source": [
        "## 3.1 Generation of synthetic data"
      ],
      "metadata": {
        "id": "isH5X6z1HEfp"
      }
    },
    {
      "cell_type": "code",
      "source": [
        "# Run this cell to show the source code of the script.\n",
        "\n",
        "!cat appy_s15_01_00.py"
      ],
      "metadata": {
        "id": "T0UO6-MmYhLN"
      },
      "execution_count": null,
      "outputs": []
    },
    {
      "cell_type": "code",
      "source": [
        "# Run this cell to execute the script.\n",
        "\n",
        "!python3.12 appy_s15_01_00.py"
      ],
      "metadata": {
        "id": "30BBkKFTYhLR"
      },
      "execution_count": null,
      "outputs": []
    },
    {
      "cell_type": "markdown",
      "source": [
        "## 3.2 Visualisation of synthetic data"
      ],
      "metadata": {
        "id": "0TCdadzJHgXf"
      }
    },
    {
      "cell_type": "code",
      "source": [
        "# Run this cell to show the source code of the script.\n",
        "\n",
        "!cat appy_s15_01_01.py"
      ],
      "metadata": {
        "id": "9EBW9VOUYo2D"
      },
      "execution_count": null,
      "outputs": []
    },
    {
      "cell_type": "code",
      "source": [
        "# Run this cell to execute the script.\n",
        "\n",
        "!python3.12 appy_s15_01_01.py"
      ],
      "metadata": {
        "id": "kHGG7C4sYo2E"
      },
      "execution_count": null,
      "outputs": []
    },
    {
      "cell_type": "code",
      "source": [
        "# Run this cell to display PNG image.\n",
        "\n",
        "# importing IPython.display module\n",
        "import IPython.display\n",
        "\n",
        "# displaying PNG file\n",
        "IPython.display.Image ('appy_s15_01_01.png')"
      ],
      "metadata": {
        "id": "fT8uJgjmYo2F"
      },
      "execution_count": null,
      "outputs": []
    },
    {
      "cell_type": "markdown",
      "source": [
        "## 3.3 Dividing dataset for training and testing"
      ],
      "metadata": {
        "id": "9OAVFSRqHkh_"
      }
    },
    {
      "cell_type": "code",
      "source": [
        "# Run this cell to show the source code of the script.\n",
        "\n",
        "!cat appy_s15_01_02.py"
      ],
      "metadata": {
        "id": "JHIW3ykcY7Np"
      },
      "execution_count": null,
      "outputs": []
    },
    {
      "cell_type": "code",
      "source": [
        "# Run this cell to execute the script.\n",
        "\n",
        "!python3.12 appy_s15_01_02.py"
      ],
      "metadata": {
        "id": "bqNORek_Y7Nx"
      },
      "execution_count": null,
      "outputs": []
    },
    {
      "cell_type": "markdown",
      "source": [
        "## 3.4 Building a classifier by learning training dataset"
      ],
      "metadata": {
        "id": "T50CHJYzHpMe"
      }
    },
    {
      "cell_type": "code",
      "source": [
        "# Run this cell to show the source code of the script.\n",
        "\n",
        "!cat appy_s15_01_03.py"
      ],
      "metadata": {
        "id": "d4WrSRCIZIUH"
      },
      "execution_count": null,
      "outputs": []
    },
    {
      "cell_type": "code",
      "source": [
        "# Run this cell to execute the script.\n",
        "\n",
        "!python3.12 appy_s15_01_03.py"
      ],
      "metadata": {
        "id": "BfNLqrN3ZIUM"
      },
      "execution_count": null,
      "outputs": []
    },
    {
      "cell_type": "code",
      "source": [
        "# Run this cell to display PNG image.\n",
        "\n",
        "# importing IPython.display module\n",
        "import IPython.display\n",
        "\n",
        "# displaying PNG file\n",
        "IPython.display.Image ('appy_s15_01_03.png')"
      ],
      "metadata": {
        "id": "1RCZzExFZIUN"
      },
      "execution_count": null,
      "outputs": []
    },
    {
      "cell_type": "markdown",
      "source": [
        "## 3.5 Classification of testing data"
      ],
      "metadata": {
        "id": "aB3T_oOgHu7b"
      }
    },
    {
      "cell_type": "code",
      "source": [
        "# Run this cell to show the source code of the script.\n",
        "\n",
        "!cat appy_s15_01_04.py"
      ],
      "metadata": {
        "id": "_6ssO2dAZP83"
      },
      "execution_count": null,
      "outputs": []
    },
    {
      "cell_type": "code",
      "source": [
        "# Run this cell to execute the script.\n",
        "\n",
        "!python3.12 appy_s15_01_04.py"
      ],
      "metadata": {
        "id": "tu2uR8dXZP88"
      },
      "execution_count": null,
      "outputs": []
    },
    {
      "cell_type": "code",
      "source": [
        "# Run this cell to display PNG image.\n",
        "\n",
        "# importing IPython.display module\n",
        "import IPython.display\n",
        "\n",
        "# displaying PNG file\n",
        "IPython.display.Image ('appy_s15_01_04.png')"
      ],
      "metadata": {
        "id": "pRw2kl_uZP89"
      },
      "execution_count": null,
      "outputs": []
    },
    {
      "cell_type": "markdown",
      "source": [
        "# 4. Classification using Gaussian process classifier"
      ],
      "metadata": {
        "id": "mZUIvmrnZZvE"
      }
    },
    {
      "cell_type": "markdown",
      "source": [
        "## 4.1 Generation of synthetic data"
      ],
      "metadata": {
        "id": "R7pq62liH1F_"
      }
    },
    {
      "cell_type": "code",
      "source": [
        "# Run this cell to show the source code of the script.\n",
        "\n",
        "!cat appy_s15_02_00.py"
      ],
      "metadata": {
        "id": "ctHI9IfFZkWk"
      },
      "execution_count": null,
      "outputs": []
    },
    {
      "cell_type": "code",
      "source": [
        "# Run this cell to execute the script.\n",
        "\n",
        "!python3.12 appy_s15_02_00.py"
      ],
      "metadata": {
        "id": "BKQHDqNFZkW3"
      },
      "execution_count": null,
      "outputs": []
    },
    {
      "cell_type": "markdown",
      "source": [
        "## 4.2 Visualisation of synthetic data"
      ],
      "metadata": {
        "id": "Q1kwEZGCH7WZ"
      }
    },
    {
      "cell_type": "code",
      "source": [
        "# Run this cell to show the source code of the script.\n",
        "\n",
        "!cat appy_s15_02_01.py"
      ],
      "metadata": {
        "id": "E3LOZ444ZkW3"
      },
      "execution_count": null,
      "outputs": []
    },
    {
      "cell_type": "code",
      "source": [
        "# Run this cell to execute the script.\n",
        "\n",
        "!python3.12 appy_s15_02_01.py"
      ],
      "metadata": {
        "id": "a56DlgsMZkW4"
      },
      "execution_count": null,
      "outputs": []
    },
    {
      "cell_type": "code",
      "source": [
        "# Run this cell to display PNG image.\n",
        "\n",
        "# importing IPython.display module\n",
        "import IPython.display\n",
        "\n",
        "# displaying PNG file\n",
        "IPython.display.Image ('appy_s15_02_01.png')"
      ],
      "metadata": {
        "id": "_Io-UU_KZkW6"
      },
      "execution_count": null,
      "outputs": []
    },
    {
      "cell_type": "markdown",
      "source": [
        "## 4.3 Dividing dataset for training and testing"
      ],
      "metadata": {
        "id": "SyDFQ7BsIBp8"
      }
    },
    {
      "cell_type": "code",
      "source": [
        "# Run this cell to show the source code of the script.\n",
        "\n",
        "!cat appy_s15_02_02.py"
      ],
      "metadata": {
        "id": "lIW75vztZkW8"
      },
      "execution_count": null,
      "outputs": []
    },
    {
      "cell_type": "code",
      "source": [
        "# Run this cell to execute the script.\n",
        "\n",
        "!python3.12 appy_s15_02_02.py"
      ],
      "metadata": {
        "id": "9JJKPVS6ZkW8"
      },
      "execution_count": null,
      "outputs": []
    },
    {
      "cell_type": "markdown",
      "source": [
        "## 4.4 Building a classifier by learning training dataset"
      ],
      "metadata": {
        "id": "yBsxeH1ZIGBX"
      }
    },
    {
      "cell_type": "code",
      "source": [
        "# Run this cell to show the source code of the script.\n",
        "\n",
        "!cat appy_s15_02_03.py"
      ],
      "metadata": {
        "id": "3vB_UZsfZkW9"
      },
      "execution_count": null,
      "outputs": []
    },
    {
      "cell_type": "code",
      "source": [
        "# Run this cell to execute the script.\n",
        "\n",
        "!python3.12 appy_s15_02_03.py"
      ],
      "metadata": {
        "id": "T-uUusu8ZkW-"
      },
      "execution_count": null,
      "outputs": []
    },
    {
      "cell_type": "code",
      "source": [
        "# Run this cell to display PNG image.\n",
        "\n",
        "# importing IPython.display module\n",
        "import IPython.display\n",
        "\n",
        "# displaying PNG file\n",
        "IPython.display.Image ('appy_s15_02_03.png')"
      ],
      "metadata": {
        "id": "jPqnrpqLZkW-"
      },
      "execution_count": null,
      "outputs": []
    },
    {
      "cell_type": "markdown",
      "source": [
        "## 4.5 Classification of testing data"
      ],
      "metadata": {
        "id": "IaZ5Cp_oILA2"
      }
    },
    {
      "cell_type": "code",
      "source": [
        "# Run this cell to show the source code of the script.\n",
        "\n",
        "!cat appy_s15_02_04.py"
      ],
      "metadata": {
        "id": "FOlIKEczZkW-"
      },
      "execution_count": null,
      "outputs": []
    },
    {
      "cell_type": "code",
      "source": [
        "# Run this cell to execute the script.\n",
        "\n",
        "!python3.12 appy_s15_02_04.py"
      ],
      "metadata": {
        "id": "SfvegsF6ZkW_"
      },
      "execution_count": null,
      "outputs": []
    },
    {
      "cell_type": "code",
      "source": [
        "# Run this cell to display PNG image.\n",
        "\n",
        "# importing IPython.display module\n",
        "import IPython.display\n",
        "\n",
        "# displaying PNG file\n",
        "IPython.display.Image ('appy_s15_02_04.png')"
      ],
      "metadata": {
        "id": "RCCUVwZXZkW_"
      },
      "execution_count": null,
      "outputs": []
    },
    {
      "cell_type": "markdown",
      "source": [
        "# 5. Classification using neural network classifier"
      ],
      "metadata": {
        "id": "0ActwkC5aJUc"
      }
    },
    {
      "cell_type": "markdown",
      "source": [
        "## 5.1 Generation of synthetic data"
      ],
      "metadata": {
        "id": "W6KKcsqiIRdx"
      }
    },
    {
      "cell_type": "code",
      "source": [
        "# Run this cell to show the source code of the script.\n",
        "\n",
        "!cat appy_s15_03_00.py"
      ],
      "metadata": {
        "id": "4AFfwtw8aP23"
      },
      "execution_count": null,
      "outputs": []
    },
    {
      "cell_type": "code",
      "source": [
        "# Run this cell to execute the script.\n",
        "\n",
        "!python3.12 appy_s15_03_00.py"
      ],
      "metadata": {
        "id": "WsikYKhqaP3A"
      },
      "execution_count": null,
      "outputs": []
    },
    {
      "cell_type": "markdown",
      "source": [
        "## 5.2 Visualisation of synthetic data"
      ],
      "metadata": {
        "id": "yJOM-ujgIWb3"
      }
    },
    {
      "cell_type": "code",
      "source": [
        "# Run this cell to show the source code of the script.\n",
        "\n",
        "!cat appy_s15_03_01.py"
      ],
      "metadata": {
        "id": "kmrcT3sWaP3B"
      },
      "execution_count": null,
      "outputs": []
    },
    {
      "cell_type": "code",
      "source": [
        "# Run this cell to execute the script.\n",
        "\n",
        "!python3.12 appy_s15_03_01.py"
      ],
      "metadata": {
        "id": "x2CEGLymaP3C"
      },
      "execution_count": null,
      "outputs": []
    },
    {
      "cell_type": "code",
      "source": [
        "# Run this cell to display PNG image.\n",
        "\n",
        "# importing IPython.display module\n",
        "import IPython.display\n",
        "\n",
        "# displaying PNG file\n",
        "IPython.display.Image ('appy_s15_03_01.png')"
      ],
      "metadata": {
        "id": "EBhrBLLIaP3D"
      },
      "execution_count": null,
      "outputs": []
    },
    {
      "cell_type": "markdown",
      "source": [
        "## 5.3 Dividing dataset for training and testing"
      ],
      "metadata": {
        "id": "NbX6bB8yIZuQ"
      }
    },
    {
      "cell_type": "code",
      "source": [
        "# Run this cell to show the source code of the script.\n",
        "\n",
        "!cat appy_s15_03_02.py"
      ],
      "metadata": {
        "id": "NDUER1u5aP3E"
      },
      "execution_count": null,
      "outputs": []
    },
    {
      "cell_type": "code",
      "source": [
        "# Run this cell to execute the script.\n",
        "\n",
        "!python3.12 appy_s15_03_02.py"
      ],
      "metadata": {
        "id": "5KqD2jLTaP3F"
      },
      "execution_count": null,
      "outputs": []
    },
    {
      "cell_type": "markdown",
      "source": [
        "## 5.4 Building a classifier by learning training dataset"
      ],
      "metadata": {
        "id": "TCHrNYHsIdeW"
      }
    },
    {
      "cell_type": "code",
      "source": [
        "# Run this cell to show the source code of the script.\n",
        "\n",
        "!cat appy_s15_03_03.py"
      ],
      "metadata": {
        "id": "3OsweilmaP3G"
      },
      "execution_count": null,
      "outputs": []
    },
    {
      "cell_type": "code",
      "source": [
        "# Run this cell to execute the script.\n",
        "\n",
        "!python3.12 appy_s15_03_03.py"
      ],
      "metadata": {
        "id": "t6guJLLnaP3H"
      },
      "execution_count": null,
      "outputs": []
    },
    {
      "cell_type": "code",
      "source": [
        "# Run this cell to display PNG image.\n",
        "\n",
        "# importing IPython.display module\n",
        "import IPython.display\n",
        "\n",
        "# displaying PNG file\n",
        "IPython.display.Image ('appy_s15_03_03.png')"
      ],
      "metadata": {
        "id": "wIkl3UvjaP3I"
      },
      "execution_count": null,
      "outputs": []
    },
    {
      "cell_type": "markdown",
      "source": [
        "## 5.5 Classification of testing data"
      ],
      "metadata": {
        "id": "uhJ5Q2uJIkXQ"
      }
    },
    {
      "cell_type": "code",
      "source": [
        "# Run this cell to show the source code of the script.\n",
        "\n",
        "!cat appy_s15_03_04.py"
      ],
      "metadata": {
        "id": "rCmbo8e1aP3K"
      },
      "execution_count": null,
      "outputs": []
    },
    {
      "cell_type": "code",
      "source": [
        "# Run this cell to execute the script.\n",
        "\n",
        "!python3.12 appy_s15_03_04.py"
      ],
      "metadata": {
        "id": "X3F8ayjTaP3L"
      },
      "execution_count": null,
      "outputs": []
    },
    {
      "cell_type": "code",
      "source": [
        "# Run this cell to display PNG image.\n",
        "\n",
        "# importing IPython.display module\n",
        "import IPython.display\n",
        "\n",
        "# displaying PNG file\n",
        "IPython.display.Image ('appy_s15_03_04.png')"
      ],
      "metadata": {
        "id": "bTwrS0tOaP3L"
      },
      "execution_count": null,
      "outputs": []
    },
    {
      "cell_type": "markdown",
      "source": [
        "# 6. Classification into three groups"
      ],
      "metadata": {
        "id": "z2AmAPvYawU2"
      }
    },
    {
      "cell_type": "markdown",
      "source": [
        "## 6.1 Generation of synthetic data"
      ],
      "metadata": {
        "id": "UuTVw2X1IqBh"
      }
    },
    {
      "cell_type": "code",
      "source": [
        "# Run this cell to show the source code of the script.\n",
        "\n",
        "!cat appy_s15_04_00.py"
      ],
      "metadata": {
        "id": "IHvmYFWRa7He"
      },
      "execution_count": null,
      "outputs": []
    },
    {
      "cell_type": "code",
      "source": [
        "# Run this cell to execute the script.\n",
        "\n",
        "!python3.12 appy_s15_04_00.py"
      ],
      "metadata": {
        "id": "eQe-41k8a7Hf"
      },
      "execution_count": null,
      "outputs": []
    },
    {
      "cell_type": "markdown",
      "source": [
        "## 6.2 Visualisation of synthetic data"
      ],
      "metadata": {
        "id": "Aq_m6LbbIyGT"
      }
    },
    {
      "cell_type": "code",
      "source": [
        "# Run this cell to show the source code of the script.\n",
        "\n",
        "!cat appy_s15_04_01.py"
      ],
      "metadata": {
        "id": "JzJiqD5ma7Hg"
      },
      "execution_count": null,
      "outputs": []
    },
    {
      "cell_type": "code",
      "source": [
        "# Run this cell to execute the script.\n",
        "\n",
        "!python3.12 appy_s15_04_01.py"
      ],
      "metadata": {
        "id": "pjQESd8ma7Hh"
      },
      "execution_count": null,
      "outputs": []
    },
    {
      "cell_type": "code",
      "source": [
        "# Run this cell to display PNG image.\n",
        "\n",
        "# importing IPython.display module\n",
        "import IPython.display\n",
        "\n",
        "# displaying PNG file\n",
        "IPython.display.Image ('appy_s15_04_01.png')"
      ],
      "metadata": {
        "id": "Q2KDw52ba7Hh"
      },
      "execution_count": null,
      "outputs": []
    },
    {
      "cell_type": "markdown",
      "source": [
        "## 6.3 Dividing dataset for training and testing"
      ],
      "metadata": {
        "id": "gy17VDVDI2eA"
      }
    },
    {
      "cell_type": "code",
      "source": [
        "# Run this cell to show the source code of the script.\n",
        "\n",
        "!cat appy_s15_04_02.py"
      ],
      "metadata": {
        "id": "nUx-NgFga7Hj"
      },
      "execution_count": null,
      "outputs": []
    },
    {
      "cell_type": "code",
      "source": [
        "# Run this cell to execute the script.\n",
        "\n",
        "!python3.12 appy_s15_04_02.py"
      ],
      "metadata": {
        "id": "FUphBJxaa7Hj"
      },
      "execution_count": null,
      "outputs": []
    },
    {
      "cell_type": "markdown",
      "source": [
        "## 6.4 Building a classifier by learning training dataset"
      ],
      "metadata": {
        "id": "FoizZGBlI65S"
      }
    },
    {
      "cell_type": "code",
      "source": [
        "# Run this cell to show the source code of the script.\n",
        "\n",
        "!cat appy_s15_04_03.py"
      ],
      "metadata": {
        "id": "-PWT8pO5a7Hk"
      },
      "execution_count": null,
      "outputs": []
    },
    {
      "cell_type": "code",
      "source": [
        "# Run this cell to execute the script.\n",
        "\n",
        "!python3.12 appy_s15_04_03.py"
      ],
      "metadata": {
        "id": "6IO7yG5Qa7Hk"
      },
      "execution_count": null,
      "outputs": []
    },
    {
      "cell_type": "code",
      "source": [
        "# Run this cell to display PNG image.\n",
        "\n",
        "# importing IPython.display module\n",
        "import IPython.display\n",
        "\n",
        "# displaying PNG file\n",
        "IPython.display.Image ('appy_s15_04_03.png')"
      ],
      "metadata": {
        "id": "VIymwM4Da7Hl"
      },
      "execution_count": null,
      "outputs": []
    },
    {
      "cell_type": "markdown",
      "source": [
        "## 6.5 Classification of testing data"
      ],
      "metadata": {
        "id": "i3mYe5MTJBFR"
      }
    },
    {
      "cell_type": "code",
      "source": [
        "# Run this cell to show the source code of the script.\n",
        "\n",
        "!cat appy_s15_04_04.py"
      ],
      "metadata": {
        "id": "5PJ4RKSha7Hn"
      },
      "execution_count": null,
      "outputs": []
    },
    {
      "cell_type": "code",
      "source": [
        "# Run this cell to execute the script.\n",
        "\n",
        "!python3.12 appy_s15_04_04.py"
      ],
      "metadata": {
        "id": "N_tO7oPEa7Ho"
      },
      "execution_count": null,
      "outputs": []
    },
    {
      "cell_type": "code",
      "source": [
        "# Run this cell to display PNG image.\n",
        "\n",
        "# importing IPython.display module\n",
        "import IPython.display\n",
        "\n",
        "# displaying PNG file\n",
        "IPython.display.Image ('appy_s15_04_04.png')"
      ],
      "metadata": {
        "id": "Qyisx2wNa7Ho"
      },
      "execution_count": null,
      "outputs": []
    },
    {
      "cell_type": "markdown",
      "source": [
        "# 7. Classification using three features"
      ],
      "metadata": {
        "id": "KM2D3xWSbf7p"
      }
    },
    {
      "cell_type": "markdown",
      "source": [
        "## 7.1 Generation of synthetic data"
      ],
      "metadata": {
        "id": "eqwcpKgvJGnz"
      }
    },
    {
      "cell_type": "code",
      "source": [
        "# Run this cell to show the source code of the script.\n",
        "\n",
        "!cat appy_s15_05_00.py"
      ],
      "metadata": {
        "id": "etBe0BYrbnBy"
      },
      "execution_count": null,
      "outputs": []
    },
    {
      "cell_type": "code",
      "source": [
        "# Run this cell to execute the script.\n",
        "\n",
        "!python3.12 appy_s15_05_00.py"
      ],
      "metadata": {
        "id": "gvT3DPUTbnB1"
      },
      "execution_count": null,
      "outputs": []
    },
    {
      "cell_type": "markdown",
      "source": [
        "## 7.2 Visualisation of synthetic data"
      ],
      "metadata": {
        "id": "flcHwDtQJK6s"
      }
    },
    {
      "cell_type": "code",
      "source": [
        "# Run this cell to show the source code of the script.\n",
        "\n",
        "!cat appy_s15_05_01.py"
      ],
      "metadata": {
        "id": "BQDQUOYzbnB2"
      },
      "execution_count": null,
      "outputs": []
    },
    {
      "cell_type": "code",
      "source": [
        "# Run this cell to execute the script.\n",
        "\n",
        "!python3.12 appy_s15_05_01.py"
      ],
      "metadata": {
        "id": "KC0Hd7dzbnB4"
      },
      "execution_count": null,
      "outputs": []
    },
    {
      "cell_type": "code",
      "source": [
        "# Run this cell to display PNG image.\n",
        "\n",
        "# importing IPython.display module\n",
        "import IPython.display\n",
        "\n",
        "# displaying PNG file\n",
        "IPython.display.Image ('appy_s15_05_01.png')"
      ],
      "metadata": {
        "id": "o9JnrB4rbnB4"
      },
      "execution_count": null,
      "outputs": []
    },
    {
      "cell_type": "markdown",
      "source": [
        "## 7.3 Dividing dataset for training and testing"
      ],
      "metadata": {
        "id": "yuy--5l5JPFW"
      }
    },
    {
      "cell_type": "code",
      "source": [
        "# Run this cell to show the source code of the script.\n",
        "\n",
        "!cat appy_s15_05_02.py"
      ],
      "metadata": {
        "id": "mcXH946KbnB6"
      },
      "execution_count": null,
      "outputs": []
    },
    {
      "cell_type": "code",
      "source": [
        "# Run this cell to execute the script.\n",
        "\n",
        "!python3.12 appy_s15_05_02.py"
      ],
      "metadata": {
        "id": "wH0Mzo5IbnB8"
      },
      "execution_count": null,
      "outputs": []
    },
    {
      "cell_type": "markdown",
      "source": [
        "## 7.4 Building a classifier and carrying out classification"
      ],
      "metadata": {
        "id": "JLf0zG6QJTLP"
      }
    },
    {
      "cell_type": "code",
      "source": [
        "# Run this cell to show the source code of the script.\n",
        "\n",
        "!cat appy_s15_05_03.py"
      ],
      "metadata": {
        "id": "U9frrj4LbnB9"
      },
      "execution_count": null,
      "outputs": []
    },
    {
      "cell_type": "code",
      "source": [
        "# Run this cell to execute the script.\n",
        "\n",
        "!python3.12 appy_s15_05_03.py"
      ],
      "metadata": {
        "id": "-CRQN_FvbnB-"
      },
      "execution_count": null,
      "outputs": []
    },
    {
      "cell_type": "code",
      "source": [
        "# Run this cell to display PNG image.\n",
        "\n",
        "# importing IPython.display module\n",
        "import IPython.display\n",
        "\n",
        "# displaying PNG file\n",
        "IPython.display.Image ('appy_s15_05_03.png')"
      ],
      "metadata": {
        "id": "lYlaoHq-bnB_"
      },
      "execution_count": null,
      "outputs": []
    },
    {
      "cell_type": "markdown",
      "source": [
        "## 7.5 Examining results of classification of testing data"
      ],
      "metadata": {
        "id": "yaGixBnqJZiH"
      }
    },
    {
      "cell_type": "code",
      "source": [
        "# Run this cell to show the source code of the script.\n",
        "\n",
        "!cat appy_s15_05_04.py"
      ],
      "metadata": {
        "id": "A0VGnKTTbnCC"
      },
      "execution_count": null,
      "outputs": []
    },
    {
      "cell_type": "code",
      "source": [
        "# Run this cell to execute the script.\n",
        "\n",
        "!python3.12 appy_s15_05_04.py"
      ],
      "metadata": {
        "id": "yevfO608bnCD"
      },
      "execution_count": null,
      "outputs": []
    },
    {
      "cell_type": "markdown",
      "source": [
        "## 7.6 Generating synthetic dataset again"
      ],
      "metadata": {
        "id": "t2DQXZwjJeR5"
      }
    },
    {
      "cell_type": "code",
      "source": [
        "# Run this cell to show the source code of the script.\n",
        "\n",
        "!cat appy_s15_05_05.py"
      ],
      "metadata": {
        "id": "eNqK7-t0cm3M"
      },
      "execution_count": null,
      "outputs": []
    },
    {
      "cell_type": "code",
      "source": [
        "# Run this cell to execute the script.\n",
        "\n",
        "!python3.12 appy_s15_05_05.py"
      ],
      "metadata": {
        "id": "slUxspKvcm3Q"
      },
      "execution_count": null,
      "outputs": []
    },
    {
      "cell_type": "markdown",
      "source": [
        "## 7.7 Visualisation of new synthetic data"
      ],
      "metadata": {
        "id": "OyRm1inHJxoO"
      }
    },
    {
      "cell_type": "code",
      "source": [
        "# Run this cell to show the source code of the script.\n",
        "\n",
        "!cat appy_s15_05_06.py"
      ],
      "metadata": {
        "id": "4IL1F5QrcwqO"
      },
      "execution_count": null,
      "outputs": []
    },
    {
      "cell_type": "code",
      "source": [
        "# Run this cell to execute the script.\n",
        "\n",
        "!python3.12 appy_s15_05_06.py"
      ],
      "metadata": {
        "id": "99cs8LKFcwqR"
      },
      "execution_count": null,
      "outputs": []
    },
    {
      "cell_type": "code",
      "source": [
        "# Run this cell to display PNG image.\n",
        "\n",
        "# importing IPython.display module\n",
        "import IPython.display\n",
        "\n",
        "# displaying PNG file\n",
        "IPython.display.Image ('appy_s15_05_06.png')"
      ],
      "metadata": {
        "id": "sO3ni4jqcwqS"
      },
      "execution_count": null,
      "outputs": []
    },
    {
      "cell_type": "markdown",
      "source": [
        "## 7.8 Dividing new dataset for training and testing"
      ],
      "metadata": {
        "id": "8LoWB5z-J2Dy"
      }
    },
    {
      "cell_type": "code",
      "source": [
        "# Run this cell to show the source code of the script.\n",
        "\n",
        "!cat appy_s15_05_07.py"
      ],
      "metadata": {
        "id": "51ZPEO17c5OD"
      },
      "execution_count": null,
      "outputs": []
    },
    {
      "cell_type": "code",
      "source": [
        "# Run this cell to execute the script.\n",
        "\n",
        "!python3.12 appy_s15_05_07.py"
      ],
      "metadata": {
        "id": "cHLDeWiec5OH"
      },
      "execution_count": null,
      "outputs": []
    },
    {
      "cell_type": "markdown",
      "source": [
        "## 7.9 Building a classifier and carrying out classification"
      ],
      "metadata": {
        "id": "yCho5-DBJ6YS"
      }
    },
    {
      "cell_type": "code",
      "source": [
        "# Run this cell to show the source code of the script.\n",
        "\n",
        "!cat appy_s15_05_08.py"
      ],
      "metadata": {
        "id": "SmTR7vKndBDN"
      },
      "execution_count": null,
      "outputs": []
    },
    {
      "cell_type": "code",
      "source": [
        "# Run this cell to execute the script.\n",
        "\n",
        "!python3.12 appy_s15_05_08.py"
      ],
      "metadata": {
        "id": "VSGOFkx-dBDP"
      },
      "execution_count": null,
      "outputs": []
    },
    {
      "cell_type": "code",
      "source": [
        "# Run this cell to display PNG image.\n",
        "\n",
        "# importing IPython.display module\n",
        "import IPython.display\n",
        "\n",
        "# displaying PNG file\n",
        "IPython.display.Image ('appy_s15_05_08.png')"
      ],
      "metadata": {
        "id": "0WeX5uuudJxu"
      },
      "execution_count": null,
      "outputs": []
    },
    {
      "cell_type": "markdown",
      "source": [
        "## 7.10 Examining results of classification of testing data"
      ],
      "metadata": {
        "id": "0h6c8OZqKAPt"
      }
    },
    {
      "cell_type": "code",
      "source": [
        "# Run this cell to show the source code of the script.\n",
        "\n",
        "!cat appy_s15_05_09.py"
      ],
      "metadata": {
        "id": "N2zVPyKldPtj"
      },
      "execution_count": null,
      "outputs": []
    },
    {
      "cell_type": "code",
      "source": [
        "# Run this cell to execute the script.\n",
        "\n",
        "!python3.12 appy_s15_05_09.py"
      ],
      "metadata": {
        "id": "6_qYzBUYdPtp"
      },
      "execution_count": null,
      "outputs": []
    },
    {
      "cell_type": "code",
      "source": [
        "# Run this cell to execute the script.\n",
        "\n",
        "!python3.12 appy_s15_05_09.py | grep BUT\n",
        "!wc appy_s15_05_07_testing.data"
      ],
      "metadata": {
        "id": "sReyV9oCdWhF"
      },
      "execution_count": null,
      "outputs": []
    },
    {
      "cell_type": "markdown",
      "source": [
        "# 8. Colour indices and albedo of asteroids"
      ],
      "metadata": {
        "id": "3SW9nsXPdsYx"
      }
    },
    {
      "cell_type": "markdown",
      "source": [
        "## 8.1 Downloading colour indices of asteroids"
      ],
      "metadata": {
        "id": "Hi6u6MU6KH1E"
      }
    },
    {
      "cell_type": "code",
      "source": [
        "# Run this cell to show the source code of the script.\n",
        "\n",
        "!cat appy_s15_06_00.py"
      ],
      "metadata": {
        "id": "b_DBFN7LdzID"
      },
      "execution_count": null,
      "outputs": []
    },
    {
      "cell_type": "code",
      "source": [
        "# Run this cell to execute the script.\n",
        "\n",
        "!python3.12 appy_s15_06_00.py"
      ],
      "metadata": {
        "id": "jBP8OUxkdzIE"
      },
      "execution_count": null,
      "outputs": []
    },
    {
      "cell_type": "markdown",
      "source": [
        "## 8.2 Extracting files from a ZIP archive file"
      ],
      "metadata": {
        "id": "NW7Qw01pKNRq"
      }
    },
    {
      "cell_type": "code",
      "source": [
        "# Run this cell to show the source code of the script.\n",
        "\n",
        "!cat appy_s15_06_01.py"
      ],
      "metadata": {
        "id": "pPSL13JNd55C"
      },
      "execution_count": null,
      "outputs": []
    },
    {
      "cell_type": "code",
      "source": [
        "# Run this cell to execute the script.\n",
        "\n",
        "!python3.12 appy_s15_06_01.py -h"
      ],
      "metadata": {
        "id": "M-VOnq67d55I"
      },
      "execution_count": null,
      "outputs": []
    },
    {
      "cell_type": "code",
      "source": [
        "# Run this cell to execute the script.\n",
        "\n",
        "!python3.12 appy_s15_06_01.py colour_ubv.zip"
      ],
      "metadata": {
        "id": "yq1S2tnrd9Ni"
      },
      "execution_count": null,
      "outputs": []
    },
    {
      "cell_type": "code",
      "source": [
        "# Run this cell to show the source code of the script.\n",
        "\n",
        "!cat appy_s15_06_02.py"
      ],
      "metadata": {
        "id": "BBIsl-yBeDPU"
      },
      "execution_count": null,
      "outputs": []
    },
    {
      "cell_type": "code",
      "source": [
        "# Run this cell to execute the script.\n",
        "\n",
        "!python3.12 appy_s15_06_02.py -h"
      ],
      "metadata": {
        "id": "0Hc69C9geDPV"
      },
      "execution_count": null,
      "outputs": []
    },
    {
      "cell_type": "code",
      "source": [
        "# Run this cell to execute the script.\n",
        "\n",
        "!python3.12 appy_s15_06_02.py colour_ubv.zip"
      ],
      "metadata": {
        "id": "PVchG8nBeDPV"
      },
      "execution_count": null,
      "outputs": []
    },
    {
      "cell_type": "markdown",
      "source": [
        "## 8.3 Extracting colour indices from data file"
      ],
      "metadata": {
        "id": "0yP6cVOBKZVh"
      }
    },
    {
      "cell_type": "code",
      "source": [
        "# Run this cell to show the source code of the script.\n",
        "\n",
        "!cat appy_s15_06_03.py"
      ],
      "metadata": {
        "id": "GQsNDoCCeM_u"
      },
      "execution_count": null,
      "outputs": []
    },
    {
      "cell_type": "code",
      "source": [
        "# Run this cell to execute the script.\n",
        "\n",
        "!python3.12 appy_s15_06_03.py"
      ],
      "metadata": {
        "id": "X9GMkP8seM_3"
      },
      "execution_count": null,
      "outputs": []
    },
    {
      "cell_type": "markdown",
      "source": [
        "## 8.4 Visualising colour indices distribution of asteroids"
      ],
      "metadata": {
        "id": "n52hPuTxKcwV"
      }
    },
    {
      "cell_type": "code",
      "source": [
        "# Run this cell to show the source code of the script.\n",
        "\n",
        "!cat appy_s15_06_04.py"
      ],
      "metadata": {
        "id": "I987nU6ceZoZ"
      },
      "execution_count": null,
      "outputs": []
    },
    {
      "cell_type": "code",
      "source": [
        "# Run this cell to execute the script.\n",
        "\n",
        "!python3.12 appy_s15_06_04.py"
      ],
      "metadata": {
        "id": "xbvqUjTqeZok"
      },
      "execution_count": null,
      "outputs": []
    },
    {
      "cell_type": "code",
      "source": [
        "# Run this cell to display PNG image.\n",
        "\n",
        "# importing IPython.display module\n",
        "import IPython.display\n",
        "\n",
        "# displaying PNG file\n",
        "IPython.display.Image ('appy_s15_06_04.png')"
      ],
      "metadata": {
        "id": "P1_0e0Hresjd"
      },
      "execution_count": null,
      "outputs": []
    },
    {
      "cell_type": "markdown",
      "source": [
        "## 8.5 Downloading asteroid taxonomic classification data"
      ],
      "metadata": {
        "id": "ucJ_Oyr9KiOq"
      }
    },
    {
      "cell_type": "code",
      "source": [
        "# Run this cell to show the source code of the script.\n",
        "\n",
        "!cat appy_s15_06_05.py"
      ],
      "metadata": {
        "id": "tCHcsLZse16D"
      },
      "execution_count": null,
      "outputs": []
    },
    {
      "cell_type": "code",
      "source": [
        "# Run this cell to execute the script.\n",
        "\n",
        "!python3.12 appy_s15_06_05.py"
      ],
      "metadata": {
        "id": "XGF7Ewebe16H"
      },
      "execution_count": null,
      "outputs": []
    },
    {
      "cell_type": "markdown",
      "source": [
        "## 8.6 Extracting a ZIP file"
      ],
      "metadata": {
        "id": "s0KHNfGtK4rv"
      }
    },
    {
      "cell_type": "code",
      "source": [
        "# Run this cell to execute the script.\n",
        "\n",
        "!python3.12 appy_s15_06_01.py taxonomy.zip"
      ],
      "metadata": {
        "id": "5P8zYRWoe_Cd"
      },
      "execution_count": null,
      "outputs": []
    },
    {
      "cell_type": "code",
      "source": [
        "# Run this cell to execute the script.\n",
        "\n",
        "!python3.12 appy_s15_06_02.py taxonomy.zip"
      ],
      "metadata": {
        "id": "sFazpgYifCds"
      },
      "execution_count": null,
      "outputs": []
    },
    {
      "cell_type": "markdown",
      "source": [
        "## 8.7 Extracting asteroid sub-class from data file"
      ],
      "metadata": {
        "id": "zSxdVsAtK6jQ"
      }
    },
    {
      "cell_type": "code",
      "source": [
        "# Run this cell to show the source code of the script.\n",
        "\n",
        "!cat appy_s15_06_06.py"
      ],
      "metadata": {
        "id": "V2YkgCSkfMAH"
      },
      "execution_count": null,
      "outputs": []
    },
    {
      "cell_type": "code",
      "source": [
        "# Run this cell to execute the script.\n",
        "\n",
        "!python3.12 appy_s15_06_06.py"
      ],
      "metadata": {
        "id": "7Vw_ubxOfMAO"
      },
      "execution_count": null,
      "outputs": []
    },
    {
      "cell_type": "markdown",
      "source": [
        "## 8.8 Visualising colour indices for each sub-class"
      ],
      "metadata": {
        "id": "R1lW1RnAK_Ob"
      }
    },
    {
      "cell_type": "code",
      "source": [
        "# Run this cell to show the source code of the script.\n",
        "\n",
        "!cat appy_s15_06_07.py"
      ],
      "metadata": {
        "id": "oE_prXjgfXdT"
      },
      "execution_count": null,
      "outputs": []
    },
    {
      "cell_type": "code",
      "source": [
        "# Run this cell to execute the script.\n",
        "\n",
        "!python3.12 appy_s15_06_07.py"
      ],
      "metadata": {
        "id": "LdC2tAiUfXdY"
      },
      "execution_count": null,
      "outputs": []
    },
    {
      "cell_type": "code",
      "source": [
        "# Run this cell to display PNG image.\n",
        "\n",
        "# importing IPython.display module\n",
        "import IPython.display\n",
        "\n",
        "# displaying PNG file\n",
        "IPython.display.Image ('appy_s15_06_07.png')"
      ],
      "metadata": {
        "id": "XSF8tGYzfXdZ"
      },
      "execution_count": null,
      "outputs": []
    },
    {
      "cell_type": "markdown",
      "source": [
        "## 8.9 Downloading asteroid albedo data"
      ],
      "metadata": {
        "id": "gOdjvvROLHaa"
      }
    },
    {
      "cell_type": "code",
      "source": [
        "# Run this cell to show the source code of the script.\n",
        "\n",
        "!cat appy_s15_06_08.py"
      ],
      "metadata": {
        "id": "IrjYiITehILn"
      },
      "execution_count": null,
      "outputs": []
    },
    {
      "cell_type": "code",
      "source": [
        "# Run this cell to execute the script.\n",
        "\n",
        "!python3.12 appy_s15_06_08.py"
      ],
      "metadata": {
        "id": "nDj35sIPhILu"
      },
      "execution_count": null,
      "outputs": []
    },
    {
      "cell_type": "markdown",
      "source": [
        "## 8.10 Extracting a ZIP file"
      ],
      "metadata": {
        "id": "eRWQvNHgLOqb"
      }
    },
    {
      "cell_type": "code",
      "source": [
        "# Run this cell to execute the script.\n",
        "\n",
        "!python3.12 appy_s15_06_01.py albedo.zip"
      ],
      "metadata": {
        "id": "TIbaSNQlhILv"
      },
      "execution_count": null,
      "outputs": []
    },
    {
      "cell_type": "code",
      "source": [
        "# Run this cell to execute the script.\n",
        "\n",
        "!python3.12 appy_s15_06_02.py albedo.zip"
      ],
      "metadata": {
        "id": "fxE359wyhILv"
      },
      "execution_count": null,
      "outputs": []
    },
    {
      "cell_type": "markdown",
      "source": [
        "## 8.11 Extracting asteroid albedos from data file"
      ],
      "metadata": {
        "id": "SiTRjOcgLS2M"
      }
    },
    {
      "cell_type": "code",
      "source": [
        "# Run this cell to show the source code of the script.\n",
        "\n",
        "!cat appy_s15_06_09.py"
      ],
      "metadata": {
        "id": "xNd6HjEOh8kw"
      },
      "execution_count": null,
      "outputs": []
    },
    {
      "cell_type": "code",
      "source": [
        "# Run this cell to execute the script.\n",
        "\n",
        "!python3.12 appy_s15_06_09.py"
      ],
      "metadata": {
        "id": "FzP7P5zCh8k6"
      },
      "execution_count": null,
      "outputs": []
    },
    {
      "cell_type": "markdown",
      "source": [
        "## 8.12 Visualising colour indices and albedos for each sub-class"
      ],
      "metadata": {
        "id": "QEkeizafLYWj"
      }
    },
    {
      "cell_type": "code",
      "source": [
        "# Run this cell to show the source code of the script.\n",
        "\n",
        "!cat appy_s15_06_10.py"
      ],
      "metadata": {
        "id": "ldunchaUiBbO"
      },
      "execution_count": null,
      "outputs": []
    },
    {
      "cell_type": "code",
      "source": [
        "# Run this cell to execute the script.\n",
        "\n",
        "!python3.12 appy_s15_06_10.py"
      ],
      "metadata": {
        "id": "mcQ9C7PQiBbP"
      },
      "execution_count": null,
      "outputs": []
    },
    {
      "cell_type": "code",
      "source": [
        "# Run this cell to display PNG image.\n",
        "\n",
        "# importing IPython.display module\n",
        "import IPython.display\n",
        "\n",
        "# displaying PNG file\n",
        "IPython.display.Image ('appy_s15_06_10.png')"
      ],
      "metadata": {
        "id": "RYwQsXUfiOzL"
      },
      "execution_count": null,
      "outputs": []
    },
    {
      "cell_type": "markdown",
      "source": [
        "# 9. Asteroid classification into sub-classes"
      ],
      "metadata": {
        "id": "HmJSFxkCiS0z"
      }
    },
    {
      "cell_type": "markdown",
      "source": [
        "## 9.1 Downloading SDSS Moving Object Catalogue"
      ],
      "metadata": {
        "id": "lvP40fdZLiQs"
      }
    },
    {
      "cell_type": "code",
      "source": [
        "# Run this cell to show the source code of the script.\n",
        "\n",
        "!cat appy_s15_07_00.py"
      ],
      "metadata": {
        "id": "DZt1ylXGiXXW"
      },
      "execution_count": null,
      "outputs": []
    },
    {
      "cell_type": "code",
      "source": [
        "# Run this cell to execute the script.\n",
        "\n",
        "!python3.12 appy_s15_07_00.py"
      ],
      "metadata": {
        "id": "zdKubUE_iXXY"
      },
      "execution_count": null,
      "outputs": []
    },
    {
      "cell_type": "markdown",
      "source": [
        "## 9.2 Extracting files from a ZIP file"
      ],
      "metadata": {
        "id": "JyU2oJJ5Lm-7"
      }
    },
    {
      "cell_type": "code",
      "source": [
        "# Run this cell to execute the script.\n",
        "\n",
        "!python3.12 appy_s15_06_01.py sdss_moc.zip"
      ],
      "metadata": {
        "id": "1B3stCNbidXQ"
      },
      "execution_count": null,
      "outputs": []
    },
    {
      "cell_type": "code",
      "source": [
        "# Run this cell to execute the script.\n",
        "\n",
        "!python3.12 appy_s15_06_02.py sdss_moc.zip"
      ],
      "metadata": {
        "id": "hsCIU8VUihLx"
      },
      "execution_count": null,
      "outputs": []
    },
    {
      "cell_type": "markdown",
      "source": [
        "## 9.3 Finding colour indices of asteroids from data file"
      ],
      "metadata": {
        "id": "Kc5mRm2nLqh7"
      }
    },
    {
      "cell_type": "code",
      "source": [
        "# Run this cell to show the source code of the script.\n",
        "\n",
        "!cat appy_s15_07_01.py"
      ],
      "metadata": {
        "id": "vy5MOhN9ipkp"
      },
      "execution_count": null,
      "outputs": []
    },
    {
      "cell_type": "code",
      "source": [
        "# Run this cell to execute the script.\n",
        "\n",
        "!python3.12 appy_s15_07_01.py"
      ],
      "metadata": {
        "id": "AzbsviyZipkv"
      },
      "execution_count": null,
      "outputs": []
    },
    {
      "cell_type": "markdown",
      "source": [
        "## 9.4 Visualising colour indices of asteroids"
      ],
      "metadata": {
        "id": "7gY2pcpTLwHU"
      }
    },
    {
      "cell_type": "code",
      "source": [
        "# Run this cell to show the source code of the script.\n",
        "\n",
        "!cat appy_s15_07_02.py"
      ],
      "metadata": {
        "id": "iBJhF6sjizEh"
      },
      "execution_count": null,
      "outputs": []
    },
    {
      "cell_type": "code",
      "source": [
        "# Run this cell to execute the script.\n",
        "\n",
        "!python3.12 appy_s15_07_02.py"
      ],
      "metadata": {
        "id": "uEROhZerizEw"
      },
      "execution_count": null,
      "outputs": []
    },
    {
      "cell_type": "code",
      "source": [
        "# Run this cell to display PNG image.\n",
        "\n",
        "# importing IPython.display module\n",
        "import IPython.display\n",
        "\n",
        "# displaying PNG file\n",
        "IPython.display.Image ('appy_s15_07_02.png')"
      ],
      "metadata": {
        "id": "iaVSTn3Zi12P"
      },
      "execution_count": null,
      "outputs": []
    },
    {
      "cell_type": "markdown",
      "source": [
        "## 9.5 Downloading NEOWISE Diameters and Albedos catalogue"
      ],
      "metadata": {
        "id": "18DXM8UtL5HM"
      }
    },
    {
      "cell_type": "code",
      "source": [
        "# Run this cell to show the source code of the script.\n",
        "\n",
        "!cat appy_s15_07_03.py"
      ],
      "metadata": {
        "id": "8sma_VOdjEPP"
      },
      "execution_count": null,
      "outputs": []
    },
    {
      "cell_type": "code",
      "source": [
        "# Run this cell to execute the script.\n",
        "\n",
        "!python3.12 appy_s15_07_03.py"
      ],
      "metadata": {
        "id": "yPtorUO_jEPV"
      },
      "execution_count": null,
      "outputs": []
    },
    {
      "cell_type": "markdown",
      "source": [
        "## 9.6 Extracting files from a ZIP file"
      ],
      "metadata": {
        "id": "3HUMlU1hL9-s"
      }
    },
    {
      "cell_type": "code",
      "source": [
        "# Run this cell to execute the script.\n",
        "\n",
        "!python3.12 appy_s15_06_01.py neowise_albedo.zip"
      ],
      "metadata": {
        "id": "58kSV0pljEPW"
      },
      "execution_count": null,
      "outputs": []
    },
    {
      "cell_type": "code",
      "source": [
        "# Run this cell to execute the script.\n",
        "\n",
        "!python3.12 appy_s15_06_02.py neowise_albedo.zip"
      ],
      "metadata": {
        "id": "-LjBAh5JjEPW"
      },
      "execution_count": null,
      "outputs": []
    },
    {
      "cell_type": "markdown",
      "source": [
        "## 9.7 Finding albedos of asteroids from data file"
      ],
      "metadata": {
        "id": "Db4dEs28MB4F"
      }
    },
    {
      "cell_type": "code",
      "source": [
        "# Run this cell to show the source code of the script.\n",
        "\n",
        "!cat appy_s15_07_04.py"
      ],
      "metadata": {
        "id": "YeLrvtX_jT0C"
      },
      "execution_count": null,
      "outputs": []
    },
    {
      "cell_type": "code",
      "source": [
        "# Run this cell to execute the script.\n",
        "\n",
        "!python3.12 appy_s15_07_04.py"
      ],
      "metadata": {
        "id": "Hb_WB6w_jT0N"
      },
      "execution_count": null,
      "outputs": []
    },
    {
      "cell_type": "markdown",
      "source": [
        "## 9.8 Finding asteroids with known colours, albedo, and taxonomy"
      ],
      "metadata": {
        "id": "ozyVa65gMG9k"
      }
    },
    {
      "cell_type": "code",
      "source": [
        "# Run this cell to show the source code of the script.\n",
        "\n",
        "!cat appy_s15_07_05.py"
      ],
      "metadata": {
        "id": "sLO9SB_djYiQ"
      },
      "execution_count": null,
      "outputs": []
    },
    {
      "cell_type": "code",
      "source": [
        "# Run this cell to execute the script.\n",
        "\n",
        "!python3.12 appy_s15_07_05.py"
      ],
      "metadata": {
        "id": "vWoTxNpYjYiR"
      },
      "execution_count": null,
      "outputs": []
    },
    {
      "cell_type": "markdown",
      "source": [
        "## 9.9 Visualising colour and albedo of selected asteroids"
      ],
      "metadata": {
        "id": "KSFmqJL1MNCJ"
      }
    },
    {
      "cell_type": "code",
      "source": [
        "# Run this cell to show the source code of the script.\n",
        "\n",
        "!cat appy_s15_07_06.py"
      ],
      "metadata": {
        "id": "_rJVcEJwjlh3"
      },
      "execution_count": null,
      "outputs": []
    },
    {
      "cell_type": "code",
      "source": [
        "# Run this cell to execute the script.\n",
        "\n",
        "!python3.12 appy_s15_07_06.py"
      ],
      "metadata": {
        "id": "-lV71ZzqjliA"
      },
      "execution_count": null,
      "outputs": []
    },
    {
      "cell_type": "code",
      "source": [
        "# Run this cell to display PNG image.\n",
        "\n",
        "# importing IPython.display module\n",
        "import IPython.display\n",
        "\n",
        "# displaying PNG file\n",
        "IPython.display.Image ('appy_s15_07_06.png')"
      ],
      "metadata": {
        "id": "TbtHMU5Ajve2"
      },
      "execution_count": null,
      "outputs": []
    },
    {
      "cell_type": "code",
      "source": [
        "# Run this cell to show the source code of the script.\n",
        "\n",
        "!cat appy_s15_07_07.py"
      ],
      "metadata": {
        "id": "7D6ikYiQj0H4"
      },
      "execution_count": null,
      "outputs": []
    },
    {
      "cell_type": "code",
      "source": [
        "# Run this cell to execute the script.\n",
        "\n",
        "!python3.12 appy_s15_07_07.py"
      ],
      "metadata": {
        "id": "sKsEZBNGj0IE"
      },
      "execution_count": null,
      "outputs": []
    },
    {
      "cell_type": "code",
      "source": [
        "# Run this cell to display PNG image.\n",
        "\n",
        "# importing IPython.display module\n",
        "import IPython.display\n",
        "\n",
        "# displaying PNG file\n",
        "IPython.display.Image ('appy_s15_07_07.png')"
      ],
      "metadata": {
        "id": "zk77KTiEj0IH"
      },
      "execution_count": null,
      "outputs": []
    },
    {
      "cell_type": "markdown",
      "source": [
        "## 9.10 Preparation of training and testing datasets"
      ],
      "metadata": {
        "id": "eCzvuR7RMVxU"
      }
    },
    {
      "cell_type": "code",
      "source": [
        "# Run this cell to show the source code of the script.\n",
        "\n",
        "!cat appy_s15_07_08.py"
      ],
      "metadata": {
        "id": "dW1y9WM8j-cr"
      },
      "execution_count": null,
      "outputs": []
    },
    {
      "cell_type": "code",
      "source": [
        "# Run this cell to execute the script.\n",
        "\n",
        "!python3.12 appy_s15_07_08.py"
      ],
      "metadata": {
        "id": "clo3gRuqj-c8"
      },
      "execution_count": null,
      "outputs": []
    },
    {
      "cell_type": "markdown",
      "source": [
        "## 9.11 Building a classifier and carrying out classification"
      ],
      "metadata": {
        "id": "1oArgTvQMbPj"
      }
    },
    {
      "cell_type": "code",
      "source": [
        "# Run this cell to show the source code of the script.\n",
        "\n",
        "!cat appy_s15_07_09.py"
      ],
      "metadata": {
        "id": "ZLKO7iLpkEzy"
      },
      "execution_count": null,
      "outputs": []
    },
    {
      "cell_type": "code",
      "source": [
        "# Run this cell to execute the script.\n",
        "\n",
        "!python3.12 appy_s15_07_09.py"
      ],
      "metadata": {
        "id": "2PeLktvZkEz0"
      },
      "execution_count": null,
      "outputs": []
    },
    {
      "cell_type": "markdown",
      "source": [
        "## 9.12 Visualising results of classification"
      ],
      "metadata": {
        "id": "8wgjokVXMgU1"
      }
    },
    {
      "cell_type": "code",
      "source": [
        "# Run this cell to show the source code of the script.\n",
        "\n",
        "!cat appy_s15_07_10.py"
      ],
      "metadata": {
        "id": "MOErqvH4kJHe"
      },
      "execution_count": null,
      "outputs": []
    },
    {
      "cell_type": "code",
      "source": [
        "# Run this cell to execute the script.\n",
        "\n",
        "!python3.12 appy_s15_07_10.py"
      ],
      "metadata": {
        "id": "A2J-0IUkkJHf"
      },
      "execution_count": null,
      "outputs": []
    },
    {
      "cell_type": "code",
      "source": [
        "# Run this cell to display PNG image.\n",
        "\n",
        "# importing IPython.display module\n",
        "import IPython.display\n",
        "\n",
        "# displaying PNG file\n",
        "IPython.display.Image ('appy_s15_07_10.png')"
      ],
      "metadata": {
        "id": "5HmmYHnUkOpg"
      },
      "execution_count": null,
      "outputs": []
    },
    {
      "cell_type": "markdown",
      "source": [
        "# 10. Finding clustering of data using unsupervised learning"
      ],
      "metadata": {
        "id": "nnXVxPkiMmDU"
      }
    },
    {
      "cell_type": "markdown",
      "source": [
        "## 10.1 Generating synthetic dataset for DBSCAN analysis"
      ],
      "metadata": {
        "id": "Og2lU7JmMqGt"
      }
    },
    {
      "cell_type": "code",
      "source": [
        "# Run this cell to show the source code of the script.\n",
        "\n",
        "!cat appy_s15_08_00.py"
      ],
      "metadata": {
        "id": "UIU9rPXZMum8"
      },
      "execution_count": null,
      "outputs": []
    },
    {
      "cell_type": "code",
      "source": [
        "# Run this cell to execute the script.\n",
        "\n",
        "!python3.12 appy_s15_08_00.py"
      ],
      "metadata": {
        "id": "EnhVxXPVMunP"
      },
      "execution_count": null,
      "outputs": []
    },
    {
      "cell_type": "markdown",
      "source": [
        "## 10.2 Visualising synthetic dataset"
      ],
      "metadata": {
        "id": "kpGYTbdCM0A_"
      }
    },
    {
      "cell_type": "code",
      "source": [
        "# Run this cell to show the source code of the script.\n",
        "\n",
        "!cat appy_s15_08_01.py"
      ],
      "metadata": {
        "id": "Ldsr_wToM3Ab"
      },
      "execution_count": null,
      "outputs": []
    },
    {
      "cell_type": "code",
      "source": [
        "# Run this cell to execute the script.\n",
        "\n",
        "!python3.12 appy_s15_08_01.py"
      ],
      "metadata": {
        "id": "XqRcP-x_M3Ae"
      },
      "execution_count": null,
      "outputs": []
    },
    {
      "cell_type": "code",
      "source": [
        "# Run this cell to display PNG image.\n",
        "\n",
        "# importing IPython.display module\n",
        "import IPython.display\n",
        "\n",
        "# displaying PNG file\n",
        "IPython.display.Image ('appy_s15_08_01.png')"
      ],
      "metadata": {
        "id": "ZYCwJK97M6jE"
      },
      "execution_count": null,
      "outputs": []
    },
    {
      "cell_type": "markdown",
      "source": [
        "## 10.3 Carrying out DBSCAN analysis"
      ],
      "metadata": {
        "id": "CShi9UrjM_Qv"
      }
    },
    {
      "cell_type": "code",
      "source": [
        "# Run this cell to show the source code of the script.\n",
        "\n",
        "!cat appy_s15_08_02.py"
      ],
      "metadata": {
        "id": "5JhsjFB9NFTU"
      },
      "execution_count": null,
      "outputs": []
    },
    {
      "cell_type": "code",
      "source": [
        "# Run this cell to execute the script.\n",
        "\n",
        "!python3.12 appy_s15_08_02.py"
      ],
      "metadata": {
        "id": "5rIrB6tzNFTY"
      },
      "execution_count": null,
      "outputs": []
    },
    {
      "cell_type": "markdown",
      "source": [
        "## 10.4 Visualising results of DBSCAN analysis"
      ],
      "metadata": {
        "id": "RrPzCKoONIFd"
      }
    },
    {
      "cell_type": "code",
      "source": [
        "# Run this cell to show the source code of the script.\n",
        "\n",
        "!cat appy_s15_08_03.py"
      ],
      "metadata": {
        "id": "2PVHyAbzNMT4"
      },
      "execution_count": null,
      "outputs": []
    },
    {
      "cell_type": "code",
      "source": [
        "# Run this cell to execute the script.\n",
        "\n",
        "!python3.12 appy_s15_08_03.py"
      ],
      "metadata": {
        "id": "xHQIYo0pNMUA"
      },
      "execution_count": null,
      "outputs": []
    },
    {
      "cell_type": "code",
      "source": [
        "# Run this cell to display PNG image.\n",
        "\n",
        "# importing IPython.display module\n",
        "import IPython.display\n",
        "\n",
        "# displaying PNG file\n",
        "IPython.display.Image ('appy_s15_08_03.png')"
      ],
      "metadata": {
        "id": "Q9KQr2vHNPXh"
      },
      "execution_count": null,
      "outputs": []
    },
    {
      "cell_type": "markdown",
      "source": [
        "# 11. Finding star cluster members using DBSCAN"
      ],
      "metadata": {
        "id": "F9DDqfqONWYH"
      }
    },
    {
      "cell_type": "markdown",
      "source": [
        "## 11.1 Downloading data"
      ],
      "metadata": {
        "id": "GWV8vZekNZc-"
      }
    },
    {
      "cell_type": "code",
      "source": [
        "# Run this cell to show the source code of the script.\n",
        "\n",
        "!cat appy_s15_09_00.py"
      ],
      "metadata": {
        "id": "1_0THdpFNdtu"
      },
      "execution_count": null,
      "outputs": []
    },
    {
      "cell_type": "code",
      "source": [
        "# Run this cell to execute the script.\n",
        "\n",
        "!python3.12 appy_s15_09_00.py -h"
      ],
      "metadata": {
        "id": "u6ZgAOQCNduB"
      },
      "execution_count": null,
      "outputs": []
    },
    {
      "cell_type": "code",
      "source": [
        "# Run this cell to execute the script.\n",
        "\n",
        "!python3.12 appy_s15_09_00.py -t M67 -r 60 -o m67.vot.gz"
      ],
      "metadata": {
        "id": "7S7dyrndNhEB"
      },
      "execution_count": null,
      "outputs": []
    },
    {
      "cell_type": "markdown",
      "source": [
        "## 11.2 Reading VOTable file"
      ],
      "metadata": {
        "id": "_NXkR-anNs0n"
      }
    },
    {
      "cell_type": "code",
      "source": [
        "# Run this cell to show the source code of the script.\n",
        "\n",
        "!cat appy_s15_09_01.py"
      ],
      "metadata": {
        "id": "7SfqKQURNxPk"
      },
      "execution_count": null,
      "outputs": []
    },
    {
      "cell_type": "code",
      "source": [
        "# Run this cell to execute the script.\n",
        "\n",
        "!python3.12 appy_s15_09_01.py -h"
      ],
      "metadata": {
        "id": "Ob-RQMpRNxPq"
      },
      "execution_count": null,
      "outputs": []
    },
    {
      "cell_type": "code",
      "source": [
        "# Run this cell to execute the script.\n",
        "\n",
        "!python3.12 appy_s15_09_01.py -v -i m67.vot.gz -o m67.data"
      ],
      "metadata": {
        "id": "7HsQ2SWTN0ce"
      },
      "execution_count": null,
      "outputs": []
    },
    {
      "cell_type": "markdown",
      "source": [
        "## 11.3 Finding star cluster members using DBSCAN analysis"
      ],
      "metadata": {
        "id": "QX4qf5lcN5Tf"
      }
    },
    {
      "cell_type": "code",
      "source": [
        "# Run this cell to show the source code of the script.\n",
        "\n",
        "!cat appy_s15_09_02.py"
      ],
      "metadata": {
        "id": "cBd4FtQbN9f-"
      },
      "execution_count": null,
      "outputs": []
    },
    {
      "cell_type": "code",
      "source": [
        "# Run this cell to execute the script.\n",
        "\n",
        "!python3.12 appy_s15_09_02.py -h"
      ],
      "metadata": {
        "id": "9zSqd507N9gM"
      },
      "execution_count": null,
      "outputs": []
    },
    {
      "cell_type": "code",
      "source": [
        "# Run this cell to execute the script.\n",
        "\n",
        "!python3.12 appy_s15_09_02.py -v -i m67.data -o m67_classified.data -e 1 -n 30"
      ],
      "metadata": {
        "id": "M5uc5-_hOBbZ"
      },
      "execution_count": null,
      "outputs": []
    },
    {
      "cell_type": "markdown",
      "source": [
        "## 11.4 Visualising results of DBSCAN analysis"
      ],
      "metadata": {
        "id": "BvxKljR2OHW2"
      }
    },
    {
      "cell_type": "code",
      "source": [
        "# Run this cell to show the source code of the script.\n",
        "\n",
        "!cat appy_s15_09_03.py"
      ],
      "metadata": {
        "id": "InvmhJDlONKj"
      },
      "execution_count": null,
      "outputs": []
    },
    {
      "cell_type": "code",
      "source": [
        "# Run this cell to execute the script.\n",
        "\n",
        "!python3.12 appy_s15_09_03.py -h"
      ],
      "metadata": {
        "id": "AQINFM96ONKm"
      },
      "execution_count": null,
      "outputs": []
    },
    {
      "cell_type": "code",
      "source": [
        "# Run this cell to execute the script.\n",
        "\n",
        "!python3.12 appy_s15_09_03.py -i m67_classified.data -o m67_classified.png -t \"Open cluster M67\""
      ],
      "metadata": {
        "id": "mDVm87izOPlJ"
      },
      "execution_count": null,
      "outputs": []
    },
    {
      "cell_type": "code",
      "source": [
        "# Run this cell to display PNG image.\n",
        "\n",
        "# importing IPython.display module\n",
        "import IPython.display\n",
        "\n",
        "# displaying PNG file\n",
        "IPython.display.Image ('m67_classified.png')"
      ],
      "metadata": {
        "id": "31DiwB1OOa61"
      },
      "execution_count": null,
      "outputs": []
    },
    {
      "cell_type": "markdown",
      "source": [
        "# End of this notebook"
      ],
      "metadata": {
        "id": "saWRJ8q7kgFr"
      }
    }
  ]
}