{
  "nbformat": 4,
  "nbformat_minor": 0,
  "metadata": {
    "colab": {
      "provenance": []
    },
    "kernelspec": {
      "name": "python3",
      "display_name": "Python 3"
    },
    "language_info": {
      "name": "python"
    }
  },
  "cells": [
    {
      "cell_type": "markdown",
      "source": [
        "# Doing Astrophysics using Python\n",
        "\n",
        "- \"Doing Astrophysics using Python\"\n",
        "  - Instructor: Kinoshita Daisuke\n",
        "  - Classroom: S4-202\n",
        "  - Time: from 18:00 to 20:50 on Tuesday\n",
        "  - Semester: 2nd semester of academic year 2023\n",
        "    - from February 2024 to June 2024\n",
        "  - Course web page: https://s3b.astro.ncu.edu.tw/appy_202402/\n",
        "  - GitHub repository: https://github.com/kinoshitadaisuke/ncu_doing_astrophysics_using_python_202402\n"
      ],
      "metadata": {
        "id": "gGzI83b9PmnI"
      }
    },
    {
      "cell_type": "markdown",
      "source": [
        "# Session 02: \"Importing and using Python modules\"\n",
        "\n",
        "## 27 February 2024\n",
        "\n",
        "## Instructor: Kinoshita Daisuke"
      ],
      "metadata": {
        "id": "Q7MvlbrC_tne"
      }
    },
    {
      "cell_type": "markdown",
      "source": [
        "# 0. Installation of Python interpreter"
      ],
      "metadata": {
        "id": "T_y7rto6Q5P8"
      }
    },
    {
      "cell_type": "code",
      "source": [
        "# Run this cell to install Python 3.12\n",
        "\n",
        "!apt update\n",
        "!apt upgrade\n",
        "!apt install python3.12 python3.12-dev python3.12-distutils libpython3.12-dev\n",
        "!update-alternatives --install /usr/bin/python3 python3 /usr/bin/python3.12 1\n",
        "!wget https://bootstrap.pypa.io/get-pip.py\n",
        "!python3.12 get-pip.py"
      ],
      "metadata": {
        "id": "MzmVLkC8QyGZ"
      },
      "execution_count": null,
      "outputs": []
    },
    {
      "cell_type": "code",
      "source": [
        "# Run this cell to check the version of Python interpreter and pip command\n",
        "\n",
        "!python --version\n",
        "!pip --version"
      ],
      "metadata": {
        "id": "Vx-JYTyp3NMU"
      },
      "execution_count": null,
      "outputs": []
    },
    {
      "cell_type": "markdown",
      "source": [
        "# 1. Downloading a set of sample Python scripts for this course"
      ],
      "metadata": {
        "id": "zvKZRFoF8A8k"
      }
    },
    {
      "cell_type": "code",
      "source": [
        "# Run this cell to download a set of sample Python scripts for this course.\n",
        "\n",
        "!git clone https://github.com/kinoshitadaisuke/ncu_doing_astrophysics_using_python_202402.git"
      ],
      "metadata": {
        "id": "itsUqwak4-z4"
      },
      "execution_count": null,
      "outputs": []
    },
    {
      "cell_type": "code",
      "source": [
        "# Run this cell to move to the directory for this session.\n",
        "\n",
        "%cd ncu_doing_astrophysics_using_python_202402/s02"
      ],
      "metadata": {
        "id": "bREyxIP08RZG"
      },
      "execution_count": null,
      "outputs": []
    },
    {
      "cell_type": "code",
      "source": [
        "# Run this cell to show a list of files for this session.\n",
        "\n",
        "!ls"
      ],
      "metadata": {
        "id": "fKxQ_X-D8dRN"
      },
      "execution_count": null,
      "outputs": []
    },
    {
      "cell_type": "markdown",
      "source": [
        "# 2. Using \"os\" module"
      ],
      "metadata": {
        "id": "gkD058iNKVFm"
      }
    },
    {
      "cell_type": "markdown",
      "source": [
        "## 2.1 Currently working directory"
      ],
      "metadata": {
        "id": "7H_GgIVgKYWZ"
      }
    },
    {
      "cell_type": "code",
      "source": [
        "# Run this cell to show the source code of the script.\n",
        "\n",
        "!cat appy_s02_00_00.py"
      ],
      "metadata": {
        "id": "sbYvxOLyKXbX"
      },
      "execution_count": null,
      "outputs": []
    },
    {
      "cell_type": "code",
      "source": [
        "# Run this cell to execute the script.\n",
        "\n",
        "!python3.12 appy_s02_00_00.py"
      ],
      "metadata": {
        "id": "zUFTWnzdKfjK"
      },
      "execution_count": null,
      "outputs": []
    },
    {
      "cell_type": "code",
      "source": [
        "# Run this cell to show the source code of the script.\n",
        "\n",
        "!cat appy_s02_00_01.py"
      ],
      "metadata": {
        "id": "PzXDpNwFKrW_"
      },
      "execution_count": null,
      "outputs": []
    },
    {
      "cell_type": "code",
      "source": [
        "# Run this cell to execute the script.\n",
        "\n",
        "!python3.12 appy_s02_00_01.py"
      ],
      "metadata": {
        "id": "eSLbRRLgKrXD"
      },
      "execution_count": null,
      "outputs": []
    },
    {
      "cell_type": "markdown",
      "source": [
        "## 2.2 Getting a list of files and directories"
      ],
      "metadata": {
        "id": "Z8ybpcDBKyR6"
      }
    },
    {
      "cell_type": "code",
      "source": [
        "# Run this cell to show the source code of the script.\n",
        "\n",
        "!cat appy_s02_00_02.py"
      ],
      "metadata": {
        "id": "pQT9ELM9KySD"
      },
      "execution_count": null,
      "outputs": []
    },
    {
      "cell_type": "code",
      "source": [
        "# Run this cell to execute the script.\n",
        "\n",
        "!python3.12 appy_s02_00_02.py"
      ],
      "metadata": {
        "id": "fW8AxK9YKySF"
      },
      "execution_count": null,
      "outputs": []
    },
    {
      "cell_type": "code",
      "source": [
        "# Run this cell to show the source code of the script.\n",
        "\n",
        "!cat appy_s02_00_03.py"
      ],
      "metadata": {
        "id": "vEQsmF83LEwr"
      },
      "execution_count": null,
      "outputs": []
    },
    {
      "cell_type": "code",
      "source": [
        "# Run this cell to execute the script.\n",
        "\n",
        "!python3.12 appy_s02_00_03.py"
      ],
      "metadata": {
        "id": "wDRlY1HsLEw_"
      },
      "execution_count": null,
      "outputs": []
    },
    {
      "cell_type": "code",
      "source": [
        "# Run this cell to show the source code of the script.\n",
        "\n",
        "!cat appy_s02_00_04.py"
      ],
      "metadata": {
        "id": "gVuEpW8GLMY5"
      },
      "execution_count": null,
      "outputs": []
    },
    {
      "cell_type": "code",
      "source": [
        "# Run this cell to execute the script.\n",
        "\n",
        "!python3.12 appy_s02_00_04.py"
      ],
      "metadata": {
        "id": "4LvWb4q3LMY8"
      },
      "execution_count": null,
      "outputs": []
    },
    {
      "cell_type": "markdown",
      "source": [
        "## 2.3 Getting file information"
      ],
      "metadata": {
        "id": "jLhyiu0XMAaD"
      }
    },
    {
      "cell_type": "code",
      "source": [
        "# Run this cell to show the source code of the script.\n",
        "\n",
        "!cat appy_s02_00_05.py"
      ],
      "metadata": {
        "id": "UKhojSRAMAaQ"
      },
      "execution_count": null,
      "outputs": []
    },
    {
      "cell_type": "code",
      "source": [
        "# Run this cell to execute the script.\n",
        "\n",
        "!python3.12 appy_s02_00_05.py"
      ],
      "metadata": {
        "id": "nGDO-XJZMAaS"
      },
      "execution_count": null,
      "outputs": []
    },
    {
      "cell_type": "markdown",
      "source": [
        "## 2.4 Environmental variables"
      ],
      "metadata": {
        "id": "f5lh3ouXMPDS"
      }
    },
    {
      "cell_type": "code",
      "source": [
        "# Run this cell to show the source code of the script.\n",
        "\n",
        "!cat appy_s02_00_06.py"
      ],
      "metadata": {
        "id": "An8N5NunMPDU"
      },
      "execution_count": null,
      "outputs": []
    },
    {
      "cell_type": "code",
      "source": [
        "# Run this cell to execute the script.\n",
        "\n",
        "!python3.12 appy_s02_00_06.py"
      ],
      "metadata": {
        "id": "ABYgIRSRMPDW"
      },
      "execution_count": null,
      "outputs": []
    },
    {
      "cell_type": "markdown",
      "source": [
        "## 2.5 Operating system information"
      ],
      "metadata": {
        "id": "XME3CvYQMWRE"
      }
    },
    {
      "cell_type": "code",
      "source": [
        "# Run this cell to show the source code of the script.\n",
        "\n",
        "!cat appy_s02_00_07.py"
      ],
      "metadata": {
        "id": "SoImisC0MWRH"
      },
      "execution_count": null,
      "outputs": []
    },
    {
      "cell_type": "code",
      "source": [
        "# Run this cell to execute the script.\n",
        "\n",
        "!python3.12 appy_s02_00_07.py"
      ],
      "metadata": {
        "id": "T4iPD3d9MWRK"
      },
      "execution_count": null,
      "outputs": []
    },
    {
      "cell_type": "markdown",
      "source": [
        "## 2.6 Creating a new directory"
      ],
      "metadata": {
        "id": "8A6NIaFNMeYc"
      }
    },
    {
      "cell_type": "code",
      "source": [
        "# Run this cell to show the source code of the script.\n",
        "\n",
        "!cat appy_s02_00_08.py"
      ],
      "metadata": {
        "id": "oNOgs-lcMeYf"
      },
      "execution_count": null,
      "outputs": []
    },
    {
      "cell_type": "code",
      "source": [
        "# Run this cell to execute the script.\n",
        "\n",
        "!python3.12 appy_s02_00_08.py"
      ],
      "metadata": {
        "id": "ET6H8lUPMeYi"
      },
      "execution_count": null,
      "outputs": []
    },
    {
      "cell_type": "markdown",
      "source": [
        "## 2.7 Changing file mode"
      ],
      "metadata": {
        "id": "vdU2Rt4XMoKw"
      }
    },
    {
      "cell_type": "code",
      "source": [
        "# Run this cell to show the source code of the script.\n",
        "\n",
        "!cat appy_s02_00_09.py"
      ],
      "metadata": {
        "id": "FFxvEQ5MMoKz"
      },
      "execution_count": null,
      "outputs": []
    },
    {
      "cell_type": "code",
      "source": [
        "# Run this cell to execute the script.\n",
        "\n",
        "!python3.12 appy_s02_00_09.py"
      ],
      "metadata": {
        "id": "3PWwFhUIMoK2"
      },
      "execution_count": null,
      "outputs": []
    },
    {
      "cell_type": "markdown",
      "source": [
        "# 3. Using \"sys\" module"
      ],
      "metadata": {
        "id": "9FvIET2LM0Pe"
      }
    },
    {
      "cell_type": "markdown",
      "source": [
        "## 3.1 Getting the version of Python interpreter"
      ],
      "metadata": {
        "id": "I2Y2GaHSM3UC"
      }
    },
    {
      "cell_type": "code",
      "source": [
        "# Run this cell to show the source code of the script.\n",
        "\n",
        "!cat appy_s02_01_00.py"
      ],
      "metadata": {
        "id": "w2MvcNpJM3UG"
      },
      "execution_count": null,
      "outputs": []
    },
    {
      "cell_type": "code",
      "source": [
        "# Run this cell to execute the script.\n",
        "\n",
        "!python3.12 appy_s02_01_00.py"
      ],
      "metadata": {
        "id": "-uJmJrL6M3UI"
      },
      "execution_count": null,
      "outputs": []
    },
    {
      "cell_type": "markdown",
      "source": [
        "## 3.2 Stopping Python interpreter"
      ],
      "metadata": {
        "id": "kDuQ88r9NJS6"
      }
    },
    {
      "cell_type": "code",
      "source": [
        "# Run this cell to show the source code of the script.\n",
        "\n",
        "!cat appy_s02_01_01.py"
      ],
      "metadata": {
        "id": "RC0rgfryNJS_"
      },
      "execution_count": null,
      "outputs": []
    },
    {
      "cell_type": "code",
      "source": [
        "# Run this cell to execute the script.\n",
        "\n",
        "!python3.12 appy_s02_01_01.py"
      ],
      "metadata": {
        "id": "On2becTpNJTC"
      },
      "execution_count": null,
      "outputs": []
    },
    {
      "cell_type": "markdown",
      "source": [
        "## 3.3 Obtaining command-line arguments"
      ],
      "metadata": {
        "id": "bA_UPJHYNoi5"
      }
    },
    {
      "cell_type": "code",
      "source": [
        "# Run this cell to show the source code of the script.\n",
        "\n",
        "!cat appy_s02_01_02.py"
      ],
      "metadata": {
        "id": "4AQFy9nrNojF"
      },
      "execution_count": null,
      "outputs": []
    },
    {
      "cell_type": "code",
      "source": [
        "# Run this cell to execute the script.\n",
        "\n",
        "!python3.12 appy_s02_01_02.py 1 2 3"
      ],
      "metadata": {
        "id": "uVjG3ilYNojH"
      },
      "execution_count": null,
      "outputs": []
    },
    {
      "cell_type": "code",
      "source": [
        "# Run this cell to execute the script.\n",
        "\n",
        "!python3.12 appy_s02_01_02.py 1.23 4.56"
      ],
      "metadata": {
        "id": "Jw9gIV5eNvjt"
      },
      "execution_count": null,
      "outputs": []
    },
    {
      "cell_type": "code",
      "source": [
        "# Run this cell to execute the script.\n",
        "\n",
        "!python3.12 appy_s02_01_02.py abc xyz"
      ],
      "metadata": {
        "id": "bkqbP77zNy1q"
      },
      "execution_count": null,
      "outputs": []
    },
    {
      "cell_type": "markdown",
      "source": [
        "# 4. Using \"argparse\" module"
      ],
      "metadata": {
        "id": "NC5632HPODbv"
      }
    },
    {
      "cell_type": "markdown",
      "source": [
        "## 4.1 A simple example of using positional arguments"
      ],
      "metadata": {
        "id": "S41qThNjOH-C"
      }
    },
    {
      "cell_type": "code",
      "source": [
        "# Run this cell to show the source code of the script.\n",
        "\n",
        "!cat appy_s02_02_00.py"
      ],
      "metadata": {
        "id": "qYA5n0KkOH-G"
      },
      "execution_count": null,
      "outputs": []
    },
    {
      "cell_type": "code",
      "source": [
        "# Run this cell to execute the script.\n",
        "\n",
        "!python3.12 appy_s02_02_00.py -h"
      ],
      "metadata": {
        "id": "RygOTE6wOH-I"
      },
      "execution_count": null,
      "outputs": []
    },
    {
      "cell_type": "code",
      "source": [
        "# Run this cell to execute the script.\n",
        "\n",
        "!python3.12 appy_s02_02_00.py 2 3"
      ],
      "metadata": {
        "id": "cD92sgobOSO7"
      },
      "execution_count": null,
      "outputs": []
    },
    {
      "cell_type": "code",
      "source": [
        "# Run this cell to execute the script.\n",
        "\n",
        "!python3.12 appy_s02_02_00.py 123 456"
      ],
      "metadata": {
        "id": "8OEHS4n4OVEC"
      },
      "execution_count": null,
      "outputs": []
    },
    {
      "cell_type": "markdown",
      "source": [
        "## 4.2 A simple example of using optional arguments"
      ],
      "metadata": {
        "id": "isTd0PMBOqnt"
      }
    },
    {
      "cell_type": "code",
      "source": [
        "# Run this cell to show the source code of the script.\n",
        "\n",
        "!cat appy_s02_02_01.py"
      ],
      "metadata": {
        "id": "Xoc_MlbfOqn6"
      },
      "execution_count": null,
      "outputs": []
    },
    {
      "cell_type": "code",
      "source": [
        "# Run this cell to execute the script.\n",
        "\n",
        "!python3.12 appy_s02_02_01.py -h"
      ],
      "metadata": {
        "id": "kgxAa_k2Oqn8"
      },
      "execution_count": null,
      "outputs": []
    },
    {
      "cell_type": "code",
      "source": [
        "# Run this cell to execute the script.\n",
        "\n",
        "!python3.12 appy_s02_02_01.py -f sin 30"
      ],
      "metadata": {
        "id": "8k46m7u3OqoC"
      },
      "execution_count": null,
      "outputs": []
    },
    {
      "cell_type": "code",
      "source": [
        "# Run this cell to execute the script.\n",
        "\n",
        "!python3.12 appy_s02_02_01.py -f cos 90"
      ],
      "metadata": {
        "id": "teWjDmhvO2gc"
      },
      "execution_count": null,
      "outputs": []
    },
    {
      "cell_type": "code",
      "source": [
        "# Run this cell to execute the script.\n",
        "\n",
        "!python3.12 appy_s02_02_01.py -f tan 45"
      ],
      "metadata": {
        "id": "sf63-UCpO2ow"
      },
      "execution_count": null,
      "outputs": []
    },
    {
      "cell_type": "markdown",
      "source": [
        "## 4.3 Making a calculator"
      ],
      "metadata": {
        "id": "qZNBZVk9PFob"
      }
    },
    {
      "cell_type": "code",
      "source": [
        "# Run this cell to show the source code of the script.\n",
        "\n",
        "!cat appy_s02_02_02.py"
      ],
      "metadata": {
        "id": "jqpH6bLgPFoe"
      },
      "execution_count": null,
      "outputs": []
    },
    {
      "cell_type": "code",
      "source": [
        "# Run this cell to execute the script.\n",
        "\n",
        "!python3.12 appy_s02_02_02.py -h"
      ],
      "metadata": {
        "id": "qJuzFgsGPFog"
      },
      "execution_count": null,
      "outputs": []
    },
    {
      "cell_type": "code",
      "source": [
        "# Run this cell to execute the script.\n",
        "\n",
        "!python3.12 appy_s02_02_02.py 3 + 4"
      ],
      "metadata": {
        "id": "y5yma-6GPLfz"
      },
      "execution_count": null,
      "outputs": []
    },
    {
      "cell_type": "code",
      "source": [
        "# Run this cell to execute the script.\n",
        "\n",
        "!python3.12 appy_s02_02_02.py 5 - 6"
      ],
      "metadata": {
        "id": "gOI6VjvzPOep"
      },
      "execution_count": null,
      "outputs": []
    },
    {
      "cell_type": "code",
      "source": [
        "# Run this cell to execute the script.\n",
        "\n",
        "!python3.12 appy_s02_02_02.py 7 x 8"
      ],
      "metadata": {
        "id": "r2Bh0FFuPOzS"
      },
      "execution_count": null,
      "outputs": []
    },
    {
      "cell_type": "code",
      "source": [
        "# Run this cell to execute the script.\n",
        "\n",
        "!python3.12 appy_s02_02_02.py 9 / 2"
      ],
      "metadata": {
        "id": "b9Vt3CgKPO7q"
      },
      "execution_count": null,
      "outputs": []
    },
    {
      "cell_type": "markdown",
      "source": [
        "# 5. Using \"urllib\" module"
      ],
      "metadata": {
        "id": "AqizFQhYPYyq"
      }
    },
    {
      "cell_type": "markdown",
      "source": [
        "## 5.1 Downloading a plain text file"
      ],
      "metadata": {
        "id": "a1bZf0xoPdck"
      }
    },
    {
      "cell_type": "code",
      "source": [
        "# Run this cell to show the source code of the script.\n",
        "\n",
        "!cat appy_s02_03_00.py"
      ],
      "metadata": {
        "id": "vRkCbqEWPdcx"
      },
      "execution_count": null,
      "outputs": []
    },
    {
      "cell_type": "code",
      "source": [
        "# Run this cell to execute the script.\n",
        "\n",
        "!python3.12 appy_s02_03_00.py"
      ],
      "metadata": {
        "id": "SQrA7VWwPdc1"
      },
      "execution_count": null,
      "outputs": []
    },
    {
      "cell_type": "code",
      "source": [
        "# Run this cell to find newly downloaded file.\n",
        "\n",
        "!ls -lF pi_1000.txt"
      ],
      "metadata": {
        "id": "_8IBtZVGKk-4"
      },
      "execution_count": null,
      "outputs": []
    },
    {
      "cell_type": "code",
      "source": [
        "# Run this cell to print the content of the file \"pi_1000.txt\".\n",
        "\n",
        "!cat pi_1000.txt"
      ],
      "metadata": {
        "id": "LlYEEztJP0aa"
      },
      "execution_count": null,
      "outputs": []
    },
    {
      "cell_type": "markdown",
      "source": [
        "## 5.2 Downloading a binary file"
      ],
      "metadata": {
        "id": "btn3vxFKQGUb"
      }
    },
    {
      "cell_type": "code",
      "source": [
        "# Run this cell to show the source code of the script.\n",
        "\n",
        "!cat appy_s02_03_01.py"
      ],
      "metadata": {
        "id": "l1FGOe3cQGUf"
      },
      "execution_count": null,
      "outputs": []
    },
    {
      "cell_type": "code",
      "source": [
        "# Run this cell to execute the script.\n",
        "\n",
        "!python3.12 appy_s02_03_01.py"
      ],
      "metadata": {
        "id": "bEuoe2GNQGUh"
      },
      "execution_count": null,
      "outputs": []
    },
    {
      "cell_type": "code",
      "source": [
        "# Run this cell to find newly downloaded file.\n",
        "\n",
        "!ls -lF ncu_map.png"
      ],
      "metadata": {
        "id": "tFi9fWndQUJb"
      },
      "execution_count": null,
      "outputs": []
    },
    {
      "cell_type": "code",
      "source": [
        "# Run this cell to display an image file.\n",
        "\n",
        "# importing IPython.display module\n",
        "import IPython.display\n",
        "\n",
        "# displaying an image file\n",
        "IPython.display.Image (\"ncu_map.png\")"
      ],
      "metadata": {
        "id": "oOauwWXtP7-s"
      },
      "execution_count": null,
      "outputs": []
    },
    {
      "cell_type": "markdown",
      "source": [
        "# 6. Using \"pathlib\" module"
      ],
      "metadata": {
        "id": "xz6txYtQUMWp"
      }
    },
    {
      "cell_type": "markdown",
      "source": [
        "## 6.1 Existence check of a file"
      ],
      "metadata": {
        "id": "2ocxBQ5QUMW2"
      }
    },
    {
      "cell_type": "code",
      "source": [
        "# Run this cell to show the source code of the script.\n",
        "\n",
        "!cat appy_s02_04_00.py"
      ],
      "metadata": {
        "id": "TCCxyjRrUMW4"
      },
      "execution_count": null,
      "outputs": []
    },
    {
      "cell_type": "code",
      "source": [
        "# Run this cell to execute the script.\n",
        "\n",
        "!python3.12 appy_s02_04_00.py"
      ],
      "metadata": {
        "id": "5aOUQy2JUMW8"
      },
      "execution_count": null,
      "outputs": []
    },
    {
      "cell_type": "markdown",
      "source": [
        "## 6.2 Parent, name, suffix, and stem of a file"
      ],
      "metadata": {
        "id": "U9mM_5yrUYuC"
      }
    },
    {
      "cell_type": "code",
      "source": [
        "# Run this cell to show the source code of the script.\n",
        "\n",
        "!cat appy_s02_04_01.py"
      ],
      "metadata": {
        "id": "tye-IeY6UYuF"
      },
      "execution_count": null,
      "outputs": []
    },
    {
      "cell_type": "code",
      "source": [
        "# Run this cell to execute the script.\n",
        "\n",
        "!python3.12 appy_s02_04_01.py"
      ],
      "metadata": {
        "id": "YpvZKmKAUYuJ"
      },
      "execution_count": null,
      "outputs": []
    },
    {
      "cell_type": "markdown",
      "source": [
        "## 6.3 Finding directory contents"
      ],
      "metadata": {
        "id": "ACk1DQqvUzpS"
      }
    },
    {
      "cell_type": "code",
      "source": [
        "# Run this cell to show the source code of the script.\n",
        "\n",
        "!cat appy_s02_04_02.py"
      ],
      "metadata": {
        "id": "ZUQAWdcCUzpf"
      },
      "execution_count": null,
      "outputs": []
    },
    {
      "cell_type": "code",
      "source": [
        "# Run this cell to execute the script.\n",
        "\n",
        "!python3.12 appy_s02_04_02.py"
      ],
      "metadata": {
        "id": "7axtogFqUzph"
      },
      "execution_count": null,
      "outputs": []
    },
    {
      "cell_type": "markdown",
      "source": [
        "## 6.4 File status information"
      ],
      "metadata": {
        "id": "-A_H_Q2fU9rZ"
      }
    },
    {
      "cell_type": "code",
      "source": [
        "# Run this cell to show the source code of the script.\n",
        "\n",
        "!cat appy_s02_04_03.py"
      ],
      "metadata": {
        "id": "NjtGGeLhU9re"
      },
      "execution_count": null,
      "outputs": []
    },
    {
      "cell_type": "code",
      "source": [
        "# Run this cell to execute the script.\n",
        "\n",
        "!python3.12 appy_s02_04_03.py"
      ],
      "metadata": {
        "id": "1AmEBS0SU9rf"
      },
      "execution_count": null,
      "outputs": []
    },
    {
      "cell_type": "markdown",
      "source": [
        "## 6.5 Opening and reading a file"
      ],
      "metadata": {
        "id": "2CziVEqTVVDP"
      }
    },
    {
      "cell_type": "code",
      "source": [
        "# Run this cell to show the source code of the script.\n",
        "\n",
        "!cat appy_s02_04_04.py"
      ],
      "metadata": {
        "id": "lPgAxZbCVVDZ"
      },
      "execution_count": null,
      "outputs": []
    },
    {
      "cell_type": "code",
      "source": [
        "# Run this cell to execute the script.\n",
        "\n",
        "!python3.12 appy_s02_04_04.py"
      ],
      "metadata": {
        "id": "EaVeddkxVVDd"
      },
      "execution_count": null,
      "outputs": []
    },
    {
      "cell_type": "markdown",
      "source": [
        "# 7. Using \"shutil\" module"
      ],
      "metadata": {
        "id": "E2NSAjfQVebn"
      }
    },
    {
      "cell_type": "markdown",
      "source": [
        "## 7.1 Copying a file"
      ],
      "metadata": {
        "id": "3Wh7t154Veby"
      }
    },
    {
      "cell_type": "code",
      "source": [
        "# Run this cell to show the source code of the script.\n",
        "\n",
        "!cat appy_s02_05_00.py"
      ],
      "metadata": {
        "id": "h_i701BrVeb0"
      },
      "execution_count": null,
      "outputs": []
    },
    {
      "cell_type": "code",
      "source": [
        "# Run this cell to execute the script.\n",
        "\n",
        "!python3.12 appy_s02_05_00.py"
      ],
      "metadata": {
        "id": "Gd8h54YsVeb2"
      },
      "execution_count": null,
      "outputs": []
    },
    {
      "cell_type": "markdown",
      "source": [
        "## 7.2 Finding location of an executable"
      ],
      "metadata": {
        "id": "dM4Czh8sV_Xx"
      }
    },
    {
      "cell_type": "code",
      "source": [
        "# Run this cell to show the source code of the script.\n",
        "\n",
        "!cat appy_s02_05_01.py"
      ],
      "metadata": {
        "id": "ULYj1R8ZV_X6"
      },
      "execution_count": null,
      "outputs": []
    },
    {
      "cell_type": "code",
      "source": [
        "# Run this cell to execute the script.\n",
        "\n",
        "!python3.12 appy_s02_05_01.py"
      ],
      "metadata": {
        "id": "KH2sjWD4V_X8"
      },
      "execution_count": null,
      "outputs": []
    },
    {
      "cell_type": "markdown",
      "source": [
        "# 8. Using \"subprocess\" module"
      ],
      "metadata": {
        "id": "qrQKANN-WOIF"
      }
    },
    {
      "cell_type": "markdown",
      "source": [
        "## 8.1 Executing a shell command"
      ],
      "metadata": {
        "id": "oDqBRu6bWOIH"
      }
    },
    {
      "cell_type": "code",
      "source": [
        "# Run this cell to show the source code of the script.\n",
        "\n",
        "!cat appy_s02_06_00.py"
      ],
      "metadata": {
        "id": "bPq0ngCPWOIK"
      },
      "execution_count": null,
      "outputs": []
    },
    {
      "cell_type": "code",
      "source": [
        "# Run this cell to execute the script.\n",
        "\n",
        "!python3.12 appy_s02_06_00.py"
      ],
      "metadata": {
        "id": "GxYJTRE5WOIN"
      },
      "execution_count": null,
      "outputs": []
    },
    {
      "cell_type": "markdown",
      "source": [
        "## 8.2 Executing a command and capturing the output"
      ],
      "metadata": {
        "id": "n1iJj_FfXa5O"
      }
    },
    {
      "cell_type": "code",
      "source": [
        "# Run this cell to show the source code of the script.\n",
        "\n",
        "!cat appy_s02_06_01.py"
      ],
      "metadata": {
        "id": "CljvG7E8Xa5V"
      },
      "execution_count": null,
      "outputs": []
    },
    {
      "cell_type": "code",
      "source": [
        "# Run this cell to execute the script.\n",
        "\n",
        "!python3.12 appy_s02_06_01.py"
      ],
      "metadata": {
        "id": "03MkFcw1Xa5W"
      },
      "execution_count": null,
      "outputs": []
    },
    {
      "cell_type": "markdown",
      "source": [
        "# 9. Using \"multiprocessing\" module"
      ],
      "metadata": {
        "id": "CYZ3DH1MXozp"
      }
    },
    {
      "cell_type": "markdown",
      "source": [
        "## 9.1 Finding prime numbers using one CPU core"
      ],
      "metadata": {
        "id": "0P2lxkGwXoz1"
      }
    },
    {
      "cell_type": "code",
      "source": [
        "# Run this cell to show the source code of the script.\n",
        "\n",
        "!cat appy_s02_07_00.py"
      ],
      "metadata": {
        "id": "jTNrd1l1Xoz2"
      },
      "execution_count": null,
      "outputs": []
    },
    {
      "cell_type": "code",
      "source": [
        "# Run this cell to execute the script.\n",
        "\n",
        "!time python3.12 appy_s02_07_00.py"
      ],
      "metadata": {
        "id": "S-mr1pDwXoz4"
      },
      "execution_count": null,
      "outputs": []
    },
    {
      "cell_type": "markdown",
      "source": [
        "## 9.2 Finding prime numbers using multiple CPU cores"
      ],
      "metadata": {
        "id": "lVzzw3NDYkqk"
      }
    },
    {
      "cell_type": "code",
      "source": [
        "# Run this cell to show the source code of the script.\n",
        "\n",
        "!cat appy_s02_07_01.py"
      ],
      "metadata": {
        "id": "weJHX1D3Ykqr"
      },
      "execution_count": null,
      "outputs": []
    },
    {
      "cell_type": "code",
      "source": [
        "# Run this cell to execute the script.\n",
        "\n",
        "!time python3.12 appy_s02_07_01.py"
      ],
      "metadata": {
        "id": "mZwNdsFvYkqs"
      },
      "execution_count": null,
      "outputs": []
    },
    {
      "cell_type": "markdown",
      "source": [
        "# 10. Using \"datetime\" module"
      ],
      "metadata": {
        "id": "dsZXGQXTZGBE"
      }
    },
    {
      "cell_type": "markdown",
      "source": [
        "## 10.1 Knowing current local time"
      ],
      "metadata": {
        "id": "LDG9Hyu8ZGBK"
      }
    },
    {
      "cell_type": "code",
      "source": [
        "# Run this cell to show the source code of the script.\n",
        "\n",
        "!cat appy_s02_08_00.py"
      ],
      "metadata": {
        "id": "f3SUmuXtZGBL"
      },
      "execution_count": null,
      "outputs": []
    },
    {
      "cell_type": "code",
      "source": [
        "# Run this cell to execute the script.\n",
        "\n",
        "!python3.12 appy_s02_08_00.py"
      ],
      "metadata": {
        "id": "W6k1pZAAZGBM"
      },
      "execution_count": null,
      "outputs": []
    },
    {
      "cell_type": "code",
      "source": [
        "# Run this cell to show the source code of the script.\n",
        "\n",
        "!cat appy_s02_08_01.py"
      ],
      "metadata": {
        "id": "cNOoObj7ZUv2"
      },
      "execution_count": null,
      "outputs": []
    },
    {
      "cell_type": "code",
      "source": [
        "# Run this cell to execute the script.\n",
        "\n",
        "!python3.12 appy_s02_08_01.py"
      ],
      "metadata": {
        "id": "FAYbcr_WZUv4"
      },
      "execution_count": null,
      "outputs": []
    },
    {
      "cell_type": "markdown",
      "source": [
        "## 10.2 Knowing current time in UTC"
      ],
      "metadata": {
        "id": "2Iczet5BZYt_"
      }
    },
    {
      "cell_type": "code",
      "source": [
        "# Run this cell to show the source code of the script.\n",
        "\n",
        "!cat appy_s02_08_02.py"
      ],
      "metadata": {
        "id": "mvjiy3LHZYuC"
      },
      "execution_count": null,
      "outputs": []
    },
    {
      "cell_type": "code",
      "source": [
        "# Run this cell to execute the script.\n",
        "\n",
        "!python3.12 appy_s02_08_02.py"
      ],
      "metadata": {
        "id": "p4BR_PZlZYuF"
      },
      "execution_count": null,
      "outputs": []
    },
    {
      "cell_type": "code",
      "source": [
        "# Run this cell to show the source code of the script.\n",
        "\n",
        "!cat appy_s02_08_03.py"
      ],
      "metadata": {
        "id": "LGZctPjiZiQg"
      },
      "execution_count": null,
      "outputs": []
    },
    {
      "cell_type": "code",
      "source": [
        "# Run this cell to execute the script.\n",
        "\n",
        "!python3.12 appy_s02_08_03.py"
      ],
      "metadata": {
        "id": "pyGECnDwZiQv"
      },
      "execution_count": null,
      "outputs": []
    },
    {
      "cell_type": "markdown",
      "source": [
        "# 11. Using \"re\" module"
      ],
      "metadata": {
        "id": "DJR76oJ4Zqo_"
      }
    },
    {
      "cell_type": "markdown",
      "source": [
        "## 11.1 Downloading Bright Star Catalogue"
      ],
      "metadata": {
        "id": "phfMtZWDZqpD"
      }
    },
    {
      "cell_type": "code",
      "source": [
        "# Run this cell to show the source code of the script.\n",
        "\n",
        "!cat appy_s02_09_00.py"
      ],
      "metadata": {
        "id": "duyKykjCZqpE"
      },
      "execution_count": null,
      "outputs": []
    },
    {
      "cell_type": "code",
      "source": [
        "# Run this cell to execute the script.\n",
        "\n",
        "!python3.12 appy_s02_09_00.py"
      ],
      "metadata": {
        "id": "Pv_UOo17ZqpF"
      },
      "execution_count": null,
      "outputs": []
    },
    {
      "cell_type": "code",
      "source": [
        "# Run this cell to find newly downloaded file.\n",
        "\n",
        "!ls -lF catalog.gz"
      ],
      "metadata": {
        "id": "kkk0VuZeQzNb"
      },
      "execution_count": null,
      "outputs": []
    },
    {
      "cell_type": "markdown",
      "source": [
        "## 11.2 Existence check of downloaded file"
      ],
      "metadata": {
        "id": "ckD_TsaiZ6s3"
      }
    },
    {
      "cell_type": "code",
      "source": [
        "# Run this cell to show the source code of the script.\n",
        "\n",
        "!cat appy_s02_09_01.py"
      ],
      "metadata": {
        "id": "iglYIdbUZ6s5"
      },
      "execution_count": null,
      "outputs": []
    },
    {
      "cell_type": "code",
      "source": [
        "# Run this cell to execute the script.\n",
        "\n",
        "!python3.12 appy_s02_09_01.py"
      ],
      "metadata": {
        "id": "xUQrwcl0Z6s7"
      },
      "execution_count": null,
      "outputs": []
    },
    {
      "cell_type": "markdown",
      "source": [
        "## 11.3 Reading a compressed file"
      ],
      "metadata": {
        "id": "WFUfUKUKaBg3"
      }
    },
    {
      "cell_type": "code",
      "source": [
        "# Run this cell to show the source code of the script.\n",
        "\n",
        "!cat appy_s02_09_02.py"
      ],
      "metadata": {
        "id": "IugCeNbPaBg7"
      },
      "execution_count": null,
      "outputs": []
    },
    {
      "cell_type": "code",
      "source": [
        "# Run this cell to execute the script.\n",
        "\n",
        "!python3.12 appy_s02_09_02.py"
      ],
      "metadata": {
        "id": "voM_xslcaBg-"
      },
      "execution_count": null,
      "outputs": []
    },
    {
      "cell_type": "code",
      "source": [
        "# Run this cell to find de-compressed file.\n",
        "\n",
        "!ls -lF catalog.gz bsc.data"
      ],
      "metadata": {
        "id": "pcNym0spZ2ur"
      },
      "execution_count": null,
      "outputs": []
    },
    {
      "cell_type": "markdown",
      "source": [
        "## 11.4 Pattern matching using regular expression"
      ],
      "metadata": {
        "id": "eluDt3LcaXLy"
      }
    },
    {
      "cell_type": "code",
      "source": [
        "# Run this cell to show the source code of the script.\n",
        "\n",
        "!cat appy_s02_09_03.py"
      ],
      "metadata": {
        "id": "lpqUSKMlaXL1"
      },
      "execution_count": null,
      "outputs": []
    },
    {
      "cell_type": "code",
      "source": [
        "# Run this cell to execute the script.\n",
        "\n",
        "!python3.12 appy_s02_09_03.py"
      ],
      "metadata": {
        "id": "T2jyD2S2aXL4"
      },
      "execution_count": null,
      "outputs": []
    },
    {
      "cell_type": "markdown",
      "source": [
        "## 11.5 Finding O-type main-sequence stars"
      ],
      "metadata": {
        "id": "xkKsJRGfafnn"
      }
    },
    {
      "cell_type": "code",
      "source": [
        "# Run this cell to show the source code of the script.\n",
        "\n",
        "!cat appy_s02_09_04.py"
      ],
      "metadata": {
        "id": "4hrRdN2Lafnu"
      },
      "execution_count": null,
      "outputs": []
    },
    {
      "cell_type": "code",
      "source": [
        "# Run this cell to execute the script.\n",
        "\n",
        "!python3.12 appy_s02_09_04.py"
      ],
      "metadata": {
        "id": "tEGVOYpIafnw"
      },
      "execution_count": null,
      "outputs": []
    },
    {
      "cell_type": "markdown",
      "source": [
        "## 11.6 Finding M-type supergiants"
      ],
      "metadata": {
        "id": "XFBS4r8danTH"
      }
    },
    {
      "cell_type": "code",
      "source": [
        "# Run this cell to show the source code of the script.\n",
        "\n",
        "!cat appy_s02_09_05.py"
      ],
      "metadata": {
        "id": "gVYIxauzanTM"
      },
      "execution_count": null,
      "outputs": []
    },
    {
      "cell_type": "code",
      "source": [
        "# Run this cell to execute the script.\n",
        "\n",
        "!python3.12 appy_s02_09_05.py"
      ],
      "metadata": {
        "id": "WfBRgH8danTN"
      },
      "execution_count": null,
      "outputs": []
    },
    {
      "cell_type": "markdown",
      "source": [
        "## 11.7 Finding very bright main-sequence stars"
      ],
      "metadata": {
        "id": "hCCyHnHiavJU"
      }
    },
    {
      "cell_type": "code",
      "source": [
        "# Run this cell to show the source code of the script.\n",
        "\n",
        "!cat appy_s02_09_06.py"
      ],
      "metadata": {
        "id": "gpN_CnbVavJg"
      },
      "execution_count": null,
      "outputs": []
    },
    {
      "cell_type": "code",
      "source": [
        "# Run this cell to execute the script.\n",
        "\n",
        "!python3.12 appy_s02_09_06.py"
      ],
      "metadata": {
        "id": "WOQU-f1PavJk"
      },
      "execution_count": null,
      "outputs": []
    },
    {
      "cell_type": "markdown",
      "source": [
        "# 12. Using \"math\" module"
      ],
      "metadata": {
        "id": "Jbs86hszbNvk"
      }
    },
    {
      "cell_type": "markdown",
      "source": [
        "## 12.1 Constants"
      ],
      "metadata": {
        "id": "3f98jt5bbNvs"
      }
    },
    {
      "cell_type": "code",
      "source": [
        "# Run this cell to show the source code of the script.\n",
        "\n",
        "!cat appy_s02_10_00.py"
      ],
      "metadata": {
        "id": "YW_B2OGcbNvt"
      },
      "execution_count": null,
      "outputs": []
    },
    {
      "cell_type": "code",
      "source": [
        "# Run this cell to execute the script.\n",
        "\n",
        "!python3.12 appy_s02_10_00.py"
      ],
      "metadata": {
        "id": "vUSKzjGRbNvv"
      },
      "execution_count": null,
      "outputs": []
    },
    {
      "cell_type": "markdown",
      "source": [
        "## 12.2 Useful functions"
      ],
      "metadata": {
        "id": "fjEAP5OnbXn9"
      }
    },
    {
      "cell_type": "code",
      "source": [
        "# Run this cell to show the source code of the script.\n",
        "\n",
        "!cat appy_s02_10_01.py"
      ],
      "metadata": {
        "id": "AN7BKX7hbXoA"
      },
      "execution_count": null,
      "outputs": []
    },
    {
      "cell_type": "code",
      "source": [
        "# Run this cell to execute the script.\n",
        "\n",
        "!python3.12 appy_s02_10_01.py"
      ],
      "metadata": {
        "id": "xmRQiI4rbXoB"
      },
      "execution_count": null,
      "outputs": []
    },
    {
      "cell_type": "markdown",
      "source": [
        "## 12.3 Mathematical functions"
      ],
      "metadata": {
        "id": "w0M78CYHbftg"
      }
    },
    {
      "cell_type": "code",
      "source": [
        "# Run this cell to show the source code of the script.\n",
        "\n",
        "!cat appy_s02_10_02.py"
      ],
      "metadata": {
        "id": "AK4gorLwbfto"
      },
      "execution_count": null,
      "outputs": []
    },
    {
      "cell_type": "code",
      "source": [
        "# Run this cell to execute the script.\n",
        "\n",
        "!python3.12 appy_s02_10_02.py"
      ],
      "metadata": {
        "id": "I1JJYLEnbfts"
      },
      "execution_count": null,
      "outputs": []
    },
    {
      "cell_type": "markdown",
      "source": [
        "# 13. Using \"random\" module"
      ],
      "metadata": {
        "id": "6IsAtIAJbsMK"
      }
    },
    {
      "cell_type": "markdown",
      "source": [
        "## 13.1 Random numbers of uniform distribution between 0 and 1"
      ],
      "metadata": {
        "id": "Fh8u-uaGbsMO"
      }
    },
    {
      "cell_type": "code",
      "source": [
        "# Run this cell to show the source code of the script.\n",
        "\n",
        "!cat appy_s02_11_00.py"
      ],
      "metadata": {
        "id": "BEN1EG1bbsMQ"
      },
      "execution_count": null,
      "outputs": []
    },
    {
      "cell_type": "code",
      "source": [
        "# Run this cell to execute the script.\n",
        "\n",
        "!python3.12 appy_s02_11_00.py"
      ],
      "metadata": {
        "id": "RZIIoajXbsMT"
      },
      "execution_count": null,
      "outputs": []
    },
    {
      "cell_type": "markdown",
      "source": [
        "## 13.2 Random numbers of uniform distribution between 100 and 200"
      ],
      "metadata": {
        "id": "2ht9BLCMb3V-"
      }
    },
    {
      "cell_type": "code",
      "source": [
        "# Run this cell to show the source code of the script.\n",
        "\n",
        "!cat appy_s02_11_01.py"
      ],
      "metadata": {
        "id": "D9Yyv6O8b3WC"
      },
      "execution_count": null,
      "outputs": []
    },
    {
      "cell_type": "code",
      "source": [
        "# Run this cell to execute the script.\n",
        "\n",
        "!python3.12 appy_s02_11_01.py"
      ],
      "metadata": {
        "id": "FhIGmGHMb3WG"
      },
      "execution_count": null,
      "outputs": []
    },
    {
      "cell_type": "markdown",
      "source": [
        "## 13.3 Random numbers of Gaussian distribution"
      ],
      "metadata": {
        "id": "nd61oStib-bt"
      }
    },
    {
      "cell_type": "code",
      "source": [
        "# Run this cell to show the source code of the script.\n",
        "\n",
        "!cat appy_s02_11_02.py"
      ],
      "metadata": {
        "id": "hkp8gMvTb-b0"
      },
      "execution_count": null,
      "outputs": []
    },
    {
      "cell_type": "code",
      "source": [
        "# Run this cell to execute the script.\n",
        "\n",
        "!python3.12 appy_s02_11_02.py"
      ],
      "metadata": {
        "id": "Qyc4tfvJb-b2"
      },
      "execution_count": null,
      "outputs": []
    },
    {
      "cell_type": "markdown",
      "source": [
        "# 14. Using \"statistics\" module"
      ],
      "metadata": {
        "id": "A5F28ZGGcJeZ"
      }
    },
    {
      "cell_type": "markdown",
      "source": [
        "## 14.1 Calculations of statistical values"
      ],
      "metadata": {
        "id": "ozavYmricJef"
      }
    },
    {
      "cell_type": "code",
      "source": [
        "# Run this cell to show the source code of the script.\n",
        "\n",
        "!cat appy_s02_12_00.py"
      ],
      "metadata": {
        "id": "3_ouUzzjcJeh"
      },
      "execution_count": null,
      "outputs": []
    },
    {
      "cell_type": "code",
      "source": [
        "# Run this cell to execute the script.\n",
        "\n",
        "!python3.12 appy_s02_12_00.py"
      ],
      "metadata": {
        "id": "Itzf0w4tcJei"
      },
      "execution_count": null,
      "outputs": []
    },
    {
      "cell_type": "markdown",
      "source": [
        "## 14.2 Generating random numbers and calculating statistical values"
      ],
      "metadata": {
        "id": "NqSGRNFxK8Qf"
      }
    },
    {
      "cell_type": "code",
      "source": [
        "# Run this cell to show the source code of the script.\n",
        "\n",
        "!cat appy_s02_12_01.py"
      ],
      "metadata": {
        "id": "lCoyjHDhK8Qk"
      },
      "execution_count": null,
      "outputs": []
    },
    {
      "cell_type": "code",
      "source": [
        "# Run this cell to execute the script.\n",
        "\n",
        "!python3.12 appy_s02_12_01.py"
      ],
      "metadata": {
        "id": "I8h8ko4QK8Ql"
      },
      "execution_count": null,
      "outputs": []
    },
    {
      "cell_type": "code",
      "source": [
        "# Run this cell to show the source code of the script.\n",
        "\n",
        "!cat appy_s02_12_02.py"
      ],
      "metadata": {
        "id": "R1InyTVrLI6y"
      },
      "execution_count": null,
      "outputs": []
    },
    {
      "cell_type": "code",
      "source": [
        "# Run this cell to execute the script.\n",
        "\n",
        "!python3.12 appy_s02_12_02.py"
      ],
      "metadata": {
        "id": "KstyxdOOLI6z"
      },
      "execution_count": null,
      "outputs": []
    },
    {
      "cell_type": "markdown",
      "source": [
        "# 15. Using \"decimal\" module"
      ],
      "metadata": {
        "id": "Cx_gwnDOLRoa"
      }
    },
    {
      "cell_type": "markdown",
      "source": [
        "## 15.1 Arithmetic calculations"
      ],
      "metadata": {
        "id": "I77wUUT4LRob"
      }
    },
    {
      "cell_type": "code",
      "source": [
        "# Run this cell to show the source code of the script.\n",
        "\n",
        "!cat appy_s02_13_00.py"
      ],
      "metadata": {
        "id": "WgixuydLLRob"
      },
      "execution_count": null,
      "outputs": []
    },
    {
      "cell_type": "code",
      "source": [
        "# Run this cell to execute the script.\n",
        "\n",
        "!python3.12 appy_s02_13_00.py"
      ],
      "metadata": {
        "id": "MbIkVgnGLRoc"
      },
      "execution_count": null,
      "outputs": []
    },
    {
      "cell_type": "code",
      "source": [
        "# Run this cell to show the source code of the script.\n",
        "\n",
        "!cat appy_s02_13_01.py"
      ],
      "metadata": {
        "id": "TumyP1-xLbt9"
      },
      "execution_count": null,
      "outputs": []
    },
    {
      "cell_type": "code",
      "source": [
        "# Run this cell to execute the script.\n",
        "\n",
        "!python3.12 appy_s02_13_01.py"
      ],
      "metadata": {
        "id": "FW8lt2UDLbt9"
      },
      "execution_count": null,
      "outputs": []
    },
    {
      "cell_type": "markdown",
      "source": [
        "## 15.2 Square-root and logarithmic calculation"
      ],
      "metadata": {
        "id": "g8JKtE0MLhDn"
      }
    },
    {
      "cell_type": "code",
      "source": [
        "# Run this cell to show the source code of the script.\n",
        "\n",
        "!cat appy_s02_13_02.py"
      ],
      "metadata": {
        "id": "Cp1pRJRtLhDn"
      },
      "execution_count": null,
      "outputs": []
    },
    {
      "cell_type": "code",
      "source": [
        "# Run this cell to execute the script.\n",
        "\n",
        "!python3.12 appy_s02_13_02.py"
      ],
      "metadata": {
        "id": "IxFupwCtLhDp"
      },
      "execution_count": null,
      "outputs": []
    },
    {
      "cell_type": "markdown",
      "source": [
        "## 15.3 Value of pi"
      ],
      "metadata": {
        "id": "cgdhX_-7LofZ"
      }
    },
    {
      "cell_type": "code",
      "source": [
        "# Run this cell to show the source code of the script.\n",
        "\n",
        "!cat appy_s02_13_03.py"
      ],
      "metadata": {
        "id": "PWtGSf5wLofZ"
      },
      "execution_count": null,
      "outputs": []
    },
    {
      "cell_type": "code",
      "source": [
        "# Run this cell to execute the script.\n",
        "\n",
        "!python3.12 appy_s02_13_03.py"
      ],
      "metadata": {
        "id": "9Bc0-DzILofZ"
      },
      "execution_count": null,
      "outputs": []
    },
    {
      "cell_type": "code",
      "source": [
        "# Run this cell to show the source code of the script.\n",
        "\n",
        "!cat appy_s02_13_04.py"
      ],
      "metadata": {
        "id": "sg9i90dsLzQQ"
      },
      "execution_count": null,
      "outputs": []
    },
    {
      "cell_type": "code",
      "source": [
        "# Run this cell to execute the script.\n",
        "\n",
        "!python3.12 appy_s02_13_04.py"
      ],
      "metadata": {
        "id": "AhK-FT_qLzQR"
      },
      "execution_count": null,
      "outputs": []
    },
    {
      "cell_type": "markdown",
      "source": [
        "# 16. Using \"uncertainties\" module"
      ],
      "metadata": {
        "id": "GHO6AnFnL83C"
      }
    },
    {
      "cell_type": "markdown",
      "source": [
        "## 16.1 Installation of \"uncertainties\" module"
      ],
      "metadata": {
        "id": "Vbx0T3RuL83E"
      }
    },
    {
      "cell_type": "code",
      "source": [
        "# Run this cell to install \"uncertainties\" module.\n",
        "\n",
        "!pip install uncertainties"
      ],
      "metadata": {
        "id": "SNliX0vDMHgi"
      },
      "execution_count": null,
      "outputs": []
    },
    {
      "cell_type": "markdown",
      "source": [
        "## 16.2 Using \"uncertainties\" module"
      ],
      "metadata": {
        "id": "MIxDq8PKMRhj"
      }
    },
    {
      "cell_type": "code",
      "source": [
        "# Run this cell to show the source code of the script.\n",
        "\n",
        "!cat appy_s02_14_00.py"
      ],
      "metadata": {
        "id": "48tlwyJ5L83F"
      },
      "execution_count": null,
      "outputs": []
    },
    {
      "cell_type": "code",
      "source": [
        "# Run this cell to execute the script.\n",
        "\n",
        "!python3.12 appy_s02_14_00.py"
      ],
      "metadata": {
        "id": "1pHEzs6tL83F"
      },
      "execution_count": null,
      "outputs": []
    },
    {
      "cell_type": "code",
      "source": [
        "# Run this cell to show the source code of the script.\n",
        "\n",
        "!cat appy_s02_14_01.py"
      ],
      "metadata": {
        "id": "lpa-4v2iMavg"
      },
      "execution_count": null,
      "outputs": []
    },
    {
      "cell_type": "code",
      "source": [
        "# Run this cell to execute the script.\n",
        "\n",
        "!python3.12 appy_s02_14_01.py"
      ],
      "metadata": {
        "id": "9SQIrr9YMavh"
      },
      "execution_count": null,
      "outputs": []
    },
    {
      "cell_type": "markdown",
      "source": [
        "# 17. Using \"pint\" module"
      ],
      "metadata": {
        "id": "a2v18bfxMequ"
      }
    },
    {
      "cell_type": "markdown",
      "source": [
        "## 17.1 Installation of \"pint\" module"
      ],
      "metadata": {
        "id": "ydjx1yUzMg7f"
      }
    },
    {
      "cell_type": "code",
      "source": [
        "# Run this cell to install \"pint\" module.\n",
        "\n",
        "!pip install pint"
      ],
      "metadata": {
        "id": "gO50bU7TaSE_"
      },
      "execution_count": null,
      "outputs": []
    },
    {
      "cell_type": "markdown",
      "source": [
        "## 17.2 Angles"
      ],
      "metadata": {
        "id": "eOxIZ5TMMpit"
      }
    },
    {
      "cell_type": "code",
      "source": [
        "# Run this cell to show the source code of the script.\n",
        "\n",
        "!cat appy_s02_15_00.py"
      ],
      "metadata": {
        "id": "g0Wb3pFPMuUu"
      },
      "execution_count": null,
      "outputs": []
    },
    {
      "cell_type": "code",
      "source": [
        "# Run this cell to execute the script.\n",
        "\n",
        "!python3.12 appy_s02_15_00.py"
      ],
      "metadata": {
        "id": "18oplF0AMuUv"
      },
      "execution_count": null,
      "outputs": []
    },
    {
      "cell_type": "markdown",
      "source": [
        "## 17.3 Distance"
      ],
      "metadata": {
        "id": "5OF7hGdkMyJA"
      }
    },
    {
      "cell_type": "code",
      "source": [
        "# Run this cell to show the source code of the script.\n",
        "\n",
        "!cat appy_s02_15_01.py"
      ],
      "metadata": {
        "id": "60vNiyWZMyJE"
      },
      "execution_count": null,
      "outputs": []
    },
    {
      "cell_type": "code",
      "source": [
        "# Run this cell to execute the script.\n",
        "\n",
        "!python3.12 appy_s02_15_01.py"
      ],
      "metadata": {
        "id": "pDD8sZe3MyJE"
      },
      "execution_count": null,
      "outputs": []
    },
    {
      "cell_type": "markdown",
      "source": [
        "## 17.4 Velocity"
      ],
      "metadata": {
        "id": "CbE6RoWfM4gX"
      }
    },
    {
      "cell_type": "code",
      "source": [
        "# Run this cell to show the source code of the script.\n",
        "\n",
        "!cat appy_s02_15_02.py"
      ],
      "metadata": {
        "id": "ZTAbUhETM4gX"
      },
      "execution_count": null,
      "outputs": []
    },
    {
      "cell_type": "code",
      "source": [
        "# Run this cell to execute the script.\n",
        "\n",
        "!python3.12 appy_s02_15_02.py"
      ],
      "metadata": {
        "id": "tc3d8y49M4gY"
      },
      "execution_count": null,
      "outputs": []
    },
    {
      "cell_type": "markdown",
      "source": [
        "# End of this notebook"
      ],
      "metadata": {
        "id": "5__Ibk2LM-AC"
      }
    },
    {
      "cell_type": "code",
      "source": [],
      "metadata": {
        "id": "6-yqbCVeMmaG"
      },
      "execution_count": null,
      "outputs": []
    }
  ]
}