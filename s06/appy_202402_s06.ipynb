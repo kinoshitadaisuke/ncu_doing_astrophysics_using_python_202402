{
  "nbformat": 4,
  "nbformat_minor": 0,
  "metadata": {
    "colab": {
      "provenance": []
    },
    "kernelspec": {
      "name": "python3",
      "display_name": "Python 3"
    },
    "language_info": {
      "name": "python"
    }
  },
  "cells": [
    {
      "cell_type": "markdown",
      "source": [
        "# Doing Astrophysics using Python\n",
        "\n",
        "- \"Doing Astrophysics using Python\"\n",
        "  - Instructor: Kinoshita Daisuke\n",
        "  - Classroom: S4-202\n",
        "  - Time: from 18:00 to 20:50 on Tuesday\n",
        "  - Semester: 2nd semester of academic year 2023\n",
        "    - from February 2024 to June 2024\n",
        "  - Course web page: https://s3b.astro.ncu.edu.tw/appy_202402/\n",
        "  - GitHub repository: https://github.com/kinoshitadaisuke/ncu_doing_astrophysics_using_python_202402\n"
      ],
      "metadata": {
        "id": "gGzI83b9PmnI"
      }
    },
    {
      "cell_type": "markdown",
      "source": [
        "# Session 06: \"Building and querying relational database using Python\"\n",
        "\n",
        "## 26 March 2024\n",
        "\n",
        "## Instructor: Kinoshita Daisuke"
      ],
      "metadata": {
        "id": "Q7MvlbrC_tne"
      }
    },
    {
      "cell_type": "markdown",
      "source": [
        "# 0. Installation of Python interpreter"
      ],
      "metadata": {
        "id": "T_y7rto6Q5P8"
      }
    },
    {
      "cell_type": "code",
      "source": [
        "# Run this cell to install Python 3.12\n",
        "\n",
        "!apt update\n",
        "!apt upgrade\n",
        "!apt install python3.12 python3.12-dev python3.12-distutils libpython3.12-dev\n",
        "!update-alternatives --install /usr/bin/python3 python3 /usr/bin/python3.12 1\n",
        "!wget https://bootstrap.pypa.io/get-pip.py\n",
        "!python3.12 get-pip.py"
      ],
      "metadata": {
        "id": "MzmVLkC8QyGZ"
      },
      "execution_count": null,
      "outputs": []
    },
    {
      "cell_type": "code",
      "source": [
        "# Run this cell to check the version of Python interpreter and pip command\n",
        "\n",
        "!python --version\n",
        "!pip --version"
      ],
      "metadata": {
        "id": "Vx-JYTyp3NMU"
      },
      "execution_count": null,
      "outputs": []
    },
    {
      "cell_type": "markdown",
      "source": [
        "# 1. Downloading a set of sample Python scripts for this course"
      ],
      "metadata": {
        "id": "zvKZRFoF8A8k"
      }
    },
    {
      "cell_type": "code",
      "source": [
        "# Run this cell to download a set of sample Python scripts for this course.\n",
        "\n",
        "!git clone https://github.com/kinoshitadaisuke/ncu_doing_astrophysics_using_python_202402.git"
      ],
      "metadata": {
        "id": "itsUqwak4-z4"
      },
      "execution_count": null,
      "outputs": []
    },
    {
      "cell_type": "code",
      "source": [
        "# Run this cell to move to the directory for this session.\n",
        "\n",
        "%cd ncu_doing_astrophysics_using_python_202402/s05"
      ],
      "metadata": {
        "id": "bREyxIP08RZG"
      },
      "execution_count": null,
      "outputs": []
    },
    {
      "cell_type": "code",
      "source": [
        "# Run this cell to show a list of files for this session.\n",
        "\n",
        "!ls"
      ],
      "metadata": {
        "id": "fKxQ_X-D8dRN"
      },
      "execution_count": null,
      "outputs": []
    },
    {
      "cell_type": "markdown",
      "source": [
        "# 2. SQLite"
      ],
      "metadata": {
        "id": "_KwUVaGcsoqT"
      }
    },
    {
      "cell_type": "code",
      "source": [
        "# Install the command \"sqlite3\" if you do not have it.\n",
        "\n",
        "!apt install sqlite3"
      ],
      "metadata": {
        "id": "Zd2HIbFqsQSf"
      },
      "execution_count": null,
      "outputs": []
    },
    {
      "cell_type": "code",
      "source": [
        "# Run this cell to check whether or not you have a command \"sqlite3\".\n",
        "\n",
        "!which sqlite3"
      ],
      "metadata": {
        "id": "vTMcFHxfsQSm"
      },
      "execution_count": null,
      "outputs": []
    },
    {
      "cell_type": "code",
      "source": [
        "# Run this cell to show the version of SQLite.\n",
        "\n",
        "!sqlite3 --version"
      ],
      "metadata": {
        "id": "lAo8D0PAsQSn"
      },
      "execution_count": null,
      "outputs": []
    },
    {
      "cell_type": "code",
      "source": [
        "# Run this cell to read the online manual of sqlite3.\n",
        "\n",
        "!cat man.sqlite3"
      ],
      "metadata": {
        "id": "B6FX0o2ucKic"
      },
      "execution_count": null,
      "outputs": []
    },
    {
      "cell_type": "code",
      "source": [
        "# Run this cell to show available commands of SQLite.\n",
        "\n",
        "!sqlite3 \"\" \".help\""
      ],
      "metadata": {
        "id": "LKmTOYuSfr8K"
      },
      "execution_count": null,
      "outputs": []
    },
    {
      "cell_type": "code",
      "source": [
        "# Run this cell to the description of \".open\" command.\n",
        "\n",
        "!sqlite3 \"\" \".help .open\""
      ],
      "metadata": {
        "id": "dWdhyOB6Lar7"
      },
      "execution_count": null,
      "outputs": []
    },
    {
      "cell_type": "markdown",
      "source": [
        "# 3. Making a small database"
      ],
      "metadata": {
        "id": "rgfVAjOomYef"
      }
    },
    {
      "cell_type": "markdown",
      "source": [
        "## 3.1 Making a table"
      ],
      "metadata": {
        "id": "El6-Tp6KzulW"
      }
    },
    {
      "cell_type": "code",
      "source": [
        "# Run this cell to make a table for planets database.\n",
        "\n",
        "!sqlite3 planet0.db \"create table planet (name text primary key, mass real, diameter real, rotation_period real, orbital_period real, mean_temperature real, satellite integer, ring text, magnetic_field text);\""
      ],
      "metadata": {
        "id": "O1saCIIOh9Er"
      },
      "execution_count": null,
      "outputs": []
    },
    {
      "cell_type": "code",
      "source": [
        "# Run this cell to show a list of database tables stored in file \"planet0.db\".\n",
        "\n",
        "!sqlite3 planet0.db \".tables\""
      ],
      "metadata": {
        "id": "HJaXdd5_mlSd"
      },
      "execution_count": null,
      "outputs": []
    },
    {
      "cell_type": "code",
      "source": [
        "# Run this cell to show the structure of the table \"planet\".\n",
        "\n",
        "!sqlite3 planet0.db \".schema\""
      ],
      "metadata": {
        "id": "nTuDlPgDo_zT"
      },
      "execution_count": null,
      "outputs": []
    },
    {
      "cell_type": "code",
      "source": [
        "# Run this cell to show the structure of the table \"planet\".\n",
        "\n",
        "!sqlite3 planet0.db \".schema --indent\""
      ],
      "metadata": {
        "id": "_qoytpdlzYcU"
      },
      "execution_count": null,
      "outputs": []
    },
    {
      "cell_type": "markdown",
      "source": [
        "## 3.2 Adding data to table"
      ],
      "metadata": {
        "id": "eG8A6YNMzxu6"
      }
    },
    {
      "cell_type": "code",
      "source": [
        "# Run this cell to add data of Mercury.\n",
        "\n",
        "!sqlite3 planet0.db \"insert into planet values ('Mercury', 3.30E23, 4.879E3, 1407.6, 88.0, 167, 0, 'No', 'Yes');\""
      ],
      "metadata": {
        "id": "Cf0heyHwpKJj"
      },
      "execution_count": null,
      "outputs": []
    },
    {
      "cell_type": "code",
      "source": [
        "# Run this cell to add data of Venus.\n",
        "\n",
        "!sqlite3 planet0.db \"insert into planet values ('Venus', 4.87E24, 1.2104E4, -5832.5, 224.7, 464, 0, 'No', 'No');\""
      ],
      "metadata": {
        "id": "0eVs6HpxtgZA"
      },
      "execution_count": null,
      "outputs": []
    },
    {
      "cell_type": "code",
      "source": [
        "# Run this cell to add data of Earth.\n",
        "\n",
        "!sqlite3 planet0.db \"insert into planet values ('Earth', 5.97E24, 1.2756E4, 23.9, 365.2, 15, 1, 'No', 'Yes');\""
      ],
      "metadata": {
        "id": "TqYeQ3oizBwq"
      },
      "execution_count": null,
      "outputs": []
    },
    {
      "cell_type": "code",
      "source": [
        "# Run this cell to add data of Mars.\n",
        "\n",
        "!sqlite3 planet0.db \"insert into planet values ('Mars', 6.42E23, 6.792E3, 24.6, 687.0, -65, 2, 'No', 'No');\""
      ],
      "metadata": {
        "id": "-lM60uGmzFPV"
      },
      "execution_count": null,
      "outputs": []
    },
    {
      "cell_type": "code",
      "source": [
        "# Run this cell to add data of Jupiter.\n",
        "\n",
        "!sqlite3 planet0.db \"insert into planet values ('Jupiter', 1.898E27, 1.42984E5, 9.9, 4331, -110, 79, 'Yes', 'Yes');\""
      ],
      "metadata": {
        "id": "zg1HWRZWzMKi"
      },
      "execution_count": null,
      "outputs": []
    },
    {
      "cell_type": "code",
      "source": [
        "# Run this cell to add data of Saturn.\n",
        "\n",
        "!sqlite3 planet0.db \"insert into planet values ('Saturn', 5.68E26, 1.20536E5, 10.7, 10747, -140, 82, 'Yes', 'Yes');\""
      ],
      "metadata": {
        "id": "7QZbAZ0JzRGk"
      },
      "execution_count": null,
      "outputs": []
    },
    {
      "cell_type": "code",
      "source": [
        "# Run this cell to add data of Uranus.\n",
        "\n",
        "!sqlite3 planet0.db \"insert into planet values ('Uranus', 8.68E25, 5.1118E4, -17.2, 30589, -195, 27, 'Yes', 'Yes');\""
      ],
      "metadata": {
        "id": "-YDdSC3wzYDY"
      },
      "execution_count": null,
      "outputs": []
    },
    {
      "cell_type": "code",
      "source": [
        "# Run this cell to add data of Neptune.\n",
        "\n",
        "!sqlite3 planet0.db \"insert into planet values ('Neptune', 1.02E26, 4.9528E4, 16.1, 59800, -200, 14, 'Yes', 'Yes');\""
      ],
      "metadata": {
        "id": "YD2zlmpEzdCM"
      },
      "execution_count": null,
      "outputs": []
    },
    {
      "cell_type": "markdown",
      "source": [
        "## 3.3 Trying SQL queries"
      ],
      "metadata": {
        "id": "yJnvAojWz0oa"
      }
    },
    {
      "cell_type": "code",
      "source": [
        "# Run this cell to print all the columns for each record.\n",
        "\n",
        "!sqlite3 planet0.db \"select * from planet;\""
      ],
      "metadata": {
        "id": "WPBukBkcz2sS"
      },
      "execution_count": null,
      "outputs": []
    },
    {
      "cell_type": "code",
      "source": [
        "# Run this cell to print the header and all the columns for each record of the table.\n",
        "\n",
        "!sqlite3 -header planet0.db \"select * from planet;\""
      ],
      "metadata": {
        "id": "gRi7UIpw3Rh3"
      },
      "execution_count": null,
      "outputs": []
    },
    {
      "cell_type": "code",
      "source": [
        "# Run this cell to print the header and name, mass, diameter, and number of satellites of each planet.\n",
        "\n",
        "!sqlite3 -header planet0.db \"select name,mass,diameter,satellite from planet;\""
      ],
      "metadata": {
        "id": "RchstmYcz6vN"
      },
      "execution_count": null,
      "outputs": []
    },
    {
      "cell_type": "code",
      "source": [
        "# Run this cell to print the header and name, mass, diameter, and number of satellites of each planet by fancy output format.\n",
        "\n",
        "!sqlite3 -header -column planet0.db \"select name,mass,diameter,satellite from planet;\""
      ],
      "metadata": {
        "id": "nmBCAEZs625P"
      },
      "execution_count": null,
      "outputs": []
    },
    {
      "cell_type": "code",
      "source": [
        "# Run this cell to print the header and name, mass, diameter, number of satellites, existence of ring system, existence of global magnetic field of each planet by fancy output format.\n",
        "\n",
        "!sqlite3 -header -column planet0.db \"select name,mass,diameter,satellite,ring,magnetic_field from planet;\""
      ],
      "metadata": {
        "id": "ZDFzZE4P7G8T"
      },
      "execution_count": null,
      "outputs": []
    },
    {
      "cell_type": "code",
      "source": [
        "# Run this cell to print the header and name, mass, diameter, number of satellites, existence of ring system, existence of global magnetic field of each planet by fancy output format.\n",
        "\n",
        "!sqlite3 -header planet0.db \".mode table\" \"select name,mass,diameter,satellite,ring,magnetic_field from planet;\""
      ],
      "metadata": {
        "id": "EY6zy0M36ZAC"
      },
      "execution_count": null,
      "outputs": []
    },
    {
      "cell_type": "markdown",
      "source": [
        "## 3.4 More about SQL queries"
      ],
      "metadata": {
        "id": "BquPXVULuMhl"
      }
    },
    {
      "cell_type": "markdown",
      "source": [
        "### 3.4.1 Sorting outputs using \"order by\""
      ],
      "metadata": {
        "id": "RR6iXL-ry8nV"
      }
    },
    {
      "cell_type": "code",
      "source": [
        "# Run this cell to sort outputs using \"order by\".\n",
        "\n",
        "!sqlite3 -header -column planet0.db \"select name,mass,diameter,satellite,ring,magnetic_field from planet order by diameter;\""
      ],
      "metadata": {
        "id": "urCDD9lV76Ud"
      },
      "execution_count": null,
      "outputs": []
    },
    {
      "cell_type": "code",
      "source": [
        "# Run this cell to sort outputs using \"order by\".\n",
        "\n",
        "!sqlite3 -header -column planet0.db \"select name,mass,diameter,satellite,ring,magnetic_field from planet order by diameter desc;\""
      ],
      "metadata": {
        "id": "1XhkIXKD1-pp"
      },
      "execution_count": null,
      "outputs": []
    },
    {
      "cell_type": "markdown",
      "source": [
        "### 3.4.2 Selecting outputs using \"where\""
      ],
      "metadata": {
        "id": "0iz6W3uG2M0-"
      }
    },
    {
      "cell_type": "code",
      "source": [
        "# Run this cell to select outputs using \"where\".\n",
        "\n",
        "!sqlite3 -header -column planet0.db \"select name,mass,diameter,satellite,ring,magnetic_field from planet where satellite >= 10;\""
      ],
      "metadata": {
        "id": "ojhnd3wmzIKe"
      },
      "execution_count": null,
      "outputs": []
    },
    {
      "cell_type": "code",
      "source": [
        "# Run this cell to select outputs using \"where\".\n",
        "\n",
        "!sqlite3 -header -column planet0.db \"select name,mass,diameter,satellite,ring,magnetic_field from planet where magnetic_field is 'Yes';\""
      ],
      "metadata": {
        "id": "wvdPkOvT7Is_"
      },
      "execution_count": null,
      "outputs": []
    },
    {
      "cell_type": "code",
      "source": [
        "# Run this cell to select outputs using \"where\".\n",
        "\n",
        "!sqlite3 -header -column planet0.db \"select name,mass,diameter,satellite,ring,magnetic_field from planet where mass > 1e+26 and diameter > 50000;\""
      ],
      "metadata": {
        "id": "dJQ1HzQc7ggs"
      },
      "execution_count": null,
      "outputs": []
    },
    {
      "cell_type": "markdown",
      "source": [
        "## 3.5 Importing data from a CSV file"
      ],
      "metadata": {
        "id": "l9uBBsWk7y4A"
      }
    },
    {
      "cell_type": "code",
      "source": [
        "# Run this cell to show the source code of the script.\n",
        "\n",
        "!cat ai2023_s06_00_00.py"
      ],
      "metadata": {
        "id": "GAqoX3wF21x6"
      },
      "execution_count": null,
      "outputs": []
    },
    {
      "cell_type": "code",
      "source": [
        "# Run this cell to execute the script.\n",
        "\n",
        "!python3.12 appy_s06_00_00.py"
      ],
      "metadata": {
        "id": "yc5vPv8c78bz"
      },
      "execution_count": null,
      "outputs": []
    },
    {
      "cell_type": "code",
      "source": [
        "# Run this cell to show downloaded CSV file.\n",
        "\n",
        "!ls -lF *.csv"
      ],
      "metadata": {
        "id": "hDntl7ty8LSY"
      },
      "execution_count": null,
      "outputs": []
    },
    {
      "cell_type": "code",
      "source": [
        "# Run this cell to show file type of downloaded CSV file.\n",
        "\n",
        "!file dwarf_planet.csv"
      ],
      "metadata": {
        "id": "WsCdRADA8QLK"
      },
      "execution_count": null,
      "outputs": []
    },
    {
      "cell_type": "code",
      "source": [
        "# Run this cell to show the contents of downloaded CSV file.\n",
        "\n",
        "!cat dwarf_planet.csv"
      ],
      "metadata": {
        "id": "bzcCZizO8U1N"
      },
      "execution_count": null,
      "outputs": []
    },
    {
      "cell_type": "code",
      "source": [
        "# Run this cell to create a table.\n",
        "\n",
        "!sqlite3 dwarf_planet.db \"create table dwarfplanet (name text primary key, a real, e real, i real, perihelion real, aphelion real, P real, H real);\""
      ],
      "metadata": {
        "id": "Mh4bDEsX8aTC"
      },
      "execution_count": null,
      "outputs": []
    },
    {
      "cell_type": "code",
      "source": [
        "# Run this cell to find newly created database file.\n",
        "\n",
        "!ls -lF *.db"
      ],
      "metadata": {
        "id": "-atEz-E58mOr"
      },
      "execution_count": null,
      "outputs": []
    },
    {
      "cell_type": "code",
      "source": [
        "# Run this cell to find data type of database file.\n",
        "\n",
        "!file dwarf_planet.db"
      ],
      "metadata": {
        "id": "CQN-GedO8qd2"
      },
      "execution_count": null,
      "outputs": []
    },
    {
      "cell_type": "code",
      "source": [
        "# Run this cell to find the structure of the table.\n",
        "\n",
        "!sqlite3 dwarf_planet.db \".schema --indent\""
      ],
      "metadata": {
        "id": "a439MQb48v1z"
      },
      "execution_count": null,
      "outputs": []
    },
    {
      "cell_type": "code",
      "source": [
        "# Run this cell to show the description of the meta-command \".import\".\n",
        "\n",
        "!sqlite3 \"\" \".help .import\""
      ],
      "metadata": {
        "id": "jBNLg5FQ82oG"
      },
      "execution_count": null,
      "outputs": []
    },
    {
      "cell_type": "code",
      "source": [
        "# Run this cell to import a CSV file to the database.\n",
        "\n",
        "!sqlite3 dwarf_planet.db \".import --csv --skip 16 dwarf_planet.csv dwarfplanet\""
      ],
      "metadata": {
        "id": "0SphfcrA9B6k"
      },
      "execution_count": null,
      "outputs": []
    },
    {
      "cell_type": "code",
      "source": [
        "# Run this cell to try a SQL query.\n",
        "\n",
        "!sqlite3 --header --column dwarf_planet.db \"select * from dwarfplanet;\""
      ],
      "metadata": {
        "id": "d7Ga7Iqm9IRy"
      },
      "execution_count": null,
      "outputs": []
    },
    {
      "cell_type": "code",
      "source": [
        "# Run this cell to try a SQL query.\n",
        "\n",
        "!sqlite3 --header --column dwarf_planet.db \"select name, a, e, i, H from dwarfplanet order by H;\""
      ],
      "metadata": {
        "id": "4aNNGXFa9Obj"
      },
      "execution_count": null,
      "outputs": []
    },
    {
      "cell_type": "code",
      "source": [
        "# Run this cell to try a SQL query.\n",
        "\n",
        "!sqlite3 --header --column dwarf_planet.db \"select name, a, e, i, perihelion, aphelion from dwarfplanet order by aphelion desc;\""
      ],
      "metadata": {
        "id": "l2JSgPv39S6U"
      },
      "execution_count": null,
      "outputs": []
    },
    {
      "cell_type": "code",
      "source": [
        "# Run this cell to try a SQL query.\n",
        "\n",
        "!sqlite3 --header --column dwarf_planet.db \"select * from dwarfplanet where P > 300;\""
      ],
      "metadata": {
        "id": "2RQD9--v9adC"
      },
      "execution_count": null,
      "outputs": []
    },
    {
      "cell_type": "markdown",
      "source": [
        "## 3.6 Exporting database into a SQL file"
      ],
      "metadata": {
        "id": "sc6Duerw9j6o"
      }
    },
    {
      "cell_type": "code",
      "source": [
        "# Run this cell to show the description of \".dump\" command.\n",
        "\n",
        "!sqlite3 \"\" \".help .dump\""
      ],
      "metadata": {
        "id": "iP_tcscg9f8t"
      },
      "execution_count": null,
      "outputs": []
    },
    {
      "cell_type": "code",
      "source": [
        "# Run this cell to export the database into a SQL file.\n",
        "\n",
        "!sqlite3 dwarf_planet.db \".dump\" > dwarf_planet.sql"
      ],
      "metadata": {
        "id": "YZ-FvQY99uDs"
      },
      "execution_count": null,
      "outputs": []
    },
    {
      "cell_type": "code",
      "source": [
        "# Run this cell to find newly created SQL file.\n",
        "\n",
        "!ls -lF *.sql"
      ],
      "metadata": {
        "id": "1UK1YZxE92x8"
      },
      "execution_count": null,
      "outputs": []
    },
    {
      "cell_type": "code",
      "source": [
        "# Run this cell to find data type of SQL file.\n",
        "\n",
        "!file dwarf_planet.sql"
      ],
      "metadata": {
        "id": "plEG60o096mX"
      },
      "execution_count": null,
      "outputs": []
    },
    {
      "cell_type": "code",
      "source": [
        "# Run this cell to show the contents of SQL file.\n",
        "\n",
        "!cut -b -80 dwarf_planet.sql"
      ],
      "metadata": {
        "id": "hrvWMfT09_UG"
      },
      "execution_count": null,
      "outputs": []
    },
    {
      "cell_type": "markdown",
      "source": [
        "## 3.7 Reading a SQL file"
      ],
      "metadata": {
        "id": "POoOMcvV-NHI"
      }
    },
    {
      "cell_type": "code",
      "source": [
        "# Run this cell to read a SQL file and create a database file.\n",
        "\n",
        "!sqlite3 dwarf_planet3.db \".read dwarf_planet.sql\""
      ],
      "metadata": {
        "id": "RaG2kcw7-JFf"
      },
      "execution_count": null,
      "outputs": []
    },
    {
      "cell_type": "code",
      "source": [
        "# Run this cell to try a SQL query.\n",
        "\n",
        "!sqlite3 --header --column dwarf_planet3.db \"select * from dwarfplanet where i > 20 order by i desc;\""
      ],
      "metadata": {
        "id": "u5T3pbXp-TbV"
      },
      "execution_count": null,
      "outputs": []
    },
    {
      "cell_type": "markdown",
      "source": [
        "## 3.8 Exporting a database into a CSV file"
      ],
      "metadata": {
        "id": "nhYVHgCh-iy6"
      }
    },
    {
      "cell_type": "code",
      "source": [
        "# Run this cell to show the description of \".once\" command.\n",
        "\n",
        "!sqlite3 \"\" \".help .once\""
      ],
      "metadata": {
        "id": "l631eRpa-fKP"
      },
      "execution_count": null,
      "outputs": []
    },
    {
      "cell_type": "code",
      "source": [
        "# Run this cell to export a database into a CSV file.\n",
        "\n",
        "!sqlite3 dwarf_planet3.db \".header on\" \".mode csv\" \".once new.csv\" \"select * from dwarfplanet;\""
      ],
      "metadata": {
        "id": "dRGoUBfC-quc"
      },
      "execution_count": null,
      "outputs": []
    },
    {
      "cell_type": "code",
      "source": [
        "# Run this cell to find newly created file.\n",
        "\n",
        "!ls -lF *.csv"
      ],
      "metadata": {
        "id": "yK2BQK5o-1rd"
      },
      "execution_count": null,
      "outputs": []
    },
    {
      "cell_type": "code",
      "source": [
        "# Run this cell to find data type of newly created file.\n",
        "\n",
        "!file new.csv"
      ],
      "metadata": {
        "id": "HEkm-oH0-423"
      },
      "execution_count": null,
      "outputs": []
    },
    {
      "cell_type": "code",
      "source": [
        "# Run this cell to show the contents of newly created file.\n",
        "\n",
        "!cat new.csv"
      ],
      "metadata": {
        "id": "B68U42CE-8em"
      },
      "execution_count": null,
      "outputs": []
    },
    {
      "cell_type": "markdown",
      "source": [
        "# 4. Constructing elements database"
      ],
      "metadata": {
        "id": "IURcbZIk_GIL"
      }
    },
    {
      "cell_type": "markdown",
      "source": [
        "## 4.1 Downloading a CSV file"
      ],
      "metadata": {
        "id": "hMf5yKAv_Jdj"
      }
    },
    {
      "cell_type": "code",
      "source": [
        "# Run this cell to show the source code of the script.\n",
        "\n",
        "!cat appy_s06_01_00.py"
      ],
      "metadata": {
        "id": "J6m--ykm_B3e"
      },
      "execution_count": null,
      "outputs": []
    },
    {
      "cell_type": "code",
      "source": [
        "# Run this cell to execute the script.\n",
        "\n",
        "!python3.12 appy_s06_01_00.py"
      ],
      "metadata": {
        "id": "O8PcsreI_RLu"
      },
      "execution_count": null,
      "outputs": []
    },
    {
      "cell_type": "code",
      "source": [
        "# Run this cell to find newly downloaded file.\n",
        "\n",
        "!ls -lF *.csv"
      ],
      "metadata": {
        "id": "bqLMFmHX_Yu1"
      },
      "execution_count": null,
      "outputs": []
    },
    {
      "cell_type": "code",
      "source": [
        "# Run this cell to find data type of newly downloaded file.\n",
        "\n",
        "!file periodictable.csv"
      ],
      "metadata": {
        "id": "CNZ08xPe_c3f"
      },
      "execution_count": null,
      "outputs": []
    },
    {
      "cell_type": "code",
      "source": [
        "# run this cell to show first 20 lines of newly downloaded file.\n",
        "\n",
        "!head -20 periodictable.csv | cut -b -80"
      ],
      "metadata": {
        "id": "48ndqocW_iEI"
      },
      "execution_count": null,
      "outputs": []
    },
    {
      "cell_type": "markdown",
      "source": [
        "## 4.2 Creating a table for elements database"
      ],
      "metadata": {
        "id": "9KxOrwli_tv2"
      }
    },
    {
      "cell_type": "code",
      "source": [
        "# Run this cell to create a table for elements database.\n",
        "\n",
        "!sqlite3 element.db \"create table element (AtomicNumber integer primary key, Symbol text, Name text, AtomicMass real, CPKHexColor text, ElectronConfiguration text, Electronegativity real, AtomicRadius real, IonizationEnergy real, ElectronAffinity real, OxidationStates text, StandardState text, MeltingPoint real, BoilingPoint real, Density real, GroupBlock text, YearDiscovered text);\""
      ],
      "metadata": {
        "id": "dibVANv2_qkv"
      },
      "execution_count": null,
      "outputs": []
    },
    {
      "cell_type": "code",
      "source": [
        "# Run this cell to check the structure of the table.\n",
        "\n",
        "!sqlite3 element.db \".schema --indent\""
      ],
      "metadata": {
        "id": "A_L1f3Ft_6d5"
      },
      "execution_count": null,
      "outputs": []
    },
    {
      "cell_type": "markdown",
      "source": [
        "## 4.3 Importing CSV file and constructing database"
      ],
      "metadata": {
        "id": "8TUSgoN6ACvz"
      }
    },
    {
      "cell_type": "code",
      "source": [
        "# Run this cell to import a CSV file and add data to the database.\n",
        "\n",
        "!sqlite3 element.db \".import --csv --skip 1 periodictable.csv element\""
      ],
      "metadata": {
        "id": "QDV8Y4EtAAP5"
      },
      "execution_count": null,
      "outputs": []
    },
    {
      "cell_type": "markdown",
      "source": [
        "## 4.4 Trying SQL queries"
      ],
      "metadata": {
        "id": "xfXZpzG-AO1b"
      }
    },
    {
      "cell_type": "code",
      "source": [
        "# Run this cell to try a SQL query.\n",
        "\n",
        "!sqlite3 --header --column element.db \"select Symbol, Name, AtomicMass, StandardState, MeltingPoint, BoilingPoint from element where StandardState is 'Liquid';\""
      ],
      "metadata": {
        "id": "46XAe4aSAM0f"
      },
      "execution_count": null,
      "outputs": []
    },
    {
      "cell_type": "code",
      "source": [
        "# Run this cell to try a SQL query.\n",
        "\n",
        "!sqlite3 --header --column element.db \"select AtomicNumber, Name, Symbol, StandardState, Density from element where Density >= 15.0 and Density != '' order by Density desc;\""
      ],
      "metadata": {
        "id": "tv0AhEFDAXl3"
      },
      "execution_count": null,
      "outputs": []
    },
    {
      "cell_type": "code",
      "source": [
        "# Run this cell to try a SQL query.\n",
        "\n",
        "!sqlite3 --header --column element.db \"select Name, Symbol, StandardState, MeltingPoint, BoilingPoint from element where BoilingPoint < 300 order by BoilingPoint;\""
      ],
      "metadata": {
        "id": "IF1JDbHRAhOn"
      },
      "execution_count": null,
      "outputs": []
    },
    {
      "cell_type": "markdown",
      "source": [
        "# 5. Constructing a database from Bright Star Catalogue"
      ],
      "metadata": {
        "id": "-iobjVbkAuQN"
      }
    },
    {
      "cell_type": "markdown",
      "source": [
        "## 5.1 Downloading the catalogue"
      ],
      "metadata": {
        "id": "8GZcbExKAx6M"
      }
    },
    {
      "cell_type": "code",
      "source": [
        "# Run this cell to show the source code of the script.\n",
        "\n",
        "!cat appy_s06_02_00.py"
      ],
      "metadata": {
        "id": "wdFyUt_VA9a9"
      },
      "execution_count": null,
      "outputs": []
    },
    {
      "cell_type": "code",
      "source": [
        "# Run this cell to execute the script.\n",
        "\n",
        "!python3.12 appy_s06_02_00.py"
      ],
      "metadata": {
        "id": "3b0Tc9MmAq14"
      },
      "execution_count": null,
      "outputs": []
    },
    {
      "cell_type": "code",
      "source": [
        "# Find newly downloaded file.\n",
        "\n",
        "!ls -lF *.gz"
      ],
      "metadata": {
        "id": "4hul-oCsBFFJ"
      },
      "execution_count": null,
      "outputs": []
    },
    {
      "cell_type": "code",
      "source": [
        "# Find data type of newly downloaded file.\n",
        "\n",
        "!file bsc5.data.gz"
      ],
      "metadata": {
        "id": "Zncnks_eBKwI"
      },
      "execution_count": null,
      "outputs": []
    },
    {
      "cell_type": "code",
      "source": [
        "# Run this cell to show the source code of the script.\n",
        "\n",
        "!cat appy_s06_02_01.py"
      ],
      "metadata": {
        "id": "uskP99LKBOK6"
      },
      "execution_count": null,
      "outputs": []
    },
    {
      "cell_type": "code",
      "source": [
        "# Run this cell to execute the script.\n",
        "\n",
        "!python3.12 appy_s06_02_01.py"
      ],
      "metadata": {
        "id": "NwVlKsbRBUR5"
      },
      "execution_count": null,
      "outputs": []
    },
    {
      "cell_type": "code",
      "source": [
        "# Find newly downloaded file.\n",
        "\n",
        "!ls -lF bsc5.*"
      ],
      "metadata": {
        "id": "pYmu7d51BYD4"
      },
      "execution_count": null,
      "outputs": []
    },
    {
      "cell_type": "code",
      "source": [
        "# Find data type of newly downloaded file.\n",
        "\n",
        "!file bsc5.readme"
      ],
      "metadata": {
        "id": "QJ7UbYs_Bbp6"
      },
      "execution_count": null,
      "outputs": []
    },
    {
      "cell_type": "code",
      "source": [
        "# Run this cell to show first 20 lines of newly downloaded file.\n",
        "\n",
        "!head -20 bsc5.readme"
      ],
      "metadata": {
        "id": "UYITeXnJBfao"
      },
      "execution_count": null,
      "outputs": []
    },
    {
      "cell_type": "markdown",
      "source": [
        "## 5.2 Reading Bright Star Catalogue"
      ],
      "metadata": {
        "id": "ESxv2t0_BpHW"
      }
    },
    {
      "cell_type": "code",
      "source": [
        "# Run this cell to show the source code of the script.\n",
        "\n",
        "!cat appy_s06_02_02.py"
      ],
      "metadata": {
        "id": "TisYBrdZBlY6"
      },
      "execution_count": null,
      "outputs": []
    },
    {
      "cell_type": "code",
      "source": [
        "# Run this cell to execute the script.\n",
        "\n",
        "!python3.12 appy_s06_02_02.py > bsc5_extracted.data"
      ],
      "metadata": {
        "id": "uhpSUZmFBuu4"
      },
      "execution_count": null,
      "outputs": []
    },
    {
      "cell_type": "code",
      "source": [
        "# Run this cell to check extracted data.\n",
        "\n",
        "!head -30 bsc5_extracted.data"
      ],
      "metadata": {
        "id": "SXfxkgixB2DB"
      },
      "execution_count": null,
      "outputs": []
    },
    {
      "cell_type": "markdown",
      "source": [
        "## 5.3 Making a SQL file to generate a database"
      ],
      "metadata": {
        "id": "8FdaK1msB-YP"
      }
    },
    {
      "cell_type": "code",
      "source": [
        "# Run this cell to show the source code of the script.\n",
        "\n",
        "!cat appy_s06_02_03.py"
      ],
      "metadata": {
        "id": "c6sQAy8eB77y"
      },
      "execution_count": null,
      "outputs": []
    },
    {
      "cell_type": "code",
      "source": [
        "# Run this cell to execute the script.\n",
        "\n",
        "!python3.12 appy_s06_02_03.py"
      ],
      "metadata": {
        "id": "y1sLgFWwCIya"
      },
      "execution_count": null,
      "outputs": []
    },
    {
      "cell_type": "code",
      "source": [
        "# Run this cell to find newly created file.\n",
        "\n",
        "!ls -lF *.sql"
      ],
      "metadata": {
        "id": "iRTjDogyCQbz"
      },
      "execution_count": null,
      "outputs": []
    },
    {
      "cell_type": "code",
      "source": [
        "# Run this cell to show the contents of newly created file.\n",
        "\n",
        "!head -20 bsc5_makedb.sql | cut -b -80"
      ],
      "metadata": {
        "id": "IejVz8RMCTW6"
      },
      "execution_count": null,
      "outputs": []
    },
    {
      "cell_type": "markdown",
      "source": [
        "## 5.4 Executing SQL file to make BSC database"
      ],
      "metadata": {
        "id": "CKRrPxerCo1v"
      }
    },
    {
      "cell_type": "code",
      "source": [
        "# Run this cell to execute SQL file.\n",
        "\n",
        "!sqlite3 bsc5.db \".read bsc5_makedb.sql\""
      ],
      "metadata": {
        "id": "5Qk_9RNDCYS5"
      },
      "execution_count": null,
      "outputs": []
    },
    {
      "cell_type": "code",
      "source": [
        "# Run this cell to show the structure of the table.\n",
        "\n",
        "!sqlite3 bsc5.db \".schema --indent\""
      ],
      "metadata": {
        "id": "bVUe26_gCwHX"
      },
      "execution_count": null,
      "outputs": []
    },
    {
      "cell_type": "markdown",
      "source": [
        "## 5.5 Trying some SQL queries"
      ],
      "metadata": {
        "id": "ZzUFWfY5DHJI"
      }
    },
    {
      "cell_type": "code",
      "source": [
        "# Run this cell to try a SQL query.\n",
        "\n",
        "!sqlite3 --header --column bsc5.db \"select hr, name, ra_str, dec_str, vmag, sptype from bsc where vmag < 1.5 and vmag > -50 order by vmag;\""
      ],
      "metadata": {
        "id": "iFwn-tirDI-v"
      },
      "execution_count": null,
      "outputs": []
    },
    {
      "cell_type": "code",
      "source": [
        "# Run this cell to try a SQL query.\n",
        "\n",
        "!sqlite3 --header --column bsc5.db \"select hr, name, ra_str, dec_str, vmag, bv, parallax from bsc where parallax >= 0.2 order by parallax desc;\""
      ],
      "metadata": {
        "id": "dwm1iOTIDNh4"
      },
      "execution_count": null,
      "outputs": []
    },
    {
      "cell_type": "code",
      "source": [
        "# Run this cell to try a SQL query.\n",
        "\n",
        "!sqlite3 --header --column bsc5.db \"select hr, name, ra_str, dec_str, glon, glat, vmag from bsc where glat > 85.0 order by glat desc;\""
      ],
      "metadata": {
        "id": "fSyD2ykCDWiK"
      },
      "execution_count": null,
      "outputs": []
    },
    {
      "cell_type": "code",
      "source": [
        "# Run this cell to try a SQL query.\n",
        "\n",
        "!sqlite3 --header --column bsc5.db \"select hr, name, glon, glat, vmag, bv, sptype from bsc where sptype like '%O%V%' and sptype not like '%O%IV%' order by glat;\""
      ],
      "metadata": {
        "id": "KoUCwafgDcd8"
      },
      "execution_count": null,
      "outputs": []
    },
    {
      "cell_type": "markdown",
      "source": [
        "# 6. Making a database from Hipparcos catalogue"
      ],
      "metadata": {
        "id": "bB7wmq1zDnFA"
      }
    },
    {
      "cell_type": "markdown",
      "source": [
        "## 6.1 Downloading Hipparcos catalogue"
      ],
      "metadata": {
        "id": "mvhD8kc0DqlR"
      }
    },
    {
      "cell_type": "code",
      "source": [
        "# Run this cell to show the source code of the script.\n",
        "\n",
        "!cat appy_s06_03_00.py"
      ],
      "metadata": {
        "id": "hTbVa8wGDkgD"
      },
      "execution_count": null,
      "outputs": []
    },
    {
      "cell_type": "code",
      "source": [
        "# Run this cell to execute the script.\n",
        "\n",
        "!python3.12 appy_s06_03_00.py"
      ],
      "metadata": {
        "id": "kPLBSHe7D2kT"
      },
      "execution_count": null,
      "outputs": []
    },
    {
      "cell_type": "code",
      "source": [
        "# Run this cell to find newly downloaded file.\n",
        "\n",
        "!ls -lF *.cat"
      ],
      "metadata": {
        "id": "4nP32egqD6hb"
      },
      "execution_count": null,
      "outputs": []
    },
    {
      "cell_type": "code",
      "source": [
        "# Run this cell to find data type of newly downloaded file.\n",
        "\n",
        "!file hip.cat"
      ],
      "metadata": {
        "id": "ENT8sO2lEAEe"
      },
      "execution_count": null,
      "outputs": []
    },
    {
      "cell_type": "code",
      "source": [
        "# Run this cell to show first 20 lines of newly downloaded file.\n",
        "\n",
        "!head -20 hip.cat"
      ],
      "metadata": {
        "id": "_sYXMVChEEm7"
      },
      "execution_count": null,
      "outputs": []
    },
    {
      "cell_type": "code",
      "source": [
        "# Run this cell to show the source code of the script.\n",
        "\n",
        "!cat ai2023_s06_03_01.py"
      ],
      "metadata": {
        "id": "RPzDaVxOEK6r"
      },
      "execution_count": null,
      "outputs": []
    },
    {
      "cell_type": "code",
      "source": [
        "# Run this cell to execute the script.\n",
        "\n",
        "!python3.10 ai2023_s06_03_01.py"
      ],
      "metadata": {
        "id": "O6f19Y16EV_D"
      },
      "execution_count": null,
      "outputs": []
    },
    {
      "cell_type": "code",
      "source": [
        "# Run this cell to find newly downloaded file.\n",
        "\n",
        "!ls -lF hip.*"
      ],
      "metadata": {
        "id": "9J6slbFeEaU7"
      },
      "execution_count": null,
      "outputs": []
    },
    {
      "cell_type": "code",
      "source": [
        "# Run this cell to find data type of newly downloaded file.\n",
        "\n",
        "!file hip.readme"
      ],
      "metadata": {
        "id": "HMl0QV3fEfJ0"
      },
      "execution_count": null,
      "outputs": []
    },
    {
      "cell_type": "code",
      "source": [
        "# Run this cell to show first 20 lines of newly downloaded file.\n",
        "\n",
        "!head -20 hip.readme"
      ],
      "metadata": {
        "id": "_IVyg4nbEjbT"
      },
      "execution_count": null,
      "outputs": []
    },
    {
      "cell_type": "markdown",
      "source": [
        "## 6.2 Reading Hipparcos catalogue"
      ],
      "metadata": {
        "id": "siL6456YErpV"
      }
    },
    {
      "cell_type": "code",
      "source": [
        "# Run this cell to show the source code of the script.\n",
        "\n",
        "!cat appy_s06_03_02.py"
      ],
      "metadata": {
        "id": "u6qbaD7tEo0s"
      },
      "execution_count": null,
      "outputs": []
    },
    {
      "cell_type": "code",
      "source": [
        "# Run this cell to execute the script.\n",
        "\n",
        "!python3.12 appy_s06_03_02.py > hip_extracted.data"
      ],
      "metadata": {
        "id": "KkI9TjOcE3Fc"
      },
      "execution_count": null,
      "outputs": []
    },
    {
      "cell_type": "code",
      "source": [
        "# Run this cell to find newly created file.\n",
        "\n",
        "!ls -lF hip*"
      ],
      "metadata": {
        "id": "WujcoLBzE8qd"
      },
      "execution_count": null,
      "outputs": []
    },
    {
      "cell_type": "code",
      "source": [
        "# Run this cell to find data type of newly created file.\n",
        "\n",
        "!file hip_extracted.data"
      ],
      "metadata": {
        "id": "BDPsmIrcFBXs"
      },
      "execution_count": null,
      "outputs": []
    },
    {
      "cell_type": "code",
      "source": [
        "# Run this cell to show first 20 lines of newly created file.\n",
        "\n",
        "!head -20 hip_extracted.data"
      ],
      "metadata": {
        "id": "xUF9-BW7FGBX"
      },
      "execution_count": null,
      "outputs": []
    },
    {
      "cell_type": "markdown",
      "source": [
        "## 6.3 Constructing SQLite database table using Python script"
      ],
      "metadata": {
        "id": "SPJ2qGgkFMn0"
      }
    },
    {
      "cell_type": "code",
      "source": [
        "# Run this cell to show the source code of the script.\n",
        "\n",
        "!cat appy_s06_03_03.py"
      ],
      "metadata": {
        "id": "zvSoO-IBFKzm"
      },
      "execution_count": null,
      "outputs": []
    },
    {
      "cell_type": "code",
      "source": [
        "# Run this cell to execute the script.\n",
        "\n",
        "!python3.12 appy_s06_03_03.py"
      ],
      "metadata": {
        "id": "Cdoa-OvOFUFm"
      },
      "execution_count": null,
      "outputs": []
    },
    {
      "cell_type": "code",
      "source": [
        "# Run this cell to find newly created file.\n",
        "\n",
        "!ls -lF hip*"
      ],
      "metadata": {
        "id": "jGhUciLJFaHe"
      },
      "execution_count": null,
      "outputs": []
    },
    {
      "cell_type": "code",
      "source": [
        "# Run this cell to find existing tables in file \"hip.db\".\n",
        "\n",
        "!sqlite3 hip.db \".tables\""
      ],
      "metadata": {
        "id": "tebAPqnZFgH2"
      },
      "execution_count": null,
      "outputs": []
    },
    {
      "cell_type": "code",
      "source": [
        "# Run this cell to show the structure of the table in file \"hip.db\".\n",
        "\n",
        "!sqlite3 hip.db \".schema --indent\""
      ],
      "metadata": {
        "id": "dzDzAjMVFoac"
      },
      "execution_count": null,
      "outputs": []
    },
    {
      "cell_type": "markdown",
      "source": [
        "## 6.4 Adding data to table using Python script"
      ],
      "metadata": {
        "id": "Q0disjlFF0ld"
      }
    },
    {
      "cell_type": "code",
      "source": [
        "# Run this cell to show the source code of the script.\n",
        "\n",
        "!cat appy_s06_03_04.py"
      ],
      "metadata": {
        "id": "zoVEOtTKFvMh"
      },
      "execution_count": null,
      "outputs": []
    },
    {
      "cell_type": "code",
      "source": [
        "# Run this cell to execute the script.\n",
        "\n",
        "!python3.12 appy_s06_03_04.py"
      ],
      "metadata": {
        "id": "cyHFhvxdGUpv"
      },
      "execution_count": null,
      "outputs": []
    },
    {
      "cell_type": "code",
      "source": [
        "# Run this cell to show file size of the database file.\n",
        "\n",
        "!ls -lF hip.db"
      ],
      "metadata": {
        "id": "KOg_K_z7GZF2"
      },
      "execution_count": null,
      "outputs": []
    },
    {
      "cell_type": "code",
      "source": [
        "# Run this cell to check the database file by executing SQLite command-line program.\n",
        "\n",
        "!sqlite3 --header --column hip.db \"select hip, ra_hms, dec_dms, vmag, bv, parallax, sptype from hip where hip <= 10 order by hip;\""
      ],
      "metadata": {
        "id": "2KMjPxSiGlS7"
      },
      "execution_count": null,
      "outputs": []
    },
    {
      "cell_type": "code",
      "source": [
        "# Run this cell to check the database file by executing SQLite command-line program.\n",
        "\n",
        "!sqlite3 --header --column hip.db \"select hip, ra_hms, dec_dms, vmag, bv, parallax, sptype from hip where parallax > 300 order by parallax desc;\""
      ],
      "metadata": {
        "id": "HXGaIk4XGwVB"
      },
      "execution_count": null,
      "outputs": []
    },
    {
      "cell_type": "markdown",
      "source": [
        "## 6.5 Trying a SQL query using Python script"
      ],
      "metadata": {
        "id": "qX7go_bWG9DT"
      }
    },
    {
      "cell_type": "code",
      "source": [
        "# Run this cell to show the source code of the script.\n",
        "\n",
        "!cat appy_s06_03_05.py"
      ],
      "metadata": {
        "id": "R24e1rmmG4oW"
      },
      "execution_count": null,
      "outputs": []
    },
    {
      "cell_type": "code",
      "source": [
        "# Run this cell to execute the script.\n",
        "\n",
        "!python3.12 appy_s06_03_05.py"
      ],
      "metadata": {
        "id": "fIyNp5PlHEka"
      },
      "execution_count": null,
      "outputs": []
    },
    {
      "cell_type": "markdown",
      "source": [
        "## 6.6 Trying one more SQL query"
      ],
      "metadata": {
        "id": "-k-RLyecHMu9"
      }
    },
    {
      "cell_type": "code",
      "source": [
        "# Run this cell to show the source code of the script.\n",
        "\n",
        "!cat appy_s06_03_06.py"
      ],
      "metadata": {
        "id": "nHZwLJ_pHJU_"
      },
      "execution_count": null,
      "outputs": []
    },
    {
      "cell_type": "code",
      "source": [
        "# Run this cell to execute the script.\n",
        "\n",
        "!python3.12 appy_s06_03_06.py"
      ],
      "metadata": {
        "id": "ckRmoIDAHZrp"
      },
      "execution_count": null,
      "outputs": []
    },
    {
      "cell_type": "markdown",
      "source": [
        "# 7. Making asteroid orbit database"
      ],
      "metadata": {
        "id": "vRvsPwrzHguA"
      }
    },
    {
      "cell_type": "markdown",
      "source": [
        "## 7.1 Downloading asteroid orbit catalogue"
      ],
      "metadata": {
        "id": "tcuQ-7F5HkQQ"
      }
    },
    {
      "cell_type": "code",
      "source": [
        "# Run this cell to show the source code of the script.\n",
        "\n",
        "!cat appy_s06_04_00.py"
      ],
      "metadata": {
        "id": "EqTbe4BBHeUI"
      },
      "execution_count": null,
      "outputs": []
    },
    {
      "cell_type": "code",
      "source": [
        "# Run this cell to execute the script.\n",
        "\n",
        "!python3.12 appy_s06_04_00.py"
      ],
      "metadata": {
        "id": "BqfigIAPHsC3"
      },
      "execution_count": null,
      "outputs": []
    },
    {
      "cell_type": "markdown",
      "source": [
        "## 7.2 Reading asteroid orbit catalogue"
      ],
      "metadata": {
        "id": "135Tp9hfH8Nn"
      }
    },
    {
      "cell_type": "code",
      "source": [
        "# Run this cell to show the source code of the script.\n",
        "\n",
        "!cat appy_s06_04_01.py"
      ],
      "metadata": {
        "id": "VXTSt5gsHwg2"
      },
      "execution_count": null,
      "outputs": []
    },
    {
      "cell_type": "code",
      "source": [
        "# Run this cell to execute the script.\n",
        "\n",
        "!python3.12 appy_s06_04_01.py > mpcorb_extracted.data"
      ],
      "metadata": {
        "id": "-l6HMVX8ICur"
      },
      "execution_count": null,
      "outputs": []
    },
    {
      "cell_type": "code",
      "source": [
        "# Run this cell to find newly created file.\n",
        "\n",
        "!ls -lF mpcorb*"
      ],
      "metadata": {
        "id": "PfT1K0rhIHKv"
      },
      "execution_count": null,
      "outputs": []
    },
    {
      "cell_type": "code",
      "source": [
        "# Run this cell to find data type of newly created file.\n",
        "\n",
        "!file mpcorb_extracted.data"
      ],
      "metadata": {
        "id": "Z6C4TMzuIi1o"
      },
      "execution_count": null,
      "outputs": []
    },
    {
      "cell_type": "code",
      "source": [
        "# Run this cell to show first 20 lines of newly created file.\n",
        "\n",
        "!head -20 mpcorb_extracted.data"
      ],
      "metadata": {
        "id": "Q9xsRtFuInbo"
      },
      "execution_count": null,
      "outputs": []
    },
    {
      "cell_type": "markdown",
      "source": [
        "## 7.3 Constructing asteroid orbit database"
      ],
      "metadata": {
        "id": "K4sS8EF_IwSQ"
      }
    },
    {
      "cell_type": "code",
      "source": [
        "# Run this cell to show the source code of the script.\n",
        "\n",
        "!cat appy_s06_04_02.py"
      ],
      "metadata": {
        "id": "sG0T2Ha7IsrB"
      },
      "execution_count": null,
      "outputs": []
    },
    {
      "cell_type": "code",
      "source": [
        "# Run this cell to execute the script.\n",
        "\n",
        "!python3.12 appy_s06_04_02.py"
      ],
      "metadata": {
        "id": "MdIFACyqI2ra"
      },
      "execution_count": null,
      "outputs": []
    },
    {
      "cell_type": "code",
      "source": [
        "# Run this cell to find newly created file.\n",
        "\n",
        "!ls -lF mpcorb*"
      ],
      "metadata": {
        "id": "qNcIx4U4I7Ox"
      },
      "execution_count": null,
      "outputs": []
    },
    {
      "cell_type": "code",
      "source": [
        "# Run this cell to find data type of newly created file.\n",
        "\n",
        "!file mpcorb.db"
      ],
      "metadata": {
        "id": "e1we4cSZJIrk"
      },
      "execution_count": null,
      "outputs": []
    },
    {
      "cell_type": "code",
      "source": [
        "# Run this cell to find existing tables in file \"mpcorb.db\" using SQLite command-line program.\n",
        "\n",
        "!sqlite3 mpcorb.db \".tables\""
      ],
      "metadata": {
        "id": "gamE0wbkJZw_"
      },
      "execution_count": null,
      "outputs": []
    },
    {
      "cell_type": "code",
      "source": [
        "# Run this cell to show the structure of the table.\n",
        "\n",
        "!sqlite3 mpcorb.db \".schema --indent\""
      ],
      "metadata": {
        "id": "tPUJYgAQJkuZ"
      },
      "execution_count": null,
      "outputs": []
    },
    {
      "cell_type": "code",
      "source": [
        "# Run this cell to try a SQL query using SQLite command-line program.\n",
        "\n",
        "!sqlite3 --header --column mpcorb.db \"select designation,name,a,e,i,absmag from mpcorb where absmag < 3 and absmag > -100 order by absmag;\""
      ],
      "metadata": {
        "id": "t3wpVtTtJpRD"
      },
      "execution_count": null,
      "outputs": []
    },
    {
      "cell_type": "markdown",
      "source": [
        "## 7.4 Trying some SQL queries"
      ],
      "metadata": {
        "id": "_oOtp1J3J2im"
      }
    },
    {
      "cell_type": "code",
      "source": [
        "# Run this cell to show the source code of the script.\n",
        "\n",
        "!cat appy_s06_04_03.py"
      ],
      "metadata": {
        "id": "GAQNCWcRJzI0"
      },
      "execution_count": null,
      "outputs": []
    },
    {
      "cell_type": "code",
      "source": [
        "# Run this cell to execute the script.\n",
        "\n",
        "!python3.12 appy_s06_04_03.py"
      ],
      "metadata": {
        "id": "6hyu5C_EJ87v"
      },
      "execution_count": null,
      "outputs": []
    },
    {
      "cell_type": "code",
      "source": [
        "# Run this cell to show the source code of the script.\n",
        "\n",
        "!cat appy_s06_04_04.py"
      ],
      "metadata": {
        "id": "Zw9nT6XTKJvu"
      },
      "execution_count": null,
      "outputs": []
    },
    {
      "cell_type": "code",
      "source": [
        "# Run this cell to execute the script.\n",
        "\n",
        "!python3.12 appy_s06_04_04.py"
      ],
      "metadata": {
        "id": "j4Vv-fqJKJvw"
      },
      "execution_count": null,
      "outputs": []
    },
    {
      "cell_type": "markdown",
      "source": [
        "# End of this notebook"
      ],
      "metadata": {
        "id": "VugG_XAjxPfo"
      }
    },
    {
      "cell_type": "code",
      "source": [],
      "metadata": {
        "id": "nCyPhewprWMi"
      },
      "execution_count": null,
      "outputs": []
    }
  ]
}