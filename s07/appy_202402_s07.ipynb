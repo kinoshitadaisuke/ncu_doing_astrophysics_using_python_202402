{
  "nbformat": 4,
  "nbformat_minor": 0,
  "metadata": {
    "colab": {
      "provenance": []
    },
    "kernelspec": {
      "name": "python3",
      "display_name": "Python 3"
    },
    "language_info": {
      "name": "python"
    }
  },
  "cells": [
    {
      "cell_type": "markdown",
      "source": [
        "# Doing Astrophysics using Python\n",
        "\n",
        "- \"Doing Astrophysics using Python\"\n",
        "  - Instructor: Kinoshita Daisuke\n",
        "  - Classroom: S4-202\n",
        "  - Time: from 18:00 to 20:50 on Tuesday\n",
        "  - Semester: 2nd semester of academic year 2023\n",
        "    - from February 2024 to June 2024\n",
        "  - Course web page: https://s3b.astro.ncu.edu.tw/appy_202402/\n",
        "  - GitHub repository: https://github.com/kinoshitadaisuke/ncu_doing_astrophysics_using_python_202402\n"
      ],
      "metadata": {
        "id": "gGzI83b9PmnI"
      }
    },
    {
      "cell_type": "markdown",
      "source": [
        "# Session 07: \"Astronomical calculations using Astropy\"\n",
        "\n",
        "## 02 April 2024\n",
        "\n",
        "## Instructor: Kinoshita Daisuke"
      ],
      "metadata": {
        "id": "Q7MvlbrC_tne"
      }
    },
    {
      "cell_type": "markdown",
      "source": [
        "# 0. Installation of Python interpreter"
      ],
      "metadata": {
        "id": "T_y7rto6Q5P8"
      }
    },
    {
      "cell_type": "code",
      "source": [
        "# Run this cell to install Python 3.12\n",
        "\n",
        "!apt update\n",
        "!apt upgrade\n",
        "!apt install python3.12 python3.12-dev python3.12-distutils libpython3.12-dev\n",
        "!update-alternatives --install /usr/bin/python3 python3 /usr/bin/python3.12 1\n",
        "!wget https://bootstrap.pypa.io/get-pip.py\n",
        "!python3.12 get-pip.py"
      ],
      "metadata": {
        "id": "MzmVLkC8QyGZ"
      },
      "execution_count": null,
      "outputs": []
    },
    {
      "cell_type": "code",
      "source": [
        "# Run this cell to check the version of Python interpreter and pip command\n",
        "\n",
        "!python --version\n",
        "!pip --version"
      ],
      "metadata": {
        "id": "Vx-JYTyp3NMU"
      },
      "execution_count": null,
      "outputs": []
    },
    {
      "cell_type": "code",
      "source": [
        "# Run this cell to install external Python packages.\n",
        "\n",
        "!pip install matplotlib numpy astropy astroquery jplephem importlib_metadata"
      ],
      "metadata": {
        "id": "7V5dCLx5F9QU"
      },
      "execution_count": null,
      "outputs": []
    },
    {
      "cell_type": "markdown",
      "source": [
        "# 1. Downloading a set of sample Python scripts for this course"
      ],
      "metadata": {
        "id": "zvKZRFoF8A8k"
      }
    },
    {
      "cell_type": "code",
      "source": [
        "# Run this cell to download a set of sample Python scripts for this course.\n",
        "\n",
        "!git clone https://github.com/kinoshitadaisuke/ncu_doing_astrophysics_using_python_202402.git"
      ],
      "metadata": {
        "id": "itsUqwak4-z4"
      },
      "execution_count": null,
      "outputs": []
    },
    {
      "cell_type": "code",
      "source": [
        "# Run this cell to move to the directory for this session.\n",
        "\n",
        "%cd ncu_doing_astrophysics_using_python_202402/s07"
      ],
      "metadata": {
        "id": "bREyxIP08RZG"
      },
      "execution_count": null,
      "outputs": []
    },
    {
      "cell_type": "code",
      "source": [
        "# Run this cell to show a list of files for this session.\n",
        "\n",
        "!ls"
      ],
      "metadata": {
        "id": "fKxQ_X-D8dRN"
      },
      "execution_count": null,
      "outputs": []
    },
    {
      "cell_type": "markdown",
      "source": [
        "# 2. About Astropy"
      ],
      "metadata": {
        "id": "MRw6p-ItGph4"
      }
    },
    {
      "cell_type": "markdown",
      "source": [
        "## 2.1 Online resources of Astropy\n",
        "\n",
        "Visit Astropy web page and read the documents to learn about Astropy.\n",
        "\n",
        "- Astropy: https://www.astropy.org/"
      ],
      "metadata": {
        "id": "LbJksTYJHPmI"
      }
    },
    {
      "cell_type": "markdown",
      "source": [
        "# 2.2 Importing Astropy\n"
      ],
      "metadata": {
        "id": "D_CtQ66kHLly"
      }
    },
    {
      "cell_type": "code",
      "source": [
        "# Run this cell to import Astropy.\n",
        "\n",
        "# importing Astropy module\n",
        "import astropy"
      ],
      "metadata": {
        "id": "FW3v7nFRG1wW"
      },
      "execution_count": null,
      "outputs": []
    },
    {
      "cell_type": "markdown",
      "source": [
        "# 3. Constants"
      ],
      "metadata": {
        "id": "-WLvuxtkHjce"
      }
    },
    {
      "cell_type": "markdown",
      "source": [
        "## 3.1 Speed of light"
      ],
      "metadata": {
        "id": "ErCYFGpcHldo"
      }
    },
    {
      "cell_type": "code",
      "source": [
        "# Run this cell to show the source code of the script.\n",
        "\n",
        "!cat appy_s07_00_00.py"
      ],
      "metadata": {
        "id": "mqUVyi-jHoKi"
      },
      "execution_count": null,
      "outputs": []
    },
    {
      "cell_type": "code",
      "source": [
        "# Run this cell to execute the script.\n",
        "\n",
        "!python3.12 appy_s07_00_00.py"
      ],
      "metadata": {
        "id": "W1sReBuAHgvv"
      },
      "execution_count": null,
      "outputs": []
    },
    {
      "cell_type": "code",
      "source": [
        "# Run this cell to show the source code of the script.\n",
        "\n",
        "!cat appy_s07_00_01.py"
      ],
      "metadata": {
        "id": "xKoUgXIiH2Zn"
      },
      "execution_count": null,
      "outputs": []
    },
    {
      "cell_type": "code",
      "source": [
        "# Run this cell to execute the script.\n",
        "\n",
        "!python3.12 appy_s07_00_01.py"
      ],
      "metadata": {
        "id": "Xt2MU1P6H2Zs"
      },
      "execution_count": null,
      "outputs": []
    },
    {
      "cell_type": "code",
      "source": [
        "# Run this cell to show the source code of the script.\n",
        "\n",
        "!cat appy_s07_00_02.py"
      ],
      "metadata": {
        "id": "Csj-J5qtH3j-"
      },
      "execution_count": null,
      "outputs": []
    },
    {
      "cell_type": "code",
      "source": [
        "# Run this cell to execute the script.\n",
        "\n",
        "!python3.12 appy_s07_00_02.py"
      ],
      "metadata": {
        "id": "95tfuhkfH3kA"
      },
      "execution_count": null,
      "outputs": []
    },
    {
      "cell_type": "markdown",
      "source": [
        "## 3.2 Some more physical constants"
      ],
      "metadata": {
        "id": "onTnwXn0H6RC"
      }
    },
    {
      "cell_type": "code",
      "source": [
        "# Run this cell to show the source code of the script.\n",
        "\n",
        "!cat appy_s07_00_03.py"
      ],
      "metadata": {
        "id": "-OJyjVPUH_iH"
      },
      "execution_count": null,
      "outputs": []
    },
    {
      "cell_type": "code",
      "source": [
        "# Run this cell to execute the script.\n",
        "\n",
        "!python3.12 appy_s07_00_03.py"
      ],
      "metadata": {
        "id": "9BTKsMrsH_iL"
      },
      "execution_count": null,
      "outputs": []
    },
    {
      "cell_type": "markdown",
      "source": [
        "## 3.3 Astronomical unit and parsec"
      ],
      "metadata": {
        "id": "t40a5OJSIB4R"
      }
    },
    {
      "cell_type": "code",
      "source": [
        "# Run this cell to show the source code of the script.\n",
        "\n",
        "!cat appy_s07_00_04.py"
      ],
      "metadata": {
        "id": "H0lKFmMIIEb6"
      },
      "execution_count": null,
      "outputs": []
    },
    {
      "cell_type": "code",
      "source": [
        "# Run this cell to execute the script.\n",
        "\n",
        "!python3.12 appy_s07_00_04.py"
      ],
      "metadata": {
        "id": "Gr7ttejSIEb7"
      },
      "execution_count": null,
      "outputs": []
    },
    {
      "cell_type": "markdown",
      "source": [
        "## 3.4 Solar mass, Jupiter mass, and Earth mass"
      ],
      "metadata": {
        "id": "0rHJ5dIfIGcl"
      }
    },
    {
      "cell_type": "code",
      "source": [
        "# Run this cell to show the source code of the script.\n",
        "\n",
        "!cat appy_s07_00_05.py"
      ],
      "metadata": {
        "id": "ReU_3u2eILXo"
      },
      "execution_count": null,
      "outputs": []
    },
    {
      "cell_type": "code",
      "source": [
        "# Run this cell to execute the script.\n",
        "\n",
        "!python3.12 appy_s07_00_05.py"
      ],
      "metadata": {
        "id": "QgEvX5QvILXr"
      },
      "execution_count": null,
      "outputs": []
    },
    {
      "cell_type": "markdown",
      "source": [
        "## 3.5 Solar radius, Jupiter radius, and Earth radius"
      ],
      "metadata": {
        "id": "BKY5xETwIOBI"
      }
    },
    {
      "cell_type": "code",
      "source": [
        "# Run this cell to show the source code of the script.\n",
        "\n",
        "!cat appy_s07_00_06.py"
      ],
      "metadata": {
        "id": "qgKjjxDtISbP"
      },
      "execution_count": null,
      "outputs": []
    },
    {
      "cell_type": "code",
      "source": [
        "# Run this cell to execute the script.\n",
        "\n",
        "!python3.12 appy_s07_00_06.py"
      ],
      "metadata": {
        "id": "NcHhNQo_ISbS"
      },
      "execution_count": null,
      "outputs": []
    },
    {
      "cell_type": "markdown",
      "source": [
        "## 3.6 Solar luminosity"
      ],
      "metadata": {
        "id": "f12umLUqIVEI"
      }
    },
    {
      "cell_type": "code",
      "source": [
        "# Run this cell to show the source code of the script.\n",
        "\n",
        "!cat appy_s07_00_07.py"
      ],
      "metadata": {
        "id": "I3Q9twLwIXUH"
      },
      "execution_count": null,
      "outputs": []
    },
    {
      "cell_type": "code",
      "source": [
        "# Run this cell to execute the script.\n",
        "\n",
        "!python3.12 appy_s07_00_07.py"
      ],
      "metadata": {
        "id": "gy4J8utPIXUL"
      },
      "execution_count": null,
      "outputs": []
    },
    {
      "cell_type": "markdown",
      "source": [
        "# 4. Units"
      ],
      "metadata": {
        "id": "WA4duNgfIdSD"
      }
    },
    {
      "cell_type": "markdown",
      "source": [
        "## 4.1 Playing with \"Quantity\" object"
      ],
      "metadata": {
        "id": "weSSXAtzIfXk"
      }
    },
    {
      "cell_type": "code",
      "source": [
        "# Run this cell to show the source code of the script.\n",
        "\n",
        "!cat appy_s07_01_00.py"
      ],
      "metadata": {
        "id": "VEm0mq3mIjsn"
      },
      "execution_count": null,
      "outputs": []
    },
    {
      "cell_type": "code",
      "source": [
        "# Run this cell to execute the script.\n",
        "\n",
        "!python3.12 appy_s07_01_00.py"
      ],
      "metadata": {
        "id": "KXV4YPG2Ijsp"
      },
      "execution_count": null,
      "outputs": []
    },
    {
      "cell_type": "code",
      "source": [
        "# Run this cell to show the source code of the script.\n",
        "\n",
        "!cat appy_s07_01_01.py"
      ],
      "metadata": {
        "id": "XDpKgqlxIo6A"
      },
      "execution_count": null,
      "outputs": []
    },
    {
      "cell_type": "code",
      "source": [
        "# Run this cell to execute the script.\n",
        "\n",
        "!python3.12 appy_s07_01_01.py"
      ],
      "metadata": {
        "id": "GOi___IQIo6F"
      },
      "execution_count": null,
      "outputs": []
    },
    {
      "cell_type": "code",
      "source": [
        "# Run this cell to show the source code of the script.\n",
        "\n",
        "!cat appy_s07_01_02.py"
      ],
      "metadata": {
        "id": "b7K14gBmIrXQ"
      },
      "execution_count": null,
      "outputs": []
    },
    {
      "cell_type": "code",
      "source": [
        "# Run this cell to execute the script.\n",
        "\n",
        "!python3.12 appy_s07_01_02.py"
      ],
      "metadata": {
        "id": "0HamaHI9IrXT"
      },
      "execution_count": null,
      "outputs": []
    },
    {
      "cell_type": "code",
      "source": [
        "# Run this cell to show the source code of the script.\n",
        "\n",
        "!cat appy_s07_01_03.py"
      ],
      "metadata": {
        "id": "SaYSBr6pIu6R"
      },
      "execution_count": null,
      "outputs": []
    },
    {
      "cell_type": "code",
      "source": [
        "# Run this cell to execute the script.\n",
        "\n",
        "!python3.12 appy_s07_01_03.py"
      ],
      "metadata": {
        "id": "gZJN2bIAIu6W"
      },
      "execution_count": null,
      "outputs": []
    },
    {
      "cell_type": "code",
      "source": [
        "# Run this cell to show the source code of the script.\n",
        "\n",
        "!cat appy_s07_01_04.py"
      ],
      "metadata": {
        "id": "JLo3pFw8IxoC"
      },
      "execution_count": null,
      "outputs": []
    },
    {
      "cell_type": "code",
      "source": [
        "# Run this cell to execute the script.\n",
        "\n",
        "!python3.12 appy_s07_01_04.py"
      ],
      "metadata": {
        "id": "tTVYETyxIxoF"
      },
      "execution_count": null,
      "outputs": []
    },
    {
      "cell_type": "code",
      "source": [
        "# Run this cell to show the source code of the script.\n",
        "\n",
        "!cat appy_s07_01_05.py"
      ],
      "metadata": {
        "id": "TkvUo7ZKI0ZK"
      },
      "execution_count": null,
      "outputs": []
    },
    {
      "cell_type": "code",
      "source": [
        "# Run this cell to execute the script.\n",
        "\n",
        "!python3.12 appy_s07_01_05.py"
      ],
      "metadata": {
        "id": "uJwyCKq5I0ZM"
      },
      "execution_count": null,
      "outputs": []
    },
    {
      "cell_type": "code",
      "source": [
        "# Run this cell to show the source code of the script.\n",
        "\n",
        "!cat appy_s07_01_06.py"
      ],
      "metadata": {
        "id": "rRjUYgYsI1uw"
      },
      "execution_count": null,
      "outputs": []
    },
    {
      "cell_type": "code",
      "source": [
        "# Run this cell to execute the script.\n",
        "\n",
        "!python3.12 appy_s07_01_06.py"
      ],
      "metadata": {
        "id": "q4nnFbZbI1uy"
      },
      "execution_count": null,
      "outputs": []
    },
    {
      "cell_type": "markdown",
      "source": [
        "## 4.2 Conversion from wavelength into frequency"
      ],
      "metadata": {
        "id": "kfbs7rNHI4Tw"
      }
    },
    {
      "cell_type": "code",
      "source": [
        "# Run this cell to show the source code of the script.\n",
        "\n",
        "!cat appy_s07_01_07.py"
      ],
      "metadata": {
        "id": "OR9M0lWbI7wu"
      },
      "execution_count": null,
      "outputs": []
    },
    {
      "cell_type": "code",
      "source": [
        "# Run this cell to execute the script.\n",
        "\n",
        "!python3.12 appy_s07_01_07.py"
      ],
      "metadata": {
        "id": "fig8EDG_I7wx"
      },
      "execution_count": null,
      "outputs": []
    },
    {
      "cell_type": "markdown",
      "source": [
        "## 4.3 Conversion from frequency into wavelength"
      ],
      "metadata": {
        "id": "sZEydWNGI-qK"
      }
    },
    {
      "cell_type": "code",
      "source": [
        "# Run this cell to show the source code of the script.\n",
        "\n",
        "!cat appy_s07_01_08.py"
      ],
      "metadata": {
        "id": "yfDdj6beJCfR"
      },
      "execution_count": null,
      "outputs": []
    },
    {
      "cell_type": "code",
      "source": [
        "# Run this cell to execute the script.\n",
        "\n",
        "!python3.12 appy_s07_01_08.py"
      ],
      "metadata": {
        "id": "FJKcHq7VJCfU"
      },
      "execution_count": null,
      "outputs": []
    },
    {
      "cell_type": "code",
      "source": [],
      "metadata": {
        "id": "RIga6ZwZHw4I"
      },
      "execution_count": null,
      "outputs": []
    },
    {
      "cell_type": "markdown",
      "source": [
        "## 4.4 Calculating energy of a photon for a given wavelength"
      ],
      "metadata": {
        "id": "AMWOZ0cvJF_5"
      }
    },
    {
      "cell_type": "code",
      "source": [
        "# Run this cell to show the source code of the script.\n",
        "\n",
        "!cat appy_s07_01_09.py"
      ],
      "metadata": {
        "id": "zzDhhPD_JJ8Y"
      },
      "execution_count": null,
      "outputs": []
    },
    {
      "cell_type": "code",
      "source": [
        "# Run this cell to execute the script.\n",
        "\n",
        "!python3.12 appy_s07_01_09.py"
      ],
      "metadata": {
        "id": "0S7t1mWDJJ8b"
      },
      "execution_count": null,
      "outputs": []
    },
    {
      "cell_type": "markdown",
      "source": [
        "## 4.5 Calculation of velocity from amount of Doppler shift"
      ],
      "metadata": {
        "id": "g3sbWADPJQQE"
      }
    },
    {
      "cell_type": "code",
      "source": [
        "# Run this cell to show the source code of the script.\n",
        "\n",
        "!cat appy_s07_01_10.py"
      ],
      "metadata": {
        "id": "jnncoaeRJU74"
      },
      "execution_count": null,
      "outputs": []
    },
    {
      "cell_type": "code",
      "source": [
        "# Run this cell to execute the script.\n",
        "\n",
        "!python3.12 appy_s07_01_10.py"
      ],
      "metadata": {
        "id": "-ENlJ79HJU78"
      },
      "execution_count": null,
      "outputs": []
    },
    {
      "cell_type": "markdown",
      "source": [
        "## 4.6 Calculation of equivalent temperature"
      ],
      "metadata": {
        "id": "B5eLeZulJXpl"
      }
    },
    {
      "cell_type": "code",
      "source": [
        "# Run this cell to show the source code of the script.\n",
        "\n",
        "!cat appy_s07_01_11.py"
      ],
      "metadata": {
        "id": "NTk0JYtiJag4"
      },
      "execution_count": null,
      "outputs": []
    },
    {
      "cell_type": "code",
      "source": [
        "# Run this cell to execute the script.\n",
        "\n",
        "!python3.12 appy_s07_01_11.py"
      ],
      "metadata": {
        "id": "yDOn7FShJag6"
      },
      "execution_count": null,
      "outputs": []
    },
    {
      "cell_type": "markdown",
      "source": [
        "## 4.7 Conversion between mass and energy"
      ],
      "metadata": {
        "id": "hMBXHfS5JglT"
      }
    },
    {
      "cell_type": "code",
      "source": [
        "# Run this cell to show the source code of the script.\n",
        "\n",
        "!cat appy_s07_01_12.py"
      ],
      "metadata": {
        "id": "Qjdzul94Jjl4"
      },
      "execution_count": null,
      "outputs": []
    },
    {
      "cell_type": "code",
      "source": [
        "# Run this cell to execute the script.\n",
        "\n",
        "!python3.12 appy_s07_01_12.py"
      ],
      "metadata": {
        "id": "hgcjSp5PJjl7"
      },
      "execution_count": null,
      "outputs": []
    },
    {
      "cell_type": "markdown",
      "source": [
        "## 4.8 Conversion between magnitude and flux density"
      ],
      "metadata": {
        "id": "V9NXyBeGJnp5"
      }
    },
    {
      "cell_type": "code",
      "source": [
        "# Run this cell to show the source code of the script.\n",
        "\n",
        "!cat appy_s07_01_13.py"
      ],
      "metadata": {
        "id": "aqBd1LjiJrSi"
      },
      "execution_count": null,
      "outputs": []
    },
    {
      "cell_type": "code",
      "source": [
        "# Run this cell to execute the script.\n",
        "\n",
        "!python3.12 appy_s07_01_13.py"
      ],
      "metadata": {
        "id": "4iW7IpzMJrSl"
      },
      "execution_count": null,
      "outputs": []
    },
    {
      "cell_type": "markdown",
      "source": [
        "# 5. Astropy's data table"
      ],
      "metadata": {
        "id": "CTTGvATVJuG_"
      }
    },
    {
      "cell_type": "markdown",
      "source": [
        "## 5.1 Making an Astropy table"
      ],
      "metadata": {
        "id": "JHpEVYrZJwgO"
      }
    },
    {
      "cell_type": "code",
      "source": [
        "# Run this cell to show the source code of the script.\n",
        "\n",
        "!cat appy_s07_02_00.py"
      ],
      "metadata": {
        "id": "AyUcIXrSJ2mx"
      },
      "execution_count": null,
      "outputs": []
    },
    {
      "cell_type": "code",
      "source": [
        "# Run this cell to execute the script.\n",
        "\n",
        "!python3.12 appy_s07_02_00.py"
      ],
      "metadata": {
        "id": "stChCMn7J2m1"
      },
      "execution_count": null,
      "outputs": []
    },
    {
      "cell_type": "code",
      "source": [
        "# Run this cell to show the source code of the script.\n",
        "\n",
        "!cat appy_s07_02_01.py"
      ],
      "metadata": {
        "id": "r0U8a34fJ7bR"
      },
      "execution_count": null,
      "outputs": []
    },
    {
      "cell_type": "code",
      "source": [
        "# Run this cell to execute the script.\n",
        "\n",
        "!python3.12 appy_s07_02_01.py"
      ],
      "metadata": {
        "id": "iJgNune9J7bX"
      },
      "execution_count": null,
      "outputs": []
    },
    {
      "cell_type": "code",
      "source": [
        "# Run this cell to show the source code of the script.\n",
        "\n",
        "!cat appy_s07_02_02.py"
      ],
      "metadata": {
        "id": "GTcmxa5iJ-fB"
      },
      "execution_count": null,
      "outputs": []
    },
    {
      "cell_type": "code",
      "source": [
        "# Run this cell to execute the script.\n",
        "\n",
        "!python3.12 appy_s07_02_02.py"
      ],
      "metadata": {
        "id": "HO35MT0ZJ-fE"
      },
      "execution_count": null,
      "outputs": []
    },
    {
      "cell_type": "code",
      "source": [
        "# Run this cell to show the source code of the script.\n",
        "\n",
        "!cat appy_s07_02_03.py"
      ],
      "metadata": {
        "id": "S55zW6P9KBdP"
      },
      "execution_count": null,
      "outputs": []
    },
    {
      "cell_type": "code",
      "source": [
        "# Run this cell to execute the script.\n",
        "\n",
        "!python3.12 appy_s07_02_03.py"
      ],
      "metadata": {
        "id": "HLSniNQWKBdY"
      },
      "execution_count": null,
      "outputs": []
    },
    {
      "cell_type": "markdown",
      "source": [
        "## 5.2 The other ways to make an Astropy table"
      ],
      "metadata": {
        "id": "QnNt3n6EKEwP"
      }
    },
    {
      "cell_type": "code",
      "source": [
        "# Run this cell to show the source code of the script.\n",
        "\n",
        "!cat appy_s07_02_04.py"
      ],
      "metadata": {
        "id": "zH6DFRwnKI-R"
      },
      "execution_count": null,
      "outputs": []
    },
    {
      "cell_type": "code",
      "source": [
        "# Run this cell to execute the script.\n",
        "\n",
        "!python3.12 appy_s07_02_04.py"
      ],
      "metadata": {
        "id": "HodiTOA9KI-U"
      },
      "execution_count": null,
      "outputs": []
    },
    {
      "cell_type": "code",
      "source": [
        "# Run this cell to show the source code of the script.\n",
        "\n",
        "!cat appy_s07_02_05.py"
      ],
      "metadata": {
        "id": "JlgirAt9KL8i"
      },
      "execution_count": null,
      "outputs": []
    },
    {
      "cell_type": "code",
      "source": [
        "# Run this cell to execute the script.\n",
        "\n",
        "!python3.12 appy_s07_02_05.py"
      ],
      "metadata": {
        "id": "e8rE39jpKL8m"
      },
      "execution_count": null,
      "outputs": []
    },
    {
      "cell_type": "markdown",
      "source": [
        "## 5.3 Accessing to elements of Astropy table"
      ],
      "metadata": {
        "id": "vrpnLDNoKPf7"
      }
    },
    {
      "cell_type": "code",
      "source": [
        "# Run this cell to show the source code of the script.\n",
        "\n",
        "!cat appy_s07_02_06.py"
      ],
      "metadata": {
        "id": "kNdp-OEuKTXA"
      },
      "execution_count": null,
      "outputs": []
    },
    {
      "cell_type": "code",
      "source": [
        "# Run this cell to execute the script.\n",
        "\n",
        "!python3.12 appy_s07_02_06.py"
      ],
      "metadata": {
        "id": "Btv2jGjQKTXD"
      },
      "execution_count": null,
      "outputs": []
    },
    {
      "cell_type": "code",
      "source": [
        "# Run this cell to show the source code of the script.\n",
        "\n",
        "!cat appy_s07_02_07.py"
      ],
      "metadata": {
        "id": "Jbs6GzfsKWy8"
      },
      "execution_count": null,
      "outputs": []
    },
    {
      "cell_type": "code",
      "source": [
        "# Run this cell to execute the script.\n",
        "\n",
        "!python3.12 appy_s07_02_07.py"
      ],
      "metadata": {
        "id": "0_t56XE_KWzN"
      },
      "execution_count": null,
      "outputs": []
    },
    {
      "cell_type": "code",
      "source": [
        "# Run this cell to show the source code of the script.\n",
        "\n",
        "!cat appy_s07_02_08.py"
      ],
      "metadata": {
        "id": "rCxUDOmsKapD"
      },
      "execution_count": null,
      "outputs": []
    },
    {
      "cell_type": "code",
      "source": [
        "# Run this cell to execute the script.\n",
        "\n",
        "!python3.12 appy_s07_02_08.py"
      ],
      "metadata": {
        "id": "5ycIIo7eKapH"
      },
      "execution_count": null,
      "outputs": []
    },
    {
      "cell_type": "markdown",
      "source": [
        "## 5.4 Reading VOTable file and making an Astropy table"
      ],
      "metadata": {
        "id": "n3EHs3IeKfRU"
      }
    },
    {
      "cell_type": "code",
      "source": [
        "# Run this cell to show the source code of the script.\n",
        "\n",
        "!cat appy_s07_02_09.py"
      ],
      "metadata": {
        "id": "H5DVO_O6KjdW"
      },
      "execution_count": null,
      "outputs": []
    },
    {
      "cell_type": "code",
      "source": [
        "# Run this cell to execute the script.\n",
        "\n",
        "!python3.12 appy_s07_02_09.py"
      ],
      "metadata": {
        "id": "ytzQCXzkKjdq"
      },
      "execution_count": null,
      "outputs": []
    },
    {
      "cell_type": "code",
      "source": [
        "# Run this cell to show the source code of the script.\n",
        "\n",
        "!cat appy_s07_02_10.py"
      ],
      "metadata": {
        "id": "hiu177Z8K-Xr"
      },
      "execution_count": null,
      "outputs": []
    },
    {
      "cell_type": "code",
      "source": [
        "# Run this cell to execute the script.\n",
        "\n",
        "!python3.12 appy_s07_02_10.py"
      ],
      "metadata": {
        "id": "1VFHXNpsK-Xz"
      },
      "execution_count": null,
      "outputs": []
    },
    {
      "cell_type": "code",
      "source": [
        "# Run this cell to show the source code of the script.\n",
        "\n",
        "!cat appy_s07_02_11.py"
      ],
      "metadata": {
        "id": "b8vgq72sLBTq"
      },
      "execution_count": null,
      "outputs": []
    },
    {
      "cell_type": "code",
      "source": [
        "# Run this cell to execute the script.\n",
        "\n",
        "!python3.12 appy_s07_02_11.py"
      ],
      "metadata": {
        "id": "d56z47mCLBTs"
      },
      "execution_count": null,
      "outputs": []
    },
    {
      "cell_type": "code",
      "source": [
        "# Run this cell to show the source code of the script.\n",
        "\n",
        "!cat appy_s07_02_12.py"
      ],
      "metadata": {
        "id": "a-ukb9yvLLkV"
      },
      "execution_count": null,
      "outputs": []
    },
    {
      "cell_type": "code",
      "source": [
        "# Run this cell to execute the script.\n",
        "\n",
        "!python3.12 appy_s07_02_12.py"
      ],
      "metadata": {
        "id": "U8NZFxomLLkl"
      },
      "execution_count": null,
      "outputs": []
    },
    {
      "cell_type": "code",
      "source": [
        "# Run this cell to show the source code of the script.\n",
        "\n",
        "!cat appy_s07_02_13.py"
      ],
      "metadata": {
        "id": "Zw_eKQlgLPMF"
      },
      "execution_count": null,
      "outputs": []
    },
    {
      "cell_type": "code",
      "source": [
        "# Run this cell to execute the script.\n",
        "\n",
        "!python3.12 appy_s07_02_13.py"
      ],
      "metadata": {
        "id": "iAm6i81QLPMT"
      },
      "execution_count": null,
      "outputs": []
    },
    {
      "cell_type": "code",
      "source": [
        "# Run this cell to show the source code of the script.\n",
        "\n",
        "!cat appy_s07_02_14.py"
      ],
      "metadata": {
        "id": "XGdmOkvYLR_0"
      },
      "execution_count": null,
      "outputs": []
    },
    {
      "cell_type": "code",
      "source": [
        "# Run this cell to execute the script.\n",
        "\n",
        "!python3.12 appy_s07_02_14.py"
      ],
      "metadata": {
        "id": "0hP0swiaLSAH"
      },
      "execution_count": null,
      "outputs": []
    },
    {
      "cell_type": "markdown",
      "source": [
        "# 6. Date and time"
      ],
      "metadata": {
        "id": "dEkjJs6MLVRG"
      }
    },
    {
      "cell_type": "markdown",
      "source": [
        "## 6.1 Constructing Astropy's Time object"
      ],
      "metadata": {
        "id": "y6bzDMm5LXCo"
      }
    },
    {
      "cell_type": "code",
      "source": [
        "# Run this cell to show the source code of the script.\n",
        "\n",
        "!cat appy_s07_03_00.py"
      ],
      "metadata": {
        "id": "KJvg0NcgLb37"
      },
      "execution_count": null,
      "outputs": []
    },
    {
      "cell_type": "code",
      "source": [
        "# Run this cell to execute the script.\n",
        "\n",
        "!python3.12 appy_s07_03_00.py"
      ],
      "metadata": {
        "id": "xLymXLrALb4A"
      },
      "execution_count": null,
      "outputs": []
    },
    {
      "cell_type": "markdown",
      "source": [
        "## 6.2 Calculating JD and MJD for a given date/time"
      ],
      "metadata": {
        "id": "V_9nx3vxLggc"
      }
    },
    {
      "cell_type": "code",
      "source": [
        "# Run this cell to show the source code of the script.\n",
        "\n",
        "!cat appy_s07_03_01.py"
      ],
      "metadata": {
        "id": "FcvPkXjyLkL9"
      },
      "execution_count": null,
      "outputs": []
    },
    {
      "cell_type": "code",
      "source": [
        "# Run this cell to execute the script.\n",
        "\n",
        "!python3.12 appy_s07_03_01.py"
      ],
      "metadata": {
        "id": "7471l5PBLkMO"
      },
      "execution_count": null,
      "outputs": []
    },
    {
      "cell_type": "markdown",
      "source": [
        "## 6.3 Knowing current date/time"
      ],
      "metadata": {
        "id": "2MBas2ITLneO"
      }
    },
    {
      "cell_type": "code",
      "source": [
        "# Run this cell to show the source code of the script.\n",
        "\n",
        "!cat appy_s07_03_02.py"
      ],
      "metadata": {
        "id": "GFiQkmv3LqLl"
      },
      "execution_count": null,
      "outputs": []
    },
    {
      "cell_type": "code",
      "source": [
        "# Run this cell to execute the script.\n",
        "\n",
        "!python3.12 appy_s07_03_02.py"
      ],
      "metadata": {
        "id": "htJOxM3yLqLq"
      },
      "execution_count": null,
      "outputs": []
    },
    {
      "cell_type": "code",
      "source": [
        "# Run this cell to show the source code of the script.\n",
        "\n",
        "!cat appy_s07_03_03.py"
      ],
      "metadata": {
        "id": "XMca6FYALt1C"
      },
      "execution_count": null,
      "outputs": []
    },
    {
      "cell_type": "code",
      "source": [
        "# Run this cell to execute the script.\n",
        "\n",
        "!python3.12 appy_s07_03_03.py"
      ],
      "metadata": {
        "id": "lny9n4E-Lt1F"
      },
      "execution_count": null,
      "outputs": []
    },
    {
      "cell_type": "markdown",
      "source": [
        "## 6.4 Calculation of date/time"
      ],
      "metadata": {
        "id": "oO_vHn5MLwPn"
      }
    },
    {
      "cell_type": "code",
      "source": [
        "# Run this cell to show the source code of the script.\n",
        "\n",
        "!cat appy_s07_03_04.py"
      ],
      "metadata": {
        "id": "j2Lvt2xjLy4o"
      },
      "execution_count": null,
      "outputs": []
    },
    {
      "cell_type": "code",
      "source": [
        "# Run this cell to execute the script.\n",
        "\n",
        "!python3.12 appy_s07_03_04.py"
      ],
      "metadata": {
        "id": "zNxuwQTZLy4u"
      },
      "execution_count": null,
      "outputs": []
    },
    {
      "cell_type": "code",
      "source": [
        "# Run this cell to show the source code of the script.\n",
        "\n",
        "!cat appy_s07_03_05.py"
      ],
      "metadata": {
        "id": "zCEkl3MrL1pM"
      },
      "execution_count": null,
      "outputs": []
    },
    {
      "cell_type": "code",
      "source": [
        "# Run this cell to execute the script.\n",
        "\n",
        "!python3.12 appy_s07_03_05.py"
      ],
      "metadata": {
        "id": "QxrKVbKbL1pP"
      },
      "execution_count": null,
      "outputs": []
    },
    {
      "cell_type": "code",
      "source": [
        "# Run this cell to show the source code of the script.\n",
        "\n",
        "!cat appy_s07_03_06.py"
      ],
      "metadata": {
        "id": "ps7pkZJ2L4iC"
      },
      "execution_count": null,
      "outputs": []
    },
    {
      "cell_type": "code",
      "source": [
        "# Run this cell to execute the script.\n",
        "\n",
        "!python3.12 appy_s07_03_06.py"
      ],
      "metadata": {
        "id": "JynPcsrHL4iF"
      },
      "execution_count": null,
      "outputs": []
    },
    {
      "cell_type": "code",
      "source": [
        "# Run this cell to show the source code of the script.\n",
        "\n",
        "!cat appy_s07_03_07.py"
      ],
      "metadata": {
        "id": "HG9vlcqxL8Yt"
      },
      "execution_count": null,
      "outputs": []
    },
    {
      "cell_type": "code",
      "source": [
        "# Run this cell to execute the script.\n",
        "\n",
        "!python3.12 appy_s07_03_07.py"
      ],
      "metadata": {
        "id": "R6v5hLcpL8Y0"
      },
      "execution_count": null,
      "outputs": []
    },
    {
      "cell_type": "markdown",
      "source": [
        "## 6.5 Calculation of local sidereal time"
      ],
      "metadata": {
        "id": "a4vjjxHnMBVB"
      }
    },
    {
      "cell_type": "code",
      "source": [
        "# Run this cell to show the source code of the script.\n",
        "\n",
        "!cat appy_s07_03_08.py"
      ],
      "metadata": {
        "id": "o7_fsNenMFP_"
      },
      "execution_count": null,
      "outputs": []
    },
    {
      "cell_type": "code",
      "source": [
        "# Run this cell to execute the script.\n",
        "\n",
        "!python3.12 appy_s07_03_08.py"
      ],
      "metadata": {
        "id": "zVSuEY_FMFQD"
      },
      "execution_count": null,
      "outputs": []
    },
    {
      "cell_type": "markdown",
      "source": [
        "## 6.6 Timezone"
      ],
      "metadata": {
        "id": "200kT4NwMKeQ"
      }
    },
    {
      "cell_type": "code",
      "source": [
        "# Run this cell to show the source code of the script.\n",
        "\n",
        "!cat appy_s07_03_09.py"
      ],
      "metadata": {
        "id": "dmJeZ2gfMM3j"
      },
      "execution_count": null,
      "outputs": []
    },
    {
      "cell_type": "code",
      "source": [
        "# Run this cell to execute the script.\n",
        "\n",
        "!python3.12 appy_s07_03_09.py"
      ],
      "metadata": {
        "id": "p6da9Q_8MM3s"
      },
      "execution_count": null,
      "outputs": []
    },
    {
      "cell_type": "markdown",
      "source": [
        "# 7. Astronomical coordinates"
      ],
      "metadata": {
        "id": "7PWZB5M_MQEk"
      }
    },
    {
      "cell_type": "markdown",
      "source": [
        "## 7.1 Constructing \"SkyCoord\" object"
      ],
      "metadata": {
        "id": "0sGAwyLjMSkf"
      }
    },
    {
      "cell_type": "code",
      "source": [
        "# Run this cell to show the source code of the script.\n",
        "\n",
        "!cat appy_s07_04_00.py"
      ],
      "metadata": {
        "id": "531v2rSKMWhJ"
      },
      "execution_count": null,
      "outputs": []
    },
    {
      "cell_type": "code",
      "source": [
        "# Run this cell to execute the script.\n",
        "\n",
        "!python3.12 appy_s07_04_00.py"
      ],
      "metadata": {
        "id": "EfX0baY1MWha"
      },
      "execution_count": null,
      "outputs": []
    },
    {
      "cell_type": "code",
      "source": [
        "# Run this cell to show the source code of the script.\n",
        "\n",
        "!cat appy_s07_04_01.py"
      ],
      "metadata": {
        "id": "YeTZxhrJMbUd"
      },
      "execution_count": null,
      "outputs": []
    },
    {
      "cell_type": "code",
      "source": [
        "# Run this cell to execute the script.\n",
        "\n",
        "!python3.12 appy_s07_04_01.py"
      ],
      "metadata": {
        "id": "GMkhl-fZMbUt"
      },
      "execution_count": null,
      "outputs": []
    },
    {
      "cell_type": "markdown",
      "source": [
        "## 7.2 Getting the position of the Sun"
      ],
      "metadata": {
        "id": "TiGDsOAUMeLT"
      }
    },
    {
      "cell_type": "code",
      "source": [
        "# Run this cell to show the source code of the script.\n",
        "\n",
        "!cat appy_s07_04_02.py"
      ],
      "metadata": {
        "id": "MgTuaIemMhTx"
      },
      "execution_count": null,
      "outputs": []
    },
    {
      "cell_type": "code",
      "source": [
        "# Run this cell to execute the script.\n",
        "\n",
        "!python3.12 appy_s07_04_02.py"
      ],
      "metadata": {
        "id": "URgyD1W1MhT2"
      },
      "execution_count": null,
      "outputs": []
    },
    {
      "cell_type": "markdown",
      "source": [
        "## 7.3 Getting the position of the Moon"
      ],
      "metadata": {
        "id": "vfu2NTSQMlzb"
      }
    },
    {
      "cell_type": "code",
      "source": [
        "# Run this cell to show the source code of the script.\n",
        "\n",
        "!cat appy_s07_04_03.py"
      ],
      "metadata": {
        "id": "3el9189jMoh2"
      },
      "execution_count": null,
      "outputs": []
    },
    {
      "cell_type": "code",
      "source": [
        "# Run this cell to execute the script.\n",
        "\n",
        "!python3.12 appy_s07_04_03.py"
      ],
      "metadata": {
        "id": "7mk0gyFSMoh6"
      },
      "execution_count": null,
      "outputs": []
    },
    {
      "cell_type": "markdown",
      "source": [
        "## 7.4 Conversion between coordinate systems"
      ],
      "metadata": {
        "id": "HTCsyfWPMrGY"
      }
    },
    {
      "cell_type": "code",
      "source": [
        "# Run this cell to show the source code of the script.\n",
        "\n",
        "!cat appy_s07_04_04.py"
      ],
      "metadata": {
        "id": "fmTGpEgLMyWR"
      },
      "execution_count": null,
      "outputs": []
    },
    {
      "cell_type": "code",
      "source": [
        "# Run this cell to execute the script.\n",
        "\n",
        "!python3.12 appy_s07_04_04.py"
      ],
      "metadata": {
        "id": "KOiU_RzmMyWk"
      },
      "execution_count": null,
      "outputs": []
    },
    {
      "cell_type": "code",
      "source": [
        "# Run this cell to show the source code of the script.\n",
        "\n",
        "!cat appy_s07_04_05.py"
      ],
      "metadata": {
        "id": "SYeGtjrRM1TG"
      },
      "execution_count": null,
      "outputs": []
    },
    {
      "cell_type": "code",
      "source": [
        "# Run this cell to execute the script.\n",
        "\n",
        "!python3.12 appy_s07_04_05.py"
      ],
      "metadata": {
        "id": "tQEKm_i6M1TI"
      },
      "execution_count": null,
      "outputs": []
    },
    {
      "cell_type": "code",
      "source": [
        "# Run this cell to show the source code of the script.\n",
        "\n",
        "!cat appy_s07_04_06.py"
      ],
      "metadata": {
        "id": "MHsIwOQRM5Fe"
      },
      "execution_count": null,
      "outputs": []
    },
    {
      "cell_type": "code",
      "source": [
        "# Run this cell to execute the script.\n",
        "\n",
        "!python3.12 appy_s07_04_06.py"
      ],
      "metadata": {
        "id": "a2LshHV0M5Fv"
      },
      "execution_count": null,
      "outputs": []
    },
    {
      "cell_type": "code",
      "source": [
        "# Run this cell to show the source code of the script.\n",
        "\n",
        "!cat appy_s07_04_07.py"
      ],
      "metadata": {
        "id": "TvLW3dZGM_Fv"
      },
      "execution_count": null,
      "outputs": []
    },
    {
      "cell_type": "code",
      "source": [
        "# Run this cell to execute the script.\n",
        "\n",
        "!python3.12 appy_s07_04_07.py"
      ],
      "metadata": {
        "id": "S01CEBNrM_GD"
      },
      "execution_count": null,
      "outputs": []
    },
    {
      "cell_type": "code",
      "source": [
        "# Run this cell to show the source code of the script.\n",
        "\n",
        "!cat appy_s07_04_08.py"
      ],
      "metadata": {
        "id": "M33Sdo2uNCVV"
      },
      "execution_count": null,
      "outputs": []
    },
    {
      "cell_type": "code",
      "source": [
        "# Run this cell to execute the script.\n",
        "\n",
        "!python3.12 appy_s07_04_08.py"
      ],
      "metadata": {
        "id": "Ve6t2BsWNCVk"
      },
      "execution_count": null,
      "outputs": []
    },
    {
      "cell_type": "markdown",
      "source": [
        "## 7.5 Angular distance between two celestial objects on the sky"
      ],
      "metadata": {
        "id": "eUYFTy6XNGuq"
      }
    },
    {
      "cell_type": "code",
      "source": [
        "# Run this cell to show the source code of the script.\n",
        "\n",
        "!cat appy_s07_04_09.py"
      ],
      "metadata": {
        "id": "7jdZ9EqBNKvk"
      },
      "execution_count": null,
      "outputs": []
    },
    {
      "cell_type": "code",
      "source": [
        "# Run this cell to execute the script.\n",
        "\n",
        "!python3.12 appy_s07_04_09.py"
      ],
      "metadata": {
        "id": "P5yqTABYNKvo"
      },
      "execution_count": null,
      "outputs": []
    },
    {
      "cell_type": "code",
      "source": [
        "# Run this cell to show the source code of the script.\n",
        "\n",
        "!cat appy_s07_04_10.py"
      ],
      "metadata": {
        "id": "RavKwh3aNOle"
      },
      "execution_count": null,
      "outputs": []
    },
    {
      "cell_type": "code",
      "source": [
        "# Run this cell to execute the script.\n",
        "\n",
        "!python3.12 appy_s07_04_10.py"
      ],
      "metadata": {
        "id": "PYHWZtOKNOln"
      },
      "execution_count": null,
      "outputs": []
    },
    {
      "cell_type": "markdown",
      "source": [
        "# 8. Sigma clipping"
      ],
      "metadata": {
        "id": "pAYndudUNTnO"
      }
    },
    {
      "cell_type": "markdown",
      "source": [
        "## 8.1 Generating a set of random numbers"
      ],
      "metadata": {
        "id": "aL6uLGJcNVjQ"
      }
    },
    {
      "cell_type": "code",
      "source": [
        "# Run this cell to show the source code of the script.\n",
        "\n",
        "!cat appy_s07_05_00.py"
      ],
      "metadata": {
        "id": "lSRAxp2CNZQu"
      },
      "execution_count": null,
      "outputs": []
    },
    {
      "cell_type": "code",
      "source": [
        "# Run this cell to execute the script.\n",
        "\n",
        "!python3.12 appy_s07_05_00.py"
      ],
      "metadata": {
        "id": "mcjZxsUyNZQ4"
      },
      "execution_count": null,
      "outputs": []
    },
    {
      "cell_type": "code",
      "source": [
        "# Run this cell to show the source code of the script.\n",
        "\n",
        "!cat appy_s07_05_01.py"
      ],
      "metadata": {
        "id": "RRlgVP3INdNn"
      },
      "execution_count": null,
      "outputs": []
    },
    {
      "cell_type": "code",
      "source": [
        "# Run this cell to execute the script.\n",
        "\n",
        "!python3.12 appy_s07_05_01.py"
      ],
      "metadata": {
        "id": "IRrfILgkNdNt"
      },
      "execution_count": null,
      "outputs": []
    },
    {
      "cell_type": "code",
      "source": [
        "# Run this cell to show the source code of the script.\n",
        "\n",
        "!cat appy_s07_05_02.py"
      ],
      "metadata": {
        "id": "UXZBvuEkNgJ4"
      },
      "execution_count": null,
      "outputs": []
    },
    {
      "cell_type": "code",
      "source": [
        "# Run this cell to execute the script.\n",
        "\n",
        "!python3.12 appy_s07_05_02.py"
      ],
      "metadata": {
        "id": "-ufgO9ZINgJ9"
      },
      "execution_count": null,
      "outputs": []
    },
    {
      "cell_type": "code",
      "source": [
        "# Run this cell to show the source code of the script.\n",
        "\n",
        "!cat appy_s07_05_03.py"
      ],
      "metadata": {
        "id": "59X6zUFSNiw_"
      },
      "execution_count": null,
      "outputs": []
    },
    {
      "cell_type": "code",
      "source": [
        "# Run this cell to execute the script.\n",
        "\n",
        "!python3.12 appy_s07_05_03.py"
      ],
      "metadata": {
        "id": "0Jx2OYa5NixL"
      },
      "execution_count": null,
      "outputs": []
    },
    {
      "cell_type": "code",
      "source": [
        "# Run this cell to show the source code of the script.\n",
        "\n",
        "!cat appy_s07_05_04.py"
      ],
      "metadata": {
        "id": "Rdg92OgdNlkP"
      },
      "execution_count": null,
      "outputs": []
    },
    {
      "cell_type": "code",
      "source": [
        "# Run this cell to execute the script.\n",
        "\n",
        "!python3.12 appy_s07_05_04.py"
      ],
      "metadata": {
        "id": "A8IRovJUNlkS"
      },
      "execution_count": null,
      "outputs": []
    },
    {
      "cell_type": "markdown",
      "source": [
        "# 9. FITS file I/O"
      ],
      "metadata": {
        "id": "LUz6V66XNph4"
      }
    },
    {
      "cell_type": "markdown",
      "source": [
        "## 9.1 Using name resolver"
      ],
      "metadata": {
        "id": "sz_IwpDtNscQ"
      }
    },
    {
      "cell_type": "code",
      "source": [
        "# Run this cell to show the source code of the script.\n",
        "\n",
        "!cat appy_s07_06_00.py"
      ],
      "metadata": {
        "id": "89-MogaZNxHP"
      },
      "execution_count": null,
      "outputs": []
    },
    {
      "cell_type": "code",
      "source": [
        "# Run this cell to execute the script.\n",
        "\n",
        "!python3.12 appy_s07_06_00.py"
      ],
      "metadata": {
        "id": "Hmc5ZenCNxHW"
      },
      "execution_count": null,
      "outputs": []
    },
    {
      "cell_type": "code",
      "source": [
        "# Run this cell to show the source code of the script.\n",
        "\n",
        "!cat appy_s07_06_01.py"
      ],
      "metadata": {
        "id": "W8UQP6qHOFjb"
      },
      "execution_count": null,
      "outputs": []
    },
    {
      "cell_type": "code",
      "source": [
        "# Run this cell to execute the script.\n",
        "\n",
        "!python3.12 appy_s07_06_01.py"
      ],
      "metadata": {
        "id": "wHIJIe9BOFjt"
      },
      "execution_count": null,
      "outputs": []
    },
    {
      "cell_type": "code",
      "source": [
        "# Run this cell to show the source code of the script.\n",
        "\n",
        "!cat appy_s07_06_02.py"
      ],
      "metadata": {
        "id": "Zs3Xs-OROIyK"
      },
      "execution_count": null,
      "outputs": []
    },
    {
      "cell_type": "code",
      "source": [
        "# Run this cell to execute the script.\n",
        "\n",
        "!python3.12 appy_s07_06_02.py"
      ],
      "metadata": {
        "id": "FWeH8q0FOIyZ"
      },
      "execution_count": null,
      "outputs": []
    },
    {
      "cell_type": "markdown",
      "source": [
        "## 9.2 Downloading FITS image"
      ],
      "metadata": {
        "id": "qo_vFSQFOMRQ"
      }
    },
    {
      "cell_type": "code",
      "source": [
        "# Run this cell to show the source code of the script.\n",
        "\n",
        "!cat appy_s07_06_03.py"
      ],
      "metadata": {
        "id": "YKBFWdZgOQOx"
      },
      "execution_count": null,
      "outputs": []
    },
    {
      "cell_type": "code",
      "source": [
        "# Run this cell to execute the script.\n",
        "\n",
        "!python3.12 appy_s07_06_03.py"
      ],
      "metadata": {
        "id": "0m5kxSUjOQO3"
      },
      "execution_count": null,
      "outputs": []
    },
    {
      "cell_type": "markdown",
      "source": [
        "## 9.3 Reading a FITS file"
      ],
      "metadata": {
        "id": "0uOlUJhDOr0j"
      }
    },
    {
      "cell_type": "code",
      "source": [
        "# Run this cell to show the source code of the script.\n",
        "\n",
        "!cat appy_s07_06_04.py"
      ],
      "metadata": {
        "id": "WsZ-ZoHbOvNf"
      },
      "execution_count": null,
      "outputs": []
    },
    {
      "cell_type": "code",
      "source": [
        "# Run this cell to execute the script.\n",
        "\n",
        "!python3.12 appy_s07_06_04.py"
      ],
      "metadata": {
        "id": "iLmRFiTmOvNk"
      },
      "execution_count": null,
      "outputs": []
    },
    {
      "cell_type": "code",
      "source": [
        "# Run this cell to display an image.\n",
        "\n",
        "# importing IPython module\n",
        "import IPython.display\n",
        "\n",
        "# displaying an image\n",
        "IPython.display.Image ('m3.png')"
      ],
      "metadata": {
        "id": "79e8j6acJIyX"
      },
      "execution_count": null,
      "outputs": []
    },
    {
      "cell_type": "code",
      "source": [
        "# Run this cell to show the source code of the script.\n",
        "\n",
        "!cat appy_s07_06_05.py"
      ],
      "metadata": {
        "id": "75YB8kPUO5uk"
      },
      "execution_count": null,
      "outputs": []
    },
    {
      "cell_type": "code",
      "source": [
        "# Run this cell to execute the script.\n",
        "\n",
        "!python3.12 appy_s07_06_05.py"
      ],
      "metadata": {
        "id": "CMsM6GYlO5uz"
      },
      "execution_count": null,
      "outputs": []
    },
    {
      "cell_type": "code",
      "source": [
        "# Run this cell to display an image.\n",
        "\n",
        "# importing IPython module\n",
        "import IPython.display\n",
        "\n",
        "# displaying an image\n",
        "IPython.display.Image ('m3_inferno.png')"
      ],
      "metadata": {
        "id": "4dVNJzGNO--e"
      },
      "execution_count": null,
      "outputs": []
    },
    {
      "cell_type": "markdown",
      "source": [
        "## 9.4 Downloading a FITS file of M66 and creating a PNG image"
      ],
      "metadata": {
        "id": "7YoGwpICPCt1"
      }
    },
    {
      "cell_type": "code",
      "source": [
        "# Run this cell to show the source code of the script.\n",
        "\n",
        "!cat appy_s07_06_06.py"
      ],
      "metadata": {
        "id": "R63bk6k5PJWW"
      },
      "execution_count": null,
      "outputs": []
    },
    {
      "cell_type": "code",
      "source": [
        "# Run this cell to execute the script.\n",
        "\n",
        "!python3.12 appy_s07_06_06.py"
      ],
      "metadata": {
        "id": "Q4w4H7QbPJWY"
      },
      "execution_count": null,
      "outputs": []
    },
    {
      "cell_type": "code",
      "source": [
        "# Run this cell to display an image.\n",
        "\n",
        "# importing IPython module\n",
        "import IPython.display\n",
        "\n",
        "# displaying an image\n",
        "IPython.display.Image ('m66.png')"
      ],
      "metadata": {
        "id": "VVsj2XKKPJWZ"
      },
      "execution_count": null,
      "outputs": []
    },
    {
      "cell_type": "markdown",
      "source": [
        "## 9.4 Downloading a FITS file of M57 and creating a PNG image"
      ],
      "metadata": {
        "id": "yyAqh2rKPSPO"
      }
    },
    {
      "cell_type": "code",
      "source": [
        "# Run this cell to show the source code of the script.\n",
        "\n",
        "!cat appy_s07_06_07.py"
      ],
      "metadata": {
        "id": "VKfZPCrdPSPP"
      },
      "execution_count": null,
      "outputs": []
    },
    {
      "cell_type": "code",
      "source": [
        "# Run this cell to execute the script.\n",
        "\n",
        "!python3.12 appy_s07_06_07.py"
      ],
      "metadata": {
        "id": "CXa9ZUgmPSPR"
      },
      "execution_count": null,
      "outputs": []
    },
    {
      "cell_type": "code",
      "source": [
        "# Run this cell to display an image.\n",
        "\n",
        "# importing IPython module\n",
        "import IPython.display\n",
        "\n",
        "# displaying an image\n",
        "IPython.display.Image ('m57.png')"
      ],
      "metadata": {
        "id": "ulqidTENPSPS"
      },
      "execution_count": null,
      "outputs": []
    },
    {
      "cell_type": "code",
      "source": [
        "# Run this cell to show the source code of the script.\n",
        "\n",
        "!cat appy_s07_06_08.py"
      ],
      "metadata": {
        "id": "mCRiob2OPie-"
      },
      "execution_count": null,
      "outputs": []
    },
    {
      "cell_type": "code",
      "source": [
        "# Run this cell to execute the script.\n",
        "\n",
        "!python3.12 appy_s07_06_08.py"
      ],
      "metadata": {
        "id": "Z-ehMAflPifF"
      },
      "execution_count": null,
      "outputs": []
    },
    {
      "cell_type": "code",
      "source": [
        "# Run this cell to display an image.\n",
        "\n",
        "# importing IPython module\n",
        "import IPython.display\n",
        "\n",
        "# displaying an image\n",
        "IPython.display.Image ('m57_norm1.png')"
      ],
      "metadata": {
        "id": "z6hQYcvtPifG"
      },
      "execution_count": null,
      "outputs": []
    },
    {
      "cell_type": "markdown",
      "source": [
        "## 9.6 Downloading a FITS file of Horsehead Nebula"
      ],
      "metadata": {
        "id": "vLaDTFEuPvRq"
      }
    },
    {
      "cell_type": "code",
      "source": [
        "# Run this cell to show the source code of the script.\n",
        "\n",
        "!cat appy_s07_06_09.py"
      ],
      "metadata": {
        "id": "UwmOsrOYP0ef"
      },
      "execution_count": null,
      "outputs": []
    },
    {
      "cell_type": "code",
      "source": [
        "# Run this cell to execute the script.\n",
        "\n",
        "!python3.12 appy_s07_06_09.py"
      ],
      "metadata": {
        "id": "zkv9_DWDP0ej"
      },
      "execution_count": null,
      "outputs": []
    },
    {
      "cell_type": "code",
      "source": [
        "# Run this cell to display an image.\n",
        "\n",
        "# importing IPython module\n",
        "import IPython.display\n",
        "\n",
        "# displaying an image\n",
        "IPython.display.Image ('horsehead.png')"
      ],
      "metadata": {
        "id": "lfMJOPwdP0em"
      },
      "execution_count": null,
      "outputs": []
    },
    {
      "cell_type": "markdown",
      "source": [
        "# End of this notebook"
      ],
      "metadata": {
        "id": "QOUfxyglP9MJ"
      }
    },
    {
      "cell_type": "code",
      "source": [],
      "metadata": {
        "id": "qzcZ3HqLOnAR"
      },
      "execution_count": null,
      "outputs": []
    }
  ]
}